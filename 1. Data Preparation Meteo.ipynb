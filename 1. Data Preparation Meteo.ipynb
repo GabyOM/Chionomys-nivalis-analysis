{
 "cells": [
  {
   "cell_type": "markdown",
   "metadata": {},
   "source": [
    "## Dati Meteo\n",
    "### Claudia Gabriela Ochoa Martinez"
   ]
  },
  {
   "cell_type": "markdown",
   "metadata": {},
   "source": [
    "### Loading Data\n",
    "#### I dati relativi alle precipitazioni, temperature sono stati reperiti dal Centro Funzionale - Regione autonoma della Valle D'aosta \n",
    "##### https://cf.regione.vda.it/ // Scheda stazione meteo \"Cogne - Grand Crot\"\n",
    "##### Questi dati sono serviti a rilevare la temperatura e precipitazioni al momento di ogni occasione di controllo delle trappole, i file sono stati salvati sulla directory in formato .CSV dopo essere stati elaborati utilizzando la metodologia Tidy data su Excel"
   ]
  },
  {
   "cell_type": "code",
   "execution_count": null,
   "metadata": {},
   "outputs": [],
   "source": [
    "#carichiamo i dati relativi al meteo interessati\n",
    "files_termometro <- list.files(\"Dati-originali\\\\dati_meteo_vda\\\\\", pattern=\".*Grand-Crot-Termometro.csv\", recursive=TRUE, full.names=TRUE)\n",
    "files_pluviometro <- list.files(\"Dati-originali\\\\dati_meteo_vda\\\\\", pattern=\".*Grand-Crot-Pluviometro.csv\", recursive=TRUE, full.names=TRUE)"
   ]
  },
  {
   "cell_type": "code",
   "execution_count": null,
   "metadata": {},
   "outputs": [],
   "source": [
    "precipitazioni_grand_crot <- do.call(rbind, lapply(files_pluviometro, function(x) read.csv(x, dec=\",\", sep=\";\", header = TRUE )))\n",
    "temperatura_grand_crot = do.call(rbind, lapply(files_termometro, function(x) read.csv(x, dec=\",\", sep=\";\", header = TRUE )))"
   ]
  },
  {
   "cell_type": "markdown",
   "metadata": {},
   "source": [
    "##### è stato creato un solo dataframe con relativa data, misurazione precipitazione e temperatura"
   ]
  },
  {
   "cell_type": "code",
   "execution_count": null,
   "metadata": {},
   "outputs": [],
   "source": [
    "#precipitazioni_grand_crot$precipitazioni <- lapply(precipitazioni_grand_crot$precipitazioni, function(x) ifelse(is.na(x),\"-1\",x))\n",
    "#precipitazioni_grand_crot$precipitazioni <- as.character(precipitazioni_grand_crot$precipitazioni)              \n",
    "#temp_prec_grand_crot <- merge(precipitazioni_grand_crot,temperatura_grand_crot, by = \"Data_Ora_R\", all=TRUE)\n",
    "temp_prec_grand_crot <- cbind(precipitazioni_grand_crot,temperatura_grand_crot$temperatura)\n",
    "tail(temp_prec_grand_crot)\n"
   ]
  },
  {
   "cell_type": "markdown",
   "metadata": {},
   "source": [
    "#### le variabili \"Data\", sono state trasformate in un formato riconosciuto da R per semplicare future analisi"
   ]
  },
  {
   "cell_type": "code",
   "execution_count": null,
   "metadata": {},
   "outputs": [],
   "source": [
    "temp_prec_grand_crot[\"Orario_R\"] <- strftime(as.POSIXct(temp_prec_grand_crot$orario, format=\"%d/%m/%Y %H:%M\", tz = \"Europe/Rome\"), format=\"%H:%M\")\n",
    "temp_prec_grand_crot[\"Data_R\"]   <- strftime(as.POSIXct(temp_prec_grand_crot$orario, format=\"%d/%m/%Y %H:%M\", tz = \"Europe/Rome\"), format=\"%d-%m-%Y\")\n",
    "temp_prec_grand_crot <- subset( temp_prec_grand_crot, select = -orario)\n",
    "tail(temp_prec_grand_crot)"
   ]
  },
  {
   "cell_type": "code",
   "execution_count": null,
   "metadata": {},
   "outputs": [],
   "source": [
    "colnames(temp_prec_grand_crot) <- c(\"Precipitazioni\",\"Temperatura.C\",\"Orario.R\",\"Data.R\")\n",
    "tail(temp_prec_grand_crot)"
   ]
  },
  {
   "cell_type": "markdown",
   "metadata": {},
   "source": [
    "#### salviamo il nuovo file .csv nella directory"
   ]
  },
  {
   "cell_type": "code",
   "execution_count": 6,
   "metadata": {},
   "outputs": [],
   "source": [
    "write.csv2(temp_prec_grand_crot,\"Dati-elaborati\\\\Dati_precip-temp_grand-crot.csv\", row.names = FALSE)"
   ]
  },
  {
   "cell_type": "code",
   "execution_count": null,
   "metadata": {},
   "outputs": [],
   "source": []
  }
 ],
 "metadata": {
  "kernelspec": {
   "display_name": "R",
   "language": "R",
   "name": "ir"
  },
  "language_info": {
   "codemirror_mode": "r",
   "file_extension": ".r",
   "mimetype": "text/x-r-source",
   "name": "R",
   "pygments_lexer": "r",
   "version": "3.6.1"
  }
 },
 "nbformat": 4,
 "nbformat_minor": 4
}
