{
 "cells": [
  {
   "cell_type": "markdown",
   "metadata": {},
   "source": [
    "## Dati Meteo\n",
    "### Claudia Gabriela Ochoa Martinez (2020)"
   ]
  },
  {
   "cell_type": "markdown",
   "metadata": {},
   "source": [
    "### Loading Data\n",
    "#### I dati relativi alle precipitazioni, temperature sono stati reperiti dal Centro Funzionale - Regione autonoma della Valle D'aosta \n",
    "##### https://cf.regione.vda.it/ // Scheda stazione meteo \"Cogne - Grand Crot\"\n",
    "##### Questi dati sono serviti a rilevare la temperatura e precipitazioni al momento di ogni occasione di controllo delle trappole, i file sono stati salvati sulla directory in formato .CSV dopo essere stati elaborati utilizzando la metodologia Tidy data su Excel"
   ]
  },
  {
   "cell_type": "code",
   "execution_count": 1,
   "metadata": {},
   "outputs": [],
   "source": [
    "#carichiamo i dati relativi al meteo interessati\n",
    "files_termometro <- list.files(\"Dati-originali\\\\dati_meteo_vda\\\\\", pattern=\".*Grand-Crot-Termometro.csv\", recursive=TRUE, full.names=TRUE)\n",
    "files_pluviometro <- list.files(\"Dati-originali\\\\dati_meteo_vda\\\\\", pattern=\".*Grand-Crot-Pluviometro.csv\", recursive=TRUE, full.names=TRUE)"
   ]
  },
  {
   "cell_type": "code",
   "execution_count": 2,
   "metadata": {},
   "outputs": [],
   "source": [
    "precipitazioni_grand_crot <- do.call(rbind, lapply(files_pluviometro, function(x) read.csv(x, dec=\",\", sep=\";\", header = TRUE )))\n",
    "temperatura_grand_crot = do.call(rbind, lapply(files_termometro, function(x) read.csv(x, dec=\",\", sep=\";\", header = TRUE )))"
   ]
  },
  {
   "cell_type": "markdown",
   "metadata": {},
   "source": [
    "##### è stato creato un solo dataframe con relativa data, misurazione precipitazione e temperatura"
   ]
  },
  {
   "cell_type": "code",
   "execution_count": 3,
   "metadata": {},
   "outputs": [
    {
     "data": {
      "text/html": [
       "<table>\n",
       "<caption>A data.frame: 6 × 3</caption>\n",
       "<thead>\n",
       "\t<tr><th></th><th scope=col>orario</th><th scope=col>precipitazioni</th><th scope=col>temperatura_grand_crot$temperatura</th></tr>\n",
       "\t<tr><th></th><th scope=col>&lt;fct&gt;</th><th scope=col>&lt;dbl&gt;</th><th scope=col>&lt;dbl&gt;</th></tr>\n",
       "</thead>\n",
       "<tbody>\n",
       "\t<tr><th scope=row>87643</th><td>30/09/2018 21:00</td><td>0.2</td><td>1.9</td></tr>\n",
       "\t<tr><th scope=row>87644</th><td>30/09/2018 21:30</td><td>0.0</td><td>2.1</td></tr>\n",
       "\t<tr><th scope=row>87645</th><td>30/09/2018 22:00</td><td>0.0</td><td>1.8</td></tr>\n",
       "\t<tr><th scope=row>87646</th><td>30/09/2018 22:30</td><td>0.0</td><td>2.2</td></tr>\n",
       "\t<tr><th scope=row>87647</th><td>30/09/2018 23:00</td><td>0.0</td><td>2.4</td></tr>\n",
       "\t<tr><th scope=row>87648</th><td>30/09/2018 23:30</td><td>0.0</td><td>2.7</td></tr>\n",
       "</tbody>\n",
       "</table>\n"
      ],
      "text/latex": [
       "A data.frame: 6 × 3\n",
       "\\begin{tabular}{r|lll}\n",
       "  & orario & precipitazioni & temperatura\\_grand\\_crot\\$temperatura\\\\\n",
       "  & <fct> & <dbl> & <dbl>\\\\\n",
       "\\hline\n",
       "\t87643 & 30/09/2018 21:00 & 0.2 & 1.9\\\\\n",
       "\t87644 & 30/09/2018 21:30 & 0.0 & 2.1\\\\\n",
       "\t87645 & 30/09/2018 22:00 & 0.0 & 1.8\\\\\n",
       "\t87646 & 30/09/2018 22:30 & 0.0 & 2.2\\\\\n",
       "\t87647 & 30/09/2018 23:00 & 0.0 & 2.4\\\\\n",
       "\t87648 & 30/09/2018 23:30 & 0.0 & 2.7\\\\\n",
       "\\end{tabular}\n"
      ],
      "text/markdown": [
       "\n",
       "A data.frame: 6 × 3\n",
       "\n",
       "| <!--/--> | orario &lt;fct&gt; | precipitazioni &lt;dbl&gt; | temperatura_grand_crot$temperatura &lt;dbl&gt; |\n",
       "|---|---|---|---|\n",
       "| 87643 | 30/09/2018 21:00 | 0.2 | 1.9 |\n",
       "| 87644 | 30/09/2018 21:30 | 0.0 | 2.1 |\n",
       "| 87645 | 30/09/2018 22:00 | 0.0 | 1.8 |\n",
       "| 87646 | 30/09/2018 22:30 | 0.0 | 2.2 |\n",
       "| 87647 | 30/09/2018 23:00 | 0.0 | 2.4 |\n",
       "| 87648 | 30/09/2018 23:30 | 0.0 | 2.7 |\n",
       "\n"
      ],
      "text/plain": [
       "      orario           precipitazioni temperatura_grand_crot$temperatura\n",
       "87643 30/09/2018 21:00 0.2            1.9                               \n",
       "87644 30/09/2018 21:30 0.0            2.1                               \n",
       "87645 30/09/2018 22:00 0.0            1.8                               \n",
       "87646 30/09/2018 22:30 0.0            2.2                               \n",
       "87647 30/09/2018 23:00 0.0            2.4                               \n",
       "87648 30/09/2018 23:30 0.0            2.7                               "
      ]
     },
     "metadata": {},
     "output_type": "display_data"
    }
   ],
   "source": [
    "#precipitazioni_grand_crot$precipitazioni <- lapply(precipitazioni_grand_crot$precipitazioni, function(x) ifelse(is.na(x),\"-1\",x))\n",
    "#precipitazioni_grand_crot$precipitazioni <- as.character(precipitazioni_grand_crot$precipitazioni)              \n",
    "#temp_prec_grand_crot <- merge(precipitazioni_grand_crot,temperatura_grand_crot, by = \"Data_Ora_R\", all=TRUE)\n",
    "temp_prec_grand_crot <- cbind(precipitazioni_grand_crot,temperatura_grand_crot$temperatura)\n",
    "tail(temp_prec_grand_crot)\n"
   ]
  },
  {
   "cell_type": "markdown",
   "metadata": {},
   "source": [
    "##### Le variabili \"Data\", sono state trasformate in un formato riconosciuto da R per semplicare future analisi"
   ]
  },
  {
   "cell_type": "code",
   "execution_count": 4,
   "metadata": {},
   "outputs": [
    {
     "data": {
      "text/html": [
       "<table>\n",
       "<caption>A data.frame: 6 × 4</caption>\n",
       "<thead>\n",
       "\t<tr><th></th><th scope=col>precipitazioni</th><th scope=col>temperatura_grand_crot$temperatura</th><th scope=col>Orario_R</th><th scope=col>Data_R</th></tr>\n",
       "\t<tr><th></th><th scope=col>&lt;dbl&gt;</th><th scope=col>&lt;dbl&gt;</th><th scope=col>&lt;chr&gt;</th><th scope=col>&lt;chr&gt;</th></tr>\n",
       "</thead>\n",
       "<tbody>\n",
       "\t<tr><th scope=row>87643</th><td>0.2</td><td>1.9</td><td>21:00</td><td>30-09-2018</td></tr>\n",
       "\t<tr><th scope=row>87644</th><td>0.0</td><td>2.1</td><td>21:30</td><td>30-09-2018</td></tr>\n",
       "\t<tr><th scope=row>87645</th><td>0.0</td><td>1.8</td><td>22:00</td><td>30-09-2018</td></tr>\n",
       "\t<tr><th scope=row>87646</th><td>0.0</td><td>2.2</td><td>22:30</td><td>30-09-2018</td></tr>\n",
       "\t<tr><th scope=row>87647</th><td>0.0</td><td>2.4</td><td>23:00</td><td>30-09-2018</td></tr>\n",
       "\t<tr><th scope=row>87648</th><td>0.0</td><td>2.7</td><td>23:30</td><td>30-09-2018</td></tr>\n",
       "</tbody>\n",
       "</table>\n"
      ],
      "text/latex": [
       "A data.frame: 6 × 4\n",
       "\\begin{tabular}{r|llll}\n",
       "  & precipitazioni & temperatura\\_grand\\_crot\\$temperatura & Orario\\_R & Data\\_R\\\\\n",
       "  & <dbl> & <dbl> & <chr> & <chr>\\\\\n",
       "\\hline\n",
       "\t87643 & 0.2 & 1.9 & 21:00 & 30-09-2018\\\\\n",
       "\t87644 & 0.0 & 2.1 & 21:30 & 30-09-2018\\\\\n",
       "\t87645 & 0.0 & 1.8 & 22:00 & 30-09-2018\\\\\n",
       "\t87646 & 0.0 & 2.2 & 22:30 & 30-09-2018\\\\\n",
       "\t87647 & 0.0 & 2.4 & 23:00 & 30-09-2018\\\\\n",
       "\t87648 & 0.0 & 2.7 & 23:30 & 30-09-2018\\\\\n",
       "\\end{tabular}\n"
      ],
      "text/markdown": [
       "\n",
       "A data.frame: 6 × 4\n",
       "\n",
       "| <!--/--> | precipitazioni &lt;dbl&gt; | temperatura_grand_crot$temperatura &lt;dbl&gt; | Orario_R &lt;chr&gt; | Data_R &lt;chr&gt; |\n",
       "|---|---|---|---|---|\n",
       "| 87643 | 0.2 | 1.9 | 21:00 | 30-09-2018 |\n",
       "| 87644 | 0.0 | 2.1 | 21:30 | 30-09-2018 |\n",
       "| 87645 | 0.0 | 1.8 | 22:00 | 30-09-2018 |\n",
       "| 87646 | 0.0 | 2.2 | 22:30 | 30-09-2018 |\n",
       "| 87647 | 0.0 | 2.4 | 23:00 | 30-09-2018 |\n",
       "| 87648 | 0.0 | 2.7 | 23:30 | 30-09-2018 |\n",
       "\n"
      ],
      "text/plain": [
       "      precipitazioni temperatura_grand_crot$temperatura Orario_R Data_R    \n",
       "87643 0.2            1.9                                21:00    30-09-2018\n",
       "87644 0.0            2.1                                21:30    30-09-2018\n",
       "87645 0.0            1.8                                22:00    30-09-2018\n",
       "87646 0.0            2.2                                22:30    30-09-2018\n",
       "87647 0.0            2.4                                23:00    30-09-2018\n",
       "87648 0.0            2.7                                23:30    30-09-2018"
      ]
     },
     "metadata": {},
     "output_type": "display_data"
    }
   ],
   "source": [
    "temp_prec_grand_crot[\"Orario_R\"] <- strftime(as.POSIXct(temp_prec_grand_crot$orario, format=\"%d/%m/%Y %H:%M\", tz = \"Europe/Rome\"), format=\"%H:%M\")\n",
    "temp_prec_grand_crot[\"Data_R\"]   <- strftime(as.POSIXct(temp_prec_grand_crot$orario, format=\"%d/%m/%Y %H:%M\", tz = \"Europe/Rome\"), format=\"%d-%m-%Y\")\n",
    "temp_prec_grand_crot <- subset( temp_prec_grand_crot, select = -orario)\n",
    "tail(temp_prec_grand_crot)"
   ]
  },
  {
   "cell_type": "code",
   "execution_count": 5,
   "metadata": {},
   "outputs": [
    {
     "data": {
      "text/html": [
       "<table>\n",
       "<caption>A data.frame: 6 × 4</caption>\n",
       "<thead>\n",
       "\t<tr><th></th><th scope=col>Precipitazioni</th><th scope=col>Temperatura.C</th><th scope=col>Orario.R</th><th scope=col>Data.R</th></tr>\n",
       "\t<tr><th></th><th scope=col>&lt;dbl&gt;</th><th scope=col>&lt;dbl&gt;</th><th scope=col>&lt;chr&gt;</th><th scope=col>&lt;chr&gt;</th></tr>\n",
       "</thead>\n",
       "<tbody>\n",
       "\t<tr><th scope=row>87643</th><td>0.2</td><td>1.9</td><td>21:00</td><td>30-09-2018</td></tr>\n",
       "\t<tr><th scope=row>87644</th><td>0.0</td><td>2.1</td><td>21:30</td><td>30-09-2018</td></tr>\n",
       "\t<tr><th scope=row>87645</th><td>0.0</td><td>1.8</td><td>22:00</td><td>30-09-2018</td></tr>\n",
       "\t<tr><th scope=row>87646</th><td>0.0</td><td>2.2</td><td>22:30</td><td>30-09-2018</td></tr>\n",
       "\t<tr><th scope=row>87647</th><td>0.0</td><td>2.4</td><td>23:00</td><td>30-09-2018</td></tr>\n",
       "\t<tr><th scope=row>87648</th><td>0.0</td><td>2.7</td><td>23:30</td><td>30-09-2018</td></tr>\n",
       "</tbody>\n",
       "</table>\n"
      ],
      "text/latex": [
       "A data.frame: 6 × 4\n",
       "\\begin{tabular}{r|llll}\n",
       "  & Precipitazioni & Temperatura.C & Orario.R & Data.R\\\\\n",
       "  & <dbl> & <dbl> & <chr> & <chr>\\\\\n",
       "\\hline\n",
       "\t87643 & 0.2 & 1.9 & 21:00 & 30-09-2018\\\\\n",
       "\t87644 & 0.0 & 2.1 & 21:30 & 30-09-2018\\\\\n",
       "\t87645 & 0.0 & 1.8 & 22:00 & 30-09-2018\\\\\n",
       "\t87646 & 0.0 & 2.2 & 22:30 & 30-09-2018\\\\\n",
       "\t87647 & 0.0 & 2.4 & 23:00 & 30-09-2018\\\\\n",
       "\t87648 & 0.0 & 2.7 & 23:30 & 30-09-2018\\\\\n",
       "\\end{tabular}\n"
      ],
      "text/markdown": [
       "\n",
       "A data.frame: 6 × 4\n",
       "\n",
       "| <!--/--> | Precipitazioni &lt;dbl&gt; | Temperatura.C &lt;dbl&gt; | Orario.R &lt;chr&gt; | Data.R &lt;chr&gt; |\n",
       "|---|---|---|---|---|\n",
       "| 87643 | 0.2 | 1.9 | 21:00 | 30-09-2018 |\n",
       "| 87644 | 0.0 | 2.1 | 21:30 | 30-09-2018 |\n",
       "| 87645 | 0.0 | 1.8 | 22:00 | 30-09-2018 |\n",
       "| 87646 | 0.0 | 2.2 | 22:30 | 30-09-2018 |\n",
       "| 87647 | 0.0 | 2.4 | 23:00 | 30-09-2018 |\n",
       "| 87648 | 0.0 | 2.7 | 23:30 | 30-09-2018 |\n",
       "\n"
      ],
      "text/plain": [
       "      Precipitazioni Temperatura.C Orario.R Data.R    \n",
       "87643 0.2            1.9           21:00    30-09-2018\n",
       "87644 0.0            2.1           21:30    30-09-2018\n",
       "87645 0.0            1.8           22:00    30-09-2018\n",
       "87646 0.0            2.2           22:30    30-09-2018\n",
       "87647 0.0            2.4           23:00    30-09-2018\n",
       "87648 0.0            2.7           23:30    30-09-2018"
      ]
     },
     "metadata": {},
     "output_type": "display_data"
    }
   ],
   "source": [
    "colnames(temp_prec_grand_crot) <- c(\"Precipitazioni\",\"Temperatura.C\",\"Orario.R\",\"Data.R\")\n",
    "tail(temp_prec_grand_crot)"
   ]
  },
  {
   "cell_type": "markdown",
   "metadata": {},
   "source": [
    "#### Salviamo il nuovo file .csv nella directory"
   ]
  },
  {
   "cell_type": "code",
   "execution_count": 6,
   "metadata": {},
   "outputs": [],
   "source": [
    "write.csv2(temp_prec_grand_crot,\"Dati-elaborati\\\\Dati_precip-temp_grand-crot.csv\", row.names = FALSE)"
   ]
  }
 ],
 "metadata": {
  "kernelspec": {
   "display_name": "R",
   "language": "R",
   "name": "ir"
  },
  "language_info": {
   "codemirror_mode": "r",
   "file_extension": ".r",
   "mimetype": "text/x-r-source",
   "name": "R",
   "pygments_lexer": "r",
   "version": "3.6.3"
  }
 },
 "nbformat": 4,
 "nbformat_minor": 4
}
