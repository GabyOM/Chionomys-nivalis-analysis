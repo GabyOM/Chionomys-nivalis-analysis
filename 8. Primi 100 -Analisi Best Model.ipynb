{
 "cells": [
  {
   "cell_type": "markdown",
   "metadata": {},
   "source": [
    "# Analisi Best Model prime 100 catture\n",
    "### Claudia Gabriela Ochoa Martinez (2020)\n",
    "\n",
    "#### Analizzando il best model fornito dalla funzione pdredge possiamo allora applicare la funzione predict (pacchetto unmarked) per effettuare ulteriori valutazione sulla bontà del modello. sulle prime 100 catture a partire dal 2015"
   ]
  },
  {
   "cell_type": "code",
   "execution_count": 1,
   "metadata": {},
   "outputs": [
    {
     "name": "stderr",
     "output_type": "stream",
     "text": [
      "Loading required package: lattice\n",
      "\n"
     ]
    }
   ],
   "source": [
    "library(unmarked)"
   ]
  },
  {
   "cell_type": "code",
   "execution_count": 2,
   "metadata": {},
   "outputs": [],
   "source": [
    "myunscale <- function (vals, norm.data, col.ids)  {\n",
    "    cols <- if (missing(col.ids)) 1:NCOL(vals) else col.ids\n",
    "    #if (length(cols) > NCOL(vals)) \n",
    "    #    stop(\"Incorrect dimension of data to unscale.\")\n",
    "    centers <- attr(norm.data, \"scaled:center\")[cols]\n",
    "    scales <- attr(norm.data, \"scaled:scale\")[cols]\n",
    "    unvals <- scale(vals[,cols], center = (-centers/scales), scale = 1/scales)\n",
    "    unvals <- cbind(unvals,vals[,-which(names(vals) %in% cols)])\n",
    "    attr(unvals, \"scaled:center\") <- attr(unvals, \"scaled:scale\") <- NULL\n",
    "    unvals\n",
    "}"
   ]
  },
  {
   "cell_type": "code",
   "execution_count": 3,
   "metadata": {},
   "outputs": [],
   "source": [
    "load('Dati-modelli\\\\10. multimodel_ Occ prime 100.RData')"
   ]
  },
  {
   "cell_type": "code",
   "execution_count": 4,
   "metadata": {},
   "outputs": [
    {
     "name": "stdout",
     "output_type": "stream",
     "text": [
      "\n",
      "Call:\n",
      "occu(formula = ~MDR + orario + precip + temper + vento + 1 ~ \n",
      "    cop_veg_ottavi + dominant + Esp.tr + 1, data = arvicole, \n",
      "    control = list(trace = 0, maxit = 1e+07))\n",
      "\n",
      "Occupancy (logit-scale):\n",
      "                 Estimate    SE     z  P(>|z|)\n",
      "(Intercept)         2.019 0.567  3.56 0.000373\n",
      "cop_veg_ottavi     -0.781 0.380 -2.06 0.039576\n",
      "dominantMuschio     0.248 1.378  0.18 0.857473\n",
      "dominantOther_Sp   -1.247 0.892 -1.40 0.162057\n",
      "Esp.tr              0.794 0.427  1.86 0.063134\n",
      "\n",
      "Detection (logit-scale):\n",
      "            Estimate       SE        z  P(>|z|)\n",
      "(Intercept)  -4.9589 3.44e-01 -14.4214 3.79e-47\n",
      "MDR           0.1419 6.88e-02   2.0611 3.93e-02\n",
      "orarioTr      0.6195 1.51e-01   4.0963 4.20e-05\n",
      "precip      -16.5727 1.59e+03  -0.0105 9.92e-01\n",
      "temper        0.0966 2.16e-02   4.4830 7.36e-06\n",
      "vento         0.2010 6.88e-02   2.9234 3.46e-03\n",
      "\n",
      "AIC: 1964.015 \n",
      "Number of sites: 70\n",
      "optim convergence code: 0\n",
      "optim iterations: 65 \n",
      "Bootstrap iterations: 0 \n",
      "\n"
     ]
    }
   ],
   "source": [
    "best_mod <- occu(formula = ~MDR + orario + precip + temper + vento + 1 ~ \n",
    "    cop_veg_ottavi + dominant + Esp.tr + 1, data = arvicole, \n",
    "    control = list(trace = 0, maxit = 1e+07))\n",
    "summary(best_mod)\n"
   ]
  },
  {
   "cell_type": "code",
   "execution_count": 5,
   "metadata": {},
   "outputs": [
    {
     "data": {
      "text/html": [
       "<style>\n",
       ".list-inline {list-style: none; margin:0; padding: 0}\n",
       ".list-inline>li {display: inline-block}\n",
       ".list-inline>li:not(:last-child)::after {content: \"\\00b7\"; padding: 0 .5ex}\n",
       "</style>\n",
       "<ol class=list-inline><li>'Graminacee'</li><li>'Graminacee'</li><li>'Graminacee'</li><li>'Graminacee'</li><li>'Graminacee'</li><li>'Graminacee'</li></ol>\n"
      ],
      "text/latex": [
       "\\begin{enumerate*}\n",
       "\\item 'Graminacee'\n",
       "\\item 'Graminacee'\n",
       "\\item 'Graminacee'\n",
       "\\item 'Graminacee'\n",
       "\\item 'Graminacee'\n",
       "\\item 'Graminacee'\n",
       "\\end{enumerate*}\n"
      ],
      "text/markdown": [
       "1. 'Graminacee'\n",
       "2. 'Graminacee'\n",
       "3. 'Graminacee'\n",
       "4. 'Graminacee'\n",
       "5. 'Graminacee'\n",
       "6. 'Graminacee'\n",
       "\n",
       "\n"
      ],
      "text/plain": [
       "[1] \"Graminacee\" \"Graminacee\" \"Graminacee\" \"Graminacee\" \"Graminacee\"\n",
       "[6] \"Graminacee\""
      ]
     },
     "metadata": {},
     "output_type": "display_data"
    },
    {
     "data": {
      "text/html": [
       "<table>\n",
       "<caption>A data.frame: 6 × 12</caption>\n",
       "<thead>\n",
       "\t<tr><th></th><th scope=col>Diametro.roccia.1..cm.</th><th scope=col>Diametro.roccia.2..cm.</th><th scope=col>Diametro.roccia.3..cm.</th><th scope=col>alt_m</th><th scope=col>aspect_deg</th><th scope=col>slope_degr</th><th scope=col>n_species</th><th scope=col>MDR</th><th scope=col>IQR</th><th scope=col>Esp.tr</th><th scope=col>cop_veg_ottavi</th><th scope=col>dominant</th></tr>\n",
       "\t<tr><th></th><th scope=col>&lt;dbl&gt;</th><th scope=col>&lt;dbl&gt;</th><th scope=col>&lt;dbl&gt;</th><th scope=col>&lt;dbl&gt;</th><th scope=col>&lt;dbl&gt;</th><th scope=col>&lt;dbl&gt;</th><th scope=col>&lt;dbl&gt;</th><th scope=col>&lt;dbl&gt;</th><th scope=col>&lt;dbl&gt;</th><th scope=col>&lt;dbl&gt;</th><th scope=col>&lt;dbl&gt;</th><th scope=col>&lt;fct&gt;</th></tr>\n",
       "</thead>\n",
       "<tbody>\n",
       "\t<tr><th scope=row>1</th><td>-0.7999612</td><td> 0.4449731</td><td> 0.6121266</td><td>-0.9638930</td><td>-0.03990354</td><td>-0.004945912</td><td> 0.97220994</td><td> 0.65969346</td><td>-0.7248291</td><td>-2.7977585</td><td> 0.89121078</td><td>Graminacee</td></tr>\n",
       "\t<tr><th scope=row>2</th><td> 0.7678020</td><td>-0.7023655</td><td> 0.1200460</td><td>-1.1064717</td><td> 0.39997796</td><td> 0.341267903</td><td> 0.05432387</td><td> 0.05605239</td><td> 0.4943843</td><td>-1.1704790</td><td> 0.41353272</td><td>Graminacee</td></tr>\n",
       "\t<tr><th scope=row>3</th><td>-0.9071587</td><td> 0.2749970</td><td>-0.1449204</td><td>-1.1156660</td><td> 0.51727969</td><td>-1.505205774</td><td>-0.33905587</td><td>-0.36649637</td><td>-0.8052168</td><td>-0.7365377</td><td>-0.06414534</td><td>Graminacee</td></tr>\n",
       "\t<tr><th scope=row>4</th><td>-0.2639738</td><td>-0.9573296</td><td>-0.6370010</td><td>-1.1130010</td><td> 0.39264660</td><td>-0.581968936</td><td> 0.97220994</td><td>-1.15122977</td><td>-0.3764824</td><td>-1.1976003</td><td> 1.13004981</td><td>Graminacee</td></tr>\n",
       "\t<tr><th scope=row>5</th><td> 0.6070058</td><td>-0.7236125</td><td>-0.4288130</td><td>-1.0064001</td><td> 0.39997796</td><td>-0.235755121</td><td> 0.70995678</td><td>-0.81922717</td><td> 0.3470069</td><td>-1.1704790</td><td>-0.06414534</td><td>Graminacee</td></tr>\n",
       "\t<tr><th scope=row>6</th><td> 0.1514164</td><td>-0.9360826</td><td>-0.6370010</td><td>-0.9597622</td><td> 0.51727969</td><td>-0.697373540</td><td> 0.57883019</td><td>-1.15122977</td><td> 0.0254561</td><td>-0.7365377</td><td> 1.36888884</td><td>Graminacee</td></tr>\n",
       "</tbody>\n",
       "</table>\n"
      ],
      "text/latex": [
       "A data.frame: 6 × 12\n",
       "\\begin{tabular}{r|llllllllllll}\n",
       "  & Diametro.roccia.1..cm. & Diametro.roccia.2..cm. & Diametro.roccia.3..cm. & alt\\_m & aspect\\_deg & slope\\_degr & n\\_species & MDR & IQR & Esp.tr & cop\\_veg\\_ottavi & dominant\\\\\n",
       "  & <dbl> & <dbl> & <dbl> & <dbl> & <dbl> & <dbl> & <dbl> & <dbl> & <dbl> & <dbl> & <dbl> & <fct>\\\\\n",
       "\\hline\n",
       "\t1 & -0.7999612 &  0.4449731 &  0.6121266 & -0.9638930 & -0.03990354 & -0.004945912 &  0.97220994 &  0.65969346 & -0.7248291 & -2.7977585 &  0.89121078 & Graminacee\\\\\n",
       "\t2 &  0.7678020 & -0.7023655 &  0.1200460 & -1.1064717 &  0.39997796 &  0.341267903 &  0.05432387 &  0.05605239 &  0.4943843 & -1.1704790 &  0.41353272 & Graminacee\\\\\n",
       "\t3 & -0.9071587 &  0.2749970 & -0.1449204 & -1.1156660 &  0.51727969 & -1.505205774 & -0.33905587 & -0.36649637 & -0.8052168 & -0.7365377 & -0.06414534 & Graminacee\\\\\n",
       "\t4 & -0.2639738 & -0.9573296 & -0.6370010 & -1.1130010 &  0.39264660 & -0.581968936 &  0.97220994 & -1.15122977 & -0.3764824 & -1.1976003 &  1.13004981 & Graminacee\\\\\n",
       "\t5 &  0.6070058 & -0.7236125 & -0.4288130 & -1.0064001 &  0.39997796 & -0.235755121 &  0.70995678 & -0.81922717 &  0.3470069 & -1.1704790 & -0.06414534 & Graminacee\\\\\n",
       "\t6 &  0.1514164 & -0.9360826 & -0.6370010 & -0.9597622 &  0.51727969 & -0.697373540 &  0.57883019 & -1.15122977 &  0.0254561 & -0.7365377 &  1.36888884 & Graminacee\\\\\n",
       "\\end{tabular}\n"
      ],
      "text/markdown": [
       "\n",
       "A data.frame: 6 × 12\n",
       "\n",
       "| <!--/--> | Diametro.roccia.1..cm. &lt;dbl&gt; | Diametro.roccia.2..cm. &lt;dbl&gt; | Diametro.roccia.3..cm. &lt;dbl&gt; | alt_m &lt;dbl&gt; | aspect_deg &lt;dbl&gt; | slope_degr &lt;dbl&gt; | n_species &lt;dbl&gt; | MDR &lt;dbl&gt; | IQR &lt;dbl&gt; | Esp.tr &lt;dbl&gt; | cop_veg_ottavi &lt;dbl&gt; | dominant &lt;fct&gt; |\n",
       "|---|---|---|---|---|---|---|---|---|---|---|---|---|\n",
       "| 1 | -0.7999612 |  0.4449731 |  0.6121266 | -0.9638930 | -0.03990354 | -0.004945912 |  0.97220994 |  0.65969346 | -0.7248291 | -2.7977585 |  0.89121078 | Graminacee |\n",
       "| 2 |  0.7678020 | -0.7023655 |  0.1200460 | -1.1064717 |  0.39997796 |  0.341267903 |  0.05432387 |  0.05605239 |  0.4943843 | -1.1704790 |  0.41353272 | Graminacee |\n",
       "| 3 | -0.9071587 |  0.2749970 | -0.1449204 | -1.1156660 |  0.51727969 | -1.505205774 | -0.33905587 | -0.36649637 | -0.8052168 | -0.7365377 | -0.06414534 | Graminacee |\n",
       "| 4 | -0.2639738 | -0.9573296 | -0.6370010 | -1.1130010 |  0.39264660 | -0.581968936 |  0.97220994 | -1.15122977 | -0.3764824 | -1.1976003 |  1.13004981 | Graminacee |\n",
       "| 5 |  0.6070058 | -0.7236125 | -0.4288130 | -1.0064001 |  0.39997796 | -0.235755121 |  0.70995678 | -0.81922717 |  0.3470069 | -1.1704790 | -0.06414534 | Graminacee |\n",
       "| 6 |  0.1514164 | -0.9360826 | -0.6370010 | -0.9597622 |  0.51727969 | -0.697373540 |  0.57883019 | -1.15122977 |  0.0254561 | -0.7365377 |  1.36888884 | Graminacee |\n",
       "\n"
      ],
      "text/plain": [
       "  Diametro.roccia.1..cm. Diametro.roccia.2..cm. Diametro.roccia.3..cm.\n",
       "1 -0.7999612              0.4449731              0.6121266            \n",
       "2  0.7678020             -0.7023655              0.1200460            \n",
       "3 -0.9071587              0.2749970             -0.1449204            \n",
       "4 -0.2639738             -0.9573296             -0.6370010            \n",
       "5  0.6070058             -0.7236125             -0.4288130            \n",
       "6  0.1514164             -0.9360826             -0.6370010            \n",
       "  alt_m      aspect_deg  slope_degr   n_species   MDR         IQR       \n",
       "1 -0.9638930 -0.03990354 -0.004945912  0.97220994  0.65969346 -0.7248291\n",
       "2 -1.1064717  0.39997796  0.341267903  0.05432387  0.05605239  0.4943843\n",
       "3 -1.1156660  0.51727969 -1.505205774 -0.33905587 -0.36649637 -0.8052168\n",
       "4 -1.1130010  0.39264660 -0.581968936  0.97220994 -1.15122977 -0.3764824\n",
       "5 -1.0064001  0.39997796 -0.235755121  0.70995678 -0.81922717  0.3470069\n",
       "6 -0.9597622  0.51727969 -0.697373540  0.57883019 -1.15122977  0.0254561\n",
       "  Esp.tr     cop_veg_ottavi dominant  \n",
       "1 -2.7977585  0.89121078    Graminacee\n",
       "2 -1.1704790  0.41353272    Graminacee\n",
       "3 -0.7365377 -0.06414534    Graminacee\n",
       "4 -1.1976003  1.13004981    Graminacee\n",
       "5 -1.1704790 -0.06414534    Graminacee\n",
       "6 -0.7365377  1.36888884    Graminacee"
      ]
     },
     "metadata": {},
     "output_type": "display_data"
    }
   ],
   "source": [
    "head(siteCovs_orig$dominant)\n",
    "head(siteCovs(arvicole))"
   ]
  },
  {
   "cell_type": "code",
   "execution_count": 6,
   "metadata": {},
   "outputs": [
    {
     "data": {
      "text/html": [
       "<table>\n",
       "<caption>A matrix: 1 × 3 of type dbl</caption>\n",
       "<thead>\n",
       "\t<tr><th></th><th scope=col>Estimate</th><th scope=col>5%</th><th scope=col>95%</th></tr>\n",
       "</thead>\n",
       "<tbody>\n",
       "\t<tr><th scope=row>PAO</th><td>0.7948451</td><td>0.7857143</td><td>0.8714286</td></tr>\n",
       "</tbody>\n",
       "</table>\n"
      ],
      "text/latex": [
       "A matrix: 1 × 3 of type dbl\n",
       "\\begin{tabular}{r|lll}\n",
       "  & Estimate & 5\\% & 95\\%\\\\\n",
       "\\hline\n",
       "\tPAO & 0.7948451 & 0.7857143 & 0.8714286\\\\\n",
       "\\end{tabular}\n"
      ],
      "text/markdown": [
       "\n",
       "A matrix: 1 × 3 of type dbl\n",
       "\n",
       "| <!--/--> | Estimate | 5% | 95% |\n",
       "|---|---|---|---|\n",
       "| PAO | 0.7948451 | 0.7857143 | 0.8714286 |\n",
       "\n"
      ],
      "text/plain": [
       "    Estimate  5%        95%      \n",
       "PAO 0.7948451 0.7857143 0.8714286"
      ]
     },
     "metadata": {},
     "output_type": "display_data"
    }
   ],
   "source": [
    "siti_considerati <- 70-length(best_mod@sitesRemoved) # In totale, al massimo nelle analisi consideriamo 70 siti, alcuni anni meno\n",
    "re <- ranef(best_mod)\n",
    "EBUP <- bup(re, stat=\"mean\")\n",
    "CI <- confint(re, level=0.90)\n",
    "rbind(PAO = c(Estimate = sum(EBUP), colSums(CI))/siti_considerati)"
   ]
  },
  {
   "cell_type": "code",
   "execution_count": 7,
   "metadata": {},
   "outputs": [
    {
     "data": {
      "text/html": [
       "<table>\n",
       "<caption>A data.frame: 6 × 3</caption>\n",
       "<thead>\n",
       "\t<tr><th></th><th scope=col>cop_veg_ottavi</th><th scope=col>Esp.tr</th><th scope=col>dominant</th></tr>\n",
       "\t<tr><th></th><th scope=col>&lt;dbl&gt;</th><th scope=col>&lt;dbl&gt;</th><th scope=col>&lt;fct&gt;</th></tr>\n",
       "</thead>\n",
       "<tbody>\n",
       "\t<tr><th scope=row>1</th><td>-1.258340</td><td>-4.031219e-17</td><td>Graminacee</td></tr>\n",
       "\t<tr><th scope=row>2</th><td>-1.219740</td><td>-4.031219e-17</td><td>Graminacee</td></tr>\n",
       "\t<tr><th scope=row>3</th><td>-1.181140</td><td>-4.031219e-17</td><td>Graminacee</td></tr>\n",
       "\t<tr><th scope=row>4</th><td>-1.142540</td><td>-4.031219e-17</td><td>Graminacee</td></tr>\n",
       "\t<tr><th scope=row>5</th><td>-1.103939</td><td>-4.031219e-17</td><td>Graminacee</td></tr>\n",
       "\t<tr><th scope=row>6</th><td>-1.065339</td><td>-4.031219e-17</td><td>Graminacee</td></tr>\n",
       "</tbody>\n",
       "</table>\n"
      ],
      "text/latex": [
       "A data.frame: 6 × 3\n",
       "\\begin{tabular}{r|lll}\n",
       "  & cop\\_veg\\_ottavi & Esp.tr & dominant\\\\\n",
       "  & <dbl> & <dbl> & <fct>\\\\\n",
       "\\hline\n",
       "\t1 & -1.258340 & -4.031219e-17 & Graminacee\\\\\n",
       "\t2 & -1.219740 & -4.031219e-17 & Graminacee\\\\\n",
       "\t3 & -1.181140 & -4.031219e-17 & Graminacee\\\\\n",
       "\t4 & -1.142540 & -4.031219e-17 & Graminacee\\\\\n",
       "\t5 & -1.103939 & -4.031219e-17 & Graminacee\\\\\n",
       "\t6 & -1.065339 & -4.031219e-17 & Graminacee\\\\\n",
       "\\end{tabular}\n"
      ],
      "text/markdown": [
       "\n",
       "A data.frame: 6 × 3\n",
       "\n",
       "| <!--/--> | cop_veg_ottavi &lt;dbl&gt; | Esp.tr &lt;dbl&gt; | dominant &lt;fct&gt; |\n",
       "|---|---|---|---|\n",
       "| 1 | -1.258340 | -4.031219e-17 | Graminacee |\n",
       "| 2 | -1.219740 | -4.031219e-17 | Graminacee |\n",
       "| 3 | -1.181140 | -4.031219e-17 | Graminacee |\n",
       "| 4 | -1.142540 | -4.031219e-17 | Graminacee |\n",
       "| 5 | -1.103939 | -4.031219e-17 | Graminacee |\n",
       "| 6 | -1.065339 | -4.031219e-17 | Graminacee |\n",
       "\n"
      ],
      "text/plain": [
       "  cop_veg_ottavi Esp.tr        dominant  \n",
       "1 -1.258340      -4.031219e-17 Graminacee\n",
       "2 -1.219740      -4.031219e-17 Graminacee\n",
       "3 -1.181140      -4.031219e-17 Graminacee\n",
       "4 -1.142540      -4.031219e-17 Graminacee\n",
       "5 -1.103939      -4.031219e-17 Graminacee\n",
       "6 -1.065339      -4.031219e-17 Graminacee"
      ]
     },
     "metadata": {},
     "output_type": "display_data"
    },
    {
     "data": {
      "text/html": [
       "<table>\n",
       "<caption>A data.frame: 6 × 7</caption>\n",
       "<thead>\n",
       "\t<tr><th></th><th scope=col>cop_veg_ottavi</th><th scope=col>Esp.tr</th><th scope=col>Predicted</th><th scope=col>SE</th><th scope=col>lower</th><th scope=col>upper</th><th scope=col>dominant</th></tr>\n",
       "\t<tr><th></th><th scope=col>&lt;dbl&gt;</th><th scope=col>&lt;dbl&gt;</th><th scope=col>&lt;dbl&gt;</th><th scope=col>&lt;dbl&gt;</th><th scope=col>&lt;dbl&gt;</th><th scope=col>&lt;dbl&gt;</th><th scope=col>&lt;fct&gt;</th></tr>\n",
       "</thead>\n",
       "<tbody>\n",
       "\t<tr><th scope=row>295</th><td>6.076768</td><td>-22.84286</td><td>0.2535224</td><td>0.1912938</td><td>0.04474251</td><td>0.7112022</td><td>Other_Sp</td></tr>\n",
       "\t<tr><th scope=row>296</th><td>6.141414</td><td>-22.84286</td><td>0.2478587</td><td>0.1904685</td><td>0.04259280</td><td>0.7093878</td><td>Other_Sp</td></tr>\n",
       "\t<tr><th scope=row>297</th><td>6.206061</td><td>-22.84286</td><td>0.2422804</td><td>0.1895781</td><td>0.04053489</td><td>0.7076045</td><td>Other_Sp</td></tr>\n",
       "\t<tr><th scope=row>298</th><td>6.270707</td><td>-22.84286</td><td>0.2367882</td><td>0.1886239</td><td>0.03856585</td><td>0.7058514</td><td>Other_Sp</td></tr>\n",
       "\t<tr><th scope=row>299</th><td>6.335354</td><td>-22.84286</td><td>0.2313824</td><td>0.1876072</td><td>0.03668275</td><td>0.7041279</td><td>Other_Sp</td></tr>\n",
       "\t<tr><th scope=row>300</th><td>6.400000</td><td>-22.84286</td><td>0.2260635</td><td>0.1865296</td><td>0.03488269</td><td>0.7024332</td><td>Other_Sp</td></tr>\n",
       "</tbody>\n",
       "</table>\n"
      ],
      "text/latex": [
       "A data.frame: 6 × 7\n",
       "\\begin{tabular}{r|lllllll}\n",
       "  & cop\\_veg\\_ottavi & Esp.tr & Predicted & SE & lower & upper & dominant\\\\\n",
       "  & <dbl> & <dbl> & <dbl> & <dbl> & <dbl> & <dbl> & <fct>\\\\\n",
       "\\hline\n",
       "\t295 & 6.076768 & -22.84286 & 0.2535224 & 0.1912938 & 0.04474251 & 0.7112022 & Other\\_Sp\\\\\n",
       "\t296 & 6.141414 & -22.84286 & 0.2478587 & 0.1904685 & 0.04259280 & 0.7093878 & Other\\_Sp\\\\\n",
       "\t297 & 6.206061 & -22.84286 & 0.2422804 & 0.1895781 & 0.04053489 & 0.7076045 & Other\\_Sp\\\\\n",
       "\t298 & 6.270707 & -22.84286 & 0.2367882 & 0.1886239 & 0.03856585 & 0.7058514 & Other\\_Sp\\\\\n",
       "\t299 & 6.335354 & -22.84286 & 0.2313824 & 0.1876072 & 0.03668275 & 0.7041279 & Other\\_Sp\\\\\n",
       "\t300 & 6.400000 & -22.84286 & 0.2260635 & 0.1865296 & 0.03488269 & 0.7024332 & Other\\_Sp\\\\\n",
       "\\end{tabular}\n"
      ],
      "text/markdown": [
       "\n",
       "A data.frame: 6 × 7\n",
       "\n",
       "| <!--/--> | cop_veg_ottavi &lt;dbl&gt; | Esp.tr &lt;dbl&gt; | Predicted &lt;dbl&gt; | SE &lt;dbl&gt; | lower &lt;dbl&gt; | upper &lt;dbl&gt; | dominant &lt;fct&gt; |\n",
       "|---|---|---|---|---|---|---|---|\n",
       "| 295 | 6.076768 | -22.84286 | 0.2535224 | 0.1912938 | 0.04474251 | 0.7112022 | Other_Sp |\n",
       "| 296 | 6.141414 | -22.84286 | 0.2478587 | 0.1904685 | 0.04259280 | 0.7093878 | Other_Sp |\n",
       "| 297 | 6.206061 | -22.84286 | 0.2422804 | 0.1895781 | 0.04053489 | 0.7076045 | Other_Sp |\n",
       "| 298 | 6.270707 | -22.84286 | 0.2367882 | 0.1886239 | 0.03856585 | 0.7058514 | Other_Sp |\n",
       "| 299 | 6.335354 | -22.84286 | 0.2313824 | 0.1876072 | 0.03668275 | 0.7041279 | Other_Sp |\n",
       "| 300 | 6.400000 | -22.84286 | 0.2260635 | 0.1865296 | 0.03488269 | 0.7024332 | Other_Sp |\n",
       "\n"
      ],
      "text/plain": [
       "    cop_veg_ottavi Esp.tr    Predicted SE        lower      upper     dominant\n",
       "295 6.076768       -22.84286 0.2535224 0.1912938 0.04474251 0.7112022 Other_Sp\n",
       "296 6.141414       -22.84286 0.2478587 0.1904685 0.04259280 0.7093878 Other_Sp\n",
       "297 6.206061       -22.84286 0.2422804 0.1895781 0.04053489 0.7076045 Other_Sp\n",
       "298 6.270707       -22.84286 0.2367882 0.1886239 0.03856585 0.7058514 Other_Sp\n",
       "299 6.335354       -22.84286 0.2313824 0.1876072 0.03668275 0.7041279 Other_Sp\n",
       "300 6.400000       -22.84286 0.2260635 0.1865296 0.03488269 0.7024332 Other_Sp"
      ]
     },
     "metadata": {},
     "output_type": "display_data"
    },
    {
     "data": {
      "image/png": "[encoded data removed]",
      "text/plain": [
       "plot without title"
      ]
     },
     "metadata": {
      "image/png": {
       "height": 420,
       "width": 420
      }
     },
     "output_type": "display_data"
    },
    {
     "data": {
      "image/png": "[encoded data removed]",
      "text/plain": [
       "plot without title"
      ]
     },
     "metadata": {
      "image/png": {
       "height": 420,
       "width": 420
      }
     },
     "output_type": "display_data"
    },
    {
     "data": {
      "image/png": "[encoded data removed]",
      "text/plain": [
       "plot without title"
      ]
     },
     "metadata": {
      "image/png": {
       "height": 420,
       "width": 420
      }
     },
     "output_type": "display_data"
    }
   ],
   "source": [
    "# Predict abundance at specified covariate values.\n",
    "df_indicato <- siteCovs(arvicole)\n",
    "cop_veg_ottavi.seq <- seq(min(df_indicato$cop_veg_ottavi, na.rm=TRUE), max(df_indicato$cop_veg_ottavi, na.rm=TRUE), length=100)\n",
    "Esp.tr.seq <- seq(min(df_indicato$Esp.tr), max(df_indicato$Esp.tr), length=100)\n",
    "\n",
    "newdat_graminacee <- data.frame(\n",
    "    cop_veg_ottavi = cop_veg_ottavi.seq,\n",
    "    Esp.tr = mean(df_indicato$Esp.tr),\n",
    "    dominant = \"Graminacee\"\n",
    ")   \n",
    "newdat_muschio <- data.frame(\n",
    "    cop_veg_ottavi = cop_veg_ottavi.seq,\n",
    "    Esp.tr = mean(df_indicato$Esp.tr),\n",
    "    dominant = \"Muschio\"\n",
    ")\n",
    "newdat_other <- data.frame(\n",
    "    cop_veg_ottavi = cop_veg_ottavi.seq,\n",
    "    Esp.tr = mean(df_indicato$Esp.tr),\n",
    "    dominant = \"Other_Sp\"\n",
    ")\n",
    "newdata <- rbind(newdat_graminacee,newdat_muschio,newdat_other)\n",
    "head(newdata)\n",
    "\n",
    "Elambda <- predict(best_mod, \n",
    "        type='state', \n",
    "        newdata = newdata,\n",
    "        appendData = TRUE)\n",
    "\n",
    "Elambda_unscaled <- myunscale(Elambda, siteCovs_scaled, c(\"cop_veg_ottavi\",\"Esp.tr\"))\n",
    "tail(Elambda_unscaled)\n",
    "\n",
    "### grafici per cop_veg_ottavi\n",
    "with(subset(Elambda_unscaled,dominant==\"Graminacee\"), {\n",
    "  plot(cop_veg_ottavi, Predicted, xlab=\"cop_veg_ottavi\", type=\"l\", # names = habitat,\n",
    "       ylab=\"Probabilità di effettiva presenza con sp. Graminacee\", #ylim=c(-20, 40), # cex.names=0.7,\n",
    "       cex.lab=0.7, cex.axis=0.7, lwd=2, col=\"red\")\n",
    "   lines(cop_veg_ottavi, Predicted+SE, lty=3, col=\"dark grey\")\n",
    "   lines(cop_veg_ottavi, Predicted-SE, lty=3, col=\"dark grey\")\n",
    "  #lines(cop_veg_ottavi, upper, lty=1, col=\"grey\")\n",
    "  #lines(cop_veg_ottavi, lower, lty=1, col=\"grey\")\n",
    "})\n",
    "with(subset(Elambda_unscaled,dominant==\"Muschio\"), {\n",
    "  plot(cop_veg_ottavi, Predicted, xlab=\"cop_veg_ottavi\", type=\"l\", # names = habitat,\n",
    "       ylab=\"Probabilità di effettiva presenza con sp. Muschio\", #ylim=c(-20, 40), # cex.names=0.7,\n",
    "       cex.lab=0.7, cex.axis=0.7, lwd=2, col=\"red\")\n",
    "   lines(cop_veg_ottavi, Predicted+SE, lty=3, col=\"dark grey\")\n",
    "   lines(cop_veg_ottavi, Predicted-SE, lty=3, col=\"dark grey\")\n",
    "  #lines(cop_veg_ottavi, upper, lty=1, col=\"grey\")\n",
    "  #lines(cop_veg_ottavi, lower, lty=1, col=\"grey\")\n",
    "})\n",
    "\n",
    "with(subset(Elambda_unscaled,dominant==\"Other_Sp\"), {\n",
    "  plot(cop_veg_ottavi, Predicted, xlab=\"cop_veg_ottavi\", type=\"l\", # names = habitat,\n",
    "       ylab=\"Probabilità di effettiva presenza con sp. Other_Sp\", #ylim=c(-20, 40), # cex.names=0.7,\n",
    "       cex.lab=0.7, cex.axis=0.7, lwd=2, col=\"red\")\n",
    "   lines(cop_veg_ottavi, Predicted+SE, lty=3, col=\"dark grey\")\n",
    "   lines(cop_veg_ottavi, Predicted-SE, lty=3, col=\"dark grey\")\n",
    "  #lines(Esp.tr, upper, lty=1, col=\"grey\")\n",
    "  #lines(Esp.tr, lower, lty=1, col=\"grey\")\n",
    "})"
   ]
  },
  {
   "cell_type": "code",
   "execution_count": 8,
   "metadata": {},
   "outputs": [
    {
     "data": {
      "text/html": [
       "<table>\n",
       "<caption>A data.frame: 6 × 3</caption>\n",
       "<thead>\n",
       "\t<tr><th></th><th scope=col>cop_veg_ottavi</th><th scope=col>Esp.tr</th><th scope=col>dominant</th></tr>\n",
       "\t<tr><th></th><th scope=col>&lt;dbl&gt;</th><th scope=col>&lt;dbl&gt;</th><th scope=col>&lt;fct&gt;</th></tr>\n",
       "</thead>\n",
       "<tbody>\n",
       "\t<tr><th scope=row>1</th><td>-1.201544e-16</td><td>-2.797759</td><td>Graminacee</td></tr>\n",
       "\t<tr><th scope=row>2</th><td>-1.201544e-16</td><td>-2.746255</td><td>Graminacee</td></tr>\n",
       "\t<tr><th scope=row>3</th><td>-1.201544e-16</td><td>-2.694752</td><td>Graminacee</td></tr>\n",
       "\t<tr><th scope=row>4</th><td>-1.201544e-16</td><td>-2.643249</td><td>Graminacee</td></tr>\n",
       "\t<tr><th scope=row>5</th><td>-1.201544e-16</td><td>-2.591746</td><td>Graminacee</td></tr>\n",
       "\t<tr><th scope=row>6</th><td>-1.201544e-16</td><td>-2.540243</td><td>Graminacee</td></tr>\n",
       "</tbody>\n",
       "</table>\n"
      ],
      "text/latex": [
       "A data.frame: 6 × 3\n",
       "\\begin{tabular}{r|lll}\n",
       "  & cop\\_veg\\_ottavi & Esp.tr & dominant\\\\\n",
       "  & <dbl> & <dbl> & <fct>\\\\\n",
       "\\hline\n",
       "\t1 & -1.201544e-16 & -2.797759 & Graminacee\\\\\n",
       "\t2 & -1.201544e-16 & -2.746255 & Graminacee\\\\\n",
       "\t3 & -1.201544e-16 & -2.694752 & Graminacee\\\\\n",
       "\t4 & -1.201544e-16 & -2.643249 & Graminacee\\\\\n",
       "\t5 & -1.201544e-16 & -2.591746 & Graminacee\\\\\n",
       "\t6 & -1.201544e-16 & -2.540243 & Graminacee\\\\\n",
       "\\end{tabular}\n"
      ],
      "text/markdown": [
       "\n",
       "A data.frame: 6 × 3\n",
       "\n",
       "| <!--/--> | cop_veg_ottavi &lt;dbl&gt; | Esp.tr &lt;dbl&gt; | dominant &lt;fct&gt; |\n",
       "|---|---|---|---|\n",
       "| 1 | -1.201544e-16 | -2.797759 | Graminacee |\n",
       "| 2 | -1.201544e-16 | -2.746255 | Graminacee |\n",
       "| 3 | -1.201544e-16 | -2.694752 | Graminacee |\n",
       "| 4 | -1.201544e-16 | -2.643249 | Graminacee |\n",
       "| 5 | -1.201544e-16 | -2.591746 | Graminacee |\n",
       "| 6 | -1.201544e-16 | -2.540243 | Graminacee |\n",
       "\n"
      ],
      "text/plain": [
       "  cop_veg_ottavi Esp.tr    dominant  \n",
       "1 -1.201544e-16  -2.797759 Graminacee\n",
       "2 -1.201544e-16  -2.746255 Graminacee\n",
       "3 -1.201544e-16  -2.694752 Graminacee\n",
       "4 -1.201544e-16  -2.643249 Graminacee\n",
       "5 -1.201544e-16  -2.591746 Graminacee\n",
       "6 -1.201544e-16  -2.540243 Graminacee"
      ]
     },
     "metadata": {},
     "output_type": "display_data"
    },
    {
     "data": {
      "text/html": [
       "<table>\n",
       "<caption>A data.frame: 6 × 7</caption>\n",
       "<thead>\n",
       "\t<tr><th></th><th scope=col>cop_veg_ottavi</th><th scope=col>Esp.tr</th><th scope=col>Predicted</th><th scope=col>SE</th><th scope=col>lower</th><th scope=col>upper</th><th scope=col>dominant</th></tr>\n",
       "\t<tr><th></th><th scope=col>&lt;dbl&gt;</th><th scope=col>&lt;dbl&gt;</th><th scope=col>&lt;dbl&gt;</th><th scope=col>&lt;dbl&gt;</th><th scope=col>&lt;dbl&gt;</th><th scope=col>&lt;dbl&gt;</th><th scope=col>&lt;fct&gt;</th></tr>\n",
       "</thead>\n",
       "<tbody>\n",
       "\t<tr><th scope=row>295</th><td>2.107429</td><td>52.50505</td><td>0.9163238</td><td>0.07706781</td><td>0.6042960</td><td>0.9874255</td><td>Other_Sp</td></tr>\n",
       "\t<tr><th scope=row>296</th><td>2.107429</td><td>54.40404</td><td>0.9194052</td><td>0.07568265</td><td>0.6064580</td><td>0.9882970</td><td>Other_Sp</td></tr>\n",
       "\t<tr><th scope=row>297</th><td>2.107429</td><td>56.30303</td><td>0.9223828</td><td>0.07430038</td><td>0.6085168</td><td>0.9891132</td><td>Other_Sp</td></tr>\n",
       "\t<tr><th scope=row>298</th><td>2.107429</td><td>58.20202</td><td>0.9252594</td><td>0.07292157</td><td>0.6104775</td><td>0.9898771</td><td>Other_Sp</td></tr>\n",
       "\t<tr><th scope=row>299</th><td>2.107429</td><td>60.10101</td><td>0.9280376</td><td>0.07154684</td><td>0.6123449</td><td>0.9905914</td><td>Other_Sp</td></tr>\n",
       "\t<tr><th scope=row>300</th><td>2.107429</td><td>62.00000</td><td>0.9307203</td><td>0.07017686</td><td>0.6141236</td><td>0.9912589</td><td>Other_Sp</td></tr>\n",
       "</tbody>\n",
       "</table>\n"
      ],
      "text/latex": [
       "A data.frame: 6 × 7\n",
       "\\begin{tabular}{r|lllllll}\n",
       "  & cop\\_veg\\_ottavi & Esp.tr & Predicted & SE & lower & upper & dominant\\\\\n",
       "  & <dbl> & <dbl> & <dbl> & <dbl> & <dbl> & <dbl> & <fct>\\\\\n",
       "\\hline\n",
       "\t295 & 2.107429 & 52.50505 & 0.9163238 & 0.07706781 & 0.6042960 & 0.9874255 & Other\\_Sp\\\\\n",
       "\t296 & 2.107429 & 54.40404 & 0.9194052 & 0.07568265 & 0.6064580 & 0.9882970 & Other\\_Sp\\\\\n",
       "\t297 & 2.107429 & 56.30303 & 0.9223828 & 0.07430038 & 0.6085168 & 0.9891132 & Other\\_Sp\\\\\n",
       "\t298 & 2.107429 & 58.20202 & 0.9252594 & 0.07292157 & 0.6104775 & 0.9898771 & Other\\_Sp\\\\\n",
       "\t299 & 2.107429 & 60.10101 & 0.9280376 & 0.07154684 & 0.6123449 & 0.9905914 & Other\\_Sp\\\\\n",
       "\t300 & 2.107429 & 62.00000 & 0.9307203 & 0.07017686 & 0.6141236 & 0.9912589 & Other\\_Sp\\\\\n",
       "\\end{tabular}\n"
      ],
      "text/markdown": [
       "\n",
       "A data.frame: 6 × 7\n",
       "\n",
       "| <!--/--> | cop_veg_ottavi &lt;dbl&gt; | Esp.tr &lt;dbl&gt; | Predicted &lt;dbl&gt; | SE &lt;dbl&gt; | lower &lt;dbl&gt; | upper &lt;dbl&gt; | dominant &lt;fct&gt; |\n",
       "|---|---|---|---|---|---|---|---|\n",
       "| 295 | 2.107429 | 52.50505 | 0.9163238 | 0.07706781 | 0.6042960 | 0.9874255 | Other_Sp |\n",
       "| 296 | 2.107429 | 54.40404 | 0.9194052 | 0.07568265 | 0.6064580 | 0.9882970 | Other_Sp |\n",
       "| 297 | 2.107429 | 56.30303 | 0.9223828 | 0.07430038 | 0.6085168 | 0.9891132 | Other_Sp |\n",
       "| 298 | 2.107429 | 58.20202 | 0.9252594 | 0.07292157 | 0.6104775 | 0.9898771 | Other_Sp |\n",
       "| 299 | 2.107429 | 60.10101 | 0.9280376 | 0.07154684 | 0.6123449 | 0.9905914 | Other_Sp |\n",
       "| 300 | 2.107429 | 62.00000 | 0.9307203 | 0.07017686 | 0.6141236 | 0.9912589 | Other_Sp |\n",
       "\n"
      ],
      "text/plain": [
       "    cop_veg_ottavi Esp.tr   Predicted SE         lower     upper     dominant\n",
       "295 2.107429       52.50505 0.9163238 0.07706781 0.6042960 0.9874255 Other_Sp\n",
       "296 2.107429       54.40404 0.9194052 0.07568265 0.6064580 0.9882970 Other_Sp\n",
       "297 2.107429       56.30303 0.9223828 0.07430038 0.6085168 0.9891132 Other_Sp\n",
       "298 2.107429       58.20202 0.9252594 0.07292157 0.6104775 0.9898771 Other_Sp\n",
       "299 2.107429       60.10101 0.9280376 0.07154684 0.6123449 0.9905914 Other_Sp\n",
       "300 2.107429       62.00000 0.9307203 0.07017686 0.6141236 0.9912589 Other_Sp"
      ]
     },
     "metadata": {},
     "output_type": "display_data"
    },
    {
     "data": {
      "image/png": "[encoded data removed]",
      "text/plain": [
       "plot without title"
      ]
     },
     "metadata": {
      "image/png": {
       "height": 420,
       "width": 420
      }
     },
     "output_type": "display_data"
    },
    {
     "data": {
      "image/png": "[encoded data removed]",
      "text/plain": [
       "plot without title"
      ]
     },
     "metadata": {
      "image/png": {
       "height": 420,
       "width": 420
      }
     },
     "output_type": "display_data"
    },
    {
     "data": {
      "image/png": "[encoded data removed]",
      "text/plain": [
       "plot without title"
      ]
     },
     "metadata": {
      "image/png": {
       "height": 420,
       "width": 420
      }
     },
     "output_type": "display_data"
    }
   ],
   "source": [
    "# Predict abundance at specified covariate values.\n",
    "df_indicato <- siteCovs(arvicole)\n",
    "cop_veg_ottavi.seq <- seq(min(df_indicato$cop_veg_ottavi, na.rm=TRUE), max(df_indicato$cop_veg_ottavi, na.rm=TRUE), length=100)\n",
    "Esp.tr.seq <- seq(min(df_indicato$Esp.tr), max(df_indicato$Esp.tr), length=100)\n",
    "\n",
    "newdat_graminacee <- data.frame(\n",
    "    cop_veg_ottavi = mean(df_indicato$cop_veg_ottavi, na.rm=TRUE),\n",
    "    Esp.tr = Esp.tr.seq,\n",
    "    dominant = \"Graminacee\"\n",
    ")   \n",
    "newdat_muschio <- data.frame(\n",
    "    cop_veg_ottavi = mean(df_indicato$cop_veg_ottavi, na.rm=TRUE),\n",
    "    Esp.tr = Esp.tr.seq,\n",
    "    dominant = \"Muschio\"\n",
    ")\n",
    "newdat_other <- data.frame(\n",
    "    cop_veg_ottavi = mean(df_indicato$cop_veg_ottavi, na.rm=TRUE),\n",
    "    Esp.tr = Esp.tr.seq,\n",
    "    dominant = \"Other_Sp\"\n",
    ")\n",
    "newdata <- rbind(newdat_graminacee,newdat_muschio,newdat_other)\n",
    "head(newdata)\n",
    "\n",
    "Elambda <- predict(best_mod, \n",
    "        type='state', \n",
    "        newdata = newdata,\n",
    "        appendData = TRUE)\n",
    "\n",
    "Elambda_unscaled <- myunscale(Elambda, siteCovs_scaled, c(\"cop_veg_ottavi\",\"Esp.tr\"))\n",
    "tail(Elambda_unscaled)\n",
    "\n",
    "### grafici per Esposizione\n",
    "with(subset(Elambda_unscaled,dominant==\"Graminacee\"), {\n",
    "  plot(Esp.tr, Predicted, xlab=\"Esposizione\", type=\"l\", # names = habitat,\n",
    "       ylab=\"Probabilità di effettiva presenza con sp. Graminacee\", #ylim=c(-20, 40), # cex.names=0.7,\n",
    "       cex.lab=0.7, cex.axis=0.7, lwd=2, col=\"red\")\n",
    "   lines(Esp.tr, Predicted+SE, lty=3, col=\"dark grey\")\n",
    "   lines(Esp.tr, Predicted-SE, lty=3, col=\"dark grey\")\n",
    "  #lines(cop_veg_ottavi, upper, lty=1, col=\"grey\")\n",
    "  #lines(cop_veg_ottavi, lower, lty=1, col=\"grey\")\n",
    "})\n",
    "with(subset(Elambda_unscaled,dominant==\"Muschio\"), {\n",
    "  plot(Esp.tr, Predicted, xlab=\"Esposizione\", type=\"l\", # names = habitat,\n",
    "       ylab=\"Probabilità di effettiva presenza con sp. Muschio\", #ylim=c(-20, 40), # cex.names=0.7,\n",
    "       cex.lab=0.7, cex.axis=0.7, lwd=2, col=\"red\")\n",
    "   lines(Esp.tr, Predicted+SE, lty=3, col=\"dark grey\")\n",
    "   lines(Esp.tr, Predicted-SE, lty=3, col=\"dark grey\")\n",
    "  #lines(MDR, upper, lty=1, col=\"grey\")\n",
    "  #lines(MDR, lower, lty=1, col=\"grey\")\n",
    "})\n",
    "\n",
    "with(subset(Elambda_unscaled,dominant==\"Other_Sp\"), {\n",
    "  plot(Esp.tr, Predicted, xlab=\"Esposizione\", type=\"l\", # names = habitat,\n",
    "       ylab=\"Probabilità di effettiva presenza con sp. Other_Sp\", #ylim=c(-20, 40), # cex.names=0.7,\n",
    "       cex.lab=0.7, cex.axis=0.7, lwd=2, col=\"red\")\n",
    "   lines(Esp.tr, Predicted+SE, lty=3, col=\"dark grey\")\n",
    "   lines(Esp.tr, Predicted-SE, lty=3, col=\"dark grey\")\n",
    "  #lines(Esp.tr, upper, lty=1, col=\"grey\")\n",
    "  #lines(Esp.tr, lower, lty=1, col=\"grey\")\n",
    "})"
   ]
  },
  {
   "cell_type": "markdown",
   "metadata": {},
   "source": [
    "### Proseguiamo con ulteriori valutazioni sulla temperatura, precipitazioni, vento ed orario di cattura"
   ]
  },
  {
   "cell_type": "code",
   "execution_count": 9,
   "metadata": {},
   "outputs": [
    {
     "data": {
      "image/png": "[encoded data removed]",
      "text/plain": [
       "plot without title"
      ]
     },
     "metadata": {
      "image/png": {
       "height": 420,
       "width": 420
      }
     },
     "output_type": "display_data"
    }
   ],
   "source": [
    "#### predizioni di abbondanza con valori di covariate specifici.\n",
    "df_indicato <- siteCovs(arvicole)\n",
    "df_indicato2 <- obsCovs(arvicole)\n",
    "\n",
    "MDR.seq <- seq(min(df_indicato$MDR), max(df_indicato$MDR), length=100)\n",
    "temper.seq <- seq(min(df_indicato2$temper), max(df_indicato2$temper), length=100)\n",
    "vento.seq <- seq(min(df_indicato2$vento), max(df_indicato2$vento), length=100)\n",
    "precip.seq <- seq(min(df_indicato2$precip), max(df_indicato2$precip), length=100)\n",
    "\n",
    "newdat_tempTr <- data.frame(\n",
    "    MDR = mean(df_indicato$MDR),\n",
    "    temper = temper.seq,\n",
    "    orario = \"Tr\",\n",
    "    vento = mean(df_indicato2$vento),\n",
    "    precip = mean(df_indicato2$precip)\n",
    ")\n",
    "\n",
    "\n",
    "Elambda <- predict(best_mod, \n",
    "        type='det', \n",
    "        newdata = newdat_tempTr,\n",
    "        appendData = TRUE)\n",
    "\n",
    "Elambda_unscaled <- myunscale(Elambda, siteCovs_scaled, c(\"MDR\"))\n",
    "\n",
    "with(Elambda_unscaled, {\n",
    "    plot(temper, Predicted, xlab=\"Temperatura\", type=\"b\",\n",
    "        ylab=\"Probabilità di cattura\",\n",
    "        cex.lab=0.7, lwd=3, col=\"red\")\n",
    "    lines(temper , Predicted+SE, lty=3, col=\"dark grey\")\n",
    "    lines(temper , Predicted-SE, lty=3, col=\"dark grey\")\n",
    "})  "
   ]
  },
  {
   "cell_type": "code",
   "execution_count": 10,
   "metadata": {},
   "outputs": [
    {
     "data": {
      "image/png": "[encoded data removed]",
      "text/plain": [
       "plot without title"
      ]
     },
     "metadata": {
      "image/png": {
       "height": 420,
       "width": 420
      }
     },
     "output_type": "display_data"
    }
   ],
   "source": [
    "#### predizioni di abbondanza con valori di covariate specifici.\n",
    "df_indicato <- siteCovs(arvicole)\n",
    "df_indicato2 <- obsCovs(arvicole)\n",
    "\n",
    "MDR.seq <- seq(min(df_indicato$MDR), max(df_indicato$MDR), length=100)\n",
    "temper.seq <- seq(min(df_indicato2$temper), max(df_indicato2$temper), length=100)\n",
    "vento.seq <- seq(min(df_indicato2$vento), max(df_indicato2$vento), length=100)\n",
    "precip.seq <- seq(min(df_indicato2$precip), max(df_indicato2$precip), length=100)\n",
    "\n",
    "newdat_tempTr <- data.frame(\n",
    "    MDR = mean(df_indicato$MDR),\n",
    "    temper = mean(df_indicato2$temper),\n",
    "    orario = \"Tr\",\n",
    "    vento = mean(df_indicato2$vento),\n",
    "    precip = precip.seq\n",
    ")\n",
    "\n",
    "\n",
    "Elambda <- predict(best_mod, \n",
    "        type='det', \n",
    "        newdata = newdat_tempTr,\n",
    "        appendData = TRUE)\n",
    "\n",
    "Elambda_unscaled <- myunscale(Elambda, siteCovs_scaled, c(\"MDR\"))\n",
    "\n",
    "with(Elambda_unscaled, {\n",
    "    plot(precip, Predicted, xlab=\"Precipitazioni\", type=\"b\",\n",
    "        ylab=\"Probabilità di cattura\",\n",
    "        cex.lab=0.7, lwd=2, col=\"red\")\n",
    "    lines(precip , Predicted+SE, lty=3, col=\"dark grey\")\n",
    "   lines(precip , Predicted-SE, lty=3, col=\"dark grey\")\n",
    "})  "
   ]
  },
  {
   "cell_type": "code",
   "execution_count": null,
   "metadata": {},
   "outputs": [],
   "source": []
  }
 ],
 "metadata": {
  "kernelspec": {
   "display_name": "R",
   "language": "R",
   "name": "ir"
  },
  "language_info": {
   "codemirror_mode": "r",
   "file_extension": ".r",
   "mimetype": "text/x-r-source",
   "name": "R",
   "pygments_lexer": "r",
   "version": "3.6.3"
  }
 },
 "nbformat": 4,
 "nbformat_minor": 4
}
