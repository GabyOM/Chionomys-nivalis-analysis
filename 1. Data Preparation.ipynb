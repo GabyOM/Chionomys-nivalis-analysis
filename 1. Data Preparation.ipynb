{
 "cells": [
  {
   "cell_type": "markdown",
   "metadata": {},
   "source": [
    "# Data Preparation\n",
    "#### Claudia Gabriela Ochoa Martinez (2020)\n",
    "## Loading Data"
   ]
  },
  {
   "cell_type": "code",
   "execution_count": 1,
   "metadata": {},
   "outputs": [],
   "source": [
    "Daticatt <- read.csv(\"Dati-originali/datticatture.csv\", dec=\",\", sep=\";\", header = TRUE)\n",
    "Datitrap <- read.csv(\"Dati-originali/dattitrappole.csv\", dec=\",\", sep=\";\", header = TRUE)"
   ]
  },
  {
   "cell_type": "markdown",
   "metadata": {},
   "source": [
    "#### I dati delle trappole non hanno bisogno di particolari modifiche"
   ]
  },
  {
   "cell_type": "code",
   "execution_count": 2,
   "metadata": {},
   "outputs": [
    {
     "data": {
      "text/html": [
       "<table>\n",
       "<caption>A data.frame: 6 × 19</caption>\n",
       "<thead>\n",
       "\t<tr><th></th><th scope=col>ID_TRAP</th><th scope=col>SESSIONE</th><th scope=col>data.attivazione</th><th scope=col>occasione.attivazione</th><th scope=col>ED50.Coord.X</th><th scope=col>ED50.Coord.Y</th><th scope=col>WGS84.Coord.Long</th><th scope=col>WGS84.Coord.Lat</th><th scope=col>Diametro.roccia.1..cm.</th><th scope=col>Diametro.roccia.2..cm.</th><th scope=col>Diametro.roccia.3..cm.</th><th scope=col>X..COP..VEG.</th><th scope=col>NUMERO.SPECIE</th><th scope=col>SPECIE.DOMINANTE</th><th scope=col>distanza.trappole..cm...da.75a1.</th><th scope=col>angolo.trappole..gradi.AZ..da75a1.</th><th scope=col>X</th><th scope=col>X.1</th><th scope=col>X.2</th></tr>\n",
       "\t<tr><th></th><th scope=col>&lt;int&gt;</th><th scope=col>&lt;dbl&gt;</th><th scope=col>&lt;fct&gt;</th><th scope=col>&lt;int&gt;</th><th scope=col>&lt;int&gt;</th><th scope=col>&lt;int&gt;</th><th scope=col>&lt;fct&gt;</th><th scope=col>&lt;fct&gt;</th><th scope=col>&lt;int&gt;</th><th scope=col>&lt;int&gt;</th><th scope=col>&lt;int&gt;</th><th scope=col>&lt;int&gt;</th><th scope=col>&lt;int&gt;</th><th scope=col>&lt;fct&gt;</th><th scope=col>&lt;int&gt;</th><th scope=col>&lt;int&gt;</th><th scope=col>&lt;lgl&gt;</th><th scope=col>&lt;lgl&gt;</th><th scope=col>&lt;lgl&gt;</th></tr>\n",
       "</thead>\n",
       "<tbody>\n",
       "\t<tr><th scope=row>1</th><td>1</td><td>1</td><td>16/07/2015</td><td>5</td><td>367387</td><td>5048252</td><td>7.299334169216124 </td><td>45.57336733566606 </td><td> 59</td><td>96</td><td>102</td><td>45</td><td>23</td><td>Graminacee</td><td>  NA</td><td> NA</td><td>NA</td><td>NA</td><td>NA</td></tr>\n",
       "\t<tr><th scope=row>2</th><td>2</td><td>1</td><td>14/07/2015</td><td>1</td><td>367395</td><td>5048256</td><td>7.299435567549568 </td><td>45.57340484970021 </td><td>176</td><td>42</td><td> 76</td><td>35</td><td>16</td><td>Graminacee</td><td> 920</td><td>264</td><td>NA</td><td>NA</td><td>NA</td></tr>\n",
       "\t<tr><th scope=row>3</th><td>3</td><td>1</td><td>14/07/2015</td><td>1</td><td>367400</td><td>5048260</td><td>7.299498534160594 </td><td>45.57344179138952 </td><td> 51</td><td>88</td><td> 62</td><td>25</td><td>13</td><td>Graminacee</td><td> 891</td><td>249</td><td>NA</td><td>NA</td><td>NA</td></tr>\n",
       "\t<tr><th scope=row>4</th><td>4</td><td>1</td><td>14/07/2015</td><td>1</td><td>367409</td><td>5048262</td><td>7.2996132865560055</td><td>45.57346150207162 </td><td> 99</td><td>30</td><td> 36</td><td>50</td><td>23</td><td>Graminacee</td><td> 774</td><td>232</td><td>NA</td><td>NA</td><td>NA</td></tr>\n",
       "\t<tr><th scope=row>5</th><td>5</td><td>1</td><td>14/07/2015</td><td>1</td><td>367418</td><td>5048265</td><td>7.29972776745971  </td><td>45.573490209615734</td><td>164</td><td>41</td><td> 47</td><td>25</td><td>21</td><td>Graminacee</td><td> 697</td><td>243</td><td>NA</td><td>NA</td><td>NA</td></tr>\n",
       "\t<tr><th scope=row>6</th><td>6</td><td>1</td><td>14/07/2015</td><td>1</td><td>367426</td><td>5048265</td><td>7.299830252520922 </td><td>45.573491735399855</td><td>130</td><td>31</td><td> 36</td><td>55</td><td>20</td><td>Graminacee</td><td>1108</td><td>254</td><td>NA</td><td>NA</td><td>NA</td></tr>\n",
       "</tbody>\n",
       "</table>\n"
      ],
      "text/latex": [
       "A data.frame: 6 × 19\n",
       "\\begin{tabular}{r|lllllllllllllllllll}\n",
       "  & ID\\_TRAP & SESSIONE & data.attivazione & occasione.attivazione & ED50.Coord.X & ED50.Coord.Y & WGS84.Coord.Long & WGS84.Coord.Lat & Diametro.roccia.1..cm. & Diametro.roccia.2..cm. & Diametro.roccia.3..cm. & X..COP..VEG. & NUMERO.SPECIE & SPECIE.DOMINANTE & distanza.trappole..cm...da.75a1. & angolo.trappole..gradi.AZ..da75a1. & X & X.1 & X.2\\\\\n",
       "  & <int> & <dbl> & <fct> & <int> & <int> & <int> & <fct> & <fct> & <int> & <int> & <int> & <int> & <int> & <fct> & <int> & <int> & <lgl> & <lgl> & <lgl>\\\\\n",
       "\\hline\n",
       "\t1 & 1 & 1 & 16/07/2015 & 5 & 367387 & 5048252 & 7.299334169216124  & 45.57336733566606  &  59 & 96 & 102 & 45 & 23 & Graminacee &   NA &  NA & NA & NA & NA\\\\\n",
       "\t2 & 2 & 1 & 14/07/2015 & 1 & 367395 & 5048256 & 7.299435567549568  & 45.57340484970021  & 176 & 42 &  76 & 35 & 16 & Graminacee &  920 & 264 & NA & NA & NA\\\\\n",
       "\t3 & 3 & 1 & 14/07/2015 & 1 & 367400 & 5048260 & 7.299498534160594  & 45.57344179138952  &  51 & 88 &  62 & 25 & 13 & Graminacee &  891 & 249 & NA & NA & NA\\\\\n",
       "\t4 & 4 & 1 & 14/07/2015 & 1 & 367409 & 5048262 & 7.2996132865560055 & 45.57346150207162  &  99 & 30 &  36 & 50 & 23 & Graminacee &  774 & 232 & NA & NA & NA\\\\\n",
       "\t5 & 5 & 1 & 14/07/2015 & 1 & 367418 & 5048265 & 7.29972776745971   & 45.573490209615734 & 164 & 41 &  47 & 25 & 21 & Graminacee &  697 & 243 & NA & NA & NA\\\\\n",
       "\t6 & 6 & 1 & 14/07/2015 & 1 & 367426 & 5048265 & 7.299830252520922  & 45.573491735399855 & 130 & 31 &  36 & 55 & 20 & Graminacee & 1108 & 254 & NA & NA & NA\\\\\n",
       "\\end{tabular}\n"
      ],
      "text/markdown": [
       "\n",
       "A data.frame: 6 × 19\n",
       "\n",
       "| <!--/--> | ID_TRAP &lt;int&gt; | SESSIONE &lt;dbl&gt; | data.attivazione &lt;fct&gt; | occasione.attivazione &lt;int&gt; | ED50.Coord.X &lt;int&gt; | ED50.Coord.Y &lt;int&gt; | WGS84.Coord.Long &lt;fct&gt; | WGS84.Coord.Lat &lt;fct&gt; | Diametro.roccia.1..cm. &lt;int&gt; | Diametro.roccia.2..cm. &lt;int&gt; | Diametro.roccia.3..cm. &lt;int&gt; | X..COP..VEG. &lt;int&gt; | NUMERO.SPECIE &lt;int&gt; | SPECIE.DOMINANTE &lt;fct&gt; | distanza.trappole..cm...da.75a1. &lt;int&gt; | angolo.trappole..gradi.AZ..da75a1. &lt;int&gt; | X &lt;lgl&gt; | X.1 &lt;lgl&gt; | X.2 &lt;lgl&gt; |\n",
       "|---|---|---|---|---|---|---|---|---|---|---|---|---|---|---|---|---|---|---|---|\n",
       "| 1 | 1 | 1 | 16/07/2015 | 5 | 367387 | 5048252 | 7.299334169216124  | 45.57336733566606  |  59 | 96 | 102 | 45 | 23 | Graminacee |   NA |  NA | NA | NA | NA |\n",
       "| 2 | 2 | 1 | 14/07/2015 | 1 | 367395 | 5048256 | 7.299435567549568  | 45.57340484970021  | 176 | 42 |  76 | 35 | 16 | Graminacee |  920 | 264 | NA | NA | NA |\n",
       "| 3 | 3 | 1 | 14/07/2015 | 1 | 367400 | 5048260 | 7.299498534160594  | 45.57344179138952  |  51 | 88 |  62 | 25 | 13 | Graminacee |  891 | 249 | NA | NA | NA |\n",
       "| 4 | 4 | 1 | 14/07/2015 | 1 | 367409 | 5048262 | 7.2996132865560055 | 45.57346150207162  |  99 | 30 |  36 | 50 | 23 | Graminacee |  774 | 232 | NA | NA | NA |\n",
       "| 5 | 5 | 1 | 14/07/2015 | 1 | 367418 | 5048265 | 7.29972776745971   | 45.573490209615734 | 164 | 41 |  47 | 25 | 21 | Graminacee |  697 | 243 | NA | NA | NA |\n",
       "| 6 | 6 | 1 | 14/07/2015 | 1 | 367426 | 5048265 | 7.299830252520922  | 45.573491735399855 | 130 | 31 |  36 | 55 | 20 | Graminacee | 1108 | 254 | NA | NA | NA |\n",
       "\n"
      ],
      "text/plain": [
       "  ID_TRAP SESSIONE data.attivazione occasione.attivazione ED50.Coord.X\n",
       "1 1       1        16/07/2015       5                     367387      \n",
       "2 2       1        14/07/2015       1                     367395      \n",
       "3 3       1        14/07/2015       1                     367400      \n",
       "4 4       1        14/07/2015       1                     367409      \n",
       "5 5       1        14/07/2015       1                     367418      \n",
       "6 6       1        14/07/2015       1                     367426      \n",
       "  ED50.Coord.Y WGS84.Coord.Long   WGS84.Coord.Lat    Diametro.roccia.1..cm.\n",
       "1 5048252      7.299334169216124  45.57336733566606   59                   \n",
       "2 5048256      7.299435567549568  45.57340484970021  176                   \n",
       "3 5048260      7.299498534160594  45.57344179138952   51                   \n",
       "4 5048262      7.2996132865560055 45.57346150207162   99                   \n",
       "5 5048265      7.29972776745971   45.573490209615734 164                   \n",
       "6 5048265      7.299830252520922  45.573491735399855 130                   \n",
       "  Diametro.roccia.2..cm. Diametro.roccia.3..cm. X..COP..VEG. NUMERO.SPECIE\n",
       "1 96                     102                    45           23           \n",
       "2 42                      76                    35           16           \n",
       "3 88                      62                    25           13           \n",
       "4 30                      36                    50           23           \n",
       "5 41                      47                    25           21           \n",
       "6 31                      36                    55           20           \n",
       "  SPECIE.DOMINANTE distanza.trappole..cm...da.75a1.\n",
       "1 Graminacee         NA                            \n",
       "2 Graminacee        920                            \n",
       "3 Graminacee        891                            \n",
       "4 Graminacee        774                            \n",
       "5 Graminacee        697                            \n",
       "6 Graminacee       1108                            \n",
       "  angolo.trappole..gradi.AZ..da75a1. X  X.1 X.2\n",
       "1  NA                                NA NA  NA \n",
       "2 264                                NA NA  NA \n",
       "3 249                                NA NA  NA \n",
       "4 232                                NA NA  NA \n",
       "5 243                                NA NA  NA \n",
       "6 254                                NA NA  NA "
      ]
     },
     "metadata": {},
     "output_type": "display_data"
    }
   ],
   "source": [
    "head(Datitrap)"
   ]
  },
  {
   "cell_type": "markdown",
   "metadata": {},
   "source": [
    "#### I dati delle catture vanno puliti. Andiamo a rimuovere i campi vuoti ed indeterminati, sostituendoli con NA"
   ]
  },
  {
   "cell_type": "code",
   "execution_count": 3,
   "metadata": {},
   "outputs": [],
   "source": [
    "Daticatt[Daticatt==\"\"] <- NA\n",
    "Daticatt[Daticatt==\"IND\"] <- NA"
   ]
  },
  {
   "cell_type": "code",
   "execution_count": 4,
   "metadata": {},
   "outputs": [],
   "source": [
    "# Per usi futuri\n",
    "#Daticatt[\"Marcatura\"] <- paste(Daticatt$chip,Daticatt$pelo)"
   ]
  },
  {
   "cell_type": "markdown",
   "metadata": {},
   "source": [
    "#### Trasformiamo la Data in formato comprensibile da R ed aggiungiamo una colonna per semplificare le analisi di anno in anno"
   ]
  },
  {
   "cell_type": "code",
   "execution_count": 5,
   "metadata": {},
   "outputs": [],
   "source": [
    "Daticatt[\"Data_R\"] <- as.Date(Daticatt$DATA, \"%d/%m/%Y\")\n",
    "Daticatt[\"Anno\"] <- format(Daticatt[\"Data_R\"],\"%Y\")\n",
    "# Eliminiamo la vecchia colonna Data\n",
    "Daticatt <- subset( Daticatt, select = -DATA)"
   ]
  },
  {
   "cell_type": "code",
   "execution_count": 6,
   "metadata": {},
   "outputs": [
    {
     "data": {
      "text/html": [
       "<table>\n",
       "<caption>A data.frame: 6 × 16</caption>\n",
       "<thead>\n",
       "\t<tr><th></th><th scope=col>ID_cattura</th><th scope=col>ALBA</th><th scope=col>sessione</th><th scope=col>occasione</th><th scope=col>ID_TRAPPOLA</th><th scope=col>chip</th><th scope=col>ricattura</th><th scope=col>pelo</th><th scope=col>peso..g.</th><th scope=col>sex</th><th scope=col>eta</th><th scope=col>statoripr</th><th scope=col>NOTE</th><th scope=col>DOY</th><th scope=col>Data_R</th><th scope=col>Anno</th></tr>\n",
       "\t<tr><th></th><th scope=col>&lt;int&gt;</th><th scope=col>&lt;fct&gt;</th><th scope=col>&lt;int&gt;</th><th scope=col>&lt;int&gt;</th><th scope=col>&lt;fct&gt;</th><th scope=col>&lt;fct&gt;</th><th scope=col>&lt;fct&gt;</th><th scope=col>&lt;fct&gt;</th><th scope=col>&lt;int&gt;</th><th scope=col>&lt;fct&gt;</th><th scope=col>&lt;fct&gt;</th><th scope=col>&lt;fct&gt;</th><th scope=col>&lt;fct&gt;</th><th scope=col>&lt;int&gt;</th><th scope=col>&lt;date&gt;</th><th scope=col>&lt;I&lt;chr&gt;&gt;</th></tr>\n",
       "</thead>\n",
       "<tbody>\n",
       "\t<tr><th scope=row>1</th><td>1</td><td>T  </td><td>1</td><td>1</td><td>11</td><td>1315302</td><td>N </td><td>NA  </td><td>36</td><td>F</td><td>A</td><td>NR</td><td>NA</td><td>243</td><td>2014-08-31</td><td>2014</td></tr>\n",
       "\t<tr><th scope=row>2</th><td>2</td><td>A  </td><td>1</td><td>2</td><td>6 </td><td>NA     </td><td>N </td><td>SI  </td><td>35</td><td>F</td><td>A</td><td>NR</td><td>NA</td><td>244</td><td>2014-09-01</td><td>2014</td></tr>\n",
       "\t<tr><th scope=row>3</th><td>3</td><td>A  </td><td>1</td><td>2</td><td>11</td><td>NA     </td><td>N </td><td>SI e</td><td>41</td><td>M</td><td>A</td><td>R </td><td>NA</td><td>244</td><td>2014-09-01</td><td>2014</td></tr>\n",
       "\t<tr><th scope=row>4</th><td>4</td><td>A  </td><td>1</td><td>2</td><td>35</td><td>1314921</td><td>N </td><td>NA  </td><td>39</td><td>F</td><td>A</td><td>NA</td><td>NA</td><td>244</td><td>2014-09-01</td><td>2014</td></tr>\n",
       "\t<tr><th scope=row>5</th><td>5</td><td>A  </td><td>1</td><td>2</td><td>45</td><td>1314375</td><td>N </td><td>NA  </td><td>33</td><td>M</td><td>G</td><td>NR</td><td>NA</td><td>244</td><td>2014-09-01</td><td>2014</td></tr>\n",
       "\t<tr><th scope=row>6</th><td>6</td><td>T  </td><td>1</td><td>3</td><td>26</td><td>1314305</td><td>N </td><td>NA  </td><td>45</td><td>M</td><td>A</td><td>R </td><td>NA</td><td>244</td><td>2014-09-01</td><td>2014</td></tr>\n",
       "</tbody>\n",
       "</table>\n"
      ],
      "text/latex": [
       "A data.frame: 6 × 16\n",
       "\\begin{tabular}{r|llllllllllllllll}\n",
       "  & ID\\_cattura & ALBA & sessione & occasione & ID\\_TRAPPOLA & chip & ricattura & pelo & peso..g. & sex & eta & statoripr & NOTE & DOY & Data\\_R & Anno\\\\\n",
       "  & <int> & <fct> & <int> & <int> & <fct> & <fct> & <fct> & <fct> & <int> & <fct> & <fct> & <fct> & <fct> & <int> & <date> & <I<chr>>\\\\\n",
       "\\hline\n",
       "\t1 & 1 & T   & 1 & 1 & 11 & 1315302 & N  & NA   & 36 & F & A & NR & NA & 243 & 2014-08-31 & 2014\\\\\n",
       "\t2 & 2 & A   & 1 & 2 & 6  & NA      & N  & SI   & 35 & F & A & NR & NA & 244 & 2014-09-01 & 2014\\\\\n",
       "\t3 & 3 & A   & 1 & 2 & 11 & NA      & N  & SI e & 41 & M & A & R  & NA & 244 & 2014-09-01 & 2014\\\\\n",
       "\t4 & 4 & A   & 1 & 2 & 35 & 1314921 & N  & NA   & 39 & F & A & NA & NA & 244 & 2014-09-01 & 2014\\\\\n",
       "\t5 & 5 & A   & 1 & 2 & 45 & 1314375 & N  & NA   & 33 & M & G & NR & NA & 244 & 2014-09-01 & 2014\\\\\n",
       "\t6 & 6 & T   & 1 & 3 & 26 & 1314305 & N  & NA   & 45 & M & A & R  & NA & 244 & 2014-09-01 & 2014\\\\\n",
       "\\end{tabular}\n"
      ],
      "text/markdown": [
       "\n",
       "A data.frame: 6 × 16\n",
       "\n",
       "| <!--/--> | ID_cattura &lt;int&gt; | ALBA &lt;fct&gt; | sessione &lt;int&gt; | occasione &lt;int&gt; | ID_TRAPPOLA &lt;fct&gt; | chip &lt;fct&gt; | ricattura &lt;fct&gt; | pelo &lt;fct&gt; | peso..g. &lt;int&gt; | sex &lt;fct&gt; | eta &lt;fct&gt; | statoripr &lt;fct&gt; | NOTE &lt;fct&gt; | DOY &lt;int&gt; | Data_R &lt;date&gt; | Anno &lt;I&lt;chr&gt;&gt; |\n",
       "|---|---|---|---|---|---|---|---|---|---|---|---|---|---|---|---|---|\n",
       "| 1 | 1 | T   | 1 | 1 | 11 | 1315302 | N  | NA   | 36 | F | A | NR | NA | 243 | 2014-08-31 | 2014 |\n",
       "| 2 | 2 | A   | 1 | 2 | 6  | NA      | N  | SI   | 35 | F | A | NR | NA | 244 | 2014-09-01 | 2014 |\n",
       "| 3 | 3 | A   | 1 | 2 | 11 | NA      | N  | SI e | 41 | M | A | R  | NA | 244 | 2014-09-01 | 2014 |\n",
       "| 4 | 4 | A   | 1 | 2 | 35 | 1314921 | N  | NA   | 39 | F | A | NA | NA | 244 | 2014-09-01 | 2014 |\n",
       "| 5 | 5 | A   | 1 | 2 | 45 | 1314375 | N  | NA   | 33 | M | G | NR | NA | 244 | 2014-09-01 | 2014 |\n",
       "| 6 | 6 | T   | 1 | 3 | 26 | 1314305 | N  | NA   | 45 | M | A | R  | NA | 244 | 2014-09-01 | 2014 |\n",
       "\n"
      ],
      "text/plain": [
       "  ID_cattura ALBA sessione occasione ID_TRAPPOLA chip    ricattura pelo\n",
       "1 1          T    1        1         11          1315302 N         NA  \n",
       "2 2          A    1        2         6           NA      N         SI  \n",
       "3 3          A    1        2         11          NA      N         SI e\n",
       "4 4          A    1        2         35          1314921 N         NA  \n",
       "5 5          A    1        2         45          1314375 N         NA  \n",
       "6 6          T    1        3         26          1314305 N         NA  \n",
       "  peso..g. sex eta statoripr NOTE DOY Data_R     Anno\n",
       "1 36       F   A   NR        NA   243 2014-08-31 2014\n",
       "2 35       F   A   NR        NA   244 2014-09-01 2014\n",
       "3 41       M   A   R         NA   244 2014-09-01 2014\n",
       "4 39       F   A   NA        NA   244 2014-09-01 2014\n",
       "5 33       M   G   NR        NA   244 2014-09-01 2014\n",
       "6 45       M   A   R         NA   244 2014-09-01 2014"
      ]
     },
     "metadata": {},
     "output_type": "display_data"
    }
   ],
   "source": [
    "head(Daticatt)"
   ]
  },
  {
   "cell_type": "code",
   "execution_count": 7,
   "metadata": {},
   "outputs": [],
   "source": [
    "#### Per alcune analisi, risulta utile unire il dataframe delle catture con quello delle trappole"
   ]
  },
  {
   "cell_type": "code",
   "execution_count": 8,
   "metadata": {},
   "outputs": [],
   "source": [
    "mergedData <- merge(Daticatt, Datitrap, by.x=c(\"ID_TRAPPOLA\"), by.y=c(\"ID_TRAP\"))"
   ]
  },
  {
   "cell_type": "code",
   "execution_count": 9,
   "metadata": {},
   "outputs": [
    {
     "data": {
      "text/html": [
       "<table>\n",
       "<caption>A data.frame: 6 × 34</caption>\n",
       "<thead>\n",
       "\t<tr><th></th><th scope=col>ID_TRAPPOLA</th><th scope=col>ID_cattura</th><th scope=col>ALBA</th><th scope=col>sessione</th><th scope=col>occasione</th><th scope=col>chip</th><th scope=col>ricattura</th><th scope=col>pelo</th><th scope=col>peso..g.</th><th scope=col>sex</th><th scope=col>...</th><th scope=col>Diametro.roccia.2..cm.</th><th scope=col>Diametro.roccia.3..cm.</th><th scope=col>X..COP..VEG.</th><th scope=col>NUMERO.SPECIE</th><th scope=col>SPECIE.DOMINANTE</th><th scope=col>distanza.trappole..cm...da.75a1.</th><th scope=col>angolo.trappole..gradi.AZ..da75a1.</th><th scope=col>X</th><th scope=col>X.1</th><th scope=col>X.2</th></tr>\n",
       "\t<tr><th></th><th scope=col>&lt;fct&gt;</th><th scope=col>&lt;int&gt;</th><th scope=col>&lt;fct&gt;</th><th scope=col>&lt;int&gt;</th><th scope=col>&lt;int&gt;</th><th scope=col>&lt;fct&gt;</th><th scope=col>&lt;fct&gt;</th><th scope=col>&lt;fct&gt;</th><th scope=col>&lt;int&gt;</th><th scope=col>&lt;fct&gt;</th><th scope=col>...</th><th scope=col>&lt;int&gt;</th><th scope=col>&lt;int&gt;</th><th scope=col>&lt;int&gt;</th><th scope=col>&lt;int&gt;</th><th scope=col>&lt;fct&gt;</th><th scope=col>&lt;int&gt;</th><th scope=col>&lt;int&gt;</th><th scope=col>&lt;lgl&gt;</th><th scope=col>&lt;lgl&gt;</th><th scope=col>&lt;lgl&gt;</th></tr>\n",
       "</thead>\n",
       "<tbody>\n",
       "\t<tr><th scope=row>1</th><td>10</td><td>19</td><td>A  </td><td>1</td><td>10</td><td>NA     </td><td>R </td><td>SI 8 </td><td>31</td><td>F</td><td>...</td><td>34</td><td>41</td><td>35</td><td>20</td><td>Graminacee   </td><td> 833</td><td>298</td><td>NA</td><td>NA</td><td>NA</td></tr>\n",
       "\t<tr><th scope=row>2</th><td>10</td><td>14</td><td>A  </td><td>1</td><td>12</td><td>1317018</td><td>R </td><td>E    </td><td>34</td><td>F</td><td>...</td><td>34</td><td>41</td><td>35</td><td>20</td><td>Graminacee   </td><td> 833</td><td>298</td><td>NA</td><td>NA</td><td>NA</td></tr>\n",
       "\t<tr><th scope=row>3</th><td>10</td><td>33</td><td>A  </td><td>2</td><td> 3</td><td>NA     </td><td>N </td><td>Eg/Fg</td><td>31</td><td>M</td><td>...</td><td>34</td><td>41</td><td>35</td><td>20</td><td>Graminacee   </td><td> 833</td><td>298</td><td>NA</td><td>NA</td><td>NA</td></tr>\n",
       "\t<tr><th scope=row>4</th><td>11</td><td>28</td><td>A  </td><td>1</td><td>13</td><td>NA     </td><td>R?</td><td>D/Fb </td><td>27</td><td>M</td><td>...</td><td>36</td><td>55</td><td> 5</td><td> 7</td><td>Oxyria digyna</td><td>1166</td><td>304</td><td>NA</td><td>NA</td><td>NA</td></tr>\n",
       "\t<tr><th scope=row>5</th><td>11</td><td> 3</td><td>A  </td><td>1</td><td> 2</td><td>NA     </td><td>N </td><td>SI e </td><td>41</td><td>M</td><td>...</td><td>36</td><td>55</td><td> 5</td><td> 7</td><td>Oxyria digyna</td><td>1166</td><td>304</td><td>NA</td><td>NA</td><td>NA</td></tr>\n",
       "\t<tr><th scope=row>6</th><td>11</td><td>60</td><td>A  </td><td>2</td><td>11</td><td>NA     </td><td>N </td><td>Eg/Fb</td><td>25</td><td>F</td><td>...</td><td>36</td><td>55</td><td> 5</td><td> 7</td><td>Oxyria digyna</td><td>1166</td><td>304</td><td>NA</td><td>NA</td><td>NA</td></tr>\n",
       "</tbody>\n",
       "</table>\n"
      ],
      "text/latex": [
       "A data.frame: 6 × 34\n",
       "\\begin{tabular}{r|lllllllllllllllllllll}\n",
       "  & ID\\_TRAPPOLA & ID\\_cattura & ALBA & sessione & occasione & chip & ricattura & pelo & peso..g. & sex & ... & Diametro.roccia.2..cm. & Diametro.roccia.3..cm. & X..COP..VEG. & NUMERO.SPECIE & SPECIE.DOMINANTE & distanza.trappole..cm...da.75a1. & angolo.trappole..gradi.AZ..da75a1. & X & X.1 & X.2\\\\\n",
       "  & <fct> & <int> & <fct> & <int> & <int> & <fct> & <fct> & <fct> & <int> & <fct> & ... & <int> & <int> & <int> & <int> & <fct> & <int> & <int> & <lgl> & <lgl> & <lgl>\\\\\n",
       "\\hline\n",
       "\t1 & 10 & 19 & A   & 1 & 10 & NA      & R  & SI 8  & 31 & F & ... & 34 & 41 & 35 & 20 & Graminacee    &  833 & 298 & NA & NA & NA\\\\\n",
       "\t2 & 10 & 14 & A   & 1 & 12 & 1317018 & R  & E     & 34 & F & ... & 34 & 41 & 35 & 20 & Graminacee    &  833 & 298 & NA & NA & NA\\\\\n",
       "\t3 & 10 & 33 & A   & 2 &  3 & NA      & N  & Eg/Fg & 31 & M & ... & 34 & 41 & 35 & 20 & Graminacee    &  833 & 298 & NA & NA & NA\\\\\n",
       "\t4 & 11 & 28 & A   & 1 & 13 & NA      & R? & D/Fb  & 27 & M & ... & 36 & 55 &  5 &  7 & Oxyria digyna & 1166 & 304 & NA & NA & NA\\\\\n",
       "\t5 & 11 &  3 & A   & 1 &  2 & NA      & N  & SI e  & 41 & M & ... & 36 & 55 &  5 &  7 & Oxyria digyna & 1166 & 304 & NA & NA & NA\\\\\n",
       "\t6 & 11 & 60 & A   & 2 & 11 & NA      & N  & Eg/Fb & 25 & F & ... & 36 & 55 &  5 &  7 & Oxyria digyna & 1166 & 304 & NA & NA & NA\\\\\n",
       "\\end{tabular}\n"
      ],
      "text/markdown": [
       "\n",
       "A data.frame: 6 × 34\n",
       "\n",
       "| <!--/--> | ID_TRAPPOLA &lt;fct&gt; | ID_cattura &lt;int&gt; | ALBA &lt;fct&gt; | sessione &lt;int&gt; | occasione &lt;int&gt; | chip &lt;fct&gt; | ricattura &lt;fct&gt; | pelo &lt;fct&gt; | peso..g. &lt;int&gt; | sex &lt;fct&gt; | ... ... | Diametro.roccia.2..cm. &lt;int&gt; | Diametro.roccia.3..cm. &lt;int&gt; | X..COP..VEG. &lt;int&gt; | NUMERO.SPECIE &lt;int&gt; | SPECIE.DOMINANTE &lt;fct&gt; | distanza.trappole..cm...da.75a1. &lt;int&gt; | angolo.trappole..gradi.AZ..da75a1. &lt;int&gt; | X &lt;lgl&gt; | X.1 &lt;lgl&gt; | X.2 &lt;lgl&gt; |\n",
       "|---|---|---|---|---|---|---|---|---|---|---|---|---|---|---|---|---|---|---|---|---|---|\n",
       "| 1 | 10 | 19 | A   | 1 | 10 | NA      | R  | SI 8  | 31 | F | ... | 34 | 41 | 35 | 20 | Graminacee    |  833 | 298 | NA | NA | NA |\n",
       "| 2 | 10 | 14 | A   | 1 | 12 | 1317018 | R  | E     | 34 | F | ... | 34 | 41 | 35 | 20 | Graminacee    |  833 | 298 | NA | NA | NA |\n",
       "| 3 | 10 | 33 | A   | 2 |  3 | NA      | N  | Eg/Fg | 31 | M | ... | 34 | 41 | 35 | 20 | Graminacee    |  833 | 298 | NA | NA | NA |\n",
       "| 4 | 11 | 28 | A   | 1 | 13 | NA      | R? | D/Fb  | 27 | M | ... | 36 | 55 |  5 |  7 | Oxyria digyna | 1166 | 304 | NA | NA | NA |\n",
       "| 5 | 11 |  3 | A   | 1 |  2 | NA      | N  | SI e  | 41 | M | ... | 36 | 55 |  5 |  7 | Oxyria digyna | 1166 | 304 | NA | NA | NA |\n",
       "| 6 | 11 | 60 | A   | 2 | 11 | NA      | N  | Eg/Fb | 25 | F | ... | 36 | 55 |  5 |  7 | Oxyria digyna | 1166 | 304 | NA | NA | NA |\n",
       "\n"
      ],
      "text/plain": [
       "  ID_TRAPPOLA ID_cattura ALBA sessione occasione chip    ricattura pelo \n",
       "1 10          19         A    1        10        NA      R         SI 8 \n",
       "2 10          14         A    1        12        1317018 R         E    \n",
       "3 10          33         A    2         3        NA      N         Eg/Fg\n",
       "4 11          28         A    1        13        NA      R?        D/Fb \n",
       "5 11           3         A    1         2        NA      N         SI e \n",
       "6 11          60         A    2        11        NA      N         Eg/Fb\n",
       "  peso..g. sex ... Diametro.roccia.2..cm. Diametro.roccia.3..cm. X..COP..VEG.\n",
       "1 31       F   ... 34                     41                     35          \n",
       "2 34       F   ... 34                     41                     35          \n",
       "3 31       M   ... 34                     41                     35          \n",
       "4 27       M   ... 36                     55                      5          \n",
       "5 41       M   ... 36                     55                      5          \n",
       "6 25       F   ... 36                     55                      5          \n",
       "  NUMERO.SPECIE SPECIE.DOMINANTE distanza.trappole..cm...da.75a1.\n",
       "1 20            Graminacee        833                            \n",
       "2 20            Graminacee        833                            \n",
       "3 20            Graminacee        833                            \n",
       "4  7            Oxyria digyna    1166                            \n",
       "5  7            Oxyria digyna    1166                            \n",
       "6  7            Oxyria digyna    1166                            \n",
       "  angolo.trappole..gradi.AZ..da75a1. X  X.1 X.2\n",
       "1 298                                NA NA  NA \n",
       "2 298                                NA NA  NA \n",
       "3 298                                NA NA  NA \n",
       "4 304                                NA NA  NA \n",
       "5 304                                NA NA  NA \n",
       "6 304                                NA NA  NA "
      ]
     },
     "metadata": {},
     "output_type": "display_data"
    }
   ],
   "source": [
    "head(mergedData) "
   ]
  },
  {
   "cell_type": "markdown",
   "metadata": {},
   "source": [
    "### Sono stati creati e salvati i nuovi dataframe da utilizzare per le analisi"
   ]
  },
  {
   "cell_type": "code",
   "execution_count": 11,
   "metadata": {},
   "outputs": [],
   "source": [
    "write.csv(Daticatt,\"Dati-elaborati\\\\Dati-catture.csv\", row.names = FALSE)\n",
    "write.csv(Datitrap,\"Dati-elaborati\\\\Dati-trappole.csv\", row.names = FALSE)\n",
    "write.csv(mergedData,\"Dati-elaborati\\\\Dati-catture-trappole.csv\", row.names = FALSE)"
   ]
  }
 ],
 "metadata": {
  "kernelspec": {
   "display_name": "R",
   "language": "R",
   "name": "ir"
  },
  "language_info": {
   "codemirror_mode": "r",
   "file_extension": ".r",
   "mimetype": "text/x-r-source",
   "name": "R",
   "pygments_lexer": "r",
   "version": "3.6.1"
  }
 },
 "nbformat": 4,
 "nbformat_minor": 4
}
