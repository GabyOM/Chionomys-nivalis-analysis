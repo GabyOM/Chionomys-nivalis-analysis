{
 "cells": [
  {
   "cell_type": "markdown",
   "metadata": {},
   "source": [
    "# Data Preparation\n",
    "#### Claudia Gabriela Ochoa Martinez (2020)\n",
    "## Loading Data"
   ]
  },
  {
   "cell_type": "code",
   "execution_count": 1,
   "metadata": {
    "jupyter": {
     "source_hidden": true
    }
   },
   "outputs": [],
   "source": [
    "Daticatt <- read.csv(\"Dati-originali/datticatture.csv\", dec=\",\", sep=\";\", header = TRUE)\n",
    "Datitrap <- read.csv(\"Dati-originali/dattitrappole.csv\", dec=\",\", sep=\";\", header = TRUE)\n",
    "Datioccas <- read.csv(\"Dati-originali/sforzocampionamento.csv\", dec=\",\", sep=\";\", header = TRUE)"
   ]
  },
  {
   "cell_type": "markdown",
   "metadata": {},
   "source": [
    "#### I dati delle trappole non hanno bisogno di particolari modifiche"
   ]
  },
  {
   "cell_type": "code",
   "execution_count": 2,
   "metadata": {},
   "outputs": [
    {
     "data": {
      "text/html": [
       "<table>\n",
       "<caption>A data.frame: 6 × 24</caption>\n",
       "<thead>\n",
       "\t<tr><th></th><th scope=col>ID_TRAP</th><th scope=col>SESSIONE</th><th scope=col>data.attivazione</th><th scope=col>occasione.attivazione</th><th scope=col>ED50.Coord.X</th><th scope=col>ED50.Coord.Y</th><th scope=col>WGS84.Coord.Long</th><th scope=col>WGS84.Coord.Lat</th><th scope=col>Diametro.roccia.1..cm.</th><th scope=col>Diametro.roccia.2..cm.</th><th scope=col>...</th><th scope=col>X..COP..VEG..2015</th><th scope=col>X..COP..VEG..2018</th><th scope=col>ottavi_veg2018</th><th scope=col>NUMERO.SPECIE</th><th scope=col>SPECIE.DOMINANTE</th><th scope=col>distanza.trappole..cm...da.75a1.</th><th scope=col>angolo.trappole..gradi.AZ..da75a1.</th><th scope=col>X</th><th scope=col>X.1</th><th scope=col>X.2</th></tr>\n",
       "\t<tr><th></th><th scope=col>&lt;int&gt;</th><th scope=col>&lt;dbl&gt;</th><th scope=col>&lt;fct&gt;</th><th scope=col>&lt;int&gt;</th><th scope=col>&lt;int&gt;</th><th scope=col>&lt;int&gt;</th><th scope=col>&lt;fct&gt;</th><th scope=col>&lt;fct&gt;</th><th scope=col>&lt;int&gt;</th><th scope=col>&lt;int&gt;</th><th scope=col>...</th><th scope=col>&lt;int&gt;</th><th scope=col>&lt;dbl&gt;</th><th scope=col>&lt;int&gt;</th><th scope=col>&lt;int&gt;</th><th scope=col>&lt;fct&gt;</th><th scope=col>&lt;int&gt;</th><th scope=col>&lt;int&gt;</th><th scope=col>&lt;lgl&gt;</th><th scope=col>&lt;lgl&gt;</th><th scope=col>&lt;lgl&gt;</th></tr>\n",
       "</thead>\n",
       "<tbody>\n",
       "\t<tr><th scope=row>1</th><td>1</td><td>1</td><td>16/07/2015</td><td>5</td><td>367387</td><td>5048252</td><td>7.299334169216124 </td><td>45.57336733566606 </td><td> 59</td><td>96</td><td>...</td><td>45</td><td>62.5</td><td>5</td><td>23</td><td>Graminacee</td><td>  NA</td><td> NA</td><td>NA</td><td>NA</td><td>NA</td></tr>\n",
       "\t<tr><th scope=row>2</th><td>2</td><td>1</td><td>14/07/2015</td><td>1</td><td>367395</td><td>5048256</td><td>7.299435567549568 </td><td>45.57340484970021 </td><td>176</td><td>42</td><td>...</td><td>35</td><td>25.0</td><td>2</td><td>16</td><td>Graminacee</td><td> 920</td><td>264</td><td>NA</td><td>NA</td><td>NA</td></tr>\n",
       "\t<tr><th scope=row>3</th><td>3</td><td>1</td><td>14/07/2015</td><td>1</td><td>367400</td><td>5048260</td><td>7.299498534160594 </td><td>45.57344179138952 </td><td> 51</td><td>88</td><td>...</td><td>25</td><td>25.0</td><td>2</td><td>13</td><td>Graminacee</td><td> 891</td><td>249</td><td>NA</td><td>NA</td><td>NA</td></tr>\n",
       "\t<tr><th scope=row>4</th><td>4</td><td>1</td><td>14/07/2015</td><td>1</td><td>367409</td><td>5048262</td><td>7.2996132865560055</td><td>45.57346150207162 </td><td> 99</td><td>30</td><td>...</td><td>50</td><td>62.5</td><td>5</td><td>23</td><td>Graminacee</td><td> 774</td><td>232</td><td>NA</td><td>NA</td><td>NA</td></tr>\n",
       "\t<tr><th scope=row>5</th><td>5</td><td>1</td><td>14/07/2015</td><td>1</td><td>367418</td><td>5048265</td><td>7.29972776745971  </td><td>45.573490209615734</td><td>164</td><td>41</td><td>...</td><td>25</td><td>25.0</td><td>2</td><td>21</td><td>Graminacee</td><td> 697</td><td>243</td><td>NA</td><td>NA</td><td>NA</td></tr>\n",
       "\t<tr><th scope=row>6</th><td>6</td><td>1</td><td>14/07/2015</td><td>1</td><td>367426</td><td>5048265</td><td>7.299830252520922 </td><td>45.573491735399855</td><td>130</td><td>31</td><td>...</td><td>55</td><td>50.0</td><td>4</td><td>20</td><td>Graminacee</td><td>1108</td><td>254</td><td>NA</td><td>NA</td><td>NA</td></tr>\n",
       "</tbody>\n",
       "</table>\n"
      ],
      "text/latex": [
       "A data.frame: 6 × 24\n",
       "\\begin{tabular}{r|lllllllllllllllllllll}\n",
       "  & ID\\_TRAP & SESSIONE & data.attivazione & occasione.attivazione & ED50.Coord.X & ED50.Coord.Y & WGS84.Coord.Long & WGS84.Coord.Lat & Diametro.roccia.1..cm. & Diametro.roccia.2..cm. & ... & X..COP..VEG..2015 & X..COP..VEG..2018 & ottavi\\_veg2018 & NUMERO.SPECIE & SPECIE.DOMINANTE & distanza.trappole..cm...da.75a1. & angolo.trappole..gradi.AZ..da75a1. & X & X.1 & X.2\\\\\n",
       "  & <int> & <dbl> & <fct> & <int> & <int> & <int> & <fct> & <fct> & <int> & <int> & ... & <int> & <dbl> & <int> & <int> & <fct> & <int> & <int> & <lgl> & <lgl> & <lgl>\\\\\n",
       "\\hline\n",
       "\t1 & 1 & 1 & 16/07/2015 & 5 & 367387 & 5048252 & 7.299334169216124  & 45.57336733566606  &  59 & 96 & ... & 45 & 62.5 & 5 & 23 & Graminacee &   NA &  NA & NA & NA & NA\\\\\n",
       "\t2 & 2 & 1 & 14/07/2015 & 1 & 367395 & 5048256 & 7.299435567549568  & 45.57340484970021  & 176 & 42 & ... & 35 & 25.0 & 2 & 16 & Graminacee &  920 & 264 & NA & NA & NA\\\\\n",
       "\t3 & 3 & 1 & 14/07/2015 & 1 & 367400 & 5048260 & 7.299498534160594  & 45.57344179138952  &  51 & 88 & ... & 25 & 25.0 & 2 & 13 & Graminacee &  891 & 249 & NA & NA & NA\\\\\n",
       "\t4 & 4 & 1 & 14/07/2015 & 1 & 367409 & 5048262 & 7.2996132865560055 & 45.57346150207162  &  99 & 30 & ... & 50 & 62.5 & 5 & 23 & Graminacee &  774 & 232 & NA & NA & NA\\\\\n",
       "\t5 & 5 & 1 & 14/07/2015 & 1 & 367418 & 5048265 & 7.29972776745971   & 45.573490209615734 & 164 & 41 & ... & 25 & 25.0 & 2 & 21 & Graminacee &  697 & 243 & NA & NA & NA\\\\\n",
       "\t6 & 6 & 1 & 14/07/2015 & 1 & 367426 & 5048265 & 7.299830252520922  & 45.573491735399855 & 130 & 31 & ... & 55 & 50.0 & 4 & 20 & Graminacee & 1108 & 254 & NA & NA & NA\\\\\n",
       "\\end{tabular}\n"
      ],
      "text/markdown": [
       "\n",
       "A data.frame: 6 × 24\n",
       "\n",
       "| <!--/--> | ID_TRAP &lt;int&gt; | SESSIONE &lt;dbl&gt; | data.attivazione &lt;fct&gt; | occasione.attivazione &lt;int&gt; | ED50.Coord.X &lt;int&gt; | ED50.Coord.Y &lt;int&gt; | WGS84.Coord.Long &lt;fct&gt; | WGS84.Coord.Lat &lt;fct&gt; | Diametro.roccia.1..cm. &lt;int&gt; | Diametro.roccia.2..cm. &lt;int&gt; | ... ... | X..COP..VEG..2015 &lt;int&gt; | X..COP..VEG..2018 &lt;dbl&gt; | ottavi_veg2018 &lt;int&gt; | NUMERO.SPECIE &lt;int&gt; | SPECIE.DOMINANTE &lt;fct&gt; | distanza.trappole..cm...da.75a1. &lt;int&gt; | angolo.trappole..gradi.AZ..da75a1. &lt;int&gt; | X &lt;lgl&gt; | X.1 &lt;lgl&gt; | X.2 &lt;lgl&gt; |\n",
       "|---|---|---|---|---|---|---|---|---|---|---|---|---|---|---|---|---|---|---|---|---|---|\n",
       "| 1 | 1 | 1 | 16/07/2015 | 5 | 367387 | 5048252 | 7.299334169216124  | 45.57336733566606  |  59 | 96 | ... | 45 | 62.5 | 5 | 23 | Graminacee |   NA |  NA | NA | NA | NA |\n",
       "| 2 | 2 | 1 | 14/07/2015 | 1 | 367395 | 5048256 | 7.299435567549568  | 45.57340484970021  | 176 | 42 | ... | 35 | 25.0 | 2 | 16 | Graminacee |  920 | 264 | NA | NA | NA |\n",
       "| 3 | 3 | 1 | 14/07/2015 | 1 | 367400 | 5048260 | 7.299498534160594  | 45.57344179138952  |  51 | 88 | ... | 25 | 25.0 | 2 | 13 | Graminacee |  891 | 249 | NA | NA | NA |\n",
       "| 4 | 4 | 1 | 14/07/2015 | 1 | 367409 | 5048262 | 7.2996132865560055 | 45.57346150207162  |  99 | 30 | ... | 50 | 62.5 | 5 | 23 | Graminacee |  774 | 232 | NA | NA | NA |\n",
       "| 5 | 5 | 1 | 14/07/2015 | 1 | 367418 | 5048265 | 7.29972776745971   | 45.573490209615734 | 164 | 41 | ... | 25 | 25.0 | 2 | 21 | Graminacee |  697 | 243 | NA | NA | NA |\n",
       "| 6 | 6 | 1 | 14/07/2015 | 1 | 367426 | 5048265 | 7.299830252520922  | 45.573491735399855 | 130 | 31 | ... | 55 | 50.0 | 4 | 20 | Graminacee | 1108 | 254 | NA | NA | NA |\n",
       "\n"
      ],
      "text/plain": [
       "  ID_TRAP SESSIONE data.attivazione occasione.attivazione ED50.Coord.X\n",
       "1 1       1        16/07/2015       5                     367387      \n",
       "2 2       1        14/07/2015       1                     367395      \n",
       "3 3       1        14/07/2015       1                     367400      \n",
       "4 4       1        14/07/2015       1                     367409      \n",
       "5 5       1        14/07/2015       1                     367418      \n",
       "6 6       1        14/07/2015       1                     367426      \n",
       "  ED50.Coord.Y WGS84.Coord.Long   WGS84.Coord.Lat    Diametro.roccia.1..cm.\n",
       "1 5048252      7.299334169216124  45.57336733566606   59                   \n",
       "2 5048256      7.299435567549568  45.57340484970021  176                   \n",
       "3 5048260      7.299498534160594  45.57344179138952   51                   \n",
       "4 5048262      7.2996132865560055 45.57346150207162   99                   \n",
       "5 5048265      7.29972776745971   45.573490209615734 164                   \n",
       "6 5048265      7.299830252520922  45.573491735399855 130                   \n",
       "  Diametro.roccia.2..cm. ... X..COP..VEG..2015 X..COP..VEG..2018 ottavi_veg2018\n",
       "1 96                     ... 45                62.5              5             \n",
       "2 42                     ... 35                25.0              2             \n",
       "3 88                     ... 25                25.0              2             \n",
       "4 30                     ... 50                62.5              5             \n",
       "5 41                     ... 25                25.0              2             \n",
       "6 31                     ... 55                50.0              4             \n",
       "  NUMERO.SPECIE SPECIE.DOMINANTE distanza.trappole..cm...da.75a1.\n",
       "1 23            Graminacee         NA                            \n",
       "2 16            Graminacee        920                            \n",
       "3 13            Graminacee        891                            \n",
       "4 23            Graminacee        774                            \n",
       "5 21            Graminacee        697                            \n",
       "6 20            Graminacee       1108                            \n",
       "  angolo.trappole..gradi.AZ..da75a1. X  X.1 X.2\n",
       "1  NA                                NA NA  NA \n",
       "2 264                                NA NA  NA \n",
       "3 249                                NA NA  NA \n",
       "4 232                                NA NA  NA \n",
       "5 243                                NA NA  NA \n",
       "6 254                                NA NA  NA "
      ]
     },
     "metadata": {},
     "output_type": "display_data"
    }
   ],
   "source": [
    "# Rimuoviamo le righe che non hanno un ID_TRAP - problema in fase di export da Excel\n",
    "Datitrap <- Datitrap[!is.na(Datitrap$ID_TRAP), ]\n",
    "\n",
    "head(Datitrap)"
   ]
  },
  {
   "cell_type": "markdown",
   "metadata": {},
   "source": [
    "#### I dati sullo sforzo di campionamento verranno modificati includendo la data in formato R e l'anno"
   ]
  },
  {
   "cell_type": "code",
   "execution_count": 3,
   "metadata": {},
   "outputs": [
    {
     "data": {
      "text/html": [
       "<table>\n",
       "<caption>A data.frame: 6 × 14</caption>\n",
       "<thead>\n",
       "\t<tr><th></th><th scope=col>occasione</th><th scope=col>ALBA..A.T.</th><th scope=col>sessione</th><th scope=col>trappole.posizionate</th><th scope=col>trappoleattive</th><th scope=col>n..trappole.inattive</th><th scope=col>ID.trappole.inattive</th><th scope=col>neve....S.N.</th><th scope=col>copertura.nuvolosa....8.</th><th scope=col>Sito</th><th scope=col>DOY</th><th scope=col>X</th><th scope=col>Data_R</th><th scope=col>Anno</th></tr>\n",
       "\t<tr><th></th><th scope=col>&lt;int&gt;</th><th scope=col>&lt;fct&gt;</th><th scope=col>&lt;int&gt;</th><th scope=col>&lt;int&gt;</th><th scope=col>&lt;int&gt;</th><th scope=col>&lt;int&gt;</th><th scope=col>&lt;fct&gt;</th><th scope=col>&lt;fct&gt;</th><th scope=col>&lt;fct&gt;</th><th scope=col>&lt;fct&gt;</th><th scope=col>&lt;int&gt;</th><th scope=col>&lt;lgl&gt;</th><th scope=col>&lt;date&gt;</th><th scope=col>&lt;I&lt;chr&gt;&gt;</th></tr>\n",
       "</thead>\n",
       "<tbody>\n",
       "\t<tr><th scope=row>1</th><td>1</td><td>T</td><td>2</td><td>30</td><td>30</td><td>0</td><td>NA   </td><td>N</td><td>2/8</td><td>COGNE</td><td>243</td><td>NA</td><td>2014-08-31</td><td>2014</td></tr>\n",
       "\t<tr><th scope=row>2</th><td>2</td><td>A</td><td>2</td><td>50</td><td>50</td><td>0</td><td>NA   </td><td>N</td><td>5/8</td><td>COGNE</td><td>244</td><td>NA</td><td>2014-09-01</td><td>2014</td></tr>\n",
       "\t<tr><th scope=row>3</th><td>3</td><td>T</td><td>2</td><td>70</td><td>68</td><td>2</td><td>51/56</td><td>N</td><td>0/8</td><td>COGNE</td><td>244</td><td>NA</td><td>2014-09-01</td><td>2014</td></tr>\n",
       "\t<tr><th scope=row>4</th><td>4</td><td>A</td><td>2</td><td>70</td><td>70</td><td>0</td><td>NA   </td><td>N</td><td>0/8</td><td>COGNE</td><td>245</td><td>NA</td><td>2014-09-02</td><td>2014</td></tr>\n",
       "\t<tr><th scope=row>5</th><td>5</td><td>T</td><td>2</td><td>70</td><td>70</td><td>0</td><td>NA   </td><td>N</td><td>0/8</td><td>COGNE</td><td>245</td><td>NA</td><td>2014-09-02</td><td>2014</td></tr>\n",
       "\t<tr><th scope=row>6</th><td>6</td><td>A</td><td>2</td><td>70</td><td>70</td><td>0</td><td>NA   </td><td>N</td><td>0/8</td><td>COGNE</td><td>246</td><td>NA</td><td>2014-09-03</td><td>2014</td></tr>\n",
       "</tbody>\n",
       "</table>\n"
      ],
      "text/latex": [
       "A data.frame: 6 × 14\n",
       "\\begin{tabular}{r|llllllllllllll}\n",
       "  & occasione & ALBA..A.T. & sessione & trappole.posizionate & trappoleattive & n..trappole.inattive & ID.trappole.inattive & neve....S.N. & copertura.nuvolosa....8. & Sito & DOY & X & Data\\_R & Anno\\\\\n",
       "  & <int> & <fct> & <int> & <int> & <int> & <int> & <fct> & <fct> & <fct> & <fct> & <int> & <lgl> & <date> & <I<chr>>\\\\\n",
       "\\hline\n",
       "\t1 & 1 & T & 2 & 30 & 30 & 0 & NA    & N & 2/8 & COGNE & 243 & NA & 2014-08-31 & 2014\\\\\n",
       "\t2 & 2 & A & 2 & 50 & 50 & 0 & NA    & N & 5/8 & COGNE & 244 & NA & 2014-09-01 & 2014\\\\\n",
       "\t3 & 3 & T & 2 & 70 & 68 & 2 & 51/56 & N & 0/8 & COGNE & 244 & NA & 2014-09-01 & 2014\\\\\n",
       "\t4 & 4 & A & 2 & 70 & 70 & 0 & NA    & N & 0/8 & COGNE & 245 & NA & 2014-09-02 & 2014\\\\\n",
       "\t5 & 5 & T & 2 & 70 & 70 & 0 & NA    & N & 0/8 & COGNE & 245 & NA & 2014-09-02 & 2014\\\\\n",
       "\t6 & 6 & A & 2 & 70 & 70 & 0 & NA    & N & 0/8 & COGNE & 246 & NA & 2014-09-03 & 2014\\\\\n",
       "\\end{tabular}\n"
      ],
      "text/markdown": [
       "\n",
       "A data.frame: 6 × 14\n",
       "\n",
       "| <!--/--> | occasione &lt;int&gt; | ALBA..A.T. &lt;fct&gt; | sessione &lt;int&gt; | trappole.posizionate &lt;int&gt; | trappoleattive &lt;int&gt; | n..trappole.inattive &lt;int&gt; | ID.trappole.inattive &lt;fct&gt; | neve....S.N. &lt;fct&gt; | copertura.nuvolosa....8. &lt;fct&gt; | Sito &lt;fct&gt; | DOY &lt;int&gt; | X &lt;lgl&gt; | Data_R &lt;date&gt; | Anno &lt;I&lt;chr&gt;&gt; |\n",
       "|---|---|---|---|---|---|---|---|---|---|---|---|---|---|---|\n",
       "| 1 | 1 | T | 2 | 30 | 30 | 0 | NA    | N | 2/8 | COGNE | 243 | NA | 2014-08-31 | 2014 |\n",
       "| 2 | 2 | A | 2 | 50 | 50 | 0 | NA    | N | 5/8 | COGNE | 244 | NA | 2014-09-01 | 2014 |\n",
       "| 3 | 3 | T | 2 | 70 | 68 | 2 | 51/56 | N | 0/8 | COGNE | 244 | NA | 2014-09-01 | 2014 |\n",
       "| 4 | 4 | A | 2 | 70 | 70 | 0 | NA    | N | 0/8 | COGNE | 245 | NA | 2014-09-02 | 2014 |\n",
       "| 5 | 5 | T | 2 | 70 | 70 | 0 | NA    | N | 0/8 | COGNE | 245 | NA | 2014-09-02 | 2014 |\n",
       "| 6 | 6 | A | 2 | 70 | 70 | 0 | NA    | N | 0/8 | COGNE | 246 | NA | 2014-09-03 | 2014 |\n",
       "\n"
      ],
      "text/plain": [
       "  occasione ALBA..A.T. sessione trappole.posizionate trappoleattive\n",
       "1 1         T          2        30                   30            \n",
       "2 2         A          2        50                   50            \n",
       "3 3         T          2        70                   68            \n",
       "4 4         A          2        70                   70            \n",
       "5 5         T          2        70                   70            \n",
       "6 6         A          2        70                   70            \n",
       "  n..trappole.inattive ID.trappole.inattive neve....S.N.\n",
       "1 0                    NA                   N           \n",
       "2 0                    NA                   N           \n",
       "3 2                    51/56                N           \n",
       "4 0                    NA                   N           \n",
       "5 0                    NA                   N           \n",
       "6 0                    NA                   N           \n",
       "  copertura.nuvolosa....8. Sito  DOY X  Data_R     Anno\n",
       "1 2/8                      COGNE 243 NA 2014-08-31 2014\n",
       "2 5/8                      COGNE 244 NA 2014-09-01 2014\n",
       "3 0/8                      COGNE 244 NA 2014-09-01 2014\n",
       "4 0/8                      COGNE 245 NA 2014-09-02 2014\n",
       "5 0/8                      COGNE 245 NA 2014-09-02 2014\n",
       "6 0/8                      COGNE 246 NA 2014-09-03 2014"
      ]
     },
     "metadata": {},
     "output_type": "display_data"
    }
   ],
   "source": [
    "Datioccas <- Datioccas[!is.na(Datioccas$occasione), ]\n",
    "\n",
    "Datioccas[\"Data_R\"] <- as.Date(Datioccas$DATA, \"%d/%m/%Y\")\n",
    "Datioccas[\"Anno\"] <- format(Datioccas[\"Data_R\"],\"%Y\")\n",
    "# Eliminiamo la vecchia colonna Data\n",
    "Datioccas <- subset( Datioccas, select = -DATA)\n",
    "\n",
    "head(Datioccas)"
   ]
  },
  {
   "cell_type": "markdown",
   "metadata": {},
   "source": [
    "#### I dati delle catture vanno puliti. Andiamo a rimuovere i campi vuoti ed indeterminati, sostituendoli con NA"
   ]
  },
  {
   "cell_type": "code",
   "execution_count": 4,
   "metadata": {},
   "outputs": [],
   "source": [
    "Daticatt[Daticatt==\"\"] <- NA\n",
    "Daticatt[Daticatt==\"IND\"] <- NA"
   ]
  },
  {
   "cell_type": "code",
   "execution_count": 5,
   "metadata": {},
   "outputs": [],
   "source": [
    "# Per usi futuri\n",
    "#Daticatt[\"Marcatura\"] <- paste(Daticatt$chip,Daticatt$pelo)"
   ]
  },
  {
   "cell_type": "markdown",
   "metadata": {},
   "source": [
    "#### Trasformiamo la Data in formato comprensibile da R ed aggiungiamo una colonna per semplificare le analisi di anno in anno"
   ]
  },
  {
   "cell_type": "code",
   "execution_count": null,
   "metadata": {},
   "outputs": [],
   "source": [
    "Daticatt[\"Data_R\"] <- as.Date(Daticatt$DATA, \"%d/%m/%Y\")\n",
    "Daticatt[\"Anno\"] <- format(Daticatt[\"Data_R\"],\"%Y\")\n",
    "# Eliminiamo la vecchia colonna Data\n",
    "Daticatt <- subset( Daticatt, select = -DATA)"
   ]
  },
  {
   "cell_type": "code",
   "execution_count": null,
   "metadata": {},
   "outputs": [],
   "source": [
    "head(Daticatt)"
   ]
  },
  {
   "cell_type": "markdown",
   "metadata": {},
   "source": [
    "#### Per alcune analisi, risulta utile unire il dataframe delle catture con quello delle trappole"
   ]
  },
  {
   "cell_type": "code",
   "execution_count": null,
   "metadata": {},
   "outputs": [],
   "source": [
    "mergedData <- merge(Daticatt, Datitrap, by.x=c(\"ID_TRAPPOLA\"), by.y=c(\"ID_TRAP\"))"
   ]
  },
  {
   "cell_type": "code",
   "execution_count": null,
   "metadata": {},
   "outputs": [],
   "source": [
    "head(mergedData) "
   ]
  },
  {
   "cell_type": "code",
   "execution_count": null,
   "metadata": {},
   "outputs": [],
   "source": []
  },
  {
   "cell_type": "markdown",
   "metadata": {},
   "source": [
    "### Sono stati creati e salvati i nuovi dataframe da utilizzare per le analisi"
   ]
  },
  {
   "cell_type": "code",
   "execution_count": 6,
   "metadata": {},
   "outputs": [
    {
     "ename": "ERROR",
     "evalue": "Error in is.data.frame(x): oggetto \"mergedData\" non trovato\n",
     "output_type": "error",
     "traceback": [
      "Error in is.data.frame(x): oggetto \"mergedData\" non trovato\nTraceback:\n",
      "1. write.csv2(mergedData, \"Dati-elaborati\\\\Dati-catture-trappole.csv\", \n .     row.names = FALSE)",
      "2. eval.parent(Call)",
      "3. eval(expr, p)",
      "4. eval(expr, p)",
      "5. write.table(mergedData, \"Dati-elaborati\\\\Dati-catture-trappole.csv\", \n .     row.names = FALSE, col.names = TRUE, sep = \";\", dec = \",\", \n .     qmethod = \"double\")",
      "6. is.data.frame(x)"
     ]
    }
   ],
   "source": [
    "write.csv2(Daticatt,\"Dati-elaborati\\\\Dati-catture.csv\", row.names = FALSE)\n",
    "write.csv2(Datitrap,\"Dati-elaborati\\\\Dati-trappole.csv\", row.names = FALSE)\n",
    "write.csv2(Datioccas,\"Dati-elaborati\\\\Dati-occasioni.csv\", row.names = FALSE)\n",
    "write.csv2(mergedData,\"Dati-elaborati\\\\Dati-catture-trappole.csv\", row.names = FALSE)"
   ]
  }
 ],
 "metadata": {
  "kernelspec": {
   "display_name": "R",
   "language": "R",
   "name": "ir"
  },
  "language_info": {
   "codemirror_mode": "r",
   "file_extension": ".r",
   "mimetype": "text/x-r-source",
   "name": "R",
   "pygments_lexer": "r",
   "version": "3.6.1"
  }
 },
 "nbformat": 4,
 "nbformat_minor": 4
}
