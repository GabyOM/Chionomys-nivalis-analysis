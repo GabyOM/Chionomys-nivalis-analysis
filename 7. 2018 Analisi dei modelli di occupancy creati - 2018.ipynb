{
 "cells": [
  {
   "cell_type": "markdown",
   "metadata": {},
   "source": [
    "# Analisi modello occupancy per l'intero anno 2018\n",
    "### Claudia Gabriela Ochoa Martinez (2020)"
   ]
  },
  {
   "cell_type": "code",
   "execution_count": 2,
   "metadata": {},
   "outputs": [
    {
     "name": "stderr",
     "output_type": "stream",
     "text": [
      "Loading required package: lattice\n",
      "\n"
     ]
    }
   ],
   "source": [
    "library(MuMIn)\n",
    "library(unmarked)"
   ]
  },
  {
   "cell_type": "code",
   "execution_count": 3,
   "metadata": {},
   "outputs": [
    {
     "data": {
      "text/html": [
       "<table>\n",
       "<caption>A data.frame: 6 × 1</caption>\n",
       "<thead>\n",
       "\t<tr><th scope=col>lista_multimodel</th></tr>\n",
       "\t<tr><th scope=col>&lt;fct&gt;</th></tr>\n",
       "</thead>\n",
       "<tbody>\n",
       "\t<tr><td>Dati-modelli\\10. multimodel_ Occ prime 100.RData                             </td></tr>\n",
       "\t<tr><td>Dati-modelli\\multimodel_2018_78WH.RData                                      </td></tr>\n",
       "\t<tr><td>Dati-modelli\\multimodel_2018_sessione_1_Dom-Factor_Rain_scaled.RData         </td></tr>\n",
       "\t<tr><td>Dati-modelli\\multimodel_2018_sessione_1_Dom-Factor_Rain_scaled_and_unsc.RData</td></tr>\n",
       "\t<tr><td>Dati-modelli\\multimodel_2018_sessione_1_EYP6.RData                           </td></tr>\n",
       "\t<tr><td>Dati-modelli\\multimodel_2018_sessione_2_YPHO.RData                           </td></tr>\n",
       "</tbody>\n",
       "</table>\n"
      ],
      "text/latex": [
       "A data.frame: 6 × 1\n",
       "\\begin{tabular}{l}\n",
       " lista\\_multimodel\\\\\n",
       " <fct>\\\\\n",
       "\\hline\n",
       "\t Dati-modelli\\textbackslash{}10. multimodel\\_ Occ prime 100.RData                             \\\\\n",
       "\t Dati-modelli\\textbackslash{}multimodel\\_2018\\_78WH.RData                                      \\\\\n",
       "\t Dati-modelli\\textbackslash{}multimodel\\_2018\\_sessione\\_1\\_Dom-Factor\\_Rain\\_scaled.RData         \\\\\n",
       "\t Dati-modelli\\textbackslash{}multimodel\\_2018\\_sessione\\_1\\_Dom-Factor\\_Rain\\_scaled\\_and\\_unsc.RData\\\\\n",
       "\t Dati-modelli\\textbackslash{}multimodel\\_2018\\_sessione\\_1\\_EYP6.RData                           \\\\\n",
       "\t Dati-modelli\\textbackslash{}multimodel\\_2018\\_sessione\\_2\\_YPHO.RData                           \\\\\n",
       "\\end{tabular}\n"
      ],
      "text/markdown": [
       "\n",
       "A data.frame: 6 × 1\n",
       "\n",
       "| lista_multimodel &lt;fct&gt; |\n",
       "|---|\n",
       "| Dati-modelli\\10. multimodel_ Occ prime 100.RData                              |\n",
       "| Dati-modelli\\multimodel_2018_78WH.RData                                       |\n",
       "| Dati-modelli\\multimodel_2018_sessione_1_Dom-Factor_Rain_scaled.RData          |\n",
       "| Dati-modelli\\multimodel_2018_sessione_1_Dom-Factor_Rain_scaled_and_unsc.RData |\n",
       "| Dati-modelli\\multimodel_2018_sessione_1_EYP6.RData                            |\n",
       "| Dati-modelli\\multimodel_2018_sessione_2_YPHO.RData                            |\n",
       "\n"
      ],
      "text/plain": [
       "  lista_multimodel                                                              \n",
       "1 Dati-modelli\\\\10. multimodel_ Occ prime 100.RData                             \n",
       "2 Dati-modelli\\\\multimodel_2018_78WH.RData                                      \n",
       "3 Dati-modelli\\\\multimodel_2018_sessione_1_Dom-Factor_Rain_scaled.RData         \n",
       "4 Dati-modelli\\\\multimodel_2018_sessione_1_Dom-Factor_Rain_scaled_and_unsc.RData\n",
       "5 Dati-modelli\\\\multimodel_2018_sessione_1_EYP6.RData                           \n",
       "6 Dati-modelli\\\\multimodel_2018_sessione_2_YPHO.RData                           "
      ]
     },
     "metadata": {},
     "output_type": "display_data"
    }
   ],
   "source": [
    "lista_multimodel <- list.files(\"Dati-modelli\\\\\", pattern=\"*.RData\", recursive=FALSE, full.names=TRUE)\n",
    "data.frame(lista_multimodel)"
   ]
  },
  {
   "cell_type": "code",
   "execution_count": 4,
   "metadata": {},
   "outputs": [
    {
     "data": {
      "text/html": [
       "'Dati-modelli\\\\multimodel_2018_78WH.RData'"
      ],
      "text/latex": [
       "'Dati-modelli\\textbackslash{}\\textbackslash{}multimodel\\_2018\\_78WH.RData'"
      ],
      "text/markdown": [
       "'Dati-modelli\\\\multimodel_2018_78WH.RData'"
      ],
      "text/plain": [
       "[1] \"Dati-modelli\\\\multimodel_2018_78WH.RData\""
      ]
     },
     "metadata": {},
     "output_type": "display_data"
    }
   ],
   "source": [
    "multimodel_scelto <- lista_multimodel[2]\n",
    "load(multimodel_scelto)\n",
    "multimodel_scelto"
   ]
  },
  {
   "cell_type": "code",
   "execution_count": 5,
   "metadata": {},
   "outputs": [
    {
     "name": "stderr",
     "output_type": "stream",
     "text": [
      "Warning message in `[.model.selection`(a, , part_c$end, drop = FALSE):\n",
      "\"cannot recalculate \"weights\" on an incomplete object\"\n",
      "Warning message in `[.model.selection`(a, , part_c$end, drop = FALSE):\n",
      "\"cannot recalculate \"weights\" on an incomplete object\"\n",
      "Warning message in `[.model.selection`(a, , part_c$end, drop = FALSE):\n",
      "\"cannot recalculate \"weights\" on an incomplete object\"\n",
      "Warning message in `[.model.selection`(a, , part_c$end, drop = FALSE):\n",
      "\"cannot recalculate \"weights\" on an incomplete object\"\n"
     ]
    },
    {
     "data": {
      "text/html": [
       "<table>\n",
       "<caption>A model.selection: 6 × 25</caption>\n",
       "<thead>\n",
       "\t<tr><th></th><th scope=col>p(Int)</th><th scope=col>psi(Int)</th><th scope=col>p(MDR)</th><th scope=col>p(orario)</th><th scope=col>p(precip)</th><th scope=col>p(temper)</th><th scope=col>p(vento)</th><th scope=col>psi(alt_m)</th><th scope=col>psi(I(alt_m^2))</th><th scope=col>psi(cop_veg_ottavi)</th><th scope=col>...</th><th scope=col>psi(I(IQR^2))</th><th scope=col>psi(MDR)</th><th scope=col>psi(I(MDR^2))</th><th scope=col>psi(slope_degr)</th><th scope=col>psi(I(slope_degr^2))</th><th scope=col>df</th><th scope=col>logLik</th><th scope=col>AICc</th><th scope=col>delta</th><th scope=col>weight</th></tr>\n",
       "\t<tr><th></th><th scope=col>&lt;dbl&gt;</th><th scope=col>&lt;dbl&gt;</th><th scope=col>&lt;dbl&gt;</th><th scope=col>&lt;fct&gt;</th><th scope=col>&lt;dbl&gt;</th><th scope=col>&lt;dbl&gt;</th><th scope=col>&lt;dbl&gt;</th><th scope=col>&lt;dbl&gt;</th><th scope=col>&lt;dbl&gt;</th><th scope=col>&lt;dbl&gt;</th><th scope=col>...</th><th scope=col>&lt;dbl&gt;</th><th scope=col>&lt;dbl&gt;</th><th scope=col>&lt;dbl&gt;</th><th scope=col>&lt;dbl&gt;</th><th scope=col>&lt;dbl&gt;</th><th scope=col>&lt;int&gt;</th><th scope=col>&lt;dbl&gt;</th><th scope=col>&lt;dbl&gt;</th><th scope=col>&lt;dbl&gt;</th><th scope=col>&lt;mdl.wght&gt;</th></tr>\n",
       "</thead>\n",
       "<tbody>\n",
       "\t<tr><th scope=row>5023</th><td>-3.841263</td><td> 38.63583</td><td>-0.11983522</td><td>+</td><td>0.5692597</td><td>0.004350417</td><td>0.3029813</td><td>       NA</td><td>        NA</td><td> -55.97245</td><td>...</td><td>NA</td><td>       NA</td><td>       NA</td><td>        NA</td><td>NA</td><td>12</td><td>-230.9843</td><td>494.4010</td><td>0.000000</td><td>0.35640694</td></tr>\n",
       "\t<tr><th scope=row>87743</th><td>-3.760819</td><td>-87.14714</td><td>-0.17356466</td><td>+</td><td>0.5713280</td><td>0.004418010</td><td>0.3027722</td><td>-86.42286</td><td>        NA</td><td>-140.14326</td><td>...</td><td>NA</td><td>119.99215</td><td>       NA</td><td>-107.60794</td><td>NA</td><td>15</td><td>-225.9519</td><td>496.0214</td><td>1.620402</td><td>0.15851862</td></tr>\n",
       "\t<tr><th scope=row>767</th><td>-3.839036</td><td>-13.59147</td><td>-0.14891423</td><td>+</td><td>0.5682627</td><td>0.004320714</td><td>0.3029342</td><td>-30.53500</td><td> -5.436842</td><td> -16.18217</td><td>...</td><td>NA</td><td>       NA</td><td>       NA</td><td>        NA</td><td>NA</td><td>12</td><td>-231.8718</td><td>496.1761</td><td>1.775083</td><td>0.14672083</td></tr>\n",
       "\t<tr><th scope=row>66303</th><td>-3.835545</td><td>-12.34705</td><td>-0.11734351</td><td>+</td><td>0.5700098</td><td>0.004340278</td><td>0.3014344</td><td>-24.22234</td><td> -7.777883</td><td> -35.63506</td><td>...</td><td>NA</td><td>       NA</td><td>       NA</td><td> -25.34306</td><td>NA</td><td>13</td><td>-230.1516</td><td>496.4143</td><td>2.013247</td><td>0.13024922</td></tr>\n",
       "\t<tr><th scope=row>5055</th><td>-3.830707</td><td>  4.14275</td><td>-0.16139308</td><td>+</td><td>0.5587371</td><td>0.004192432</td><td>0.3069918</td><td>-10.12454</td><td>        NA</td><td> -18.28076</td><td>...</td><td>NA</td><td>       NA</td><td>       NA</td><td>        NA</td><td>NA</td><td>13</td><td>-230.2000</td><td>496.5112</td><td>2.110130</td><td>0.12409015</td></tr>\n",
       "\t<tr><th scope=row>49919</th><td>-3.815068</td><td>-20.59523</td><td>-0.06580293</td><td>+</td><td>0.5702312</td><td>0.004392708</td><td>0.3016165</td><td>-80.43539</td><td>-16.106031</td><td> -43.12208</td><td>...</td><td>NA</td><td> 15.21702</td><td>-8.666574</td><td>        NA</td><td>NA</td><td>14</td><td>-228.6456</td><td>497.2912</td><td>2.890174</td><td>0.08401424</td></tr>\n",
       "</tbody>\n",
       "</table>\n"
      ],
      "text/latex": [
       "A model.selection: 6 × 25\n",
       "\\begin{tabular}{r|lllllllllllllllllllll}\n",
       "  & p(Int) & psi(Int) & p(MDR) & p(orario) & p(precip) & p(temper) & p(vento) & psi(alt\\_m) & psi(I(alt\\_m\\textasciicircum{}2)) & psi(cop\\_veg\\_ottavi) & ... & psi(I(IQR\\textasciicircum{}2)) & psi(MDR) & psi(I(MDR\\textasciicircum{}2)) & psi(slope\\_degr) & psi(I(slope\\_degr\\textasciicircum{}2)) & df & logLik & AICc & delta & weight\\\\\n",
       "  & <dbl> & <dbl> & <dbl> & <fct> & <dbl> & <dbl> & <dbl> & <dbl> & <dbl> & <dbl> & ... & <dbl> & <dbl> & <dbl> & <dbl> & <dbl> & <int> & <dbl> & <dbl> & <dbl> & <mdl.wght>\\\\\n",
       "\\hline\n",
       "\t5023 & -3.841263 &  38.63583 & -0.11983522 & + & 0.5692597 & 0.004350417 & 0.3029813 &        NA &         NA &  -55.97245 & ... & NA &        NA &        NA &         NA & NA & 12 & -230.9843 & 494.4010 & 0.000000 & 0.35640694\\\\\n",
       "\t87743 & -3.760819 & -87.14714 & -0.17356466 & + & 0.5713280 & 0.004418010 & 0.3027722 & -86.42286 &         NA & -140.14326 & ... & NA & 119.99215 &        NA & -107.60794 & NA & 15 & -225.9519 & 496.0214 & 1.620402 & 0.15851862\\\\\n",
       "\t767 & -3.839036 & -13.59147 & -0.14891423 & + & 0.5682627 & 0.004320714 & 0.3029342 & -30.53500 &  -5.436842 &  -16.18217 & ... & NA &        NA &        NA &         NA & NA & 12 & -231.8718 & 496.1761 & 1.775083 & 0.14672083\\\\\n",
       "\t66303 & -3.835545 & -12.34705 & -0.11734351 & + & 0.5700098 & 0.004340278 & 0.3014344 & -24.22234 &  -7.777883 &  -35.63506 & ... & NA &        NA &        NA &  -25.34306 & NA & 13 & -230.1516 & 496.4143 & 2.013247 & 0.13024922\\\\\n",
       "\t5055 & -3.830707 &   4.14275 & -0.16139308 & + & 0.5587371 & 0.004192432 & 0.3069918 & -10.12454 &         NA &  -18.28076 & ... & NA &        NA &        NA &         NA & NA & 13 & -230.2000 & 496.5112 & 2.110130 & 0.12409015\\\\\n",
       "\t49919 & -3.815068 & -20.59523 & -0.06580293 & + & 0.5702312 & 0.004392708 & 0.3016165 & -80.43539 & -16.106031 &  -43.12208 & ... & NA &  15.21702 & -8.666574 &         NA & NA & 14 & -228.6456 & 497.2912 & 2.890174 & 0.08401424\\\\\n",
       "\\end{tabular}\n"
      ],
      "text/markdown": [
       "\n",
       "A model.selection: 6 × 25\n",
       "\n",
       "| <!--/--> | p(Int) &lt;dbl&gt; | psi(Int) &lt;dbl&gt; | p(MDR) &lt;dbl&gt; | p(orario) &lt;fct&gt; | p(precip) &lt;dbl&gt; | p(temper) &lt;dbl&gt; | p(vento) &lt;dbl&gt; | psi(alt_m) &lt;dbl&gt; | psi(I(alt_m^2)) &lt;dbl&gt; | psi(cop_veg_ottavi) &lt;dbl&gt; | ... ... | psi(I(IQR^2)) &lt;dbl&gt; | psi(MDR) &lt;dbl&gt; | psi(I(MDR^2)) &lt;dbl&gt; | psi(slope_degr) &lt;dbl&gt; | psi(I(slope_degr^2)) &lt;dbl&gt; | df &lt;int&gt; | logLik &lt;dbl&gt; | AICc &lt;dbl&gt; | delta &lt;dbl&gt; | weight &lt;mdl.wght&gt; |\n",
       "|---|---|---|---|---|---|---|---|---|---|---|---|---|---|---|---|---|---|---|---|---|---|\n",
       "| 5023 | -3.841263 |  38.63583 | -0.11983522 | + | 0.5692597 | 0.004350417 | 0.3029813 |        NA |         NA |  -55.97245 | ... | NA |        NA |        NA |         NA | NA | 12 | -230.9843 | 494.4010 | 0.000000 | 0.35640694 |\n",
       "| 87743 | -3.760819 | -87.14714 | -0.17356466 | + | 0.5713280 | 0.004418010 | 0.3027722 | -86.42286 |         NA | -140.14326 | ... | NA | 119.99215 |        NA | -107.60794 | NA | 15 | -225.9519 | 496.0214 | 1.620402 | 0.15851862 |\n",
       "| 767 | -3.839036 | -13.59147 | -0.14891423 | + | 0.5682627 | 0.004320714 | 0.3029342 | -30.53500 |  -5.436842 |  -16.18217 | ... | NA |        NA |        NA |         NA | NA | 12 | -231.8718 | 496.1761 | 1.775083 | 0.14672083 |\n",
       "| 66303 | -3.835545 | -12.34705 | -0.11734351 | + | 0.5700098 | 0.004340278 | 0.3014344 | -24.22234 |  -7.777883 |  -35.63506 | ... | NA |        NA |        NA |  -25.34306 | NA | 13 | -230.1516 | 496.4143 | 2.013247 | 0.13024922 |\n",
       "| 5055 | -3.830707 |   4.14275 | -0.16139308 | + | 0.5587371 | 0.004192432 | 0.3069918 | -10.12454 |         NA |  -18.28076 | ... | NA |        NA |        NA |         NA | NA | 13 | -230.2000 | 496.5112 | 2.110130 | 0.12409015 |\n",
       "| 49919 | -3.815068 | -20.59523 | -0.06580293 | + | 0.5702312 | 0.004392708 | 0.3016165 | -80.43539 | -16.106031 |  -43.12208 | ... | NA |  15.21702 | -8.666574 |         NA | NA | 14 | -228.6456 | 497.2912 | 2.890174 | 0.08401424 |\n",
       "\n"
      ],
      "text/plain": [
       "      p(Int)    psi(Int)  p(MDR)      p(orario) p(precip) p(temper)   p(vento) \n",
       "5023  -3.841263  38.63583 -0.11983522 +         0.5692597 0.004350417 0.3029813\n",
       "87743 -3.760819 -87.14714 -0.17356466 +         0.5713280 0.004418010 0.3027722\n",
       "767   -3.839036 -13.59147 -0.14891423 +         0.5682627 0.004320714 0.3029342\n",
       "66303 -3.835545 -12.34705 -0.11734351 +         0.5700098 0.004340278 0.3014344\n",
       "5055  -3.830707   4.14275 -0.16139308 +         0.5587371 0.004192432 0.3069918\n",
       "49919 -3.815068 -20.59523 -0.06580293 +         0.5702312 0.004392708 0.3016165\n",
       "      psi(alt_m) psi(I(alt_m^2)) psi(cop_veg_ottavi) ... psi(I(IQR^2))\n",
       "5023         NA          NA       -55.97245          ... NA           \n",
       "87743 -86.42286          NA      -140.14326          ... NA           \n",
       "767   -30.53500   -5.436842       -16.18217          ... NA           \n",
       "66303 -24.22234   -7.777883       -35.63506          ... NA           \n",
       "5055  -10.12454          NA       -18.28076          ... NA           \n",
       "49919 -80.43539  -16.106031       -43.12208          ... NA           \n",
       "      psi(MDR)  psi(I(MDR^2)) psi(slope_degr) psi(I(slope_degr^2)) df logLik   \n",
       "5023         NA        NA             NA      NA                   12 -230.9843\n",
       "87743 119.99215        NA     -107.60794      NA                   15 -225.9519\n",
       "767          NA        NA             NA      NA                   12 -231.8718\n",
       "66303        NA        NA      -25.34306      NA                   13 -230.1516\n",
       "5055         NA        NA             NA      NA                   13 -230.2000\n",
       "49919  15.21702 -8.666574             NA      NA                   14 -228.6456\n",
       "      AICc     delta    weight    \n",
       "5023  494.4010 0.000000 0.35640694\n",
       "87743 496.0214 1.620402 0.15851862\n",
       "767   496.1761 1.775083 0.14672083\n",
       "66303 496.4143 2.013247 0.13024922\n",
       "5055  496.5112 2.110130 0.12409015\n",
       "49919 497.2912 2.890174 0.08401424"
      ]
     },
     "metadata": {},
     "output_type": "display_data"
    }
   ],
   "source": [
    "head(multimodel)"
   ]
  },
  {
   "cell_type": "code",
   "execution_count": 6,
   "metadata": {},
   "outputs": [
    {
     "name": "stderr",
     "output_type": "stream",
     "text": [
      "Warning message:\n",
      "\"Some observations have been discarded because corresponding covariates were missing.\"\n",
      "Warning message:\n",
      "\"20 sites have been discarded because of missing data.\"\n"
     ]
    },
    {
     "data": {
      "text/plain": [
       "$`5023`\n",
       "\n",
       "Call:\n",
       "occu(formula = ~MDR + orario + precip + temper + vento + 1 ~ \n",
       "    cop_veg_ottavi + I(cop_veg_ottavi^2) + dominant + IQR + 1, \n",
       "    data = arvicole, control = list(trace = 0, maxit = 1e+07))\n",
       "\n",
       "Occupancy:\n",
       "                    Estimate   SE     z P(>|z|)\n",
       "(Intercept)             38.6 34.5  1.12   0.263\n",
       "cop_veg_ottavi         -56.0 53.5 -1.05   0.296\n",
       "I(cop_veg_ottavi^2)    -73.7 66.7 -1.10   0.269\n",
       "dominantMuschio         66.2 55.5  1.19   0.233\n",
       "dominantOther_Sp        71.1 64.5  1.10   0.270\n",
       "IQR                     29.1 27.8  1.05   0.295\n",
       "\n",
       "Detection:\n",
       "            Estimate     SE      z  P(>|z|)\n",
       "(Intercept) -3.84126 0.6617 -5.805 6.45e-09\n",
       "MDR         -0.11984 0.1265 -0.947 3.43e-01\n",
       "orarioTr     0.71565 0.3511  2.039 4.15e-02\n",
       "precip       0.56926 0.5744  0.991 3.22e-01\n",
       "temper       0.00435 0.0463  0.094 9.25e-01\n",
       "vento        0.30298 0.2304  1.315 1.88e-01\n",
       "\n",
       "AIC: 485.9686 \n",
       "\n",
       "attr(,\"rank\")\n",
       "function (x) \n",
       "do.call(\"rank\", list(x))\n",
       "<environment: 0x000000000cd15c48>\n",
       "attr(,\"call\")\n",
       "AICc(x)\n",
       "attr(,\"class\")\n",
       "[1] \"function\"     \"rankFunction\"\n",
       "attr(,\"beta\")\n",
       "[1] \"none\""
      ]
     },
     "metadata": {},
     "output_type": "display_data"
    }
   ],
   "source": [
    "get.models(multimodel, 1)"
   ]
  },
  {
   "cell_type": "code",
   "execution_count": 7,
   "metadata": {},
   "outputs": [
    {
     "data": {
      "text/plain": [
       "\n",
       "Call:\n",
       "model.avg(object = multimodel, subset = delta < 2)\n",
       "\n",
       "Component model call: \n",
       "occu(formula = ~<3 unique rhs>, data = arvicole, control = list(trace = \n",
       "     0, maxit = 1e+07))\n",
       "\n",
       "Component models: \n",
       "                             df  logLik   AICc delta weight\n",
       "1/2/3/4/5/8/9/10/12          12 -230.98 494.40  0.00   0.54\n",
       "1/2/3/4/5/6/8/10/11/12/13/14 15 -225.95 496.02  1.62   0.24\n",
       "1/2/3/4/5/6/7/8/10           12 -231.87 496.18  1.78   0.22\n",
       "\n",
       "Term codes: \n",
       "                  p(MDR)                p(orario)                p(precip) \n",
       "                       1                        2                        3 \n",
       "               p(temper)                 p(vento)               psi(alt_m) \n",
       "                       4                        5                        6 \n",
       "         psi(I(alt_m^2))      psi(cop_veg_ottavi) psi(I(cop_veg_ottavi^2)) \n",
       "                       7                        8                        9 \n",
       "           psi(dominant)              psi(Esp.tr)                 psi(IQR) \n",
       "                      10                       11                       12 \n",
       "                psi(MDR)          psi(slope_degr) \n",
       "                      13                       14 \n",
       "\n",
       "Model-averaged coefficients:  \n",
       "(full average) \n",
       "                          Estimate Std. Error z value Pr(>|z|)    \n",
       "psi(Int)                  -3.08098  154.07863   0.020   0.9840    \n",
       "psi(cop_veg_ottavi)      -67.31473  234.12584   0.288   0.7737    \n",
       "psi(I(cop_veg_ottavi^2)) -39.68954   61.19556   0.649   0.5166    \n",
       "psi(dominantMuschio)      85.45036  302.14556   0.283   0.7773    \n",
       "psi(dominantOther_Sp)    159.95149  852.75969   0.188   0.8512    \n",
       "psi(IQR)                  23.97978   71.65263   0.335   0.7379    \n",
       "p(Int)                    -3.82150    0.66291   5.765   <2e-16 ***\n",
       "p(MDR)                    -0.13916    0.13211   1.053   0.2922    \n",
       "p(orarioTr)                0.71556    0.35119   2.038   0.0416 *  \n",
       "p(precip)                  0.56953    0.57469   0.991   0.3217    \n",
       "p(temper)                  0.00436    0.04631   0.094   0.9250    \n",
       "p(vento)                   0.30292    0.23051   1.314   0.1888    \n",
       "psi(alt_m)               -27.47654  146.55896   0.187   0.8513    \n",
       "psi(Esp.tr)              -11.73480  120.42441   0.097   0.9224    \n",
       "psi(MDR)                  28.74797  159.92226   0.180   0.8573    \n",
       "psi(slope_degr)          -25.78093  159.96197   0.161   0.8720    \n",
       "psi(I(alt_m^2))           -1.20563    6.38837   0.189   0.8503    \n",
       " \n",
       "(conditional average) \n",
       "                           Estimate Std. Error z value Pr(>|z|)    \n",
       "psi(Int)                   -3.08098  154.07863   0.020   0.9840    \n",
       "psi(cop_veg_ottavi)       -67.31473  234.12584   0.288   0.7737    \n",
       "psi(I(cop_veg_ottavi^2))  -73.68106   66.69052   1.105   0.2692    \n",
       "psi(dominantMuschio)       85.45036  302.14556   0.283   0.7773    \n",
       "psi(dominantOther_Sp)     159.95149  852.75969   0.188   0.8512    \n",
       "psi(IQR)                   30.81248   79.91531   0.386   0.6998    \n",
       "p(Int)                     -3.82150    0.66291   5.765   <2e-16 ***\n",
       "p(MDR)                     -0.13916    0.13211   1.053   0.2922    \n",
       "p(orarioTr)                 0.71556    0.35119   2.038   0.0416 *  \n",
       "p(precip)                   0.56953    0.57469   0.991   0.3217    \n",
       "p(temper)                   0.00436    0.04631   0.094   0.9250    \n",
       "p(vento)                    0.30292    0.23051   1.314   0.1888    \n",
       "psi(alt_m)                -59.55899  211.30283   0.282   0.7780    \n",
       "psi(Esp.tr)               -48.98027  242.29377   0.202   0.8398    \n",
       "psi(MDR)                  119.99215  309.51631   0.388   0.6983    \n",
       "psi(slope_degr)          -107.60794  313.04426   0.344   0.7310    \n",
       "psi(I(alt_m^2))            -5.43684   12.69001   0.428   0.6683    \n",
       "---\n",
       "Signif. codes:  0 '***' 0.001 '**' 0.01 '*' 0.05 '.' 0.1 ' ' 1\n"
      ]
     },
     "metadata": {},
     "output_type": "display_data"
    }
   ],
   "source": [
    "### PASSAGGIO DI MODEL AVERAGING: CONSIDERIAMO CONTEMPORANEAMENTE I MODELLI MIGLIORI CHE DIFFERISCONO TRA LORO\n",
    "## DI POCO IN TERMINI DI AIC (deltaAIC < 3)\n",
    "summary(model.avg(multimodel, subset = delta < 2))"
   ]
  }
 ],
 "metadata": {
  "kernelspec": {
   "display_name": "R",
   "language": "R",
   "name": "ir"
  },
  "language_info": {
   "codemirror_mode": "r",
   "file_extension": ".r",
   "mimetype": "text/x-r-source",
   "name": "R",
   "pygments_lexer": "r",
   "version": "3.6.3"
  }
 },
 "nbformat": 4,
 "nbformat_minor": 4
}
