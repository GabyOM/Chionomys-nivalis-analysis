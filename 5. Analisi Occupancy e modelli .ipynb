{
 "cells": [
  {
   "cell_type": "markdown",
   "metadata": {},
   "source": [
    "## Applicazione analisi Detection Histories"
   ]
  },
  {
   "cell_type": "markdown",
   "metadata": {},
   "source": [
    "#### vedere questo link \\\\ https://sites.google.com/site/asrworkshop/home/schedule/r-occupancy-1\n",
    "##### detection histories: i dati relativi alle storie di cattura sono archiviati in una tabella nella quale le righe rappresentano i siti di campionamento (le 50 e/o 75 trappole), e le colonne rappresentano le occasioni di cattura. I valori sono di tipo dicotomico (1= cattura si; 0= cattura no). \n"
   ]
  },
  {
   "cell_type": "code",
   "execution_count": 1,
   "metadata": {},
   "outputs": [
    {
     "name": "stderr",
     "output_type": "stream",
     "text": [
      "\n",
      "Attaching package: 'dplyr'\n",
      "\n",
      "\n",
      "The following objects are masked from 'package:stats':\n",
      "\n",
      "    filter, lag\n",
      "\n",
      "\n",
      "The following objects are masked from 'package:base':\n",
      "\n",
      "    intersect, setdiff, setequal, union\n",
      "\n",
      "\n",
      "Loading required package: lattice\n",
      "\n",
      "Loading required package: stats4\n",
      "\n",
      "\n",
      "Attaching package: 'stats4'\n",
      "\n",
      "\n",
      "The following object is masked from 'package:unmarked':\n",
      "\n",
      "    mle\n",
      "\n",
      "\n",
      "Loading required package: parallel\n",
      "\n"
     ]
    }
   ],
   "source": [
    "# install.packages(\"unmarked\")\n",
    "library(dplyr)\n",
    "library(readr)\n",
    "library(unmarked)\n",
    "require(stats4)\n",
    "require(parallel)"
   ]
  },
  {
   "cell_type": "code",
   "execution_count": 2,
   "metadata": {},
   "outputs": [
    {
     "data": {
      "text/html": [
       "<table>\n",
       "<caption>A data.frame: 6 × 17</caption>\n",
       "<thead>\n",
       "\t<tr><th></th><th scope=col>Data.R</th><th scope=col>Orario.R</th><th scope=col>occasione</th><th scope=col>ALBA..A.T.</th><th scope=col>sessione</th><th scope=col>trappole.posizionate</th><th scope=col>trappoleattive</th><th scope=col>n..trappole.inattive</th><th scope=col>ID.trappole.inattive</th><th scope=col>neve....S.N.</th><th scope=col>copertura.nuvolosa....8.</th><th scope=col>Sito</th><th scope=col>DOY</th><th scope=col>X</th><th scope=col>Anno</th><th scope=col>Precipitazioni</th><th scope=col>Temperatura.C</th></tr>\n",
       "\t<tr><th></th><th scope=col>&lt;fct&gt;</th><th scope=col>&lt;fct&gt;</th><th scope=col>&lt;int&gt;</th><th scope=col>&lt;fct&gt;</th><th scope=col>&lt;int&gt;</th><th scope=col>&lt;int&gt;</th><th scope=col>&lt;int&gt;</th><th scope=col>&lt;int&gt;</th><th scope=col>&lt;fct&gt;</th><th scope=col>&lt;fct&gt;</th><th scope=col>&lt;fct&gt;</th><th scope=col>&lt;fct&gt;</th><th scope=col>&lt;int&gt;</th><th scope=col>&lt;lgl&gt;</th><th scope=col>&lt;int&gt;</th><th scope=col>&lt;dbl&gt;</th><th scope=col>&lt;dbl&gt;</th></tr>\n",
       "</thead>\n",
       "<tbody>\n",
       "\t<tr><th scope=row>143</th><td>2018-08-31</td><td>07:00</td><td>30</td><td>A</td><td>2</td><td>50</td><td>50</td><td> 0</td><td>NA  </td><td>S</td><td>5/8</td><td>COGNE</td><td>243</td><td>NA</td><td>2018</td><td>0</td><td>8.6</td></tr>\n",
       "\t<tr><th scope=row>144</th><td>2018-08-31</td><td>17:00</td><td>31</td><td>T</td><td>2</td><td>50</td><td> 0</td><td>50</td><td>1,50</td><td>S</td><td>8/8</td><td>COGNE</td><td>243</td><td>NA</td><td>2018</td><td>0</td><td>7.6</td></tr>\n",
       "\t<tr><th scope=row>145</th><td>2018-09-01</td><td>07:00</td><td>32</td><td>A</td><td>2</td><td>50</td><td> 0</td><td>50</td><td>1,50</td><td>S</td><td>8/8</td><td>COGNE</td><td>244</td><td>NA</td><td>2018</td><td>0</td><td>4.0</td></tr>\n",
       "\t<tr><th scope=row>146</th><td>2018-09-01</td><td>17:00</td><td>33</td><td>T</td><td>2</td><td>50</td><td> 0</td><td>50</td><td>1,50</td><td>S</td><td>8/8</td><td>COGNE</td><td>244</td><td>NA</td><td>2018</td><td>0</td><td>7.0</td></tr>\n",
       "\t<tr><th scope=row>147</th><td>2018-09-02</td><td>07:00</td><td>34</td><td>A</td><td>2</td><td>50</td><td> 0</td><td>50</td><td>1,50</td><td>S</td><td>1/8</td><td>COGNE</td><td>245</td><td>NA</td><td>2018</td><td>0</td><td>7.2</td></tr>\n",
       "\t<tr><th scope=row>148</th><td>2018-09-02</td><td>17:00</td><td>35</td><td>T</td><td>2</td><td>50</td><td>50</td><td> 0</td><td>NA  </td><td>S</td><td>8/8</td><td>COGNE</td><td>245</td><td>NA</td><td>2018</td><td>0</td><td>7.8</td></tr>\n",
       "</tbody>\n",
       "</table>\n"
      ],
      "text/latex": [
       "A data.frame: 6 × 17\n",
       "\\begin{tabular}{r|lllllllllllllllll}\n",
       "  & Data.R & Orario.R & occasione & ALBA..A.T. & sessione & trappole.posizionate & trappoleattive & n..trappole.inattive & ID.trappole.inattive & neve....S.N. & copertura.nuvolosa....8. & Sito & DOY & X & Anno & Precipitazioni & Temperatura.C\\\\\n",
       "  & <fct> & <fct> & <int> & <fct> & <int> & <int> & <int> & <int> & <fct> & <fct> & <fct> & <fct> & <int> & <lgl> & <int> & <dbl> & <dbl>\\\\\n",
       "\\hline\n",
       "\t143 & 2018-08-31 & 07:00 & 30 & A & 2 & 50 & 50 &  0 & NA   & S & 5/8 & COGNE & 243 & NA & 2018 & 0 & 8.6\\\\\n",
       "\t144 & 2018-08-31 & 17:00 & 31 & T & 2 & 50 &  0 & 50 & 1,50 & S & 8/8 & COGNE & 243 & NA & 2018 & 0 & 7.6\\\\\n",
       "\t145 & 2018-09-01 & 07:00 & 32 & A & 2 & 50 &  0 & 50 & 1,50 & S & 8/8 & COGNE & 244 & NA & 2018 & 0 & 4.0\\\\\n",
       "\t146 & 2018-09-01 & 17:00 & 33 & T & 2 & 50 &  0 & 50 & 1,50 & S & 8/8 & COGNE & 244 & NA & 2018 & 0 & 7.0\\\\\n",
       "\t147 & 2018-09-02 & 07:00 & 34 & A & 2 & 50 &  0 & 50 & 1,50 & S & 1/8 & COGNE & 245 & NA & 2018 & 0 & 7.2\\\\\n",
       "\t148 & 2018-09-02 & 17:00 & 35 & T & 2 & 50 & 50 &  0 & NA   & S & 8/8 & COGNE & 245 & NA & 2018 & 0 & 7.8\\\\\n",
       "\\end{tabular}\n"
      ],
      "text/markdown": [
       "\n",
       "A data.frame: 6 × 17\n",
       "\n",
       "| <!--/--> | Data.R &lt;fct&gt; | Orario.R &lt;fct&gt; | occasione &lt;int&gt; | ALBA..A.T. &lt;fct&gt; | sessione &lt;int&gt; | trappole.posizionate &lt;int&gt; | trappoleattive &lt;int&gt; | n..trappole.inattive &lt;int&gt; | ID.trappole.inattive &lt;fct&gt; | neve....S.N. &lt;fct&gt; | copertura.nuvolosa....8. &lt;fct&gt; | Sito &lt;fct&gt; | DOY &lt;int&gt; | X &lt;lgl&gt; | Anno &lt;int&gt; | Precipitazioni &lt;dbl&gt; | Temperatura.C &lt;dbl&gt; |\n",
       "|---|---|---|---|---|---|---|---|---|---|---|---|---|---|---|---|---|---|\n",
       "| 143 | 2018-08-31 | 07:00 | 30 | A | 2 | 50 | 50 |  0 | NA   | S | 5/8 | COGNE | 243 | NA | 2018 | 0 | 8.6 |\n",
       "| 144 | 2018-08-31 | 17:00 | 31 | T | 2 | 50 |  0 | 50 | 1,50 | S | 8/8 | COGNE | 243 | NA | 2018 | 0 | 7.6 |\n",
       "| 145 | 2018-09-01 | 07:00 | 32 | A | 2 | 50 |  0 | 50 | 1,50 | S | 8/8 | COGNE | 244 | NA | 2018 | 0 | 4.0 |\n",
       "| 146 | 2018-09-01 | 17:00 | 33 | T | 2 | 50 |  0 | 50 | 1,50 | S | 8/8 | COGNE | 244 | NA | 2018 | 0 | 7.0 |\n",
       "| 147 | 2018-09-02 | 07:00 | 34 | A | 2 | 50 |  0 | 50 | 1,50 | S | 1/8 | COGNE | 245 | NA | 2018 | 0 | 7.2 |\n",
       "| 148 | 2018-09-02 | 17:00 | 35 | T | 2 | 50 | 50 |  0 | NA   | S | 8/8 | COGNE | 245 | NA | 2018 | 0 | 7.8 |\n",
       "\n"
      ],
      "text/plain": [
       "    Data.R     Orario.R occasione ALBA..A.T. sessione trappole.posizionate\n",
       "143 2018-08-31 07:00    30        A          2        50                  \n",
       "144 2018-08-31 17:00    31        T          2        50                  \n",
       "145 2018-09-01 07:00    32        A          2        50                  \n",
       "146 2018-09-01 17:00    33        T          2        50                  \n",
       "147 2018-09-02 07:00    34        A          2        50                  \n",
       "148 2018-09-02 17:00    35        T          2        50                  \n",
       "    trappoleattive n..trappole.inattive ID.trappole.inattive neve....S.N.\n",
       "143 50              0                   NA                   S           \n",
       "144  0             50                   1,50                 S           \n",
       "145  0             50                   1,50                 S           \n",
       "146  0             50                   1,50                 S           \n",
       "147  0             50                   1,50                 S           \n",
       "148 50              0                   NA                   S           \n",
       "    copertura.nuvolosa....8. Sito  DOY X  Anno Precipitazioni Temperatura.C\n",
       "143 5/8                      COGNE 243 NA 2018 0              8.6          \n",
       "144 8/8                      COGNE 243 NA 2018 0              7.6          \n",
       "145 8/8                      COGNE 244 NA 2018 0              4.0          \n",
       "146 8/8                      COGNE 244 NA 2018 0              7.0          \n",
       "147 1/8                      COGNE 245 NA 2018 0              7.2          \n",
       "148 8/8                      COGNE 245 NA 2018 0              7.8          "
      ]
     },
     "metadata": {},
     "output_type": "display_data"
    }
   ],
   "source": [
    "#### utilizziamo i dati relativi alle occasioni già elaborato\n",
    "Datioccas <- read.csv(\"Dati-elaborati/Dati-occasioni.csv\", dec=\",\", sep=\";\", header = TRUE)\n",
    "tail(Datioccas)"
   ]
  },
  {
   "cell_type": "code",
   "execution_count": 3,
   "metadata": {},
   "outputs": [
    {
     "data": {
      "text/html": [
       "<table>\n",
       "<caption>A matrix: 6 × 19 of type chr</caption>\n",
       "<thead>\n",
       "\t<tr><th></th><th scope=col>114</th><th scope=col>115</th><th scope=col>116</th><th scope=col>117</th><th scope=col>118</th><th scope=col>119</th><th scope=col>120</th><th scope=col>121</th><th scope=col>122</th><th scope=col>123</th><th scope=col>124</th><th scope=col>125</th><th scope=col>126</th><th scope=col>127</th><th scope=col>128</th><th scope=col>129</th><th scope=col>130</th><th scope=col>131</th><th scope=col>132</th></tr>\n",
       "</thead>\n",
       "<tbody>\n",
       "\t<tr><th scope=row>70</th><td>T</td><td>A</td><td>T</td><td>A</td><td>T</td><td>A</td><td>T</td><td>A</td><td>T</td><td>A</td><td>T</td><td>A</td><td>T</td><td>A</td><td>T</td><td>A</td><td>T</td><td>A</td><td>T</td></tr>\n",
       "\t<tr><th scope=row>71</th><td>T</td><td>A</td><td>T</td><td>A</td><td>T</td><td>A</td><td>T</td><td>A</td><td>T</td><td>A</td><td>T</td><td>A</td><td>T</td><td>A</td><td>T</td><td>A</td><td>T</td><td>A</td><td>T</td></tr>\n",
       "\t<tr><th scope=row>72</th><td>T</td><td>A</td><td>T</td><td>A</td><td>T</td><td>A</td><td>T</td><td>A</td><td>T</td><td>A</td><td>T</td><td>A</td><td>T</td><td>A</td><td>T</td><td>A</td><td>T</td><td>A</td><td>T</td></tr>\n",
       "\t<tr><th scope=row>73</th><td>T</td><td>A</td><td>T</td><td>A</td><td>T</td><td>A</td><td>T</td><td>A</td><td>T</td><td>A</td><td>T</td><td>A</td><td>T</td><td>A</td><td>T</td><td>A</td><td>T</td><td>A</td><td>T</td></tr>\n",
       "\t<tr><th scope=row>74</th><td>T</td><td>A</td><td>T</td><td>A</td><td>T</td><td>A</td><td>T</td><td>A</td><td>T</td><td>A</td><td>T</td><td>A</td><td>T</td><td>A</td><td>T</td><td>A</td><td>T</td><td>A</td><td>T</td></tr>\n",
       "\t<tr><th scope=row>75</th><td>T</td><td>A</td><td>T</td><td>A</td><td>T</td><td>A</td><td>T</td><td>A</td><td>T</td><td>A</td><td>T</td><td>A</td><td>T</td><td>A</td><td>T</td><td>A</td><td>T</td><td>A</td><td>T</td></tr>\n",
       "</tbody>\n",
       "</table>\n"
      ],
      "text/latex": [
       "A matrix: 6 × 19 of type chr\n",
       "\\begin{tabular}{r|lllllllllllllllllll}\n",
       "  & 114 & 115 & 116 & 117 & 118 & 119 & 120 & 121 & 122 & 123 & 124 & 125 & 126 & 127 & 128 & 129 & 130 & 131 & 132\\\\\n",
       "\\hline\n",
       "\t70 & T & A & T & A & T & A & T & A & T & A & T & A & T & A & T & A & T & A & T\\\\\n",
       "\t71 & T & A & T & A & T & A & T & A & T & A & T & A & T & A & T & A & T & A & T\\\\\n",
       "\t72 & T & A & T & A & T & A & T & A & T & A & T & A & T & A & T & A & T & A & T\\\\\n",
       "\t73 & T & A & T & A & T & A & T & A & T & A & T & A & T & A & T & A & T & A & T\\\\\n",
       "\t74 & T & A & T & A & T & A & T & A & T & A & T & A & T & A & T & A & T & A & T\\\\\n",
       "\t75 & T & A & T & A & T & A & T & A & T & A & T & A & T & A & T & A & T & A & T\\\\\n",
       "\\end{tabular}\n"
      ],
      "text/markdown": [
       "\n",
       "A matrix: 6 × 19 of type chr\n",
       "\n",
       "| <!--/--> | 114 | 115 | 116 | 117 | 118 | 119 | 120 | 121 | 122 | 123 | 124 | 125 | 126 | 127 | 128 | 129 | 130 | 131 | 132 |\n",
       "|---|---|---|---|---|---|---|---|---|---|---|---|---|---|---|---|---|---|---|---|\n",
       "| 70 | T | A | T | A | T | A | T | A | T | A | T | A | T | A | T | A | T | A | T |\n",
       "| 71 | T | A | T | A | T | A | T | A | T | A | T | A | T | A | T | A | T | A | T |\n",
       "| 72 | T | A | T | A | T | A | T | A | T | A | T | A | T | A | T | A | T | A | T |\n",
       "| 73 | T | A | T | A | T | A | T | A | T | A | T | A | T | A | T | A | T | A | T |\n",
       "| 74 | T | A | T | A | T | A | T | A | T | A | T | A | T | A | T | A | T | A | T |\n",
       "| 75 | T | A | T | A | T | A | T | A | T | A | T | A | T | A | T | A | T | A | T |\n",
       "\n"
      ],
      "text/plain": [
       "   114 115 116 117 118 119 120 121 122 123 124 125 126 127 128 129 130 131 132\n",
       "70 T   A   T   A   T   A   T   A   T   A   T   A   T   A   T   A   T   A   T  \n",
       "71 T   A   T   A   T   A   T   A   T   A   T   A   T   A   T   A   T   A   T  \n",
       "72 T   A   T   A   T   A   T   A   T   A   T   A   T   A   T   A   T   A   T  \n",
       "73 T   A   T   A   T   A   T   A   T   A   T   A   T   A   T   A   T   A   T  \n",
       "74 T   A   T   A   T   A   T   A   T   A   T   A   T   A   T   A   T   A   T  \n",
       "75 T   A   T   A   T   A   T   A   T   A   T   A   T   A   T   A   T   A   T  "
      ]
     },
     "metadata": {},
     "output_type": "display_data"
    }
   ],
   "source": [
    "#### Inserire l'anno su cui si vuole effettuare l'analisi es. ==\"2014\", \"2015\", ecc\n",
    "anno_analisi <- \"2018\"\n",
    "sessione_analisi <- \"1\"\n",
    "anno_int <- Datioccas$Anno == anno_analisi\n",
    "sessione_int <- Datioccas$sessione == sessione_analisi\n",
    "Datioccas_ <- subset(Datioccas, anno_int & sessione_int)\n",
    "orario_occasione_singola <- as.data.frame(t(select(Datioccas_, ALBA..A.T.)))\n",
    "\n",
    "#trappole_posizionate <- max(Datioccas_$trappole.posizionate)\n",
    "trappole_posizionate <- 75 # forzo il numero di trappole a 75\n",
    "numero_occasioni <- nrow(Datioccas_)\n",
    "\n",
    "# forziamo 75 trappole\n",
    "trappole_posizionate <- 75\n",
    "orario_occasione <- rbind(orario_occasione_singola[rep(1, trappole_posizionate), ])\n",
    "orario_occasione <- as.matrix(orario_occasione)\n",
    "rownames(orario_occasione) <- c(1:trappole_posizionate)\n",
    "\n",
    "tail(orario_occasione)\n",
    "\n"
   ]
  },
  {
   "cell_type": "code",
   "execution_count": 4,
   "metadata": {},
   "outputs": [
    {
     "data": {
      "text/html": [
       "<table>\n",
       "<caption>A matrix: 6 × 19 of type dbl</caption>\n",
       "<thead>\n",
       "\t<tr><th></th><th scope=col>114</th><th scope=col>115</th><th scope=col>116</th><th scope=col>117</th><th scope=col>118</th><th scope=col>119</th><th scope=col>120</th><th scope=col>121</th><th scope=col>122</th><th scope=col>123</th><th scope=col>124</th><th scope=col>125</th><th scope=col>126</th><th scope=col>127</th><th scope=col>128</th><th scope=col>129</th><th scope=col>130</th><th scope=col>131</th><th scope=col>132</th></tr>\n",
       "</thead>\n",
       "<tbody>\n",
       "\t<tr><th scope=row>70</th><td>0</td><td>0</td><td>0</td><td>0</td><td>0</td><td>0</td><td>0</td><td>0</td><td>0.2</td><td>0</td><td>0</td><td>0</td><td>0</td><td>0</td><td>0</td><td>0</td><td>0</td><td>0</td><td>0</td></tr>\n",
       "\t<tr><th scope=row>71</th><td>0</td><td>0</td><td>0</td><td>0</td><td>0</td><td>0</td><td>0</td><td>0</td><td>0.2</td><td>0</td><td>0</td><td>0</td><td>0</td><td>0</td><td>0</td><td>0</td><td>0</td><td>0</td><td>0</td></tr>\n",
       "\t<tr><th scope=row>72</th><td>0</td><td>0</td><td>0</td><td>0</td><td>0</td><td>0</td><td>0</td><td>0</td><td>0.2</td><td>0</td><td>0</td><td>0</td><td>0</td><td>0</td><td>0</td><td>0</td><td>0</td><td>0</td><td>0</td></tr>\n",
       "\t<tr><th scope=row>73</th><td>0</td><td>0</td><td>0</td><td>0</td><td>0</td><td>0</td><td>0</td><td>0</td><td>0.2</td><td>0</td><td>0</td><td>0</td><td>0</td><td>0</td><td>0</td><td>0</td><td>0</td><td>0</td><td>0</td></tr>\n",
       "\t<tr><th scope=row>74</th><td>0</td><td>0</td><td>0</td><td>0</td><td>0</td><td>0</td><td>0</td><td>0</td><td>0.2</td><td>0</td><td>0</td><td>0</td><td>0</td><td>0</td><td>0</td><td>0</td><td>0</td><td>0</td><td>0</td></tr>\n",
       "\t<tr><th scope=row>75</th><td>0</td><td>0</td><td>0</td><td>0</td><td>0</td><td>0</td><td>0</td><td>0</td><td>0.2</td><td>0</td><td>0</td><td>0</td><td>0</td><td>0</td><td>0</td><td>0</td><td>0</td><td>0</td><td>0</td></tr>\n",
       "</tbody>\n",
       "</table>\n"
      ],
      "text/latex": [
       "A matrix: 6 × 19 of type dbl\n",
       "\\begin{tabular}{r|lllllllllllllllllll}\n",
       "  & 114 & 115 & 116 & 117 & 118 & 119 & 120 & 121 & 122 & 123 & 124 & 125 & 126 & 127 & 128 & 129 & 130 & 131 & 132\\\\\n",
       "\\hline\n",
       "\t70 & 0 & 0 & 0 & 0 & 0 & 0 & 0 & 0 & 0.2 & 0 & 0 & 0 & 0 & 0 & 0 & 0 & 0 & 0 & 0\\\\\n",
       "\t71 & 0 & 0 & 0 & 0 & 0 & 0 & 0 & 0 & 0.2 & 0 & 0 & 0 & 0 & 0 & 0 & 0 & 0 & 0 & 0\\\\\n",
       "\t72 & 0 & 0 & 0 & 0 & 0 & 0 & 0 & 0 & 0.2 & 0 & 0 & 0 & 0 & 0 & 0 & 0 & 0 & 0 & 0\\\\\n",
       "\t73 & 0 & 0 & 0 & 0 & 0 & 0 & 0 & 0 & 0.2 & 0 & 0 & 0 & 0 & 0 & 0 & 0 & 0 & 0 & 0\\\\\n",
       "\t74 & 0 & 0 & 0 & 0 & 0 & 0 & 0 & 0 & 0.2 & 0 & 0 & 0 & 0 & 0 & 0 & 0 & 0 & 0 & 0\\\\\n",
       "\t75 & 0 & 0 & 0 & 0 & 0 & 0 & 0 & 0 & 0.2 & 0 & 0 & 0 & 0 & 0 & 0 & 0 & 0 & 0 & 0\\\\\n",
       "\\end{tabular}\n"
      ],
      "text/markdown": [
       "\n",
       "A matrix: 6 × 19 of type dbl\n",
       "\n",
       "| <!--/--> | 114 | 115 | 116 | 117 | 118 | 119 | 120 | 121 | 122 | 123 | 124 | 125 | 126 | 127 | 128 | 129 | 130 | 131 | 132 |\n",
       "|---|---|---|---|---|---|---|---|---|---|---|---|---|---|---|---|---|---|---|---|\n",
       "| 70 | 0 | 0 | 0 | 0 | 0 | 0 | 0 | 0 | 0.2 | 0 | 0 | 0 | 0 | 0 | 0 | 0 | 0 | 0 | 0 |\n",
       "| 71 | 0 | 0 | 0 | 0 | 0 | 0 | 0 | 0 | 0.2 | 0 | 0 | 0 | 0 | 0 | 0 | 0 | 0 | 0 | 0 |\n",
       "| 72 | 0 | 0 | 0 | 0 | 0 | 0 | 0 | 0 | 0.2 | 0 | 0 | 0 | 0 | 0 | 0 | 0 | 0 | 0 | 0 |\n",
       "| 73 | 0 | 0 | 0 | 0 | 0 | 0 | 0 | 0 | 0.2 | 0 | 0 | 0 | 0 | 0 | 0 | 0 | 0 | 0 | 0 |\n",
       "| 74 | 0 | 0 | 0 | 0 | 0 | 0 | 0 | 0 | 0.2 | 0 | 0 | 0 | 0 | 0 | 0 | 0 | 0 | 0 | 0 |\n",
       "| 75 | 0 | 0 | 0 | 0 | 0 | 0 | 0 | 0 | 0.2 | 0 | 0 | 0 | 0 | 0 | 0 | 0 | 0 | 0 | 0 |\n",
       "\n"
      ],
      "text/plain": [
       "   114 115 116 117 118 119 120 121 122 123 124 125 126 127 128 129 130 131 132\n",
       "70 0   0   0   0   0   0   0   0   0.2 0   0   0   0   0   0   0   0   0   0  \n",
       "71 0   0   0   0   0   0   0   0   0.2 0   0   0   0   0   0   0   0   0   0  \n",
       "72 0   0   0   0   0   0   0   0   0.2 0   0   0   0   0   0   0   0   0   0  \n",
       "73 0   0   0   0   0   0   0   0   0.2 0   0   0   0   0   0   0   0   0   0  \n",
       "74 0   0   0   0   0   0   0   0   0.2 0   0   0   0   0   0   0   0   0   0  \n",
       "75 0   0   0   0   0   0   0   0   0.2 0   0   0   0   0   0   0   0   0   0  "
      ]
     },
     "metadata": {},
     "output_type": "display_data"
    }
   ],
   "source": [
    "#### ripetiamo gli step per quanto riguarda le precipitazioni\n",
    "precip <- as.data.frame(t(select(Datioccas_, Precipitazioni)))\n",
    "precipitazioni_occasione <- rbind(precip[rep(1, trappole_posizionate), ])\n",
    "precipitazioni_occasione <- as.matrix(precipitazioni_occasione)\n",
    "rownames(precipitazioni_occasione) <- c(1:trappole_posizionate)\n",
    "tail(precipitazioni_occasione)"
   ]
  },
  {
   "cell_type": "code",
   "execution_count": 5,
   "metadata": {},
   "outputs": [
    {
     "data": {
      "text/html": [
       "<table>\n",
       "<caption>A matrix: 6 × 19 of type dbl</caption>\n",
       "<thead>\n",
       "\t<tr><th></th><th scope=col>114</th><th scope=col>115</th><th scope=col>116</th><th scope=col>117</th><th scope=col>118</th><th scope=col>119</th><th scope=col>120</th><th scope=col>121</th><th scope=col>122</th><th scope=col>123</th><th scope=col>124</th><th scope=col>125</th><th scope=col>126</th><th scope=col>127</th><th scope=col>128</th><th scope=col>129</th><th scope=col>130</th><th scope=col>131</th><th scope=col>132</th></tr>\n",
       "</thead>\n",
       "<tbody>\n",
       "\t<tr><th scope=row>70</th><td>10.2</td><td>9.5</td><td>11.8</td><td>10.7</td><td>15.2</td><td>13.2</td><td>14.6</td><td>12.7</td><td>12.9</td><td>14.1</td><td>15.5</td><td>13.3</td><td>16.5</td><td>14.8</td><td>13.3</td><td>13.9</td><td>17.3</td><td>15.3</td><td>17.4</td></tr>\n",
       "\t<tr><th scope=row>71</th><td>10.2</td><td>9.5</td><td>11.8</td><td>10.7</td><td>15.2</td><td>13.2</td><td>14.6</td><td>12.7</td><td>12.9</td><td>14.1</td><td>15.5</td><td>13.3</td><td>16.5</td><td>14.8</td><td>13.3</td><td>13.9</td><td>17.3</td><td>15.3</td><td>17.4</td></tr>\n",
       "\t<tr><th scope=row>72</th><td>10.2</td><td>9.5</td><td>11.8</td><td>10.7</td><td>15.2</td><td>13.2</td><td>14.6</td><td>12.7</td><td>12.9</td><td>14.1</td><td>15.5</td><td>13.3</td><td>16.5</td><td>14.8</td><td>13.3</td><td>13.9</td><td>17.3</td><td>15.3</td><td>17.4</td></tr>\n",
       "\t<tr><th scope=row>73</th><td>10.2</td><td>9.5</td><td>11.8</td><td>10.7</td><td>15.2</td><td>13.2</td><td>14.6</td><td>12.7</td><td>12.9</td><td>14.1</td><td>15.5</td><td>13.3</td><td>16.5</td><td>14.8</td><td>13.3</td><td>13.9</td><td>17.3</td><td>15.3</td><td>17.4</td></tr>\n",
       "\t<tr><th scope=row>74</th><td>10.2</td><td>9.5</td><td>11.8</td><td>10.7</td><td>15.2</td><td>13.2</td><td>14.6</td><td>12.7</td><td>12.9</td><td>14.1</td><td>15.5</td><td>13.3</td><td>16.5</td><td>14.8</td><td>13.3</td><td>13.9</td><td>17.3</td><td>15.3</td><td>17.4</td></tr>\n",
       "\t<tr><th scope=row>75</th><td>10.2</td><td>9.5</td><td>11.8</td><td>10.7</td><td>15.2</td><td>13.2</td><td>14.6</td><td>12.7</td><td>12.9</td><td>14.1</td><td>15.5</td><td>13.3</td><td>16.5</td><td>14.8</td><td>13.3</td><td>13.9</td><td>17.3</td><td>15.3</td><td>17.4</td></tr>\n",
       "</tbody>\n",
       "</table>\n"
      ],
      "text/latex": [
       "A matrix: 6 × 19 of type dbl\n",
       "\\begin{tabular}{r|lllllllllllllllllll}\n",
       "  & 114 & 115 & 116 & 117 & 118 & 119 & 120 & 121 & 122 & 123 & 124 & 125 & 126 & 127 & 128 & 129 & 130 & 131 & 132\\\\\n",
       "\\hline\n",
       "\t70 & 10.2 & 9.5 & 11.8 & 10.7 & 15.2 & 13.2 & 14.6 & 12.7 & 12.9 & 14.1 & 15.5 & 13.3 & 16.5 & 14.8 & 13.3 & 13.9 & 17.3 & 15.3 & 17.4\\\\\n",
       "\t71 & 10.2 & 9.5 & 11.8 & 10.7 & 15.2 & 13.2 & 14.6 & 12.7 & 12.9 & 14.1 & 15.5 & 13.3 & 16.5 & 14.8 & 13.3 & 13.9 & 17.3 & 15.3 & 17.4\\\\\n",
       "\t72 & 10.2 & 9.5 & 11.8 & 10.7 & 15.2 & 13.2 & 14.6 & 12.7 & 12.9 & 14.1 & 15.5 & 13.3 & 16.5 & 14.8 & 13.3 & 13.9 & 17.3 & 15.3 & 17.4\\\\\n",
       "\t73 & 10.2 & 9.5 & 11.8 & 10.7 & 15.2 & 13.2 & 14.6 & 12.7 & 12.9 & 14.1 & 15.5 & 13.3 & 16.5 & 14.8 & 13.3 & 13.9 & 17.3 & 15.3 & 17.4\\\\\n",
       "\t74 & 10.2 & 9.5 & 11.8 & 10.7 & 15.2 & 13.2 & 14.6 & 12.7 & 12.9 & 14.1 & 15.5 & 13.3 & 16.5 & 14.8 & 13.3 & 13.9 & 17.3 & 15.3 & 17.4\\\\\n",
       "\t75 & 10.2 & 9.5 & 11.8 & 10.7 & 15.2 & 13.2 & 14.6 & 12.7 & 12.9 & 14.1 & 15.5 & 13.3 & 16.5 & 14.8 & 13.3 & 13.9 & 17.3 & 15.3 & 17.4\\\\\n",
       "\\end{tabular}\n"
      ],
      "text/markdown": [
       "\n",
       "A matrix: 6 × 19 of type dbl\n",
       "\n",
       "| <!--/--> | 114 | 115 | 116 | 117 | 118 | 119 | 120 | 121 | 122 | 123 | 124 | 125 | 126 | 127 | 128 | 129 | 130 | 131 | 132 |\n",
       "|---|---|---|---|---|---|---|---|---|---|---|---|---|---|---|---|---|---|---|---|\n",
       "| 70 | 10.2 | 9.5 | 11.8 | 10.7 | 15.2 | 13.2 | 14.6 | 12.7 | 12.9 | 14.1 | 15.5 | 13.3 | 16.5 | 14.8 | 13.3 | 13.9 | 17.3 | 15.3 | 17.4 |\n",
       "| 71 | 10.2 | 9.5 | 11.8 | 10.7 | 15.2 | 13.2 | 14.6 | 12.7 | 12.9 | 14.1 | 15.5 | 13.3 | 16.5 | 14.8 | 13.3 | 13.9 | 17.3 | 15.3 | 17.4 |\n",
       "| 72 | 10.2 | 9.5 | 11.8 | 10.7 | 15.2 | 13.2 | 14.6 | 12.7 | 12.9 | 14.1 | 15.5 | 13.3 | 16.5 | 14.8 | 13.3 | 13.9 | 17.3 | 15.3 | 17.4 |\n",
       "| 73 | 10.2 | 9.5 | 11.8 | 10.7 | 15.2 | 13.2 | 14.6 | 12.7 | 12.9 | 14.1 | 15.5 | 13.3 | 16.5 | 14.8 | 13.3 | 13.9 | 17.3 | 15.3 | 17.4 |\n",
       "| 74 | 10.2 | 9.5 | 11.8 | 10.7 | 15.2 | 13.2 | 14.6 | 12.7 | 12.9 | 14.1 | 15.5 | 13.3 | 16.5 | 14.8 | 13.3 | 13.9 | 17.3 | 15.3 | 17.4 |\n",
       "| 75 | 10.2 | 9.5 | 11.8 | 10.7 | 15.2 | 13.2 | 14.6 | 12.7 | 12.9 | 14.1 | 15.5 | 13.3 | 16.5 | 14.8 | 13.3 | 13.9 | 17.3 | 15.3 | 17.4 |\n",
       "\n"
      ],
      "text/plain": [
       "   114  115 116  117  118  119  120  121  122  123  124  125  126  127  128 \n",
       "70 10.2 9.5 11.8 10.7 15.2 13.2 14.6 12.7 12.9 14.1 15.5 13.3 16.5 14.8 13.3\n",
       "71 10.2 9.5 11.8 10.7 15.2 13.2 14.6 12.7 12.9 14.1 15.5 13.3 16.5 14.8 13.3\n",
       "72 10.2 9.5 11.8 10.7 15.2 13.2 14.6 12.7 12.9 14.1 15.5 13.3 16.5 14.8 13.3\n",
       "73 10.2 9.5 11.8 10.7 15.2 13.2 14.6 12.7 12.9 14.1 15.5 13.3 16.5 14.8 13.3\n",
       "74 10.2 9.5 11.8 10.7 15.2 13.2 14.6 12.7 12.9 14.1 15.5 13.3 16.5 14.8 13.3\n",
       "75 10.2 9.5 11.8 10.7 15.2 13.2 14.6 12.7 12.9 14.1 15.5 13.3 16.5 14.8 13.3\n",
       "   129  130  131  132 \n",
       "70 13.9 17.3 15.3 17.4\n",
       "71 13.9 17.3 15.3 17.4\n",
       "72 13.9 17.3 15.3 17.4\n",
       "73 13.9 17.3 15.3 17.4\n",
       "74 13.9 17.3 15.3 17.4\n",
       "75 13.9 17.3 15.3 17.4"
      ]
     },
     "metadata": {},
     "output_type": "display_data"
    }
   ],
   "source": [
    "#### ripetiamo gli step per i dati relativi alle temperature\n",
    "temp <- as.data.frame(t(select(Datioccas_, Temperatura.C)))\n",
    "temperatura_occasione <- rbind(temp[rep(1, trappole_posizionate), ])\n",
    "temperatura_occasione <- as.matrix(temperatura_occasione)\n",
    "rownames(temperatura_occasione) <- c(1:trappole_posizionate)\n",
    "\n",
    "tail(temperatura_occasione)"
   ]
  },
  {
   "cell_type": "code",
   "execution_count": 6,
   "metadata": {},
   "outputs": [
    {
     "data": {
      "text/html": [
       "<table>\n",
       "<caption>A data.frame: 6 × 19</caption>\n",
       "<thead>\n",
       "\t<tr><th></th><th scope=col>occ.1</th><th scope=col>occ.2</th><th scope=col>occ.3</th><th scope=col>occ.4</th><th scope=col>occ.5</th><th scope=col>occ.6</th><th scope=col>occ.7</th><th scope=col>occ.8</th><th scope=col>occ.9</th><th scope=col>occ.10</th><th scope=col>occ.11</th><th scope=col>occ.12</th><th scope=col>occ.13</th><th scope=col>occ.14</th><th scope=col>occ.15</th><th scope=col>occ.16</th><th scope=col>occ.17</th><th scope=col>occ.18</th><th scope=col>occ.19</th></tr>\n",
       "\t<tr><th></th><th scope=col>&lt;int&gt;</th><th scope=col>&lt;int&gt;</th><th scope=col>&lt;int&gt;</th><th scope=col>&lt;int&gt;</th><th scope=col>&lt;int&gt;</th><th scope=col>&lt;int&gt;</th><th scope=col>&lt;int&gt;</th><th scope=col>&lt;int&gt;</th><th scope=col>&lt;int&gt;</th><th scope=col>&lt;int&gt;</th><th scope=col>&lt;int&gt;</th><th scope=col>&lt;int&gt;</th><th scope=col>&lt;int&gt;</th><th scope=col>&lt;int&gt;</th><th scope=col>&lt;int&gt;</th><th scope=col>&lt;int&gt;</th><th scope=col>&lt;int&gt;</th><th scope=col>&lt;int&gt;</th><th scope=col>&lt;int&gt;</th></tr>\n",
       "</thead>\n",
       "<tbody>\n",
       "\t<tr><th scope=row>70</th><td>0</td><td>0</td><td>0</td><td>0</td><td>0</td><td>0</td><td>0</td><td>0</td><td>0</td><td>0</td><td>0</td><td>0</td><td>0</td><td>0</td><td>0</td><td>0</td><td>0</td><td>0</td><td>0</td></tr>\n",
       "\t<tr><th scope=row>71</th><td>0</td><td>0</td><td>0</td><td>0</td><td>0</td><td>0</td><td>0</td><td>0</td><td>0</td><td>0</td><td>0</td><td>0</td><td>0</td><td>0</td><td>0</td><td>0</td><td>0</td><td>0</td><td>0</td></tr>\n",
       "\t<tr><th scope=row>72</th><td>0</td><td>0</td><td>0</td><td>0</td><td>0</td><td>0</td><td>0</td><td>0</td><td>0</td><td>0</td><td>0</td><td>0</td><td>0</td><td>0</td><td>0</td><td>0</td><td>0</td><td>0</td><td>0</td></tr>\n",
       "\t<tr><th scope=row>73</th><td>0</td><td>0</td><td>0</td><td>0</td><td>0</td><td>0</td><td>0</td><td>0</td><td>0</td><td>0</td><td>0</td><td>0</td><td>0</td><td>0</td><td>0</td><td>0</td><td>0</td><td>0</td><td>0</td></tr>\n",
       "\t<tr><th scope=row>74</th><td>0</td><td>0</td><td>0</td><td>0</td><td>0</td><td>0</td><td>0</td><td>0</td><td>0</td><td>0</td><td>0</td><td>0</td><td>0</td><td>0</td><td>0</td><td>0</td><td>0</td><td>0</td><td>0</td></tr>\n",
       "\t<tr><th scope=row>75</th><td>0</td><td>0</td><td>0</td><td>0</td><td>0</td><td>0</td><td>0</td><td>0</td><td>0</td><td>0</td><td>0</td><td>0</td><td>0</td><td>0</td><td>0</td><td>0</td><td>0</td><td>0</td><td>0</td></tr>\n",
       "</tbody>\n",
       "</table>\n"
      ],
      "text/latex": [
       "A data.frame: 6 × 19\n",
       "\\begin{tabular}{r|lllllllllllllllllll}\n",
       "  & occ.1 & occ.2 & occ.3 & occ.4 & occ.5 & occ.6 & occ.7 & occ.8 & occ.9 & occ.10 & occ.11 & occ.12 & occ.13 & occ.14 & occ.15 & occ.16 & occ.17 & occ.18 & occ.19\\\\\n",
       "  & <int> & <int> & <int> & <int> & <int> & <int> & <int> & <int> & <int> & <int> & <int> & <int> & <int> & <int> & <int> & <int> & <int> & <int> & <int>\\\\\n",
       "\\hline\n",
       "\t70 & 0 & 0 & 0 & 0 & 0 & 0 & 0 & 0 & 0 & 0 & 0 & 0 & 0 & 0 & 0 & 0 & 0 & 0 & 0\\\\\n",
       "\t71 & 0 & 0 & 0 & 0 & 0 & 0 & 0 & 0 & 0 & 0 & 0 & 0 & 0 & 0 & 0 & 0 & 0 & 0 & 0\\\\\n",
       "\t72 & 0 & 0 & 0 & 0 & 0 & 0 & 0 & 0 & 0 & 0 & 0 & 0 & 0 & 0 & 0 & 0 & 0 & 0 & 0\\\\\n",
       "\t73 & 0 & 0 & 0 & 0 & 0 & 0 & 0 & 0 & 0 & 0 & 0 & 0 & 0 & 0 & 0 & 0 & 0 & 0 & 0\\\\\n",
       "\t74 & 0 & 0 & 0 & 0 & 0 & 0 & 0 & 0 & 0 & 0 & 0 & 0 & 0 & 0 & 0 & 0 & 0 & 0 & 0\\\\\n",
       "\t75 & 0 & 0 & 0 & 0 & 0 & 0 & 0 & 0 & 0 & 0 & 0 & 0 & 0 & 0 & 0 & 0 & 0 & 0 & 0\\\\\n",
       "\\end{tabular}\n"
      ],
      "text/markdown": [
       "\n",
       "A data.frame: 6 × 19\n",
       "\n",
       "| <!--/--> | occ.1 &lt;int&gt; | occ.2 &lt;int&gt; | occ.3 &lt;int&gt; | occ.4 &lt;int&gt; | occ.5 &lt;int&gt; | occ.6 &lt;int&gt; | occ.7 &lt;int&gt; | occ.8 &lt;int&gt; | occ.9 &lt;int&gt; | occ.10 &lt;int&gt; | occ.11 &lt;int&gt; | occ.12 &lt;int&gt; | occ.13 &lt;int&gt; | occ.14 &lt;int&gt; | occ.15 &lt;int&gt; | occ.16 &lt;int&gt; | occ.17 &lt;int&gt; | occ.18 &lt;int&gt; | occ.19 &lt;int&gt; |\n",
       "|---|---|---|---|---|---|---|---|---|---|---|---|---|---|---|---|---|---|---|---|\n",
       "| 70 | 0 | 0 | 0 | 0 | 0 | 0 | 0 | 0 | 0 | 0 | 0 | 0 | 0 | 0 | 0 | 0 | 0 | 0 | 0 |\n",
       "| 71 | 0 | 0 | 0 | 0 | 0 | 0 | 0 | 0 | 0 | 0 | 0 | 0 | 0 | 0 | 0 | 0 | 0 | 0 | 0 |\n",
       "| 72 | 0 | 0 | 0 | 0 | 0 | 0 | 0 | 0 | 0 | 0 | 0 | 0 | 0 | 0 | 0 | 0 | 0 | 0 | 0 |\n",
       "| 73 | 0 | 0 | 0 | 0 | 0 | 0 | 0 | 0 | 0 | 0 | 0 | 0 | 0 | 0 | 0 | 0 | 0 | 0 | 0 |\n",
       "| 74 | 0 | 0 | 0 | 0 | 0 | 0 | 0 | 0 | 0 | 0 | 0 | 0 | 0 | 0 | 0 | 0 | 0 | 0 | 0 |\n",
       "| 75 | 0 | 0 | 0 | 0 | 0 | 0 | 0 | 0 | 0 | 0 | 0 | 0 | 0 | 0 | 0 | 0 | 0 | 0 | 0 |\n",
       "\n"
      ],
      "text/plain": [
       "   occ.1 occ.2 occ.3 occ.4 occ.5 occ.6 occ.7 occ.8 occ.9 occ.10 occ.11 occ.12\n",
       "70 0     0     0     0     0     0     0     0     0     0      0      0     \n",
       "71 0     0     0     0     0     0     0     0     0     0      0      0     \n",
       "72 0     0     0     0     0     0     0     0     0     0      0      0     \n",
       "73 0     0     0     0     0     0     0     0     0     0      0      0     \n",
       "74 0     0     0     0     0     0     0     0     0     0      0      0     \n",
       "75 0     0     0     0     0     0     0     0     0     0      0      0     \n",
       "   occ.13 occ.14 occ.15 occ.16 occ.17 occ.18 occ.19\n",
       "70 0      0      0      0      0      0      0     \n",
       "71 0      0      0      0      0      0      0     \n",
       "72 0      0      0      0      0      0      0     \n",
       "73 0      0      0      0      0      0      0     \n",
       "74 0      0      0      0      0      0      0     \n",
       "75 0      0      0      0      0      0      0     "
      ]
     },
     "metadata": {},
     "output_type": "display_data"
    }
   ],
   "source": [
    "#### A questo punto selezionare il file detection histories relativo all'anno di studio interessato creato durante l'esecuzione dello script \"Detection History catture\"\n",
    "occasioni_cattura <- read.csv(paste0(\"Dati-detection-history/Detection-Anno_\", anno_analisi, \"_Sessione_\", sessione_analisi, \".csv\"), dec=\",\", sep=\";\") \n",
    "occasioni_cattura <- subset( occasioni_cattura, select = -ID_TRAP)\n",
    "\n",
    "tail(occasioni_cattura)"
   ]
  },
  {
   "cell_type": "markdown",
   "metadata": {},
   "source": [
    "## ANALISI DETECTION HISTORIES \n",
    "#### A questo punto, possiamo procedere con l'analisi delle detection histores. "
   ]
  },
  {
   "cell_type": "code",
   "execution_count": 7,
   "metadata": {},
   "outputs": [
    {
     "data": {
      "text/html": [
       "<style>\n",
       ".list-inline {list-style: none; margin:0; padding: 0}\n",
       ".list-inline>li {display: inline-block}\n",
       ".list-inline>li:not(:last-child)::after {content: \"\\00b7\"; padding: 0 .5ex}\n",
       "</style>\n",
       "<ol class=list-inline><li>75</li><li>19</li></ol>\n"
      ],
      "text/latex": [
       "\\begin{enumerate*}\n",
       "\\item 75\n",
       "\\item 19\n",
       "\\end{enumerate*}\n"
      ],
      "text/markdown": [
       "1. 75\n",
       "2. 19\n",
       "\n",
       "\n"
      ],
      "text/plain": [
       "[1] 75 19"
      ]
     },
     "metadata": {},
     "output_type": "display_data"
    },
    {
     "data": {
      "text/html": [
       "<style>\n",
       ".list-inline {list-style: none; margin:0; padding: 0}\n",
       ".list-inline>li {display: inline-block}\n",
       ".list-inline>li:not(:last-child)::after {content: \"\\00b7\"; padding: 0 .5ex}\n",
       "</style>\n",
       "<ol class=list-inline><li>75</li><li>19</li></ol>\n"
      ],
      "text/latex": [
       "\\begin{enumerate*}\n",
       "\\item 75\n",
       "\\item 19\n",
       "\\end{enumerate*}\n"
      ],
      "text/markdown": [
       "1. 75\n",
       "2. 19\n",
       "\n",
       "\n"
      ],
      "text/plain": [
       "[1] 75 19"
      ]
     },
     "metadata": {},
     "output_type": "display_data"
    },
    {
     "data": {
      "text/html": [
       "<style>\n",
       ".list-inline {list-style: none; margin:0; padding: 0}\n",
       ".list-inline>li {display: inline-block}\n",
       ".list-inline>li:not(:last-child)::after {content: \"\\00b7\"; padding: 0 .5ex}\n",
       "</style>\n",
       "<ol class=list-inline><li>75</li><li>19</li></ol>\n"
      ],
      "text/latex": [
       "\\begin{enumerate*}\n",
       "\\item 75\n",
       "\\item 19\n",
       "\\end{enumerate*}\n"
      ],
      "text/markdown": [
       "1. 75\n",
       "2. 19\n",
       "\n",
       "\n"
      ],
      "text/plain": [
       "[1] 75 19"
      ]
     },
     "metadata": {},
     "output_type": "display_data"
    },
    {
     "data": {
      "text/html": [
       "<style>\n",
       ".list-inline {list-style: none; margin:0; padding: 0}\n",
       ".list-inline>li {display: inline-block}\n",
       ".list-inline>li:not(:last-child)::after {content: \"\\00b7\"; padding: 0 .5ex}\n",
       "</style>\n",
       "<ol class=list-inline><li>75</li><li>19</li></ol>\n"
      ],
      "text/latex": [
       "\\begin{enumerate*}\n",
       "\\item 75\n",
       "\\item 19\n",
       "\\end{enumerate*}\n"
      ],
      "text/markdown": [
       "1. 75\n",
       "2. 19\n",
       "\n",
       "\n"
      ],
      "text/plain": [
       "[1] 75 19"
      ]
     },
     "metadata": {},
     "output_type": "display_data"
    }
   ],
   "source": [
    "# Verifichiamo che i dataframe abbiano le stesse dimensioni\n",
    "dim(orario_occasione)\n",
    "dim(precipitazioni_occasione)\n",
    "dim(temperatura_occasione)\n",
    "dim(occasioni_cattura)\n",
    "#Creiamo a questo punto una lista che contenga i dati in oggetto\n",
    "obs.covs <- list(\n",
    "    orario_occasione = matrix(c(orario_occasione), nrow=trappole_posizionate, ncol=numero_occasioni, byrow=FALSE),\n",
    "    temperatura_occasione = matrix(c(temperatura_occasione), nrow=trappole_posizionate, ncol=numero_occasioni, byrow=FALSE),\n",
    "    precipitazioni_occasione = matrix(c(precipitazioni_occasione), nrow=trappole_posizionate, ncol=numero_occasioni, byrow=FALSE)\n",
    ")\n",
    "#obs.covs"
   ]
  },
  {
   "cell_type": "markdown",
   "metadata": {},
   "source": [
    "#### Carichiamo il file relativo alle covariate"
   ]
  },
  {
   "cell_type": "code",
   "execution_count": 8,
   "metadata": {},
   "outputs": [
    {
     "data": {
      "text/html": [
       "<table>\n",
       "<caption>A data.frame: 6 × 9</caption>\n",
       "<thead>\n",
       "\t<tr><th></th><th scope=col>Diametro.roccia.1..cm.</th><th scope=col>Diametro.roccia.2..cm.</th><th scope=col>Diametro.roccia.3..cm.</th><th scope=col>alt_m</th><th scope=col>aspect_deg</th><th scope=col>slope_degr</th><th scope=col>n_species</th><th scope=col>dominant</th><th scope=col>Cop_Veg_2018_ottavi</th></tr>\n",
       "\t<tr><th></th><th scope=col>&lt;int&gt;</th><th scope=col>&lt;int&gt;</th><th scope=col>&lt;int&gt;</th><th scope=col>&lt;dbl&gt;</th><th scope=col>&lt;int&gt;</th><th scope=col>&lt;int&gt;</th><th scope=col>&lt;int&gt;</th><th scope=col>&lt;fct&gt;</th><th scope=col>&lt;int&gt;</th></tr>\n",
       "</thead>\n",
       "<tbody>\n",
       "\t<tr><th scope=row>1</th><td> 59</td><td>96</td><td>102</td><td>2782.206</td><td>234</td><td>13</td><td>23</td><td>Graminacee</td><td>5</td></tr>\n",
       "\t<tr><th scope=row>2</th><td>176</td><td>42</td><td> 76</td><td>2781.136</td><td>294</td><td>16</td><td>16</td><td>Graminacee</td><td>2</td></tr>\n",
       "\t<tr><th scope=row>3</th><td> 51</td><td>88</td><td> 62</td><td>2781.067</td><td>310</td><td> 0</td><td>13</td><td>Graminacee</td><td>2</td></tr>\n",
       "\t<tr><th scope=row>4</th><td> 99</td><td>30</td><td> 36</td><td>2781.087</td><td>293</td><td> 8</td><td>23</td><td>Graminacee</td><td>5</td></tr>\n",
       "\t<tr><th scope=row>5</th><td>164</td><td>41</td><td> 47</td><td>2781.887</td><td>294</td><td>11</td><td>21</td><td>Graminacee</td><td>2</td></tr>\n",
       "\t<tr><th scope=row>6</th><td>130</td><td>31</td><td> 36</td><td>2782.237</td><td>310</td><td> 7</td><td>20</td><td>Graminacee</td><td>4</td></tr>\n",
       "</tbody>\n",
       "</table>\n"
      ],
      "text/latex": [
       "A data.frame: 6 × 9\n",
       "\\begin{tabular}{r|lllllllll}\n",
       "  & Diametro.roccia.1..cm. & Diametro.roccia.2..cm. & Diametro.roccia.3..cm. & alt\\_m & aspect\\_deg & slope\\_degr & n\\_species & dominant & Cop\\_Veg\\_2018\\_ottavi\\\\\n",
       "  & <int> & <int> & <int> & <dbl> & <int> & <int> & <int> & <fct> & <int>\\\\\n",
       "\\hline\n",
       "\t1 &  59 & 96 & 102 & 2782.206 & 234 & 13 & 23 & Graminacee & 5\\\\\n",
       "\t2 & 176 & 42 &  76 & 2781.136 & 294 & 16 & 16 & Graminacee & 2\\\\\n",
       "\t3 &  51 & 88 &  62 & 2781.067 & 310 &  0 & 13 & Graminacee & 2\\\\\n",
       "\t4 &  99 & 30 &  36 & 2781.087 & 293 &  8 & 23 & Graminacee & 5\\\\\n",
       "\t5 & 164 & 41 &  47 & 2781.887 & 294 & 11 & 21 & Graminacee & 2\\\\\n",
       "\t6 & 130 & 31 &  36 & 2782.237 & 310 &  7 & 20 & Graminacee & 4\\\\\n",
       "\\end{tabular}\n"
      ],
      "text/markdown": [
       "\n",
       "A data.frame: 6 × 9\n",
       "\n",
       "| <!--/--> | Diametro.roccia.1..cm. &lt;int&gt; | Diametro.roccia.2..cm. &lt;int&gt; | Diametro.roccia.3..cm. &lt;int&gt; | alt_m &lt;dbl&gt; | aspect_deg &lt;int&gt; | slope_degr &lt;int&gt; | n_species &lt;int&gt; | dominant &lt;fct&gt; | Cop_Veg_2018_ottavi &lt;int&gt; |\n",
       "|---|---|---|---|---|---|---|---|---|---|\n",
       "| 1 |  59 | 96 | 102 | 2782.206 | 234 | 13 | 23 | Graminacee | 5 |\n",
       "| 2 | 176 | 42 |  76 | 2781.136 | 294 | 16 | 16 | Graminacee | 2 |\n",
       "| 3 |  51 | 88 |  62 | 2781.067 | 310 |  0 | 13 | Graminacee | 2 |\n",
       "| 4 |  99 | 30 |  36 | 2781.087 | 293 |  8 | 23 | Graminacee | 5 |\n",
       "| 5 | 164 | 41 |  47 | 2781.887 | 294 | 11 | 21 | Graminacee | 2 |\n",
       "| 6 | 130 | 31 |  36 | 2782.237 | 310 |  7 | 20 | Graminacee | 4 |\n",
       "\n"
      ],
      "text/plain": [
       "  Diametro.roccia.1..cm. Diametro.roccia.2..cm. Diametro.roccia.3..cm. alt_m   \n",
       "1  59                    96                     102                    2782.206\n",
       "2 176                    42                      76                    2781.136\n",
       "3  51                    88                      62                    2781.067\n",
       "4  99                    30                      36                    2781.087\n",
       "5 164                    41                      47                    2781.887\n",
       "6 130                    31                      36                    2782.237\n",
       "  aspect_deg slope_degr n_species dominant   Cop_Veg_2018_ottavi\n",
       "1 234        13         23        Graminacee 5                  \n",
       "2 294        16         16        Graminacee 2                  \n",
       "3 310         0         13        Graminacee 2                  \n",
       "4 293         8         23        Graminacee 5                  \n",
       "5 294        11         21        Graminacee 2                  \n",
       "6 310         7         20        Graminacee 4                  "
      ]
     },
     "metadata": {},
     "output_type": "display_data"
    },
    {
     "name": "stdout",
     "output_type": "stream",
     "text": [
      "'data.frame':\t75 obs. of  9 variables:\n",
      " $ Diametro.roccia.1..cm.: int  59 176 51 99 164 130 116 97 97 58 ...\n",
      " $ Diametro.roccia.2..cm.: int  96 42 88 30 41 31 38 94 48 34 ...\n",
      " $ Diametro.roccia.3..cm.: int  102 76 62 36 47 36 56 55 157 41 ...\n",
      " $ alt_m                 : num  2782 2781 2781 2781 2782 ...\n",
      " $ aspect_deg            : int  234 294 310 293 294 310 332 19 4 343 ...\n",
      " $ slope_degr            : int  13 16 0 8 11 7 0 6 0 0 ...\n",
      " $ n_species             : int  23 16 13 23 21 20 22 24 8 20 ...\n",
      " $ dominant              : Factor w/ 10 levels \"Alchemilla alpina\",..: 4 4 4 4 4 4 4 4 4 4 ...\n",
      " $ Cop_Veg_2018_ottavi   : int  5 2 2 5 2 4 2 2 3 3 ...\n"
     ]
    }
   ],
   "source": [
    "dati.cov <- read.csv(\"Dati-elaborati/Dati-cov.csv\", dec=\",\", sep=\";\")# da leggere file csv relativo alle covariate\n",
    "dati.cov <- dati.cov[1:trappole_posizionate,]\n",
    "\n",
    "head(dati.cov)\n",
    "str(dati.cov)"
   ]
  },
  {
   "cell_type": "markdown",
   "metadata": {},
   "source": [
    "### UNMARKED DATA FRAME\n",
    "#### Per la determinazione del miglior modello di occupancy, utilizziamo il pacchetto Unmarked e la funzione unmarkedFrameOccu"
   ]
  },
  {
   "cell_type": "code",
   "execution_count": 19,
   "metadata": {},
   "outputs": [],
   "source": [
    "#str(obs.covs)\n",
    "#str(dati.cov)\n",
    "#str(occasioni_cattura)"
   ]
  },
  {
   "cell_type": "code",
   "execution_count": 10,
   "metadata": {},
   "outputs": [
    {
     "name": "stdout",
     "output_type": "stream",
     "text": [
      "unmarkedFrame Object\n",
      "\n",
      "75 sites\n",
      "Maximum number of observations per site: 19 \n",
      "Mean number of observations per site: 19 \n",
      "Sites with at least one detection: 17 \n",
      "\n",
      "Tabulation of y observations:\n",
      "   0    1 \n",
      "1396   29 \n",
      "\n",
      "Site-level covariates:\n",
      " Diametro.roccia.1..cm. Diametro.roccia.2..cm. Diametro.roccia.3..cm.\n",
      " Min.   : 30.0          Min.   : 28.00         Min.   :  8.00        \n",
      " 1st Qu.: 65.0          1st Qu.: 44.00         1st Qu.: 40.00        \n",
      " Median : 97.0          Median : 61.00         Median : 57.00        \n",
      " Mean   :113.8          Mean   : 74.61         Mean   : 78.11        \n",
      " 3rd Qu.:135.0          3rd Qu.: 92.00         3rd Qu.: 82.50        \n",
      " Max.   :440.0          Max.   :308.00         Max.   :292.00        \n",
      "                                                                     \n",
      "     alt_m        aspect_deg      slope_degr      n_species    \n",
      " Min.   :2778   Min.   :  0.0   Min.   : 0.00   Min.   : 0.00  \n",
      " 1st Qu.:2783   1st Qu.: 36.0   1st Qu.: 8.00   1st Qu.:10.00  \n",
      " Median :2789   Median :310.0   Median :12.00   Median :14.00  \n",
      " Mean   :2789   Mean   :225.3   Mean   :13.27   Mean   :15.15  \n",
      " 3rd Qu.:2795   3rd Qu.:330.5   3rd Qu.:20.00   3rd Qu.:21.00  \n",
      " Max.   :2804   Max.   :358.0   Max.   :38.00   Max.   :32.00  \n",
      " NA's   :5                                                     \n",
      "           dominant  Cop_Veg_2018_ottavi\n",
      " Graminacee    :39   Min.   :0.00       \n",
      " Muschio       :16   1st Qu.:1.25       \n",
      " Salix herbacea: 5   Median :2.00       \n",
      " Saxifraga     : 4   Mean   :2.56       \n",
      " Oxyria digyna : 3   3rd Qu.:4.00       \n",
      " Silene acaulis: 3   Max.   :7.00       \n",
      " (Other)       : 5   NA's   :25         \n",
      "\n",
      "Observation-level covariates:\n",
      " orario_occasione temperatura_occasione precipitazioni_occasione\n",
      " A:675            Min.   : 9.5          Min.   :0.00000         \n",
      " T:750            1st Qu.:12.7          1st Qu.:0.00000         \n",
      "                  Median :13.9          Median :0.00000         \n",
      "                  Mean   :13.8          Mean   :0.01053         \n",
      "                  3rd Qu.:15.3          3rd Qu.:0.00000         \n",
      "                  Max.   :17.4          Max.   :0.20000         \n"
     ]
    }
   ],
   "source": [
    "## UNMARKED DATA FRAME\n",
    "# ?unmarkedFrameOccu\n",
    "# uniamo le detection histories e le covariate in unico dataframe \"unmarked\" e lo chiamiamo blgr\n",
    "# blgr <- unmarkedFrameOccu(y = y, siteCovs = blgr.site, obsCovs = blgr.obs)\n",
    "# y = capture histories (specifiche per la sessione 1 o la sessione 2)\n",
    "# siteCovs = dati.cov, uguali per le due sessioni\n",
    "# obsCovs alba/tramonto, specifico per la sessione 1 o la sessione 2\n",
    "blgr <- unmarkedFrameOccu(y = occasioni_cattura, siteCovs=dati.cov, obsCovs=obs.covs) \n",
    "# which can be summarized by\n",
    "#summary of unmarked data frame\n",
    "summary(blgr)"
   ]
  },
  {
   "cell_type": "code",
   "execution_count": 11,
   "metadata": {},
   "outputs": [
    {
     "data": {
      "image/png": "[encoded data removed]",
      "text/plain": [
       "Plot with title \"Histogram of Esp.tr\""
      ]
     },
     "metadata": {
      "image/png": {
       "height": 420,
       "width": 420
      }
     },
     "output_type": "display_data"
    }
   ],
   "source": [
    "# Possiamo calcolare la mediana e intervallo interquartile del diametro delle rocce\n",
    "MDR <- apply(dati.cov[,1:3], 1, median)\n",
    "IQR <- apply(dati.cov[,1:3], 1, IQR)\n",
    "# trasformo i dati dell'esposizione\n",
    "# trasformazione e successiva analisi dei dati di esposizione\n",
    "# expc <- circular(sc$aspect_deg, type=\"angles\", units=\"degrees\", template='none', zero=0, rotation=\"clock\")\n",
    "# plot(expc)\n",
    "Esp.tr <- vector(\"numeric\", length(dati.cov$aspect_deg))\n",
    "for (i in 1:length(dati.cov$aspect_deg)) {\n",
    "  if (dati.cov$aspect_deg[i] > 180) Esp.tr[i] <- dati.cov$aspect_deg[i]-360 else Esp.tr[i] <- dati.cov$aspect_deg[i]\n",
    "}\n",
    "hist(Esp.tr)"
   ]
  },
  {
   "cell_type": "markdown",
   "metadata": {},
   "source": [
    "## Outlier detection"
   ]
  },
  {
   "cell_type": "markdown",
   "metadata": {},
   "source": [
    "#### Procediamo all'analis degli outlier"
   ]
  },
  {
   "cell_type": "code",
   "execution_count": 12,
   "metadata": {},
   "outputs": [
    {
     "data": {
      "text/html": [
       "<table>\n",
       "<caption>A data.frame: 6 × 7</caption>\n",
       "<thead>\n",
       "\t<tr><th></th><th scope=col>slope_degr</th><th scope=col>n_species</th><th scope=col>Cop_Veg_2018_ottavi</th><th scope=col>MDR</th><th scope=col>IQR</th><th scope=col>Esp.tr</th><th scope=col>specie_dominante</th></tr>\n",
       "\t<tr><th></th><th scope=col>&lt;int&gt;</th><th scope=col>&lt;int&gt;</th><th scope=col>&lt;int&gt;</th><th scope=col>&lt;int&gt;</th><th scope=col>&lt;dbl&gt;</th><th scope=col>&lt;dbl&gt;</th><th scope=col>&lt;fct&gt;</th></tr>\n",
       "</thead>\n",
       "<tbody>\n",
       "\t<tr><th scope=row>1</th><td>13</td><td>23</td><td>5</td><td>96</td><td>21.5</td><td>-126</td><td>Graminacee</td></tr>\n",
       "\t<tr><th scope=row>2</th><td>16</td><td>16</td><td>2</td><td>76</td><td>67.0</td><td> -66</td><td>Graminacee</td></tr>\n",
       "\t<tr><th scope=row>3</th><td> 0</td><td>13</td><td>2</td><td>62</td><td>18.5</td><td> -50</td><td>Graminacee</td></tr>\n",
       "\t<tr><th scope=row>4</th><td> 8</td><td>23</td><td>5</td><td>36</td><td>34.5</td><td> -67</td><td>Graminacee</td></tr>\n",
       "\t<tr><th scope=row>5</th><td>11</td><td>21</td><td>2</td><td>47</td><td>61.5</td><td> -66</td><td>Graminacee</td></tr>\n",
       "\t<tr><th scope=row>6</th><td> 7</td><td>20</td><td>4</td><td>36</td><td>49.5</td><td> -50</td><td>Graminacee</td></tr>\n",
       "</tbody>\n",
       "</table>\n"
      ],
      "text/latex": [
       "A data.frame: 6 × 7\n",
       "\\begin{tabular}{r|lllllll}\n",
       "  & slope\\_degr & n\\_species & Cop\\_Veg\\_2018\\_ottavi & MDR & IQR & Esp.tr & specie\\_dominante\\\\\n",
       "  & <int> & <int> & <int> & <int> & <dbl> & <dbl> & <fct>\\\\\n",
       "\\hline\n",
       "\t1 & 13 & 23 & 5 & 96 & 21.5 & -126 & Graminacee\\\\\n",
       "\t2 & 16 & 16 & 2 & 76 & 67.0 &  -66 & Graminacee\\\\\n",
       "\t3 &  0 & 13 & 2 & 62 & 18.5 &  -50 & Graminacee\\\\\n",
       "\t4 &  8 & 23 & 5 & 36 & 34.5 &  -67 & Graminacee\\\\\n",
       "\t5 & 11 & 21 & 2 & 47 & 61.5 &  -66 & Graminacee\\\\\n",
       "\t6 &  7 & 20 & 4 & 36 & 49.5 &  -50 & Graminacee\\\\\n",
       "\\end{tabular}\n"
      ],
      "text/markdown": [
       "\n",
       "A data.frame: 6 × 7\n",
       "\n",
       "| <!--/--> | slope_degr &lt;int&gt; | n_species &lt;int&gt; | Cop_Veg_2018_ottavi &lt;int&gt; | MDR &lt;int&gt; | IQR &lt;dbl&gt; | Esp.tr &lt;dbl&gt; | specie_dominante &lt;fct&gt; |\n",
       "|---|---|---|---|---|---|---|---|\n",
       "| 1 | 13 | 23 | 5 | 96 | 21.5 | -126 | Graminacee |\n",
       "| 2 | 16 | 16 | 2 | 76 | 67.0 |  -66 | Graminacee |\n",
       "| 3 |  0 | 13 | 2 | 62 | 18.5 |  -50 | Graminacee |\n",
       "| 4 |  8 | 23 | 5 | 36 | 34.5 |  -67 | Graminacee |\n",
       "| 5 | 11 | 21 | 2 | 47 | 61.5 |  -66 | Graminacee |\n",
       "| 6 |  7 | 20 | 4 | 36 | 49.5 |  -50 | Graminacee |\n",
       "\n"
      ],
      "text/plain": [
       "  slope_degr n_species Cop_Veg_2018_ottavi MDR IQR  Esp.tr specie_dominante\n",
       "1 13         23        5                   96  21.5 -126   Graminacee      \n",
       "2 16         16        2                   76  67.0  -66   Graminacee      \n",
       "3  0         13        2                   62  18.5  -50   Graminacee      \n",
       "4  8         23        5                   36  34.5  -67   Graminacee      \n",
       "5 11         21        2                   47  61.5  -66   Graminacee      \n",
       "6  7         20        4                   36  49.5  -50   Graminacee      "
      ]
     },
     "metadata": {},
     "output_type": "display_data"
    }
   ],
   "source": [
    "# raggruppo i dati delle specie vegetali dominanti, facendo soltanto 3 gruppi: graminacee, muschio, tutte le altre\n",
    "specie_dominante <- as.character(dati.cov$dominant)\n",
    "specie_dominante[specie_dominante != \"Graminacee\" & specie_dominante != \"Muschio\"]  <- \"Other_sp\"\n",
    "\n",
    "dati.cov.interesse <- cbind(dati.cov, MDR, IQR, Esp.tr, specie_dominante)\n",
    "dati.cov.interesse <- dati.cov.interesse[,c(\"slope_degr\",\"n_species\",\"Cop_Veg_2018_ottavi\",\"MDR\",\"IQR\",\"Esp.tr\",\"specie_dominante\")]\n",
    "\n",
    "\n",
    "head(dati.cov.interesse)"
   ]
  },
  {
   "cell_type": "code",
   "execution_count": 13,
   "metadata": {},
   "outputs": [
    {
     "data": {
      "image/png": "[encoded data removed]",
      "text/plain": [
       "plot without title"
      ]
     },
     "metadata": {
      "image/png": {
       "height": 420,
       "width": 420
      }
     },
     "output_type": "display_data"
    },
    {
     "data": {
      "image/png": "[encoded data removed]",
      "text/plain": [
       "plot without title"
      ]
     },
     "metadata": {
      "image/png": {
       "height": 420,
       "width": 420
      }
     },
     "output_type": "display_data"
    },
    {
     "data": {
      "image/png": "[encoded data removed]",
      "text/plain": [
       "plot without title"
      ]
     },
     "metadata": {
      "image/png": {
       "height": 420,
       "width": 420
      }
     },
     "output_type": "display_data"
    },
    {
     "data": {
      "image/png": "[encoded data removed]",
      "text/plain": [
       "plot without title"
      ]
     },
     "metadata": {
      "image/png": {
       "height": 420,
       "width": 420
      }
     },
     "output_type": "display_data"
    },
    {
     "data": {
      "image/png": "[encoded data removed]",
      "text/plain": [
       "plot without title"
      ]
     },
     "metadata": {
      "image/png": {
       "height": 420,
       "width": 420
      }
     },
     "output_type": "display_data"
    },
    {
     "data": {
      "image/png": "[encoded data removed]",
      "text/plain": [
       "plot without title"
      ]
     },
     "metadata": {
      "image/png": {
       "height": 420,
       "width": 420
      }
     },
     "output_type": "display_data"
    },
    {
     "data": {
      "image/png": "[encoded data removed]",
      "text/plain": [
       "plot without title"
      ]
     },
     "metadata": {
      "image/png": {
       "height": 420,
       "width": 420
      }
     },
     "output_type": "display_data"
    }
   ],
   "source": [
    "#### si può procedere a fare l'analisi esplorativa sul dataset sc.def e standardizzare ottavi_veg2018 (vedi la funzione 'scale')\n",
    "\n",
    "dati.cov.interesse$ott <- scale(dati.cov.interesse$Cop_Veg_2018_ottavi)\n",
    "# outlier detection\n",
    "boxplot(dati.cov.interesse$slope_degr, xlab=\"slope_degr\")\n",
    "boxplot(dati.cov.interesse$n_species, xlab=\"n_species\")\n",
    "boxplot(dati.cov.interesse$Cop_Veg_2018_ottavi, xlab=\"ottavi_veg2018\")\n",
    "boxplot(dati.cov.interesse$ott, xlab=\"ott\")\n",
    "boxplot(dati.cov.interesse$MDR, xlab=\"MDR\")\n",
    "boxplot(dati.cov.interesse$IQR, xlab=\"IQR\")\n",
    "boxplot(dati.cov.interesse$Esp.tr, xlab=\"Esp.tr\")\n",
    "#\n"
   ]
  },
  {
   "cell_type": "markdown",
   "metadata": {},
   "source": [
    "## Collinearità"
   ]
  },
  {
   "cell_type": "code",
   "execution_count": 14,
   "metadata": {},
   "outputs": [
    {
     "name": "stderr",
     "output_type": "stream",
     "text": [
      "Loading required package: ggplot2\n",
      "\n"
     ]
    },
    {
     "data": {
      "text/html": [
       "<table>\n",
       "<caption>A matrix: 6 × 6 of type lgl</caption>\n",
       "<thead>\n",
       "\t<tr><th></th><th scope=col>slope_degr</th><th scope=col>n_species</th><th scope=col>MDR</th><th scope=col>IQR</th><th scope=col>Esp.tr</th><th scope=col>ott</th></tr>\n",
       "</thead>\n",
       "<tbody>\n",
       "\t<tr><th scope=row>slope_degr</th><td> TRUE</td><td>FALSE</td><td>FALSE</td><td>FALSE</td><td>FALSE</td><td>FALSE</td></tr>\n",
       "\t<tr><th scope=row>n_species</th><td>FALSE</td><td> TRUE</td><td>FALSE</td><td>FALSE</td><td>FALSE</td><td>FALSE</td></tr>\n",
       "\t<tr><th scope=row>MDR</th><td>FALSE</td><td>FALSE</td><td> TRUE</td><td>FALSE</td><td>FALSE</td><td>FALSE</td></tr>\n",
       "\t<tr><th scope=row>IQR</th><td>FALSE</td><td>FALSE</td><td>FALSE</td><td> TRUE</td><td>FALSE</td><td>FALSE</td></tr>\n",
       "\t<tr><th scope=row>Esp.tr</th><td>FALSE</td><td>FALSE</td><td>FALSE</td><td>FALSE</td><td> TRUE</td><td>FALSE</td></tr>\n",
       "\t<tr><th scope=row>ott</th><td>FALSE</td><td>FALSE</td><td>FALSE</td><td>FALSE</td><td>FALSE</td><td> TRUE</td></tr>\n",
       "</tbody>\n",
       "</table>\n"
      ],
      "text/latex": [
       "A matrix: 6 × 6 of type lgl\n",
       "\\begin{tabular}{r|llllll}\n",
       "  & slope\\_degr & n\\_species & MDR & IQR & Esp.tr & ott\\\\\n",
       "\\hline\n",
       "\tslope\\_degr &  TRUE & FALSE & FALSE & FALSE & FALSE & FALSE\\\\\n",
       "\tn\\_species & FALSE &  TRUE & FALSE & FALSE & FALSE & FALSE\\\\\n",
       "\tMDR & FALSE & FALSE &  TRUE & FALSE & FALSE & FALSE\\\\\n",
       "\tIQR & FALSE & FALSE & FALSE &  TRUE & FALSE & FALSE\\\\\n",
       "\tEsp.tr & FALSE & FALSE & FALSE & FALSE &  TRUE & FALSE\\\\\n",
       "\tott & FALSE & FALSE & FALSE & FALSE & FALSE &  TRUE\\\\\n",
       "\\end{tabular}\n"
      ],
      "text/markdown": [
       "\n",
       "A matrix: 6 × 6 of type lgl\n",
       "\n",
       "| <!--/--> | slope_degr | n_species | MDR | IQR | Esp.tr | ott |\n",
       "|---|---|---|---|---|---|---|\n",
       "| slope_degr |  TRUE | FALSE | FALSE | FALSE | FALSE | FALSE |\n",
       "| n_species | FALSE |  TRUE | FALSE | FALSE | FALSE | FALSE |\n",
       "| MDR | FALSE | FALSE |  TRUE | FALSE | FALSE | FALSE |\n",
       "| IQR | FALSE | FALSE | FALSE |  TRUE | FALSE | FALSE |\n",
       "| Esp.tr | FALSE | FALSE | FALSE | FALSE |  TRUE | FALSE |\n",
       "| ott | FALSE | FALSE | FALSE | FALSE | FALSE |  TRUE |\n",
       "\n"
      ],
      "text/plain": [
       "           slope_degr n_species MDR   IQR   Esp.tr ott  \n",
       "slope_degr  TRUE      FALSE     FALSE FALSE FALSE  FALSE\n",
       "n_species  FALSE       TRUE     FALSE FALSE FALSE  FALSE\n",
       "MDR        FALSE      FALSE      TRUE FALSE FALSE  FALSE\n",
       "IQR        FALSE      FALSE     FALSE  TRUE FALSE  FALSE\n",
       "Esp.tr     FALSE      FALSE     FALSE FALSE  TRUE  FALSE\n",
       "ott        FALSE      FALSE     FALSE FALSE FALSE   TRUE"
      ]
     },
     "metadata": {},
     "output_type": "display_data"
    },
    {
     "data": {
      "image/png": "[encoded data removed]",
      "text/plain": [
       "plot without title"
      ]
     },
     "metadata": {
      "image/png": {
       "height": 420,
       "width": 420
      }
     },
     "output_type": "display_data"
    },
    {
     "name": "stdout",
     "output_type": "stream",
     "text": [
      "unmarkedFrame Object\n",
      "\n",
      "75 sites\n",
      "Maximum number of observations per site: 19 \n",
      "Mean number of observations per site: 19 \n",
      "Sites with at least one detection: 17 \n",
      "\n",
      "Tabulation of y observations:\n",
      "   0    1 \n",
      "1396   29 \n",
      "\n",
      "Site-level covariates:\n",
      "   slope_degr      n_species     Cop_Veg_2018_ottavi      MDR        \n",
      " Min.   : 0.00   Min.   : 0.00   Min.   :0.00        Min.   : 28.00  \n",
      " 1st Qu.: 8.00   1st Qu.:10.00   1st Qu.:1.25        1st Qu.: 53.00  \n",
      " Median :12.00   Median :14.00   Median :2.00        Median : 67.00  \n",
      " Mean   :13.27   Mean   :15.15   Mean   :2.56        Mean   : 73.27  \n",
      " 3rd Qu.:20.00   3rd Qu.:21.00   3rd Qu.:4.00        3rd Qu.: 88.00  \n",
      " Max.   :38.00   Max.   :32.00   Max.   :7.00        Max.   :212.00  \n",
      "                                 NA's   :25                          \n",
      "      IQR             Esp.tr          specie_dominante       ott.V1       \n",
      " Min.   :  5.50   Min.   :-126.00   Graminacee:39      Min.   :-1.433279  \n",
      " 1st Qu.: 21.25   1st Qu.: -42.50   Muschio   :16      1st Qu.:-0.733436  \n",
      " Median : 39.00   Median : -17.00   Other_sp  :20      Median :-0.313530  \n",
      " Mean   : 51.09   Mean   : -19.49                      Mean   : 0.000000  \n",
      " 3rd Qu.: 67.75   3rd Qu.:  11.50                      3rd Qu.: 0.806219  \n",
      " Max.   :198.00   Max.   :  62.00                      Max.   : 2.485843  \n",
      "                                                       NA's   :25         \n",
      "\n",
      "Observation-level covariates:\n",
      " orario_occasione temperatura_occasione precipitazioni_occasione\n",
      " A:675            Min.   : 9.5          Min.   :0.00000         \n",
      " T:750            1st Qu.:12.7          1st Qu.:0.00000         \n",
      "                  Median :13.9          Median :0.00000         \n",
      "                  Mean   :13.8          Mean   :0.01053         \n",
      "                  3rd Qu.:15.3          3rd Qu.:0.00000         \n",
      "                  Max.   :17.4          Max.   :0.20000         \n"
     ]
    },
    {
     "data": {
      "image/png": "[encoded data removed]",
      "text/plain": [
       "plot without title"
      ]
     },
     "metadata": {
      "image/png": {
       "height": 420,
       "width": 420
      }
     },
     "output_type": "display_data"
    }
   ],
   "source": [
    "# collinearità\n",
    "library(ggcorrplot)\n",
    "cor.matrix <- cor(na.omit(dati.cov.interesse[,c(\"slope_degr\",\"n_species\",\"MDR\",\"IQR\",\"Esp.tr\",\"ott\")]))\n",
    "ggcorrplot(cor.matrix)\n",
    "p.mat <- (cor.matrix > 0.7)\n",
    "p.mat\n",
    "ggcorrplot(cor.matrix,\n",
    "           hc.order = TRUE, method = \"circle\",\n",
    "           type = \"lower\", p.mat = p.mat\n",
    ")\n",
    "\n",
    "siteCovs(blgr) <- dati.cov.interesse\n",
    "#\n",
    "# controllo\n",
    "summary(blgr)\n"
   ]
  },
  {
   "cell_type": "markdown",
   "metadata": {},
   "source": [
    "#### Indici di correlazione tra le variabili esplicative, ottenuti utilizzando l'indice di Pearson. Notare che non risultano variabili altamente correlate."
   ]
  },
  {
   "cell_type": "markdown",
   "metadata": {},
   "source": [
    "## Basic model: homogeneous detection and occupancy"
   ]
  },
  {
   "cell_type": "code",
   "execution_count": 21,
   "metadata": {},
   "outputs": [
    {
     "name": "stderr",
     "output_type": "stream",
     "text": [
      "Warning message:\n",
      "\"Some observations have been discarded because corresponding covariates were missing.\"\n",
      "Warning message:\n",
      "\"25 sites have been discarded because of missing data.\"\n",
      "Warning message in sqrt(diag(vcov(obj))):\n",
      "\"Si è prodotto un NaN\"\n"
     ]
    },
    {
     "data": {
      "text/plain": [
       "\n",
       "Call:\n",
       "occu(formula = ~orario_occasione + MDR + temperatura_occasione + \n",
       "    precipitazioni_occasione ~ slope_degr + I(slope_degr^2) + \n",
       "    MDR + I(MDR^2) + IQR + I(IQR^2) + ott + I(ott^2) + n_species + \n",
       "    I(n_species^2) + Esp.tr + I(Esp.tr^2) + specie_dominante, \n",
       "    data = blgr)\n",
       "\n",
       "Occupancy:\n",
       "                          Estimate       SE         z P(>|z|)\n",
       "(Intercept)              -0.001002      NaN       NaN     NaN\n",
       "slope_degr               -0.002158 0.423159 -5.10e-03 0.99593\n",
       "I(slope_degr^2)           0.002591      NaN       NaN     NaN\n",
       "MDR                       0.037968      NaN       NaN     NaN\n",
       "I(MDR^2)                  0.002156      NaN       NaN     NaN\n",
       "IQR                      -0.012473 0.095150 -1.31e-01 0.89571\n",
       "I(IQR^2)                 -0.001066      NaN       NaN     NaN\n",
       "ott                      -0.003001 2.495321 -1.20e-03 0.99904\n",
       "I(ott^2)                 -0.004170      NaN       NaN     NaN\n",
       "n_species                -0.011206      NaN       NaN     NaN\n",
       "I(n_species^2)           -0.020451      NaN       NaN     NaN\n",
       "Esp.tr                   -0.020858      NaN       NaN     NaN\n",
       "I(Esp.tr^2)               0.001666 0.000571  2.92e+00 0.00352\n",
       "specie_dominanteMuschio   0.000249      NaN       NaN     NaN\n",
       "specie_dominanteOther_sp  0.000109 3.652087  2.99e-05 0.99998\n",
       "\n",
       "Detection:\n",
       "                          Estimate    SE         z P(>|z|)\n",
       "(Intercept)              -2.55e-03 1.627 -1.57e-03 0.99875\n",
       "orario_occasioneT        -4.75e-03 0.482 -9.86e-03 0.99213\n",
       "MDR                      -3.50e-02 0.013 -2.70e+00 0.00701\n",
       "temperatura_occasione    -7.11e-02 0.107 -6.66e-01 0.50535\n",
       "precipitazioni_occasione  7.32e-05 5.055  1.45e-05 0.99999\n",
       "\n",
       "AIC: 275.2799 "
      ]
     },
     "metadata": {},
     "output_type": "display_data"
    }
   ],
   "source": [
    "## BASE MODEL\n",
    "#siteCovs(blgr)\n",
    "fm.base <- occu(~orario_occasione + MDR + temperatura_occasione + precipitazioni_occasione\n",
    "                ~slope_degr + I(slope_degr^2) +\n",
    "                  MDR + I(MDR^2) +\n",
    "                  IQR + I(IQR^2) +\n",
    "                  ott + I(ott^2) +\n",
    "                  n_species + I(n_species^2) +\n",
    "                  Esp.tr + I(Esp.tr^2) +\n",
    "                  specie_dominante,\n",
    "                blgr)\n",
    "fm.base"
   ]
  },
  {
   "cell_type": "code",
   "execution_count": 22,
   "metadata": {},
   "outputs": [
    {
     "name": "stdout",
     "output_type": "stream",
     "text": [
      " num [1:1425] 10.2 9.5 11.8 10.7 15.2 13.2 14.6 12.7 12.9 14.1 ...\n"
     ]
    },
    {
     "data": {
      "text/plain": [
       "   Min. 1st Qu.  Median    Mean 3rd Qu.    Max. \n",
       "    9.5    12.7    13.9    13.8    15.3    17.4 "
      ]
     },
     "metadata": {},
     "output_type": "display_data"
    },
    {
     "data": {
      "text/html": [
       "1425"
      ],
      "text/latex": [
       "1425"
      ],
      "text/markdown": [
       "1425"
      ],
      "text/plain": [
       "[1] 1425"
      ]
     },
     "metadata": {},
     "output_type": "display_data"
    },
    {
     "data": {
      "text/plain": [
       "NULL"
      ]
     },
     "metadata": {},
     "output_type": "display_data"
    },
    {
     "data": {
      "text/html": [
       "0"
      ],
      "text/latex": [
       "0"
      ],
      "text/markdown": [
       "0"
      ],
      "text/plain": [
       "[1] 0"
      ]
     },
     "metadata": {},
     "output_type": "display_data"
    }
   ],
   "source": [
    "#siteCovs(blgr)$orario_occasione\n",
    "tmp <- obsCovs(blgr)$temperatura_occasione\n",
    "str(tmp)\n",
    "summary(tmp)\n",
    "length(tmp)\n",
    "dim(tmp)\n",
    "sum(is.na(tmp))"
   ]
  },
  {
   "cell_type": "markdown",
   "metadata": {},
   "source": [
    "### Parte \"informatica\"\n",
    "#### Set up the cluster"
   ]
  },
  {
   "cell_type": "code",
   "execution_count": 23,
   "metadata": {},
   "outputs": [
    {
     "data": {
      "text/html": [
       "<ol>\n",
       "\t<li><style>\n",
       ".list-inline {list-style: none; margin:0; padding: 0}\n",
       ".list-inline>li {display: inline-block}\n",
       ".list-inline>li:not(:last-child)::after {content: \"\\00b7\"; padding: 0 .5ex}\n",
       "</style>\n",
       "<ol class=list-inline><li>'unmarked'</li><li>'lattice'</li><li>'stats'</li><li>'graphics'</li><li>'grDevices'</li><li>'utils'</li><li>'datasets'</li><li>'methods'</li><li>'base'</li></ol>\n",
       "</li>\n",
       "\t<li><style>\n",
       ".list-inline {list-style: none; margin:0; padding: 0}\n",
       ".list-inline>li {display: inline-block}\n",
       ".list-inline>li:not(:last-child)::after {content: \"\\00b7\"; padding: 0 .5ex}\n",
       "</style>\n",
       "<ol class=list-inline><li>'unmarked'</li><li>'lattice'</li><li>'stats'</li><li>'graphics'</li><li>'grDevices'</li><li>'utils'</li><li>'datasets'</li><li>'methods'</li><li>'base'</li></ol>\n",
       "</li>\n",
       "</ol>\n"
      ],
      "text/latex": [
       "\\begin{enumerate}\n",
       "\\item \\begin{enumerate*}\n",
       "\\item 'unmarked'\n",
       "\\item 'lattice'\n",
       "\\item 'stats'\n",
       "\\item 'graphics'\n",
       "\\item 'grDevices'\n",
       "\\item 'utils'\n",
       "\\item 'datasets'\n",
       "\\item 'methods'\n",
       "\\item 'base'\n",
       "\\end{enumerate*}\n",
       "\n",
       "\\item \\begin{enumerate*}\n",
       "\\item 'unmarked'\n",
       "\\item 'lattice'\n",
       "\\item 'stats'\n",
       "\\item 'graphics'\n",
       "\\item 'grDevices'\n",
       "\\item 'utils'\n",
       "\\item 'datasets'\n",
       "\\item 'methods'\n",
       "\\item 'base'\n",
       "\\end{enumerate*}\n",
       "\n",
       "\\end{enumerate}\n"
      ],
      "text/markdown": [
       "1. 1. 'unmarked'\n",
       "2. 'lattice'\n",
       "3. 'stats'\n",
       "4. 'graphics'\n",
       "5. 'grDevices'\n",
       "6. 'utils'\n",
       "7. 'datasets'\n",
       "8. 'methods'\n",
       "9. 'base'\n",
       "\n",
       "\n",
       "\n",
       "2. 1. 'unmarked'\n",
       "2. 'lattice'\n",
       "3. 'stats'\n",
       "4. 'graphics'\n",
       "5. 'grDevices'\n",
       "6. 'utils'\n",
       "7. 'datasets'\n",
       "8. 'methods'\n",
       "9. 'base'\n",
       "\n",
       "\n",
       "\n",
       "\n",
       "\n"
      ],
      "text/plain": [
       "[[1]]\n",
       "[1] \"unmarked\"  \"lattice\"   \"stats\"     \"graphics\"  \"grDevices\" \"utils\"    \n",
       "[7] \"datasets\"  \"methods\"   \"base\"     \n",
       "\n",
       "[[2]]\n",
       "[1] \"unmarked\"  \"lattice\"   \"stats\"     \"graphics\"  \"grDevices\" \"utils\"    \n",
       "[7] \"datasets\"  \"methods\"   \"base\"     \n"
      ]
     },
     "metadata": {},
     "output_type": "display_data"
    },
    {
     "data": {
      "text/html": [
       "<ol>\n",
       "\t<li><style>\n",
       ".list-inline {list-style: none; margin:0; padding: 0}\n",
       ".list-inline>li {display: inline-block}\n",
       ".list-inline>li:not(:last-child)::after {content: \"\\00b7\"; padding: 0 .5ex}\n",
       "</style>\n",
       "<ol class=list-inline><li>'MuMIn'</li><li>'unmarked'</li><li>'lattice'</li><li>'stats'</li><li>'graphics'</li><li>'grDevices'</li><li>'utils'</li><li>'datasets'</li><li>'methods'</li><li>'base'</li></ol>\n",
       "</li>\n",
       "\t<li><style>\n",
       ".list-inline {list-style: none; margin:0; padding: 0}\n",
       ".list-inline>li {display: inline-block}\n",
       ".list-inline>li:not(:last-child)::after {content: \"\\00b7\"; padding: 0 .5ex}\n",
       "</style>\n",
       "<ol class=list-inline><li>'MuMIn'</li><li>'unmarked'</li><li>'lattice'</li><li>'stats'</li><li>'graphics'</li><li>'grDevices'</li><li>'utils'</li><li>'datasets'</li><li>'methods'</li><li>'base'</li></ol>\n",
       "</li>\n",
       "</ol>\n"
      ],
      "text/latex": [
       "\\begin{enumerate}\n",
       "\\item \\begin{enumerate*}\n",
       "\\item 'MuMIn'\n",
       "\\item 'unmarked'\n",
       "\\item 'lattice'\n",
       "\\item 'stats'\n",
       "\\item 'graphics'\n",
       "\\item 'grDevices'\n",
       "\\item 'utils'\n",
       "\\item 'datasets'\n",
       "\\item 'methods'\n",
       "\\item 'base'\n",
       "\\end{enumerate*}\n",
       "\n",
       "\\item \\begin{enumerate*}\n",
       "\\item 'MuMIn'\n",
       "\\item 'unmarked'\n",
       "\\item 'lattice'\n",
       "\\item 'stats'\n",
       "\\item 'graphics'\n",
       "\\item 'grDevices'\n",
       "\\item 'utils'\n",
       "\\item 'datasets'\n",
       "\\item 'methods'\n",
       "\\item 'base'\n",
       "\\end{enumerate*}\n",
       "\n",
       "\\end{enumerate}\n"
      ],
      "text/markdown": [
       "1. 1. 'MuMIn'\n",
       "2. 'unmarked'\n",
       "3. 'lattice'\n",
       "4. 'stats'\n",
       "5. 'graphics'\n",
       "6. 'grDevices'\n",
       "7. 'utils'\n",
       "8. 'datasets'\n",
       "9. 'methods'\n",
       "10. 'base'\n",
       "\n",
       "\n",
       "\n",
       "2. 1. 'MuMIn'\n",
       "2. 'unmarked'\n",
       "3. 'lattice'\n",
       "4. 'stats'\n",
       "5. 'graphics'\n",
       "6. 'grDevices'\n",
       "7. 'utils'\n",
       "8. 'datasets'\n",
       "9. 'methods'\n",
       "10. 'base'\n",
       "\n",
       "\n",
       "\n",
       "\n",
       "\n"
      ],
      "text/plain": [
       "[[1]]\n",
       " [1] \"MuMIn\"     \"unmarked\"  \"lattice\"   \"stats\"     \"graphics\"  \"grDevices\"\n",
       " [7] \"utils\"     \"datasets\"  \"methods\"   \"base\"     \n",
       "\n",
       "[[2]]\n",
       " [1] \"MuMIn\"     \"unmarked\"  \"lattice\"   \"stats\"     \"graphics\"  \"grDevices\"\n",
       " [7] \"utils\"     \"datasets\"  \"methods\"   \"base\"     \n"
      ]
     },
     "metadata": {},
     "output_type": "display_data"
    },
    {
     "data": {
      "text/html": [
       "<style>\n",
       ".list-inline {list-style: none; margin:0; padding: 0}\n",
       ".list-inline>li {display: inline-block}\n",
       ".list-inline>li:not(:last-child)::after {content: \"\\00b7\"; padding: 0 .5ex}\n",
       "</style>\n",
       "<ol class=list-inline><li>'p(MDR)'</li><li>'p(orario_occasione)'</li><li>'p(precipitazioni_occasione)'</li><li>'p(temperatura_occasione)'</li><li>'psi(Esp.tr)'</li><li>'psi(I(Esp.tr^2))'</li><li>'psi(IQR)'</li><li>'psi(I(IQR^2))'</li><li>'psi(MDR)'</li><li>'psi(I(MDR^2))'</li><li>'psi(n_species)'</li><li>'psi(I(n_species^2))'</li><li>'psi(ott)'</li><li>'psi(I(ott^2))'</li><li>'psi(slope_degr)'</li><li>'psi(I(slope_degr^2))'</li><li>'psi(specie_dominante)'</li></ol>\n"
      ],
      "text/latex": [
       "\\begin{enumerate*}\n",
       "\\item 'p(MDR)'\n",
       "\\item 'p(orario\\_occasione)'\n",
       "\\item 'p(precipitazioni\\_occasione)'\n",
       "\\item 'p(temperatura\\_occasione)'\n",
       "\\item 'psi(Esp.tr)'\n",
       "\\item 'psi(I(Esp.tr\\textasciicircum{}2))'\n",
       "\\item 'psi(IQR)'\n",
       "\\item 'psi(I(IQR\\textasciicircum{}2))'\n",
       "\\item 'psi(MDR)'\n",
       "\\item 'psi(I(MDR\\textasciicircum{}2))'\n",
       "\\item 'psi(n\\_species)'\n",
       "\\item 'psi(I(n\\_species\\textasciicircum{}2))'\n",
       "\\item 'psi(ott)'\n",
       "\\item 'psi(I(ott\\textasciicircum{}2))'\n",
       "\\item 'psi(slope\\_degr)'\n",
       "\\item 'psi(I(slope\\_degr\\textasciicircum{}2))'\n",
       "\\item 'psi(specie\\_dominante)'\n",
       "\\end{enumerate*}\n"
      ],
      "text/markdown": [
       "1. 'p(MDR)'\n",
       "2. 'p(orario_occasione)'\n",
       "3. 'p(precipitazioni_occasione)'\n",
       "4. 'p(temperatura_occasione)'\n",
       "5. 'psi(Esp.tr)'\n",
       "6. 'psi(I(Esp.tr^2))'\n",
       "7. 'psi(IQR)'\n",
       "8. 'psi(I(IQR^2))'\n",
       "9. 'psi(MDR)'\n",
       "10. 'psi(I(MDR^2))'\n",
       "11. 'psi(n_species)'\n",
       "12. 'psi(I(n_species^2))'\n",
       "13. 'psi(ott)'\n",
       "14. 'psi(I(ott^2))'\n",
       "15. 'psi(slope_degr)'\n",
       "16. 'psi(I(slope_degr^2))'\n",
       "17. 'psi(specie_dominante)'\n",
       "\n",
       "\n"
      ],
      "text/plain": [
       " [1] \"p(MDR)\"                      \"p(orario_occasione)\"        \n",
       " [3] \"p(precipitazioni_occasione)\" \"p(temperatura_occasione)\"   \n",
       " [5] \"psi(Esp.tr)\"                 \"psi(I(Esp.tr^2))\"           \n",
       " [7] \"psi(IQR)\"                    \"psi(I(IQR^2))\"              \n",
       " [9] \"psi(MDR)\"                    \"psi(I(MDR^2))\"              \n",
       "[11] \"psi(n_species)\"              \"psi(I(n_species^2))\"        \n",
       "[13] \"psi(ott)\"                    \"psi(I(ott^2))\"              \n",
       "[15] \"psi(slope_degr)\"             \"psi(I(slope_degr^2))\"       \n",
       "[17] \"psi(specie_dominante)\"      \n",
       "attr(,\"intercept\")\n",
       "  p psi \n",
       "  1   1 \n",
       "attr(,\"interceptLabel\")\n",
       "[1] \"p(Int)\"   \"psi(Int)\"\n",
       "attr(,\"deps\")\n",
       "                            p(MDR) p(orario_occasione)\n",
       "p(MDR)                          NA               FALSE\n",
       "p(orario_occasione)          FALSE                  NA\n",
       "p(precipitazioni_occasione)  FALSE               FALSE\n",
       "p(temperatura_occasione)     FALSE               FALSE\n",
       "psi(Esp.tr)                  FALSE               FALSE\n",
       "psi(I(Esp.tr^2))             FALSE               FALSE\n",
       "psi(IQR)                     FALSE               FALSE\n",
       "psi(I(IQR^2))                FALSE               FALSE\n",
       "psi(MDR)                     FALSE               FALSE\n",
       "psi(I(MDR^2))                FALSE               FALSE\n",
       "psi(n_species)               FALSE               FALSE\n",
       "psi(I(n_species^2))          FALSE               FALSE\n",
       "psi(ott)                     FALSE               FALSE\n",
       "psi(I(ott^2))                FALSE               FALSE\n",
       "psi(slope_degr)              FALSE               FALSE\n",
       "psi(I(slope_degr^2))         FALSE               FALSE\n",
       "psi(specie_dominante)        FALSE               FALSE\n",
       "                            p(precipitazioni_occasione)\n",
       "p(MDR)                                            FALSE\n",
       "p(orario_occasione)                               FALSE\n",
       "p(precipitazioni_occasione)                          NA\n",
       "p(temperatura_occasione)                          FALSE\n",
       "psi(Esp.tr)                                       FALSE\n",
       "psi(I(Esp.tr^2))                                  FALSE\n",
       "psi(IQR)                                          FALSE\n",
       "psi(I(IQR^2))                                     FALSE\n",
       "psi(MDR)                                          FALSE\n",
       "psi(I(MDR^2))                                     FALSE\n",
       "psi(n_species)                                    FALSE\n",
       "psi(I(n_species^2))                               FALSE\n",
       "psi(ott)                                          FALSE\n",
       "psi(I(ott^2))                                     FALSE\n",
       "psi(slope_degr)                                   FALSE\n",
       "psi(I(slope_degr^2))                              FALSE\n",
       "psi(specie_dominante)                             FALSE\n",
       "                            p(temperatura_occasione) psi(Esp.tr)\n",
       "p(MDR)                                         FALSE       FALSE\n",
       "p(orario_occasione)                            FALSE       FALSE\n",
       "p(precipitazioni_occasione)                    FALSE       FALSE\n",
       "p(temperatura_occasione)                          NA       FALSE\n",
       "psi(Esp.tr)                                    FALSE          NA\n",
       "psi(I(Esp.tr^2))                               FALSE       FALSE\n",
       "psi(IQR)                                       FALSE       FALSE\n",
       "psi(I(IQR^2))                                  FALSE       FALSE\n",
       "psi(MDR)                                       FALSE       FALSE\n",
       "psi(I(MDR^2))                                  FALSE       FALSE\n",
       "psi(n_species)                                 FALSE       FALSE\n",
       "psi(I(n_species^2))                            FALSE       FALSE\n",
       "psi(ott)                                       FALSE       FALSE\n",
       "psi(I(ott^2))                                  FALSE       FALSE\n",
       "psi(slope_degr)                                FALSE       FALSE\n",
       "psi(I(slope_degr^2))                           FALSE       FALSE\n",
       "psi(specie_dominante)                          FALSE       FALSE\n",
       "                            psi(I(Esp.tr^2)) psi(IQR) psi(I(IQR^2)) psi(MDR)\n",
       "p(MDR)                                 FALSE    FALSE         FALSE    FALSE\n",
       "p(orario_occasione)                    FALSE    FALSE         FALSE    FALSE\n",
       "p(precipitazioni_occasione)            FALSE    FALSE         FALSE    FALSE\n",
       "p(temperatura_occasione)               FALSE    FALSE         FALSE    FALSE\n",
       "psi(Esp.tr)                            FALSE    FALSE         FALSE    FALSE\n",
       "psi(I(Esp.tr^2))                          NA    FALSE         FALSE    FALSE\n",
       "psi(IQR)                               FALSE       NA         FALSE    FALSE\n",
       "psi(I(IQR^2))                          FALSE    FALSE            NA    FALSE\n",
       "psi(MDR)                               FALSE    FALSE         FALSE       NA\n",
       "psi(I(MDR^2))                          FALSE    FALSE         FALSE    FALSE\n",
       "psi(n_species)                         FALSE    FALSE         FALSE    FALSE\n",
       "psi(I(n_species^2))                    FALSE    FALSE         FALSE    FALSE\n",
       "psi(ott)                               FALSE    FALSE         FALSE    FALSE\n",
       "psi(I(ott^2))                          FALSE    FALSE         FALSE    FALSE\n",
       "psi(slope_degr)                        FALSE    FALSE         FALSE    FALSE\n",
       "psi(I(slope_degr^2))                   FALSE    FALSE         FALSE    FALSE\n",
       "psi(specie_dominante)                  FALSE    FALSE         FALSE    FALSE\n",
       "                            psi(I(MDR^2)) psi(n_species) psi(I(n_species^2))\n",
       "p(MDR)                              FALSE          FALSE               FALSE\n",
       "p(orario_occasione)                 FALSE          FALSE               FALSE\n",
       "p(precipitazioni_occasione)         FALSE          FALSE               FALSE\n",
       "p(temperatura_occasione)            FALSE          FALSE               FALSE\n",
       "psi(Esp.tr)                         FALSE          FALSE               FALSE\n",
       "psi(I(Esp.tr^2))                    FALSE          FALSE               FALSE\n",
       "psi(IQR)                            FALSE          FALSE               FALSE\n",
       "psi(I(IQR^2))                       FALSE          FALSE               FALSE\n",
       "psi(MDR)                            FALSE          FALSE               FALSE\n",
       "psi(I(MDR^2))                          NA          FALSE               FALSE\n",
       "psi(n_species)                      FALSE             NA               FALSE\n",
       "psi(I(n_species^2))                 FALSE          FALSE                  NA\n",
       "psi(ott)                            FALSE          FALSE               FALSE\n",
       "psi(I(ott^2))                       FALSE          FALSE               FALSE\n",
       "psi(slope_degr)                     FALSE          FALSE               FALSE\n",
       "psi(I(slope_degr^2))                FALSE          FALSE               FALSE\n",
       "psi(specie_dominante)               FALSE          FALSE               FALSE\n",
       "                            psi(ott) psi(I(ott^2)) psi(slope_degr)\n",
       "p(MDR)                         FALSE         FALSE           FALSE\n",
       "p(orario_occasione)            FALSE         FALSE           FALSE\n",
       "p(precipitazioni_occasione)    FALSE         FALSE           FALSE\n",
       "p(temperatura_occasione)       FALSE         FALSE           FALSE\n",
       "psi(Esp.tr)                    FALSE         FALSE           FALSE\n",
       "psi(I(Esp.tr^2))               FALSE         FALSE           FALSE\n",
       "psi(IQR)                       FALSE         FALSE           FALSE\n",
       "psi(I(IQR^2))                  FALSE         FALSE           FALSE\n",
       "psi(MDR)                       FALSE         FALSE           FALSE\n",
       "psi(I(MDR^2))                  FALSE         FALSE           FALSE\n",
       "psi(n_species)                 FALSE         FALSE           FALSE\n",
       "psi(I(n_species^2))            FALSE         FALSE           FALSE\n",
       "psi(ott)                          NA         FALSE           FALSE\n",
       "psi(I(ott^2))                  FALSE            NA           FALSE\n",
       "psi(slope_degr)                FALSE         FALSE              NA\n",
       "psi(I(slope_degr^2))           FALSE         FALSE           FALSE\n",
       "psi(specie_dominante)          FALSE         FALSE           FALSE\n",
       "                            psi(I(slope_degr^2)) psi(specie_dominante)\n",
       "p(MDR)                                     FALSE                 FALSE\n",
       "p(orario_occasione)                        FALSE                 FALSE\n",
       "p(precipitazioni_occasione)                FALSE                 FALSE\n",
       "p(temperatura_occasione)                   FALSE                 FALSE\n",
       "psi(Esp.tr)                                FALSE                 FALSE\n",
       "psi(I(Esp.tr^2))                           FALSE                 FALSE\n",
       "psi(IQR)                                   FALSE                 FALSE\n",
       "psi(I(IQR^2))                              FALSE                 FALSE\n",
       "psi(MDR)                                   FALSE                 FALSE\n",
       "psi(I(MDR^2))                              FALSE                 FALSE\n",
       "psi(n_species)                             FALSE                 FALSE\n",
       "psi(I(n_species^2))                        FALSE                 FALSE\n",
       "psi(ott)                                   FALSE                 FALSE\n",
       "psi(I(ott^2))                              FALSE                 FALSE\n",
       "psi(slope_degr)                            FALSE                 FALSE\n",
       "psi(I(slope_degr^2))                          NA                 FALSE\n",
       "psi(specie_dominante)                      FALSE                    NA"
      ]
     },
     "metadata": {},
     "output_type": "display_data"
    }
   ],
   "source": [
    "clusterType <- if(length(find.package(\"snow\", quiet = TRUE))) \"SOCK\" else \"PSOCK\"\n",
    "clust <- try(makeCluster(getOption(\"cl.cores\", 2), type = clusterType))\n",
    "clusterEvalQ(clust, library(unmarked))\n",
    "clusterEvalQ(clust,library(MuMIn))\n",
    "clusterExport(clust, \"blgr\")\n",
    "invisible(clusterCall(clust, \"library\", \"stats4\", character.only = TRUE))\n",
    "library(MuMIn)\n",
    "getAllTerms(fm.base)"
   ]
  },
  {
   "cell_type": "code",
   "execution_count": 29,
   "metadata": {},
   "outputs": [
    {
     "name": "stderr",
     "output_type": "stream",
     "text": [
      "Fixed terms are \"p(Int)\" and \"psi(Int)\"\n",
      "\n"
     ]
    },
    {
     "name": "stdout",
     "output_type": "stream",
     "text": [
      "  |                                                                      |   0%"
     ]
    },
    {
     "ename": "ERROR",
     "evalue": "Error in checkForRemoteErrors(val): 2 nodes produced errors; first error: Lapack routine dgesv: system is exactly singular: U[1,1] = 0\n",
     "output_type": "error",
     "traceback": [
      "Error in checkForRemoteErrors(val): 2 nodes produced errors; first error: Lapack routine dgesv: system is exactly singular: U[1,1] = 0\nTraceback:\n",
      "1. pdredge(fm.base, clust, subset = (`psi(slope_degr)` | !`psi(I(slope_degr^2))`) && \n .     (`psi(MDR)` | !`psi(I(MDR^2))`) && (`psi(IQR)` | !`psi(I(IQR^2))`) && \n .     (`psi(n_species)` | !`psi(I(n_species^2))`) && (`psi(Esp.tr)` | \n .     !`psi(I(Esp.tr^2))`), trace = 2, m.lim = c(1, NA))",
      "2. .getRow(queued[qseq])",
      "3. clusterApply(cluster, X, fun = \".pdredge_process_model\")",
      "4. staticClusterApply(cl, fun, length(x), argfun)",
      "5. checkForRemoteErrors(val)",
      "6. stop(count, \" nodes produced errors; first error: \", firstmsg, \n .     domain = NA)"
     ]
    },
    {
     "name": "stdout",
     "output_type": "stream",
     "text": [
      "\n"
     ]
    }
   ],
   "source": [
    "## qui avvia la procedura di selezione automatica, con dredge (come per modelli di regressione \"normali\")\n",
    "## mettendo i vincoli sulla presenza del termine al quadrato e escludendo le variabili troppo correlate \n",
    "pdd2 <- pdredge(fm.base, clust,\n",
    "                subset = (`psi(slope_degr)` | !`psi(I(slope_degr^2))`) &&\n",
    "                 (`psi(MDR)` | !`psi(I(MDR^2))`) &&\n",
    "                 (`psi(IQR)` | !`psi(I(IQR^2))`) &&\n",
    "                 #(`psi(ott)' | !'psi(I(ott^2))`) &&\n",
    "                 (`psi(n_species)` | !`psi(I(n_species^2))`) &&\n",
    "                 (`psi(Esp.tr)` | !`psi(I(Esp.tr^2))`),\n",
    "                 #`psi(specie_dominante)`,\n",
    "                 #('p(MDR)' | ! 'p(orario_occasione)')&&\n",
    "                 #('p(precipitazioni_occasione)'| ! 'p(temperatura_occasione)'),\n",
    "                \n",
    "                trace = 2, m.lim = c(1,NA))\n",
    "#pdd2\n",
    "save(pdd2, file=\"Dati-elaborati/pdd2_sessione1.RData\", compress=FALSE)\n",
    "load(\"Dati-elaborati/pdd2_sessione1.RData\")"
   ]
  },
  {
   "cell_type": "code",
   "execution_count": 49,
   "metadata": {},
   "outputs": [
    {
     "ename": "ERROR",
     "evalue": "Error in plot(pdd2, labAsExpr = TRUE): oggetto \"pdd2\" non trovato\n",
     "output_type": "error",
     "traceback": [
      "Error in plot(pdd2, labAsExpr = TRUE): oggetto \"pdd2\" non trovato\nTraceback:\n",
      "1. plot(pdd2, labAsExpr = TRUE)"
     ]
    }
   ],
   "source": [
    "## risultati\n",
    "## PLOTTATO I RISULTATI DELLA SELEZIONE AUTOMATICA\n",
    "## grafico da riportare nei risultati\n",
    "par(mfrow = c(1,1))\n",
    "op <- par(mar = c(3,5,6,4), mfrow=c(1,1))\n",
    "plot(pdd2, labAsExpr = TRUE)\n",
    "par(op)\n",
    "\n",
    "\n",
    "## VEDIAMO I RISULTATI DEL MODELLO MIGLIORE\n",
    "summary(get.models(pdd2, 1)[[1]])\n",
    "# riportare la tabella dei coefficienti\n",
    "## PASSAGGIO DI MODEL AVERAGING: CONSIDERIAMO CONTEMPORANEAMENTE I MODELLI MIGLIORI CHE DIFFERISCONO TRA LORO\n",
    "## DI POCO IN TERMINI DI AIC (deltaAIC < 2)\n",
    "summary(model.avg(pdd2, subset = delta < 2))\n",
    "\n",
    "# # So we get estimates and an AIC value, but the estimates are on the logit scale.  \n",
    "# # The built-in function backTransform() will provide the real scale estimates of detection ('det') \n",
    "# # and occupancy ('state')\n",
    "# # back transformations\n",
    "# best.mod1 <- occu(~alba\n",
    "#                   ~ poly(Incl, degree=2, raw=TRUE) +\n",
    "#                     poly(NSpecie, degree=2, raw=TRUE) +\n",
    "#                     # NSpecie + I(NSpecie^2) +\n",
    "#                     mediana.rocce +\n",
    "#                     Esp.tr, # + I(Esp.tr^2),\n",
    "#                  blgr)\n",
    "# backTransform(best.mod,'det') \n",
    "# backTransform(best.mod, 'state')\n",
    "\n",
    "## questa parte stima il numero di siti occupati ma non ci serve\n",
    "# Finally, unmarked provide an Emprical Bayes estimate and confidence interval of the number/ proportion of study sites occupied.  This method essentially uses the estimate of psi to generate a vector of 0,1 binary variables z under the premise that z~Bernoulli(psi); the sum of the mode, lower, and upper quantiles from this simulation then provides an empirical CI on then number / proportion of occupied sites.  To generate this for the first model estimates we use\n",
    "#empirical Bayes estimate of proportion of sites occupied\n",
    "s<-nrow(y)\n",
    "re <- ranef(get.models(pdd2, 1)[[1]])\n",
    "EBUP <- bup(re, stat=\"mode\")\n",
    "CI <- confint(re, level=0.95)\n",
    "print(\"95 % EB interval on number sites occupied\")\n",
    "rbind(s_occup = c(Estimate = sum(EBUP), colSums(CI)) )\n",
    "print(\"95 % EB interval on proportion of sites occupied\")\n",
    "rbind(PAO = c(Estimate = sum(EBUP), colSums(CI))/s )\n",
    "# If you compare this statistic to the back-tranformed estimate of psi you'll notice it is somewhat lower.  \n",
    "# Conceptually this represents the proportion of the finite sample (41 in this case) of sites occupied, \n",
    "# whereas psi estimates the probability of occupancy from an infinite list of sites.\n"
   ]
  },
  {
   "cell_type": "code",
   "execution_count": 33,
   "metadata": {},
   "outputs": [
    {
     "data": {
      "text/html": [
       "<table>\n",
       "<caption>A data.frame: 6 × 7</caption>\n",
       "<thead>\n",
       "\t<tr><th></th><th scope=col>Predicted</th><th scope=col>SE</th><th scope=col>lower</th><th scope=col>upper</th><th scope=col>MDR</th><th scope=col>Esp.tr</th><th scope=col>specie_dominante</th></tr>\n",
       "\t<tr><th></th><th scope=col>&lt;dbl&gt;</th><th scope=col>&lt;dbl&gt;</th><th scope=col>&lt;dbl&gt;</th><th scope=col>&lt;dbl&gt;</th><th scope=col>&lt;dbl&gt;</th><th scope=col>&lt;dbl&gt;</th><th scope=col>&lt;fct&gt;</th></tr>\n",
       "</thead>\n",
       "<tbody>\n",
       "\t<tr><th scope=row>1</th><td>0.9999924</td><td>3.538656e-05</td><td>0.9321233</td><td>1</td><td>73.26667</td><td>-126.0000</td><td>Graminacee</td></tr>\n",
       "\t<tr><th scope=row>2</th><td>0.9999910</td><td>4.157629e-05</td><td>0.9290742</td><td>1</td><td>73.26667</td><td>-124.1010</td><td>Graminacee</td></tr>\n",
       "\t<tr><th scope=row>3</th><td>0.9999893</td><td>4.883975e-05</td><td>0.9258885</td><td>1</td><td>73.26667</td><td>-122.2020</td><td>Graminacee</td></tr>\n",
       "\t<tr><th scope=row>4</th><td>0.9999872</td><td>5.736134e-05</td><td>0.9225602</td><td>1</td><td>73.26667</td><td>-120.3030</td><td>Graminacee</td></tr>\n",
       "\t<tr><th scope=row>5</th><td>0.9999848</td><td>6.735680e-05</td><td>0.9190831</td><td>1</td><td>73.26667</td><td>-118.4040</td><td>Graminacee</td></tr>\n",
       "\t<tr><th scope=row>6</th><td>0.9999818</td><td>7.907841e-05</td><td>0.9154507</td><td>1</td><td>73.26667</td><td>-116.5051</td><td>Graminacee</td></tr>\n",
       "</tbody>\n",
       "</table>\n"
      ],
      "text/latex": [
       "A data.frame: 6 × 7\n",
       "\\begin{tabular}{r|lllllll}\n",
       "  & Predicted & SE & lower & upper & MDR & Esp.tr & specie\\_dominante\\\\\n",
       "  & <dbl> & <dbl> & <dbl> & <dbl> & <dbl> & <dbl> & <fct>\\\\\n",
       "\\hline\n",
       "\t1 & 0.9999924 & 3.538656e-05 & 0.9321233 & 1 & 73.26667 & -126.0000 & Graminacee\\\\\n",
       "\t2 & 0.9999910 & 4.157629e-05 & 0.9290742 & 1 & 73.26667 & -124.1010 & Graminacee\\\\\n",
       "\t3 & 0.9999893 & 4.883975e-05 & 0.9258885 & 1 & 73.26667 & -122.2020 & Graminacee\\\\\n",
       "\t4 & 0.9999872 & 5.736134e-05 & 0.9225602 & 1 & 73.26667 & -120.3030 & Graminacee\\\\\n",
       "\t5 & 0.9999848 & 6.735680e-05 & 0.9190831 & 1 & 73.26667 & -118.4040 & Graminacee\\\\\n",
       "\t6 & 0.9999818 & 7.907841e-05 & 0.9154507 & 1 & 73.26667 & -116.5051 & Graminacee\\\\\n",
       "\\end{tabular}\n"
      ],
      "text/markdown": [
       "\n",
       "A data.frame: 6 × 7\n",
       "\n",
       "| <!--/--> | Predicted &lt;dbl&gt; | SE &lt;dbl&gt; | lower &lt;dbl&gt; | upper &lt;dbl&gt; | MDR &lt;dbl&gt; | Esp.tr &lt;dbl&gt; | specie_dominante &lt;fct&gt; |\n",
       "|---|---|---|---|---|---|---|---|\n",
       "| 1 | 0.9999924 | 3.538656e-05 | 0.9321233 | 1 | 73.26667 | -126.0000 | Graminacee |\n",
       "| 2 | 0.9999910 | 4.157629e-05 | 0.9290742 | 1 | 73.26667 | -124.1010 | Graminacee |\n",
       "| 3 | 0.9999893 | 4.883975e-05 | 0.9258885 | 1 | 73.26667 | -122.2020 | Graminacee |\n",
       "| 4 | 0.9999872 | 5.736134e-05 | 0.9225602 | 1 | 73.26667 | -120.3030 | Graminacee |\n",
       "| 5 | 0.9999848 | 6.735680e-05 | 0.9190831 | 1 | 73.26667 | -118.4040 | Graminacee |\n",
       "| 6 | 0.9999818 | 7.907841e-05 | 0.9154507 | 1 | 73.26667 | -116.5051 | Graminacee |\n",
       "\n"
      ],
      "text/plain": [
       "  Predicted SE           lower     upper MDR      Esp.tr    specie_dominante\n",
       "1 0.9999924 3.538656e-05 0.9321233 1     73.26667 -126.0000 Graminacee      \n",
       "2 0.9999910 4.157629e-05 0.9290742 1     73.26667 -124.1010 Graminacee      \n",
       "3 0.9999893 4.883975e-05 0.9258885 1     73.26667 -122.2020 Graminacee      \n",
       "4 0.9999872 5.736134e-05 0.9225602 1     73.26667 -120.3030 Graminacee      \n",
       "5 0.9999848 6.735680e-05 0.9190831 1     73.26667 -118.4040 Graminacee      \n",
       "6 0.9999818 7.907841e-05 0.9154507 1     73.26667 -116.5051 Graminacee      "
      ]
     },
     "metadata": {},
     "output_type": "display_data"
    }
   ],
   "source": [
    "best.mod <- occu(~ MDR + temperatura_occasione\n",
    "                 ~ MDR +\n",
    "                   Esp.tr +\n",
    "                   specie_dominante,\n",
    "                 blgr)\n",
    "# ?unmarkedFitOccu-class\n",
    "# Predict abundance at specified covariate values.\n",
    "newdat1 <- data.frame(MDR = mean(dati.cov.interesse$MDR),\n",
    "                     Esp.tr = seq(min(dati.cov.interesse$Esp.tr), max(dati.cov.interesse$Esp.tr), length=100),\n",
    "                     specie_dominante = \"Graminacee\")\n",
    "newdat2 <- data.frame(MDR = mean(dati.cov.interesse$MDR),\n",
    "                      Esp.tr = seq(min(dati.cov.interesse$Esp.tr), max(dati.cov.interesse$Esp.tr), length=100),\n",
    "                      specie_dominante = \"Muschio\")\n",
    "newdat3 <- data.frame(MDR = mean(dati.cov.interesse$MDR),\n",
    "                      Esp.tr = seq(min(dati.cov.interesse$Esp.tr), max(dati.cov.interesse$Esp.tr), length=100),\n",
    "                      specie_dominante = \"Other_sp\")\n",
    "newdat <- rbind(newdat1,newdat2,newdat3)\n",
    "Elambda <- predict(best.mod, type='state', newdata=newdat,\n",
    "                   appendData=TRUE)\n",
    "head(Elambda)\n",
    "Elambda.logit <- Elambda\n",
    "\n"
   ]
  },
  {
   "cell_type": "code",
   "execution_count": 34,
   "metadata": {},
   "outputs": [
    {
     "data": {
      "image/png": "[encoded data removed]",
      "text/plain": [
       "plot without title"
      ]
     },
     "metadata": {
      "image/png": {
       "height": 420,
       "width": 420
      }
     },
     "output_type": "display_data"
    }
   ],
   "source": [
    "# Elambda.logit$Predicted <- log(Elambda.logit$Predicted/(1-Elambda.logit$Predicted))\n",
    "# Elambda.logit$SE <- log(Elambda.logit$SE/(1-Elambda.logit$SE))\n",
    "# Elambda.logit$lower <- log(Elambda.logit$lower/(1-Elambda.logit$lower))\n",
    "# Elambda.logit$upper <- log(Elambda.logit$upper/(1-Elambda.logit$upper))\n",
    "# with(Elambda, log(Predicted)-log(1-Predicted))\n",
    "par(mfrow=c(1, 2))\n",
    "# with(Elambda, {\n",
    "#   plot(Esp.tr, log(Predicted)-log(1-Predicted), xlab=\"Esposizione\", type=\"l\", # names = habitat,\n",
    "#                ylab=\"Occupancy\", #ylim=c(-20, 40), # cex.names=0.7,\n",
    "#                cex.lab=0.7, cex.axis=0.7, lwd=2, col=\"red\")\n",
    "#   lines(Esp.tr, log(Predicted)-log(1-Predicted)+log(SE/1-SE), lty=3, col=\"grey\")\n",
    "#   lines(Esp.tr, log(Predicted)-log(1-Predicted)-log(SE/1-SE), lty=2, col=\"grey\")\n",
    "# })\n",
    "with(subset(Elambda.logit,specie_dominante==\"Graminacee\"), {\n",
    "  plot(Esp.tr, Predicted, xlab=\"Esposizione\", type=\"l\", # names = habitat,\n",
    "       ylab=\"Probabilità di presenza\", #ylim=c(-20, 40), # cex.names=0.7,\n",
    "       cex.lab=0.7, cex.axis=0.7, lwd=2, col=\"red\")\n",
    "  # lines(Esp.tr, Predicted+SE, lty=3, col=\"dark grey\")\n",
    "  # lines(Esp.tr, Predicted-SE, lty=3, col=\"dark grey\")\n",
    "  lines(Esp.tr, upper, lty=2, col=\"grey\")\n",
    "  lines(Esp.tr, lower, lty=2, col=\"grey\")\n",
    "})\n"
   ]
  },
  {
   "cell_type": "code",
   "execution_count": 35,
   "metadata": {},
   "outputs": [
    {
     "data": {
      "text/html": [
       "<table>\n",
       "<caption>A data.frame: 6 × 7</caption>\n",
       "<thead>\n",
       "\t<tr><th></th><th scope=col>Predicted</th><th scope=col>SE</th><th scope=col>lower</th><th scope=col>upper</th><th scope=col>MDR</th><th scope=col>Esp.tr</th><th scope=col>specie_dominante</th></tr>\n",
       "\t<tr><th></th><th scope=col>&lt;dbl&gt;</th><th scope=col>&lt;dbl&gt;</th><th scope=col>&lt;dbl&gt;</th><th scope=col>&lt;dbl&gt;</th><th scope=col>&lt;dbl&gt;</th><th scope=col>&lt;dbl&gt;</th><th scope=col>&lt;fct&gt;</th></tr>\n",
       "</thead>\n",
       "<tbody>\n",
       "\t<tr><th scope=row>1</th><td>1.111529e-05</td><td>5.161369e-05</td><td>1.239762e-09</td><td>0.09062648</td><td>28.00000</td><td>-19.49333</td><td>Graminacee</td></tr>\n",
       "\t<tr><th scope=row>2</th><td>1.924539e-05</td><td>8.510433e-05</td><td>3.312810e-09</td><td>0.10056430</td><td>29.85859</td><td>-19.49333</td><td>Graminacee</td></tr>\n",
       "\t<tr><th scope=row>3</th><td>3.332195e-05</td><td>1.399946e-04</td><td>8.840888e-09</td><td>0.11158588</td><td>31.71717</td><td>-19.49333</td><td>Graminacee</td></tr>\n",
       "\t<tr><th scope=row>4</th><td>5.769384e-05</td><td>2.296916e-04</td><td>2.355825e-08</td><td>0.12381212</td><td>33.57576</td><td>-19.49333</td><td>Graminacee</td></tr>\n",
       "\t<tr><th scope=row>5</th><td>9.988972e-05</td><td>3.757852e-04</td><td>6.266482e-08</td><td>0.13738015</td><td>35.43434</td><td>-19.49333</td><td>Graminacee</td></tr>\n",
       "\t<tr><th scope=row>6</th><td>1.729413e-04</td><td>6.128629e-04</td><td>1.663397e-07</td><td>0.15244693</td><td>37.29293</td><td>-19.49333</td><td>Graminacee</td></tr>\n",
       "</tbody>\n",
       "</table>\n"
      ],
      "text/latex": [
       "A data.frame: 6 × 7\n",
       "\\begin{tabular}{r|lllllll}\n",
       "  & Predicted & SE & lower & upper & MDR & Esp.tr & specie\\_dominante\\\\\n",
       "  & <dbl> & <dbl> & <dbl> & <dbl> & <dbl> & <dbl> & <fct>\\\\\n",
       "\\hline\n",
       "\t1 & 1.111529e-05 & 5.161369e-05 & 1.239762e-09 & 0.09062648 & 28.00000 & -19.49333 & Graminacee\\\\\n",
       "\t2 & 1.924539e-05 & 8.510433e-05 & 3.312810e-09 & 0.10056430 & 29.85859 & -19.49333 & Graminacee\\\\\n",
       "\t3 & 3.332195e-05 & 1.399946e-04 & 8.840888e-09 & 0.11158588 & 31.71717 & -19.49333 & Graminacee\\\\\n",
       "\t4 & 5.769384e-05 & 2.296916e-04 & 2.355825e-08 & 0.12381212 & 33.57576 & -19.49333 & Graminacee\\\\\n",
       "\t5 & 9.988972e-05 & 3.757852e-04 & 6.266482e-08 & 0.13738015 & 35.43434 & -19.49333 & Graminacee\\\\\n",
       "\t6 & 1.729413e-04 & 6.128629e-04 & 1.663397e-07 & 0.15244693 & 37.29293 & -19.49333 & Graminacee\\\\\n",
       "\\end{tabular}\n"
      ],
      "text/markdown": [
       "\n",
       "A data.frame: 6 × 7\n",
       "\n",
       "| <!--/--> | Predicted &lt;dbl&gt; | SE &lt;dbl&gt; | lower &lt;dbl&gt; | upper &lt;dbl&gt; | MDR &lt;dbl&gt; | Esp.tr &lt;dbl&gt; | specie_dominante &lt;fct&gt; |\n",
       "|---|---|---|---|---|---|---|---|\n",
       "| 1 | 1.111529e-05 | 5.161369e-05 | 1.239762e-09 | 0.09062648 | 28.00000 | -19.49333 | Graminacee |\n",
       "| 2 | 1.924539e-05 | 8.510433e-05 | 3.312810e-09 | 0.10056430 | 29.85859 | -19.49333 | Graminacee |\n",
       "| 3 | 3.332195e-05 | 1.399946e-04 | 8.840888e-09 | 0.11158588 | 31.71717 | -19.49333 | Graminacee |\n",
       "| 4 | 5.769384e-05 | 2.296916e-04 | 2.355825e-08 | 0.12381212 | 33.57576 | -19.49333 | Graminacee |\n",
       "| 5 | 9.988972e-05 | 3.757852e-04 | 6.266482e-08 | 0.13738015 | 35.43434 | -19.49333 | Graminacee |\n",
       "| 6 | 1.729413e-04 | 6.128629e-04 | 1.663397e-07 | 0.15244693 | 37.29293 | -19.49333 | Graminacee |\n",
       "\n"
      ],
      "text/plain": [
       "  Predicted    SE           lower        upper      MDR      Esp.tr   \n",
       "1 1.111529e-05 5.161369e-05 1.239762e-09 0.09062648 28.00000 -19.49333\n",
       "2 1.924539e-05 8.510433e-05 3.312810e-09 0.10056430 29.85859 -19.49333\n",
       "3 3.332195e-05 1.399946e-04 8.840888e-09 0.11158588 31.71717 -19.49333\n",
       "4 5.769384e-05 2.296916e-04 2.355825e-08 0.12381212 33.57576 -19.49333\n",
       "5 9.988972e-05 3.757852e-04 6.266482e-08 0.13738015 35.43434 -19.49333\n",
       "6 1.729413e-04 6.128629e-04 1.663397e-07 0.15244693 37.29293 -19.49333\n",
       "  specie_dominante\n",
       "1 Graminacee      \n",
       "2 Graminacee      \n",
       "3 Graminacee      \n",
       "4 Graminacee      \n",
       "5 Graminacee      \n",
       "6 Graminacee      "
      ]
     },
     "metadata": {},
     "output_type": "display_data"
    },
    {
     "data": {
      "image/png": "[encoded data removed]",
      "text/plain": [
       "plot without title"
      ]
     },
     "metadata": {
      "image/png": {
       "height": 420,
       "width": 420
      }
     },
     "output_type": "display_data"
    }
   ],
   "source": [
    "# with(subset(Elambda.logit,dominante==\"Graminacee\"), {\n",
    "#   plot(Esp.tr, Predicted, xlab=\"Esposizione\", type=\"l\", # names = habitat,\n",
    "#        ylab=\"Probabilità di presenza\", #ylim=c(-20, 40), # cex.names=0.7,\n",
    "#        cex.lab=0.7, cex.axis=0.7, lwd=2, col=\"red\")\n",
    "#   lines(Esp.tr, Predicted+SE, lty=3, col=\"dark grey\")\n",
    "#   lines(Esp.tr, Predicted-SE, lty=3, col=\"dark grey\")\n",
    "#   # lines(Esp.tr, upper, lty=2, col=\"grey\")\n",
    "#   # lines(Esp.tr, lower, lty=2, col=\"grey\")\n",
    "# })\n",
    "# Predict abundance at specified covariate values.\n",
    "newdat1 <- data.frame(MDR = seq(min(dati.cov.interesse$MDR), max(dati.cov.interesse$MDR), length=100),\n",
    "                      Esp.tr = mean(dati.cov.interesse$Esp.tr),\n",
    "                      specie_dominante = \"Graminacee\")\n",
    "newdat2 <- data.frame(MDR = seq(min(dati.cov.interesse$MDR), max(dati.cov.interesse$MDR), length=100),\n",
    "                      Esp.tr = mean(dati.cov.interesse$Esp.tr),\n",
    "                      specie_dominante = \"Muschio\")\n",
    "newdat3 <- data.frame(MDR = seq(min(dati.cov.interesse$MDR), max(dati.cov.interesse$MDR), length=100),\n",
    "                      Esp.tr = mean(dati.cov.interesse$Esp.tr),\n",
    "                      specie_dominante = \"Other_sp\")\n",
    "newdat <- rbind(newdat1,newdat2,newdat3)\n",
    "Elambda <- predict(best.mod, type='state', newdata=newdat,\n",
    "                   appendData=TRUE)\n",
    "head(Elambda)\n",
    "Elambda.logit <- Elambda\n",
    "with(subset(Elambda.logit,specie_dominante==\"Graminacee\"), {\n",
    "  plot(MDR, Predicted, xlab=\"MDR\", type=\"l\", # names = habitat,\n",
    "       ylab=\"Probabilità di presenza\", #ylim=c(-20, 40), # cex.names=0.7,\n",
    "       cex.lab=0.7, cex.axis=0.7, lwd=2, col=\"red\")\n",
    "  # lines(MDR, Predicted+SE, lty=3, col=\"dark grey\")\n",
    "  # lines(MDR, Predicted-SE, lty=3, col=\"dark grey\")\n",
    "  lines(MDR, upper, lty=2, col=\"grey\")\n",
    "  lines(MDR, lower, lty=2, col=\"grey\")\n",
    "})\n",
    "\n"
   ]
  },
  {
   "cell_type": "code",
   "execution_count": 42,
   "metadata": {},
   "outputs": [
    {
     "data": {
      "image/png": "[encoded data removed]",
      "text/plain": [
       "plot without title"
      ]
     },
     "metadata": {
      "image/png": {
       "height": 420,
       "width": 420
      }
     },
     "output_type": "display_data"
    }
   ],
   "source": [
    "newdat1 <- data.frame(MDR = seq(min(dati.cov.interesse$MDR), max(dati.cov.interesse$MDR), length=100),\n",
    "                      temperatura_occasione = mean(temperatura_occasione, na.rm=TRUE))\n",
    "Elambda.det <- predict(best.mod, type='det', newdata=newdat1,\n",
    "                   appendData=TRUE)\n",
    "with(Elambda.det, {\n",
    "  plot(MDR, Predicted, xlab=\"MDR\", type=\"l\", # names = habitat,\n",
    "       ylab=\"Probabilità di cattura\", #ylim=c(-20, 40), # cex.names=0.7,\n",
    "       cex.lab=0.7, cex.axis=0.7, lwd=2, col=\"red\")\n",
    "  # lines(MDR, Predicted+SE, lty=3, col=\"dark grey\")\n",
    "  # lines(MDR, Predicted-SE, lty=3, col=\"dark grey\")\n",
    "  lines(MDR, upper, lty=2, col=\"grey\")\n",
    "  lines(MDR, lower, lty=2, col=\"grey\")\n",
    "})"
   ]
  },
  {
   "cell_type": "code",
   "execution_count": 50,
   "metadata": {},
   "outputs": [
    {
     "data": {
      "image/png": "[encoded data removed]",
      "text/plain": [
       "plot without title"
      ]
     },
     "metadata": {
      "image/png": {
       "height": 420,
       "width": 420
      }
     },
     "output_type": "display_data"
    }
   ],
   "source": [
    "newdat1 <- data.frame(MDR = mean(dati.cov.interesse$MDR),\n",
    "                      temperatura_occasione = seq(min(temperatura_occasione, na.rm=TRUE), max(temperatura_occasione, na.rm=TRUE), length=100))\n",
    "Elambda.det <- predict(best.mod, type='det', newdata=newdat1,\n",
    "                       appendData=TRUE)\n",
    "with(Elambda.det, {\n",
    "  plot(temperatura_occasione, Predicted, xlab=\"Temperatura\", type=\"l\", # names = habitat,\n",
    "       ylab=\"Probabilità di cattura\", #ylim=c(-20, 40), # cex.names=0.7,\n",
    "       cex.lab=0.7, cex.axis=0.7, lwd=2, col=\"red\")\n",
    "  # lines(temperatura_occasione, Predicted+SE, lty=3, col=\"dark grey\")\n",
    "  # lines(temperatura_occasione, Predicted-SE, lty=3, col=\"dark grey\")\n",
    "  lines(temperatura_occasione, upper, lty=2, col=\"grey\")\n",
    "  lines(temperatura_occasione, lower, lty=2, col=\"grey\")\n",
    "})\n",
    "\n"
   ]
  },
  {
   "cell_type": "code",
   "execution_count": null,
   "metadata": {},
   "outputs": [],
   "source": []
  }
 ],
 "metadata": {
  "kernelspec": {
   "display_name": "R",
   "language": "R",
   "name": "ir"
  },
  "language_info": {
   "codemirror_mode": "r",
   "file_extension": ".r",
   "mimetype": "text/x-r-source",
   "name": "R",
   "pygments_lexer": "r",
   "version": "3.6.3"
  }
 },
 "nbformat": 4,
 "nbformat_minor": 4
}
