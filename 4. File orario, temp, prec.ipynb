{
 "cells": [
  {
   "cell_type": "code",
   "execution_count": 5,
   "metadata": {},
   "outputs": [],
   "source": [
    "files_termometro <- list.files(\"Dati-originali\\\\dati_meteo_vda\\\\\", pattern=\".*Grand-Crot-Termometro.csv\", recursive=TRUE, full.names=TRUE)\n",
    "files_pluviometro <- list.files(\"Dati-originali\\\\dati_meteo_vda\\\\\", pattern=\".*Grand-Crot-Pluviometro.csv\", recursive=TRUE, full.names=TRUE)"
   ]
  },
  {
   "cell_type": "code",
   "execution_count": 6,
   "metadata": {},
   "outputs": [
    {
     "data": {
      "text/html": [
       "<style>\n",
       ".list-inline {list-style: none; margin:0; padding: 0}\n",
       ".list-inline>li {display: inline-block}\n",
       ".list-inline>li:not(:last-child)::after {content: \"\\00b7\"; padding: 0 .5ex}\n",
       "</style>\n",
       "<ol class=list-inline><li>'Dati-originali\\\\dati_meteo_vda\\\\/2014/Dati_2013-10-01-2014-09-30_Cogne - Grand-Crot-Pluviometro.csv'</li><li>'Dati-originali\\\\dati_meteo_vda\\\\/2015/Dati_2014-10-01-2015-09-30_Cogne - Grand-Crot-Pluviometro.csv'</li><li>'Dati-originali\\\\dati_meteo_vda\\\\/2016/Dati_2015-10-01-2016-09-30_Cogne - Grand-Crot-Pluviometro.csv'</li><li>'Dati-originali\\\\dati_meteo_vda\\\\/2017/Dati_2016-10-01-2017-09-30_Cogne - Grand-Crot-Pluviometro.csv'</li><li>'Dati-originali\\\\dati_meteo_vda\\\\/2018/Dati_2017-10-01-2018-09-30_Cogne - Grand-Crot-Pluviometro.csv'</li></ol>\n"
      ],
      "text/latex": [
       "\\begin{enumerate*}\n",
       "\\item 'Dati-originali\\textbackslash{}\\textbackslash{}dati\\_meteo\\_vda\\textbackslash{}\\textbackslash{}/2014/Dati\\_2013-10-01-2014-09-30\\_Cogne - Grand-Crot-Pluviometro.csv'\n",
       "\\item 'Dati-originali\\textbackslash{}\\textbackslash{}dati\\_meteo\\_vda\\textbackslash{}\\textbackslash{}/2015/Dati\\_2014-10-01-2015-09-30\\_Cogne - Grand-Crot-Pluviometro.csv'\n",
       "\\item 'Dati-originali\\textbackslash{}\\textbackslash{}dati\\_meteo\\_vda\\textbackslash{}\\textbackslash{}/2016/Dati\\_2015-10-01-2016-09-30\\_Cogne - Grand-Crot-Pluviometro.csv'\n",
       "\\item 'Dati-originali\\textbackslash{}\\textbackslash{}dati\\_meteo\\_vda\\textbackslash{}\\textbackslash{}/2017/Dati\\_2016-10-01-2017-09-30\\_Cogne - Grand-Crot-Pluviometro.csv'\n",
       "\\item 'Dati-originali\\textbackslash{}\\textbackslash{}dati\\_meteo\\_vda\\textbackslash{}\\textbackslash{}/2018/Dati\\_2017-10-01-2018-09-30\\_Cogne - Grand-Crot-Pluviometro.csv'\n",
       "\\end{enumerate*}\n"
      ],
      "text/markdown": [
       "1. 'Dati-originali\\\\dati_meteo_vda\\\\/2014/Dati_2013-10-01-2014-09-30_Cogne - Grand-Crot-Pluviometro.csv'\n",
       "2. 'Dati-originali\\\\dati_meteo_vda\\\\/2015/Dati_2014-10-01-2015-09-30_Cogne - Grand-Crot-Pluviometro.csv'\n",
       "3. 'Dati-originali\\\\dati_meteo_vda\\\\/2016/Dati_2015-10-01-2016-09-30_Cogne - Grand-Crot-Pluviometro.csv'\n",
       "4. 'Dati-originali\\\\dati_meteo_vda\\\\/2017/Dati_2016-10-01-2017-09-30_Cogne - Grand-Crot-Pluviometro.csv'\n",
       "5. 'Dati-originali\\\\dati_meteo_vda\\\\/2018/Dati_2017-10-01-2018-09-30_Cogne - Grand-Crot-Pluviometro.csv'\n",
       "\n",
       "\n"
      ],
      "text/plain": [
       "[1] \"Dati-originali\\\\dati_meteo_vda\\\\/2014/Dati_2013-10-01-2014-09-30_Cogne - Grand-Crot-Pluviometro.csv\"\n",
       "[2] \"Dati-originali\\\\dati_meteo_vda\\\\/2015/Dati_2014-10-01-2015-09-30_Cogne - Grand-Crot-Pluviometro.csv\"\n",
       "[3] \"Dati-originali\\\\dati_meteo_vda\\\\/2016/Dati_2015-10-01-2016-09-30_Cogne - Grand-Crot-Pluviometro.csv\"\n",
       "[4] \"Dati-originali\\\\dati_meteo_vda\\\\/2017/Dati_2016-10-01-2017-09-30_Cogne - Grand-Crot-Pluviometro.csv\"\n",
       "[5] \"Dati-originali\\\\dati_meteo_vda\\\\/2018/Dati_2017-10-01-2018-09-30_Cogne - Grand-Crot-Pluviometro.csv\""
      ]
     },
     "metadata": {},
     "output_type": "display_data"
    },
    {
     "data": {
      "text/html": [
       "<style>\n",
       ".list-inline {list-style: none; margin:0; padding: 0}\n",
       ".list-inline>li {display: inline-block}\n",
       ".list-inline>li:not(:last-child)::after {content: \"\\00b7\"; padding: 0 .5ex}\n",
       "</style>\n",
       "<ol class=list-inline><li>'Dati-originali\\\\dati_meteo_vda\\\\/2014/Dati_2013-10-01-2014-09-30_Cogne - Grand-Crot-Termometro.csv'</li><li>'Dati-originali\\\\dati_meteo_vda\\\\/2015/Dati_2014-10-01-2015-09-30_Cogne - Grand-Crot-Termometro.csv'</li><li>'Dati-originali\\\\dati_meteo_vda\\\\/2016/Dati_2015-10-01-2016-09-30_Cogne - Grand-Crot-Termometro.csv'</li><li>'Dati-originali\\\\dati_meteo_vda\\\\/2017/Dati_2016-10-01-2017-09-30_Cogne - Grand-Crot-Termometro.csv'</li><li>'Dati-originali\\\\dati_meteo_vda\\\\/2018/Dati_2017-10-01-2018-09-30_Cogne - Grand-Crot-Termometro.csv'</li></ol>\n"
      ],
      "text/latex": [
       "\\begin{enumerate*}\n",
       "\\item 'Dati-originali\\textbackslash{}\\textbackslash{}dati\\_meteo\\_vda\\textbackslash{}\\textbackslash{}/2014/Dati\\_2013-10-01-2014-09-30\\_Cogne - Grand-Crot-Termometro.csv'\n",
       "\\item 'Dati-originali\\textbackslash{}\\textbackslash{}dati\\_meteo\\_vda\\textbackslash{}\\textbackslash{}/2015/Dati\\_2014-10-01-2015-09-30\\_Cogne - Grand-Crot-Termometro.csv'\n",
       "\\item 'Dati-originali\\textbackslash{}\\textbackslash{}dati\\_meteo\\_vda\\textbackslash{}\\textbackslash{}/2016/Dati\\_2015-10-01-2016-09-30\\_Cogne - Grand-Crot-Termometro.csv'\n",
       "\\item 'Dati-originali\\textbackslash{}\\textbackslash{}dati\\_meteo\\_vda\\textbackslash{}\\textbackslash{}/2017/Dati\\_2016-10-01-2017-09-30\\_Cogne - Grand-Crot-Termometro.csv'\n",
       "\\item 'Dati-originali\\textbackslash{}\\textbackslash{}dati\\_meteo\\_vda\\textbackslash{}\\textbackslash{}/2018/Dati\\_2017-10-01-2018-09-30\\_Cogne - Grand-Crot-Termometro.csv'\n",
       "\\end{enumerate*}\n"
      ],
      "text/markdown": [
       "1. 'Dati-originali\\\\dati_meteo_vda\\\\/2014/Dati_2013-10-01-2014-09-30_Cogne - Grand-Crot-Termometro.csv'\n",
       "2. 'Dati-originali\\\\dati_meteo_vda\\\\/2015/Dati_2014-10-01-2015-09-30_Cogne - Grand-Crot-Termometro.csv'\n",
       "3. 'Dati-originali\\\\dati_meteo_vda\\\\/2016/Dati_2015-10-01-2016-09-30_Cogne - Grand-Crot-Termometro.csv'\n",
       "4. 'Dati-originali\\\\dati_meteo_vda\\\\/2017/Dati_2016-10-01-2017-09-30_Cogne - Grand-Crot-Termometro.csv'\n",
       "5. 'Dati-originali\\\\dati_meteo_vda\\\\/2018/Dati_2017-10-01-2018-09-30_Cogne - Grand-Crot-Termometro.csv'\n",
       "\n",
       "\n"
      ],
      "text/plain": [
       "[1] \"Dati-originali\\\\dati_meteo_vda\\\\/2014/Dati_2013-10-01-2014-09-30_Cogne - Grand-Crot-Termometro.csv\"\n",
       "[2] \"Dati-originali\\\\dati_meteo_vda\\\\/2015/Dati_2014-10-01-2015-09-30_Cogne - Grand-Crot-Termometro.csv\"\n",
       "[3] \"Dati-originali\\\\dati_meteo_vda\\\\/2016/Dati_2015-10-01-2016-09-30_Cogne - Grand-Crot-Termometro.csv\"\n",
       "[4] \"Dati-originali\\\\dati_meteo_vda\\\\/2017/Dati_2016-10-01-2017-09-30_Cogne - Grand-Crot-Termometro.csv\"\n",
       "[5] \"Dati-originali\\\\dati_meteo_vda\\\\/2018/Dati_2017-10-01-2018-09-30_Cogne - Grand-Crot-Termometro.csv\""
      ]
     },
     "metadata": {},
     "output_type": "display_data"
    }
   ],
   "source": [
    "files_pluviometro\n",
    "files_termometro\n"
   ]
  },
  {
   "cell_type": "code",
   "execution_count": 17,
   "metadata": {},
   "outputs": [
    {
     "data": {
      "text/html": [
       "<table>\n",
       "<caption>A data.frame: 6 × 2</caption>\n",
       "<thead>\n",
       "\t<tr><th></th><th scope=col>Orario</th><th scope=col>Precipitazioni mm</th></tr>\n",
       "\t<tr><th></th><th scope=col>&lt;fct&gt;</th><th scope=col>&lt;dbl&gt;</th></tr>\n",
       "</thead>\n",
       "<tbody>\n",
       "\t<tr><th scope=row>1</th><td>01/10/2013 00:00</td><td>0</td></tr>\n",
       "\t<tr><th scope=row>2</th><td>01/10/2013 00:30</td><td>0</td></tr>\n",
       "\t<tr><th scope=row>3</th><td>01/10/2013 01:00</td><td>0</td></tr>\n",
       "\t<tr><th scope=row>4</th><td>01/10/2013 01:30</td><td>0</td></tr>\n",
       "\t<tr><th scope=row>5</th><td>01/10/2013 02:00</td><td>0</td></tr>\n",
       "\t<tr><th scope=row>6</th><td>01/10/2013 02:30</td><td>0</td></tr>\n",
       "</tbody>\n",
       "</table>\n"
      ],
      "text/latex": [
       "A data.frame: 6 × 2\n",
       "\\begin{tabular}{r|ll}\n",
       "  & Orario & Precipitazioni mm\\\\\n",
       "  & <fct> & <dbl>\\\\\n",
       "\\hline\n",
       "\t1 & 01/10/2013 00:00 & 0\\\\\n",
       "\t2 & 01/10/2013 00:30 & 0\\\\\n",
       "\t3 & 01/10/2013 01:00 & 0\\\\\n",
       "\t4 & 01/10/2013 01:30 & 0\\\\\n",
       "\t5 & 01/10/2013 02:00 & 0\\\\\n",
       "\t6 & 01/10/2013 02:30 & 0\\\\\n",
       "\\end{tabular}\n"
      ],
      "text/markdown": [
       "\n",
       "A data.frame: 6 × 2\n",
       "\n",
       "| <!--/--> | Orario &lt;fct&gt; | Precipitazioni mm &lt;dbl&gt; |\n",
       "|---|---|---|\n",
       "| 1 | 01/10/2013 00:00 | 0 |\n",
       "| 2 | 01/10/2013 00:30 | 0 |\n",
       "| 3 | 01/10/2013 01:00 | 0 |\n",
       "| 4 | 01/10/2013 01:30 | 0 |\n",
       "| 5 | 01/10/2013 02:00 | 0 |\n",
       "| 6 | 01/10/2013 02:30 | 0 |\n",
       "\n"
      ],
      "text/plain": [
       "  Orario           Precipitazioni mm\n",
       "1 01/10/2013 00:00 0                \n",
       "2 01/10/2013 00:30 0                \n",
       "3 01/10/2013 01:00 0                \n",
       "4 01/10/2013 01:30 0                \n",
       "5 01/10/2013 02:00 0                \n",
       "6 01/10/2013 02:30 0                "
      ]
     },
     "metadata": {},
     "output_type": "display_data"
    }
   ],
   "source": [
    "precipitazioni_grand_crot = do.call(rbind, lapply(files_pluviometro, function(x) read.csv(x, dec=\",\", sep=\";\", header = TRUE)))\n",
    "colnames(precipitazioni_grand_crot) <- c(\"Orario\",\"Precipitazioni mm\")\n",
    "head(precipitazioni_grand_crot)"
   ]
  },
  {
   "cell_type": "code",
   "execution_count": 18,
   "metadata": {},
   "outputs": [
    {
     "data": {
      "text/html": [
       "<table>\n",
       "<caption>A data.frame: 6 × 2</caption>\n",
       "<thead>\n",
       "\t<tr><th></th><th scope=col>Orario</th><th scope=col>Temperatura °C</th></tr>\n",
       "\t<tr><th></th><th scope=col>&lt;fct&gt;</th><th scope=col>&lt;dbl&gt;</th></tr>\n",
       "</thead>\n",
       "<tbody>\n",
       "\t<tr><th scope=row>1</th><td>01/10/2013 00:00</td><td>4.7</td></tr>\n",
       "\t<tr><th scope=row>2</th><td>01/10/2013 00:30</td><td>4.9</td></tr>\n",
       "\t<tr><th scope=row>3</th><td>01/10/2013 01:00</td><td>4.7</td></tr>\n",
       "\t<tr><th scope=row>4</th><td>01/10/2013 01:30</td><td>4.5</td></tr>\n",
       "\t<tr><th scope=row>5</th><td>01/10/2013 02:00</td><td>4.9</td></tr>\n",
       "\t<tr><th scope=row>6</th><td>01/10/2013 02:30</td><td>4.8</td></tr>\n",
       "</tbody>\n",
       "</table>\n"
      ],
      "text/latex": [
       "A data.frame: 6 × 2\n",
       "\\begin{tabular}{r|ll}\n",
       "  & Orario & Temperatura °C\\\\\n",
       "  & <fct> & <dbl>\\\\\n",
       "\\hline\n",
       "\t1 & 01/10/2013 00:00 & 4.7\\\\\n",
       "\t2 & 01/10/2013 00:30 & 4.9\\\\\n",
       "\t3 & 01/10/2013 01:00 & 4.7\\\\\n",
       "\t4 & 01/10/2013 01:30 & 4.5\\\\\n",
       "\t5 & 01/10/2013 02:00 & 4.9\\\\\n",
       "\t6 & 01/10/2013 02:30 & 4.8\\\\\n",
       "\\end{tabular}\n"
      ],
      "text/markdown": [
       "\n",
       "A data.frame: 6 × 2\n",
       "\n",
       "| <!--/--> | Orario &lt;fct&gt; | Temperatura °C &lt;dbl&gt; |\n",
       "|---|---|---|\n",
       "| 1 | 01/10/2013 00:00 | 4.7 |\n",
       "| 2 | 01/10/2013 00:30 | 4.9 |\n",
       "| 3 | 01/10/2013 01:00 | 4.7 |\n",
       "| 4 | 01/10/2013 01:30 | 4.5 |\n",
       "| 5 | 01/10/2013 02:00 | 4.9 |\n",
       "| 6 | 01/10/2013 02:30 | 4.8 |\n",
       "\n"
      ],
      "text/plain": [
       "  Orario           Temperatura °C\n",
       "1 01/10/2013 00:00 4.7           \n",
       "2 01/10/2013 00:30 4.9           \n",
       "3 01/10/2013 01:00 4.7           \n",
       "4 01/10/2013 01:30 4.5           \n",
       "5 01/10/2013 02:00 4.9           \n",
       "6 01/10/2013 02:30 4.8           "
      ]
     },
     "metadata": {},
     "output_type": "display_data"
    }
   ],
   "source": [
    "temperatura_grand_crot = do.call(rbind, lapply(files_termometro, function(x) read.csv(x, dec=\",\", sep=\";\", header = TRUE)))\n",
    "colnames(temperatura_grand_crot) <- c(\"Orario\",\"Temperatura °C\")\n",
    "head(temperatura_grand_crot)"
   ]
  },
  {
   "cell_type": "code",
   "execution_count": null,
   "metadata": {},
   "outputs": [],
   "source": []
  }
 ],
 "metadata": {
  "kernelspec": {
   "display_name": "R",
   "language": "R",
   "name": "ir"
  },
  "language_info": {
   "codemirror_mode": "r",
   "file_extension": ".r",
   "mimetype": "text/x-r-source",
   "name": "R",
   "pygments_lexer": "r",
   "version": "3.6.1"
  }
 },
 "nbformat": 4,
 "nbformat_minor": 4
}
