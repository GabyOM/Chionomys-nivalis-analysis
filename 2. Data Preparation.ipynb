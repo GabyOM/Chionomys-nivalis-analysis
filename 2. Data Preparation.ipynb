{
 "cells": [
  {
   "cell_type": "markdown",
   "metadata": {},
   "source": [
    "# Data Preparation\n",
    "#### Claudia Gabriela Ochoa Martinez (2020)\n",
    "## Loading Data"
   ]
  },
  {
   "cell_type": "code",
   "execution_count": 1,
   "metadata": {},
   "outputs": [],
   "source": [
    "# CSV Raccolta dati\n",
    "Daticatt <- read.csv(\"Dati-originali/daticatture.csv\", dec=\",\", sep=\";\", header = TRUE)\n",
    "Datitrap <- read.csv(\"Dati-originali/datitrappole.csv\", dec=\",\", sep=\";\", header = TRUE)\n",
    "Datioccas <- read.csv(\"Dati-originali/sforzocampionamento.csv\", dec=\",\", sep=\";\", header = TRUE)\n",
    "# CSV Meteo\n",
    "temp_prec_grand_crot <- read.csv(\"Dati-elaborati\\\\Dati_precip-temp_grand-crot.csv\", dec=\",\", sep=\";\", header = TRUE)"
   ]
  },
  {
   "cell_type": "markdown",
   "metadata": {},
   "source": [
    "### Dati Metereologici"
   ]
  },
  {
   "cell_type": "code",
   "execution_count": 2,
   "metadata": {},
   "outputs": [
    {
     "data": {
      "text/html": [
       "<table>\n",
       "<caption>A data.frame: 6 × 4</caption>\n",
       "<thead>\n",
       "\t<tr><th></th><th scope=col>Precipitazioni</th><th scope=col>Temperatura.C</th><th scope=col>Orario.R</th><th scope=col>Data.R</th></tr>\n",
       "\t<tr><th></th><th scope=col>&lt;dbl&gt;</th><th scope=col>&lt;dbl&gt;</th><th scope=col>&lt;fct&gt;</th><th scope=col>&lt;date&gt;</th></tr>\n",
       "</thead>\n",
       "<tbody>\n",
       "\t<tr><th scope=row>1</th><td>0</td><td>4.7</td><td>00:00</td><td>2013-10-01</td></tr>\n",
       "\t<tr><th scope=row>2</th><td>0</td><td>4.9</td><td>00:30</td><td>2013-10-01</td></tr>\n",
       "\t<tr><th scope=row>3</th><td>0</td><td>4.7</td><td>01:00</td><td>2013-10-01</td></tr>\n",
       "\t<tr><th scope=row>4</th><td>0</td><td>4.5</td><td>01:30</td><td>2013-10-01</td></tr>\n",
       "\t<tr><th scope=row>5</th><td>0</td><td>4.9</td><td>02:00</td><td>2013-10-01</td></tr>\n",
       "\t<tr><th scope=row>6</th><td>0</td><td>4.8</td><td>02:30</td><td>2013-10-01</td></tr>\n",
       "</tbody>\n",
       "</table>\n"
      ],
      "text/latex": [
       "A data.frame: 6 × 4\n",
       "\\begin{tabular}{r|llll}\n",
       "  & Precipitazioni & Temperatura.C & Orario.R & Data.R\\\\\n",
       "  & <dbl> & <dbl> & <fct> & <date>\\\\\n",
       "\\hline\n",
       "\t1 & 0 & 4.7 & 00:00 & 2013-10-01\\\\\n",
       "\t2 & 0 & 4.9 & 00:30 & 2013-10-01\\\\\n",
       "\t3 & 0 & 4.7 & 01:00 & 2013-10-01\\\\\n",
       "\t4 & 0 & 4.5 & 01:30 & 2013-10-01\\\\\n",
       "\t5 & 0 & 4.9 & 02:00 & 2013-10-01\\\\\n",
       "\t6 & 0 & 4.8 & 02:30 & 2013-10-01\\\\\n",
       "\\end{tabular}\n"
      ],
      "text/markdown": [
       "\n",
       "A data.frame: 6 × 4\n",
       "\n",
       "| <!--/--> | Precipitazioni &lt;dbl&gt; | Temperatura.C &lt;dbl&gt; | Orario.R &lt;fct&gt; | Data.R &lt;date&gt; |\n",
       "|---|---|---|---|---|\n",
       "| 1 | 0 | 4.7 | 00:00 | 2013-10-01 |\n",
       "| 2 | 0 | 4.9 | 00:30 | 2013-10-01 |\n",
       "| 3 | 0 | 4.7 | 01:00 | 2013-10-01 |\n",
       "| 4 | 0 | 4.5 | 01:30 | 2013-10-01 |\n",
       "| 5 | 0 | 4.9 | 02:00 | 2013-10-01 |\n",
       "| 6 | 0 | 4.8 | 02:30 | 2013-10-01 |\n",
       "\n"
      ],
      "text/plain": [
       "  Precipitazioni Temperatura.C Orario.R Data.R    \n",
       "1 0              4.7           00:00    2013-10-01\n",
       "2 0              4.9           00:30    2013-10-01\n",
       "3 0              4.7           01:00    2013-10-01\n",
       "4 0              4.5           01:30    2013-10-01\n",
       "5 0              4.9           02:00    2013-10-01\n",
       "6 0              4.8           02:30    2013-10-01"
      ]
     },
     "metadata": {},
     "output_type": "display_data"
    }
   ],
   "source": [
    "# Convertiamo i dati con un formato riconoscibile da R\n",
    "temp_prec_grand_crot[\"Data.R\"]   <- as.Date(temp_prec_grand_crot$Data.R, format=\"%d-%m-%Y\")\n",
    "head(temp_prec_grand_crot)"
   ]
  },
  {
   "cell_type": "markdown",
   "metadata": {},
   "source": [
    "### Dati Trappole\n"
   ]
  },
  {
   "cell_type": "code",
   "execution_count": 3,
   "metadata": {},
   "outputs": [
    {
     "data": {
      "text/html": [
       "<table>\n",
       "<caption>A data.frame: 6 × 22</caption>\n",
       "<thead>\n",
       "\t<tr><th></th><th scope=col>ID_TRAP</th><th scope=col>SESSIONE</th><th scope=col>data.attivazione</th><th scope=col>occasione.attivazione</th><th scope=col>ED50.Coord.X</th><th scope=col>ED50.Coord.Y</th><th scope=col>WGS84.Coord.Long</th><th scope=col>WGS84.Coord.Lat</th><th scope=col>Diametro.roccia.1..cm.</th><th scope=col>Diametro.roccia.2..cm.</th><th scope=col>...</th><th scope=col>aspect_deg</th><th scope=col>slope_degr</th><th scope=col>X..COP..VEG..2015</th><th scope=col>X..COP..VEG..2018</th><th scope=col>n_species</th><th scope=col>dominant</th><th scope=col>distanza.trappole..cm...da.75a1.</th><th scope=col>angolo.trappole..gradi.AZ..da75a1.</th><th scope=col>Cop_Veg_2015_ottavi</th><th scope=col>Cop_Veg_2018_ottavi</th></tr>\n",
       "\t<tr><th></th><th scope=col>&lt;int&gt;</th><th scope=col>&lt;int&gt;</th><th scope=col>&lt;fct&gt;</th><th scope=col>&lt;int&gt;</th><th scope=col>&lt;int&gt;</th><th scope=col>&lt;int&gt;</th><th scope=col>&lt;fct&gt;</th><th scope=col>&lt;fct&gt;</th><th scope=col>&lt;int&gt;</th><th scope=col>&lt;int&gt;</th><th scope=col>...</th><th scope=col>&lt;int&gt;</th><th scope=col>&lt;int&gt;</th><th scope=col>&lt;int&gt;</th><th scope=col>&lt;dbl&gt;</th><th scope=col>&lt;int&gt;</th><th scope=col>&lt;fct&gt;</th><th scope=col>&lt;int&gt;</th><th scope=col>&lt;int&gt;</th><th scope=col>&lt;dbl&gt;</th><th scope=col>&lt;dbl&gt;</th></tr>\n",
       "</thead>\n",
       "<tbody>\n",
       "\t<tr><th scope=row>1</th><td>1</td><td>1</td><td>16/07/2015</td><td>5</td><td>367387</td><td>5048252</td><td>7.299.334.169.216.120 </td><td>4.557.336.733.566.600 </td><td> 59</td><td>96</td><td>...</td><td>234</td><td>13</td><td>45</td><td>62.5</td><td>23</td><td>Graminacee</td><td>  NA</td><td> NA</td><td>3.6</td><td>5</td></tr>\n",
       "\t<tr><th scope=row>2</th><td>2</td><td>1</td><td>14/07/2015</td><td>1</td><td>367395</td><td>5048256</td><td>7.299.435.567.549.560 </td><td>4.557.340.484.970.020 </td><td>176</td><td>42</td><td>...</td><td>294</td><td>16</td><td>35</td><td>25.0</td><td>16</td><td>Graminacee</td><td> 920</td><td>264</td><td>2.8</td><td>2</td></tr>\n",
       "\t<tr><th scope=row>3</th><td>3</td><td>1</td><td>14/07/2015</td><td>1</td><td>367400</td><td>5048260</td><td>7.299.498.534.160.590 </td><td>4.557.344.179.138.950 </td><td> 51</td><td>88</td><td>...</td><td>310</td><td> 0</td><td>25</td><td>25.0</td><td>13</td><td>Graminacee</td><td> 891</td><td>249</td><td>2.0</td><td>2</td></tr>\n",
       "\t<tr><th scope=row>4</th><td>4</td><td>1</td><td>14/07/2015</td><td>1</td><td>367409</td><td>5048262</td><td>72.996.132.865.560.000</td><td>4.557.346.150.207.160 </td><td> 99</td><td>30</td><td>...</td><td>293</td><td> 8</td><td>50</td><td>62.5</td><td>23</td><td>Graminacee</td><td> 774</td><td>232</td><td>4.0</td><td>5</td></tr>\n",
       "\t<tr><th scope=row>5</th><td>5</td><td>1</td><td>14/07/2015</td><td>1</td><td>367418</td><td>5048265</td><td>729.972.776.745.971   </td><td>45.573.490.209.615.700</td><td>164</td><td>41</td><td>...</td><td>294</td><td>11</td><td>25</td><td>25.0</td><td>21</td><td>Graminacee</td><td> 697</td><td>243</td><td>2.0</td><td>2</td></tr>\n",
       "\t<tr><th scope=row>6</th><td>6</td><td>1</td><td>14/07/2015</td><td>1</td><td>367426</td><td>5048265</td><td>7.299.830.252.520.920 </td><td>45.573.491.735.399.800</td><td>130</td><td>31</td><td>...</td><td>310</td><td> 7</td><td>55</td><td>50.0</td><td>20</td><td>Graminacee</td><td>1108</td><td>254</td><td>4.4</td><td>4</td></tr>\n",
       "</tbody>\n",
       "</table>\n"
      ],
      "text/latex": [
       "A data.frame: 6 × 22\n",
       "\\begin{tabular}{r|lllllllllllllllllllll}\n",
       "  & ID\\_TRAP & SESSIONE & data.attivazione & occasione.attivazione & ED50.Coord.X & ED50.Coord.Y & WGS84.Coord.Long & WGS84.Coord.Lat & Diametro.roccia.1..cm. & Diametro.roccia.2..cm. & ... & aspect\\_deg & slope\\_degr & X..COP..VEG..2015 & X..COP..VEG..2018 & n\\_species & dominant & distanza.trappole..cm...da.75a1. & angolo.trappole..gradi.AZ..da75a1. & Cop\\_Veg\\_2015\\_ottavi & Cop\\_Veg\\_2018\\_ottavi\\\\\n",
       "  & <int> & <int> & <fct> & <int> & <int> & <int> & <fct> & <fct> & <int> & <int> & ... & <int> & <int> & <int> & <dbl> & <int> & <fct> & <int> & <int> & <dbl> & <dbl>\\\\\n",
       "\\hline\n",
       "\t1 & 1 & 1 & 16/07/2015 & 5 & 367387 & 5048252 & 7.299.334.169.216.120  & 4.557.336.733.566.600  &  59 & 96 & ... & 234 & 13 & 45 & 62.5 & 23 & Graminacee &   NA &  NA & 3.6 & 5\\\\\n",
       "\t2 & 2 & 1 & 14/07/2015 & 1 & 367395 & 5048256 & 7.299.435.567.549.560  & 4.557.340.484.970.020  & 176 & 42 & ... & 294 & 16 & 35 & 25.0 & 16 & Graminacee &  920 & 264 & 2.8 & 2\\\\\n",
       "\t3 & 3 & 1 & 14/07/2015 & 1 & 367400 & 5048260 & 7.299.498.534.160.590  & 4.557.344.179.138.950  &  51 & 88 & ... & 310 &  0 & 25 & 25.0 & 13 & Graminacee &  891 & 249 & 2.0 & 2\\\\\n",
       "\t4 & 4 & 1 & 14/07/2015 & 1 & 367409 & 5048262 & 72.996.132.865.560.000 & 4.557.346.150.207.160  &  99 & 30 & ... & 293 &  8 & 50 & 62.5 & 23 & Graminacee &  774 & 232 & 4.0 & 5\\\\\n",
       "\t5 & 5 & 1 & 14/07/2015 & 1 & 367418 & 5048265 & 729.972.776.745.971    & 45.573.490.209.615.700 & 164 & 41 & ... & 294 & 11 & 25 & 25.0 & 21 & Graminacee &  697 & 243 & 2.0 & 2\\\\\n",
       "\t6 & 6 & 1 & 14/07/2015 & 1 & 367426 & 5048265 & 7.299.830.252.520.920  & 45.573.491.735.399.800 & 130 & 31 & ... & 310 &  7 & 55 & 50.0 & 20 & Graminacee & 1108 & 254 & 4.4 & 4\\\\\n",
       "\\end{tabular}\n"
      ],
      "text/markdown": [
       "\n",
       "A data.frame: 6 × 22\n",
       "\n",
       "| <!--/--> | ID_TRAP &lt;int&gt; | SESSIONE &lt;int&gt; | data.attivazione &lt;fct&gt; | occasione.attivazione &lt;int&gt; | ED50.Coord.X &lt;int&gt; | ED50.Coord.Y &lt;int&gt; | WGS84.Coord.Long &lt;fct&gt; | WGS84.Coord.Lat &lt;fct&gt; | Diametro.roccia.1..cm. &lt;int&gt; | Diametro.roccia.2..cm. &lt;int&gt; | ... ... | aspect_deg &lt;int&gt; | slope_degr &lt;int&gt; | X..COP..VEG..2015 &lt;int&gt; | X..COP..VEG..2018 &lt;dbl&gt; | n_species &lt;int&gt; | dominant &lt;fct&gt; | distanza.trappole..cm...da.75a1. &lt;int&gt; | angolo.trappole..gradi.AZ..da75a1. &lt;int&gt; | Cop_Veg_2015_ottavi &lt;dbl&gt; | Cop_Veg_2018_ottavi &lt;dbl&gt; |\n",
       "|---|---|---|---|---|---|---|---|---|---|---|---|---|---|---|---|---|---|---|---|---|---|\n",
       "| 1 | 1 | 1 | 16/07/2015 | 5 | 367387 | 5048252 | 7.299.334.169.216.120  | 4.557.336.733.566.600  |  59 | 96 | ... | 234 | 13 | 45 | 62.5 | 23 | Graminacee |   NA |  NA | 3.6 | 5 |\n",
       "| 2 | 2 | 1 | 14/07/2015 | 1 | 367395 | 5048256 | 7.299.435.567.549.560  | 4.557.340.484.970.020  | 176 | 42 | ... | 294 | 16 | 35 | 25.0 | 16 | Graminacee |  920 | 264 | 2.8 | 2 |\n",
       "| 3 | 3 | 1 | 14/07/2015 | 1 | 367400 | 5048260 | 7.299.498.534.160.590  | 4.557.344.179.138.950  |  51 | 88 | ... | 310 |  0 | 25 | 25.0 | 13 | Graminacee |  891 | 249 | 2.0 | 2 |\n",
       "| 4 | 4 | 1 | 14/07/2015 | 1 | 367409 | 5048262 | 72.996.132.865.560.000 | 4.557.346.150.207.160  |  99 | 30 | ... | 293 |  8 | 50 | 62.5 | 23 | Graminacee |  774 | 232 | 4.0 | 5 |\n",
       "| 5 | 5 | 1 | 14/07/2015 | 1 | 367418 | 5048265 | 729.972.776.745.971    | 45.573.490.209.615.700 | 164 | 41 | ... | 294 | 11 | 25 | 25.0 | 21 | Graminacee |  697 | 243 | 2.0 | 2 |\n",
       "| 6 | 6 | 1 | 14/07/2015 | 1 | 367426 | 5048265 | 7.299.830.252.520.920  | 45.573.491.735.399.800 | 130 | 31 | ... | 310 |  7 | 55 | 50.0 | 20 | Graminacee | 1108 | 254 | 4.4 | 4 |\n",
       "\n"
      ],
      "text/plain": [
       "  ID_TRAP SESSIONE data.attivazione occasione.attivazione ED50.Coord.X\n",
       "1 1       1        16/07/2015       5                     367387      \n",
       "2 2       1        14/07/2015       1                     367395      \n",
       "3 3       1        14/07/2015       1                     367400      \n",
       "4 4       1        14/07/2015       1                     367409      \n",
       "5 5       1        14/07/2015       1                     367418      \n",
       "6 6       1        14/07/2015       1                     367426      \n",
       "  ED50.Coord.Y WGS84.Coord.Long       WGS84.Coord.Lat       \n",
       "1 5048252      7.299.334.169.216.120  4.557.336.733.566.600 \n",
       "2 5048256      7.299.435.567.549.560  4.557.340.484.970.020 \n",
       "3 5048260      7.299.498.534.160.590  4.557.344.179.138.950 \n",
       "4 5048262      72.996.132.865.560.000 4.557.346.150.207.160 \n",
       "5 5048265      729.972.776.745.971    45.573.490.209.615.700\n",
       "6 5048265      7.299.830.252.520.920  45.573.491.735.399.800\n",
       "  Diametro.roccia.1..cm. Diametro.roccia.2..cm. ... aspect_deg slope_degr\n",
       "1  59                    96                     ... 234        13        \n",
       "2 176                    42                     ... 294        16        \n",
       "3  51                    88                     ... 310         0        \n",
       "4  99                    30                     ... 293         8        \n",
       "5 164                    41                     ... 294        11        \n",
       "6 130                    31                     ... 310         7        \n",
       "  X..COP..VEG..2015 X..COP..VEG..2018 n_species dominant  \n",
       "1 45                62.5              23        Graminacee\n",
       "2 35                25.0              16        Graminacee\n",
       "3 25                25.0              13        Graminacee\n",
       "4 50                62.5              23        Graminacee\n",
       "5 25                25.0              21        Graminacee\n",
       "6 55                50.0              20        Graminacee\n",
       "  distanza.trappole..cm...da.75a1. angolo.trappole..gradi.AZ..da75a1.\n",
       "1   NA                              NA                               \n",
       "2  920                             264                               \n",
       "3  891                             249                               \n",
       "4  774                             232                               \n",
       "5  697                             243                               \n",
       "6 1108                             254                               \n",
       "  Cop_Veg_2015_ottavi Cop_Veg_2018_ottavi\n",
       "1 3.6                 5                  \n",
       "2 2.8                 2                  \n",
       "3 2.0                 2                  \n",
       "4 4.0                 5                  \n",
       "5 2.0                 2                  \n",
       "6 4.4                 4                  "
      ]
     },
     "metadata": {},
     "output_type": "display_data"
    }
   ],
   "source": [
    "# Rimuoviamo le righe che non hanno un ID_TRAP - problema in fase di export da Excel\n",
    "Datitrap <- Datitrap[!is.na(Datitrap$ID_TRAP), ]\n",
    "\n",
    "# Convertiamo la copertura vegetale in ottavi\n",
    "Datitrap$Cop_Veg_2015_ottavi <- Datitrap$X..COP..VEG..2015 / 100*8\n",
    "Datitrap$Cop_Veg_2018_ottavi <- Datitrap$X..COP..VEG..2018 / 100*8\n",
    "\n",
    "head(Datitrap)"
   ]
  },
  {
   "cell_type": "markdown",
   "metadata": {},
   "source": [
    "### Dati Sforzo di Campionamento\n",
    "#### Modificati includendo la data in formato R e l'anno"
   ]
  },
  {
   "cell_type": "code",
   "execution_count": 4,
   "metadata": {},
   "outputs": [
    {
     "data": {
      "text/html": [
       "<table>\n",
       "<caption>A data.frame: 6 × 15</caption>\n",
       "<thead>\n",
       "\t<tr><th></th><th scope=col>occasione</th><th scope=col>ALBA..A.T.</th><th scope=col>sessione</th><th scope=col>trappole.posizionate</th><th scope=col>trappoleattive</th><th scope=col>n..trappole.inattive</th><th scope=col>ID.trappole.inattive</th><th scope=col>neve....S.N.</th><th scope=col>copertura.nuvolosa....8.</th><th scope=col>Sito</th><th scope=col>DOY</th><th scope=col>X</th><th scope=col>Data.R</th><th scope=col>Anno</th><th scope=col>Orario.R</th></tr>\n",
       "\t<tr><th></th><th scope=col>&lt;int&gt;</th><th scope=col>&lt;fct&gt;</th><th scope=col>&lt;int&gt;</th><th scope=col>&lt;int&gt;</th><th scope=col>&lt;int&gt;</th><th scope=col>&lt;int&gt;</th><th scope=col>&lt;fct&gt;</th><th scope=col>&lt;fct&gt;</th><th scope=col>&lt;fct&gt;</th><th scope=col>&lt;fct&gt;</th><th scope=col>&lt;int&gt;</th><th scope=col>&lt;lgl&gt;</th><th scope=col>&lt;date&gt;</th><th scope=col>&lt;I&lt;chr&gt;&gt;</th><th scope=col>&lt;chr&gt;</th></tr>\n",
       "</thead>\n",
       "<tbody>\n",
       "\t<tr><th scope=row>1</th><td>1</td><td>T</td><td>2</td><td>30</td><td>30</td><td>0</td><td>NA   </td><td>N</td><td>2/8</td><td>COGNE</td><td>243</td><td>NA</td><td>2014-08-31</td><td>2014</td><td>17:00</td></tr>\n",
       "\t<tr><th scope=row>2</th><td>2</td><td>A</td><td>2</td><td>50</td><td>50</td><td>0</td><td>NA   </td><td>N</td><td>5/8</td><td>COGNE</td><td>244</td><td>NA</td><td>2014-09-01</td><td>2014</td><td>07:00</td></tr>\n",
       "\t<tr><th scope=row>3</th><td>3</td><td>T</td><td>2</td><td>70</td><td>68</td><td>2</td><td>51/56</td><td>N</td><td>0/8</td><td>COGNE</td><td>244</td><td>NA</td><td>2014-09-01</td><td>2014</td><td>17:00</td></tr>\n",
       "\t<tr><th scope=row>4</th><td>4</td><td>A</td><td>2</td><td>70</td><td>70</td><td>0</td><td>NA   </td><td>N</td><td>0/8</td><td>COGNE</td><td>245</td><td>NA</td><td>2014-09-02</td><td>2014</td><td>07:00</td></tr>\n",
       "\t<tr><th scope=row>5</th><td>5</td><td>T</td><td>2</td><td>70</td><td>70</td><td>0</td><td>NA   </td><td>N</td><td>0/8</td><td>COGNE</td><td>245</td><td>NA</td><td>2014-09-02</td><td>2014</td><td>17:00</td></tr>\n",
       "\t<tr><th scope=row>6</th><td>6</td><td>A</td><td>2</td><td>70</td><td>70</td><td>0</td><td>NA   </td><td>N</td><td>0/8</td><td>COGNE</td><td>246</td><td>NA</td><td>2014-09-03</td><td>2014</td><td>07:00</td></tr>\n",
       "</tbody>\n",
       "</table>\n"
      ],
      "text/latex": [
       "A data.frame: 6 × 15\n",
       "\\begin{tabular}{r|lllllllllllllll}\n",
       "  & occasione & ALBA..A.T. & sessione & trappole.posizionate & trappoleattive & n..trappole.inattive & ID.trappole.inattive & neve....S.N. & copertura.nuvolosa....8. & Sito & DOY & X & Data.R & Anno & Orario.R\\\\\n",
       "  & <int> & <fct> & <int> & <int> & <int> & <int> & <fct> & <fct> & <fct> & <fct> & <int> & <lgl> & <date> & <I<chr>> & <chr>\\\\\n",
       "\\hline\n",
       "\t1 & 1 & T & 2 & 30 & 30 & 0 & NA    & N & 2/8 & COGNE & 243 & NA & 2014-08-31 & 2014 & 17:00\\\\\n",
       "\t2 & 2 & A & 2 & 50 & 50 & 0 & NA    & N & 5/8 & COGNE & 244 & NA & 2014-09-01 & 2014 & 07:00\\\\\n",
       "\t3 & 3 & T & 2 & 70 & 68 & 2 & 51/56 & N & 0/8 & COGNE & 244 & NA & 2014-09-01 & 2014 & 17:00\\\\\n",
       "\t4 & 4 & A & 2 & 70 & 70 & 0 & NA    & N & 0/8 & COGNE & 245 & NA & 2014-09-02 & 2014 & 07:00\\\\\n",
       "\t5 & 5 & T & 2 & 70 & 70 & 0 & NA    & N & 0/8 & COGNE & 245 & NA & 2014-09-02 & 2014 & 17:00\\\\\n",
       "\t6 & 6 & A & 2 & 70 & 70 & 0 & NA    & N & 0/8 & COGNE & 246 & NA & 2014-09-03 & 2014 & 07:00\\\\\n",
       "\\end{tabular}\n"
      ],
      "text/markdown": [
       "\n",
       "A data.frame: 6 × 15\n",
       "\n",
       "| <!--/--> | occasione &lt;int&gt; | ALBA..A.T. &lt;fct&gt; | sessione &lt;int&gt; | trappole.posizionate &lt;int&gt; | trappoleattive &lt;int&gt; | n..trappole.inattive &lt;int&gt; | ID.trappole.inattive &lt;fct&gt; | neve....S.N. &lt;fct&gt; | copertura.nuvolosa....8. &lt;fct&gt; | Sito &lt;fct&gt; | DOY &lt;int&gt; | X &lt;lgl&gt; | Data.R &lt;date&gt; | Anno &lt;I&lt;chr&gt;&gt; | Orario.R &lt;chr&gt; |\n",
       "|---|---|---|---|---|---|---|---|---|---|---|---|---|---|---|---|\n",
       "| 1 | 1 | T | 2 | 30 | 30 | 0 | NA    | N | 2/8 | COGNE | 243 | NA | 2014-08-31 | 2014 | 17:00 |\n",
       "| 2 | 2 | A | 2 | 50 | 50 | 0 | NA    | N | 5/8 | COGNE | 244 | NA | 2014-09-01 | 2014 | 07:00 |\n",
       "| 3 | 3 | T | 2 | 70 | 68 | 2 | 51/56 | N | 0/8 | COGNE | 244 | NA | 2014-09-01 | 2014 | 17:00 |\n",
       "| 4 | 4 | A | 2 | 70 | 70 | 0 | NA    | N | 0/8 | COGNE | 245 | NA | 2014-09-02 | 2014 | 07:00 |\n",
       "| 5 | 5 | T | 2 | 70 | 70 | 0 | NA    | N | 0/8 | COGNE | 245 | NA | 2014-09-02 | 2014 | 17:00 |\n",
       "| 6 | 6 | A | 2 | 70 | 70 | 0 | NA    | N | 0/8 | COGNE | 246 | NA | 2014-09-03 | 2014 | 07:00 |\n",
       "\n"
      ],
      "text/plain": [
       "  occasione ALBA..A.T. sessione trappole.posizionate trappoleattive\n",
       "1 1         T          2        30                   30            \n",
       "2 2         A          2        50                   50            \n",
       "3 3         T          2        70                   68            \n",
       "4 4         A          2        70                   70            \n",
       "5 5         T          2        70                   70            \n",
       "6 6         A          2        70                   70            \n",
       "  n..trappole.inattive ID.trappole.inattive neve....S.N.\n",
       "1 0                    NA                   N           \n",
       "2 0                    NA                   N           \n",
       "3 2                    51/56                N           \n",
       "4 0                    NA                   N           \n",
       "5 0                    NA                   N           \n",
       "6 0                    NA                   N           \n",
       "  copertura.nuvolosa....8. Sito  DOY X  Data.R     Anno Orario.R\n",
       "1 2/8                      COGNE 243 NA 2014-08-31 2014 17:00   \n",
       "2 5/8                      COGNE 244 NA 2014-09-01 2014 07:00   \n",
       "3 0/8                      COGNE 244 NA 2014-09-01 2014 17:00   \n",
       "4 0/8                      COGNE 245 NA 2014-09-02 2014 07:00   \n",
       "5 0/8                      COGNE 245 NA 2014-09-02 2014 17:00   \n",
       "6 0/8                      COGNE 246 NA 2014-09-03 2014 07:00   "
      ]
     },
     "metadata": {},
     "output_type": "display_data"
    }
   ],
   "source": [
    "Datioccas <- Datioccas[!is.na(Datioccas$occasione), ]\n",
    "\n",
    "Datioccas[\"Data.R\"] <- as.Date(Datioccas$DATA, \"%d/%m/%Y\")\n",
    "Datioccas[\"Anno\"] <- format(Datioccas[\"Data.R\"],\"%Y\")\n",
    "# Eliminiamo la vecchia colonna Data\n",
    "Datioccas <- subset( Datioccas, select = -DATA)\n",
    "\n",
    "# Verifichiamo errori nella colonna relativa all'alba\n",
    "errori  <- subset(Datioccas,ALBA..A.T. != \"A\" & ALBA..A.T. != \"T\")\n",
    "if (nrow(errori) > 0) {\n",
    "    print(\"ATTENZIONE: Valori spuri\")\n",
    "    errori\n",
    "}\n",
    "\n",
    "# Aggiungiamo una colonna con l'orario stimato\n",
    "Datioccas$Orario.R <- lapply(Datioccas$ALBA..A.T., function(x) ifelse(x == \"A\",\"07:00\",\"17:00\"))\n",
    "Datioccas$Orario.R <- as.character(Datioccas$Orario.R)\n",
    "\n",
    "head(Datioccas)"
   ]
  },
  {
   "cell_type": "markdown",
   "metadata": {},
   "source": [
    "#### Unione dei dati sullo sforzo di campionamento e quelli metereologici"
   ]
  },
  {
   "cell_type": "code",
   "execution_count": 5,
   "metadata": {},
   "outputs": [
    {
     "data": {
      "text/html": [
       "<table>\n",
       "<caption>A data.frame: 6 × 17</caption>\n",
       "<thead>\n",
       "\t<tr><th></th><th scope=col>Data.R</th><th scope=col>Orario.R</th><th scope=col>occasione</th><th scope=col>ALBA..A.T.</th><th scope=col>sessione</th><th scope=col>trappole.posizionate</th><th scope=col>trappoleattive</th><th scope=col>n..trappole.inattive</th><th scope=col>ID.trappole.inattive</th><th scope=col>neve....S.N.</th><th scope=col>copertura.nuvolosa....8.</th><th scope=col>Sito</th><th scope=col>DOY</th><th scope=col>X</th><th scope=col>Anno</th><th scope=col>Precipitazioni</th><th scope=col>Temperatura.C</th></tr>\n",
       "\t<tr><th></th><th scope=col>&lt;date&gt;</th><th scope=col>&lt;chr&gt;</th><th scope=col>&lt;int&gt;</th><th scope=col>&lt;fct&gt;</th><th scope=col>&lt;int&gt;</th><th scope=col>&lt;int&gt;</th><th scope=col>&lt;int&gt;</th><th scope=col>&lt;int&gt;</th><th scope=col>&lt;fct&gt;</th><th scope=col>&lt;fct&gt;</th><th scope=col>&lt;fct&gt;</th><th scope=col>&lt;fct&gt;</th><th scope=col>&lt;int&gt;</th><th scope=col>&lt;lgl&gt;</th><th scope=col>&lt;I&lt;chr&gt;&gt;</th><th scope=col>&lt;dbl&gt;</th><th scope=col>&lt;dbl&gt;</th></tr>\n",
       "</thead>\n",
       "<tbody>\n",
       "\t<tr><th scope=row>1</th><td>2014-08-31</td><td>17:00</td><td>1</td><td>T</td><td>2</td><td>30</td><td>30</td><td>0</td><td>NA   </td><td>N</td><td>2/8</td><td>COGNE</td><td>243</td><td>NA</td><td>2014</td><td>0</td><td> 9.9</td></tr>\n",
       "\t<tr><th scope=row>2</th><td>2014-09-01</td><td>07:00</td><td>2</td><td>A</td><td>2</td><td>50</td><td>50</td><td>0</td><td>NA   </td><td>N</td><td>5/8</td><td>COGNE</td><td>244</td><td>NA</td><td>2014</td><td>0</td><td> 4.2</td></tr>\n",
       "\t<tr><th scope=row>3</th><td>2014-09-01</td><td>17:00</td><td>3</td><td>T</td><td>2</td><td>70</td><td>68</td><td>2</td><td>51/56</td><td>N</td><td>0/8</td><td>COGNE</td><td>244</td><td>NA</td><td>2014</td><td>0</td><td> 8.2</td></tr>\n",
       "\t<tr><th scope=row>4</th><td>2014-09-02</td><td>07:00</td><td>4</td><td>A</td><td>2</td><td>70</td><td>70</td><td>0</td><td>NA   </td><td>N</td><td>0/8</td><td>COGNE</td><td>245</td><td>NA</td><td>2014</td><td>0</td><td> 9.3</td></tr>\n",
       "\t<tr><th scope=row>5</th><td>2014-09-02</td><td>17:00</td><td>5</td><td>T</td><td>2</td><td>70</td><td>70</td><td>0</td><td>NA   </td><td>N</td><td>0/8</td><td>COGNE</td><td>245</td><td>NA</td><td>2014</td><td>0</td><td>10.7</td></tr>\n",
       "\t<tr><th scope=row>6</th><td>2014-09-03</td><td>07:00</td><td>6</td><td>A</td><td>2</td><td>70</td><td>70</td><td>0</td><td>NA   </td><td>N</td><td>0/8</td><td>COGNE</td><td>246</td><td>NA</td><td>2014</td><td>0</td><td> 5.1</td></tr>\n",
       "</tbody>\n",
       "</table>\n"
      ],
      "text/latex": [
       "A data.frame: 6 × 17\n",
       "\\begin{tabular}{r|lllllllllllllllll}\n",
       "  & Data.R & Orario.R & occasione & ALBA..A.T. & sessione & trappole.posizionate & trappoleattive & n..trappole.inattive & ID.trappole.inattive & neve....S.N. & copertura.nuvolosa....8. & Sito & DOY & X & Anno & Precipitazioni & Temperatura.C\\\\\n",
       "  & <date> & <chr> & <int> & <fct> & <int> & <int> & <int> & <int> & <fct> & <fct> & <fct> & <fct> & <int> & <lgl> & <I<chr>> & <dbl> & <dbl>\\\\\n",
       "\\hline\n",
       "\t1 & 2014-08-31 & 17:00 & 1 & T & 2 & 30 & 30 & 0 & NA    & N & 2/8 & COGNE & 243 & NA & 2014 & 0 &  9.9\\\\\n",
       "\t2 & 2014-09-01 & 07:00 & 2 & A & 2 & 50 & 50 & 0 & NA    & N & 5/8 & COGNE & 244 & NA & 2014 & 0 &  4.2\\\\\n",
       "\t3 & 2014-09-01 & 17:00 & 3 & T & 2 & 70 & 68 & 2 & 51/56 & N & 0/8 & COGNE & 244 & NA & 2014 & 0 &  8.2\\\\\n",
       "\t4 & 2014-09-02 & 07:00 & 4 & A & 2 & 70 & 70 & 0 & NA    & N & 0/8 & COGNE & 245 & NA & 2014 & 0 &  9.3\\\\\n",
       "\t5 & 2014-09-02 & 17:00 & 5 & T & 2 & 70 & 70 & 0 & NA    & N & 0/8 & COGNE & 245 & NA & 2014 & 0 & 10.7\\\\\n",
       "\t6 & 2014-09-03 & 07:00 & 6 & A & 2 & 70 & 70 & 0 & NA    & N & 0/8 & COGNE & 246 & NA & 2014 & 0 &  5.1\\\\\n",
       "\\end{tabular}\n"
      ],
      "text/markdown": [
       "\n",
       "A data.frame: 6 × 17\n",
       "\n",
       "| <!--/--> | Data.R &lt;date&gt; | Orario.R &lt;chr&gt; | occasione &lt;int&gt; | ALBA..A.T. &lt;fct&gt; | sessione &lt;int&gt; | trappole.posizionate &lt;int&gt; | trappoleattive &lt;int&gt; | n..trappole.inattive &lt;int&gt; | ID.trappole.inattive &lt;fct&gt; | neve....S.N. &lt;fct&gt; | copertura.nuvolosa....8. &lt;fct&gt; | Sito &lt;fct&gt; | DOY &lt;int&gt; | X &lt;lgl&gt; | Anno &lt;I&lt;chr&gt;&gt; | Precipitazioni &lt;dbl&gt; | Temperatura.C &lt;dbl&gt; |\n",
       "|---|---|---|---|---|---|---|---|---|---|---|---|---|---|---|---|---|---|\n",
       "| 1 | 2014-08-31 | 17:00 | 1 | T | 2 | 30 | 30 | 0 | NA    | N | 2/8 | COGNE | 243 | NA | 2014 | 0 |  9.9 |\n",
       "| 2 | 2014-09-01 | 07:00 | 2 | A | 2 | 50 | 50 | 0 | NA    | N | 5/8 | COGNE | 244 | NA | 2014 | 0 |  4.2 |\n",
       "| 3 | 2014-09-01 | 17:00 | 3 | T | 2 | 70 | 68 | 2 | 51/56 | N | 0/8 | COGNE | 244 | NA | 2014 | 0 |  8.2 |\n",
       "| 4 | 2014-09-02 | 07:00 | 4 | A | 2 | 70 | 70 | 0 | NA    | N | 0/8 | COGNE | 245 | NA | 2014 | 0 |  9.3 |\n",
       "| 5 | 2014-09-02 | 17:00 | 5 | T | 2 | 70 | 70 | 0 | NA    | N | 0/8 | COGNE | 245 | NA | 2014 | 0 | 10.7 |\n",
       "| 6 | 2014-09-03 | 07:00 | 6 | A | 2 | 70 | 70 | 0 | NA    | N | 0/8 | COGNE | 246 | NA | 2014 | 0 |  5.1 |\n",
       "\n"
      ],
      "text/plain": [
       "  Data.R     Orario.R occasione ALBA..A.T. sessione trappole.posizionate\n",
       "1 2014-08-31 17:00    1         T          2        30                  \n",
       "2 2014-09-01 07:00    2         A          2        50                  \n",
       "3 2014-09-01 17:00    3         T          2        70                  \n",
       "4 2014-09-02 07:00    4         A          2        70                  \n",
       "5 2014-09-02 17:00    5         T          2        70                  \n",
       "6 2014-09-03 07:00    6         A          2        70                  \n",
       "  trappoleattive n..trappole.inattive ID.trappole.inattive neve....S.N.\n",
       "1 30             0                    NA                   N           \n",
       "2 50             0                    NA                   N           \n",
       "3 68             2                    51/56                N           \n",
       "4 70             0                    NA                   N           \n",
       "5 70             0                    NA                   N           \n",
       "6 70             0                    NA                   N           \n",
       "  copertura.nuvolosa....8. Sito  DOY X  Anno Precipitazioni Temperatura.C\n",
       "1 2/8                      COGNE 243 NA 2014 0               9.9         \n",
       "2 5/8                      COGNE 244 NA 2014 0               4.2         \n",
       "3 0/8                      COGNE 244 NA 2014 0               8.2         \n",
       "4 0/8                      COGNE 245 NA 2014 0               9.3         \n",
       "5 0/8                      COGNE 245 NA 2014 0              10.7         \n",
       "6 0/8                      COGNE 246 NA 2014 0               5.1         "
      ]
     },
     "metadata": {},
     "output_type": "display_data"
    }
   ],
   "source": [
    "Datioccas <- merge(Datioccas,temp_prec_grand_crot)\n",
    "head(Datioccas)"
   ]
  },
  {
   "cell_type": "markdown",
   "metadata": {},
   "source": [
    "### Dati Catture\n",
    "\n",
    "#### I dati delle catture vanno puliti. Andiamo a rimuovere i campi vuoti ed indeterminati, sostituendoli con NA"
   ]
  },
  {
   "cell_type": "code",
   "execution_count": 6,
   "metadata": {},
   "outputs": [
    {
     "data": {
      "text/html": [
       "<table>\n",
       "<caption>A data.frame: 6 × 15</caption>\n",
       "<thead>\n",
       "\t<tr><th></th><th scope=col>ID_cattura</th><th scope=col>DATA</th><th scope=col>ALBA</th><th scope=col>sessione</th><th scope=col>occasione</th><th scope=col>ID_TRAPPOLA</th><th scope=col>chip</th><th scope=col>ricattura</th><th scope=col>pelo</th><th scope=col>peso..g.</th><th scope=col>sex</th><th scope=col>eta</th><th scope=col>statoripr</th><th scope=col>NOTE</th><th scope=col>DOY</th></tr>\n",
       "\t<tr><th></th><th scope=col>&lt;int&gt;</th><th scope=col>&lt;fct&gt;</th><th scope=col>&lt;fct&gt;</th><th scope=col>&lt;int&gt;</th><th scope=col>&lt;int&gt;</th><th scope=col>&lt;fct&gt;</th><th scope=col>&lt;fct&gt;</th><th scope=col>&lt;fct&gt;</th><th scope=col>&lt;fct&gt;</th><th scope=col>&lt;int&gt;</th><th scope=col>&lt;fct&gt;</th><th scope=col>&lt;fct&gt;</th><th scope=col>&lt;fct&gt;</th><th scope=col>&lt;fct&gt;</th><th scope=col>&lt;int&gt;</th></tr>\n",
       "</thead>\n",
       "<tbody>\n",
       "\t<tr><th scope=row>1</th><td>1</td><td>31/08/2014</td><td>T</td><td>1</td><td>1</td><td>11</td><td>1315302</td><td>N </td><td>NA  </td><td>36</td><td>F</td><td>A</td><td>NR</td><td>NA</td><td>243</td></tr>\n",
       "\t<tr><th scope=row>2</th><td>2</td><td>01/09/2014</td><td>A</td><td>1</td><td>2</td><td>6 </td><td>NA     </td><td>N </td><td>SI  </td><td>35</td><td>F</td><td>A</td><td>NR</td><td>NA</td><td>244</td></tr>\n",
       "\t<tr><th scope=row>3</th><td>3</td><td>01/09/2014</td><td>A</td><td>1</td><td>2</td><td>11</td><td>NA     </td><td>N </td><td>SI e</td><td>41</td><td>M</td><td>A</td><td>R </td><td>NA</td><td>244</td></tr>\n",
       "\t<tr><th scope=row>4</th><td>4</td><td>01/09/2014</td><td>A</td><td>1</td><td>2</td><td>35</td><td>1314921</td><td>N </td><td>NA  </td><td>39</td><td>F</td><td>A</td><td>NA</td><td>NA</td><td>244</td></tr>\n",
       "\t<tr><th scope=row>5</th><td>5</td><td>01/09/2014</td><td>A</td><td>1</td><td>2</td><td>45</td><td>1314375</td><td>N </td><td>NA  </td><td>33</td><td>M</td><td>G</td><td>NR</td><td>NA</td><td>244</td></tr>\n",
       "\t<tr><th scope=row>6</th><td>6</td><td>01/09/2014</td><td>T</td><td>1</td><td>3</td><td>26</td><td>1314305</td><td>N </td><td>NA  </td><td>45</td><td>M</td><td>A</td><td>R </td><td>NA</td><td>244</td></tr>\n",
       "</tbody>\n",
       "</table>\n"
      ],
      "text/latex": [
       "A data.frame: 6 × 15\n",
       "\\begin{tabular}{r|lllllllllllllll}\n",
       "  & ID\\_cattura & DATA & ALBA & sessione & occasione & ID\\_TRAPPOLA & chip & ricattura & pelo & peso..g. & sex & eta & statoripr & NOTE & DOY\\\\\n",
       "  & <int> & <fct> & <fct> & <int> & <int> & <fct> & <fct> & <fct> & <fct> & <int> & <fct> & <fct> & <fct> & <fct> & <int>\\\\\n",
       "\\hline\n",
       "\t1 & 1 & 31/08/2014 & T & 1 & 1 & 11 & 1315302 & N  & NA   & 36 & F & A & NR & NA & 243\\\\\n",
       "\t2 & 2 & 01/09/2014 & A & 1 & 2 & 6  & NA      & N  & SI   & 35 & F & A & NR & NA & 244\\\\\n",
       "\t3 & 3 & 01/09/2014 & A & 1 & 2 & 11 & NA      & N  & SI e & 41 & M & A & R  & NA & 244\\\\\n",
       "\t4 & 4 & 01/09/2014 & A & 1 & 2 & 35 & 1314921 & N  & NA   & 39 & F & A & NA & NA & 244\\\\\n",
       "\t5 & 5 & 01/09/2014 & A & 1 & 2 & 45 & 1314375 & N  & NA   & 33 & M & G & NR & NA & 244\\\\\n",
       "\t6 & 6 & 01/09/2014 & T & 1 & 3 & 26 & 1314305 & N  & NA   & 45 & M & A & R  & NA & 244\\\\\n",
       "\\end{tabular}\n"
      ],
      "text/markdown": [
       "\n",
       "A data.frame: 6 × 15\n",
       "\n",
       "| <!--/--> | ID_cattura &lt;int&gt; | DATA &lt;fct&gt; | ALBA &lt;fct&gt; | sessione &lt;int&gt; | occasione &lt;int&gt; | ID_TRAPPOLA &lt;fct&gt; | chip &lt;fct&gt; | ricattura &lt;fct&gt; | pelo &lt;fct&gt; | peso..g. &lt;int&gt; | sex &lt;fct&gt; | eta &lt;fct&gt; | statoripr &lt;fct&gt; | NOTE &lt;fct&gt; | DOY &lt;int&gt; |\n",
       "|---|---|---|---|---|---|---|---|---|---|---|---|---|---|---|---|\n",
       "| 1 | 1 | 31/08/2014 | T | 1 | 1 | 11 | 1315302 | N  | NA   | 36 | F | A | NR | NA | 243 |\n",
       "| 2 | 2 | 01/09/2014 | A | 1 | 2 | 6  | NA      | N  | SI   | 35 | F | A | NR | NA | 244 |\n",
       "| 3 | 3 | 01/09/2014 | A | 1 | 2 | 11 | NA      | N  | SI e | 41 | M | A | R  | NA | 244 |\n",
       "| 4 | 4 | 01/09/2014 | A | 1 | 2 | 35 | 1314921 | N  | NA   | 39 | F | A | NA | NA | 244 |\n",
       "| 5 | 5 | 01/09/2014 | A | 1 | 2 | 45 | 1314375 | N  | NA   | 33 | M | G | NR | NA | 244 |\n",
       "| 6 | 6 | 01/09/2014 | T | 1 | 3 | 26 | 1314305 | N  | NA   | 45 | M | A | R  | NA | 244 |\n",
       "\n"
      ],
      "text/plain": [
       "  ID_cattura DATA       ALBA sessione occasione ID_TRAPPOLA chip    ricattura\n",
       "1 1          31/08/2014 T    1        1         11          1315302 N        \n",
       "2 2          01/09/2014 A    1        2         6           NA      N        \n",
       "3 3          01/09/2014 A    1        2         11          NA      N        \n",
       "4 4          01/09/2014 A    1        2         35          1314921 N        \n",
       "5 5          01/09/2014 A    1        2         45          1314375 N        \n",
       "6 6          01/09/2014 T    1        3         26          1314305 N        \n",
       "  pelo peso..g. sex eta statoripr NOTE DOY\n",
       "1 NA   36       F   A   NR        NA   243\n",
       "2 SI   35       F   A   NR        NA   244\n",
       "3 SI e 41       M   A   R         NA   244\n",
       "4 NA   39       F   A   NA        NA   244\n",
       "5 NA   33       M   G   NR        NA   244\n",
       "6 NA   45       M   A   R         NA   244"
      ]
     },
     "metadata": {},
     "output_type": "display_data"
    }
   ],
   "source": [
    "Daticatt[Daticatt==\"\"] <- NA\n",
    "Daticatt[Daticatt==\"IND\"] <- NA\n",
    "# Verifichiamo errori nella colonna relativa all'alba\n",
    "\n",
    "errori  <- subset(Daticatt,ALBA != \"A\" & ALBA != \"T\")\n",
    "if (nrow(errori) > 0) {\n",
    "    print(\"ATTENZIONE: Valori spuri\")\n",
    "    errori\n",
    "}\n",
    "head(Daticatt)"
   ]
  },
  {
   "cell_type": "code",
   "execution_count": 7,
   "metadata": {},
   "outputs": [],
   "source": [
    "# Per usi futuri\n",
    "#Daticatt[\"Marcatura\"] <- paste(Daticatt$chip,Daticatt$pelo)"
   ]
  },
  {
   "cell_type": "markdown",
   "metadata": {},
   "source": [
    "#### Trasformiamo la Data in formato comprensibile da R ed aggiungiamo una colonna per semplificare le analisi di anno in anno"
   ]
  },
  {
   "cell_type": "code",
   "execution_count": 8,
   "metadata": {},
   "outputs": [],
   "source": [
    "Daticatt[\"Data_R\"] <- as.Date(Daticatt$DATA, \"%d/%m/%Y\")\n",
    "Daticatt[\"Anno\"] <- format(Daticatt[\"Data_R\"],\"%Y\")\n",
    "# Eliminiamo la vecchia colonna Data\n",
    "Daticatt <- subset( Daticatt, select = -DATA)"
   ]
  },
  {
   "cell_type": "code",
   "execution_count": 9,
   "metadata": {},
   "outputs": [
    {
     "data": {
      "text/html": [
       "<table>\n",
       "<caption>A data.frame: 6 × 16</caption>\n",
       "<thead>\n",
       "\t<tr><th></th><th scope=col>ID_cattura</th><th scope=col>ALBA</th><th scope=col>sessione</th><th scope=col>occasione</th><th scope=col>ID_TRAPPOLA</th><th scope=col>chip</th><th scope=col>ricattura</th><th scope=col>pelo</th><th scope=col>peso..g.</th><th scope=col>sex</th><th scope=col>eta</th><th scope=col>statoripr</th><th scope=col>NOTE</th><th scope=col>DOY</th><th scope=col>Data_R</th><th scope=col>Anno</th></tr>\n",
       "\t<tr><th></th><th scope=col>&lt;int&gt;</th><th scope=col>&lt;fct&gt;</th><th scope=col>&lt;int&gt;</th><th scope=col>&lt;int&gt;</th><th scope=col>&lt;fct&gt;</th><th scope=col>&lt;fct&gt;</th><th scope=col>&lt;fct&gt;</th><th scope=col>&lt;fct&gt;</th><th scope=col>&lt;int&gt;</th><th scope=col>&lt;fct&gt;</th><th scope=col>&lt;fct&gt;</th><th scope=col>&lt;fct&gt;</th><th scope=col>&lt;fct&gt;</th><th scope=col>&lt;int&gt;</th><th scope=col>&lt;date&gt;</th><th scope=col>&lt;I&lt;chr&gt;&gt;</th></tr>\n",
       "</thead>\n",
       "<tbody>\n",
       "\t<tr><th scope=row>1</th><td>1</td><td>T</td><td>1</td><td>1</td><td>11</td><td>1315302</td><td>N </td><td>NA  </td><td>36</td><td>F</td><td>A</td><td>NR</td><td>NA</td><td>243</td><td>2014-08-31</td><td>2014</td></tr>\n",
       "\t<tr><th scope=row>2</th><td>2</td><td>A</td><td>1</td><td>2</td><td>6 </td><td>NA     </td><td>N </td><td>SI  </td><td>35</td><td>F</td><td>A</td><td>NR</td><td>NA</td><td>244</td><td>2014-09-01</td><td>2014</td></tr>\n",
       "\t<tr><th scope=row>3</th><td>3</td><td>A</td><td>1</td><td>2</td><td>11</td><td>NA     </td><td>N </td><td>SI e</td><td>41</td><td>M</td><td>A</td><td>R </td><td>NA</td><td>244</td><td>2014-09-01</td><td>2014</td></tr>\n",
       "\t<tr><th scope=row>4</th><td>4</td><td>A</td><td>1</td><td>2</td><td>35</td><td>1314921</td><td>N </td><td>NA  </td><td>39</td><td>F</td><td>A</td><td>NA</td><td>NA</td><td>244</td><td>2014-09-01</td><td>2014</td></tr>\n",
       "\t<tr><th scope=row>5</th><td>5</td><td>A</td><td>1</td><td>2</td><td>45</td><td>1314375</td><td>N </td><td>NA  </td><td>33</td><td>M</td><td>G</td><td>NR</td><td>NA</td><td>244</td><td>2014-09-01</td><td>2014</td></tr>\n",
       "\t<tr><th scope=row>6</th><td>6</td><td>T</td><td>1</td><td>3</td><td>26</td><td>1314305</td><td>N </td><td>NA  </td><td>45</td><td>M</td><td>A</td><td>R </td><td>NA</td><td>244</td><td>2014-09-01</td><td>2014</td></tr>\n",
       "</tbody>\n",
       "</table>\n"
      ],
      "text/latex": [
       "A data.frame: 6 × 16\n",
       "\\begin{tabular}{r|llllllllllllllll}\n",
       "  & ID\\_cattura & ALBA & sessione & occasione & ID\\_TRAPPOLA & chip & ricattura & pelo & peso..g. & sex & eta & statoripr & NOTE & DOY & Data\\_R & Anno\\\\\n",
       "  & <int> & <fct> & <int> & <int> & <fct> & <fct> & <fct> & <fct> & <int> & <fct> & <fct> & <fct> & <fct> & <int> & <date> & <I<chr>>\\\\\n",
       "\\hline\n",
       "\t1 & 1 & T & 1 & 1 & 11 & 1315302 & N  & NA   & 36 & F & A & NR & NA & 243 & 2014-08-31 & 2014\\\\\n",
       "\t2 & 2 & A & 1 & 2 & 6  & NA      & N  & SI   & 35 & F & A & NR & NA & 244 & 2014-09-01 & 2014\\\\\n",
       "\t3 & 3 & A & 1 & 2 & 11 & NA      & N  & SI e & 41 & M & A & R  & NA & 244 & 2014-09-01 & 2014\\\\\n",
       "\t4 & 4 & A & 1 & 2 & 35 & 1314921 & N  & NA   & 39 & F & A & NA & NA & 244 & 2014-09-01 & 2014\\\\\n",
       "\t5 & 5 & A & 1 & 2 & 45 & 1314375 & N  & NA   & 33 & M & G & NR & NA & 244 & 2014-09-01 & 2014\\\\\n",
       "\t6 & 6 & T & 1 & 3 & 26 & 1314305 & N  & NA   & 45 & M & A & R  & NA & 244 & 2014-09-01 & 2014\\\\\n",
       "\\end{tabular}\n"
      ],
      "text/markdown": [
       "\n",
       "A data.frame: 6 × 16\n",
       "\n",
       "| <!--/--> | ID_cattura &lt;int&gt; | ALBA &lt;fct&gt; | sessione &lt;int&gt; | occasione &lt;int&gt; | ID_TRAPPOLA &lt;fct&gt; | chip &lt;fct&gt; | ricattura &lt;fct&gt; | pelo &lt;fct&gt; | peso..g. &lt;int&gt; | sex &lt;fct&gt; | eta &lt;fct&gt; | statoripr &lt;fct&gt; | NOTE &lt;fct&gt; | DOY &lt;int&gt; | Data_R &lt;date&gt; | Anno &lt;I&lt;chr&gt;&gt; |\n",
       "|---|---|---|---|---|---|---|---|---|---|---|---|---|---|---|---|---|\n",
       "| 1 | 1 | T | 1 | 1 | 11 | 1315302 | N  | NA   | 36 | F | A | NR | NA | 243 | 2014-08-31 | 2014 |\n",
       "| 2 | 2 | A | 1 | 2 | 6  | NA      | N  | SI   | 35 | F | A | NR | NA | 244 | 2014-09-01 | 2014 |\n",
       "| 3 | 3 | A | 1 | 2 | 11 | NA      | N  | SI e | 41 | M | A | R  | NA | 244 | 2014-09-01 | 2014 |\n",
       "| 4 | 4 | A | 1 | 2 | 35 | 1314921 | N  | NA   | 39 | F | A | NA | NA | 244 | 2014-09-01 | 2014 |\n",
       "| 5 | 5 | A | 1 | 2 | 45 | 1314375 | N  | NA   | 33 | M | G | NR | NA | 244 | 2014-09-01 | 2014 |\n",
       "| 6 | 6 | T | 1 | 3 | 26 | 1314305 | N  | NA   | 45 | M | A | R  | NA | 244 | 2014-09-01 | 2014 |\n",
       "\n"
      ],
      "text/plain": [
       "  ID_cattura ALBA sessione occasione ID_TRAPPOLA chip    ricattura pelo\n",
       "1 1          T    1        1         11          1315302 N         NA  \n",
       "2 2          A    1        2         6           NA      N         SI  \n",
       "3 3          A    1        2         11          NA      N         SI e\n",
       "4 4          A    1        2         35          1314921 N         NA  \n",
       "5 5          A    1        2         45          1314375 N         NA  \n",
       "6 6          T    1        3         26          1314305 N         NA  \n",
       "  peso..g. sex eta statoripr NOTE DOY Data_R     Anno\n",
       "1 36       F   A   NR        NA   243 2014-08-31 2014\n",
       "2 35       F   A   NR        NA   244 2014-09-01 2014\n",
       "3 41       M   A   R         NA   244 2014-09-01 2014\n",
       "4 39       F   A   NA        NA   244 2014-09-01 2014\n",
       "5 33       M   G   NR        NA   244 2014-09-01 2014\n",
       "6 45       M   A   R         NA   244 2014-09-01 2014"
      ]
     },
     "metadata": {},
     "output_type": "display_data"
    }
   ],
   "source": [
    "head(Daticatt)"
   ]
  },
  {
   "cell_type": "markdown",
   "metadata": {},
   "source": [
    "#### Per alcune analisi, risulta utile unire il dataframe delle catture con quello delle trappole"
   ]
  },
  {
   "cell_type": "code",
   "execution_count": 10,
   "metadata": {},
   "outputs": [],
   "source": [
    "mergedData <- merge(Daticatt, Datitrap, by.x=c(\"ID_TRAPPOLA\"), by.y=c(\"ID_TRAP\"))"
   ]
  },
  {
   "cell_type": "code",
   "execution_count": 11,
   "metadata": {},
   "outputs": [
    {
     "data": {
      "text/html": [
       "<table>\n",
       "<caption>A data.frame: 6 × 37</caption>\n",
       "<thead>\n",
       "\t<tr><th></th><th scope=col>ID_TRAPPOLA</th><th scope=col>ID_cattura</th><th scope=col>ALBA</th><th scope=col>sessione</th><th scope=col>occasione</th><th scope=col>chip</th><th scope=col>ricattura</th><th scope=col>pelo</th><th scope=col>peso..g.</th><th scope=col>sex</th><th scope=col>...</th><th scope=col>aspect_deg</th><th scope=col>slope_degr</th><th scope=col>X..COP..VEG..2015</th><th scope=col>X..COP..VEG..2018</th><th scope=col>n_species</th><th scope=col>dominant</th><th scope=col>distanza.trappole..cm...da.75a1.</th><th scope=col>angolo.trappole..gradi.AZ..da75a1.</th><th scope=col>Cop_Veg_2015_ottavi</th><th scope=col>Cop_Veg_2018_ottavi</th></tr>\n",
       "\t<tr><th></th><th scope=col>&lt;fct&gt;</th><th scope=col>&lt;int&gt;</th><th scope=col>&lt;fct&gt;</th><th scope=col>&lt;int&gt;</th><th scope=col>&lt;int&gt;</th><th scope=col>&lt;fct&gt;</th><th scope=col>&lt;fct&gt;</th><th scope=col>&lt;fct&gt;</th><th scope=col>&lt;int&gt;</th><th scope=col>&lt;fct&gt;</th><th scope=col>...</th><th scope=col>&lt;int&gt;</th><th scope=col>&lt;int&gt;</th><th scope=col>&lt;int&gt;</th><th scope=col>&lt;dbl&gt;</th><th scope=col>&lt;int&gt;</th><th scope=col>&lt;fct&gt;</th><th scope=col>&lt;int&gt;</th><th scope=col>&lt;int&gt;</th><th scope=col>&lt;dbl&gt;</th><th scope=col>&lt;dbl&gt;</th></tr>\n",
       "</thead>\n",
       "<tbody>\n",
       "\t<tr><th scope=row>1</th><td>10</td><td>19</td><td>A</td><td>1</td><td>10</td><td>NA     </td><td>R </td><td>SI 8 </td><td>31</td><td>F</td><td>...</td><td>343</td><td>0</td><td>35</td><td>37.5</td><td>20</td><td>Graminacee   </td><td> 833</td><td>298</td><td>2.8</td><td>3</td></tr>\n",
       "\t<tr><th scope=row>2</th><td>10</td><td>14</td><td>A</td><td>1</td><td>12</td><td>1317018</td><td>R </td><td>E    </td><td>34</td><td>F</td><td>...</td><td>343</td><td>0</td><td>35</td><td>37.5</td><td>20</td><td>Graminacee   </td><td> 833</td><td>298</td><td>2.8</td><td>3</td></tr>\n",
       "\t<tr><th scope=row>3</th><td>10</td><td>33</td><td>A</td><td>2</td><td> 3</td><td>NA     </td><td>N </td><td>Eg/Fg</td><td>31</td><td>M</td><td>...</td><td>343</td><td>0</td><td>35</td><td>37.5</td><td>20</td><td>Graminacee   </td><td> 833</td><td>298</td><td>2.8</td><td>3</td></tr>\n",
       "\t<tr><th scope=row>4</th><td>11</td><td>28</td><td>A</td><td>1</td><td>13</td><td>NA     </td><td>R?</td><td>D/Fb </td><td>27</td><td>M</td><td>...</td><td>328</td><td>0</td><td> 5</td><td> 0.0</td><td> 7</td><td>Oxyria digyna</td><td>1166</td><td>304</td><td>0.4</td><td>0</td></tr>\n",
       "\t<tr><th scope=row>5</th><td>11</td><td> 3</td><td>A</td><td>1</td><td> 2</td><td>NA     </td><td>N </td><td>SI e </td><td>41</td><td>M</td><td>...</td><td>328</td><td>0</td><td> 5</td><td> 0.0</td><td> 7</td><td>Oxyria digyna</td><td>1166</td><td>304</td><td>0.4</td><td>0</td></tr>\n",
       "\t<tr><th scope=row>6</th><td>11</td><td>60</td><td>A</td><td>2</td><td>11</td><td>NA     </td><td>N </td><td>Eg/Fb</td><td>25</td><td>F</td><td>...</td><td>328</td><td>0</td><td> 5</td><td> 0.0</td><td> 7</td><td>Oxyria digyna</td><td>1166</td><td>304</td><td>0.4</td><td>0</td></tr>\n",
       "</tbody>\n",
       "</table>\n"
      ],
      "text/latex": [
       "A data.frame: 6 × 37\n",
       "\\begin{tabular}{r|lllllllllllllllllllll}\n",
       "  & ID\\_TRAPPOLA & ID\\_cattura & ALBA & sessione & occasione & chip & ricattura & pelo & peso..g. & sex & ... & aspect\\_deg & slope\\_degr & X..COP..VEG..2015 & X..COP..VEG..2018 & n\\_species & dominant & distanza.trappole..cm...da.75a1. & angolo.trappole..gradi.AZ..da75a1. & Cop\\_Veg\\_2015\\_ottavi & Cop\\_Veg\\_2018\\_ottavi\\\\\n",
       "  & <fct> & <int> & <fct> & <int> & <int> & <fct> & <fct> & <fct> & <int> & <fct> & ... & <int> & <int> & <int> & <dbl> & <int> & <fct> & <int> & <int> & <dbl> & <dbl>\\\\\n",
       "\\hline\n",
       "\t1 & 10 & 19 & A & 1 & 10 & NA      & R  & SI 8  & 31 & F & ... & 343 & 0 & 35 & 37.5 & 20 & Graminacee    &  833 & 298 & 2.8 & 3\\\\\n",
       "\t2 & 10 & 14 & A & 1 & 12 & 1317018 & R  & E     & 34 & F & ... & 343 & 0 & 35 & 37.5 & 20 & Graminacee    &  833 & 298 & 2.8 & 3\\\\\n",
       "\t3 & 10 & 33 & A & 2 &  3 & NA      & N  & Eg/Fg & 31 & M & ... & 343 & 0 & 35 & 37.5 & 20 & Graminacee    &  833 & 298 & 2.8 & 3\\\\\n",
       "\t4 & 11 & 28 & A & 1 & 13 & NA      & R? & D/Fb  & 27 & M & ... & 328 & 0 &  5 &  0.0 &  7 & Oxyria digyna & 1166 & 304 & 0.4 & 0\\\\\n",
       "\t5 & 11 &  3 & A & 1 &  2 & NA      & N  & SI e  & 41 & M & ... & 328 & 0 &  5 &  0.0 &  7 & Oxyria digyna & 1166 & 304 & 0.4 & 0\\\\\n",
       "\t6 & 11 & 60 & A & 2 & 11 & NA      & N  & Eg/Fb & 25 & F & ... & 328 & 0 &  5 &  0.0 &  7 & Oxyria digyna & 1166 & 304 & 0.4 & 0\\\\\n",
       "\\end{tabular}\n"
      ],
      "text/markdown": [
       "\n",
       "A data.frame: 6 × 37\n",
       "\n",
       "| <!--/--> | ID_TRAPPOLA &lt;fct&gt; | ID_cattura &lt;int&gt; | ALBA &lt;fct&gt; | sessione &lt;int&gt; | occasione &lt;int&gt; | chip &lt;fct&gt; | ricattura &lt;fct&gt; | pelo &lt;fct&gt; | peso..g. &lt;int&gt; | sex &lt;fct&gt; | ... ... | aspect_deg &lt;int&gt; | slope_degr &lt;int&gt; | X..COP..VEG..2015 &lt;int&gt; | X..COP..VEG..2018 &lt;dbl&gt; | n_species &lt;int&gt; | dominant &lt;fct&gt; | distanza.trappole..cm...da.75a1. &lt;int&gt; | angolo.trappole..gradi.AZ..da75a1. &lt;int&gt; | Cop_Veg_2015_ottavi &lt;dbl&gt; | Cop_Veg_2018_ottavi &lt;dbl&gt; |\n",
       "|---|---|---|---|---|---|---|---|---|---|---|---|---|---|---|---|---|---|---|---|---|---|\n",
       "| 1 | 10 | 19 | A | 1 | 10 | NA      | R  | SI 8  | 31 | F | ... | 343 | 0 | 35 | 37.5 | 20 | Graminacee    |  833 | 298 | 2.8 | 3 |\n",
       "| 2 | 10 | 14 | A | 1 | 12 | 1317018 | R  | E     | 34 | F | ... | 343 | 0 | 35 | 37.5 | 20 | Graminacee    |  833 | 298 | 2.8 | 3 |\n",
       "| 3 | 10 | 33 | A | 2 |  3 | NA      | N  | Eg/Fg | 31 | M | ... | 343 | 0 | 35 | 37.5 | 20 | Graminacee    |  833 | 298 | 2.8 | 3 |\n",
       "| 4 | 11 | 28 | A | 1 | 13 | NA      | R? | D/Fb  | 27 | M | ... | 328 | 0 |  5 |  0.0 |  7 | Oxyria digyna | 1166 | 304 | 0.4 | 0 |\n",
       "| 5 | 11 |  3 | A | 1 |  2 | NA      | N  | SI e  | 41 | M | ... | 328 | 0 |  5 |  0.0 |  7 | Oxyria digyna | 1166 | 304 | 0.4 | 0 |\n",
       "| 6 | 11 | 60 | A | 2 | 11 | NA      | N  | Eg/Fb | 25 | F | ... | 328 | 0 |  5 |  0.0 |  7 | Oxyria digyna | 1166 | 304 | 0.4 | 0 |\n",
       "\n"
      ],
      "text/plain": [
       "  ID_TRAPPOLA ID_cattura ALBA sessione occasione chip    ricattura pelo \n",
       "1 10          19         A    1        10        NA      R         SI 8 \n",
       "2 10          14         A    1        12        1317018 R         E    \n",
       "3 10          33         A    2         3        NA      N         Eg/Fg\n",
       "4 11          28         A    1        13        NA      R?        D/Fb \n",
       "5 11           3         A    1         2        NA      N         SI e \n",
       "6 11          60         A    2        11        NA      N         Eg/Fb\n",
       "  peso..g. sex ... aspect_deg slope_degr X..COP..VEG..2015 X..COP..VEG..2018\n",
       "1 31       F   ... 343        0          35                37.5             \n",
       "2 34       F   ... 343        0          35                37.5             \n",
       "3 31       M   ... 343        0          35                37.5             \n",
       "4 27       M   ... 328        0           5                 0.0             \n",
       "5 41       M   ... 328        0           5                 0.0             \n",
       "6 25       F   ... 328        0           5                 0.0             \n",
       "  n_species dominant      distanza.trappole..cm...da.75a1.\n",
       "1 20        Graminacee     833                            \n",
       "2 20        Graminacee     833                            \n",
       "3 20        Graminacee     833                            \n",
       "4  7        Oxyria digyna 1166                            \n",
       "5  7        Oxyria digyna 1166                            \n",
       "6  7        Oxyria digyna 1166                            \n",
       "  angolo.trappole..gradi.AZ..da75a1. Cop_Veg_2015_ottavi Cop_Veg_2018_ottavi\n",
       "1 298                                2.8                 3                  \n",
       "2 298                                2.8                 3                  \n",
       "3 298                                2.8                 3                  \n",
       "4 304                                0.4                 0                  \n",
       "5 304                                0.4                 0                  \n",
       "6 304                                0.4                 0                  "
      ]
     },
     "metadata": {},
     "output_type": "display_data"
    }
   ],
   "source": [
    "head(mergedData) "
   ]
  },
  {
   "cell_type": "markdown",
   "metadata": {},
   "source": [
    "### Sono stati creati e salvati i nuovi dataframe da utilizzare per le analisi"
   ]
  },
  {
   "cell_type": "code",
   "execution_count": 12,
   "metadata": {},
   "outputs": [],
   "source": [
    "write.csv2(Daticatt,\"Dati-elaborati\\\\Dati-catture.csv\", row.names = FALSE)\n",
    "write.csv2(Datitrap,\"Dati-elaborati\\\\Dati-trappole.csv\", row.names = FALSE)\n",
    "write.csv2(Datioccas,\"Dati-elaborati\\\\Dati-occasioni.csv\", row.names = FALSE)\n",
    "write.csv2(mergedData,\"Dati-elaborati\\\\Dati-catture-trappole.csv\", row.names = FALSE)"
   ]
  },
  {
   "cell_type": "code",
   "execution_count": 13,
   "metadata": {},
   "outputs": [
    {
     "data": {
      "text/html": [
       "<table>\n",
       "<caption>A data.frame: 6 × 9</caption>\n",
       "<thead>\n",
       "\t<tr><th></th><th scope=col>Diametro.roccia.1..cm.</th><th scope=col>Diametro.roccia.2..cm.</th><th scope=col>Diametro.roccia.3..cm.</th><th scope=col>alt_m</th><th scope=col>aspect_deg</th><th scope=col>slope_degr</th><th scope=col>n_species</th><th scope=col>dominant</th><th scope=col>Cop_Veg_2018_ottavi</th></tr>\n",
       "\t<tr><th></th><th scope=col>&lt;int&gt;</th><th scope=col>&lt;int&gt;</th><th scope=col>&lt;int&gt;</th><th scope=col>&lt;dbl&gt;</th><th scope=col>&lt;int&gt;</th><th scope=col>&lt;int&gt;</th><th scope=col>&lt;int&gt;</th><th scope=col>&lt;chr&gt;</th><th scope=col>&lt;dbl&gt;</th></tr>\n",
       "</thead>\n",
       "<tbody>\n",
       "\t<tr><th scope=row>1</th><td> 59</td><td>96</td><td>102</td><td>2782.206</td><td>234</td><td>13</td><td>23</td><td>Graminacee</td><td>5</td></tr>\n",
       "\t<tr><th scope=row>2</th><td>176</td><td>42</td><td> 76</td><td>2781.136</td><td>294</td><td>16</td><td>16</td><td>Graminacee</td><td>2</td></tr>\n",
       "\t<tr><th scope=row>3</th><td> 51</td><td>88</td><td> 62</td><td>2781.067</td><td>310</td><td> 0</td><td>13</td><td>Graminacee</td><td>2</td></tr>\n",
       "\t<tr><th scope=row>4</th><td> 99</td><td>30</td><td> 36</td><td>2781.087</td><td>293</td><td> 8</td><td>23</td><td>Graminacee</td><td>5</td></tr>\n",
       "\t<tr><th scope=row>5</th><td>164</td><td>41</td><td> 47</td><td>2781.887</td><td>294</td><td>11</td><td>21</td><td>Graminacee</td><td>2</td></tr>\n",
       "\t<tr><th scope=row>6</th><td>130</td><td>31</td><td> 36</td><td>2782.237</td><td>310</td><td> 7</td><td>20</td><td>Graminacee</td><td>4</td></tr>\n",
       "</tbody>\n",
       "</table>\n"
      ],
      "text/latex": [
       "A data.frame: 6 × 9\n",
       "\\begin{tabular}{r|lllllllll}\n",
       "  & Diametro.roccia.1..cm. & Diametro.roccia.2..cm. & Diametro.roccia.3..cm. & alt\\_m & aspect\\_deg & slope\\_degr & n\\_species & dominant & Cop\\_Veg\\_2018\\_ottavi\\\\\n",
       "  & <int> & <int> & <int> & <dbl> & <int> & <int> & <int> & <chr> & <dbl>\\\\\n",
       "\\hline\n",
       "\t1 &  59 & 96 & 102 & 2782.206 & 234 & 13 & 23 & Graminacee & 5\\\\\n",
       "\t2 & 176 & 42 &  76 & 2781.136 & 294 & 16 & 16 & Graminacee & 2\\\\\n",
       "\t3 &  51 & 88 &  62 & 2781.067 & 310 &  0 & 13 & Graminacee & 2\\\\\n",
       "\t4 &  99 & 30 &  36 & 2781.087 & 293 &  8 & 23 & Graminacee & 5\\\\\n",
       "\t5 & 164 & 41 &  47 & 2781.887 & 294 & 11 & 21 & Graminacee & 2\\\\\n",
       "\t6 & 130 & 31 &  36 & 2782.237 & 310 &  7 & 20 & Graminacee & 4\\\\\n",
       "\\end{tabular}\n"
      ],
      "text/markdown": [
       "\n",
       "A data.frame: 6 × 9\n",
       "\n",
       "| <!--/--> | Diametro.roccia.1..cm. &lt;int&gt; | Diametro.roccia.2..cm. &lt;int&gt; | Diametro.roccia.3..cm. &lt;int&gt; | alt_m &lt;dbl&gt; | aspect_deg &lt;int&gt; | slope_degr &lt;int&gt; | n_species &lt;int&gt; | dominant &lt;chr&gt; | Cop_Veg_2018_ottavi &lt;dbl&gt; |\n",
       "|---|---|---|---|---|---|---|---|---|---|\n",
       "| 1 |  59 | 96 | 102 | 2782.206 | 234 | 13 | 23 | Graminacee | 5 |\n",
       "| 2 | 176 | 42 |  76 | 2781.136 | 294 | 16 | 16 | Graminacee | 2 |\n",
       "| 3 |  51 | 88 |  62 | 2781.067 | 310 |  0 | 13 | Graminacee | 2 |\n",
       "| 4 |  99 | 30 |  36 | 2781.087 | 293 |  8 | 23 | Graminacee | 5 |\n",
       "| 5 | 164 | 41 |  47 | 2781.887 | 294 | 11 | 21 | Graminacee | 2 |\n",
       "| 6 | 130 | 31 |  36 | 2782.237 | 310 |  7 | 20 | Graminacee | 4 |\n",
       "\n"
      ],
      "text/plain": [
       "  Diametro.roccia.1..cm. Diametro.roccia.2..cm. Diametro.roccia.3..cm. alt_m   \n",
       "1  59                    96                     102                    2782.206\n",
       "2 176                    42                      76                    2781.136\n",
       "3  51                    88                      62                    2781.067\n",
       "4  99                    30                      36                    2781.087\n",
       "5 164                    41                      47                    2781.887\n",
       "6 130                    31                      36                    2782.237\n",
       "  aspect_deg slope_degr n_species dominant   Cop_Veg_2018_ottavi\n",
       "1 234        13         23        Graminacee 5                  \n",
       "2 294        16         16        Graminacee 2                  \n",
       "3 310         0         13        Graminacee 2                  \n",
       "4 293         8         23        Graminacee 5                  \n",
       "5 294        11         21        Graminacee 2                  \n",
       "6 310         7         20        Graminacee 4                  "
      ]
     },
     "metadata": {},
     "output_type": "display_data"
    }
   ],
   "source": [
    "### creiamo anche un dataframe che includono le covariate\n",
    "dati.cov <- Datitrap[,c(\"Diametro.roccia.1..cm.\",\"Diametro.roccia.2..cm.\",\"Diametro.roccia.3..cm.\",\"alt_m\",\"aspect_deg\",\"slope_degr\",\"n_species\",\"dominant\",\"Cop_Veg_2018_ottavi\")] \n",
    "dati.cov$dominant <- as.character(dati.cov$dominant)\n",
    "dati.cov$dominant[is.na(dati.cov$dominant)] <- \"Altro\"\n",
    "head(dati.cov)"
   ]
  },
  {
   "cell_type": "code",
   "execution_count": 14,
   "metadata": {},
   "outputs": [],
   "source": [
    "write.csv2(dati.cov,\"Dati-elaborati\\\\Dati-cov.csv\", row.names=FALSE)"
   ]
  }
 ],
 "metadata": {
  "kernelspec": {
   "display_name": "R",
   "language": "R",
   "name": "ir"
  },
  "language_info": {
   "codemirror_mode": "r",
   "file_extension": ".r",
   "mimetype": "text/x-r-source",
   "name": "R",
   "pygments_lexer": "r",
   "version": "3.6.1"
  }
 },
 "nbformat": 4,
 "nbformat_minor": 4
}
