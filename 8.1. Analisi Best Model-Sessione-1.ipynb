{
 "cells": [
  {
   "cell_type": "markdown",
   "metadata": {},
   "source": [
    "# Analisi Best Model Anno 2018 Sessione 1\n",
    "### Claudia Gabriela Ochoa Martinez (2020)\n",
    "\n",
    "#### Analizzando il best model fornito dalla funzione pdredge possiamo allora applicare la funzione predict (pacchetto unmarked) per effettuare ulteriori valutazione sulla bontà del modello."
   ]
  },
  {
   "cell_type": "code",
   "execution_count": 1,
   "metadata": {},
   "outputs": [
    {
     "name": "stderr",
     "output_type": "stream",
     "text": [
      "Loading required package: lattice\n",
      "\n"
     ]
    }
   ],
   "source": [
    "library(unmarked)"
   ]
  },
  {
   "cell_type": "code",
   "execution_count": 39,
   "metadata": {},
   "outputs": [],
   "source": [
    "myunscale <- function (vals, norm.data, col.ids)  {\n",
    "    cols <- if (missing(col.ids)) 1:NCOL(vals) else col.ids\n",
    "    #if (length(cols) > NCOL(vals)) \n",
    "    #    stop(\"Incorrect dimension of data to unscale.\")\n",
    "    centers <- attr(norm.data, \"scaled:center\")[cols]\n",
    "    scales <- attr(norm.data, \"scaled:scale\")[cols]\n",
    "    unvals <- scale(subset(vals, select=cols), center = (-centers/scales), scale = 1/scales)\n",
    "    unvals <- cbind(unvals,vals[,-which(names(vals) %in% cols)])\n",
    "    attr(unvals, \"scaled:center\") <- attr(unvals, \"scaled:scale\") <- NULL\n",
    "\n",
    "    return(unvals)\n",
    "}"
   ]
  },
  {
   "cell_type": "code",
   "execution_count": 3,
   "metadata": {},
   "outputs": [],
   "source": [
    "load('Dati-modelli\\\\multimodel_2018_sessione_1_EYP6.RData')"
   ]
  },
  {
   "cell_type": "code",
   "execution_count": 4,
   "metadata": {},
   "outputs": [
    {
     "name": "stdout",
     "output_type": "stream",
     "text": [
      "initial  value 272.406741 \n",
      "iter  10 value 128.215019\n",
      "iter  20 value 125.330854\n",
      "iter  30 value 125.323124\n",
      "final  value 125.323122 \n",
      "converged\n",
      "\n",
      "Call:\n",
      "occu(formula = ~MDR + orario + precip + temper + vento + 1 ~ \n",
      "    dominant + MDR + 1, data = arvicole, control = list(trace = 1, \n",
      "    maxit = 1e+07))\n",
      "\n",
      "Occupancy (logit-scale):\n",
      "                 Estimate    SE      z P(>|z|)\n",
      "(Intercept)        -1.172 0.550 -2.129  0.0332\n",
      "dominantMuschio     1.073 0.859  1.250  0.2114\n",
      "dominantOther_Sp    0.895 0.915  0.978  0.3282\n",
      "MDR                -0.857 1.301 -0.658  0.5103\n",
      "\n",
      "Detection (logit-scale):\n",
      "            Estimate     SE      z P(>|z|)\n",
      "(Intercept)   0.7948 1.3158  0.604 0.54580\n",
      "MDR           0.4135 1.1273  0.367 0.71377\n",
      "orarioTr      0.0562 0.5055  0.111 0.91151\n",
      "precip       -0.3700 0.8983 -0.412 0.68042\n",
      "temper       -0.2244 0.0866 -2.591 0.00957\n",
      "vento        -0.3181 0.4068 -0.782 0.43424\n",
      "\n",
      "AIC: 270.6462 \n",
      "Number of sites: 70\n",
      "optim convergence code: 0\n",
      "optim iterations: 56 \n",
      "Bootstrap iterations: 0 \n",
      "\n"
     ]
    }
   ],
   "source": [
    "best_mod <- occu(formula = ~MDR + orario + precip + temper + vento + 1 ~ \n",
    "    dominant + MDR + 1, data = arvicole, control = list(trace = 1, \n",
    "    maxit = 1e+07))\n",
    "\n",
    "summary(best_mod)\n"
   ]
  },
  {
   "cell_type": "code",
   "execution_count": 5,
   "metadata": {},
   "outputs": [
    {
     "data": {
      "text/html": [
       "<style>\n",
       ".list-inline {list-style: none; margin:0; padding: 0}\n",
       ".list-inline>li {display: inline-block}\n",
       ".list-inline>li:not(:last-child)::after {content: \"\\00b7\"; padding: 0 .5ex}\n",
       "</style>\n",
       "<ol class=list-inline><li>'Graminacee'</li><li>'Graminacee'</li><li>'Graminacee'</li><li>'Graminacee'</li><li>'Graminacee'</li><li>'Graminacee'</li></ol>\n"
      ],
      "text/latex": [
       "\\begin{enumerate*}\n",
       "\\item 'Graminacee'\n",
       "\\item 'Graminacee'\n",
       "\\item 'Graminacee'\n",
       "\\item 'Graminacee'\n",
       "\\item 'Graminacee'\n",
       "\\item 'Graminacee'\n",
       "\\end{enumerate*}\n"
      ],
      "text/markdown": [
       "1. 'Graminacee'\n",
       "2. 'Graminacee'\n",
       "3. 'Graminacee'\n",
       "4. 'Graminacee'\n",
       "5. 'Graminacee'\n",
       "6. 'Graminacee'\n",
       "\n",
       "\n"
      ],
      "text/plain": [
       "[1] \"Graminacee\" \"Graminacee\" \"Graminacee\" \"Graminacee\" \"Graminacee\"\n",
       "[6] \"Graminacee\""
      ]
     },
     "metadata": {},
     "output_type": "display_data"
    },
    {
     "data": {
      "text/html": [
       "<table>\n",
       "<caption>A data.frame: 6 × 12</caption>\n",
       "<thead>\n",
       "\t<tr><th></th><th scope=col>Diametro.roccia.1..cm.</th><th scope=col>Diametro.roccia.2..cm.</th><th scope=col>Diametro.roccia.3..cm.</th><th scope=col>alt_m</th><th scope=col>aspect_deg</th><th scope=col>slope_degr</th><th scope=col>n_species</th><th scope=col>MDR</th><th scope=col>IQR</th><th scope=col>Esp.tr</th><th scope=col>cop_veg_ottavi</th><th scope=col>dominant</th></tr>\n",
       "\t<tr><th></th><th scope=col>&lt;dbl&gt;</th><th scope=col>&lt;dbl&gt;</th><th scope=col>&lt;dbl&gt;</th><th scope=col>&lt;dbl&gt;</th><th scope=col>&lt;dbl&gt;</th><th scope=col>&lt;dbl&gt;</th><th scope=col>&lt;dbl&gt;</th><th scope=col>&lt;dbl&gt;</th><th scope=col>&lt;dbl&gt;</th><th scope=col>&lt;dbl&gt;</th><th scope=col>&lt;dbl&gt;</th><th scope=col>&lt;fct&gt;</th></tr>\n",
       "</thead>\n",
       "<tbody>\n",
       "\t<tr><th scope=row>1</th><td>-0.7999612</td><td> 0.4449731</td><td> 0.6121266</td><td>-0.9638930</td><td>-0.03990354</td><td>-0.004945912</td><td> 0.97220994</td><td> 0.65969346</td><td>-0.7248291</td><td>-2.7977585</td><td> 1.3660940</td><td>Graminacee</td></tr>\n",
       "\t<tr><th scope=row>2</th><td> 0.7678020</td><td>-0.7023655</td><td> 0.1200460</td><td>-1.1064717</td><td> 0.39997796</td><td> 0.341267903</td><td> 0.05432387</td><td> 0.05605239</td><td> 0.4943843</td><td>-1.1704790</td><td>-0.3135298</td><td>Graminacee</td></tr>\n",
       "\t<tr><th scope=row>3</th><td>-0.9071587</td><td> 0.2749970</td><td>-0.1449204</td><td>-1.1156660</td><td> 0.51727969</td><td>-1.505205774</td><td>-0.33905587</td><td>-0.36649637</td><td>-0.8052168</td><td>-0.7365377</td><td>-0.3135298</td><td>Graminacee</td></tr>\n",
       "\t<tr><th scope=row>4</th><td>-0.2639738</td><td>-0.9573296</td><td>-0.6370010</td><td>-1.1130010</td><td> 0.39264660</td><td>-0.581968936</td><td> 0.97220994</td><td>-1.15122977</td><td>-0.3764824</td><td>-1.1976003</td><td> 1.3660940</td><td>Graminacee</td></tr>\n",
       "\t<tr><th scope=row>5</th><td> 0.6070058</td><td>-0.7236125</td><td>-0.4288130</td><td>-1.0064001</td><td> 0.39997796</td><td>-0.235755121</td><td> 0.70995678</td><td>-0.81922717</td><td> 0.3470069</td><td>-1.1704790</td><td>-0.3135298</td><td>Graminacee</td></tr>\n",
       "\t<tr><th scope=row>6</th><td> 0.1514164</td><td>-0.9360826</td><td>-0.6370010</td><td>-0.9597622</td><td> 0.51727969</td><td>-0.697373540</td><td> 0.57883019</td><td>-1.15122977</td><td> 0.0254561</td><td>-0.7365377</td><td> 0.8062194</td><td>Graminacee</td></tr>\n",
       "</tbody>\n",
       "</table>\n"
      ],
      "text/latex": [
       "A data.frame: 6 × 12\n",
       "\\begin{tabular}{r|llllllllllll}\n",
       "  & Diametro.roccia.1..cm. & Diametro.roccia.2..cm. & Diametro.roccia.3..cm. & alt\\_m & aspect\\_deg & slope\\_degr & n\\_species & MDR & IQR & Esp.tr & cop\\_veg\\_ottavi & dominant\\\\\n",
       "  & <dbl> & <dbl> & <dbl> & <dbl> & <dbl> & <dbl> & <dbl> & <dbl> & <dbl> & <dbl> & <dbl> & <fct>\\\\\n",
       "\\hline\n",
       "\t1 & -0.7999612 &  0.4449731 &  0.6121266 & -0.9638930 & -0.03990354 & -0.004945912 &  0.97220994 &  0.65969346 & -0.7248291 & -2.7977585 &  1.3660940 & Graminacee\\\\\n",
       "\t2 &  0.7678020 & -0.7023655 &  0.1200460 & -1.1064717 &  0.39997796 &  0.341267903 &  0.05432387 &  0.05605239 &  0.4943843 & -1.1704790 & -0.3135298 & Graminacee\\\\\n",
       "\t3 & -0.9071587 &  0.2749970 & -0.1449204 & -1.1156660 &  0.51727969 & -1.505205774 & -0.33905587 & -0.36649637 & -0.8052168 & -0.7365377 & -0.3135298 & Graminacee\\\\\n",
       "\t4 & -0.2639738 & -0.9573296 & -0.6370010 & -1.1130010 &  0.39264660 & -0.581968936 &  0.97220994 & -1.15122977 & -0.3764824 & -1.1976003 &  1.3660940 & Graminacee\\\\\n",
       "\t5 &  0.6070058 & -0.7236125 & -0.4288130 & -1.0064001 &  0.39997796 & -0.235755121 &  0.70995678 & -0.81922717 &  0.3470069 & -1.1704790 & -0.3135298 & Graminacee\\\\\n",
       "\t6 &  0.1514164 & -0.9360826 & -0.6370010 & -0.9597622 &  0.51727969 & -0.697373540 &  0.57883019 & -1.15122977 &  0.0254561 & -0.7365377 &  0.8062194 & Graminacee\\\\\n",
       "\\end{tabular}\n"
      ],
      "text/markdown": [
       "\n",
       "A data.frame: 6 × 12\n",
       "\n",
       "| <!--/--> | Diametro.roccia.1..cm. &lt;dbl&gt; | Diametro.roccia.2..cm. &lt;dbl&gt; | Diametro.roccia.3..cm. &lt;dbl&gt; | alt_m &lt;dbl&gt; | aspect_deg &lt;dbl&gt; | slope_degr &lt;dbl&gt; | n_species &lt;dbl&gt; | MDR &lt;dbl&gt; | IQR &lt;dbl&gt; | Esp.tr &lt;dbl&gt; | cop_veg_ottavi &lt;dbl&gt; | dominant &lt;fct&gt; |\n",
       "|---|---|---|---|---|---|---|---|---|---|---|---|---|\n",
       "| 1 | -0.7999612 |  0.4449731 |  0.6121266 | -0.9638930 | -0.03990354 | -0.004945912 |  0.97220994 |  0.65969346 | -0.7248291 | -2.7977585 |  1.3660940 | Graminacee |\n",
       "| 2 |  0.7678020 | -0.7023655 |  0.1200460 | -1.1064717 |  0.39997796 |  0.341267903 |  0.05432387 |  0.05605239 |  0.4943843 | -1.1704790 | -0.3135298 | Graminacee |\n",
       "| 3 | -0.9071587 |  0.2749970 | -0.1449204 | -1.1156660 |  0.51727969 | -1.505205774 | -0.33905587 | -0.36649637 | -0.8052168 | -0.7365377 | -0.3135298 | Graminacee |\n",
       "| 4 | -0.2639738 | -0.9573296 | -0.6370010 | -1.1130010 |  0.39264660 | -0.581968936 |  0.97220994 | -1.15122977 | -0.3764824 | -1.1976003 |  1.3660940 | Graminacee |\n",
       "| 5 |  0.6070058 | -0.7236125 | -0.4288130 | -1.0064001 |  0.39997796 | -0.235755121 |  0.70995678 | -0.81922717 |  0.3470069 | -1.1704790 | -0.3135298 | Graminacee |\n",
       "| 6 |  0.1514164 | -0.9360826 | -0.6370010 | -0.9597622 |  0.51727969 | -0.697373540 |  0.57883019 | -1.15122977 |  0.0254561 | -0.7365377 |  0.8062194 | Graminacee |\n",
       "\n"
      ],
      "text/plain": [
       "  Diametro.roccia.1..cm. Diametro.roccia.2..cm. Diametro.roccia.3..cm.\n",
       "1 -0.7999612              0.4449731              0.6121266            \n",
       "2  0.7678020             -0.7023655              0.1200460            \n",
       "3 -0.9071587              0.2749970             -0.1449204            \n",
       "4 -0.2639738             -0.9573296             -0.6370010            \n",
       "5  0.6070058             -0.7236125             -0.4288130            \n",
       "6  0.1514164             -0.9360826             -0.6370010            \n",
       "  alt_m      aspect_deg  slope_degr   n_species   MDR         IQR       \n",
       "1 -0.9638930 -0.03990354 -0.004945912  0.97220994  0.65969346 -0.7248291\n",
       "2 -1.1064717  0.39997796  0.341267903  0.05432387  0.05605239  0.4943843\n",
       "3 -1.1156660  0.51727969 -1.505205774 -0.33905587 -0.36649637 -0.8052168\n",
       "4 -1.1130010  0.39264660 -0.581968936  0.97220994 -1.15122977 -0.3764824\n",
       "5 -1.0064001  0.39997796 -0.235755121  0.70995678 -0.81922717  0.3470069\n",
       "6 -0.9597622  0.51727969 -0.697373540  0.57883019 -1.15122977  0.0254561\n",
       "  Esp.tr     cop_veg_ottavi dominant  \n",
       "1 -2.7977585  1.3660940     Graminacee\n",
       "2 -1.1704790 -0.3135298     Graminacee\n",
       "3 -0.7365377 -0.3135298     Graminacee\n",
       "4 -1.1976003  1.3660940     Graminacee\n",
       "5 -1.1704790 -0.3135298     Graminacee\n",
       "6 -0.7365377  0.8062194     Graminacee"
      ]
     },
     "metadata": {},
     "output_type": "display_data"
    }
   ],
   "source": [
    "head(siteCovs_orig$dominant)\n",
    "head(siteCovs(arvicole))"
   ]
  },
  {
   "cell_type": "code",
   "execution_count": 6,
   "metadata": {},
   "outputs": [
    {
     "data": {
      "text/html": [
       "<table>\n",
       "<caption>A matrix: 1 × 3 of type dbl</caption>\n",
       "<thead>\n",
       "\t<tr><th></th><th scope=col>Estimate</th><th scope=col>5%</th><th scope=col>95%</th></tr>\n",
       "</thead>\n",
       "<tbody>\n",
       "\t<tr><th scope=row>PAO</th><td>0.3531944</td><td>0.2428571</td><td>0.8571429</td></tr>\n",
       "</tbody>\n",
       "</table>\n"
      ],
      "text/latex": [
       "A matrix: 1 × 3 of type dbl\n",
       "\\begin{tabular}{r|lll}\n",
       "  & Estimate & 5\\% & 95\\%\\\\\n",
       "\\hline\n",
       "\tPAO & 0.3531944 & 0.2428571 & 0.8571429\\\\\n",
       "\\end{tabular}\n"
      ],
      "text/markdown": [
       "\n",
       "A matrix: 1 × 3 of type dbl\n",
       "\n",
       "| <!--/--> | Estimate | 5% | 95% |\n",
       "|---|---|---|---|\n",
       "| PAO | 0.3531944 | 0.2428571 | 0.8571429 |\n",
       "\n"
      ],
      "text/plain": [
       "    Estimate  5%        95%      \n",
       "PAO 0.3531944 0.2428571 0.8571429"
      ]
     },
     "metadata": {},
     "output_type": "display_data"
    }
   ],
   "source": [
    "siti_considerati <- 70-length(best_mod@sitesRemoved) # In totale, al massimo nelle analisi consideriamo 70 siti, alcuni anni meno\n",
    "re <- ranef(best_mod)\n",
    "EBUP <- bup(re, stat=\"mean\")\n",
    "CI <- confint(re, level=0.90)\n",
    "rbind(PAO = c(Estimate = sum(EBUP), colSums(CI))/siti_considerati)"
   ]
  },
  {
   "cell_type": "code",
   "execution_count": 38,
   "metadata": {},
   "outputs": [
    {
     "data": {
      "text/html": [
       "<table>\n",
       "<caption>A data.frame: 6 × 6</caption>\n",
       "<thead>\n",
       "\t<tr><th></th><th scope=col>Predicted</th><th scope=col>SE</th><th scope=col>lower</th><th scope=col>upper</th><th scope=col>MDR</th><th scope=col>dominant</th></tr>\n",
       "\t<tr><th></th><th scope=col>&lt;dbl&gt;</th><th scope=col>&lt;dbl&gt;</th><th scope=col>&lt;dbl&gt;</th><th scope=col>&lt;dbl&gt;</th><th scope=col>&lt;dbl&gt;</th><th scope=col>&lt;fct&gt;</th></tr>\n",
       "</thead>\n",
       "<tbody>\n",
       "\t<tr><th scope=row>1</th><td>0.5053440</td><td>0.5009079</td><td>0.01972169</td><td>0.9810881</td><td>-1.392686</td><td>Graminacee</td></tr>\n",
       "\t<tr><th scope=row>2</th><td>0.4933295</td><td>0.4833233</td><td>0.02153000</td><td>0.9773166</td><td>-1.336590</td><td>Graminacee</td></tr>\n",
       "\t<tr><th scope=row>3</th><td>0.4813227</td><td>0.4652567</td><td>0.02349056</td><td>0.9728248</td><td>-1.280494</td><td>Graminacee</td></tr>\n",
       "\t<tr><th scope=row>4</th><td>0.4693374</td><td>0.4467772</td><td>0.02561331</td><td>0.9674878</td><td>-1.224398</td><td>Graminacee</td></tr>\n",
       "\t<tr><th scope=row>5</th><td>0.4573874</td><td>0.4279565</td><td>0.02790820</td><td>0.9611641</td><td>-1.168302</td><td>Graminacee</td></tr>\n",
       "\t<tr><th scope=row>6</th><td>0.4454862</td><td>0.4088680</td><td>0.03038491</td><td>0.9536954</td><td>-1.112207</td><td>Graminacee</td></tr>\n",
       "</tbody>\n",
       "</table>\n"
      ],
      "text/latex": [
       "A data.frame: 6 × 6\n",
       "\\begin{tabular}{r|llllll}\n",
       "  & Predicted & SE & lower & upper & MDR & dominant\\\\\n",
       "  & <dbl> & <dbl> & <dbl> & <dbl> & <dbl> & <fct>\\\\\n",
       "\\hline\n",
       "\t1 & 0.5053440 & 0.5009079 & 0.01972169 & 0.9810881 & -1.392686 & Graminacee\\\\\n",
       "\t2 & 0.4933295 & 0.4833233 & 0.02153000 & 0.9773166 & -1.336590 & Graminacee\\\\\n",
       "\t3 & 0.4813227 & 0.4652567 & 0.02349056 & 0.9728248 & -1.280494 & Graminacee\\\\\n",
       "\t4 & 0.4693374 & 0.4467772 & 0.02561331 & 0.9674878 & -1.224398 & Graminacee\\\\\n",
       "\t5 & 0.4573874 & 0.4279565 & 0.02790820 & 0.9611641 & -1.168302 & Graminacee\\\\\n",
       "\t6 & 0.4454862 & 0.4088680 & 0.03038491 & 0.9536954 & -1.112207 & Graminacee\\\\\n",
       "\\end{tabular}\n"
      ],
      "text/markdown": [
       "\n",
       "A data.frame: 6 × 6\n",
       "\n",
       "| <!--/--> | Predicted &lt;dbl&gt; | SE &lt;dbl&gt; | lower &lt;dbl&gt; | upper &lt;dbl&gt; | MDR &lt;dbl&gt; | dominant &lt;fct&gt; |\n",
       "|---|---|---|---|---|---|---|\n",
       "| 1 | 0.5053440 | 0.5009079 | 0.01972169 | 0.9810881 | -1.392686 | Graminacee |\n",
       "| 2 | 0.4933295 | 0.4833233 | 0.02153000 | 0.9773166 | -1.336590 | Graminacee |\n",
       "| 3 | 0.4813227 | 0.4652567 | 0.02349056 | 0.9728248 | -1.280494 | Graminacee |\n",
       "| 4 | 0.4693374 | 0.4467772 | 0.02561331 | 0.9674878 | -1.224398 | Graminacee |\n",
       "| 5 | 0.4573874 | 0.4279565 | 0.02790820 | 0.9611641 | -1.168302 | Graminacee |\n",
       "| 6 | 0.4454862 | 0.4088680 | 0.03038491 | 0.9536954 | -1.112207 | Graminacee |\n",
       "\n"
      ],
      "text/plain": [
       "  Predicted SE        lower      upper     MDR       dominant  \n",
       "1 0.5053440 0.5009079 0.01972169 0.9810881 -1.392686 Graminacee\n",
       "2 0.4933295 0.4833233 0.02153000 0.9773166 -1.336590 Graminacee\n",
       "3 0.4813227 0.4652567 0.02349056 0.9728248 -1.280494 Graminacee\n",
       "4 0.4693374 0.4467772 0.02561331 0.9674878 -1.224398 Graminacee\n",
       "5 0.4573874 0.4279565 0.02790820 0.9611641 -1.168302 Graminacee\n",
       "6 0.4454862 0.4088680 0.03038491 0.9536954 -1.112207 Graminacee"
      ]
     },
     "metadata": {},
     "output_type": "display_data"
    },
    {
     "name": "stdout",
     "output_type": "stream",
     "text": [
      "[1] \"MDR\"\n",
      "[1] 1\n"
     ]
    },
    {
     "data": {
      "image/png": "[encoded data removed]",
      "text/plain": [
       "plot without title"
      ]
     },
     "metadata": {
      "image/png": {
       "height": 420,
       "width": 420
      }
     },
     "output_type": "display_data"
    },
    {
     "data": {
      "image/png": "[encoded data removed]",
      "text/plain": [
       "plot without title"
      ]
     },
     "metadata": {
      "image/png": {
       "height": 420,
       "width": 420
      }
     },
     "output_type": "display_data"
    },
    {
     "data": {
      "image/png": "[encoded data removed]",
      "text/plain": [
       "plot without title"
      ]
     },
     "metadata": {
      "image/png": {
       "height": 420,
       "width": 420
      }
     },
     "output_type": "display_data"
    }
   ],
   "source": [
    "# FACCIAMO VARIARE MDR\n",
    "df_indicato <- siteCovs(arvicole)\n",
    "MDR.seq <- seq(min(df_indicato$MDR), max(df_indicato$MDR), length=100)\n",
    "\n",
    "newdat_graminacee <- data.frame(\n",
    "    MDR = MDR.seq,\n",
    "    dominant = \"Graminacee\"\n",
    ")   \n",
    "newdat_muschio <- data.frame(\n",
    "    MDR = MDR.seq,\n",
    "    dominant = \"Muschio\"\n",
    ")\n",
    "newdat_other <- data.frame(\n",
    "    MDR = MDR.seq,\n",
    "    dominant = \"Other_Sp\"\n",
    ")\n",
    "newdata <- rbind(newdat_graminacee,newdat_muschio,newdat_other)\n",
    "Elambda <- predict(best_mod, \n",
    "        type='state', \n",
    "        newdata = newdata,\n",
    "        appendData = TRUE)\n",
    "head(Elambda)\n",
    "Elambda_unscaled <- myunscale(Elambda, siteCovs_scaled, c(\"MDR\"))\n",
    "\n",
    "#GRAFICI\n",
    "\n",
    "with(subset(Elambda_unscaled,dominant==\"Graminacee\"), {\n",
    "  plot(MDR, Predicted, xlab=\"MDR\", type=\"l\", # names = habitat,\n",
    "       ylab=\"Probabilità di effettiva presenza con sp. Graminacee\", #ylim=c(-20, 40), # cex.names=0.7,\n",
    "       cex.lab=0.7, cex.axis=0.7, lwd=2, col=\"red\")\n",
    "   lines(MDR, Predicted+SE, lty=3, col=\"dark grey\")\n",
    "   lines(MDR, Predicted-SE, lty=3, col=\"dark grey\")\n",
    "})\n",
    "with(subset(Elambda_unscaled,dominant==\"Muschio\"), {\n",
    "  plot(MDR, Predicted, xlab=\"MDR\", type=\"l\", # names = habitat,\n",
    "       ylab=\"Probabilità di effettiva presenza con sp. Muschio\", #ylim=c(-20, 40), # cex.names=0.7,\n",
    "       cex.lab=0.7, cex.axis=0.7, lwd=2, col=\"red\")\n",
    "   lines(MDR, Predicted+SE, lty=3, col=\"dark grey\")\n",
    "   lines(MDR, Predicted-SE, lty=3, col=\"dark grey\")\n",
    "})\n",
    "\n",
    "with(subset(Elambda_unscaled,dominant==\"Other_Sp\"), {\n",
    "  plot(MDR, Predicted, xlab=\"MDR\", type=\"l\", # names = habitat,\n",
    "       ylab=\"Probabilità di effettiva presenza con sp. Other_Sp\", #ylim=c(-20, 40), # cex.names=0.7,\n",
    "       cex.lab=0.7, cex.axis=0.7, lwd=2, col=\"red\")\n",
    "   lines(MDR, Predicted+SE, lty=3, col=\"dark grey\")\n",
    "   lines(MDR, Predicted-SE, lty=3, col=\"dark grey\")\n",
    "})"
   ]
  },
  {
   "cell_type": "markdown",
   "metadata": {},
   "source": [
    "### Proseguiamo con ulteriori valutazioni sulla temperatura"
   ]
  },
  {
   "cell_type": "code",
   "execution_count": 41,
   "metadata": {},
   "outputs": [
    {
     "data": {
      "text/html": [
       "<table>\n",
       "<caption>A data.frame: 6 × 9</caption>\n",
       "<thead>\n",
       "\t<tr><th></th><th scope=col>MDR</th><th scope=col>Predicted</th><th scope=col>SE</th><th scope=col>lower</th><th scope=col>upper</th><th scope=col>temper</th><th scope=col>orario</th><th scope=col>vento</th><th scope=col>precip</th></tr>\n",
       "\t<tr><th></th><th scope=col>&lt;dbl&gt;</th><th scope=col>&lt;dbl&gt;</th><th scope=col>&lt;dbl&gt;</th><th scope=col>&lt;dbl&gt;</th><th scope=col>&lt;dbl&gt;</th><th scope=col>&lt;dbl&gt;</th><th scope=col>&lt;fct&gt;</th><th scope=col>&lt;dbl&gt;</th><th scope=col>&lt;dbl&gt;</th></tr>\n",
       "</thead>\n",
       "<tbody>\n",
       "\t<tr><th scope=row>95</th><td>74.14286</td><td>0.02961444</td><td>0.01563905</td><td>0.010394252</td><td>0.08144983</td><td>16.95051</td><td>Tr</td><td>1.626316</td><td>0.05263158</td></tr>\n",
       "\t<tr><th scope=row>96</th><td>74.14286</td><td>0.02904018</td><td>0.01550046</td><td>0.010080288</td><td>0.08075245</td><td>17.04040</td><td>Tr</td><td>1.626316</td><td>0.05263158</td></tr>\n",
       "\t<tr><th scope=row>97</th><td>74.14286</td><td>0.02847674</td><td>0.01536270</td><td>0.009774683</td><td>0.08006836</td><td>17.13030</td><td>Tr</td><td>1.626316</td><td>0.05263158</td></tr>\n",
       "\t<tr><th scope=row>98</th><td>74.14286</td><td>0.02792391</td><td>0.01522572</td><td>0.009477285</td><td>0.07939712</td><td>17.22020</td><td>Tr</td><td>1.626316</td><td>0.05263158</td></tr>\n",
       "\t<tr><th scope=row>99</th><td>74.14286</td><td>0.02738151</td><td>0.01508947</td><td>0.009187938</td><td>0.07873830</td><td>17.31010</td><td>Tr</td><td>1.626316</td><td>0.05263158</td></tr>\n",
       "\t<tr><th scope=row>100</th><td>74.14286</td><td>0.02684936</td><td>0.01495392</td><td>0.008906487</td><td>0.07809149</td><td>17.40000</td><td>Tr</td><td>1.626316</td><td>0.05263158</td></tr>\n",
       "</tbody>\n",
       "</table>\n"
      ],
      "text/latex": [
       "A data.frame: 6 × 9\n",
       "\\begin{tabular}{r|lllllllll}\n",
       "  & MDR & Predicted & SE & lower & upper & temper & orario & vento & precip\\\\\n",
       "  & <dbl> & <dbl> & <dbl> & <dbl> & <dbl> & <dbl> & <fct> & <dbl> & <dbl>\\\\\n",
       "\\hline\n",
       "\t95 & 74.14286 & 0.02961444 & 0.01563905 & 0.010394252 & 0.08144983 & 16.95051 & Tr & 1.626316 & 0.05263158\\\\\n",
       "\t96 & 74.14286 & 0.02904018 & 0.01550046 & 0.010080288 & 0.08075245 & 17.04040 & Tr & 1.626316 & 0.05263158\\\\\n",
       "\t97 & 74.14286 & 0.02847674 & 0.01536270 & 0.009774683 & 0.08006836 & 17.13030 & Tr & 1.626316 & 0.05263158\\\\\n",
       "\t98 & 74.14286 & 0.02792391 & 0.01522572 & 0.009477285 & 0.07939712 & 17.22020 & Tr & 1.626316 & 0.05263158\\\\\n",
       "\t99 & 74.14286 & 0.02738151 & 0.01508947 & 0.009187938 & 0.07873830 & 17.31010 & Tr & 1.626316 & 0.05263158\\\\\n",
       "\t100 & 74.14286 & 0.02684936 & 0.01495392 & 0.008906487 & 0.07809149 & 17.40000 & Tr & 1.626316 & 0.05263158\\\\\n",
       "\\end{tabular}\n"
      ],
      "text/markdown": [
       "\n",
       "A data.frame: 6 × 9\n",
       "\n",
       "| <!--/--> | MDR &lt;dbl&gt; | Predicted &lt;dbl&gt; | SE &lt;dbl&gt; | lower &lt;dbl&gt; | upper &lt;dbl&gt; | temper &lt;dbl&gt; | orario &lt;fct&gt; | vento &lt;dbl&gt; | precip &lt;dbl&gt; |\n",
       "|---|---|---|---|---|---|---|---|---|---|\n",
       "| 95 | 74.14286 | 0.02961444 | 0.01563905 | 0.010394252 | 0.08144983 | 16.95051 | Tr | 1.626316 | 0.05263158 |\n",
       "| 96 | 74.14286 | 0.02904018 | 0.01550046 | 0.010080288 | 0.08075245 | 17.04040 | Tr | 1.626316 | 0.05263158 |\n",
       "| 97 | 74.14286 | 0.02847674 | 0.01536270 | 0.009774683 | 0.08006836 | 17.13030 | Tr | 1.626316 | 0.05263158 |\n",
       "| 98 | 74.14286 | 0.02792391 | 0.01522572 | 0.009477285 | 0.07939712 | 17.22020 | Tr | 1.626316 | 0.05263158 |\n",
       "| 99 | 74.14286 | 0.02738151 | 0.01508947 | 0.009187938 | 0.07873830 | 17.31010 | Tr | 1.626316 | 0.05263158 |\n",
       "| 100 | 74.14286 | 0.02684936 | 0.01495392 | 0.008906487 | 0.07809149 | 17.40000 | Tr | 1.626316 | 0.05263158 |\n",
       "\n"
      ],
      "text/plain": [
       "    MDR      Predicted  SE         lower       upper      temper   orario\n",
       "95  74.14286 0.02961444 0.01563905 0.010394252 0.08144983 16.95051 Tr    \n",
       "96  74.14286 0.02904018 0.01550046 0.010080288 0.08075245 17.04040 Tr    \n",
       "97  74.14286 0.02847674 0.01536270 0.009774683 0.08006836 17.13030 Tr    \n",
       "98  74.14286 0.02792391 0.01522572 0.009477285 0.07939712 17.22020 Tr    \n",
       "99  74.14286 0.02738151 0.01508947 0.009187938 0.07873830 17.31010 Tr    \n",
       "100 74.14286 0.02684936 0.01495392 0.008906487 0.07809149 17.40000 Tr    \n",
       "    vento    precip    \n",
       "95  1.626316 0.05263158\n",
       "96  1.626316 0.05263158\n",
       "97  1.626316 0.05263158\n",
       "98  1.626316 0.05263158\n",
       "99  1.626316 0.05263158\n",
       "100 1.626316 0.05263158"
      ]
     },
     "metadata": {},
     "output_type": "display_data"
    },
    {
     "data": {
      "image/png": "[encoded data removed]",
      "text/plain": [
       "plot without title"
      ]
     },
     "metadata": {
      "image/png": {
       "height": 420,
       "width": 420
      }
     },
     "output_type": "display_data"
    }
   ],
   "source": [
    "#### predizioni di abbondanza con valori di covariate specifici.\n",
    "df_indicato <- siteCovs(arvicole)\n",
    "df_indicato2 <- obsCovs(arvicole)\n",
    "\n",
    "MDR.seq <- seq(min(df_indicato$MDR), max(df_indicato$MDR), length=100)\n",
    "temper.seq <- seq(min(df_indicato2$temper), max(df_indicato2$temper), length=100)\n",
    "vento.seq <- seq(min(df_indicato2$vento), max(df_indicato2$vento), length=100)\n",
    "precip.seq <- seq(min(df_indicato2$precip), max(df_indicato2$precip), length=100)\n",
    "\n",
    "newdat_tempTr <- data.frame(\n",
    "    MDR = mean(df_indicato$MDR),\n",
    "    temper = temper.seq,\n",
    "    orario = \"Tr\",\n",
    "    vento = mean(df_indicato2$vento),\n",
    "    precip = mean(df_indicato2$precip)\n",
    ")\n",
    "\n",
    "## PREDIZIONE\n",
    "Elambda <- predict(best_mod, \n",
    "        type='det', \n",
    "        newdata = newdat_tempTr,\n",
    "        appendData = TRUE)\n",
    "\n",
    "Elambda_unscaled <- myunscale(Elambda, siteCovs_scaled, c(\"MDR\"))\n",
    "tail(Elambda_unscaled)\n",
    "\n",
    "#GRAFICI\n",
    "with(Elambda_unscaled, {\n",
    "    plot(temper, Predicted, xlab=\"Temperatura\",\n",
    "        ylab=\"Probabilità di cattura\",\n",
    "        cex.lab=0.7, lwd=2, col=\"red\")\n",
    "    lines(temper, upper, lty=2, col=\"grey\")\n",
    "    lines(temper, lower,lty=2, col=\"grey\" )\n",
    "})  "
   ]
  },
  {
   "cell_type": "code",
   "execution_count": null,
   "metadata": {},
   "outputs": [],
   "source": []
  },
  {
   "cell_type": "code",
   "execution_count": null,
   "metadata": {},
   "outputs": [],
   "source": []
  },
  {
   "cell_type": "code",
   "execution_count": 44,
   "metadata": {},
   "outputs": [
    {
     "data": {
      "text/html": [
       "<table>\n",
       "<caption>A data.frame: 6 × 9</caption>\n",
       "<thead>\n",
       "\t<tr><th></th><th scope=col>MDR</th><th scope=col>Predicted</th><th scope=col>SE</th><th scope=col>lower</th><th scope=col>upper</th><th scope=col>temper</th><th scope=col>orario</th><th scope=col>vento</th><th scope=col>precip</th></tr>\n",
       "\t<tr><th></th><th scope=col>&lt;dbl&gt;</th><th scope=col>&lt;dbl&gt;</th><th scope=col>&lt;dbl&gt;</th><th scope=col>&lt;dbl&gt;</th><th scope=col>&lt;dbl&gt;</th><th scope=col>&lt;dbl&gt;</th><th scope=col>&lt;fct&gt;</th><th scope=col>&lt;dbl&gt;</th><th scope=col>&lt;dbl&gt;</th></tr>\n",
       "</thead>\n",
       "<tbody>\n",
       "\t<tr><th scope=row>95</th><td>74.14286</td><td>0.04291771</td><td>0.02968907</td><td>0.010758496</td><td>0.1560434</td><td>13.59474</td><td>Tr</td><td>2.783838</td><td>0.05263158</td></tr>\n",
       "\t<tr><th scope=row>96</th><td>74.14286</td><td>0.04261518</td><td>0.02982202</td><td>0.010512462</td><td>0.1571797</td><td>13.59474</td><td>Tr</td><td>2.807071</td><td>0.05263158</td></tr>\n",
       "\t<tr><th scope=row>97</th><td>74.14286</td><td>0.04231469</td><td>0.02995295</td><td>0.010271384</td><td>0.1583308</td><td>13.59474</td><td>Tr</td><td>2.830303</td><td>0.05263158</td></tr>\n",
       "\t<tr><th scope=row>98</th><td>74.14286</td><td>0.04201623</td><td>0.03008182</td><td>0.010035198</td><td>0.1594965</td><td>13.59474</td><td>Tr</td><td>2.853535</td><td>0.05263158</td></tr>\n",
       "\t<tr><th scope=row>99</th><td>74.14286</td><td>0.04171978</td><td>0.03020861</td><td>0.009803843</td><td>0.1606768</td><td>13.59474</td><td>Tr</td><td>2.876768</td><td>0.05263158</td></tr>\n",
       "\t<tr><th scope=row>100</th><td>74.14286</td><td>0.04142533</td><td>0.03033330</td><td>0.009577252</td><td>0.1618715</td><td>13.59474</td><td>Tr</td><td>2.900000</td><td>0.05263158</td></tr>\n",
       "</tbody>\n",
       "</table>\n"
      ],
      "text/latex": [
       "A data.frame: 6 × 9\n",
       "\\begin{tabular}{r|lllllllll}\n",
       "  & MDR & Predicted & SE & lower & upper & temper & orario & vento & precip\\\\\n",
       "  & <dbl> & <dbl> & <dbl> & <dbl> & <dbl> & <dbl> & <fct> & <dbl> & <dbl>\\\\\n",
       "\\hline\n",
       "\t95 & 74.14286 & 0.04291771 & 0.02968907 & 0.010758496 & 0.1560434 & 13.59474 & Tr & 2.783838 & 0.05263158\\\\\n",
       "\t96 & 74.14286 & 0.04261518 & 0.02982202 & 0.010512462 & 0.1571797 & 13.59474 & Tr & 2.807071 & 0.05263158\\\\\n",
       "\t97 & 74.14286 & 0.04231469 & 0.02995295 & 0.010271384 & 0.1583308 & 13.59474 & Tr & 2.830303 & 0.05263158\\\\\n",
       "\t98 & 74.14286 & 0.04201623 & 0.03008182 & 0.010035198 & 0.1594965 & 13.59474 & Tr & 2.853535 & 0.05263158\\\\\n",
       "\t99 & 74.14286 & 0.04171978 & 0.03020861 & 0.009803843 & 0.1606768 & 13.59474 & Tr & 2.876768 & 0.05263158\\\\\n",
       "\t100 & 74.14286 & 0.04142533 & 0.03033330 & 0.009577252 & 0.1618715 & 13.59474 & Tr & 2.900000 & 0.05263158\\\\\n",
       "\\end{tabular}\n"
      ],
      "text/markdown": [
       "\n",
       "A data.frame: 6 × 9\n",
       "\n",
       "| <!--/--> | MDR &lt;dbl&gt; | Predicted &lt;dbl&gt; | SE &lt;dbl&gt; | lower &lt;dbl&gt; | upper &lt;dbl&gt; | temper &lt;dbl&gt; | orario &lt;fct&gt; | vento &lt;dbl&gt; | precip &lt;dbl&gt; |\n",
       "|---|---|---|---|---|---|---|---|---|---|\n",
       "| 95 | 74.14286 | 0.04291771 | 0.02968907 | 0.010758496 | 0.1560434 | 13.59474 | Tr | 2.783838 | 0.05263158 |\n",
       "| 96 | 74.14286 | 0.04261518 | 0.02982202 | 0.010512462 | 0.1571797 | 13.59474 | Tr | 2.807071 | 0.05263158 |\n",
       "| 97 | 74.14286 | 0.04231469 | 0.02995295 | 0.010271384 | 0.1583308 | 13.59474 | Tr | 2.830303 | 0.05263158 |\n",
       "| 98 | 74.14286 | 0.04201623 | 0.03008182 | 0.010035198 | 0.1594965 | 13.59474 | Tr | 2.853535 | 0.05263158 |\n",
       "| 99 | 74.14286 | 0.04171978 | 0.03020861 | 0.009803843 | 0.1606768 | 13.59474 | Tr | 2.876768 | 0.05263158 |\n",
       "| 100 | 74.14286 | 0.04142533 | 0.03033330 | 0.009577252 | 0.1618715 | 13.59474 | Tr | 2.900000 | 0.05263158 |\n",
       "\n"
      ],
      "text/plain": [
       "    MDR      Predicted  SE         lower       upper     temper   orario\n",
       "95  74.14286 0.04291771 0.02968907 0.010758496 0.1560434 13.59474 Tr    \n",
       "96  74.14286 0.04261518 0.02982202 0.010512462 0.1571797 13.59474 Tr    \n",
       "97  74.14286 0.04231469 0.02995295 0.010271384 0.1583308 13.59474 Tr    \n",
       "98  74.14286 0.04201623 0.03008182 0.010035198 0.1594965 13.59474 Tr    \n",
       "99  74.14286 0.04171978 0.03020861 0.009803843 0.1606768 13.59474 Tr    \n",
       "100 74.14286 0.04142533 0.03033330 0.009577252 0.1618715 13.59474 Tr    \n",
       "    vento    precip    \n",
       "95  2.783838 0.05263158\n",
       "96  2.807071 0.05263158\n",
       "97  2.830303 0.05263158\n",
       "98  2.853535 0.05263158\n",
       "99  2.876768 0.05263158\n",
       "100 2.900000 0.05263158"
      ]
     },
     "metadata": {},
     "output_type": "display_data"
    },
    {
     "data": {
      "image/png": "[encoded data removed]",
      "text/plain": [
       "plot without title"
      ]
     },
     "metadata": {
      "image/png": {
       "height": 420,
       "width": 420
      }
     },
     "output_type": "display_data"
    }
   ],
   "source": [
    "#### predizioni di abbondanza con valori di covariate specifici.\n",
    "df_indicato <- siteCovs(arvicole)\n",
    "df_indicato2 <- obsCovs(arvicole)\n",
    "\n",
    "MDR.seq <- seq(min(df_indicato$MDR), max(df_indicato$MDR), length=100)\n",
    "temper.seq <- seq(min(df_indicato2$temper), max(df_indicato2$temper), length=100)\n",
    "vento.seq <- seq(min(df_indicato2$vento), max(df_indicato2$vento), length=100)\n",
    "precip.seq <- seq(min(df_indicato2$precip), max(df_indicato2$precip), length=100)\n",
    "\n",
    "newdat_tempTr <- data.frame(\n",
    "    MDR = mean(df_indicato$MDR),\n",
    "    temper = mean(df_indicato2$temper),\n",
    "    orario = \"Tr\",\n",
    "    vento = vento.seq,\n",
    "    precip = mean(df_indicato2$precip)\n",
    ")\n",
    "\n",
    "## PREDIZIONE\n",
    "Elambda <- predict(best_mod, \n",
    "        type='det', \n",
    "        newdata = newdat_tempTr,\n",
    "        appendData = TRUE)\n",
    "\n",
    "Elambda_unscaled <- myunscale(Elambda, siteCovs_scaled, c(\"MDR\"))\n",
    "tail(Elambda_unscaled)\n",
    "\n",
    "#GRAFICI\n",
    "with(Elambda_unscaled, {\n",
    "    plot(vento, Predicted, xlab=\"Velocità Vento\",\n",
    "        ylab=\"Probabilità di cattura\",\n",
    "        cex.lab=0.7, lwd=2, col=\"red\")\n",
    "    lines(vento, upper, lty=2, col=\"grey\")\n",
    "    lines(vento, lower,lty=2, col=\"grey\" )\n",
    "})  "
   ]
  },
  {
   "cell_type": "code",
   "execution_count": 45,
   "metadata": {},
   "outputs": [
    {
     "data": {
      "text/html": [
       "<table>\n",
       "<caption>A data.frame: 6 × 9</caption>\n",
       "<thead>\n",
       "\t<tr><th></th><th scope=col>MDR</th><th scope=col>Predicted</th><th scope=col>SE</th><th scope=col>lower</th><th scope=col>upper</th><th scope=col>temper</th><th scope=col>orario</th><th scope=col>vento</th><th scope=col>precip</th></tr>\n",
       "\t<tr><th></th><th scope=col>&lt;dbl&gt;</th><th scope=col>&lt;dbl&gt;</th><th scope=col>&lt;dbl&gt;</th><th scope=col>&lt;dbl&gt;</th><th scope=col>&lt;dbl&gt;</th><th scope=col>&lt;dbl&gt;</th><th scope=col>&lt;fct&gt;</th><th scope=col>&lt;dbl&gt;</th><th scope=col>&lt;dbl&gt;</th></tr>\n",
       "</thead>\n",
       "<tbody>\n",
       "\t<tr><th scope=row>95</th><td>74.14286</td><td>0.04443703</td><td>0.04268234</td><td>0.006442697</td><td>0.2500941</td><td>13.59474</td><td>Tr</td><td>1.626316</td><td>0.9494949</td></tr>\n",
       "\t<tr><th scope=row>96</th><td>74.14286</td><td>0.04427861</td><td>0.04289352</td><td>0.006314430</td><td>0.2524957</td><td>13.59474</td><td>Tr</td><td>1.626316</td><td>0.9595960</td></tr>\n",
       "\t<tr><th scope=row>97</th><td>74.14286</td><td>0.04412073</td><td>0.04310319</td><td>0.006188565</td><td>0.2549166</td><td>13.59474</td><td>Tr</td><td>1.626316</td><td>0.9696970</td></tr>\n",
       "\t<tr><th scope=row>98</th><td>74.14286</td><td>0.04396339</td><td>0.04331135</td><td>0.006065064</td><td>0.2573569</td><td>13.59474</td><td>Tr</td><td>1.626316</td><td>0.9797980</td></tr>\n",
       "\t<tr><th scope=row>99</th><td>74.14286</td><td>0.04380658</td><td>0.04351799</td><td>0.005943890</td><td>0.2598165</td><td>13.59474</td><td>Tr</td><td>1.626316</td><td>0.9898990</td></tr>\n",
       "\t<tr><th scope=row>100</th><td>74.14286</td><td>0.04365030</td><td>0.04372310</td><td>0.005825005</td><td>0.2622951</td><td>13.59474</td><td>Tr</td><td>1.626316</td><td>1.0000000</td></tr>\n",
       "</tbody>\n",
       "</table>\n"
      ],
      "text/latex": [
       "A data.frame: 6 × 9\n",
       "\\begin{tabular}{r|lllllllll}\n",
       "  & MDR & Predicted & SE & lower & upper & temper & orario & vento & precip\\\\\n",
       "  & <dbl> & <dbl> & <dbl> & <dbl> & <dbl> & <dbl> & <fct> & <dbl> & <dbl>\\\\\n",
       "\\hline\n",
       "\t95 & 74.14286 & 0.04443703 & 0.04268234 & 0.006442697 & 0.2500941 & 13.59474 & Tr & 1.626316 & 0.9494949\\\\\n",
       "\t96 & 74.14286 & 0.04427861 & 0.04289352 & 0.006314430 & 0.2524957 & 13.59474 & Tr & 1.626316 & 0.9595960\\\\\n",
       "\t97 & 74.14286 & 0.04412073 & 0.04310319 & 0.006188565 & 0.2549166 & 13.59474 & Tr & 1.626316 & 0.9696970\\\\\n",
       "\t98 & 74.14286 & 0.04396339 & 0.04331135 & 0.006065064 & 0.2573569 & 13.59474 & Tr & 1.626316 & 0.9797980\\\\\n",
       "\t99 & 74.14286 & 0.04380658 & 0.04351799 & 0.005943890 & 0.2598165 & 13.59474 & Tr & 1.626316 & 0.9898990\\\\\n",
       "\t100 & 74.14286 & 0.04365030 & 0.04372310 & 0.005825005 & 0.2622951 & 13.59474 & Tr & 1.626316 & 1.0000000\\\\\n",
       "\\end{tabular}\n"
      ],
      "text/markdown": [
       "\n",
       "A data.frame: 6 × 9\n",
       "\n",
       "| <!--/--> | MDR &lt;dbl&gt; | Predicted &lt;dbl&gt; | SE &lt;dbl&gt; | lower &lt;dbl&gt; | upper &lt;dbl&gt; | temper &lt;dbl&gt; | orario &lt;fct&gt; | vento &lt;dbl&gt; | precip &lt;dbl&gt; |\n",
       "|---|---|---|---|---|---|---|---|---|---|\n",
       "| 95 | 74.14286 | 0.04443703 | 0.04268234 | 0.006442697 | 0.2500941 | 13.59474 | Tr | 1.626316 | 0.9494949 |\n",
       "| 96 | 74.14286 | 0.04427861 | 0.04289352 | 0.006314430 | 0.2524957 | 13.59474 | Tr | 1.626316 | 0.9595960 |\n",
       "| 97 | 74.14286 | 0.04412073 | 0.04310319 | 0.006188565 | 0.2549166 | 13.59474 | Tr | 1.626316 | 0.9696970 |\n",
       "| 98 | 74.14286 | 0.04396339 | 0.04331135 | 0.006065064 | 0.2573569 | 13.59474 | Tr | 1.626316 | 0.9797980 |\n",
       "| 99 | 74.14286 | 0.04380658 | 0.04351799 | 0.005943890 | 0.2598165 | 13.59474 | Tr | 1.626316 | 0.9898990 |\n",
       "| 100 | 74.14286 | 0.04365030 | 0.04372310 | 0.005825005 | 0.2622951 | 13.59474 | Tr | 1.626316 | 1.0000000 |\n",
       "\n"
      ],
      "text/plain": [
       "    MDR      Predicted  SE         lower       upper     temper   orario\n",
       "95  74.14286 0.04443703 0.04268234 0.006442697 0.2500941 13.59474 Tr    \n",
       "96  74.14286 0.04427861 0.04289352 0.006314430 0.2524957 13.59474 Tr    \n",
       "97  74.14286 0.04412073 0.04310319 0.006188565 0.2549166 13.59474 Tr    \n",
       "98  74.14286 0.04396339 0.04331135 0.006065064 0.2573569 13.59474 Tr    \n",
       "99  74.14286 0.04380658 0.04351799 0.005943890 0.2598165 13.59474 Tr    \n",
       "100 74.14286 0.04365030 0.04372310 0.005825005 0.2622951 13.59474 Tr    \n",
       "    vento    precip   \n",
       "95  1.626316 0.9494949\n",
       "96  1.626316 0.9595960\n",
       "97  1.626316 0.9696970\n",
       "98  1.626316 0.9797980\n",
       "99  1.626316 0.9898990\n",
       "100 1.626316 1.0000000"
      ]
     },
     "metadata": {},
     "output_type": "display_data"
    },
    {
     "data": {
      "image/png": "[encoded data removed]",
      "text/plain": [
       "plot without title"
      ]
     },
     "metadata": {
      "image/png": {
       "height": 420,
       "width": 420
      }
     },
     "output_type": "display_data"
    }
   ],
   "source": [
    "#### predizioni di abbondanza con valori di covariate specifici.\n",
    "df_indicato <- siteCovs(arvicole)\n",
    "df_indicato2 <- obsCovs(arvicole)\n",
    "\n",
    "MDR.seq <- seq(min(df_indicato$MDR), max(df_indicato$MDR), length=100)\n",
    "temper.seq <- seq(min(df_indicato2$temper), max(df_indicato2$temper), length=100)\n",
    "vento.seq <- seq(min(df_indicato2$vento), max(df_indicato2$vento), length=100)\n",
    "precip.seq <- seq(min(df_indicato2$precip), max(df_indicato2$precip), length=100)\n",
    "\n",
    "newdat_tempTr <- data.frame(\n",
    "    MDR = mean(df_indicato$MDR),\n",
    "    temper = mean(df_indicato2$temper),\n",
    "    orario = \"Tr\",\n",
    "    vento = mean(df_indicato2$vento),\n",
    "    precip = precip.seq\n",
    ")\n",
    "\n",
    "## PREDIZIONE\n",
    "Elambda <- predict(best_mod, \n",
    "        type='det', \n",
    "        newdata = newdat_tempTr,\n",
    "        appendData = TRUE)\n",
    "\n",
    "Elambda_unscaled <- myunscale(Elambda, siteCovs_scaled, c(\"MDR\"))\n",
    "tail(Elambda_unscaled)\n",
    "\n",
    "# GRAFICI\n",
    "\n",
    "with(Elambda_unscaled, {\n",
    "    plot(precip, Predicted, xlab=\"Precipitazioni\",\n",
    "        ylab=\"Probabilità di cattura\",\n",
    "        cex.lab=0.7, lwd=2, col=\"red\")\n",
    "    lines(precip, upper, lty=2, col=\"grey\")\n",
    "    lines(precip, lower,lty=2, col=\"grey\" )\n",
    "})  "
   ]
  },
  {
   "cell_type": "code",
   "execution_count": null,
   "metadata": {},
   "outputs": [],
   "source": []
  }
 ],
 "metadata": {
  "kernelspec": {
   "display_name": "R",
   "language": "R",
   "name": "ir"
  },
  "language_info": {
   "codemirror_mode": "r",
   "file_extension": ".r",
   "mimetype": "text/x-r-source",
   "name": "R",
   "pygments_lexer": "r",
   "version": "3.6.3"
  }
 },
 "nbformat": 4,
 "nbformat_minor": 4
}
