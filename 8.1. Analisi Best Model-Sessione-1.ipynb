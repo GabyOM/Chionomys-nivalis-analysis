{
 "cells": [
  {
   "cell_type": "markdown",
   "metadata": {},
   "source": [
    "# Analisi Best Model Anno 2018 Sessione 1\n",
    "### Claudia Gabriela Ochoa Martinez (2020)\n",
    "\n",
    "#### Analizzando il best model fornito dalla funzione pdredge possiamo allora applicare la funzione predict (pacchetto unmarked) per effettuare ulteriori valutazione sulla bontà del modello."
   ]
  },
  {
   "cell_type": "code",
   "execution_count": 1,
   "metadata": {},
   "outputs": [
    {
     "name": "stderr",
     "output_type": "stream",
     "text": [
      "Loading required package: lattice\n",
      "\n"
     ]
    }
   ],
   "source": [
    "library(unmarked)"
   ]
  },
  {
   "cell_type": "code",
   "execution_count": 2,
   "metadata": {},
   "outputs": [],
   "source": [
    "myunscale <- function (vals, norm.data, col.ids)  {\n",
    "    cols <- if (missing(col.ids)) 1:NCOL(vals) else col.ids\n",
    "    #if (length(cols) > NCOL(vals)) \n",
    "    #    stop(\"Incorrect dimension of data to unscale.\")\n",
    "    centers <- attr(norm.data, \"scaled:center\")[cols]\n",
    "    scales <- attr(norm.data, \"scaled:scale\")[cols]\n",
    "    unvals <- scale(vals[,cols], center = (-centers/scales), scale = 1/scales)\n",
    "    unvals <- cbind(unvals,vals[,-which(names(vals) %in% cols)])\n",
    "    attr(unvals, \"scaled:center\") <- attr(unvals, \"scaled:scale\") <- NULL\n",
    "    unvals\n",
    "}"
   ]
  },
  {
   "cell_type": "code",
   "execution_count": 3,
   "metadata": {},
   "outputs": [],
   "source": [
    "load('Dati-modelli\\\\multimodel_2018_sessione_1_EYP6.RData')"
   ]
  },
  {
   "cell_type": "code",
   "execution_count": 4,
   "metadata": {},
   "outputs": [
    {
     "name": "stdout",
     "output_type": "stream",
     "text": [
      "initial  value 272.406741 \n",
      "iter  10 value 128.215019\n",
      "iter  20 value 125.330854\n",
      "iter  30 value 125.323124\n",
      "final  value 125.323122 \n",
      "converged\n",
      "\n",
      "Call:\n",
      "occu(formula = ~MDR + orario + precip + temper + vento + 1 ~ \n",
      "    dominant + MDR + 1, data = arvicole, control = list(trace = 1, \n",
      "    maxit = 1e+07))\n",
      "\n",
      "Occupancy (logit-scale):\n",
      "                 Estimate    SE      z P(>|z|)\n",
      "(Intercept)        -1.172 0.550 -2.129  0.0332\n",
      "dominantMuschio     1.073 0.859  1.250  0.2114\n",
      "dominantOther_Sp    0.895 0.915  0.978  0.3282\n",
      "MDR                -0.857 1.301 -0.658  0.5103\n",
      "\n",
      "Detection (logit-scale):\n",
      "            Estimate     SE      z P(>|z|)\n",
      "(Intercept)   0.7948 1.3158  0.604 0.54580\n",
      "MDR           0.4135 1.1273  0.367 0.71377\n",
      "orarioTr      0.0562 0.5055  0.111 0.91151\n",
      "precip       -0.3700 0.8983 -0.412 0.68042\n",
      "temper       -0.2244 0.0866 -2.591 0.00957\n",
      "vento        -0.3181 0.4068 -0.782 0.43424\n",
      "\n",
      "AIC: 270.6462 \n",
      "Number of sites: 70\n",
      "optim convergence code: 0\n",
      "optim iterations: 56 \n",
      "Bootstrap iterations: 0 \n",
      "\n"
     ]
    }
   ],
   "source": [
    "best_mod <- occu(formula = ~MDR + orario + precip + temper + vento + 1 ~ \n",
    "    dominant + MDR + 1, data = arvicole, control = list(trace = 1, \n",
    "    maxit = 1e+07))\n",
    "\n",
    "summary(best_mod)\n"
   ]
  },
  {
   "cell_type": "code",
   "execution_count": 5,
   "metadata": {},
   "outputs": [
    {
     "data": {
      "text/html": [
       "<style>\n",
       ".list-inline {list-style: none; margin:0; padding: 0}\n",
       ".list-inline>li {display: inline-block}\n",
       ".list-inline>li:not(:last-child)::after {content: \"\\00b7\"; padding: 0 .5ex}\n",
       "</style>\n",
       "<ol class=list-inline><li>'Graminacee'</li><li>'Graminacee'</li><li>'Graminacee'</li><li>'Graminacee'</li><li>'Graminacee'</li><li>'Graminacee'</li></ol>\n"
      ],
      "text/latex": [
       "\\begin{enumerate*}\n",
       "\\item 'Graminacee'\n",
       "\\item 'Graminacee'\n",
       "\\item 'Graminacee'\n",
       "\\item 'Graminacee'\n",
       "\\item 'Graminacee'\n",
       "\\item 'Graminacee'\n",
       "\\end{enumerate*}\n"
      ],
      "text/markdown": [
       "1. 'Graminacee'\n",
       "2. 'Graminacee'\n",
       "3. 'Graminacee'\n",
       "4. 'Graminacee'\n",
       "5. 'Graminacee'\n",
       "6. 'Graminacee'\n",
       "\n",
       "\n"
      ],
      "text/plain": [
       "[1] \"Graminacee\" \"Graminacee\" \"Graminacee\" \"Graminacee\" \"Graminacee\"\n",
       "[6] \"Graminacee\""
      ]
     },
     "metadata": {},
     "output_type": "display_data"
    },
    {
     "data": {
      "text/html": [
       "<table>\n",
       "<caption>A data.frame: 6 × 12</caption>\n",
       "<thead>\n",
       "\t<tr><th></th><th scope=col>Diametro.roccia.1..cm.</th><th scope=col>Diametro.roccia.2..cm.</th><th scope=col>Diametro.roccia.3..cm.</th><th scope=col>alt_m</th><th scope=col>aspect_deg</th><th scope=col>slope_degr</th><th scope=col>n_species</th><th scope=col>MDR</th><th scope=col>IQR</th><th scope=col>Esp.tr</th><th scope=col>cop_veg_ottavi</th><th scope=col>dominant</th></tr>\n",
       "\t<tr><th></th><th scope=col>&lt;dbl&gt;</th><th scope=col>&lt;dbl&gt;</th><th scope=col>&lt;dbl&gt;</th><th scope=col>&lt;dbl&gt;</th><th scope=col>&lt;dbl&gt;</th><th scope=col>&lt;dbl&gt;</th><th scope=col>&lt;dbl&gt;</th><th scope=col>&lt;dbl&gt;</th><th scope=col>&lt;dbl&gt;</th><th scope=col>&lt;dbl&gt;</th><th scope=col>&lt;dbl&gt;</th><th scope=col>&lt;fct&gt;</th></tr>\n",
       "</thead>\n",
       "<tbody>\n",
       "\t<tr><th scope=row>1</th><td>-0.7999612</td><td> 0.4449731</td><td> 0.6121266</td><td>-0.9638930</td><td>-0.03990354</td><td>-0.004945912</td><td> 0.97220994</td><td> 0.65969346</td><td>-0.7248291</td><td>-2.7977585</td><td> 1.3660940</td><td>Graminacee</td></tr>\n",
       "\t<tr><th scope=row>2</th><td> 0.7678020</td><td>-0.7023655</td><td> 0.1200460</td><td>-1.1064717</td><td> 0.39997796</td><td> 0.341267903</td><td> 0.05432387</td><td> 0.05605239</td><td> 0.4943843</td><td>-1.1704790</td><td>-0.3135298</td><td>Graminacee</td></tr>\n",
       "\t<tr><th scope=row>3</th><td>-0.9071587</td><td> 0.2749970</td><td>-0.1449204</td><td>-1.1156660</td><td> 0.51727969</td><td>-1.505205774</td><td>-0.33905587</td><td>-0.36649637</td><td>-0.8052168</td><td>-0.7365377</td><td>-0.3135298</td><td>Graminacee</td></tr>\n",
       "\t<tr><th scope=row>4</th><td>-0.2639738</td><td>-0.9573296</td><td>-0.6370010</td><td>-1.1130010</td><td> 0.39264660</td><td>-0.581968936</td><td> 0.97220994</td><td>-1.15122977</td><td>-0.3764824</td><td>-1.1976003</td><td> 1.3660940</td><td>Graminacee</td></tr>\n",
       "\t<tr><th scope=row>5</th><td> 0.6070058</td><td>-0.7236125</td><td>-0.4288130</td><td>-1.0064001</td><td> 0.39997796</td><td>-0.235755121</td><td> 0.70995678</td><td>-0.81922717</td><td> 0.3470069</td><td>-1.1704790</td><td>-0.3135298</td><td>Graminacee</td></tr>\n",
       "\t<tr><th scope=row>6</th><td> 0.1514164</td><td>-0.9360826</td><td>-0.6370010</td><td>-0.9597622</td><td> 0.51727969</td><td>-0.697373540</td><td> 0.57883019</td><td>-1.15122977</td><td> 0.0254561</td><td>-0.7365377</td><td> 0.8062194</td><td>Graminacee</td></tr>\n",
       "</tbody>\n",
       "</table>\n"
      ],
      "text/latex": [
       "A data.frame: 6 × 12\n",
       "\\begin{tabular}{r|llllllllllll}\n",
       "  & Diametro.roccia.1..cm. & Diametro.roccia.2..cm. & Diametro.roccia.3..cm. & alt\\_m & aspect\\_deg & slope\\_degr & n\\_species & MDR & IQR & Esp.tr & cop\\_veg\\_ottavi & dominant\\\\\n",
       "  & <dbl> & <dbl> & <dbl> & <dbl> & <dbl> & <dbl> & <dbl> & <dbl> & <dbl> & <dbl> & <dbl> & <fct>\\\\\n",
       "\\hline\n",
       "\t1 & -0.7999612 &  0.4449731 &  0.6121266 & -0.9638930 & -0.03990354 & -0.004945912 &  0.97220994 &  0.65969346 & -0.7248291 & -2.7977585 &  1.3660940 & Graminacee\\\\\n",
       "\t2 &  0.7678020 & -0.7023655 &  0.1200460 & -1.1064717 &  0.39997796 &  0.341267903 &  0.05432387 &  0.05605239 &  0.4943843 & -1.1704790 & -0.3135298 & Graminacee\\\\\n",
       "\t3 & -0.9071587 &  0.2749970 & -0.1449204 & -1.1156660 &  0.51727969 & -1.505205774 & -0.33905587 & -0.36649637 & -0.8052168 & -0.7365377 & -0.3135298 & Graminacee\\\\\n",
       "\t4 & -0.2639738 & -0.9573296 & -0.6370010 & -1.1130010 &  0.39264660 & -0.581968936 &  0.97220994 & -1.15122977 & -0.3764824 & -1.1976003 &  1.3660940 & Graminacee\\\\\n",
       "\t5 &  0.6070058 & -0.7236125 & -0.4288130 & -1.0064001 &  0.39997796 & -0.235755121 &  0.70995678 & -0.81922717 &  0.3470069 & -1.1704790 & -0.3135298 & Graminacee\\\\\n",
       "\t6 &  0.1514164 & -0.9360826 & -0.6370010 & -0.9597622 &  0.51727969 & -0.697373540 &  0.57883019 & -1.15122977 &  0.0254561 & -0.7365377 &  0.8062194 & Graminacee\\\\\n",
       "\\end{tabular}\n"
      ],
      "text/markdown": [
       "\n",
       "A data.frame: 6 × 12\n",
       "\n",
       "| <!--/--> | Diametro.roccia.1..cm. &lt;dbl&gt; | Diametro.roccia.2..cm. &lt;dbl&gt; | Diametro.roccia.3..cm. &lt;dbl&gt; | alt_m &lt;dbl&gt; | aspect_deg &lt;dbl&gt; | slope_degr &lt;dbl&gt; | n_species &lt;dbl&gt; | MDR &lt;dbl&gt; | IQR &lt;dbl&gt; | Esp.tr &lt;dbl&gt; | cop_veg_ottavi &lt;dbl&gt; | dominant &lt;fct&gt; |\n",
       "|---|---|---|---|---|---|---|---|---|---|---|---|---|\n",
       "| 1 | -0.7999612 |  0.4449731 |  0.6121266 | -0.9638930 | -0.03990354 | -0.004945912 |  0.97220994 |  0.65969346 | -0.7248291 | -2.7977585 |  1.3660940 | Graminacee |\n",
       "| 2 |  0.7678020 | -0.7023655 |  0.1200460 | -1.1064717 |  0.39997796 |  0.341267903 |  0.05432387 |  0.05605239 |  0.4943843 | -1.1704790 | -0.3135298 | Graminacee |\n",
       "| 3 | -0.9071587 |  0.2749970 | -0.1449204 | -1.1156660 |  0.51727969 | -1.505205774 | -0.33905587 | -0.36649637 | -0.8052168 | -0.7365377 | -0.3135298 | Graminacee |\n",
       "| 4 | -0.2639738 | -0.9573296 | -0.6370010 | -1.1130010 |  0.39264660 | -0.581968936 |  0.97220994 | -1.15122977 | -0.3764824 | -1.1976003 |  1.3660940 | Graminacee |\n",
       "| 5 |  0.6070058 | -0.7236125 | -0.4288130 | -1.0064001 |  0.39997796 | -0.235755121 |  0.70995678 | -0.81922717 |  0.3470069 | -1.1704790 | -0.3135298 | Graminacee |\n",
       "| 6 |  0.1514164 | -0.9360826 | -0.6370010 | -0.9597622 |  0.51727969 | -0.697373540 |  0.57883019 | -1.15122977 |  0.0254561 | -0.7365377 |  0.8062194 | Graminacee |\n",
       "\n"
      ],
      "text/plain": [
       "  Diametro.roccia.1..cm. Diametro.roccia.2..cm. Diametro.roccia.3..cm.\n",
       "1 -0.7999612              0.4449731              0.6121266            \n",
       "2  0.7678020             -0.7023655              0.1200460            \n",
       "3 -0.9071587              0.2749970             -0.1449204            \n",
       "4 -0.2639738             -0.9573296             -0.6370010            \n",
       "5  0.6070058             -0.7236125             -0.4288130            \n",
       "6  0.1514164             -0.9360826             -0.6370010            \n",
       "  alt_m      aspect_deg  slope_degr   n_species   MDR         IQR       \n",
       "1 -0.9638930 -0.03990354 -0.004945912  0.97220994  0.65969346 -0.7248291\n",
       "2 -1.1064717  0.39997796  0.341267903  0.05432387  0.05605239  0.4943843\n",
       "3 -1.1156660  0.51727969 -1.505205774 -0.33905587 -0.36649637 -0.8052168\n",
       "4 -1.1130010  0.39264660 -0.581968936  0.97220994 -1.15122977 -0.3764824\n",
       "5 -1.0064001  0.39997796 -0.235755121  0.70995678 -0.81922717  0.3470069\n",
       "6 -0.9597622  0.51727969 -0.697373540  0.57883019 -1.15122977  0.0254561\n",
       "  Esp.tr     cop_veg_ottavi dominant  \n",
       "1 -2.7977585  1.3660940     Graminacee\n",
       "2 -1.1704790 -0.3135298     Graminacee\n",
       "3 -0.7365377 -0.3135298     Graminacee\n",
       "4 -1.1976003  1.3660940     Graminacee\n",
       "5 -1.1704790 -0.3135298     Graminacee\n",
       "6 -0.7365377  0.8062194     Graminacee"
      ]
     },
     "metadata": {},
     "output_type": "display_data"
    }
   ],
   "source": [
    "head(siteCovs_orig$dominant)\n",
    "head(siteCovs(arvicole))"
   ]
  },
  {
   "cell_type": "code",
   "execution_count": 6,
   "metadata": {},
   "outputs": [
    {
     "data": {
      "text/html": [
       "<table>\n",
       "<caption>A data.frame: 6 × 5</caption>\n",
       "<thead>\n",
       "\t<tr><th></th><th scope=col>alt_m</th><th scope=col>cop_veg_ottavi</th><th scope=col>Esp.tr</th><th scope=col>MDR</th><th scope=col>dominant</th></tr>\n",
       "\t<tr><th></th><th scope=col>&lt;dbl&gt;</th><th scope=col>&lt;dbl&gt;</th><th scope=col>&lt;dbl&gt;</th><th scope=col>&lt;dbl&gt;</th><th scope=col>&lt;fct&gt;</th></tr>\n",
       "</thead>\n",
       "<tbody>\n",
       "\t<tr><th scope=row>1</th><td>-1.534341</td><td>-1.433279</td><td>-2.797759</td><td>-1.392686</td><td>Graminacee</td></tr>\n",
       "\t<tr><th scope=row>2</th><td>-1.499264</td><td>-1.393692</td><td>-2.746255</td><td>-1.336590</td><td>Graminacee</td></tr>\n",
       "\t<tr><th scope=row>3</th><td>-1.464186</td><td>-1.354105</td><td>-2.694752</td><td>-1.280494</td><td>Graminacee</td></tr>\n",
       "\t<tr><th scope=row>4</th><td>-1.429109</td><td>-1.314518</td><td>-2.643249</td><td>-1.224398</td><td>Graminacee</td></tr>\n",
       "\t<tr><th scope=row>5</th><td>-1.394032</td><td>-1.274931</td><td>-2.591746</td><td>-1.168302</td><td>Graminacee</td></tr>\n",
       "\t<tr><th scope=row>6</th><td>-1.358954</td><td>-1.235344</td><td>-2.540243</td><td>-1.112207</td><td>Graminacee</td></tr>\n",
       "</tbody>\n",
       "</table>\n"
      ],
      "text/latex": [
       "A data.frame: 6 × 5\n",
       "\\begin{tabular}{r|lllll}\n",
       "  & alt\\_m & cop\\_veg\\_ottavi & Esp.tr & MDR & dominant\\\\\n",
       "  & <dbl> & <dbl> & <dbl> & <dbl> & <fct>\\\\\n",
       "\\hline\n",
       "\t1 & -1.534341 & -1.433279 & -2.797759 & -1.392686 & Graminacee\\\\\n",
       "\t2 & -1.499264 & -1.393692 & -2.746255 & -1.336590 & Graminacee\\\\\n",
       "\t3 & -1.464186 & -1.354105 & -2.694752 & -1.280494 & Graminacee\\\\\n",
       "\t4 & -1.429109 & -1.314518 & -2.643249 & -1.224398 & Graminacee\\\\\n",
       "\t5 & -1.394032 & -1.274931 & -2.591746 & -1.168302 & Graminacee\\\\\n",
       "\t6 & -1.358954 & -1.235344 & -2.540243 & -1.112207 & Graminacee\\\\\n",
       "\\end{tabular}\n"
      ],
      "text/markdown": [
       "\n",
       "A data.frame: 6 × 5\n",
       "\n",
       "| <!--/--> | alt_m &lt;dbl&gt; | cop_veg_ottavi &lt;dbl&gt; | Esp.tr &lt;dbl&gt; | MDR &lt;dbl&gt; | dominant &lt;fct&gt; |\n",
       "|---|---|---|---|---|---|\n",
       "| 1 | -1.534341 | -1.433279 | -2.797759 | -1.392686 | Graminacee |\n",
       "| 2 | -1.499264 | -1.393692 | -2.746255 | -1.336590 | Graminacee |\n",
       "| 3 | -1.464186 | -1.354105 | -2.694752 | -1.280494 | Graminacee |\n",
       "| 4 | -1.429109 | -1.314518 | -2.643249 | -1.224398 | Graminacee |\n",
       "| 5 | -1.394032 | -1.274931 | -2.591746 | -1.168302 | Graminacee |\n",
       "| 6 | -1.358954 | -1.235344 | -2.540243 | -1.112207 | Graminacee |\n",
       "\n"
      ],
      "text/plain": [
       "  alt_m     cop_veg_ottavi Esp.tr    MDR       dominant  \n",
       "1 -1.534341 -1.433279      -2.797759 -1.392686 Graminacee\n",
       "2 -1.499264 -1.393692      -2.746255 -1.336590 Graminacee\n",
       "3 -1.464186 -1.354105      -2.694752 -1.280494 Graminacee\n",
       "4 -1.429109 -1.314518      -2.643249 -1.224398 Graminacee\n",
       "5 -1.394032 -1.274931      -2.591746 -1.168302 Graminacee\n",
       "6 -1.358954 -1.235344      -2.540243 -1.112207 Graminacee"
      ]
     },
     "metadata": {},
     "output_type": "display_data"
    }
   ],
   "source": [
    "# Predict abundance at specified covariate values.\n",
    "df_indicato <- siteCovs(arvicole)\n",
    "alt_m.seq <- seq(min(df_indicato$alt_m), max(df_indicato$alt_m), length=100)\n",
    "cop_veg_ottavi.seq <- seq(min(df_indicato$cop_veg_ottavi, na.rm=TRUE), max(df_indicato$cop_veg_ottavi, na.rm=TRUE), length=100)\n",
    "Esp.tr.seq <- seq(min(df_indicato$Esp.tr), max(df_indicato$Esp.tr), length=100)\n",
    "MDR.seq <- seq(min(df_indicato$MDR), max(df_indicato$MDR), length=100)\n",
    "\n",
    "newdat_graminacee <- data.frame(\n",
    "    alt_m = alt_m.seq,\n",
    "    cop_veg_ottavi = cop_veg_ottavi.seq,\n",
    "    Esp.tr = Esp.tr.seq,\n",
    "    MDR = MDR.seq,\n",
    "    dominant = \"Graminacee\"\n",
    ")   \n",
    "newdat_muschio <- data.frame(\n",
    "    alt_m = alt_m.seq,\n",
    "    cop_veg_ottavi = cop_veg_ottavi.seq,\n",
    "    Esp.tr = Esp.tr.seq,\n",
    "    MDR = MDR.seq,\n",
    "    dominant = \"Muschio\"\n",
    ")\n",
    "newdat_other <- data.frame(\n",
    "    alt_m = alt_m.seq,\n",
    "    cop_veg_ottavi = cop_veg_ottavi.seq,\n",
    "    Esp.tr = Esp.tr.seq,\n",
    "    MDR = MDR.seq,\n",
    "    dominant = \"Other_Sp\"\n",
    ")\n",
    "newdata <- rbind(newdat_graminacee,newdat_muschio,newdat_other)\n",
    "head(newdata)"
   ]
  },
  {
   "cell_type": "code",
   "execution_count": 7,
   "metadata": {},
   "outputs": [
    {
     "data": {
      "text/html": [
       "<table>\n",
       "<caption>A matrix: 1 × 3 of type dbl</caption>\n",
       "<thead>\n",
       "\t<tr><th></th><th scope=col>Estimate</th><th scope=col>5%</th><th scope=col>95%</th></tr>\n",
       "</thead>\n",
       "<tbody>\n",
       "\t<tr><th scope=row>PAO</th><td>0.3531944</td><td>0.2428571</td><td>0.8571429</td></tr>\n",
       "</tbody>\n",
       "</table>\n"
      ],
      "text/latex": [
       "A matrix: 1 × 3 of type dbl\n",
       "\\begin{tabular}{r|lll}\n",
       "  & Estimate & 5\\% & 95\\%\\\\\n",
       "\\hline\n",
       "\tPAO & 0.3531944 & 0.2428571 & 0.8571429\\\\\n",
       "\\end{tabular}\n"
      ],
      "text/markdown": [
       "\n",
       "A matrix: 1 × 3 of type dbl\n",
       "\n",
       "| <!--/--> | Estimate | 5% | 95% |\n",
       "|---|---|---|---|\n",
       "| PAO | 0.3531944 | 0.2428571 | 0.8571429 |\n",
       "\n"
      ],
      "text/plain": [
       "    Estimate  5%        95%      \n",
       "PAO 0.3531944 0.2428571 0.8571429"
      ]
     },
     "metadata": {},
     "output_type": "display_data"
    }
   ],
   "source": [
    "siti_considerati <- 70-length(best_mod@sitesRemoved) # In totale, al massimo nelle analisi consideriamo 70 siti, alcuni anni meno\n",
    "re <- ranef(best_mod)\n",
    "EBUP <- bup(re, stat=\"mean\")\n",
    "CI <- confint(re, level=0.90)\n",
    "rbind(PAO = c(Estimate = sum(EBUP), colSums(CI))/siti_considerati)"
   ]
  },
  {
   "cell_type": "code",
   "execution_count": 8,
   "metadata": {},
   "outputs": [
    {
     "data": {
      "text/html": [
       "<table>\n",
       "<caption>A data.frame: 6 × 9</caption>\n",
       "<thead>\n",
       "\t<tr><th></th><th scope=col>alt_m</th><th scope=col>cop_veg_ottavi</th><th scope=col>Esp.tr</th><th scope=col>MDR</th><th scope=col>Predicted</th><th scope=col>SE</th><th scope=col>lower</th><th scope=col>upper</th><th scope=col>dominant</th></tr>\n",
       "\t<tr><th></th><th scope=col>&lt;dbl&gt;</th><th scope=col>&lt;dbl&gt;</th><th scope=col>&lt;dbl&gt;</th><th scope=col>&lt;dbl&gt;</th><th scope=col>&lt;dbl&gt;</th><th scope=col>&lt;dbl&gt;</th><th scope=col>&lt;dbl&gt;</th><th scope=col>&lt;dbl&gt;</th><th scope=col>&lt;fct&gt;</th></tr>\n",
       "</thead>\n",
       "<tbody>\n",
       "\t<tr><th scope=row>295</th><td>2802.670</td><td>6.646465</td><td>52.50505</td><td>202.7071</td><td>0.02655704</td><td>0.1210616</td><td>2.816852e-06</td><td>0.9962296</td><td>Other_Sp</td></tr>\n",
       "\t<tr><th scope=row>296</th><td>2802.933</td><td>6.717172</td><td>54.40404</td><td>204.5657</td><td>0.02534246</td><td>0.1174486</td><td>2.331124e-06</td><td>0.9965638</td><td>Other_Sp</td></tr>\n",
       "\t<tr><th scope=row>297</th><td>2803.196</td><td>6.787879</td><td>56.30303</td><td>206.4242</td><td>0.02418205</td><td>0.1139049</td><td>1.929045e-06</td><td>0.9968686</td><td>Other_Sp</td></tr>\n",
       "\t<tr><th scope=row>298</th><td>2803.460</td><td>6.858586</td><td>58.20202</td><td>208.2828</td><td>0.02307352</td><td>0.1104321</td><td>1.596233e-06</td><td>0.9971467</td><td>Other_Sp</td></tr>\n",
       "\t<tr><th scope=row>299</th><td>2803.723</td><td>6.929293</td><td>60.10101</td><td>210.1414</td><td>0.02201465</td><td>0.1070315</td><td>1.320771e-06</td><td>0.9974002</td><td>Other_Sp</td></tr>\n",
       "\t<tr><th scope=row>300</th><td>2803.986</td><td>7.000000</td><td>62.00000</td><td>212.0000</td><td>0.02100334</td><td>0.1037038</td><td>1.092793e-06</td><td>0.9976314</td><td>Other_Sp</td></tr>\n",
       "</tbody>\n",
       "</table>\n"
      ],
      "text/latex": [
       "A data.frame: 6 × 9\n",
       "\\begin{tabular}{r|lllllllll}\n",
       "  & alt\\_m & cop\\_veg\\_ottavi & Esp.tr & MDR & Predicted & SE & lower & upper & dominant\\\\\n",
       "  & <dbl> & <dbl> & <dbl> & <dbl> & <dbl> & <dbl> & <dbl> & <dbl> & <fct>\\\\\n",
       "\\hline\n",
       "\t295 & 2802.670 & 6.646465 & 52.50505 & 202.7071 & 0.02655704 & 0.1210616 & 2.816852e-06 & 0.9962296 & Other\\_Sp\\\\\n",
       "\t296 & 2802.933 & 6.717172 & 54.40404 & 204.5657 & 0.02534246 & 0.1174486 & 2.331124e-06 & 0.9965638 & Other\\_Sp\\\\\n",
       "\t297 & 2803.196 & 6.787879 & 56.30303 & 206.4242 & 0.02418205 & 0.1139049 & 1.929045e-06 & 0.9968686 & Other\\_Sp\\\\\n",
       "\t298 & 2803.460 & 6.858586 & 58.20202 & 208.2828 & 0.02307352 & 0.1104321 & 1.596233e-06 & 0.9971467 & Other\\_Sp\\\\\n",
       "\t299 & 2803.723 & 6.929293 & 60.10101 & 210.1414 & 0.02201465 & 0.1070315 & 1.320771e-06 & 0.9974002 & Other\\_Sp\\\\\n",
       "\t300 & 2803.986 & 7.000000 & 62.00000 & 212.0000 & 0.02100334 & 0.1037038 & 1.092793e-06 & 0.9976314 & Other\\_Sp\\\\\n",
       "\\end{tabular}\n"
      ],
      "text/markdown": [
       "\n",
       "A data.frame: 6 × 9\n",
       "\n",
       "| <!--/--> | alt_m &lt;dbl&gt; | cop_veg_ottavi &lt;dbl&gt; | Esp.tr &lt;dbl&gt; | MDR &lt;dbl&gt; | Predicted &lt;dbl&gt; | SE &lt;dbl&gt; | lower &lt;dbl&gt; | upper &lt;dbl&gt; | dominant &lt;fct&gt; |\n",
       "|---|---|---|---|---|---|---|---|---|---|\n",
       "| 295 | 2802.670 | 6.646465 | 52.50505 | 202.7071 | 0.02655704 | 0.1210616 | 2.816852e-06 | 0.9962296 | Other_Sp |\n",
       "| 296 | 2802.933 | 6.717172 | 54.40404 | 204.5657 | 0.02534246 | 0.1174486 | 2.331124e-06 | 0.9965638 | Other_Sp |\n",
       "| 297 | 2803.196 | 6.787879 | 56.30303 | 206.4242 | 0.02418205 | 0.1139049 | 1.929045e-06 | 0.9968686 | Other_Sp |\n",
       "| 298 | 2803.460 | 6.858586 | 58.20202 | 208.2828 | 0.02307352 | 0.1104321 | 1.596233e-06 | 0.9971467 | Other_Sp |\n",
       "| 299 | 2803.723 | 6.929293 | 60.10101 | 210.1414 | 0.02201465 | 0.1070315 | 1.320771e-06 | 0.9974002 | Other_Sp |\n",
       "| 300 | 2803.986 | 7.000000 | 62.00000 | 212.0000 | 0.02100334 | 0.1037038 | 1.092793e-06 | 0.9976314 | Other_Sp |\n",
       "\n"
      ],
      "text/plain": [
       "    alt_m    cop_veg_ottavi Esp.tr   MDR      Predicted  SE        lower       \n",
       "295 2802.670 6.646465       52.50505 202.7071 0.02655704 0.1210616 2.816852e-06\n",
       "296 2802.933 6.717172       54.40404 204.5657 0.02534246 0.1174486 2.331124e-06\n",
       "297 2803.196 6.787879       56.30303 206.4242 0.02418205 0.1139049 1.929045e-06\n",
       "298 2803.460 6.858586       58.20202 208.2828 0.02307352 0.1104321 1.596233e-06\n",
       "299 2803.723 6.929293       60.10101 210.1414 0.02201465 0.1070315 1.320771e-06\n",
       "300 2803.986 7.000000       62.00000 212.0000 0.02100334 0.1037038 1.092793e-06\n",
       "    upper     dominant\n",
       "295 0.9962296 Other_Sp\n",
       "296 0.9965638 Other_Sp\n",
       "297 0.9968686 Other_Sp\n",
       "298 0.9971467 Other_Sp\n",
       "299 0.9974002 Other_Sp\n",
       "300 0.9976314 Other_Sp"
      ]
     },
     "metadata": {},
     "output_type": "display_data"
    }
   ],
   "source": [
    "Elambda <- predict(best_mod, \n",
    "        type='state', \n",
    "        newdata = newdata,\n",
    "        appendData = TRUE)\n",
    "\n",
    "Elambda_unscaled <- myunscale(Elambda, siteCovs_scaled, c(\"alt_m\",\"cop_veg_ottavi\",\"Esp.tr\",\"MDR\"))\n",
    "tail(Elambda_unscaled)"
   ]
  },
  {
   "cell_type": "code",
   "execution_count": 9,
   "metadata": {},
   "outputs": [
    {
     "data": {
      "image/png": "[encoded data removed]",
      "text/plain": [
       "plot without title"
      ]
     },
     "metadata": {
      "image/png": {
       "height": 420,
       "width": 420
      }
     },
     "output_type": "display_data"
    },
    {
     "data": {
      "image/png": "[encoded data removed]",
      "text/plain": [
       "plot without title"
      ]
     },
     "metadata": {
      "image/png": {
       "height": 420,
       "width": 420
      }
     },
     "output_type": "display_data"
    },
    {
     "data": {
      "image/png": "[encoded data removed]",
      "text/plain": [
       "plot without title"
      ]
     },
     "metadata": {
      "image/png": {
       "height": 420,
       "width": 420
      }
     },
     "output_type": "display_data"
    }
   ],
   "source": [
    "with(subset(Elambda_unscaled,dominant==\"Graminacee\"), {\n",
    "  plot(alt_m, Predicted, xlab=\"alt_m\", type=\"l\", # names = habitat,\n",
    "       ylab=\"Probabilità di effettiva presenza con sp. Graminacee\", #ylim=c(-20, 40), # cex.names=0.7,\n",
    "       cex.lab=0.7, cex.axis=0.7, lwd=2, col=\"red\")\n",
    "   lines(alt_m, Predicted+SE, lty=3, col=\"dark grey\")\n",
    "   lines(alt_m, Predicted-SE, lty=3, col=\"dark grey\")\n",
    "  #lines(cop_veg_ottavi, upper, lty=1, col=\"grey\")\n",
    "  #lines(cop_veg_ottavi, lower, lty=1, col=\"grey\")\n",
    "})\n",
    "with(subset(Elambda_unscaled,dominant==\"Muschio\"), {\n",
    "  plot(MDR, Predicted, xlab=\"MDR\", type=\"l\", # names = habitat,\n",
    "       ylab=\"Probabilità di effettiva presenza con sp. Muschio\", #ylim=c(-20, 40), # cex.names=0.7,\n",
    "       cex.lab=0.7, cex.axis=0.7, lwd=2, col=\"red\")\n",
    "   lines(MDR, Predicted+SE, lty=3, col=\"dark grey\")\n",
    "   lines(MDR, Predicted-SE, lty=3, col=\"dark grey\")\n",
    "  #lines(MDR, upper, lty=1, col=\"grey\")\n",
    "  #lines(MDR, lower, lty=1, col=\"grey\")\n",
    "})\n",
    "\n",
    "with(subset(Elambda_unscaled,dominant==\"Other_Sp\"), {\n",
    "  plot(Esp.tr, Predicted, xlab=\"Esp.tr\", type=\"l\", # names = habitat,\n",
    "       ylab=\"Probabilità di effettiva presenza con sp. Other_Sp\", #ylim=c(-20, 40), # cex.names=0.7,\n",
    "       cex.lab=0.7, cex.axis=0.7, lwd=2, col=\"red\")\n",
    "   lines(Esp.tr, Predicted+SE, lty=3, col=\"dark grey\")\n",
    "   lines(Esp.tr, Predicted-SE, lty=3, col=\"dark grey\")\n",
    "  #lines(Esp.tr, upper, lty=1, col=\"grey\")\n",
    "  #lines(Esp.tr, lower, lty=1, col=\"grey\")\n",
    "})"
   ]
  },
  {
   "cell_type": "markdown",
   "metadata": {},
   "source": [
    "#### Possiamo notare che vi è una maggior probabilità di cattura con l'aumentare dell'altitudine, col'aumentare delle dimensione delle rocce ed l'aumento della esposizione."
   ]
  },
  {
   "cell_type": "markdown",
   "metadata": {},
   "source": [
    "### Proseguiamo con ulteriori valutazioni sulla temperatura"
   ]
  },
  {
   "cell_type": "code",
   "execution_count": 10,
   "metadata": {},
   "outputs": [],
   "source": [
    "#### predizioni di abbondanza con valori di covariate specifici.\n",
    "df_indicato <- siteCovs(arvicole)\n",
    "df_indicato2 <- obsCovs(arvicole)\n",
    "alt_m.seq <- seq(min(df_indicato$alt_m), max(df_indicato$alt_m), length=100)\n",
    "cop_veg_ottavi.seq <- seq(min(df_indicato$cop_veg_ottavi, na.rm=TRUE), max(df_indicato$cop_veg_ottavi, na.rm=TRUE), length=100)\n",
    "Esp.tr.seq <- seq(min(df_indicato$Esp.tr), max(df_indicato$Esp.tr), length=100)\n",
    "MDR.seq <- seq(min(df_indicato$MDR), max(df_indicato$MDR), length=100)\n",
    "temper.seq <- seq(min(df_indicato2$temper), max(df_indicato2$temper), length=100)\n",
    "vento.seq <- seq(min(df_indicato2$vento), max(df_indicato2$vento), length=100)\n",
    "precip.seq <- seq(min(df_indicato2$precip), max(df_indicato2$precip), length=100)\n",
    "\n",
    "newdat_tempTr <- data.frame(\n",
    "    alt_m = alt_m.seq,\n",
    "    MDR = mean(df_indicato$MDR),\n",
    "    temper = temper.seq,\n",
    "    orario = \"Al\",\n",
    "    vento = vento.seq,\n",
    "    precip = precip.seq\n",
    ")\n",
    "\n",
    "\n",
    "Elambda <- predict(best_mod, \n",
    "        type='det', \n",
    "        newdata = newdat_tempTr,\n",
    "        appendData = TRUE)\n",
    "\n"
   ]
  },
  {
   "cell_type": "code",
   "execution_count": 11,
   "metadata": {},
   "outputs": [
    {
     "data": {
      "text/html": [
       "<table>\n",
       "<caption>A data.frame: 6 × 10</caption>\n",
       "<thead>\n",
       "\t<tr><th></th><th scope=col>alt_m</th><th scope=col>MDR</th><th scope=col>Predicted</th><th scope=col>SE</th><th scope=col>lower</th><th scope=col>upper</th><th scope=col>temper</th><th scope=col>orario</th><th scope=col>vento</th><th scope=col>precip</th></tr>\n",
       "\t<tr><th></th><th scope=col>&lt;dbl&gt;</th><th scope=col>&lt;dbl&gt;</th><th scope=col>&lt;dbl&gt;</th><th scope=col>&lt;dbl&gt;</th><th scope=col>&lt;dbl&gt;</th><th scope=col>&lt;dbl&gt;</th><th scope=col>&lt;dbl&gt;</th><th scope=col>&lt;fct&gt;</th><th scope=col>&lt;dbl&gt;</th><th scope=col>&lt;dbl&gt;</th></tr>\n",
       "</thead>\n",
       "<tbody>\n",
       "\t<tr><th scope=row>95</th><td>2802.670</td><td>74.14286</td><td>0.01412439</td><td>0.01480452</td><td>0.001779926</td><td>0.1032288</td><td>16.95051</td><td>Al</td><td>2.783838</td><td>0.9494949</td></tr>\n",
       "\t<tr><th scope=row>96</th><td>2802.933</td><td>74.14286</td><td>0.01369510</td><td>0.01457091</td><td>0.001673458</td><td>0.1031535</td><td>17.04040</td><td>Al</td><td>2.807071</td><td>0.9595960</td></tr>\n",
       "\t<tr><th scope=row>97</th><td>2803.196</td><td>74.14286</td><td>0.01327868</td><td>0.01433813</td><td>0.001573231</td><td>0.1030850</td><td>17.13030</td><td>Al</td><td>2.830303</td><td>0.9696970</td></tr>\n",
       "\t<tr><th scope=row>98</th><td>2803.460</td><td>74.14286</td><td>0.01287476</td><td>0.01410630</td><td>0.001478893</td><td>0.1030233</td><td>17.22020</td><td>Al</td><td>2.853535</td><td>0.9797980</td></tr>\n",
       "\t<tr><th scope=row>99</th><td>2803.723</td><td>74.14286</td><td>0.01248297</td><td>0.01387555</td><td>0.001390108</td><td>0.1029679</td><td>17.31010</td><td>Al</td><td>2.876768</td><td>0.9898990</td></tr>\n",
       "\t<tr><th scope=row>100</th><td>2803.986</td><td>74.14286</td><td>0.01210296</td><td>0.01364601</td><td>0.001306560</td><td>0.1029187</td><td>17.40000</td><td>Al</td><td>2.900000</td><td>1.0000000</td></tr>\n",
       "</tbody>\n",
       "</table>\n"
      ],
      "text/latex": [
       "A data.frame: 6 × 10\n",
       "\\begin{tabular}{r|llllllllll}\n",
       "  & alt\\_m & MDR & Predicted & SE & lower & upper & temper & orario & vento & precip\\\\\n",
       "  & <dbl> & <dbl> & <dbl> & <dbl> & <dbl> & <dbl> & <dbl> & <fct> & <dbl> & <dbl>\\\\\n",
       "\\hline\n",
       "\t95 & 2802.670 & 74.14286 & 0.01412439 & 0.01480452 & 0.001779926 & 0.1032288 & 16.95051 & Al & 2.783838 & 0.9494949\\\\\n",
       "\t96 & 2802.933 & 74.14286 & 0.01369510 & 0.01457091 & 0.001673458 & 0.1031535 & 17.04040 & Al & 2.807071 & 0.9595960\\\\\n",
       "\t97 & 2803.196 & 74.14286 & 0.01327868 & 0.01433813 & 0.001573231 & 0.1030850 & 17.13030 & Al & 2.830303 & 0.9696970\\\\\n",
       "\t98 & 2803.460 & 74.14286 & 0.01287476 & 0.01410630 & 0.001478893 & 0.1030233 & 17.22020 & Al & 2.853535 & 0.9797980\\\\\n",
       "\t99 & 2803.723 & 74.14286 & 0.01248297 & 0.01387555 & 0.001390108 & 0.1029679 & 17.31010 & Al & 2.876768 & 0.9898990\\\\\n",
       "\t100 & 2803.986 & 74.14286 & 0.01210296 & 0.01364601 & 0.001306560 & 0.1029187 & 17.40000 & Al & 2.900000 & 1.0000000\\\\\n",
       "\\end{tabular}\n"
      ],
      "text/markdown": [
       "\n",
       "A data.frame: 6 × 10\n",
       "\n",
       "| <!--/--> | alt_m &lt;dbl&gt; | MDR &lt;dbl&gt; | Predicted &lt;dbl&gt; | SE &lt;dbl&gt; | lower &lt;dbl&gt; | upper &lt;dbl&gt; | temper &lt;dbl&gt; | orario &lt;fct&gt; | vento &lt;dbl&gt; | precip &lt;dbl&gt; |\n",
       "|---|---|---|---|---|---|---|---|---|---|---|\n",
       "| 95 | 2802.670 | 74.14286 | 0.01412439 | 0.01480452 | 0.001779926 | 0.1032288 | 16.95051 | Al | 2.783838 | 0.9494949 |\n",
       "| 96 | 2802.933 | 74.14286 | 0.01369510 | 0.01457091 | 0.001673458 | 0.1031535 | 17.04040 | Al | 2.807071 | 0.9595960 |\n",
       "| 97 | 2803.196 | 74.14286 | 0.01327868 | 0.01433813 | 0.001573231 | 0.1030850 | 17.13030 | Al | 2.830303 | 0.9696970 |\n",
       "| 98 | 2803.460 | 74.14286 | 0.01287476 | 0.01410630 | 0.001478893 | 0.1030233 | 17.22020 | Al | 2.853535 | 0.9797980 |\n",
       "| 99 | 2803.723 | 74.14286 | 0.01248297 | 0.01387555 | 0.001390108 | 0.1029679 | 17.31010 | Al | 2.876768 | 0.9898990 |\n",
       "| 100 | 2803.986 | 74.14286 | 0.01210296 | 0.01364601 | 0.001306560 | 0.1029187 | 17.40000 | Al | 2.900000 | 1.0000000 |\n",
       "\n"
      ],
      "text/plain": [
       "    alt_m    MDR      Predicted  SE         lower       upper     temper  \n",
       "95  2802.670 74.14286 0.01412439 0.01480452 0.001779926 0.1032288 16.95051\n",
       "96  2802.933 74.14286 0.01369510 0.01457091 0.001673458 0.1031535 17.04040\n",
       "97  2803.196 74.14286 0.01327868 0.01433813 0.001573231 0.1030850 17.13030\n",
       "98  2803.460 74.14286 0.01287476 0.01410630 0.001478893 0.1030233 17.22020\n",
       "99  2803.723 74.14286 0.01248297 0.01387555 0.001390108 0.1029679 17.31010\n",
       "100 2803.986 74.14286 0.01210296 0.01364601 0.001306560 0.1029187 17.40000\n",
       "    orario vento    precip   \n",
       "95  Al     2.783838 0.9494949\n",
       "96  Al     2.807071 0.9595960\n",
       "97  Al     2.830303 0.9696970\n",
       "98  Al     2.853535 0.9797980\n",
       "99  Al     2.876768 0.9898990\n",
       "100 Al     2.900000 1.0000000"
      ]
     },
     "metadata": {},
     "output_type": "display_data"
    }
   ],
   "source": [
    "Elambda_unscaled <- myunscale(Elambda, siteCovs_scaled, c(\"alt_m\",\"MDR\"))\n",
    "tail(Elambda_unscaled)"
   ]
  },
  {
   "cell_type": "code",
   "execution_count": 12,
   "metadata": {},
   "outputs": [
    {
     "data": {
      "image/png": "[encoded data removed]",
      "text/plain": [
       "plot without title"
      ]
     },
     "metadata": {
      "image/png": {
       "height": 420,
       "width": 420
      }
     },
     "output_type": "display_data"
    }
   ],
   "source": [
    "with(Elambda_unscaled, {\n",
    "    plot(temper, Predicted, xlab=\"temperatura\",\n",
    "        ylab=\"Probabilità di cattura\",\n",
    "        cex.lab=0.7, lwd=2, col=\"red\")\n",
    "    lines(temper, upper, lty=2, col=\"grey\")\n",
    "    lines(temper, lower,lty=2, col=\"grey\" )\n",
    "})  "
   ]
  },
  {
   "cell_type": "markdown",
   "metadata": {},
   "source": [
    "#### Questo dimostra che per la singola sessione è molto difficile mostrare i trend sulla probabilità di avvistamento "
   ]
  }
 ],
 "metadata": {
  "kernelspec": {
   "display_name": "R",
   "language": "R",
   "name": "ir"
  },
  "language_info": {
   "codemirror_mode": "r",
   "file_extension": ".r",
   "mimetype": "text/x-r-source",
   "name": "R",
   "pygments_lexer": "r",
   "version": "3.6.3"
  }
 },
 "nbformat": 4,
 "nbformat_minor": 4
}
