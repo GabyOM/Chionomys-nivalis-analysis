{
 "cells": [
  {
   "cell_type": "markdown",
   "metadata": {},
   "source": [
    "# Analisi CMR\n",
    "#### Claudia Gabriela Ochoa Martinez (2020)\n",
    "##### Verifica numero di soggetti catturati in base al sesso e orario di cattura. "
   ]
  },
  {
   "cell_type": "code",
   "execution_count": 1,
   "metadata": {},
   "outputs": [
    {
     "name": "stderr",
     "output_type": "stream",
     "text": [
      "\n",
      "Attaching package: 'dplyr'\n",
      "\n",
      "\n",
      "The following objects are masked from 'package:stats':\n",
      "\n",
      "    filter, lag\n",
      "\n",
      "\n",
      "The following objects are masked from 'package:base':\n",
      "\n",
      "    intersect, setdiff, setequal, union\n",
      "\n",
      "\n",
      "\n",
      "Attaching package: 'gridExtra'\n",
      "\n",
      "\n",
      "The following object is masked from 'package:dplyr':\n",
      "\n",
      "    combine\n",
      "\n",
      "\n"
     ]
    }
   ],
   "source": [
    "library(dplyr)\n",
    "library(gridExtra)"
   ]
  },
  {
   "cell_type": "markdown",
   "metadata": {},
   "source": [
    "##### Carichiamo i dati relative alle catture ed sforzo di campionamento"
   ]
  },
  {
   "cell_type": "code",
   "execution_count": 2,
   "metadata": {},
   "outputs": [
    {
     "data": {
      "text/html": [
       "<table>\n",
       "<caption>A data.frame: 6 × 16</caption>\n",
       "<thead>\n",
       "\t<tr><th></th><th scope=col>ID_cattura</th><th scope=col>ALBA</th><th scope=col>sessione</th><th scope=col>occasione</th><th scope=col>ID_TRAPPOLA</th><th scope=col>chip</th><th scope=col>ricattura</th><th scope=col>pelo</th><th scope=col>peso..g.</th><th scope=col>sex</th><th scope=col>eta</th><th scope=col>statoripr</th><th scope=col>NOTE</th><th scope=col>DOY</th><th scope=col>Data_R</th><th scope=col>Anno</th></tr>\n",
       "\t<tr><th></th><th scope=col>&lt;int&gt;</th><th scope=col>&lt;fct&gt;</th><th scope=col>&lt;int&gt;</th><th scope=col>&lt;int&gt;</th><th scope=col>&lt;fct&gt;</th><th scope=col>&lt;fct&gt;</th><th scope=col>&lt;fct&gt;</th><th scope=col>&lt;fct&gt;</th><th scope=col>&lt;int&gt;</th><th scope=col>&lt;fct&gt;</th><th scope=col>&lt;fct&gt;</th><th scope=col>&lt;fct&gt;</th><th scope=col>&lt;fct&gt;</th><th scope=col>&lt;int&gt;</th><th scope=col>&lt;fct&gt;</th><th scope=col>&lt;int&gt;</th></tr>\n",
       "</thead>\n",
       "<tbody>\n",
       "\t<tr><th scope=row>1</th><td>1</td><td>T</td><td>1</td><td>1</td><td>11</td><td>1315302</td><td>N </td><td>NA  </td><td>36</td><td>F</td><td>A</td><td>NR</td><td>NA</td><td>243</td><td>2014-08-31</td><td>2014</td></tr>\n",
       "\t<tr><th scope=row>2</th><td>2</td><td>A</td><td>1</td><td>2</td><td>6 </td><td>NA     </td><td>N </td><td>SI  </td><td>35</td><td>F</td><td>A</td><td>NR</td><td>NA</td><td>244</td><td>2014-09-01</td><td>2014</td></tr>\n",
       "\t<tr><th scope=row>3</th><td>3</td><td>A</td><td>1</td><td>2</td><td>11</td><td>NA     </td><td>N </td><td>SI e</td><td>41</td><td>M</td><td>A</td><td>R </td><td>NA</td><td>244</td><td>2014-09-01</td><td>2014</td></tr>\n",
       "\t<tr><th scope=row>4</th><td>4</td><td>A</td><td>1</td><td>2</td><td>35</td><td>1314921</td><td>N </td><td>NA  </td><td>39</td><td>F</td><td>A</td><td>NA</td><td>NA</td><td>244</td><td>2014-09-01</td><td>2014</td></tr>\n",
       "\t<tr><th scope=row>5</th><td>5</td><td>A</td><td>1</td><td>2</td><td>45</td><td>1314375</td><td>N </td><td>NA  </td><td>33</td><td>M</td><td>G</td><td>NR</td><td>NA</td><td>244</td><td>2014-09-01</td><td>2014</td></tr>\n",
       "\t<tr><th scope=row>6</th><td>6</td><td>T</td><td>1</td><td>3</td><td>26</td><td>1314305</td><td>N </td><td>NA  </td><td>45</td><td>M</td><td>A</td><td>R </td><td>NA</td><td>244</td><td>2014-09-01</td><td>2014</td></tr>\n",
       "</tbody>\n",
       "</table>\n"
      ],
      "text/latex": [
       "A data.frame: 6 × 16\n",
       "\\begin{tabular}{r|llllllllllllllll}\n",
       "  & ID\\_cattura & ALBA & sessione & occasione & ID\\_TRAPPOLA & chip & ricattura & pelo & peso..g. & sex & eta & statoripr & NOTE & DOY & Data\\_R & Anno\\\\\n",
       "  & <int> & <fct> & <int> & <int> & <fct> & <fct> & <fct> & <fct> & <int> & <fct> & <fct> & <fct> & <fct> & <int> & <fct> & <int>\\\\\n",
       "\\hline\n",
       "\t1 & 1 & T & 1 & 1 & 11 & 1315302 & N  & NA   & 36 & F & A & NR & NA & 243 & 2014-08-31 & 2014\\\\\n",
       "\t2 & 2 & A & 1 & 2 & 6  & NA      & N  & SI   & 35 & F & A & NR & NA & 244 & 2014-09-01 & 2014\\\\\n",
       "\t3 & 3 & A & 1 & 2 & 11 & NA      & N  & SI e & 41 & M & A & R  & NA & 244 & 2014-09-01 & 2014\\\\\n",
       "\t4 & 4 & A & 1 & 2 & 35 & 1314921 & N  & NA   & 39 & F & A & NA & NA & 244 & 2014-09-01 & 2014\\\\\n",
       "\t5 & 5 & A & 1 & 2 & 45 & 1314375 & N  & NA   & 33 & M & G & NR & NA & 244 & 2014-09-01 & 2014\\\\\n",
       "\t6 & 6 & T & 1 & 3 & 26 & 1314305 & N  & NA   & 45 & M & A & R  & NA & 244 & 2014-09-01 & 2014\\\\\n",
       "\\end{tabular}\n"
      ],
      "text/markdown": [
       "\n",
       "A data.frame: 6 × 16\n",
       "\n",
       "| <!--/--> | ID_cattura &lt;int&gt; | ALBA &lt;fct&gt; | sessione &lt;int&gt; | occasione &lt;int&gt; | ID_TRAPPOLA &lt;fct&gt; | chip &lt;fct&gt; | ricattura &lt;fct&gt; | pelo &lt;fct&gt; | peso..g. &lt;int&gt; | sex &lt;fct&gt; | eta &lt;fct&gt; | statoripr &lt;fct&gt; | NOTE &lt;fct&gt; | DOY &lt;int&gt; | Data_R &lt;fct&gt; | Anno &lt;int&gt; |\n",
       "|---|---|---|---|---|---|---|---|---|---|---|---|---|---|---|---|---|\n",
       "| 1 | 1 | T | 1 | 1 | 11 | 1315302 | N  | NA   | 36 | F | A | NR | NA | 243 | 2014-08-31 | 2014 |\n",
       "| 2 | 2 | A | 1 | 2 | 6  | NA      | N  | SI   | 35 | F | A | NR | NA | 244 | 2014-09-01 | 2014 |\n",
       "| 3 | 3 | A | 1 | 2 | 11 | NA      | N  | SI e | 41 | M | A | R  | NA | 244 | 2014-09-01 | 2014 |\n",
       "| 4 | 4 | A | 1 | 2 | 35 | 1314921 | N  | NA   | 39 | F | A | NA | NA | 244 | 2014-09-01 | 2014 |\n",
       "| 5 | 5 | A | 1 | 2 | 45 | 1314375 | N  | NA   | 33 | M | G | NR | NA | 244 | 2014-09-01 | 2014 |\n",
       "| 6 | 6 | T | 1 | 3 | 26 | 1314305 | N  | NA   | 45 | M | A | R  | NA | 244 | 2014-09-01 | 2014 |\n",
       "\n"
      ],
      "text/plain": [
       "  ID_cattura ALBA sessione occasione ID_TRAPPOLA chip    ricattura pelo\n",
       "1 1          T    1        1         11          1315302 N         NA  \n",
       "2 2          A    1        2         6           NA      N         SI  \n",
       "3 3          A    1        2         11          NA      N         SI e\n",
       "4 4          A    1        2         35          1314921 N         NA  \n",
       "5 5          A    1        2         45          1314375 N         NA  \n",
       "6 6          T    1        3         26          1314305 N         NA  \n",
       "  peso..g. sex eta statoripr NOTE DOY Data_R     Anno\n",
       "1 36       F   A   NR        NA   243 2014-08-31 2014\n",
       "2 35       F   A   NR        NA   244 2014-09-01 2014\n",
       "3 41       M   A   R         NA   244 2014-09-01 2014\n",
       "4 39       F   A   NA        NA   244 2014-09-01 2014\n",
       "5 33       M   G   NR        NA   244 2014-09-01 2014\n",
       "6 45       M   A   R         NA   244 2014-09-01 2014"
      ]
     },
     "metadata": {},
     "output_type": "display_data"
    }
   ],
   "source": [
    "Daticatt <- read.csv(\"Dati-elaborati\\\\Dati-catture.csv\", dec=\",\", sep=\";\", header = TRUE)\n",
    "Datioccas <- read.csv(\"Dati-elaborati\\\\Dati-occasioni.csv\", dec=\",\", sep=\";\", header = TRUE)\n",
    "head(Daticatt)"
   ]
  },
  {
   "cell_type": "markdown",
   "metadata": {},
   "source": [
    "#### Creiamo un nuovo data frame per verificare, sesso ed età degli individui catturati ogni anno"
   ]
  },
  {
   "cell_type": "code",
   "execution_count": 3,
   "metadata": {},
   "outputs": [
    {
     "data": {
      "text/html": [
       "<table>\n",
       "<caption>A data.frame: 6 × 4</caption>\n",
       "<thead>\n",
       "\t<tr><th></th><th scope=col>sessione</th><th scope=col>Anno</th><th scope=col>sex</th><th scope=col>eta</th></tr>\n",
       "\t<tr><th></th><th scope=col>&lt;int&gt;</th><th scope=col>&lt;int&gt;</th><th scope=col>&lt;fct&gt;</th><th scope=col>&lt;fct&gt;</th></tr>\n",
       "</thead>\n",
       "<tbody>\n",
       "\t<tr><th scope=row>389</th><td>2</td><td>2018</td><td>M </td><td>A </td></tr>\n",
       "\t<tr><th scope=row>390</th><td>2</td><td>2018</td><td>F </td><td>A </td></tr>\n",
       "\t<tr><th scope=row>391</th><td>2</td><td>2018</td><td>NA</td><td>NA</td></tr>\n",
       "\t<tr><th scope=row>392</th><td>1</td><td>2019</td><td>M </td><td>A </td></tr>\n",
       "\t<tr><th scope=row>393</th><td>1</td><td>2019</td><td>F </td><td>A </td></tr>\n",
       "\t<tr><th scope=row>394</th><td>2</td><td>2019</td><td>F </td><td>NA</td></tr>\n",
       "</tbody>\n",
       "</table>\n"
      ],
      "text/latex": [
       "A data.frame: 6 × 4\n",
       "\\begin{tabular}{r|llll}\n",
       "  & sessione & Anno & sex & eta\\\\\n",
       "  & <int> & <int> & <fct> & <fct>\\\\\n",
       "\\hline\n",
       "\t389 & 2 & 2018 & M  & A \\\\\n",
       "\t390 & 2 & 2018 & F  & A \\\\\n",
       "\t391 & 2 & 2018 & NA & NA\\\\\n",
       "\t392 & 1 & 2019 & M  & A \\\\\n",
       "\t393 & 1 & 2019 & F  & A \\\\\n",
       "\t394 & 2 & 2019 & F  & NA\\\\\n",
       "\\end{tabular}\n"
      ],
      "text/markdown": [
       "\n",
       "A data.frame: 6 × 4\n",
       "\n",
       "| <!--/--> | sessione &lt;int&gt; | Anno &lt;int&gt; | sex &lt;fct&gt; | eta &lt;fct&gt; |\n",
       "|---|---|---|---|---|\n",
       "| 389 | 2 | 2018 | M  | A  |\n",
       "| 390 | 2 | 2018 | F  | A  |\n",
       "| 391 | 2 | 2018 | NA | NA |\n",
       "| 392 | 1 | 2019 | M  | A  |\n",
       "| 393 | 1 | 2019 | F  | A  |\n",
       "| 394 | 2 | 2019 | F  | NA |\n",
       "\n"
      ],
      "text/plain": [
       "    sessione Anno sex eta\n",
       "389 2        2018 M   A  \n",
       "390 2        2018 F   A  \n",
       "391 2        2018 NA  NA \n",
       "392 1        2019 M   A  \n",
       "393 1        2019 F   A  \n",
       "394 2        2019 F   NA "
      ]
     },
     "metadata": {},
     "output_type": "display_data"
    }
   ],
   "source": [
    "analisi_sex_age <- subset(Daticatt,select= c(sessione,Anno,sex,eta))\n",
    "tail(analisi_sex_age)"
   ]
  },
  {
   "cell_type": "markdown",
   "metadata": {},
   "source": [
    "#### Visualizziamo il numero di catture per ciascun anno"
   ]
  },
  {
   "cell_type": "code",
   "execution_count": 4,
   "metadata": {},
   "outputs": [
    {
     "data": {
      "image/png": "[encoded data removed]",
      "text/plain": [
       "Plot with title \"Catture per anno\""
      ]
     },
     "metadata": {
      "image/png": {
       "height": 420,
       "width": 420
      }
     },
     "output_type": "display_data"
    }
   ],
   "source": [
    "n_catt_anno <- table(analisi_sex_age$Anno) \n",
    "barplot(n_catt_anno, main=\"Catture per anno\",xlab=\"Numero di catture\") "
   ]
  },
  {
   "cell_type": "markdown",
   "metadata": {},
   "source": [
    "#### E'possible anche verificare per ciascun anno, quanti individui per ogni sesso ed età sono stati catturati, cambiando semplicemente l'anno nel codice seguente"
   ]
  },
  {
   "cell_type": "code",
   "execution_count": 5,
   "metadata": {},
   "outputs": [
    {
     "data": {
      "text/html": [
       "<table>\n",
       "<caption>A data.frame: 6 × 4</caption>\n",
       "<thead>\n",
       "\t<tr><th></th><th scope=col>sessione</th><th scope=col>Anno</th><th scope=col>Sesso</th><th scope=col>Eta</th></tr>\n",
       "\t<tr><th></th><th scope=col>&lt;int&gt;</th><th scope=col>&lt;int&gt;</th><th scope=col>&lt;chr&gt;</th><th scope=col>&lt;chr&gt;</th></tr>\n",
       "</thead>\n",
       "<tbody>\n",
       "\t<tr><th scope=row>1</th><td>1</td><td>2014</td><td>Femmina</td><td>Adulto </td></tr>\n",
       "\t<tr><th scope=row>2</th><td>1</td><td>2014</td><td>Femmina</td><td>Adulto </td></tr>\n",
       "\t<tr><th scope=row>3</th><td>1</td><td>2014</td><td>Maschio</td><td>Adulto </td></tr>\n",
       "\t<tr><th scope=row>4</th><td>1</td><td>2014</td><td>Femmina</td><td>Adulto </td></tr>\n",
       "\t<tr><th scope=row>5</th><td>1</td><td>2014</td><td>Maschio</td><td>Giovane</td></tr>\n",
       "\t<tr><th scope=row>6</th><td>1</td><td>2014</td><td>Maschio</td><td>Adulto </td></tr>\n",
       "</tbody>\n",
       "</table>\n"
      ],
      "text/latex": [
       "A data.frame: 6 × 4\n",
       "\\begin{tabular}{r|llll}\n",
       "  & sessione & Anno & Sesso & Eta\\\\\n",
       "  & <int> & <int> & <chr> & <chr>\\\\\n",
       "\\hline\n",
       "\t1 & 1 & 2014 & Femmina & Adulto \\\\\n",
       "\t2 & 1 & 2014 & Femmina & Adulto \\\\\n",
       "\t3 & 1 & 2014 & Maschio & Adulto \\\\\n",
       "\t4 & 1 & 2014 & Femmina & Adulto \\\\\n",
       "\t5 & 1 & 2014 & Maschio & Giovane\\\\\n",
       "\t6 & 1 & 2014 & Maschio & Adulto \\\\\n",
       "\\end{tabular}\n"
      ],
      "text/markdown": [
       "\n",
       "A data.frame: 6 × 4\n",
       "\n",
       "| <!--/--> | sessione &lt;int&gt; | Anno &lt;int&gt; | Sesso &lt;chr&gt; | Eta &lt;chr&gt; |\n",
       "|---|---|---|---|---|\n",
       "| 1 | 1 | 2014 | Femmina | Adulto  |\n",
       "| 2 | 1 | 2014 | Femmina | Adulto  |\n",
       "| 3 | 1 | 2014 | Maschio | Adulto  |\n",
       "| 4 | 1 | 2014 | Femmina | Adulto  |\n",
       "| 5 | 1 | 2014 | Maschio | Giovane |\n",
       "| 6 | 1 | 2014 | Maschio | Adulto  |\n",
       "\n"
      ],
      "text/plain": [
       "  sessione Anno Sesso   Eta    \n",
       "1 1        2014 Femmina Adulto \n",
       "2 1        2014 Femmina Adulto \n",
       "3 1        2014 Maschio Adulto \n",
       "4 1        2014 Femmina Adulto \n",
       "5 1        2014 Maschio Giovane\n",
       "6 1        2014 Maschio Adulto "
      ]
     },
     "metadata": {},
     "output_type": "display_data"
    }
   ],
   "source": [
    "#analisi_sex_age_$sex <-  as.character(analisi_sex_age$sex)\n",
    "#analisi_sex_age_$eta <-  as.character(analisi_sex_age$eta)\n",
    "\n",
    "analisi_sex_age_ <- analisi_sex_age %>%\n",
    "  rename(Sesso = sex, Eta = eta) %>%\n",
    "  mutate(Sesso = sub(\"F\", \"Femmina\", Sesso)) %>%\n",
    "  mutate(Sesso = sub(\"M\", \"Maschio\", Sesso)) %>%\n",
    "  mutate(Eta = sub(\"A\", \"Adulto\", Eta)) %>%\n",
    "  mutate(Eta = sub(\"G\", \"Giovane\", Eta)) \n",
    "head(analisi_sex_age_)"
   ]
  },
  {
   "cell_type": "markdown",
   "metadata": {},
   "source": [
    "### Conteggio numero di soggetti catturati, sesso ed età nel corso dell’estate 2018 "
   ]
  },
  {
   "cell_type": "code",
   "execution_count": 6,
   "metadata": {},
   "outputs": [
    {
     "data": {
      "text/html": [
       "<table>\n",
       "<caption>A grouped_df: 4 × 4</caption>\n",
       "<thead>\n",
       "\t<tr><th scope=col>sessione</th><th scope=col>Sesso</th><th scope=col>Eta</th><th scope=col>n</th></tr>\n",
       "\t<tr><th scope=col>&lt;int&gt;</th><th scope=col>&lt;chr&gt;</th><th scope=col>&lt;chr&gt;</th><th scope=col>&lt;int&gt;</th></tr>\n",
       "</thead>\n",
       "<tbody>\n",
       "\t<tr><td>1</td><td>Femmina</td><td>Adulto </td><td>13</td></tr>\n",
       "\t<tr><td>1</td><td>Maschio</td><td>Adulto </td><td>11</td></tr>\n",
       "\t<tr><td>1</td><td>Maschio</td><td>Giovane</td><td> 4</td></tr>\n",
       "\t<tr><td>1</td><td>NA     </td><td>Giovane</td><td> 1</td></tr>\n",
       "</tbody>\n",
       "</table>\n"
      ],
      "text/latex": [
       "A grouped\\_df: 4 × 4\n",
       "\\begin{tabular}{llll}\n",
       " sessione & Sesso & Eta & n\\\\\n",
       " <int> & <chr> & <chr> & <int>\\\\\n",
       "\\hline\n",
       "\t 1 & Femmina & Adulto  & 13\\\\\n",
       "\t 1 & Maschio & Adulto  & 11\\\\\n",
       "\t 1 & Maschio & Giovane &  4\\\\\n",
       "\t 1 & NA      & Giovane &  1\\\\\n",
       "\\end{tabular}\n"
      ],
      "text/markdown": [
       "\n",
       "A grouped_df: 4 × 4\n",
       "\n",
       "| sessione &lt;int&gt; | Sesso &lt;chr&gt; | Eta &lt;chr&gt; | n &lt;int&gt; |\n",
       "|---|---|---|---|\n",
       "| 1 | Femmina | Adulto  | 13 |\n",
       "| 1 | Maschio | Adulto  | 11 |\n",
       "| 1 | Maschio | Giovane |  4 |\n",
       "| 1 | NA      | Giovane |  1 |\n",
       "\n"
      ],
      "text/plain": [
       "  sessione Sesso   Eta     n \n",
       "1 1        Femmina Adulto  13\n",
       "2 1        Maschio Adulto  11\n",
       "3 1        Maschio Giovane  4\n",
       "4 1        NA      Giovane  1"
      ]
     },
     "metadata": {},
     "output_type": "display_data"
    }
   ],
   "source": [
    "subject_year = \"2018\"\n",
    "subject_session = \"1\"\n",
    "analisi_sex_age_tbl <- analisi_sex_age_ %>%\n",
    "  filter(Anno == subject_year, sessione == subject_session) %>%\n",
    "  count(sessione, Sesso, Eta) %>%\n",
    "  group_by(Sesso, Eta) \n",
    "analisi_sex_age_tbl\n",
    "#summarise(Totale = sum(n))\n",
    "#analisi_sex_age_tbl <- data.frame(analisi_sex_age_tbl)\n",
    "#analisi_sex_age_tbl\n",
    "colnames(analisi_sex_age_tbl) <- c(\"Sessione\", \"Sesso\", \"Età\", \"Totale\")\n",
    "#view(analisi_sex_age_tbl)\n",
    "\n",
    "tt <- ttheme_minimal(\n",
    "     core=list(bg_params = list(fill = blues9[1:4], col=NA),\n",
    "     fg_params=list(fontface=3)),\n",
    "    colhead=list(fg_params=list(col=\"navyblue\", fontface=4L)),\n",
    "    rowhead=list(fg_params=list(col=\"black\", fontface=3L)))"
   ]
  },
  {
   "cell_type": "code",
   "execution_count": 7,
   "metadata": {},
   "outputs": [],
   "source": [
    "a_2018_1 <- analisi_sex_age_ %>%\n",
    "  filter(Anno == subject_year, sessione == subject_session) %>%\n",
    "  count(sessione, Sesso, Eta) %>%\n",
    "  group_by(Sesso, Eta) \n",
    "colnames(a_2018_1) <- c(\"Sessione\", \"Sesso\", \"Età\", \"Totale\")\n",
    "a_2018_2 <- analisi_sex_age_ %>%\n",
    "  filter(Anno == subject_year, sessione == 2) %>%\n",
    "  count(sessione, Sesso, Eta) %>%\n",
    "  group_by(Sesso, Eta) \n",
    "colnames(a_2018_2) <- c(\"Sessione\", \"Sesso\", \"Età\", \"Totale\")"
   ]
  },
  {
   "cell_type": "code",
   "execution_count": 8,
   "metadata": {},
   "outputs": [
    {
     "data": {
      "image/png": "[encoded data removed]",
      "text/plain": [
       "plot without title"
      ]
     },
     "metadata": {
      "image/png": {
       "height": 420,
       "width": 420
      }
     },
     "output_type": "display_data"
    },
    {
     "data": {
      "image/png": "[encoded data removed]",
      "text/plain": [
       "plot without title"
      ]
     },
     "metadata": {
      "image/png": {
       "height": 420,
       "width": 420
      }
     },
     "output_type": "display_data"
    }
   ],
   "source": [
    "CMRtab1<- grid.arrange(\n",
    "  tableGrob(a_2018_1, theme=tt),\n",
    "   nrow=1)\n",
    "CMRtab1<- grid.arrange(\n",
    "  tableGrob(a_2018_2, theme=tt),\n",
    "   nrow=1)\n",
    "#ggsave(file = \"img/CMR1.jpg\", CMRtab1)\n",
    "#ggsave(file = \"img/CMR2.jpg\", CMRtab2)"
   ]
  },
  {
   "cell_type": "markdown",
   "metadata": {},
   "source": [
    "### Numero di occasioni ed aventi di cattura tra alba e tramonto nel corso dell’estate 2018 "
   ]
  },
  {
   "cell_type": "code",
   "execution_count": 9,
   "metadata": {},
   "outputs": [
    {
     "data": {
      "text/html": [
       "<table>\n",
       "<caption>A grouped_df: 2 × 2</caption>\n",
       "<thead>\n",
       "\t<tr><th scope=col></th><th scope=col>Occasioni di cattura</th></tr>\n",
       "\t<tr><th scope=col>&lt;fct&gt;</th><th scope=col>&lt;int&gt;</th></tr>\n",
       "</thead>\n",
       "<tbody>\n",
       "\t<tr><td>A</td><td>17</td></tr>\n",
       "\t<tr><td>T</td><td>18</td></tr>\n",
       "</tbody>\n",
       "</table>\n"
      ],
      "text/latex": [
       "A grouped\\_df: 2 × 2\n",
       "\\begin{tabular}{ll}\n",
       "  & Occasioni di cattura\\\\\n",
       " <fct> & <int>\\\\\n",
       "\\hline\n",
       "\t A & 17\\\\\n",
       "\t T & 18\\\\\n",
       "\\end{tabular}\n"
      ],
      "text/markdown": [
       "\n",
       "A grouped_df: 2 × 2\n",
       "\n",
       "| <!----> &lt;fct&gt; | Occasioni di cattura &lt;int&gt; |\n",
       "|---|---|\n",
       "| A | 17 |\n",
       "| T | 18 |\n",
       "\n"
      ],
      "text/plain": [
       "    Occasioni di cattura\n",
       "1 A 17                  \n",
       "2 T 18                  "
      ]
     },
     "metadata": {},
     "output_type": "display_data"
    }
   ],
   "source": [
    "anno_analisi <- \"2018\"\n",
    "\n",
    "occasioni_anno_analisi <- Datioccas %>%\n",
    "  filter(Anno == anno_analisi) %>%\n",
    "  count(ALBA..A.T.) %>%\n",
    "  group_by(ALBA..A.T.) \n",
    "colnames(occasioni_anno_analisi) <- c(\"\",\"Occasioni di cattura\")\n",
    "head((occasioni_anno_analisi))"
   ]
  },
  {
   "cell_type": "code",
   "execution_count": 10,
   "metadata": {},
   "outputs": [
    {
     "data": {
      "text/html": [
       "<table>\n",
       "<caption>A grouped_df: 2 × 2</caption>\n",
       "<thead>\n",
       "\t<tr><th scope=col></th><th scope=col>Eventi di cattura</th></tr>\n",
       "\t<tr><th scope=col>&lt;fct&gt;</th><th scope=col>&lt;int&gt;</th></tr>\n",
       "</thead>\n",
       "<tbody>\n",
       "\t<tr><td>A</td><td>34</td></tr>\n",
       "\t<tr><td>T</td><td>25</td></tr>\n",
       "</tbody>\n",
       "</table>\n"
      ],
      "text/latex": [
       "A grouped\\_df: 2 × 2\n",
       "\\begin{tabular}{ll}\n",
       "  & Eventi di cattura\\\\\n",
       " <fct> & <int>\\\\\n",
       "\\hline\n",
       "\t A & 34\\\\\n",
       "\t T & 25\\\\\n",
       "\\end{tabular}\n"
      ],
      "text/markdown": [
       "\n",
       "A grouped_df: 2 × 2\n",
       "\n",
       "| <!----> &lt;fct&gt; | Eventi di cattura &lt;int&gt; |\n",
       "|---|---|\n",
       "| A | 34 |\n",
       "| T | 25 |\n",
       "\n"
      ],
      "text/plain": [
       "    Eventi di cattura\n",
       "1 A 34               \n",
       "2 T 25               "
      ]
     },
     "metadata": {},
     "output_type": "display_data"
    }
   ],
   "source": [
    "\n",
    "catture_anno_analisi <- Daticatt %>%\n",
    "  filter(Anno == anno_analisi) %>%\n",
    "  count(ALBA) %>%\n",
    "  group_by(ALBA)\n",
    "colnames(catture_anno_analisi) <- c(\"\",\"Eventi di cattura\")\n",
    "head((catture_anno_analisi))"
   ]
  },
  {
   "cell_type": "code",
   "execution_count": 11,
   "metadata": {},
   "outputs": [
    {
     "data": {
      "text/html": [
       "<table>\n",
       "<caption>A matrix: 2 × 2 of type chr</caption>\n",
       "<thead>\n",
       "\t<tr><th></th><th scope=col>Alba</th><th scope=col>Tramonto</th></tr>\n",
       "</thead>\n",
       "<tbody>\n",
       "\t<tr><th scope=row>Occasioni di cattura</th><td>17</td><td>18</td></tr>\n",
       "\t<tr><th scope=row>Eventi di cattura</th><td>34</td><td>25</td></tr>\n",
       "</tbody>\n",
       "</table>\n"
      ],
      "text/latex": [
       "A matrix: 2 × 2 of type chr\n",
       "\\begin{tabular}{r|ll}\n",
       "  & Alba & Tramonto\\\\\n",
       "\\hline\n",
       "\tOccasioni di cattura & 17 & 18\\\\\n",
       "\tEventi di cattura & 34 & 25\\\\\n",
       "\\end{tabular}\n"
      ],
      "text/markdown": [
       "\n",
       "A matrix: 2 × 2 of type chr\n",
       "\n",
       "| <!--/--> | Alba | Tramonto |\n",
       "|---|---|---|\n",
       "| Occasioni di cattura | 17 | 18 |\n",
       "| Eventi di cattura | 34 | 25 |\n",
       "\n"
      ],
      "text/plain": [
       "                     Alba Tramonto\n",
       "Occasioni di cattura 17   18      \n",
       "Eventi di cattura    34   25      "
      ]
     },
     "metadata": {},
     "output_type": "display_data"
    }
   ],
   "source": [
    "occas_catt_anno_analisi <- t(merge(occasioni_anno_analisi,catture_anno_analisi))\n",
    "\n",
    "colnames(occas_catt_anno_analisi) <- c(\"Alba\", \"Tramonto\")\n",
    "occas_catt_anno_analisi <- occas_catt_anno_analisi[-1,]\n",
    "occas_catt_anno_analisi"
   ]
  },
  {
   "cell_type": "code",
   "execution_count": 12,
   "metadata": {},
   "outputs": [],
   "source": [
    "rapporto_alba <- as.numeric(occas_catt_anno_analisi[,\"Alba\"][\"Eventi di cattura\"])/as.numeric(occas_catt_anno_analisi[,\"Alba\"][\"Occasioni di cattura\"])\n",
    "rapporto_tramonto <- as.numeric(occas_catt_anno_analisi[,\"Tramonto\"][\"Eventi di cattura\"])/as.numeric(occas_catt_anno_analisi[,\"Tramonto\"][\"Occasioni di cattura\"])\n",
    "occas_catt_anno_analisi <- rbind(occas_catt_anno_analisi,cbind(signif(rapporto_alba, digits = 3), signif(rapporto_tramonto,digits = 3)))\n"
   ]
  },
  {
   "cell_type": "code",
   "execution_count": 13,
   "metadata": {},
   "outputs": [
    {
     "data": {
      "text/html": [
       "<table>\n",
       "<caption>A matrix: 3 × 2 of type chr</caption>\n",
       "<thead>\n",
       "\t<tr><th></th><th scope=col>Alba</th><th scope=col>Tramonto</th></tr>\n",
       "</thead>\n",
       "<tbody>\n",
       "\t<tr><th scope=row>Occasioni di cattura</th><td>17</td><td>18  </td></tr>\n",
       "\t<tr><th scope=row>Eventi di cattura</th><td>34</td><td>25  </td></tr>\n",
       "\t<tr><th scope=row>Rapporto Catture/Occasioni</th><td>2 </td><td>1.39</td></tr>\n",
       "</tbody>\n",
       "</table>\n"
      ],
      "text/latex": [
       "A matrix: 3 × 2 of type chr\n",
       "\\begin{tabular}{r|ll}\n",
       "  & Alba & Tramonto\\\\\n",
       "\\hline\n",
       "\tOccasioni di cattura & 17 & 18  \\\\\n",
       "\tEventi di cattura & 34 & 25  \\\\\n",
       "\tRapporto Catture/Occasioni & 2  & 1.39\\\\\n",
       "\\end{tabular}\n"
      ],
      "text/markdown": [
       "\n",
       "A matrix: 3 × 2 of type chr\n",
       "\n",
       "| <!--/--> | Alba | Tramonto |\n",
       "|---|---|---|\n",
       "| Occasioni di cattura | 17 | 18   |\n",
       "| Eventi di cattura | 34 | 25   |\n",
       "| Rapporto Catture/Occasioni | 2  | 1.39 |\n",
       "\n"
      ],
      "text/plain": [
       "                           Alba Tramonto\n",
       "Occasioni di cattura       17   18      \n",
       "Eventi di cattura          34   25      \n",
       "Rapporto Catture/Occasioni 2    1.39    "
      ]
     },
     "metadata": {},
     "output_type": "display_data"
    }
   ],
   "source": [
    "rownames(occas_catt_anno_analisi) <- c(\"Occasioni di cattura\",\"Eventi di cattura\",\"Rapporto Catture/Occasioni\")\n",
    "occas_catt_anno_analisi"
   ]
  },
  {
   "cell_type": "code",
   "execution_count": 14,
   "metadata": {},
   "outputs": [
    {
     "data": {
      "image/png": "[encoded data removed]",
      "text/plain": [
       "plot without title"
      ]
     },
     "metadata": {
      "image/png": {
       "height": 420,
       "width": 420
      }
     },
     "output_type": "display_data"
    }
   ],
   "source": [
    "occas_analisi_temp_ <- grid.arrange(\n",
    "  tableGrob(occas_catt_anno_analisi, theme=tt),\n",
    "   nrow=1)\n",
    "\n",
    "#ggsave(file = \"img/occas_analisi_temp_.jpg\", occas_analisi_temp_)"
   ]
  }
 ],
 "metadata": {
  "kernelspec": {
   "display_name": "R",
   "language": "R",
   "name": "ir"
  },
  "language_info": {
   "codemirror_mode": "r",
   "file_extension": ".r",
   "mimetype": "text/x-r-source",
   "name": "R",
   "pygments_lexer": "r",
   "version": "3.6.3"
  }
 },
 "nbformat": 4,
 "nbformat_minor": 4
}
