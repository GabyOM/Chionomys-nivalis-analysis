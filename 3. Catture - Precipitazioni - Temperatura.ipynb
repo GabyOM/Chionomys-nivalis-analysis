{
 "cells": [
  {
   "cell_type": "markdown",
   "metadata": {},
   "source": [
    "# Creazione matrici Detection Histories delle catture per anno\n",
    "### Claudia Gabriela Ochoa Martinez (2020)"
   ]
  },
  {
   "cell_type": "markdown",
   "metadata": {},
   "source": [
    "### Per creare le matrici di Detection histories usiamo il seguente codice, caricando il file excel originale con le informazioni delle nuove catture effettuate. (Se sito e posizionamento trappole rimane invariato)"
   ]
  },
  {
   "cell_type": "code",
   "execution_count": 1,
   "metadata": {},
   "outputs": [],
   "source": [
    "Daticatt <- read.csv(\"Dati-elaborati\\\\Dati-catture.csv\", dec=\",\", sep=\";\", header = TRUE)\n",
    "Datioccas <- read.csv(\"Dati-elaborati\\\\Dati-occasioni.csv\", dec=\",\", sep=\";\", header = TRUE)"
   ]
  },
  {
   "cell_type": "code",
   "execution_count": 2,
   "metadata": {},
   "outputs": [],
   "source": [
    "occasioni_ncols <- length(Datioccas$occasione)\n",
    "trappole_totali <- max(Datioccas$trappole.posizionate)"
   ]
  },
  {
   "cell_type": "code",
   "execution_count": 3,
   "metadata": {},
   "outputs": [],
   "source": [
    "# Crea un dataframe vuoto in cui inserire la relazione tra occasioni e trappole\n",
    "\n",
    "m <- matrix(0, ncol = occasioni_ncols, nrow = trappole_totali)\n",
    "catture_effettive <- data.frame(m)\n",
    "\n",
    "# Da un nome ad ogni variabile occasione ed aggiunge\n",
    "colnames(catture_effettive) <- c(paste0(\"occ \", 1:occasioni_ncols))"
   ]
  },
  {
   "cell_type": "code",
   "execution_count": 4,
   "metadata": {},
   "outputs": [],
   "source": [
    "Daticatt_ <- subset(Daticatt,select = c(\"occasione\",\"sessione\",\"ID_TRAPPOLA\",\"Anno\"))\n",
    "Datioccas$occasione_globale <- seq.int(nrow(Datioccas))\n",
    "Datioccas_ <- subset(Datioccas, select= c(\"occasione_globale\",\"occasione\",\"sessione\",\"Anno\"))\n"
   ]
  },
  {
   "cell_type": "code",
   "execution_count": 5,
   "metadata": {},
   "outputs": [
    {
     "data": {
      "text/html": [
       "<table>\n",
       "<caption>A data.frame: 6 × 5</caption>\n",
       "<thead>\n",
       "\t<tr><th></th><th scope=col>occasione</th><th scope=col>sessione</th><th scope=col>Anno</th><th scope=col>occasione_globale</th><th scope=col>ID_TRAPPOLA</th></tr>\n",
       "\t<tr><th></th><th scope=col>&lt;int&gt;</th><th scope=col>&lt;int&gt;</th><th scope=col>&lt;int&gt;</th><th scope=col>&lt;int&gt;</th><th scope=col>&lt;fct&gt;</th></tr>\n",
       "</thead>\n",
       "<tbody>\n",
       "\t<tr><th scope=row>1</th><td>1</td><td>1</td><td>2015</td><td>14</td><td>23</td></tr>\n",
       "\t<tr><th scope=row>265</th><td>4</td><td>1</td><td>2015</td><td>17</td><td>55</td></tr>\n",
       "\t<tr><th scope=row>266</th><td>4</td><td>1</td><td>2015</td><td>17</td><td>19</td></tr>\n",
       "\t<tr><th scope=row>291</th><td>6</td><td>1</td><td>2015</td><td>19</td><td>23</td></tr>\n",
       "\t<tr><th scope=row>292</th><td>6</td><td>1</td><td>2015</td><td>19</td><td>19</td></tr>\n",
       "\t<tr><th scope=row>293</th><td>6</td><td>1</td><td>2015</td><td>19</td><td>12</td></tr>\n",
       "</tbody>\n",
       "</table>\n"
      ],
      "text/latex": [
       "A data.frame: 6 × 5\n",
       "\\begin{tabular}{r|lllll}\n",
       "  & occasione & sessione & Anno & occasione\\_globale & ID\\_TRAPPOLA\\\\\n",
       "  & <int> & <int> & <int> & <int> & <fct>\\\\\n",
       "\\hline\n",
       "\t1 & 1 & 1 & 2015 & 14 & 23\\\\\n",
       "\t265 & 4 & 1 & 2015 & 17 & 55\\\\\n",
       "\t266 & 4 & 1 & 2015 & 17 & 19\\\\\n",
       "\t291 & 6 & 1 & 2015 & 19 & 23\\\\\n",
       "\t292 & 6 & 1 & 2015 & 19 & 19\\\\\n",
       "\t293 & 6 & 1 & 2015 & 19 & 12\\\\\n",
       "\\end{tabular}\n"
      ],
      "text/markdown": [
       "\n",
       "A data.frame: 6 × 5\n",
       "\n",
       "| <!--/--> | occasione &lt;int&gt; | sessione &lt;int&gt; | Anno &lt;int&gt; | occasione_globale &lt;int&gt; | ID_TRAPPOLA &lt;fct&gt; |\n",
       "|---|---|---|---|---|---|\n",
       "| 1 | 1 | 1 | 2015 | 14 | 23 |\n",
       "| 265 | 4 | 1 | 2015 | 17 | 55 |\n",
       "| 266 | 4 | 1 | 2015 | 17 | 19 |\n",
       "| 291 | 6 | 1 | 2015 | 19 | 23 |\n",
       "| 292 | 6 | 1 | 2015 | 19 | 19 |\n",
       "| 293 | 6 | 1 | 2015 | 19 | 12 |\n",
       "\n"
      ],
      "text/plain": [
       "    occasione sessione Anno occasione_globale ID_TRAPPOLA\n",
       "1   1         1        2015 14                23         \n",
       "265 4         1        2015 17                55         \n",
       "266 4         1        2015 17                19         \n",
       "291 6         1        2015 19                23         \n",
       "292 6         1        2015 19                19         \n",
       "293 6         1        2015 19                12         "
      ]
     },
     "metadata": {},
     "output_type": "display_data"
    }
   ],
   "source": [
    "occasione_cattura <- merge(Datioccas_,Daticatt_)\n",
    "\n",
    "occasione_cattura <-occasione_cattura[order(occasione_cattura$occasione_globale),]\n",
    "head(occasione_cattura)"
   ]
  },
  {
   "cell_type": "code",
   "execution_count": 6,
   "metadata": {},
   "outputs": [
    {
     "data": {
      "text/html": [
       "<table>\n",
       "<caption>A data.frame: 6 × 148</caption>\n",
       "<thead>\n",
       "\t<tr><th></th><th scope=col>occ 1</th><th scope=col>occ 2</th><th scope=col>occ 3</th><th scope=col>occ 4</th><th scope=col>occ 5</th><th scope=col>occ 6</th><th scope=col>occ 7</th><th scope=col>occ 8</th><th scope=col>occ 9</th><th scope=col>occ 10</th><th scope=col>...</th><th scope=col>occ 139</th><th scope=col>occ 140</th><th scope=col>occ 141</th><th scope=col>occ 142</th><th scope=col>occ 143</th><th scope=col>occ 144</th><th scope=col>occ 145</th><th scope=col>occ 146</th><th scope=col>occ 147</th><th scope=col>occ 148</th></tr>\n",
       "\t<tr><th></th><th scope=col>&lt;dbl&gt;</th><th scope=col>&lt;dbl&gt;</th><th scope=col>&lt;dbl&gt;</th><th scope=col>&lt;dbl&gt;</th><th scope=col>&lt;dbl&gt;</th><th scope=col>&lt;dbl&gt;</th><th scope=col>&lt;dbl&gt;</th><th scope=col>&lt;dbl&gt;</th><th scope=col>&lt;dbl&gt;</th><th scope=col>&lt;dbl&gt;</th><th scope=col>...</th><th scope=col>&lt;dbl&gt;</th><th scope=col>&lt;dbl&gt;</th><th scope=col>&lt;dbl&gt;</th><th scope=col>&lt;dbl&gt;</th><th scope=col>&lt;dbl&gt;</th><th scope=col>&lt;dbl&gt;</th><th scope=col>&lt;dbl&gt;</th><th scope=col>&lt;dbl&gt;</th><th scope=col>&lt;dbl&gt;</th><th scope=col>&lt;dbl&gt;</th></tr>\n",
       "</thead>\n",
       "<tbody>\n",
       "\t<tr><th scope=row>1</th><td>0</td><td>0</td><td>0</td><td>0</td><td>0</td><td>0</td><td>0</td><td>0</td><td>0</td><td>0</td><td>...</td><td>0</td><td>0</td><td>0</td><td>0</td><td>0</td><td>0</td><td>0</td><td>0</td><td>0</td><td>0</td></tr>\n",
       "\t<tr><th scope=row>2</th><td>0</td><td>0</td><td>0</td><td>0</td><td>0</td><td>0</td><td>0</td><td>0</td><td>0</td><td>0</td><td>...</td><td>1</td><td>0</td><td>0</td><td>1</td><td>0</td><td>0</td><td>0</td><td>0</td><td>0</td><td>0</td></tr>\n",
       "\t<tr><th scope=row>3</th><td>0</td><td>0</td><td>0</td><td>0</td><td>0</td><td>0</td><td>0</td><td>0</td><td>0</td><td>0</td><td>...</td><td>0</td><td>0</td><td>0</td><td>1</td><td>0</td><td>0</td><td>0</td><td>0</td><td>0</td><td>0</td></tr>\n",
       "\t<tr><th scope=row>4</th><td>0</td><td>0</td><td>0</td><td>0</td><td>0</td><td>0</td><td>0</td><td>0</td><td>0</td><td>0</td><td>...</td><td>0</td><td>0</td><td>0</td><td>0</td><td>0</td><td>0</td><td>0</td><td>0</td><td>0</td><td>0</td></tr>\n",
       "\t<tr><th scope=row>5</th><td>0</td><td>0</td><td>0</td><td>0</td><td>0</td><td>0</td><td>0</td><td>0</td><td>0</td><td>0</td><td>...</td><td>0</td><td>0</td><td>0</td><td>0</td><td>0</td><td>0</td><td>0</td><td>0</td><td>0</td><td>0</td></tr>\n",
       "\t<tr><th scope=row>6</th><td>0</td><td>0</td><td>0</td><td>0</td><td>0</td><td>0</td><td>0</td><td>0</td><td>0</td><td>0</td><td>...</td><td>0</td><td>0</td><td>0</td><td>0</td><td>0</td><td>0</td><td>0</td><td>0</td><td>0</td><td>0</td></tr>\n",
       "</tbody>\n",
       "</table>\n"
      ],
      "text/latex": [
       "A data.frame: 6 × 148\n",
       "\\begin{tabular}{r|lllllllllllllllllllll}\n",
       "  & occ 1 & occ 2 & occ 3 & occ 4 & occ 5 & occ 6 & occ 7 & occ 8 & occ 9 & occ 10 & ... & occ 139 & occ 140 & occ 141 & occ 142 & occ 143 & occ 144 & occ 145 & occ 146 & occ 147 & occ 148\\\\\n",
       "  & <dbl> & <dbl> & <dbl> & <dbl> & <dbl> & <dbl> & <dbl> & <dbl> & <dbl> & <dbl> & ... & <dbl> & <dbl> & <dbl> & <dbl> & <dbl> & <dbl> & <dbl> & <dbl> & <dbl> & <dbl>\\\\\n",
       "\\hline\n",
       "\t1 & 0 & 0 & 0 & 0 & 0 & 0 & 0 & 0 & 0 & 0 & ... & 0 & 0 & 0 & 0 & 0 & 0 & 0 & 0 & 0 & 0\\\\\n",
       "\t2 & 0 & 0 & 0 & 0 & 0 & 0 & 0 & 0 & 0 & 0 & ... & 1 & 0 & 0 & 1 & 0 & 0 & 0 & 0 & 0 & 0\\\\\n",
       "\t3 & 0 & 0 & 0 & 0 & 0 & 0 & 0 & 0 & 0 & 0 & ... & 0 & 0 & 0 & 1 & 0 & 0 & 0 & 0 & 0 & 0\\\\\n",
       "\t4 & 0 & 0 & 0 & 0 & 0 & 0 & 0 & 0 & 0 & 0 & ... & 0 & 0 & 0 & 0 & 0 & 0 & 0 & 0 & 0 & 0\\\\\n",
       "\t5 & 0 & 0 & 0 & 0 & 0 & 0 & 0 & 0 & 0 & 0 & ... & 0 & 0 & 0 & 0 & 0 & 0 & 0 & 0 & 0 & 0\\\\\n",
       "\t6 & 0 & 0 & 0 & 0 & 0 & 0 & 0 & 0 & 0 & 0 & ... & 0 & 0 & 0 & 0 & 0 & 0 & 0 & 0 & 0 & 0\\\\\n",
       "\\end{tabular}\n"
      ],
      "text/markdown": [
       "\n",
       "A data.frame: 6 × 148\n",
       "\n",
       "| <!--/--> | occ 1 &lt;dbl&gt; | occ 2 &lt;dbl&gt; | occ 3 &lt;dbl&gt; | occ 4 &lt;dbl&gt; | occ 5 &lt;dbl&gt; | occ 6 &lt;dbl&gt; | occ 7 &lt;dbl&gt; | occ 8 &lt;dbl&gt; | occ 9 &lt;dbl&gt; | occ 10 &lt;dbl&gt; | ... ... | occ 139 &lt;dbl&gt; | occ 140 &lt;dbl&gt; | occ 141 &lt;dbl&gt; | occ 142 &lt;dbl&gt; | occ 143 &lt;dbl&gt; | occ 144 &lt;dbl&gt; | occ 145 &lt;dbl&gt; | occ 146 &lt;dbl&gt; | occ 147 &lt;dbl&gt; | occ 148 &lt;dbl&gt; |\n",
       "|---|---|---|---|---|---|---|---|---|---|---|---|---|---|---|---|---|---|---|---|---|---|\n",
       "| 1 | 0 | 0 | 0 | 0 | 0 | 0 | 0 | 0 | 0 | 0 | ... | 0 | 0 | 0 | 0 | 0 | 0 | 0 | 0 | 0 | 0 |\n",
       "| 2 | 0 | 0 | 0 | 0 | 0 | 0 | 0 | 0 | 0 | 0 | ... | 1 | 0 | 0 | 1 | 0 | 0 | 0 | 0 | 0 | 0 |\n",
       "| 3 | 0 | 0 | 0 | 0 | 0 | 0 | 0 | 0 | 0 | 0 | ... | 0 | 0 | 0 | 1 | 0 | 0 | 0 | 0 | 0 | 0 |\n",
       "| 4 | 0 | 0 | 0 | 0 | 0 | 0 | 0 | 0 | 0 | 0 | ... | 0 | 0 | 0 | 0 | 0 | 0 | 0 | 0 | 0 | 0 |\n",
       "| 5 | 0 | 0 | 0 | 0 | 0 | 0 | 0 | 0 | 0 | 0 | ... | 0 | 0 | 0 | 0 | 0 | 0 | 0 | 0 | 0 | 0 |\n",
       "| 6 | 0 | 0 | 0 | 0 | 0 | 0 | 0 | 0 | 0 | 0 | ... | 0 | 0 | 0 | 0 | 0 | 0 | 0 | 0 | 0 | 0 |\n",
       "\n"
      ],
      "text/plain": [
       "  occ 1 occ 2 occ 3 occ 4 occ 5 occ 6 occ 7 occ 8 occ 9 occ 10 ... occ 139\n",
       "1 0     0     0     0     0     0     0     0     0     0      ... 0      \n",
       "2 0     0     0     0     0     0     0     0     0     0      ... 1      \n",
       "3 0     0     0     0     0     0     0     0     0     0      ... 0      \n",
       "4 0     0     0     0     0     0     0     0     0     0      ... 0      \n",
       "5 0     0     0     0     0     0     0     0     0     0      ... 0      \n",
       "6 0     0     0     0     0     0     0     0     0     0      ... 0      \n",
       "  occ 140 occ 141 occ 142 occ 143 occ 144 occ 145 occ 146 occ 147 occ 148\n",
       "1 0       0       0       0       0       0       0       0       0      \n",
       "2 0       0       1       0       0       0       0       0       0      \n",
       "3 0       0       1       0       0       0       0       0       0      \n",
       "4 0       0       0       0       0       0       0       0       0      \n",
       "5 0       0       0       0       0       0       0       0       0      \n",
       "6 0       0       0       0       0       0       0       0       0      "
      ]
     },
     "metadata": {},
     "output_type": "display_data"
    }
   ],
   "source": [
    "# Riempi la matrice con i valori dicotomici (1 indica almeno una cattura, 0 indica l'assenza di catture)\n",
    "for (cattura in c(1:nrow(occasione_cattura))) {\n",
    "    singola_cattura <- occasione_cattura[cattura,]\n",
    "    trappola <- as.numeric(as.character(singola_cattura$ID_TRAPPOLA))\n",
    "    occa <- occasione_cattura[cattura,]$occasione_globale\n",
    "    catture_effettive[trappola, paste0(\"occ \", occa)] <- 1\n",
    "}\n",
    "rownames(catture_effettive) <- c(1:trappole_totali)\n",
    "\n",
    "head(catture_effettive)"
   ]
  },
  {
   "cell_type": "markdown",
   "metadata": {},
   "source": [
    "### Orario occasione"
   ]
  },
  {
   "cell_type": "code",
   "execution_count": 7,
   "metadata": {},
   "outputs": [
    {
     "data": {
      "text/html": [
       "<table>\n",
       "<caption>A data.frame: 6 × 148</caption>\n",
       "<thead>\n",
       "\t<tr><th></th><th scope=col>orario 1</th><th scope=col>orario 2</th><th scope=col>orario 3</th><th scope=col>orario 4</th><th scope=col>orario 5</th><th scope=col>orario 6</th><th scope=col>orario 7</th><th scope=col>orario 8</th><th scope=col>orario 9</th><th scope=col>orario 10</th><th scope=col>...</th><th scope=col>orario 139</th><th scope=col>orario 140</th><th scope=col>orario 141</th><th scope=col>orario 142</th><th scope=col>orario 143</th><th scope=col>orario 144</th><th scope=col>orario 145</th><th scope=col>orario 146</th><th scope=col>orario 147</th><th scope=col>orario 148</th></tr>\n",
       "\t<tr><th></th><th scope=col>&lt;fct&gt;</th><th scope=col>&lt;fct&gt;</th><th scope=col>&lt;fct&gt;</th><th scope=col>&lt;fct&gt;</th><th scope=col>&lt;fct&gt;</th><th scope=col>&lt;fct&gt;</th><th scope=col>&lt;fct&gt;</th><th scope=col>&lt;fct&gt;</th><th scope=col>&lt;fct&gt;</th><th scope=col>&lt;fct&gt;</th><th scope=col>...</th><th scope=col>&lt;fct&gt;</th><th scope=col>&lt;fct&gt;</th><th scope=col>&lt;fct&gt;</th><th scope=col>&lt;fct&gt;</th><th scope=col>&lt;fct&gt;</th><th scope=col>&lt;fct&gt;</th><th scope=col>&lt;fct&gt;</th><th scope=col>&lt;fct&gt;</th><th scope=col>&lt;fct&gt;</th><th scope=col>&lt;fct&gt;</th></tr>\n",
       "</thead>\n",
       "<tbody>\n",
       "\t<tr><th scope=row>70</th><td>Al</td><td>Tr</td><td>Al</td><td>Tr</td><td>Al</td><td>Tr</td><td>Al</td><td>Tr</td><td>Al</td><td>Tr</td><td>...</td><td>Tr</td><td>Al</td><td>Tr</td><td>Al</td><td>Tr</td><td>Al</td><td>Tr</td><td>Al</td><td>Tr</td><td>Al</td></tr>\n",
       "\t<tr><th scope=row>71</th><td>Al</td><td>Tr</td><td>Al</td><td>Tr</td><td>Al</td><td>Tr</td><td>Al</td><td>Tr</td><td>Al</td><td>Tr</td><td>...</td><td>Tr</td><td>Al</td><td>Tr</td><td>Al</td><td>Tr</td><td>Al</td><td>Tr</td><td>Al</td><td>Tr</td><td>Al</td></tr>\n",
       "\t<tr><th scope=row>72</th><td>Al</td><td>Tr</td><td>Al</td><td>Tr</td><td>Al</td><td>Tr</td><td>Al</td><td>Tr</td><td>Al</td><td>Tr</td><td>...</td><td>Tr</td><td>Al</td><td>Tr</td><td>Al</td><td>Tr</td><td>Al</td><td>Tr</td><td>Al</td><td>Tr</td><td>Al</td></tr>\n",
       "\t<tr><th scope=row>73</th><td>Al</td><td>Tr</td><td>Al</td><td>Tr</td><td>Al</td><td>Tr</td><td>Al</td><td>Tr</td><td>Al</td><td>Tr</td><td>...</td><td>Tr</td><td>Al</td><td>Tr</td><td>Al</td><td>Tr</td><td>Al</td><td>Tr</td><td>Al</td><td>Tr</td><td>Al</td></tr>\n",
       "\t<tr><th scope=row>74</th><td>Al</td><td>Tr</td><td>Al</td><td>Tr</td><td>Al</td><td>Tr</td><td>Al</td><td>Tr</td><td>Al</td><td>Tr</td><td>...</td><td>Tr</td><td>Al</td><td>Tr</td><td>Al</td><td>Tr</td><td>Al</td><td>Tr</td><td>Al</td><td>Tr</td><td>Al</td></tr>\n",
       "\t<tr><th scope=row>75</th><td>Al</td><td>Tr</td><td>Al</td><td>Tr</td><td>Al</td><td>Tr</td><td>Al</td><td>Tr</td><td>Al</td><td>Tr</td><td>...</td><td>Tr</td><td>Al</td><td>Tr</td><td>Al</td><td>Tr</td><td>Al</td><td>Tr</td><td>Al</td><td>Tr</td><td>Al</td></tr>\n",
       "</tbody>\n",
       "</table>\n"
      ],
      "text/latex": [
       "A data.frame: 6 × 148\n",
       "\\begin{tabular}{r|lllllllllllllllllllll}\n",
       "  & orario 1 & orario 2 & orario 3 & orario 4 & orario 5 & orario 6 & orario 7 & orario 8 & orario 9 & orario 10 & ... & orario 139 & orario 140 & orario 141 & orario 142 & orario 143 & orario 144 & orario 145 & orario 146 & orario 147 & orario 148\\\\\n",
       "  & <fct> & <fct> & <fct> & <fct> & <fct> & <fct> & <fct> & <fct> & <fct> & <fct> & ... & <fct> & <fct> & <fct> & <fct> & <fct> & <fct> & <fct> & <fct> & <fct> & <fct>\\\\\n",
       "\\hline\n",
       "\t70 & Al & Tr & Al & Tr & Al & Tr & Al & Tr & Al & Tr & ... & Tr & Al & Tr & Al & Tr & Al & Tr & Al & Tr & Al\\\\\n",
       "\t71 & Al & Tr & Al & Tr & Al & Tr & Al & Tr & Al & Tr & ... & Tr & Al & Tr & Al & Tr & Al & Tr & Al & Tr & Al\\\\\n",
       "\t72 & Al & Tr & Al & Tr & Al & Tr & Al & Tr & Al & Tr & ... & Tr & Al & Tr & Al & Tr & Al & Tr & Al & Tr & Al\\\\\n",
       "\t73 & Al & Tr & Al & Tr & Al & Tr & Al & Tr & Al & Tr & ... & Tr & Al & Tr & Al & Tr & Al & Tr & Al & Tr & Al\\\\\n",
       "\t74 & Al & Tr & Al & Tr & Al & Tr & Al & Tr & Al & Tr & ... & Tr & Al & Tr & Al & Tr & Al & Tr & Al & Tr & Al\\\\\n",
       "\t75 & Al & Tr & Al & Tr & Al & Tr & Al & Tr & Al & Tr & ... & Tr & Al & Tr & Al & Tr & Al & Tr & Al & Tr & Al\\\\\n",
       "\\end{tabular}\n"
      ],
      "text/markdown": [
       "\n",
       "A data.frame: 6 × 148\n",
       "\n",
       "| <!--/--> | orario 1 &lt;fct&gt; | orario 2 &lt;fct&gt; | orario 3 &lt;fct&gt; | orario 4 &lt;fct&gt; | orario 5 &lt;fct&gt; | orario 6 &lt;fct&gt; | orario 7 &lt;fct&gt; | orario 8 &lt;fct&gt; | orario 9 &lt;fct&gt; | orario 10 &lt;fct&gt; | ... ... | orario 139 &lt;fct&gt; | orario 140 &lt;fct&gt; | orario 141 &lt;fct&gt; | orario 142 &lt;fct&gt; | orario 143 &lt;fct&gt; | orario 144 &lt;fct&gt; | orario 145 &lt;fct&gt; | orario 146 &lt;fct&gt; | orario 147 &lt;fct&gt; | orario 148 &lt;fct&gt; |\n",
       "|---|---|---|---|---|---|---|---|---|---|---|---|---|---|---|---|---|---|---|---|---|---|\n",
       "| 70 | Al | Tr | Al | Tr | Al | Tr | Al | Tr | Al | Tr | ... | Tr | Al | Tr | Al | Tr | Al | Tr | Al | Tr | Al |\n",
       "| 71 | Al | Tr | Al | Tr | Al | Tr | Al | Tr | Al | Tr | ... | Tr | Al | Tr | Al | Tr | Al | Tr | Al | Tr | Al |\n",
       "| 72 | Al | Tr | Al | Tr | Al | Tr | Al | Tr | Al | Tr | ... | Tr | Al | Tr | Al | Tr | Al | Tr | Al | Tr | Al |\n",
       "| 73 | Al | Tr | Al | Tr | Al | Tr | Al | Tr | Al | Tr | ... | Tr | Al | Tr | Al | Tr | Al | Tr | Al | Tr | Al |\n",
       "| 74 | Al | Tr | Al | Tr | Al | Tr | Al | Tr | Al | Tr | ... | Tr | Al | Tr | Al | Tr | Al | Tr | Al | Tr | Al |\n",
       "| 75 | Al | Tr | Al | Tr | Al | Tr | Al | Tr | Al | Tr | ... | Tr | Al | Tr | Al | Tr | Al | Tr | Al | Tr | Al |\n",
       "\n"
      ],
      "text/plain": [
       "   orario 1 orario 2 orario 3 orario 4 orario 5 orario 6 orario 7 orario 8\n",
       "70 Al       Tr       Al       Tr       Al       Tr       Al       Tr      \n",
       "71 Al       Tr       Al       Tr       Al       Tr       Al       Tr      \n",
       "72 Al       Tr       Al       Tr       Al       Tr       Al       Tr      \n",
       "73 Al       Tr       Al       Tr       Al       Tr       Al       Tr      \n",
       "74 Al       Tr       Al       Tr       Al       Tr       Al       Tr      \n",
       "75 Al       Tr       Al       Tr       Al       Tr       Al       Tr      \n",
       "   orario 9 orario 10 ... orario 139 orario 140 orario 141 orario 142\n",
       "70 Al       Tr        ... Tr         Al         Tr         Al        \n",
       "71 Al       Tr        ... Tr         Al         Tr         Al        \n",
       "72 Al       Tr        ... Tr         Al         Tr         Al        \n",
       "73 Al       Tr        ... Tr         Al         Tr         Al        \n",
       "74 Al       Tr        ... Tr         Al         Tr         Al        \n",
       "75 Al       Tr        ... Tr         Al         Tr         Al        \n",
       "   orario 143 orario 144 orario 145 orario 146 orario 147 orario 148\n",
       "70 Tr         Al         Tr         Al         Tr         Al        \n",
       "71 Tr         Al         Tr         Al         Tr         Al        \n",
       "72 Tr         Al         Tr         Al         Tr         Al        \n",
       "73 Tr         Al         Tr         Al         Tr         Al        \n",
       "74 Tr         Al         Tr         Al         Tr         Al        \n",
       "75 Tr         Al         Tr         Al         Tr         Al        "
      ]
     },
     "metadata": {},
     "output_type": "display_data"
    }
   ],
   "source": [
    "orario_occasione_s <- (t(matrix(Datioccas$ALBA..A.T.)))\n",
    "colnames(orario_occasione_s) <- c(paste0(\"orario \", 1:occasioni_ncols))\n",
    "orario_occasione_s[orario_occasione_s == \"T\"] <- as.character(\"Al\")\n",
    "orario_occasione_s[orario_occasione_s == \"A\"] <- as.character(\"Tr\")\n",
    "orario_occasione <- as.data.frame(rbind(orario_occasione_s[rep(1, trappole_totali), ]))\n",
    "rownames(orario_occasione) <- c(1:trappole_totali)\n",
    "tail(orario_occasione)"
   ]
  },
  {
   "cell_type": "markdown",
   "metadata": {},
   "source": [
    "### Precipitazioni occasione"
   ]
  },
  {
   "cell_type": "code",
   "execution_count": 8,
   "metadata": {},
   "outputs": [
    {
     "data": {
      "text/html": [
       "<table>\n",
       "<caption>A data.frame: 6 × 148</caption>\n",
       "<thead>\n",
       "\t<tr><th></th><th scope=col>orario 1</th><th scope=col>orario 2</th><th scope=col>orario 3</th><th scope=col>orario 4</th><th scope=col>orario 5</th><th scope=col>orario 6</th><th scope=col>orario 7</th><th scope=col>orario 8</th><th scope=col>orario 9</th><th scope=col>orario 10</th><th scope=col>...</th><th scope=col>orario 139</th><th scope=col>orario 140</th><th scope=col>orario 141</th><th scope=col>orario 142</th><th scope=col>orario 143</th><th scope=col>orario 144</th><th scope=col>orario 145</th><th scope=col>orario 146</th><th scope=col>orario 147</th><th scope=col>orario 148</th></tr>\n",
       "\t<tr><th></th><th scope=col>&lt;dbl&gt;</th><th scope=col>&lt;dbl&gt;</th><th scope=col>&lt;dbl&gt;</th><th scope=col>&lt;dbl&gt;</th><th scope=col>&lt;dbl&gt;</th><th scope=col>&lt;dbl&gt;</th><th scope=col>&lt;dbl&gt;</th><th scope=col>&lt;dbl&gt;</th><th scope=col>&lt;dbl&gt;</th><th scope=col>&lt;dbl&gt;</th><th scope=col>...</th><th scope=col>&lt;dbl&gt;</th><th scope=col>&lt;dbl&gt;</th><th scope=col>&lt;dbl&gt;</th><th scope=col>&lt;dbl&gt;</th><th scope=col>&lt;dbl&gt;</th><th scope=col>&lt;dbl&gt;</th><th scope=col>&lt;dbl&gt;</th><th scope=col>&lt;dbl&gt;</th><th scope=col>&lt;dbl&gt;</th><th scope=col>&lt;dbl&gt;</th></tr>\n",
       "</thead>\n",
       "<tbody>\n",
       "\t<tr><th scope=row>70</th><td>0</td><td>0</td><td>0</td><td>0</td><td>0</td><td>0</td><td>0</td><td>0</td><td>0</td><td>0</td><td>...</td><td>0</td><td>0.2</td><td>0</td><td>0</td><td>0</td><td>0</td><td>0</td><td>0</td><td>0</td><td>0</td></tr>\n",
       "\t<tr><th scope=row>71</th><td>0</td><td>0</td><td>0</td><td>0</td><td>0</td><td>0</td><td>0</td><td>0</td><td>0</td><td>0</td><td>...</td><td>0</td><td>0.2</td><td>0</td><td>0</td><td>0</td><td>0</td><td>0</td><td>0</td><td>0</td><td>0</td></tr>\n",
       "\t<tr><th scope=row>72</th><td>0</td><td>0</td><td>0</td><td>0</td><td>0</td><td>0</td><td>0</td><td>0</td><td>0</td><td>0</td><td>...</td><td>0</td><td>0.2</td><td>0</td><td>0</td><td>0</td><td>0</td><td>0</td><td>0</td><td>0</td><td>0</td></tr>\n",
       "\t<tr><th scope=row>73</th><td>0</td><td>0</td><td>0</td><td>0</td><td>0</td><td>0</td><td>0</td><td>0</td><td>0</td><td>0</td><td>...</td><td>0</td><td>0.2</td><td>0</td><td>0</td><td>0</td><td>0</td><td>0</td><td>0</td><td>0</td><td>0</td></tr>\n",
       "\t<tr><th scope=row>74</th><td>0</td><td>0</td><td>0</td><td>0</td><td>0</td><td>0</td><td>0</td><td>0</td><td>0</td><td>0</td><td>...</td><td>0</td><td>0.2</td><td>0</td><td>0</td><td>0</td><td>0</td><td>0</td><td>0</td><td>0</td><td>0</td></tr>\n",
       "\t<tr><th scope=row>75</th><td>0</td><td>0</td><td>0</td><td>0</td><td>0</td><td>0</td><td>0</td><td>0</td><td>0</td><td>0</td><td>...</td><td>0</td><td>0.2</td><td>0</td><td>0</td><td>0</td><td>0</td><td>0</td><td>0</td><td>0</td><td>0</td></tr>\n",
       "</tbody>\n",
       "</table>\n"
      ],
      "text/latex": [
       "A data.frame: 6 × 148\n",
       "\\begin{tabular}{r|lllllllllllllllllllll}\n",
       "  & orario 1 & orario 2 & orario 3 & orario 4 & orario 5 & orario 6 & orario 7 & orario 8 & orario 9 & orario 10 & ... & orario 139 & orario 140 & orario 141 & orario 142 & orario 143 & orario 144 & orario 145 & orario 146 & orario 147 & orario 148\\\\\n",
       "  & <dbl> & <dbl> & <dbl> & <dbl> & <dbl> & <dbl> & <dbl> & <dbl> & <dbl> & <dbl> & ... & <dbl> & <dbl> & <dbl> & <dbl> & <dbl> & <dbl> & <dbl> & <dbl> & <dbl> & <dbl>\\\\\n",
       "\\hline\n",
       "\t70 & 0 & 0 & 0 & 0 & 0 & 0 & 0 & 0 & 0 & 0 & ... & 0 & 0.2 & 0 & 0 & 0 & 0 & 0 & 0 & 0 & 0\\\\\n",
       "\t71 & 0 & 0 & 0 & 0 & 0 & 0 & 0 & 0 & 0 & 0 & ... & 0 & 0.2 & 0 & 0 & 0 & 0 & 0 & 0 & 0 & 0\\\\\n",
       "\t72 & 0 & 0 & 0 & 0 & 0 & 0 & 0 & 0 & 0 & 0 & ... & 0 & 0.2 & 0 & 0 & 0 & 0 & 0 & 0 & 0 & 0\\\\\n",
       "\t73 & 0 & 0 & 0 & 0 & 0 & 0 & 0 & 0 & 0 & 0 & ... & 0 & 0.2 & 0 & 0 & 0 & 0 & 0 & 0 & 0 & 0\\\\\n",
       "\t74 & 0 & 0 & 0 & 0 & 0 & 0 & 0 & 0 & 0 & 0 & ... & 0 & 0.2 & 0 & 0 & 0 & 0 & 0 & 0 & 0 & 0\\\\\n",
       "\t75 & 0 & 0 & 0 & 0 & 0 & 0 & 0 & 0 & 0 & 0 & ... & 0 & 0.2 & 0 & 0 & 0 & 0 & 0 & 0 & 0 & 0\\\\\n",
       "\\end{tabular}\n"
      ],
      "text/markdown": [
       "\n",
       "A data.frame: 6 × 148\n",
       "\n",
       "| <!--/--> | orario 1 &lt;dbl&gt; | orario 2 &lt;dbl&gt; | orario 3 &lt;dbl&gt; | orario 4 &lt;dbl&gt; | orario 5 &lt;dbl&gt; | orario 6 &lt;dbl&gt; | orario 7 &lt;dbl&gt; | orario 8 &lt;dbl&gt; | orario 9 &lt;dbl&gt; | orario 10 &lt;dbl&gt; | ... ... | orario 139 &lt;dbl&gt; | orario 140 &lt;dbl&gt; | orario 141 &lt;dbl&gt; | orario 142 &lt;dbl&gt; | orario 143 &lt;dbl&gt; | orario 144 &lt;dbl&gt; | orario 145 &lt;dbl&gt; | orario 146 &lt;dbl&gt; | orario 147 &lt;dbl&gt; | orario 148 &lt;dbl&gt; |\n",
       "|---|---|---|---|---|---|---|---|---|---|---|---|---|---|---|---|---|---|---|---|---|---|\n",
       "| 70 | 0 | 0 | 0 | 0 | 0 | 0 | 0 | 0 | 0 | 0 | ... | 0 | 0.2 | 0 | 0 | 0 | 0 | 0 | 0 | 0 | 0 |\n",
       "| 71 | 0 | 0 | 0 | 0 | 0 | 0 | 0 | 0 | 0 | 0 | ... | 0 | 0.2 | 0 | 0 | 0 | 0 | 0 | 0 | 0 | 0 |\n",
       "| 72 | 0 | 0 | 0 | 0 | 0 | 0 | 0 | 0 | 0 | 0 | ... | 0 | 0.2 | 0 | 0 | 0 | 0 | 0 | 0 | 0 | 0 |\n",
       "| 73 | 0 | 0 | 0 | 0 | 0 | 0 | 0 | 0 | 0 | 0 | ... | 0 | 0.2 | 0 | 0 | 0 | 0 | 0 | 0 | 0 | 0 |\n",
       "| 74 | 0 | 0 | 0 | 0 | 0 | 0 | 0 | 0 | 0 | 0 | ... | 0 | 0.2 | 0 | 0 | 0 | 0 | 0 | 0 | 0 | 0 |\n",
       "| 75 | 0 | 0 | 0 | 0 | 0 | 0 | 0 | 0 | 0 | 0 | ... | 0 | 0.2 | 0 | 0 | 0 | 0 | 0 | 0 | 0 | 0 |\n",
       "\n"
      ],
      "text/plain": [
       "   orario 1 orario 2 orario 3 orario 4 orario 5 orario 6 orario 7 orario 8\n",
       "70 0        0        0        0        0        0        0        0       \n",
       "71 0        0        0        0        0        0        0        0       \n",
       "72 0        0        0        0        0        0        0        0       \n",
       "73 0        0        0        0        0        0        0        0       \n",
       "74 0        0        0        0        0        0        0        0       \n",
       "75 0        0        0        0        0        0        0        0       \n",
       "   orario 9 orario 10 ... orario 139 orario 140 orario 141 orario 142\n",
       "70 0        0         ... 0          0.2        0          0         \n",
       "71 0        0         ... 0          0.2        0          0         \n",
       "72 0        0         ... 0          0.2        0          0         \n",
       "73 0        0         ... 0          0.2        0          0         \n",
       "74 0        0         ... 0          0.2        0          0         \n",
       "75 0        0         ... 0          0.2        0          0         \n",
       "   orario 143 orario 144 orario 145 orario 146 orario 147 orario 148\n",
       "70 0          0          0          0          0          0         \n",
       "71 0          0          0          0          0          0         \n",
       "72 0          0          0          0          0          0         \n",
       "73 0          0          0          0          0          0         \n",
       "74 0          0          0          0          0          0         \n",
       "75 0          0          0          0          0          0         "
      ]
     },
     "metadata": {},
     "output_type": "display_data"
    }
   ],
   "source": [
    "precipitazioni_occasione_s <- data.frame(t(matrix(Datioccas$Precipitazioni)))\n",
    "colnames(precipitazioni_occasione_s) <- c(paste0(\"orario \", 1:occasioni_ncols))\n",
    "precipitazioni_occasione <- rbind(precipitazioni_occasione_s[rep(1, trappole_totali), ])\n",
    "rownames(precipitazioni_occasione) <- c(1:trappole_totali)\n",
    "tail(precipitazioni_occasione)"
   ]
  },
  {
   "cell_type": "markdown",
   "metadata": {},
   "source": [
    "### Temperatura occasione"
   ]
  },
  {
   "cell_type": "code",
   "execution_count": 9,
   "metadata": {},
   "outputs": [
    {
     "data": {
      "text/html": [
       "<table>\n",
       "<caption>A data.frame: 6 × 148</caption>\n",
       "<thead>\n",
       "\t<tr><th></th><th scope=col>orario 1</th><th scope=col>orario 2</th><th scope=col>orario 3</th><th scope=col>orario 4</th><th scope=col>orario 5</th><th scope=col>orario 6</th><th scope=col>orario 7</th><th scope=col>orario 8</th><th scope=col>orario 9</th><th scope=col>orario 10</th><th scope=col>...</th><th scope=col>orario 139</th><th scope=col>orario 140</th><th scope=col>orario 141</th><th scope=col>orario 142</th><th scope=col>orario 143</th><th scope=col>orario 144</th><th scope=col>orario 145</th><th scope=col>orario 146</th><th scope=col>orario 147</th><th scope=col>orario 148</th></tr>\n",
       "\t<tr><th></th><th scope=col>&lt;dbl&gt;</th><th scope=col>&lt;dbl&gt;</th><th scope=col>&lt;dbl&gt;</th><th scope=col>&lt;dbl&gt;</th><th scope=col>&lt;dbl&gt;</th><th scope=col>&lt;dbl&gt;</th><th scope=col>&lt;dbl&gt;</th><th scope=col>&lt;dbl&gt;</th><th scope=col>&lt;dbl&gt;</th><th scope=col>&lt;dbl&gt;</th><th scope=col>...</th><th scope=col>&lt;dbl&gt;</th><th scope=col>&lt;dbl&gt;</th><th scope=col>&lt;dbl&gt;</th><th scope=col>&lt;dbl&gt;</th><th scope=col>&lt;dbl&gt;</th><th scope=col>&lt;dbl&gt;</th><th scope=col>&lt;dbl&gt;</th><th scope=col>&lt;dbl&gt;</th><th scope=col>&lt;dbl&gt;</th><th scope=col>&lt;dbl&gt;</th></tr>\n",
       "</thead>\n",
       "<tbody>\n",
       "\t<tr><th scope=row>70</th><td>9.6</td><td>4.5</td><td>7.7</td><td>9.5</td><td>10.1</td><td>5.6</td><td>8.5</td><td>9.3</td><td>9.8</td><td>10.7</td><td>...</td><td>12.1</td><td>10.6</td><td>9.9</td><td>12.1</td><td>8.6</td><td>7.2</td><td>4.2</td><td>6.7</td><td>6.5</td><td>7.6</td></tr>\n",
       "\t<tr><th scope=row>71</th><td>9.6</td><td>4.5</td><td>7.7</td><td>9.5</td><td>10.1</td><td>5.6</td><td>8.5</td><td>9.3</td><td>9.8</td><td>10.7</td><td>...</td><td>12.1</td><td>10.6</td><td>9.9</td><td>12.1</td><td>8.6</td><td>7.2</td><td>4.2</td><td>6.7</td><td>6.5</td><td>7.6</td></tr>\n",
       "\t<tr><th scope=row>72</th><td>9.6</td><td>4.5</td><td>7.7</td><td>9.5</td><td>10.1</td><td>5.6</td><td>8.5</td><td>9.3</td><td>9.8</td><td>10.7</td><td>...</td><td>12.1</td><td>10.6</td><td>9.9</td><td>12.1</td><td>8.6</td><td>7.2</td><td>4.2</td><td>6.7</td><td>6.5</td><td>7.6</td></tr>\n",
       "\t<tr><th scope=row>73</th><td>9.6</td><td>4.5</td><td>7.7</td><td>9.5</td><td>10.1</td><td>5.6</td><td>8.5</td><td>9.3</td><td>9.8</td><td>10.7</td><td>...</td><td>12.1</td><td>10.6</td><td>9.9</td><td>12.1</td><td>8.6</td><td>7.2</td><td>4.2</td><td>6.7</td><td>6.5</td><td>7.6</td></tr>\n",
       "\t<tr><th scope=row>74</th><td>9.6</td><td>4.5</td><td>7.7</td><td>9.5</td><td>10.1</td><td>5.6</td><td>8.5</td><td>9.3</td><td>9.8</td><td>10.7</td><td>...</td><td>12.1</td><td>10.6</td><td>9.9</td><td>12.1</td><td>8.6</td><td>7.2</td><td>4.2</td><td>6.7</td><td>6.5</td><td>7.6</td></tr>\n",
       "\t<tr><th scope=row>75</th><td>9.6</td><td>4.5</td><td>7.7</td><td>9.5</td><td>10.1</td><td>5.6</td><td>8.5</td><td>9.3</td><td>9.8</td><td>10.7</td><td>...</td><td>12.1</td><td>10.6</td><td>9.9</td><td>12.1</td><td>8.6</td><td>7.2</td><td>4.2</td><td>6.7</td><td>6.5</td><td>7.6</td></tr>\n",
       "</tbody>\n",
       "</table>\n"
      ],
      "text/latex": [
       "A data.frame: 6 × 148\n",
       "\\begin{tabular}{r|lllllllllllllllllllll}\n",
       "  & orario 1 & orario 2 & orario 3 & orario 4 & orario 5 & orario 6 & orario 7 & orario 8 & orario 9 & orario 10 & ... & orario 139 & orario 140 & orario 141 & orario 142 & orario 143 & orario 144 & orario 145 & orario 146 & orario 147 & orario 148\\\\\n",
       "  & <dbl> & <dbl> & <dbl> & <dbl> & <dbl> & <dbl> & <dbl> & <dbl> & <dbl> & <dbl> & ... & <dbl> & <dbl> & <dbl> & <dbl> & <dbl> & <dbl> & <dbl> & <dbl> & <dbl> & <dbl>\\\\\n",
       "\\hline\n",
       "\t70 & 9.6 & 4.5 & 7.7 & 9.5 & 10.1 & 5.6 & 8.5 & 9.3 & 9.8 & 10.7 & ... & 12.1 & 10.6 & 9.9 & 12.1 & 8.6 & 7.2 & 4.2 & 6.7 & 6.5 & 7.6\\\\\n",
       "\t71 & 9.6 & 4.5 & 7.7 & 9.5 & 10.1 & 5.6 & 8.5 & 9.3 & 9.8 & 10.7 & ... & 12.1 & 10.6 & 9.9 & 12.1 & 8.6 & 7.2 & 4.2 & 6.7 & 6.5 & 7.6\\\\\n",
       "\t72 & 9.6 & 4.5 & 7.7 & 9.5 & 10.1 & 5.6 & 8.5 & 9.3 & 9.8 & 10.7 & ... & 12.1 & 10.6 & 9.9 & 12.1 & 8.6 & 7.2 & 4.2 & 6.7 & 6.5 & 7.6\\\\\n",
       "\t73 & 9.6 & 4.5 & 7.7 & 9.5 & 10.1 & 5.6 & 8.5 & 9.3 & 9.8 & 10.7 & ... & 12.1 & 10.6 & 9.9 & 12.1 & 8.6 & 7.2 & 4.2 & 6.7 & 6.5 & 7.6\\\\\n",
       "\t74 & 9.6 & 4.5 & 7.7 & 9.5 & 10.1 & 5.6 & 8.5 & 9.3 & 9.8 & 10.7 & ... & 12.1 & 10.6 & 9.9 & 12.1 & 8.6 & 7.2 & 4.2 & 6.7 & 6.5 & 7.6\\\\\n",
       "\t75 & 9.6 & 4.5 & 7.7 & 9.5 & 10.1 & 5.6 & 8.5 & 9.3 & 9.8 & 10.7 & ... & 12.1 & 10.6 & 9.9 & 12.1 & 8.6 & 7.2 & 4.2 & 6.7 & 6.5 & 7.6\\\\\n",
       "\\end{tabular}\n"
      ],
      "text/markdown": [
       "\n",
       "A data.frame: 6 × 148\n",
       "\n",
       "| <!--/--> | orario 1 &lt;dbl&gt; | orario 2 &lt;dbl&gt; | orario 3 &lt;dbl&gt; | orario 4 &lt;dbl&gt; | orario 5 &lt;dbl&gt; | orario 6 &lt;dbl&gt; | orario 7 &lt;dbl&gt; | orario 8 &lt;dbl&gt; | orario 9 &lt;dbl&gt; | orario 10 &lt;dbl&gt; | ... ... | orario 139 &lt;dbl&gt; | orario 140 &lt;dbl&gt; | orario 141 &lt;dbl&gt; | orario 142 &lt;dbl&gt; | orario 143 &lt;dbl&gt; | orario 144 &lt;dbl&gt; | orario 145 &lt;dbl&gt; | orario 146 &lt;dbl&gt; | orario 147 &lt;dbl&gt; | orario 148 &lt;dbl&gt; |\n",
       "|---|---|---|---|---|---|---|---|---|---|---|---|---|---|---|---|---|---|---|---|---|---|\n",
       "| 70 | 9.6 | 4.5 | 7.7 | 9.5 | 10.1 | 5.6 | 8.5 | 9.3 | 9.8 | 10.7 | ... | 12.1 | 10.6 | 9.9 | 12.1 | 8.6 | 7.2 | 4.2 | 6.7 | 6.5 | 7.6 |\n",
       "| 71 | 9.6 | 4.5 | 7.7 | 9.5 | 10.1 | 5.6 | 8.5 | 9.3 | 9.8 | 10.7 | ... | 12.1 | 10.6 | 9.9 | 12.1 | 8.6 | 7.2 | 4.2 | 6.7 | 6.5 | 7.6 |\n",
       "| 72 | 9.6 | 4.5 | 7.7 | 9.5 | 10.1 | 5.6 | 8.5 | 9.3 | 9.8 | 10.7 | ... | 12.1 | 10.6 | 9.9 | 12.1 | 8.6 | 7.2 | 4.2 | 6.7 | 6.5 | 7.6 |\n",
       "| 73 | 9.6 | 4.5 | 7.7 | 9.5 | 10.1 | 5.6 | 8.5 | 9.3 | 9.8 | 10.7 | ... | 12.1 | 10.6 | 9.9 | 12.1 | 8.6 | 7.2 | 4.2 | 6.7 | 6.5 | 7.6 |\n",
       "| 74 | 9.6 | 4.5 | 7.7 | 9.5 | 10.1 | 5.6 | 8.5 | 9.3 | 9.8 | 10.7 | ... | 12.1 | 10.6 | 9.9 | 12.1 | 8.6 | 7.2 | 4.2 | 6.7 | 6.5 | 7.6 |\n",
       "| 75 | 9.6 | 4.5 | 7.7 | 9.5 | 10.1 | 5.6 | 8.5 | 9.3 | 9.8 | 10.7 | ... | 12.1 | 10.6 | 9.9 | 12.1 | 8.6 | 7.2 | 4.2 | 6.7 | 6.5 | 7.6 |\n",
       "\n"
      ],
      "text/plain": [
       "   orario 1 orario 2 orario 3 orario 4 orario 5 orario 6 orario 7 orario 8\n",
       "70 9.6      4.5      7.7      9.5      10.1     5.6      8.5      9.3     \n",
       "71 9.6      4.5      7.7      9.5      10.1     5.6      8.5      9.3     \n",
       "72 9.6      4.5      7.7      9.5      10.1     5.6      8.5      9.3     \n",
       "73 9.6      4.5      7.7      9.5      10.1     5.6      8.5      9.3     \n",
       "74 9.6      4.5      7.7      9.5      10.1     5.6      8.5      9.3     \n",
       "75 9.6      4.5      7.7      9.5      10.1     5.6      8.5      9.3     \n",
       "   orario 9 orario 10 ... orario 139 orario 140 orario 141 orario 142\n",
       "70 9.8      10.7      ... 12.1       10.6       9.9        12.1      \n",
       "71 9.8      10.7      ... 12.1       10.6       9.9        12.1      \n",
       "72 9.8      10.7      ... 12.1       10.6       9.9        12.1      \n",
       "73 9.8      10.7      ... 12.1       10.6       9.9        12.1      \n",
       "74 9.8      10.7      ... 12.1       10.6       9.9        12.1      \n",
       "75 9.8      10.7      ... 12.1       10.6       9.9        12.1      \n",
       "   orario 143 orario 144 orario 145 orario 146 orario 147 orario 148\n",
       "70 8.6        7.2        4.2        6.7        6.5        7.6       \n",
       "71 8.6        7.2        4.2        6.7        6.5        7.6       \n",
       "72 8.6        7.2        4.2        6.7        6.5        7.6       \n",
       "73 8.6        7.2        4.2        6.7        6.5        7.6       \n",
       "74 8.6        7.2        4.2        6.7        6.5        7.6       \n",
       "75 8.6        7.2        4.2        6.7        6.5        7.6       "
      ]
     },
     "metadata": {},
     "output_type": "display_data"
    }
   ],
   "source": [
    "temperatura_occasione_s <- data.frame(t(matrix(Datioccas$Temperatura.C)))\n",
    "colnames(temperatura_occasione_s) <- c(paste0(\"orario \", 1:occasioni_ncols))\n",
    "temperatura_occasione <- rbind(temperatura_occasione_s[rep(1, trappole_totali), ])\n",
    "rownames(temperatura_occasione) <- c(1:trappole_totali)\n",
    "tail(temperatura_occasione)"
   ]
  },
  {
   "cell_type": "code",
   "execution_count": 10,
   "metadata": {},
   "outputs": [
    {
     "data": {
      "text/html": [
       "<table>\n",
       "<caption>A data.frame: 6 × 148</caption>\n",
       "<thead>\n",
       "\t<tr><th></th><th scope=col>orario 1</th><th scope=col>orario 2</th><th scope=col>orario 3</th><th scope=col>orario 4</th><th scope=col>orario 5</th><th scope=col>orario 6</th><th scope=col>orario 7</th><th scope=col>orario 8</th><th scope=col>orario 9</th><th scope=col>orario 10</th><th scope=col>...</th><th scope=col>orario 139</th><th scope=col>orario 140</th><th scope=col>orario 141</th><th scope=col>orario 142</th><th scope=col>orario 143</th><th scope=col>orario 144</th><th scope=col>orario 145</th><th scope=col>orario 146</th><th scope=col>orario 147</th><th scope=col>orario 148</th></tr>\n",
       "\t<tr><th></th><th scope=col>&lt;dbl&gt;</th><th scope=col>&lt;dbl&gt;</th><th scope=col>&lt;dbl&gt;</th><th scope=col>&lt;dbl&gt;</th><th scope=col>&lt;dbl&gt;</th><th scope=col>&lt;dbl&gt;</th><th scope=col>&lt;dbl&gt;</th><th scope=col>&lt;dbl&gt;</th><th scope=col>&lt;dbl&gt;</th><th scope=col>&lt;dbl&gt;</th><th scope=col>...</th><th scope=col>&lt;dbl&gt;</th><th scope=col>&lt;dbl&gt;</th><th scope=col>&lt;dbl&gt;</th><th scope=col>&lt;dbl&gt;</th><th scope=col>&lt;dbl&gt;</th><th scope=col>&lt;dbl&gt;</th><th scope=col>&lt;dbl&gt;</th><th scope=col>&lt;dbl&gt;</th><th scope=col>&lt;dbl&gt;</th><th scope=col>&lt;dbl&gt;</th></tr>\n",
       "</thead>\n",
       "<tbody>\n",
       "\t<tr><th scope=row>70</th><td>3</td><td>1.4</td><td>2.9</td><td>1.2</td><td>2.4</td><td>0.9</td><td>2.3</td><td>1</td><td>0.6</td><td>0.7</td><td>...</td><td>1.3</td><td>2.2</td><td>1.3</td><td>3.8</td><td>1</td><td>0.9</td><td>0.8</td><td>2</td><td>0.7</td><td>1</td></tr>\n",
       "\t<tr><th scope=row>71</th><td>3</td><td>1.4</td><td>2.9</td><td>1.2</td><td>2.4</td><td>0.9</td><td>2.3</td><td>1</td><td>0.6</td><td>0.7</td><td>...</td><td>1.3</td><td>2.2</td><td>1.3</td><td>3.8</td><td>1</td><td>0.9</td><td>0.8</td><td>2</td><td>0.7</td><td>1</td></tr>\n",
       "\t<tr><th scope=row>72</th><td>3</td><td>1.4</td><td>2.9</td><td>1.2</td><td>2.4</td><td>0.9</td><td>2.3</td><td>1</td><td>0.6</td><td>0.7</td><td>...</td><td>1.3</td><td>2.2</td><td>1.3</td><td>3.8</td><td>1</td><td>0.9</td><td>0.8</td><td>2</td><td>0.7</td><td>1</td></tr>\n",
       "\t<tr><th scope=row>73</th><td>3</td><td>1.4</td><td>2.9</td><td>1.2</td><td>2.4</td><td>0.9</td><td>2.3</td><td>1</td><td>0.6</td><td>0.7</td><td>...</td><td>1.3</td><td>2.2</td><td>1.3</td><td>3.8</td><td>1</td><td>0.9</td><td>0.8</td><td>2</td><td>0.7</td><td>1</td></tr>\n",
       "\t<tr><th scope=row>74</th><td>3</td><td>1.4</td><td>2.9</td><td>1.2</td><td>2.4</td><td>0.9</td><td>2.3</td><td>1</td><td>0.6</td><td>0.7</td><td>...</td><td>1.3</td><td>2.2</td><td>1.3</td><td>3.8</td><td>1</td><td>0.9</td><td>0.8</td><td>2</td><td>0.7</td><td>1</td></tr>\n",
       "\t<tr><th scope=row>75</th><td>3</td><td>1.4</td><td>2.9</td><td>1.2</td><td>2.4</td><td>0.9</td><td>2.3</td><td>1</td><td>0.6</td><td>0.7</td><td>...</td><td>1.3</td><td>2.2</td><td>1.3</td><td>3.8</td><td>1</td><td>0.9</td><td>0.8</td><td>2</td><td>0.7</td><td>1</td></tr>\n",
       "</tbody>\n",
       "</table>\n"
      ],
      "text/latex": [
       "A data.frame: 6 × 148\n",
       "\\begin{tabular}{r|lllllllllllllllllllll}\n",
       "  & orario 1 & orario 2 & orario 3 & orario 4 & orario 5 & orario 6 & orario 7 & orario 8 & orario 9 & orario 10 & ... & orario 139 & orario 140 & orario 141 & orario 142 & orario 143 & orario 144 & orario 145 & orario 146 & orario 147 & orario 148\\\\\n",
       "  & <dbl> & <dbl> & <dbl> & <dbl> & <dbl> & <dbl> & <dbl> & <dbl> & <dbl> & <dbl> & ... & <dbl> & <dbl> & <dbl> & <dbl> & <dbl> & <dbl> & <dbl> & <dbl> & <dbl> & <dbl>\\\\\n",
       "\\hline\n",
       "\t70 & 3 & 1.4 & 2.9 & 1.2 & 2.4 & 0.9 & 2.3 & 1 & 0.6 & 0.7 & ... & 1.3 & 2.2 & 1.3 & 3.8 & 1 & 0.9 & 0.8 & 2 & 0.7 & 1\\\\\n",
       "\t71 & 3 & 1.4 & 2.9 & 1.2 & 2.4 & 0.9 & 2.3 & 1 & 0.6 & 0.7 & ... & 1.3 & 2.2 & 1.3 & 3.8 & 1 & 0.9 & 0.8 & 2 & 0.7 & 1\\\\\n",
       "\t72 & 3 & 1.4 & 2.9 & 1.2 & 2.4 & 0.9 & 2.3 & 1 & 0.6 & 0.7 & ... & 1.3 & 2.2 & 1.3 & 3.8 & 1 & 0.9 & 0.8 & 2 & 0.7 & 1\\\\\n",
       "\t73 & 3 & 1.4 & 2.9 & 1.2 & 2.4 & 0.9 & 2.3 & 1 & 0.6 & 0.7 & ... & 1.3 & 2.2 & 1.3 & 3.8 & 1 & 0.9 & 0.8 & 2 & 0.7 & 1\\\\\n",
       "\t74 & 3 & 1.4 & 2.9 & 1.2 & 2.4 & 0.9 & 2.3 & 1 & 0.6 & 0.7 & ... & 1.3 & 2.2 & 1.3 & 3.8 & 1 & 0.9 & 0.8 & 2 & 0.7 & 1\\\\\n",
       "\t75 & 3 & 1.4 & 2.9 & 1.2 & 2.4 & 0.9 & 2.3 & 1 & 0.6 & 0.7 & ... & 1.3 & 2.2 & 1.3 & 3.8 & 1 & 0.9 & 0.8 & 2 & 0.7 & 1\\\\\n",
       "\\end{tabular}\n"
      ],
      "text/markdown": [
       "\n",
       "A data.frame: 6 × 148\n",
       "\n",
       "| <!--/--> | orario 1 &lt;dbl&gt; | orario 2 &lt;dbl&gt; | orario 3 &lt;dbl&gt; | orario 4 &lt;dbl&gt; | orario 5 &lt;dbl&gt; | orario 6 &lt;dbl&gt; | orario 7 &lt;dbl&gt; | orario 8 &lt;dbl&gt; | orario 9 &lt;dbl&gt; | orario 10 &lt;dbl&gt; | ... ... | orario 139 &lt;dbl&gt; | orario 140 &lt;dbl&gt; | orario 141 &lt;dbl&gt; | orario 142 &lt;dbl&gt; | orario 143 &lt;dbl&gt; | orario 144 &lt;dbl&gt; | orario 145 &lt;dbl&gt; | orario 146 &lt;dbl&gt; | orario 147 &lt;dbl&gt; | orario 148 &lt;dbl&gt; |\n",
       "|---|---|---|---|---|---|---|---|---|---|---|---|---|---|---|---|---|---|---|---|---|---|\n",
       "| 70 | 3 | 1.4 | 2.9 | 1.2 | 2.4 | 0.9 | 2.3 | 1 | 0.6 | 0.7 | ... | 1.3 | 2.2 | 1.3 | 3.8 | 1 | 0.9 | 0.8 | 2 | 0.7 | 1 |\n",
       "| 71 | 3 | 1.4 | 2.9 | 1.2 | 2.4 | 0.9 | 2.3 | 1 | 0.6 | 0.7 | ... | 1.3 | 2.2 | 1.3 | 3.8 | 1 | 0.9 | 0.8 | 2 | 0.7 | 1 |\n",
       "| 72 | 3 | 1.4 | 2.9 | 1.2 | 2.4 | 0.9 | 2.3 | 1 | 0.6 | 0.7 | ... | 1.3 | 2.2 | 1.3 | 3.8 | 1 | 0.9 | 0.8 | 2 | 0.7 | 1 |\n",
       "| 73 | 3 | 1.4 | 2.9 | 1.2 | 2.4 | 0.9 | 2.3 | 1 | 0.6 | 0.7 | ... | 1.3 | 2.2 | 1.3 | 3.8 | 1 | 0.9 | 0.8 | 2 | 0.7 | 1 |\n",
       "| 74 | 3 | 1.4 | 2.9 | 1.2 | 2.4 | 0.9 | 2.3 | 1 | 0.6 | 0.7 | ... | 1.3 | 2.2 | 1.3 | 3.8 | 1 | 0.9 | 0.8 | 2 | 0.7 | 1 |\n",
       "| 75 | 3 | 1.4 | 2.9 | 1.2 | 2.4 | 0.9 | 2.3 | 1 | 0.6 | 0.7 | ... | 1.3 | 2.2 | 1.3 | 3.8 | 1 | 0.9 | 0.8 | 2 | 0.7 | 1 |\n",
       "\n"
      ],
      "text/plain": [
       "   orario 1 orario 2 orario 3 orario 4 orario 5 orario 6 orario 7 orario 8\n",
       "70 3        1.4      2.9      1.2      2.4      0.9      2.3      1       \n",
       "71 3        1.4      2.9      1.2      2.4      0.9      2.3      1       \n",
       "72 3        1.4      2.9      1.2      2.4      0.9      2.3      1       \n",
       "73 3        1.4      2.9      1.2      2.4      0.9      2.3      1       \n",
       "74 3        1.4      2.9      1.2      2.4      0.9      2.3      1       \n",
       "75 3        1.4      2.9      1.2      2.4      0.9      2.3      1       \n",
       "   orario 9 orario 10 ... orario 139 orario 140 orario 141 orario 142\n",
       "70 0.6      0.7       ... 1.3        2.2        1.3        3.8       \n",
       "71 0.6      0.7       ... 1.3        2.2        1.3        3.8       \n",
       "72 0.6      0.7       ... 1.3        2.2        1.3        3.8       \n",
       "73 0.6      0.7       ... 1.3        2.2        1.3        3.8       \n",
       "74 0.6      0.7       ... 1.3        2.2        1.3        3.8       \n",
       "75 0.6      0.7       ... 1.3        2.2        1.3        3.8       \n",
       "   orario 143 orario 144 orario 145 orario 146 orario 147 orario 148\n",
       "70 1          0.9        0.8        2          0.7        1         \n",
       "71 1          0.9        0.8        2          0.7        1         \n",
       "72 1          0.9        0.8        2          0.7        1         \n",
       "73 1          0.9        0.8        2          0.7        1         \n",
       "74 1          0.9        0.8        2          0.7        1         \n",
       "75 1          0.9        0.8        2          0.7        1         "
      ]
     },
     "metadata": {},
     "output_type": "display_data"
    }
   ],
   "source": [
    "velvento_occasione_s <- data.frame(t(matrix(Datioccas$velocita.vento)))\n",
    "colnames(velvento_occasione_s) <- c(paste0(\"orario \", 1:occasioni_ncols))\n",
    "velvento_occasione <- rbind(velvento_occasione_s[rep(1, trappole_totali), ])\n",
    "rownames(velvento_occasione) <- c(1:trappole_totali)\n",
    "tail(velvento_occasione)"
   ]
  },
  {
   "cell_type": "code",
   "execution_count": 11,
   "metadata": {},
   "outputs": [],
   "source": [
    "write.csv2(catture_effettive,\"Dati-preparazione-modello\\\\catture_effettive_totale.csv\", row.names = FALSE)\n",
    "write.csv2(orario_occasione,\"Dati-preparazione-modello\\\\orario_occasione_totale.csv\", row.names = FALSE)\n",
    "write.csv2(precipitazioni_occasione,\"Dati-preparazione-modello\\\\precipitazioni_occasione_totale.csv\", row.names = FALSE)\n",
    "write.csv2(temperatura_occasione,\"Dati-preparazione-modello\\\\temperatura_occasione_totale.csv\", row.names = FALSE)\n",
    "write.csv2(velvento_occasione,\"Dati-preparazione-modello\\\\velvento_occasione_totale.csv\", row.names = FALSE)"
   ]
  }
 ],
 "metadata": {
  "kernelspec": {
   "display_name": "R",
   "language": "R",
   "name": "ir"
  },
  "language_info": {
   "codemirror_mode": "r",
   "file_extension": ".r",
   "mimetype": "text/x-r-source",
   "name": "R",
   "pygments_lexer": "r",
   "version": "3.6.3"
  }
 },
 "nbformat": 4,
 "nbformat_minor": 4
}
