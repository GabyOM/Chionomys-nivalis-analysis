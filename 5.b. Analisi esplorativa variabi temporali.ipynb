{
 "cells": [
  {
   "cell_type": "markdown",
   "metadata": {},
   "source": [
    "# Analisi Esplorativa delle variabili temporali\n",
    "\n",
    "### Claudia Gabriela Ochoa Martinez (2020)\n",
    "\n",
    "#### Effettuiamo una prima analisi esplorativa sulle variabili ambientali, che ci possono fornire informazioni sulla frequenza delle cattuare in base le variabili ambientali. \n",
    "#### "
   ]
  },
  {
   "cell_type": "code",
   "execution_count": 1,
   "metadata": {},
   "outputs": [
    {
     "name": "stderr",
     "output_type": "stream",
     "text": [
      "\n",
      "Attaching package: 'gplots'\n",
      "\n",
      "\n",
      "The following object is masked from 'package:stats':\n",
      "\n",
      "    lowess\n",
      "\n",
      "\n",
      "-- \u001b[1mAttaching packages\u001b[22m --------------------------------------- tidyverse 1.3.0 --\n",
      "\n",
      "\u001b[32mv\u001b[39m \u001b[34mggplot2\u001b[39m 3.3.2     \u001b[32mv\u001b[39m \u001b[34mpurrr  \u001b[39m 0.3.4\n",
      "\u001b[32mv\u001b[39m \u001b[34mtibble \u001b[39m 3.0.4     \u001b[32mv\u001b[39m \u001b[34mdplyr  \u001b[39m 1.0.2\n",
      "\u001b[32mv\u001b[39m \u001b[34mtidyr  \u001b[39m 1.1.2     \u001b[32mv\u001b[39m \u001b[34mstringr\u001b[39m 1.4.0\n",
      "\u001b[32mv\u001b[39m \u001b[34mreadr  \u001b[39m 1.4.0     \u001b[32mv\u001b[39m \u001b[34mforcats\u001b[39m 0.5.0\n",
      "\n",
      "-- \u001b[1mConflicts\u001b[22m ------------------------------------------ tidyverse_conflicts() --\n",
      "\u001b[31mx\u001b[39m \u001b[34mdplyr\u001b[39m::\u001b[32mfilter()\u001b[39m masks \u001b[34mstats\u001b[39m::filter()\n",
      "\u001b[31mx\u001b[39m \u001b[34mdplyr\u001b[39m::\u001b[32mlag()\u001b[39m    masks \u001b[34mstats\u001b[39m::lag()\n",
      "\n"
     ]
    }
   ],
   "source": [
    "library(gplots)\n",
    "library(lattice)\n",
    "library(tidyverse)\n"
   ]
  },
  {
   "cell_type": "code",
   "execution_count": 2,
   "metadata": {},
   "outputs": [],
   "source": [
    "#### Inserire l'anno su cui si vuole effettuare l'analisi es. ==\"2014\", \"2015\", ecc\n",
    "anno_analisi <- \"2018\"\n",
    "#sessione_analisi <- \"1\""
   ]
  },
  {
   "cell_type": "code",
   "execution_count": 3,
   "metadata": {},
   "outputs": [],
   "source": [
    "# Matrice di detection history (catture effettive) -- y\n",
    "catture_effettive <- read.csv(\"Dati-preparazione-modello\\\\catture_effettive_totale.csv\", dec=\",\", sep=\";\", header = TRUE)\n",
    "\n",
    "# Leggiamo le matrici dell'Orario (Alba Tramonto), Precipitazioni e Temperatura -- ObsCovs\n",
    "orario_occasione <- read.csv(\"Dati-preparazione-modello\\\\orario_occasione_totale.csv\", dec=\",\", sep=\";\", header = TRUE, stringsAsFactors = FALSE)\n",
    "precipitazioni_occasione <- read.csv(\"Dati-preparazione-modello\\\\precipitazioni_occasione_totale.csv\", dec=\",\", sep=\";\", header = TRUE, stringsAsFactors = FALSE)\n",
    "temperatura_occasione <- read.csv(\"Dati-preparazione-modello\\\\temperatura_occasione_totale.csv\", dec=\",\", sep=\";\", header = TRUE, stringsAsFactors = FALSE)\n",
    "velvento_occasione <- read.csv(\"Dati-preparazione-modello\\\\velvento_occasione_totale.csv\", dec=\",\", sep=\";\", header = TRUE, stringsAsFactors = FALSE)\n",
    "\n",
    "# Prendiamo Datioccas per legare l'anno alle varie osservazioni\n",
    "Datioccas <- read.csv(\"Dati-elaborati/Dati-occasioni.csv\", dec=\",\", sep=\";\", header = TRUE)\n",
    "\n",
    "#righe_oggetto_analisi <- c(1:ncol(velvento_occasione))\n",
    "righe_oggetto_analisi <- c(1:100)"
   ]
  },
  {
   "cell_type": "code",
   "execution_count": 4,
   "metadata": {},
   "outputs": [
    {
     "data": {
      "text/html": [
       "<style>\n",
       ".list-inline {list-style: none; margin:0; padding: 0}\n",
       ".list-inline>li {display: inline-block}\n",
       ".list-inline>li:not(:last-child)::after {content: \"\\00b7\"; padding: 0 .5ex}\n",
       "</style>\n",
       "<ol class=list-inline><li>114</li><li>115</li><li>116</li><li>117</li><li>118</li><li>119</li><li>120</li><li>121</li><li>122</li><li>123</li><li>124</li><li>125</li><li>126</li><li>127</li><li>128</li><li>129</li><li>130</li><li>131</li><li>132</li><li>133</li><li>134</li><li>135</li><li>136</li><li>137</li><li>138</li><li>139</li><li>140</li><li>141</li><li>142</li><li>143</li><li>144</li><li>145</li><li>146</li><li>147</li><li>148</li></ol>\n"
      ],
      "text/latex": [
       "\\begin{enumerate*}\n",
       "\\item 114\n",
       "\\item 115\n",
       "\\item 116\n",
       "\\item 117\n",
       "\\item 118\n",
       "\\item 119\n",
       "\\item 120\n",
       "\\item 121\n",
       "\\item 122\n",
       "\\item 123\n",
       "\\item 124\n",
       "\\item 125\n",
       "\\item 126\n",
       "\\item 127\n",
       "\\item 128\n",
       "\\item 129\n",
       "\\item 130\n",
       "\\item 131\n",
       "\\item 132\n",
       "\\item 133\n",
       "\\item 134\n",
       "\\item 135\n",
       "\\item 136\n",
       "\\item 137\n",
       "\\item 138\n",
       "\\item 139\n",
       "\\item 140\n",
       "\\item 141\n",
       "\\item 142\n",
       "\\item 143\n",
       "\\item 144\n",
       "\\item 145\n",
       "\\item 146\n",
       "\\item 147\n",
       "\\item 148\n",
       "\\end{enumerate*}\n"
      ],
      "text/markdown": [
       "1. 114\n",
       "2. 115\n",
       "3. 116\n",
       "4. 117\n",
       "5. 118\n",
       "6. 119\n",
       "7. 120\n",
       "8. 121\n",
       "9. 122\n",
       "10. 123\n",
       "11. 124\n",
       "12. 125\n",
       "13. 126\n",
       "14. 127\n",
       "15. 128\n",
       "16. 129\n",
       "17. 130\n",
       "18. 131\n",
       "19. 132\n",
       "20. 133\n",
       "21. 134\n",
       "22. 135\n",
       "23. 136\n",
       "24. 137\n",
       "25. 138\n",
       "26. 139\n",
       "27. 140\n",
       "28. 141\n",
       "29. 142\n",
       "30. 143\n",
       "31. 144\n",
       "32. 145\n",
       "33. 146\n",
       "34. 147\n",
       "35. 148\n",
       "\n",
       "\n"
      ],
      "text/plain": [
       " [1] 114 115 116 117 118 119 120 121 122 123 124 125 126 127 128 129 130 131 132\n",
       "[20] 133 134 135 136 137 138 139 140 141 142 143 144 145 146 147 148"
      ]
     },
     "metadata": {},
     "output_type": "display_data"
    }
   ],
   "source": [
    "# Ricaviamo le colonne oggetto di analisi\n",
    "if (exists(\"sessione_analisi\")) {\n",
    "    righe_oggetto_analisi <- rownames(subset(Datioccas,Anno == anno_analisi & sessione == sessione_analisi))\n",
    "} else {\n",
    "    righe_oggetto_analisi <- rownames(subset(Datioccas,Anno == anno_analisi))\n",
    "}\n",
    "righe_oggetto_analisi <- as.numeric(righe_oggetto_analisi)\n",
    "righe_oggetto_analisi"
   ]
  },
  {
   "cell_type": "code",
   "execution_count": 5,
   "metadata": {},
   "outputs": [
    {
     "data": {
      "text/html": [
       "<table>\n",
       "<caption>A data.frame: 6 × 9</caption>\n",
       "<thead>\n",
       "\t<tr><th></th><th scope=col>Catture.Singola.Occas</th><th scope=col>Orario</th><th scope=col>Precip</th><th scope=col>Temp</th><th scope=col>Velocita.Vento</th><th scope=col>Temp.Arrotond</th><th scope=col>Velocita.Vento.Arrot</th><th scope=col>Precip.Arrot</th><th scope=col>ID</th></tr>\n",
       "\t<tr><th></th><th scope=col>&lt;dbl&gt;</th><th scope=col>&lt;fct&gt;</th><th scope=col>&lt;dbl&gt;</th><th scope=col>&lt;dbl&gt;</th><th scope=col>&lt;dbl&gt;</th><th scope=col>&lt;dbl&gt;</th><th scope=col>&lt;dbl&gt;</th><th scope=col>&lt;dbl&gt;</th><th scope=col>&lt;int&gt;</th></tr>\n",
       "</thead>\n",
       "<tbody>\n",
       "\t<tr><th scope=row>orario.114</th><td>2</td><td>Al</td><td>0</td><td>10.1</td><td>2.7</td><td>10</td><td>3</td><td>0</td><td>1</td></tr>\n",
       "\t<tr><th scope=row>orario.115</th><td>4</td><td>Tr</td><td>0</td><td> 8.5</td><td>0.6</td><td> 8</td><td>1</td><td>0</td><td>2</td></tr>\n",
       "\t<tr><th scope=row>orario.116</th><td>1</td><td>Al</td><td>0</td><td>12.0</td><td>1.1</td><td>12</td><td>1</td><td>0</td><td>3</td></tr>\n",
       "\t<tr><th scope=row>orario.117</th><td>4</td><td>Tr</td><td>0</td><td>10.8</td><td>1.7</td><td>11</td><td>2</td><td>0</td><td>4</td></tr>\n",
       "\t<tr><th scope=row>orario.118</th><td>2</td><td>Al</td><td>0</td><td>14.9</td><td>2.3</td><td>15</td><td>2</td><td>0</td><td>5</td></tr>\n",
       "\t<tr><th scope=row>orario.119</th><td>2</td><td>Tr</td><td>0</td><td>12.7</td><td>1.6</td><td>13</td><td>2</td><td>0</td><td>6</td></tr>\n",
       "</tbody>\n",
       "</table>\n"
      ],
      "text/latex": [
       "A data.frame: 6 × 9\n",
       "\\begin{tabular}{r|lllllllll}\n",
       "  & Catture.Singola.Occas & Orario & Precip & Temp & Velocita.Vento & Temp.Arrotond & Velocita.Vento.Arrot & Precip.Arrot & ID\\\\\n",
       "  & <dbl> & <fct> & <dbl> & <dbl> & <dbl> & <dbl> & <dbl> & <dbl> & <int>\\\\\n",
       "\\hline\n",
       "\torario.114 & 2 & Al & 0 & 10.1 & 2.7 & 10 & 3 & 0 & 1\\\\\n",
       "\torario.115 & 4 & Tr & 0 &  8.5 & 0.6 &  8 & 1 & 0 & 2\\\\\n",
       "\torario.116 & 1 & Al & 0 & 12.0 & 1.1 & 12 & 1 & 0 & 3\\\\\n",
       "\torario.117 & 4 & Tr & 0 & 10.8 & 1.7 & 11 & 2 & 0 & 4\\\\\n",
       "\torario.118 & 2 & Al & 0 & 14.9 & 2.3 & 15 & 2 & 0 & 5\\\\\n",
       "\torario.119 & 2 & Tr & 0 & 12.7 & 1.6 & 13 & 2 & 0 & 6\\\\\n",
       "\\end{tabular}\n"
      ],
      "text/markdown": [
       "\n",
       "A data.frame: 6 × 9\n",
       "\n",
       "| <!--/--> | Catture.Singola.Occas &lt;dbl&gt; | Orario &lt;fct&gt; | Precip &lt;dbl&gt; | Temp &lt;dbl&gt; | Velocita.Vento &lt;dbl&gt; | Temp.Arrotond &lt;dbl&gt; | Velocita.Vento.Arrot &lt;dbl&gt; | Precip.Arrot &lt;dbl&gt; | ID &lt;int&gt; |\n",
       "|---|---|---|---|---|---|---|---|---|---|\n",
       "| orario.114 | 2 | Al | 0 | 10.1 | 2.7 | 10 | 3 | 0 | 1 |\n",
       "| orario.115 | 4 | Tr | 0 |  8.5 | 0.6 |  8 | 1 | 0 | 2 |\n",
       "| orario.116 | 1 | Al | 0 | 12.0 | 1.1 | 12 | 1 | 0 | 3 |\n",
       "| orario.117 | 4 | Tr | 0 | 10.8 | 1.7 | 11 | 2 | 0 | 4 |\n",
       "| orario.118 | 2 | Al | 0 | 14.9 | 2.3 | 15 | 2 | 0 | 5 |\n",
       "| orario.119 | 2 | Tr | 0 | 12.7 | 1.6 | 13 | 2 | 0 | 6 |\n",
       "\n"
      ],
      "text/plain": [
       "           Catture.Singola.Occas Orario Precip Temp Velocita.Vento\n",
       "orario.114 2                     Al     0      10.1 2.7           \n",
       "orario.115 4                     Tr     0       8.5 0.6           \n",
       "orario.116 1                     Al     0      12.0 1.1           \n",
       "orario.117 4                     Tr     0      10.8 1.7           \n",
       "orario.118 2                     Al     0      14.9 2.3           \n",
       "orario.119 2                     Tr     0      12.7 1.6           \n",
       "           Temp.Arrotond Velocita.Vento.Arrot Precip.Arrot ID\n",
       "orario.114 10            3                    0            1 \n",
       "orario.115  8            1                    0            2 \n",
       "orario.116 12            1                    0            3 \n",
       "orario.117 11            2                    0            4 \n",
       "orario.118 15            2                    0            5 \n",
       "orario.119 13            2                    0            6 "
      ]
     },
     "metadata": {},
     "output_type": "display_data"
    }
   ],
   "source": [
    "catture_effettive_ <- data.frame(colSums(catture_effettive))[righe_oggetto_analisi,]\n",
    "\n",
    "orario_occasione_ <- data.frame(t(orario_occasione[1,righe_oggetto_analisi]))\n",
    "precipitazioni_occasione_ <- data.frame(t(precipitazioni_occasione[1,righe_oggetto_analisi]))\n",
    "temperatura_occasione_ <- data.frame(t(temperatura_occasione[1,righe_oggetto_analisi]))\n",
    "velvento_occasione_ <- data.frame(t(velvento_occasione[1,righe_oggetto_analisi]))\n",
    "velvento_occasione_round <- round( data.frame(t(velvento_occasione[1,righe_oggetto_analisi])))\n",
    "temperatura_occasione_round <-round( data.frame(t(temperatura_occasione[1,righe_oggetto_analisi])))\n",
    "precipitazioni_occasione_round <- ceiling(data.frame(t(precipitazioni_occasione[1,righe_oggetto_analisi])))\n",
    "\n",
    "df <- cbind(catture_effettive_, orario_occasione_, precipitazioni_occasione_, temperatura_occasione_, velvento_occasione_,temperatura_occasione_round,velvento_occasione_round, precipitazioni_occasione_round)\n",
    "colnames(df) <- c(\"Catture.Singola.Occas\",\"Orario\",\"Precip\",\"Temp\",\"Velocita.Vento\",\"Temp.Arrotond\",\"Velocita.Vento.Arrot\",\"Precip.Arrot\")\n",
    "df$ID <- seq.int(nrow(df))\n",
    "head(df)"
   ]
  },
  {
   "cell_type": "markdown",
   "metadata": {},
   "source": [
    "### Scatterplot matrix ottimo modo per stabilire se visivamente se c'è una correlazione lineare tra le variabili"
   ]
  },
  {
   "cell_type": "code",
   "execution_count": 6,
   "metadata": {},
   "outputs": [
    {
     "data": {
      "image/png": "[encoded data removed]",
      "text/plain": [
       "plot without title"
      ]
     },
     "metadata": {
      "image/png": {
       "height": 420,
       "width": 420
      }
     },
     "output_type": "display_data"
    }
   ],
   "source": [
    "plot(df[,c(\"Catture.Singola.Occas\",\"Orario\",\"Precip\",\"Temp\",\"Velocita.Vento\")])"
   ]
  },
  {
   "cell_type": "markdown",
   "metadata": {},
   "source": [
    "#### boxplot per Alba e Tramonto, si può notare che vi sono più catture al tramonto"
   ]
  },
  {
   "cell_type": "code",
   "execution_count": 7,
   "metadata": {},
   "outputs": [
    {
     "data": {
      "image/png": "[encoded data removed]",
      "text/plain": [
       "plot without title"
      ]
     },
     "metadata": {
      "image/png": {
       "height": 420,
       "width": 420
      }
     },
     "output_type": "display_data"
    }
   ],
   "source": [
    "plot(df$Orario,df$Catture.Singola.Occas)"
   ]
  },
  {
   "cell_type": "markdown",
   "metadata": {},
   "source": [
    "#### Abbiamo voluto verificare la frequenza di cattura in base le temperature lungo negli anni. Infatti possiamo notare che si verificano più catture quando la temperatura aumenta fino ai 15°."
   ]
  },
  {
   "cell_type": "code",
   "execution_count": 8,
   "metadata": {},
   "outputs": [
    {
     "name": "stderr",
     "output_type": "stream",
     "text": [
      "`summarise()` ungrouping output (override with `.groups` argument)\n",
      "\n"
     ]
    },
    {
     "data": {
      "image/png": "[encoded data removed]",
      "text/plain": [
       "plot without title"
      ]
     },
     "metadata": {
      "image/png": {
       "height": 420,
       "width": 420
      }
     },
     "output_type": "display_data"
    }
   ],
   "source": [
    "df %>%\n",
    "select(Temp.Arrotond,Catture.Singola.Occas) %>%\n",
    "group_by(Temp.Arrotond) %>%\n",
    "summarise(TotCatture = sum(Catture.Singola.Occas)) %>%\n",
    "ggplot(aes(Temp.Arrotond,TotCatture) )+ geom_point(aes(colour = Temp.Arrotond), size=3)"
   ]
  },
  {
   "cell_type": "markdown",
   "metadata": {},
   "source": [
    "#### Si sono anche verificate più catture quando la velocità del vento è minore"
   ]
  },
  {
   "cell_type": "code",
   "execution_count": 9,
   "metadata": {},
   "outputs": [
    {
     "name": "stderr",
     "output_type": "stream",
     "text": [
      "`summarise()` ungrouping output (override with `.groups` argument)\n",
      "\n"
     ]
    },
    {
     "data": {
      "image/png": "[encoded data removed]",
      "text/plain": [
       "plot without title"
      ]
     },
     "metadata": {
      "image/png": {
       "height": 420,
       "width": 420
      }
     },
     "output_type": "display_data"
    }
   ],
   "source": [
    "df %>%\n",
    "select(Velocita.Vento.Arrot,Catture.Singola.Occas) %>%\n",
    "group_by(Velocita.Vento.Arrot) %>%\n",
    "summarise(TotCatture = sum(Catture.Singola.Occas)) %>%\n",
    "ggplot(aes(Velocita.Vento.Arrot,TotCatture) )+ geom_point(aes(colour = Velocita.Vento.Arrot), size=3)"
   ]
  },
  {
   "cell_type": "markdown",
   "metadata": {},
   "source": [
    "#### Si verificano anche più catture quando non ci sono precipitazioni"
   ]
  },
  {
   "cell_type": "code",
   "execution_count": 10,
   "metadata": {},
   "outputs": [
    {
     "name": "stderr",
     "output_type": "stream",
     "text": [
      "`summarise()` ungrouping output (override with `.groups` argument)\n",
      "\n"
     ]
    },
    {
     "data": {
      "image/png": "[encoded data removed]",
      "text/plain": [
       "plot without title"
      ]
     },
     "metadata": {
      "image/png": {
       "height": 420,
       "width": 420
      }
     },
     "output_type": "display_data"
    }
   ],
   "source": [
    "df %>%\n",
    "select(Precip.Arrot,Catture.Singola.Occas) %>%\n",
    "group_by(Precip.Arrot) %>%\n",
    "summarise(TotCatture = sum(Catture.Singola.Occas)) %>%\n",
    "ggplot(aes(Precip.Arrot,TotCatture) )+ geom_point(aes(colour = Precip.Arrot), size=3)"
   ]
  }
 ],
 "metadata": {
  "kernelspec": {
   "display_name": "R",
   "language": "R",
   "name": "ir"
  },
  "language_info": {
   "codemirror_mode": "r",
   "file_extension": ".r",
   "mimetype": "text/x-r-source",
   "name": "R",
   "pygments_lexer": "r",
   "version": "3.6.3"
  }
 },
 "nbformat": 4,
 "nbformat_minor": 4
}
