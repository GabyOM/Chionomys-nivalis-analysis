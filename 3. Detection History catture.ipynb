{
 "cells": [
  {
   "cell_type": "markdown",
   "metadata": {},
   "source": [
    "# Creazione matrici Detection Histories delle catture per anno"
   ]
  },
  {
   "cell_type": "markdown",
   "metadata": {},
   "source": [
    "### Per creare le matrici di Detection histories usiamo il seguente codice, caricando il file excel originale con le informazioni delle nuove catture effettuate. (Se sito e posizionamento trappole rimane invariato)"
   ]
  },
  {
   "cell_type": "code",
   "execution_count": 1,
   "metadata": {},
   "outputs": [],
   "source": [
    "Daticatt <- read.csv(\"Dati-elaborati\\\\Dati-catture.csv\", dec=\",\", sep=\";\", header = TRUE)\n",
    "Datioccas <- read.csv(\"Dati-elaborati\\\\Dati-occasioni.csv\", dec=\",\", sep=\";\", header = TRUE)"
   ]
  },
  {
   "cell_type": "code",
   "execution_count": 2,
   "metadata": {},
   "outputs": [],
   "source": [
    "create_detection_matrix <- function(anno, sessione) {\n",
    "    # Seleziona l'anno e la sessione dai file di occasioni e catture\n",
    "    print(paste0(anno, \" - \",sessione))\n",
    "    Datioccas_ <- Datioccas[Datioccas$Anno == anno & Datioccas$sessione == sessione ,]\n",
    "    Daticatt_ <- Daticatt[Daticatt$Anno == anno & Daticatt$sessione == sessione ,]\n",
    "    if (nrow(Datioccas_) == 0 | nrow(Daticatt_) == 0) {\n",
    "        print(\"Dati non disponibili.\")\n",
    "        return(NULL)\n",
    "    }\n",
    "    \n",
    "    # Crea un dataframe vuoto in cui inserire la relazione tra occasioni e trappole\n",
    "    print(max(Datioccas_$occasione))\n",
    "    occupancy_ncols <- max(Datioccas_$occasione) + 1\n",
    "    occupancy_nrows <- max(Datioccas_$trappole.posizionate)\n",
    "    #occupancy_nrows <- 75\n",
    "    m <- matrix(0, ncol = occupancy_ncols, nrow = occupancy_nrows)\n",
    "    occupancy_occasioni <- data.frame(m)\n",
    "    \n",
    "    # Da un nome ad ogni variabile occasione ed aggiunge la variabile ID_TRAP\n",
    "    colnames(occupancy_occasioni) <- c(\"ID_TRAP\",paste0(\"occ \", 1:max(Datioccas_$occasione)))\n",
    "    occupancy_occasioni$ID_TRAP <- seq.int(nrow(occupancy_occasioni))\n",
    "    \n",
    "    # Riempi la matrice con i valori dicotomici (1 indica almeno una cattura, 0 indica l'assenza di catture)\n",
    "    for (cattura in c(1:nrow(Daticatt_))) {\n",
    "        trappola <- as.numeric(as.character(Daticatt_[cattura,]$ID_TRAPPOLA))\n",
    "        occasione <- Daticatt_[cattura,]$occasione\n",
    "        \n",
    "        occupancy_occasioni[trappola, paste0(\"occ \", occasione)] <- 1\n",
    "    }\n",
    "    result <- occupancy_occasioni\n",
    "}"
   ]
  },
  {
   "cell_type": "code",
   "execution_count": 3,
   "metadata": {},
   "outputs": [
    {
     "name": "stdout",
     "output_type": "stream",
     "text": [
      "[1] \"2014 - 1\"\n",
      "[1] \"Dati non disponibili.\"\n",
      "[1] \"2015 - 1\"\n",
      "[1] 22\n",
      "[1] \"2015 - 2\"\n",
      "[1] 23\n",
      "[1] \"2016 - 1\"\n",
      "[1] 18\n",
      "[1] \"2016 - 2\"\n",
      "[1] 18\n",
      "[1] \"2017 - 1\"\n",
      "[1] 19\n",
      "[1] \"2018 - 1\"\n",
      "[1] 19\n",
      "[1] \"2018 - 2\"\n",
      "[1] 35\n",
      "[1] \"2019 - 1\"\n",
      "[1] \"Dati non disponibili.\"\n",
      "[1] \"2019 - 2\"\n",
      "[1] \"Dati non disponibili.\"\n"
     ]
    }
   ],
   "source": [
    "for (anno in unique(Daticatt$Anno)) {\n",
    "    dati_anno <- Daticatt[Daticatt$Anno == anno,]\n",
    "    for (sessione in unique(dati_anno$sessione)) {\n",
    "        matrice_detection <- NULL\n",
    "        matrice_detection <- create_detection_matrix(anno, sessione)\n",
    "        if (!is.null(matrice_detection)) {\n",
    "            write.csv2(matrice_detection, paste0(\"Dati-detection-history\\\\Detection-Anno_\",anno,\"_Sessione_\",sessione,\".csv\"), row.names = FALSE)\n",
    "        }\n",
    "    }\n",
    "}\n"
   ]
  }
 ],
 "metadata": {
  "kernelspec": {
   "display_name": "R",
   "language": "R",
   "name": "ir"
  },
  "language_info": {
   "codemirror_mode": "r",
   "file_extension": ".r",
   "mimetype": "text/x-r-source",
   "name": "R",
   "pygments_lexer": "r",
   "version": "3.6.1"
  }
 },
 "nbformat": 4,
 "nbformat_minor": 4
}
