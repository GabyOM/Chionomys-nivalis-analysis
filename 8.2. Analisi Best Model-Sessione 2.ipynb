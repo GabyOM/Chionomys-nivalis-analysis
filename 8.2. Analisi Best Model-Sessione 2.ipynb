{
 "cells": [
  {
   "cell_type": "markdown",
   "metadata": {},
   "source": [
    "# Analisi Best Model Anno 2018 Sessione 2\n",
    "### Claudia Gabriela Ochoa Martinez (2020)\n",
    "\n",
    "#### Analizzando il best model fornito dalla funzione pdredge possiamo allora applicare la funzione predict (pacchetto unmarked) per effettuare ulteriori valutazione sulla bontà del modello."
   ]
  },
  {
   "cell_type": "code",
   "execution_count": 1,
   "metadata": {},
   "outputs": [
    {
     "name": "stderr",
     "output_type": "stream",
     "text": [
      "Loading required package: lattice\n",
      "\n"
     ]
    }
   ],
   "source": [
    "library(unmarked)"
   ]
  },
  {
   "cell_type": "code",
   "execution_count": 2,
   "metadata": {},
   "outputs": [],
   "source": [
    "myunscale <- function (vals, norm.data, col.ids)  {\n",
    "    cols <- if (missing(col.ids)) 1:NCOL(vals) else col.ids\n",
    "    #if (length(cols) > NCOL(vals)) \n",
    "    #    stop(\"Incorrect dimension of data to unscale.\")\n",
    "    centers <- attr(norm.data, \"scaled:center\")[cols]\n",
    "    scales <- attr(norm.data, \"scaled:scale\")[cols]\n",
    "    unvals <- scale(vals[,cols], center = (-centers/scales), scale = 1/scales)\n",
    "    unvals <- cbind(unvals,vals[,-which(names(vals) %in% cols)])\n",
    "    attr(unvals, \"scaled:center\") <- attr(unvals, \"scaled:scale\") <- NULL\n",
    "    unvals\n",
    "}"
   ]
  },
  {
   "cell_type": "code",
   "execution_count": 3,
   "metadata": {},
   "outputs": [],
   "source": [
    "load('Dati-modelli\\\\multimodel_2018_sessione_2_YPHO.RData')"
   ]
  },
  {
   "cell_type": "code",
   "execution_count": 4,
   "metadata": {},
   "outputs": [
    {
     "name": "stdout",
     "output_type": "stream",
     "text": [
      "\n",
      "Call:\n",
      "occu(formula = ~MDR + orario + precip + temper + vento + 1 ~ \n",
      "    alt_m + dominant + MDR + I(MDR^2) + 1, data = arvicole)\n",
      "\n",
      "Occupancy (logit-scale):\n",
      "                 Estimate    SE       z P(>|z|)\n",
      "(Intercept)       -1.1612 0.682 -1.7035  0.0885\n",
      "alt_m             -1.1865 0.628 -1.8907  0.0587\n",
      "dominantMuschio   -0.1299 1.210 -0.1073  0.9145\n",
      "dominantOther_Sp   2.8398 1.797  1.5805  0.1140\n",
      "MDR                0.7467 0.696  1.0736  0.2830\n",
      "I(MDR^2)           0.0243 0.325  0.0746  0.9405\n",
      "\n",
      "Detection (logit-scale):\n",
      "            Estimate     SE      z  P(>|z|)\n",
      "(Intercept)  -6.1451 1.0982 -5.596 2.20e-08\n",
      "MDR           0.0238 0.1761  0.135 8.92e-01\n",
      "orarioTr      0.9752 0.5506  1.771 7.65e-02\n",
      "precip        0.4022 0.8097  0.497 6.19e-01\n",
      "temper        0.2242 0.0815  2.752 5.92e-03\n",
      "vento         0.3545 0.2803  1.265 2.06e-01\n",
      "\n",
      "AIC: 261.1132 \n",
      "Number of sites: 70\n",
      "optim convergence code: 0\n",
      "optim iterations: 55 \n",
      "Bootstrap iterations: 0 \n",
      "\n"
     ]
    }
   ],
   "source": [
    "best_mod <- occu(formula = ~MDR + orario + precip + temper + vento + 1 ~ \n",
    "    alt_m + dominant + MDR + I(MDR^2) + 1, data = arvicole)\n",
    "\n",
    "summary(best_mod)\n"
   ]
  },
  {
   "cell_type": "code",
   "execution_count": 5,
   "metadata": {},
   "outputs": [
    {
     "data": {
      "text/html": [
       "<style>\n",
       ".list-inline {list-style: none; margin:0; padding: 0}\n",
       ".list-inline>li {display: inline-block}\n",
       ".list-inline>li:not(:last-child)::after {content: \"\\00b7\"; padding: 0 .5ex}\n",
       "</style>\n",
       "<ol class=list-inline><li>'Graminacee'</li><li>'Graminacee'</li><li>'Graminacee'</li><li>'Graminacee'</li><li>'Graminacee'</li><li>'Graminacee'</li></ol>\n"
      ],
      "text/latex": [
       "\\begin{enumerate*}\n",
       "\\item 'Graminacee'\n",
       "\\item 'Graminacee'\n",
       "\\item 'Graminacee'\n",
       "\\item 'Graminacee'\n",
       "\\item 'Graminacee'\n",
       "\\item 'Graminacee'\n",
       "\\end{enumerate*}\n"
      ],
      "text/markdown": [
       "1. 'Graminacee'\n",
       "2. 'Graminacee'\n",
       "3. 'Graminacee'\n",
       "4. 'Graminacee'\n",
       "5. 'Graminacee'\n",
       "6. 'Graminacee'\n",
       "\n",
       "\n"
      ],
      "text/plain": [
       "[1] \"Graminacee\" \"Graminacee\" \"Graminacee\" \"Graminacee\" \"Graminacee\"\n",
       "[6] \"Graminacee\""
      ]
     },
     "metadata": {},
     "output_type": "display_data"
    },
    {
     "data": {
      "text/html": [
       "<table>\n",
       "<caption>A data.frame: 6 × 12</caption>\n",
       "<thead>\n",
       "\t<tr><th></th><th scope=col>Diametro.roccia.1..cm.</th><th scope=col>Diametro.roccia.2..cm.</th><th scope=col>Diametro.roccia.3..cm.</th><th scope=col>alt_m</th><th scope=col>aspect_deg</th><th scope=col>slope_degr</th><th scope=col>n_species</th><th scope=col>MDR</th><th scope=col>IQR</th><th scope=col>Esp.tr</th><th scope=col>cop_veg_ottavi</th><th scope=col>dominant</th></tr>\n",
       "\t<tr><th></th><th scope=col>&lt;dbl&gt;</th><th scope=col>&lt;dbl&gt;</th><th scope=col>&lt;dbl&gt;</th><th scope=col>&lt;dbl&gt;</th><th scope=col>&lt;dbl&gt;</th><th scope=col>&lt;dbl&gt;</th><th scope=col>&lt;dbl&gt;</th><th scope=col>&lt;dbl&gt;</th><th scope=col>&lt;dbl&gt;</th><th scope=col>&lt;dbl&gt;</th><th scope=col>&lt;dbl&gt;</th><th scope=col>&lt;fct&gt;</th></tr>\n",
       "</thead>\n",
       "<tbody>\n",
       "\t<tr><th scope=row>1</th><td>-0.7999612</td><td> 0.4449731</td><td> 0.6121266</td><td>-0.9638930</td><td>-0.03990354</td><td>-0.004945912</td><td> 0.97220994</td><td> 0.65969346</td><td>-0.7248291</td><td>-2.7977585</td><td> 1.3660940</td><td>Graminacee</td></tr>\n",
       "\t<tr><th scope=row>2</th><td> 0.7678020</td><td>-0.7023655</td><td> 0.1200460</td><td>-1.1064717</td><td> 0.39997796</td><td> 0.341267903</td><td> 0.05432387</td><td> 0.05605239</td><td> 0.4943843</td><td>-1.1704790</td><td>-0.3135298</td><td>Graminacee</td></tr>\n",
       "\t<tr><th scope=row>3</th><td>-0.9071587</td><td> 0.2749970</td><td>-0.1449204</td><td>-1.1156660</td><td> 0.51727969</td><td>-1.505205774</td><td>-0.33905587</td><td>-0.36649637</td><td>-0.8052168</td><td>-0.7365377</td><td>-0.3135298</td><td>Graminacee</td></tr>\n",
       "\t<tr><th scope=row>4</th><td>-0.2639738</td><td>-0.9573296</td><td>-0.6370010</td><td>-1.1130010</td><td> 0.39264660</td><td>-0.581968936</td><td> 0.97220994</td><td>-1.15122977</td><td>-0.3764824</td><td>-1.1976003</td><td> 1.3660940</td><td>Graminacee</td></tr>\n",
       "\t<tr><th scope=row>5</th><td> 0.6070058</td><td>-0.7236125</td><td>-0.4288130</td><td>-1.0064001</td><td> 0.39997796</td><td>-0.235755121</td><td> 0.70995678</td><td>-0.81922717</td><td> 0.3470069</td><td>-1.1704790</td><td>-0.3135298</td><td>Graminacee</td></tr>\n",
       "\t<tr><th scope=row>6</th><td> 0.1514164</td><td>-0.9360826</td><td>-0.6370010</td><td>-0.9597622</td><td> 0.51727969</td><td>-0.697373540</td><td> 0.57883019</td><td>-1.15122977</td><td> 0.0254561</td><td>-0.7365377</td><td> 0.8062194</td><td>Graminacee</td></tr>\n",
       "</tbody>\n",
       "</table>\n"
      ],
      "text/latex": [
       "A data.frame: 6 × 12\n",
       "\\begin{tabular}{r|llllllllllll}\n",
       "  & Diametro.roccia.1..cm. & Diametro.roccia.2..cm. & Diametro.roccia.3..cm. & alt\\_m & aspect\\_deg & slope\\_degr & n\\_species & MDR & IQR & Esp.tr & cop\\_veg\\_ottavi & dominant\\\\\n",
       "  & <dbl> & <dbl> & <dbl> & <dbl> & <dbl> & <dbl> & <dbl> & <dbl> & <dbl> & <dbl> & <dbl> & <fct>\\\\\n",
       "\\hline\n",
       "\t1 & -0.7999612 &  0.4449731 &  0.6121266 & -0.9638930 & -0.03990354 & -0.004945912 &  0.97220994 &  0.65969346 & -0.7248291 & -2.7977585 &  1.3660940 & Graminacee\\\\\n",
       "\t2 &  0.7678020 & -0.7023655 &  0.1200460 & -1.1064717 &  0.39997796 &  0.341267903 &  0.05432387 &  0.05605239 &  0.4943843 & -1.1704790 & -0.3135298 & Graminacee\\\\\n",
       "\t3 & -0.9071587 &  0.2749970 & -0.1449204 & -1.1156660 &  0.51727969 & -1.505205774 & -0.33905587 & -0.36649637 & -0.8052168 & -0.7365377 & -0.3135298 & Graminacee\\\\\n",
       "\t4 & -0.2639738 & -0.9573296 & -0.6370010 & -1.1130010 &  0.39264660 & -0.581968936 &  0.97220994 & -1.15122977 & -0.3764824 & -1.1976003 &  1.3660940 & Graminacee\\\\\n",
       "\t5 &  0.6070058 & -0.7236125 & -0.4288130 & -1.0064001 &  0.39997796 & -0.235755121 &  0.70995678 & -0.81922717 &  0.3470069 & -1.1704790 & -0.3135298 & Graminacee\\\\\n",
       "\t6 &  0.1514164 & -0.9360826 & -0.6370010 & -0.9597622 &  0.51727969 & -0.697373540 &  0.57883019 & -1.15122977 &  0.0254561 & -0.7365377 &  0.8062194 & Graminacee\\\\\n",
       "\\end{tabular}\n"
      ],
      "text/markdown": [
       "\n",
       "A data.frame: 6 × 12\n",
       "\n",
       "| <!--/--> | Diametro.roccia.1..cm. &lt;dbl&gt; | Diametro.roccia.2..cm. &lt;dbl&gt; | Diametro.roccia.3..cm. &lt;dbl&gt; | alt_m &lt;dbl&gt; | aspect_deg &lt;dbl&gt; | slope_degr &lt;dbl&gt; | n_species &lt;dbl&gt; | MDR &lt;dbl&gt; | IQR &lt;dbl&gt; | Esp.tr &lt;dbl&gt; | cop_veg_ottavi &lt;dbl&gt; | dominant &lt;fct&gt; |\n",
       "|---|---|---|---|---|---|---|---|---|---|---|---|---|\n",
       "| 1 | -0.7999612 |  0.4449731 |  0.6121266 | -0.9638930 | -0.03990354 | -0.004945912 |  0.97220994 |  0.65969346 | -0.7248291 | -2.7977585 |  1.3660940 | Graminacee |\n",
       "| 2 |  0.7678020 | -0.7023655 |  0.1200460 | -1.1064717 |  0.39997796 |  0.341267903 |  0.05432387 |  0.05605239 |  0.4943843 | -1.1704790 | -0.3135298 | Graminacee |\n",
       "| 3 | -0.9071587 |  0.2749970 | -0.1449204 | -1.1156660 |  0.51727969 | -1.505205774 | -0.33905587 | -0.36649637 | -0.8052168 | -0.7365377 | -0.3135298 | Graminacee |\n",
       "| 4 | -0.2639738 | -0.9573296 | -0.6370010 | -1.1130010 |  0.39264660 | -0.581968936 |  0.97220994 | -1.15122977 | -0.3764824 | -1.1976003 |  1.3660940 | Graminacee |\n",
       "| 5 |  0.6070058 | -0.7236125 | -0.4288130 | -1.0064001 |  0.39997796 | -0.235755121 |  0.70995678 | -0.81922717 |  0.3470069 | -1.1704790 | -0.3135298 | Graminacee |\n",
       "| 6 |  0.1514164 | -0.9360826 | -0.6370010 | -0.9597622 |  0.51727969 | -0.697373540 |  0.57883019 | -1.15122977 |  0.0254561 | -0.7365377 |  0.8062194 | Graminacee |\n",
       "\n"
      ],
      "text/plain": [
       "  Diametro.roccia.1..cm. Diametro.roccia.2..cm. Diametro.roccia.3..cm.\n",
       "1 -0.7999612              0.4449731              0.6121266            \n",
       "2  0.7678020             -0.7023655              0.1200460            \n",
       "3 -0.9071587              0.2749970             -0.1449204            \n",
       "4 -0.2639738             -0.9573296             -0.6370010            \n",
       "5  0.6070058             -0.7236125             -0.4288130            \n",
       "6  0.1514164             -0.9360826             -0.6370010            \n",
       "  alt_m      aspect_deg  slope_degr   n_species   MDR         IQR       \n",
       "1 -0.9638930 -0.03990354 -0.004945912  0.97220994  0.65969346 -0.7248291\n",
       "2 -1.1064717  0.39997796  0.341267903  0.05432387  0.05605239  0.4943843\n",
       "3 -1.1156660  0.51727969 -1.505205774 -0.33905587 -0.36649637 -0.8052168\n",
       "4 -1.1130010  0.39264660 -0.581968936  0.97220994 -1.15122977 -0.3764824\n",
       "5 -1.0064001  0.39997796 -0.235755121  0.70995678 -0.81922717  0.3470069\n",
       "6 -0.9597622  0.51727969 -0.697373540  0.57883019 -1.15122977  0.0254561\n",
       "  Esp.tr     cop_veg_ottavi dominant  \n",
       "1 -2.7977585  1.3660940     Graminacee\n",
       "2 -1.1704790 -0.3135298     Graminacee\n",
       "3 -0.7365377 -0.3135298     Graminacee\n",
       "4 -1.1976003  1.3660940     Graminacee\n",
       "5 -1.1704790 -0.3135298     Graminacee\n",
       "6 -0.7365377  0.8062194     Graminacee"
      ]
     },
     "metadata": {},
     "output_type": "display_data"
    }
   ],
   "source": [
    "head(siteCovs_orig$dominant)\n",
    "head(siteCovs(arvicole))"
   ]
  },
  {
   "cell_type": "markdown",
   "metadata": {},
   "source": [
    "# Predict abundance at specified covariate values."
   ]
  },
  {
   "cell_type": "code",
   "execution_count": 10,
   "metadata": {},
   "outputs": [
    {
     "data": {
      "text/html": [
       "<table>\n",
       "<caption>A data.frame: 6 × 3</caption>\n",
       "<thead>\n",
       "\t<tr><th></th><th scope=col>alt_m</th><th scope=col>MDR</th><th scope=col>dominant</th></tr>\n",
       "\t<tr><th></th><th scope=col>&lt;dbl&gt;</th><th scope=col>&lt;dbl&gt;</th><th scope=col>&lt;fct&gt;</th></tr>\n",
       "</thead>\n",
       "<tbody>\n",
       "\t<tr><th scope=row>1</th><td>2.510224e-14</td><td>-1.392686</td><td>Graminacee</td></tr>\n",
       "\t<tr><th scope=row>2</th><td>2.510224e-14</td><td>-1.336590</td><td>Graminacee</td></tr>\n",
       "\t<tr><th scope=row>3</th><td>2.510224e-14</td><td>-1.280494</td><td>Graminacee</td></tr>\n",
       "\t<tr><th scope=row>4</th><td>2.510224e-14</td><td>-1.224398</td><td>Graminacee</td></tr>\n",
       "\t<tr><th scope=row>5</th><td>2.510224e-14</td><td>-1.168302</td><td>Graminacee</td></tr>\n",
       "\t<tr><th scope=row>6</th><td>2.510224e-14</td><td>-1.112207</td><td>Graminacee</td></tr>\n",
       "</tbody>\n",
       "</table>\n"
      ],
      "text/latex": [
       "A data.frame: 6 × 3\n",
       "\\begin{tabular}{r|lll}\n",
       "  & alt\\_m & MDR & dominant\\\\\n",
       "  & <dbl> & <dbl> & <fct>\\\\\n",
       "\\hline\n",
       "\t1 & 2.510224e-14 & -1.392686 & Graminacee\\\\\n",
       "\t2 & 2.510224e-14 & -1.336590 & Graminacee\\\\\n",
       "\t3 & 2.510224e-14 & -1.280494 & Graminacee\\\\\n",
       "\t4 & 2.510224e-14 & -1.224398 & Graminacee\\\\\n",
       "\t5 & 2.510224e-14 & -1.168302 & Graminacee\\\\\n",
       "\t6 & 2.510224e-14 & -1.112207 & Graminacee\\\\\n",
       "\\end{tabular}\n"
      ],
      "text/markdown": [
       "\n",
       "A data.frame: 6 × 3\n",
       "\n",
       "| <!--/--> | alt_m &lt;dbl&gt; | MDR &lt;dbl&gt; | dominant &lt;fct&gt; |\n",
       "|---|---|---|---|\n",
       "| 1 | 2.510224e-14 | -1.392686 | Graminacee |\n",
       "| 2 | 2.510224e-14 | -1.336590 | Graminacee |\n",
       "| 3 | 2.510224e-14 | -1.280494 | Graminacee |\n",
       "| 4 | 2.510224e-14 | -1.224398 | Graminacee |\n",
       "| 5 | 2.510224e-14 | -1.168302 | Graminacee |\n",
       "| 6 | 2.510224e-14 | -1.112207 | Graminacee |\n",
       "\n"
      ],
      "text/plain": [
       "  alt_m        MDR       dominant  \n",
       "1 2.510224e-14 -1.392686 Graminacee\n",
       "2 2.510224e-14 -1.336590 Graminacee\n",
       "3 2.510224e-14 -1.280494 Graminacee\n",
       "4 2.510224e-14 -1.224398 Graminacee\n",
       "5 2.510224e-14 -1.168302 Graminacee\n",
       "6 2.510224e-14 -1.112207 Graminacee"
      ]
     },
     "metadata": {},
     "output_type": "display_data"
    }
   ],
   "source": [
    "# Predict abundance at specified covariate values.\n",
    "df_indicato <- siteCovs(arvicole)\n",
    "alt_m.seq <- seq(min(df_indicato$alt_m), max(df_indicato$alt_m), length=100)\n",
    "cop_veg_ottavi.seq <- seq(min(df_indicato$cop_veg_ottavi, na.rm=TRUE), max(df_indicato$cop_veg_ottavi, na.rm=TRUE), length=100)\n",
    "Esp.tr.seq <- seq(min(df_indicato$Esp.tr), max(df_indicato$Esp.tr), length=100)\n",
    "MDR.seq <- seq(min(df_indicato$MDR), max(df_indicato$MDR), length=100)\n",
    "\n",
    "\n",
    "newdat_graminacee <- data.frame(\n",
    "    alt_m = mean(df_indicato$alt_m),\n",
    "    MDR = MDR.seq,\n",
    "    dominant = \"Graminacee\"\n",
    ")   \n",
    "newdat_muschio <- data.frame(\n",
    "    alt_m = mean(df_indicato$alt_m),\n",
    "    MDR = MDR.seq,\n",
    "    dominant = \"Muschio\"\n",
    ")\n",
    "newdat_other <- data.frame(\n",
    "    alt_m = mean(df_indicato$alt_m),\n",
    "    MDR = MDR.seq,\n",
    "    dominant = \"Other_Sp\"\n",
    ")\n",
    "newdata <- rbind(newdat_graminacee,newdat_muschio,newdat_other)\n",
    "head(newdata)"
   ]
  },
  {
   "cell_type": "code",
   "execution_count": 11,
   "metadata": {},
   "outputs": [
    {
     "data": {
      "text/html": [
       "<table>\n",
       "<caption>A matrix: 1 × 3 of type dbl</caption>\n",
       "<thead>\n",
       "\t<tr><th></th><th scope=col>Estimate</th><th scope=col>5%</th><th scope=col>95%</th></tr>\n",
       "</thead>\n",
       "<tbody>\n",
       "\t<tr><th scope=row>PAO</th><td>0.405034</td><td>0.2857143</td><td>0.7857143</td></tr>\n",
       "</tbody>\n",
       "</table>\n"
      ],
      "text/latex": [
       "A matrix: 1 × 3 of type dbl\n",
       "\\begin{tabular}{r|lll}\n",
       "  & Estimate & 5\\% & 95\\%\\\\\n",
       "\\hline\n",
       "\tPAO & 0.405034 & 0.2857143 & 0.7857143\\\\\n",
       "\\end{tabular}\n"
      ],
      "text/markdown": [
       "\n",
       "A matrix: 1 × 3 of type dbl\n",
       "\n",
       "| <!--/--> | Estimate | 5% | 95% |\n",
       "|---|---|---|---|\n",
       "| PAO | 0.405034 | 0.2857143 | 0.7857143 |\n",
       "\n"
      ],
      "text/plain": [
       "    Estimate 5%        95%      \n",
       "PAO 0.405034 0.2857143 0.7857143"
      ]
     },
     "metadata": {},
     "output_type": "display_data"
    }
   ],
   "source": [
    "siti_considerati <- 70-length(best_mod@sitesRemoved) # In totale, al massimo nelle analisi consideriamo 70 siti, alcuni anni meno\n",
    "re <- ranef(best_mod)\n",
    "EBUP <- bup(re, stat=\"mean\")\n",
    "CI <- confint(re, level=0.90)\n",
    "rbind(PAO = c(Estimate = sum(EBUP), colSums(CI))/siti_considerati)"
   ]
  },
  {
   "cell_type": "code",
   "execution_count": 12,
   "metadata": {},
   "outputs": [
    {
     "data": {
      "text/html": [
       "<table>\n",
       "<caption>A data.frame: 6 × 7</caption>\n",
       "<thead>\n",
       "\t<tr><th></th><th scope=col>alt_m</th><th scope=col>MDR</th><th scope=col>Predicted</th><th scope=col>SE</th><th scope=col>lower</th><th scope=col>upper</th><th scope=col>dominant</th></tr>\n",
       "\t<tr><th></th><th scope=col>&lt;dbl&gt;</th><th scope=col>&lt;dbl&gt;</th><th scope=col>&lt;dbl&gt;</th><th scope=col>&lt;dbl&gt;</th><th scope=col>&lt;dbl&gt;</th><th scope=col>&lt;dbl&gt;</th><th scope=col>&lt;fct&gt;</th></tr>\n",
       "</thead>\n",
       "<tbody>\n",
       "\t<tr><th scope=row>295</th><td>2789.44</td><td>202.7071</td><td>0.9929067</td><td>0.03143171</td><td>0.021762700</td><td>0.9999989</td><td>Other_Sp</td></tr>\n",
       "\t<tr><th scope=row>296</th><td>2789.44</td><td>204.5657</td><td>0.9932673</td><td>0.03058748</td><td>0.018511810</td><td>0.9999991</td><td>Other_Sp</td></tr>\n",
       "\t<tr><th scope=row>297</th><td>2789.44</td><td>206.4242</td><td>0.9936106</td><td>0.02975841</td><td>0.015666633</td><td>0.9999993</td><td>Other_Sp</td></tr>\n",
       "\t<tr><th scope=row>298</th><td>2789.44</td><td>208.2828</td><td>0.9939374</td><td>0.02894419</td><td>0.013192295</td><td>0.9999995</td><td>Other_Sp</td></tr>\n",
       "\t<tr><th scope=row>299</th><td>2789.44</td><td>210.1414</td><td>0.9942485</td><td>0.02814456</td><td>0.011053755</td><td>0.9999996</td><td>Other_Sp</td></tr>\n",
       "\t<tr><th scope=row>300</th><td>2789.44</td><td>212.0000</td><td>0.9945445</td><td>0.02735933</td><td>0.009216593</td><td>0.9999997</td><td>Other_Sp</td></tr>\n",
       "</tbody>\n",
       "</table>\n"
      ],
      "text/latex": [
       "A data.frame: 6 × 7\n",
       "\\begin{tabular}{r|lllllll}\n",
       "  & alt\\_m & MDR & Predicted & SE & lower & upper & dominant\\\\\n",
       "  & <dbl> & <dbl> & <dbl> & <dbl> & <dbl> & <dbl> & <fct>\\\\\n",
       "\\hline\n",
       "\t295 & 2789.44 & 202.7071 & 0.9929067 & 0.03143171 & 0.021762700 & 0.9999989 & Other\\_Sp\\\\\n",
       "\t296 & 2789.44 & 204.5657 & 0.9932673 & 0.03058748 & 0.018511810 & 0.9999991 & Other\\_Sp\\\\\n",
       "\t297 & 2789.44 & 206.4242 & 0.9936106 & 0.02975841 & 0.015666633 & 0.9999993 & Other\\_Sp\\\\\n",
       "\t298 & 2789.44 & 208.2828 & 0.9939374 & 0.02894419 & 0.013192295 & 0.9999995 & Other\\_Sp\\\\\n",
       "\t299 & 2789.44 & 210.1414 & 0.9942485 & 0.02814456 & 0.011053755 & 0.9999996 & Other\\_Sp\\\\\n",
       "\t300 & 2789.44 & 212.0000 & 0.9945445 & 0.02735933 & 0.009216593 & 0.9999997 & Other\\_Sp\\\\\n",
       "\\end{tabular}\n"
      ],
      "text/markdown": [
       "\n",
       "A data.frame: 6 × 7\n",
       "\n",
       "| <!--/--> | alt_m &lt;dbl&gt; | MDR &lt;dbl&gt; | Predicted &lt;dbl&gt; | SE &lt;dbl&gt; | lower &lt;dbl&gt; | upper &lt;dbl&gt; | dominant &lt;fct&gt; |\n",
       "|---|---|---|---|---|---|---|---|\n",
       "| 295 | 2789.44 | 202.7071 | 0.9929067 | 0.03143171 | 0.021762700 | 0.9999989 | Other_Sp |\n",
       "| 296 | 2789.44 | 204.5657 | 0.9932673 | 0.03058748 | 0.018511810 | 0.9999991 | Other_Sp |\n",
       "| 297 | 2789.44 | 206.4242 | 0.9936106 | 0.02975841 | 0.015666633 | 0.9999993 | Other_Sp |\n",
       "| 298 | 2789.44 | 208.2828 | 0.9939374 | 0.02894419 | 0.013192295 | 0.9999995 | Other_Sp |\n",
       "| 299 | 2789.44 | 210.1414 | 0.9942485 | 0.02814456 | 0.011053755 | 0.9999996 | Other_Sp |\n",
       "| 300 | 2789.44 | 212.0000 | 0.9945445 | 0.02735933 | 0.009216593 | 0.9999997 | Other_Sp |\n",
       "\n"
      ],
      "text/plain": [
       "    alt_m   MDR      Predicted SE         lower       upper     dominant\n",
       "295 2789.44 202.7071 0.9929067 0.03143171 0.021762700 0.9999989 Other_Sp\n",
       "296 2789.44 204.5657 0.9932673 0.03058748 0.018511810 0.9999991 Other_Sp\n",
       "297 2789.44 206.4242 0.9936106 0.02975841 0.015666633 0.9999993 Other_Sp\n",
       "298 2789.44 208.2828 0.9939374 0.02894419 0.013192295 0.9999995 Other_Sp\n",
       "299 2789.44 210.1414 0.9942485 0.02814456 0.011053755 0.9999996 Other_Sp\n",
       "300 2789.44 212.0000 0.9945445 0.02735933 0.009216593 0.9999997 Other_Sp"
      ]
     },
     "metadata": {},
     "output_type": "display_data"
    }
   ],
   "source": [
    "Elambda <- predict(best_mod, \n",
    "        type='state', \n",
    "        newdata = newdata,\n",
    "        appendData = TRUE)\n",
    "\n",
    "Elambda_unscaled <- myunscale(Elambda, siteCovs_scaled, c(\"alt_m\",\"MDR\"))\n",
    "tail(Elambda_unscaled)"
   ]
  },
  {
   "cell_type": "code",
   "execution_count": 14,
   "metadata": {},
   "outputs": [
    {
     "data": {
      "image/png": "[encoded data removed]",
      "text/plain": [
       "plot without title"
      ]
     },
     "metadata": {
      "image/png": {
       "height": 420,
       "width": 420
      }
     },
     "output_type": "display_data"
    },
    {
     "data": {
      "image/png": "[encoded data removed]",
      "text/plain": [
       "plot without title"
      ]
     },
     "metadata": {
      "image/png": {
       "height": 420,
       "width": 420
      }
     },
     "output_type": "display_data"
    },
    {
     "data": {
      "image/png": "[encoded data removed]",
      "text/plain": [
       "plot without title"
      ]
     },
     "metadata": {
      "image/png": {
       "height": 420,
       "width": 420
      }
     },
     "output_type": "display_data"
    }
   ],
   "source": [
    "with(subset(Elambda_unscaled,dominant==\"Graminacee\"), {\n",
    "  plot(MDR, Predicted, xlab=\"MDR\", type=\"l\", # names = habitat,\n",
    "       ylab=\"Probabilità di effettiva presenza sp. Graminacee\", #ylim=c(-20, 40), # cex.names=0.7,\n",
    "       cex.lab=0.7, cex.axis=0.7, lwd=2, col=\"red\")\n",
    "  lines(MDR, Predicted+SE, lty=3, col=\"dark grey\")\n",
    "  lines(MDR, Predicted-SE, lty=3, col=\"dark grey\")\n",
    "  #lines(alt_m, upper, lty=1, col=\"grey\")\n",
    "  #lines(alt_m, lower, lty=1, col=\"grey\")\n",
    "})\n",
    "with(subset(Elambda_unscaled,dominant==\"Muschio\"), {\n",
    "  plot(MDR, Predicted, xlab=\"MDR\", type=\"l\", # names = habitat,\n",
    "       ylab=\"Probabilità di effettiva presenza sp. Muschio\", #ylim=c(-20, 40), # cex.names=0.7,\n",
    "       cex.lab=0.7, cex.axis=0.7, lwd=2, col=\"red\")\n",
    "   lines(MDR, Predicted+SE, lty=3, col=\"dark grey\")\n",
    "   lines(MDR, Predicted-SE, lty=3, col=\"dark grey\")\n",
    "  #lines(MDR, upper, lty=1, col=\"grey\")\n",
    "  #lines(MDR, lower, lty=1, col=\"grey\")\n",
    "})\n",
    "\n",
    "with(subset(Elambda_unscaled,dominant==\"Other_Sp\"), {\n",
    "  plot(MDR, Predicted, xlab=\"MDR\", type=\"l\", # names = habitat,\n",
    "       ylab=\"Probabilità di effettiva presenza sp. Other_sp\", #ylim=c(-20, 40), # cex.names=0.7,\n",
    "       cex.lab=0.7, cex.axis=0.7, lwd=2, col=\"red\")\n",
    "  lines(MDR, Predicted+SE, lty=3, col=\"dark grey\")\n",
    "  lines(MDR, Predicted-SE, lty=3, col=\"dark grey\")\n",
    "  #lines(MDR, upper, lty=1, col=\"grey\")\n",
    "  #lines(MDR, lower, lty=1, col=\"grey\")\n",
    "})"
   ]
  },
  {
   "cell_type": "markdown",
   "metadata": {},
   "source": [
    "#### Possiamo notare che vi è una maggior probabilità di cattura con l'aumentare delle dimensione delle rocce come nella sessione 1."
   ]
  },
  {
   "cell_type": "markdown",
   "metadata": {},
   "source": [
    "### Proseguiamo con ulteriori valutazioni sulla temperatura"
   ]
  },
  {
   "cell_type": "code",
   "execution_count": 15,
   "metadata": {},
   "outputs": [
    {
     "data": {
      "text/html": [
       "<table>\n",
       "<caption>A data.frame: 6 × 4</caption>\n",
       "<thead>\n",
       "\t<tr><th></th><th scope=col>orario</th><th scope=col>precip</th><th scope=col>temper</th><th scope=col>vento</th></tr>\n",
       "\t<tr><th></th><th scope=col>&lt;fct&gt;</th><th scope=col>&lt;dbl&gt;</th><th scope=col>&lt;dbl&gt;</th><th scope=col>&lt;dbl&gt;</th></tr>\n",
       "</thead>\n",
       "<tbody>\n",
       "\t<tr><th scope=row>1</th><td>Tr</td><td>0</td><td> 6.0</td><td>0.0</td></tr>\n",
       "\t<tr><th scope=row>2</th><td>Al</td><td>0</td><td> 9.4</td><td>1.7</td></tr>\n",
       "\t<tr><th scope=row>3</th><td>Tr</td><td>0</td><td>12.6</td><td>1.2</td></tr>\n",
       "\t<tr><th scope=row>4</th><td>Al</td><td>0</td><td>14.4</td><td>2.9</td></tr>\n",
       "\t<tr><th scope=row>5</th><td>Tr</td><td>0</td><td>13.5</td><td>1.1</td></tr>\n",
       "\t<tr><th scope=row>6</th><td>Al</td><td>0</td><td>14.0</td><td>0.8</td></tr>\n",
       "</tbody>\n",
       "</table>\n"
      ],
      "text/latex": [
       "A data.frame: 6 × 4\n",
       "\\begin{tabular}{r|llll}\n",
       "  & orario & precip & temper & vento\\\\\n",
       "  & <fct> & <dbl> & <dbl> & <dbl>\\\\\n",
       "\\hline\n",
       "\t1 & Tr & 0 &  6.0 & 0.0\\\\\n",
       "\t2 & Al & 0 &  9.4 & 1.7\\\\\n",
       "\t3 & Tr & 0 & 12.6 & 1.2\\\\\n",
       "\t4 & Al & 0 & 14.4 & 2.9\\\\\n",
       "\t5 & Tr & 0 & 13.5 & 1.1\\\\\n",
       "\t6 & Al & 0 & 14.0 & 0.8\\\\\n",
       "\\end{tabular}\n"
      ],
      "text/markdown": [
       "\n",
       "A data.frame: 6 × 4\n",
       "\n",
       "| <!--/--> | orario &lt;fct&gt; | precip &lt;dbl&gt; | temper &lt;dbl&gt; | vento &lt;dbl&gt; |\n",
       "|---|---|---|---|---|\n",
       "| 1 | Tr | 0 |  6.0 | 0.0 |\n",
       "| 2 | Al | 0 |  9.4 | 1.7 |\n",
       "| 3 | Tr | 0 | 12.6 | 1.2 |\n",
       "| 4 | Al | 0 | 14.4 | 2.9 |\n",
       "| 5 | Tr | 0 | 13.5 | 1.1 |\n",
       "| 6 | Al | 0 | 14.0 | 0.8 |\n",
       "\n"
      ],
      "text/plain": [
       "  orario precip temper vento\n",
       "1 Tr     0       6.0   0.0  \n",
       "2 Al     0       9.4   1.7  \n",
       "3 Tr     0      12.6   1.2  \n",
       "4 Al     0      14.4   2.9  \n",
       "5 Tr     0      13.5   1.1  \n",
       "6 Al     0      14.0   0.8  "
      ]
     },
     "metadata": {},
     "output_type": "display_data"
    }
   ],
   "source": [
    "head(obsCovs(arvicole))"
   ]
  },
  {
   "cell_type": "code",
   "execution_count": 19,
   "metadata": {},
   "outputs": [],
   "source": [
    "df_indicato <- siteCovs(arvicole)\n",
    "df_indicato2 <- obsCovs(arvicole)\n",
    "alt_m.seq <- seq(min(df_indicato$alt_m), max(df_indicato$alt_m), length=100)\n",
    "cop_veg_ottavi.seq <- seq(min(df_indicato$cop_veg_ottavi, na.rm=TRUE), max(df_indicato$cop_veg_ottavi, na.rm=TRUE), length=100)\n",
    "Esp.tr.seq <- seq(min(df_indicato$Esp.tr), max(df_indicato$Esp.tr), length=100)\n",
    "MDR.seq <- seq(min(df_indicato$MDR), max(df_indicato$MDR), length=100)\n",
    "temper.seq <- seq(min(df_indicato2$temper), max(df_indicato2$temper), length=100)\n",
    "vento.seq <- seq(min(df_indicato2$vento), max(df_indicato2$vento), length=100)\n",
    "precip.seq <- seq(min(df_indicato2$precip), max(df_indicato2$precip), length=100)\n",
    "\n",
    "newdat_tempTr <- data.frame(\n",
    "    alt_m = mean(df_indicato$alt_m),\n",
    "    MDR = MDR.seq,\n",
    "    temper = temper.seq,\n",
    "    orario = \"Tr\",\n",
    "    vento = vento.seq,\n",
    "    precip = precip.seq\n",
    ")\n",
    "\n",
    "Elambda <- predict(best_mod, \n",
    "        type='det', \n",
    "        newdata = newdat_tempTr,\n",
    "        appendData = TRUE)\n",
    "\n"
   ]
  },
  {
   "cell_type": "code",
   "execution_count": 20,
   "metadata": {},
   "outputs": [
    {
     "data": {
      "text/html": [
       "<table>\n",
       "<caption>A data.frame: 6 × 10</caption>\n",
       "<thead>\n",
       "\t<tr><th></th><th scope=col>alt_m</th><th scope=col>MDR</th><th scope=col>Predicted</th><th scope=col>SE</th><th scope=col>lower</th><th scope=col>upper</th><th scope=col>temper</th><th scope=col>orario</th><th scope=col>vento</th><th scope=col>precip</th></tr>\n",
       "\t<tr><th></th><th scope=col>&lt;dbl&gt;</th><th scope=col>&lt;dbl&gt;</th><th scope=col>&lt;dbl&gt;</th><th scope=col>&lt;dbl&gt;</th><th scope=col>&lt;dbl&gt;</th><th scope=col>&lt;dbl&gt;</th><th scope=col>&lt;dbl&gt;</th><th scope=col>&lt;fct&gt;</th><th scope=col>&lt;dbl&gt;</th><th scope=col>&lt;dbl&gt;</th></tr>\n",
       "</thead>\n",
       "<tbody>\n",
       "\t<tr><th scope=row>95</th><td>2789.44</td><td>202.7071</td><td>0.4246050</td><td>0.3028512</td><td>0.06102819</td><td>0.8933718</td><td>13.88485</td><td>Tr</td><td>3.608081</td><td>0.9494949</td></tr>\n",
       "\t<tr><th scope=row>96</th><td>2789.44</td><td>204.5657</td><td>0.4349225</td><td>0.3086744</td><td>0.06160321</td><td>0.9002378</td><td>13.98788</td><td>Tr</td><td>3.646465</td><td>0.9595960</td></tr>\n",
       "\t<tr><th scope=row>97</th><td>2789.44</td><td>206.4242</td><td>0.4452967</td><td>0.3142922</td><td>0.06217859</td><td>0.9067146</td><td>14.09091</td><td>Tr</td><td>3.684848</td><td>0.9696970</td></tr>\n",
       "\t<tr><th scope=row>98</th><td>2789.44</td><td>208.2828</td><td>0.4557188</td><td>0.3196886</td><td>0.06275442</td><td>0.9128178</td><td>14.19394</td><td>Tr</td><td>3.723232</td><td>0.9797980</td></tr>\n",
       "\t<tr><th scope=row>99</th><td>2789.44</td><td>210.1414</td><td>0.4661798</td><td>0.3248484</td><td>0.06333081</td><td>0.9185631</td><td>14.29697</td><td>Tr</td><td>3.761616</td><td>0.9898990</td></tr>\n",
       "\t<tr><th scope=row>100</th><td>2789.44</td><td>212.0000</td><td>0.4766706</td><td>0.3297568</td><td>0.06390785</td><td>0.9239664</td><td>14.40000</td><td>Tr</td><td>3.800000</td><td>1.0000000</td></tr>\n",
       "</tbody>\n",
       "</table>\n"
      ],
      "text/latex": [
       "A data.frame: 6 × 10\n",
       "\\begin{tabular}{r|llllllllll}\n",
       "  & alt\\_m & MDR & Predicted & SE & lower & upper & temper & orario & vento & precip\\\\\n",
       "  & <dbl> & <dbl> & <dbl> & <dbl> & <dbl> & <dbl> & <dbl> & <fct> & <dbl> & <dbl>\\\\\n",
       "\\hline\n",
       "\t95 & 2789.44 & 202.7071 & 0.4246050 & 0.3028512 & 0.06102819 & 0.8933718 & 13.88485 & Tr & 3.608081 & 0.9494949\\\\\n",
       "\t96 & 2789.44 & 204.5657 & 0.4349225 & 0.3086744 & 0.06160321 & 0.9002378 & 13.98788 & Tr & 3.646465 & 0.9595960\\\\\n",
       "\t97 & 2789.44 & 206.4242 & 0.4452967 & 0.3142922 & 0.06217859 & 0.9067146 & 14.09091 & Tr & 3.684848 & 0.9696970\\\\\n",
       "\t98 & 2789.44 & 208.2828 & 0.4557188 & 0.3196886 & 0.06275442 & 0.9128178 & 14.19394 & Tr & 3.723232 & 0.9797980\\\\\n",
       "\t99 & 2789.44 & 210.1414 & 0.4661798 & 0.3248484 & 0.06333081 & 0.9185631 & 14.29697 & Tr & 3.761616 & 0.9898990\\\\\n",
       "\t100 & 2789.44 & 212.0000 & 0.4766706 & 0.3297568 & 0.06390785 & 0.9239664 & 14.40000 & Tr & 3.800000 & 1.0000000\\\\\n",
       "\\end{tabular}\n"
      ],
      "text/markdown": [
       "\n",
       "A data.frame: 6 × 10\n",
       "\n",
       "| <!--/--> | alt_m &lt;dbl&gt; | MDR &lt;dbl&gt; | Predicted &lt;dbl&gt; | SE &lt;dbl&gt; | lower &lt;dbl&gt; | upper &lt;dbl&gt; | temper &lt;dbl&gt; | orario &lt;fct&gt; | vento &lt;dbl&gt; | precip &lt;dbl&gt; |\n",
       "|---|---|---|---|---|---|---|---|---|---|---|\n",
       "| 95 | 2789.44 | 202.7071 | 0.4246050 | 0.3028512 | 0.06102819 | 0.8933718 | 13.88485 | Tr | 3.608081 | 0.9494949 |\n",
       "| 96 | 2789.44 | 204.5657 | 0.4349225 | 0.3086744 | 0.06160321 | 0.9002378 | 13.98788 | Tr | 3.646465 | 0.9595960 |\n",
       "| 97 | 2789.44 | 206.4242 | 0.4452967 | 0.3142922 | 0.06217859 | 0.9067146 | 14.09091 | Tr | 3.684848 | 0.9696970 |\n",
       "| 98 | 2789.44 | 208.2828 | 0.4557188 | 0.3196886 | 0.06275442 | 0.9128178 | 14.19394 | Tr | 3.723232 | 0.9797980 |\n",
       "| 99 | 2789.44 | 210.1414 | 0.4661798 | 0.3248484 | 0.06333081 | 0.9185631 | 14.29697 | Tr | 3.761616 | 0.9898990 |\n",
       "| 100 | 2789.44 | 212.0000 | 0.4766706 | 0.3297568 | 0.06390785 | 0.9239664 | 14.40000 | Tr | 3.800000 | 1.0000000 |\n",
       "\n"
      ],
      "text/plain": [
       "    alt_m   MDR      Predicted SE        lower      upper     temper   orario\n",
       "95  2789.44 202.7071 0.4246050 0.3028512 0.06102819 0.8933718 13.88485 Tr    \n",
       "96  2789.44 204.5657 0.4349225 0.3086744 0.06160321 0.9002378 13.98788 Tr    \n",
       "97  2789.44 206.4242 0.4452967 0.3142922 0.06217859 0.9067146 14.09091 Tr    \n",
       "98  2789.44 208.2828 0.4557188 0.3196886 0.06275442 0.9128178 14.19394 Tr    \n",
       "99  2789.44 210.1414 0.4661798 0.3248484 0.06333081 0.9185631 14.29697 Tr    \n",
       "100 2789.44 212.0000 0.4766706 0.3297568 0.06390785 0.9239664 14.40000 Tr    \n",
       "    vento    precip   \n",
       "95  3.608081 0.9494949\n",
       "96  3.646465 0.9595960\n",
       "97  3.684848 0.9696970\n",
       "98  3.723232 0.9797980\n",
       "99  3.761616 0.9898990\n",
       "100 3.800000 1.0000000"
      ]
     },
     "metadata": {},
     "output_type": "display_data"
    }
   ],
   "source": [
    "Elambda_unscaled <- myunscale(Elambda, siteCovs_scaled, c(\"alt_m\",\"MDR\"))\n",
    "tail(Elambda_unscaled)"
   ]
  },
  {
   "cell_type": "code",
   "execution_count": 21,
   "metadata": {},
   "outputs": [
    {
     "data": {
      "image/png": "[encoded data removed]",
      "text/plain": [
       "plot without title"
      ]
     },
     "metadata": {
      "image/png": {
       "height": 420,
       "width": 420
      }
     },
     "output_type": "display_data"
    }
   ],
   "source": [
    "with(Elambda_unscaled, {\n",
    "    plot(temper, Predicted, xlab=\"temperatura\",\n",
    "        ylab=\"Probabilità di cattura\",\n",
    "        cex.lab=0.7, lwd=2, col=\"red\")\n",
    "    lines(temper, upper, lty=2, col=\"grey\")\n",
    "    lines(temper, lower,lty=2, col=\"grey\" )\n",
    "})  "
   ]
  },
  {
   "cell_type": "markdown",
   "metadata": {},
   "source": [
    "#### Per quanto riguarda la seconda sessione possiamo notare invece, una maggior probabilità di cattura con l'aumentare delle temperature. "
   ]
  }
 ],
 "metadata": {
  "kernelspec": {
   "display_name": "R",
   "language": "R",
   "name": "ir"
  },
  "language_info": {
   "codemirror_mode": "r",
   "file_extension": ".r",
   "mimetype": "text/x-r-source",
   "name": "R",
   "pygments_lexer": "r",
   "version": "3.6.3"
  }
 },
 "nbformat": 4,
 "nbformat_minor": 4
}
