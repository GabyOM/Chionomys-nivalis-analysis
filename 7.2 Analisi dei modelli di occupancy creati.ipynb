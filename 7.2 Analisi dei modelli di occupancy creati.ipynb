{
 "cells": [
  {
   "cell_type": "markdown",
   "metadata": {},
   "source": [
    "# Analisi Modello Occupancy\n",
    "### Claudia Gabriela Ochoa Martinez (2020)"
   ]
  },
  {
   "cell_type": "code",
   "execution_count": 36,
   "metadata": {},
   "outputs": [],
   "source": [
    "library(MuMIn)\n",
    "library(unmarked)"
   ]
  },
  {
   "cell_type": "markdown",
   "metadata": {},
   "source": [
    "#### Selezionamo il file generato nello script precedente (6.1. Modelli di Occupancy - Sessione 1 oppure 6.2. Modelli di Occupancy - Sessione 2 )"
   ]
  },
  {
   "cell_type": "code",
   "execution_count": 3,
   "metadata": {},
   "outputs": [
    {
     "data": {
      "text/html": [
       "<table>\n",
       "<caption>A data.frame: 4 × 1</caption>\n",
       "<thead>\n",
       "\t<tr><th scope=col>lista_multimodel</th></tr>\n",
       "\t<tr><th scope=col>&lt;fct&gt;</th></tr>\n",
       "</thead>\n",
       "<tbody>\n",
       "\t<tr><td>Dati-modelli\\multimodel_2018_sessione_1_Dom-Factor_Rain_scaled.RData         </td></tr>\n",
       "\t<tr><td>Dati-modelli\\multimodel_2018_sessione_1_Dom-Factor_Rain_scaled_and_unsc.RData</td></tr>\n",
       "\t<tr><td>Dati-modelli\\multimodel_2018_sessione_1_EYP6.RData                           </td></tr>\n",
       "\t<tr><td>Dati-modelli\\multimodel_2018_sessione_2_YPHO.RData                           </td></tr>\n",
       "</tbody>\n",
       "</table>\n"
      ],
      "text/latex": [
       "A data.frame: 4 × 1\n",
       "\\begin{tabular}{l}\n",
       " lista\\_multimodel\\\\\n",
       " <fct>\\\\\n",
       "\\hline\n",
       "\t Dati-modelli\\textbackslash{}multimodel\\_2018\\_sessione\\_1\\_Dom-Factor\\_Rain\\_scaled.RData         \\\\\n",
       "\t Dati-modelli\\textbackslash{}multimodel\\_2018\\_sessione\\_1\\_Dom-Factor\\_Rain\\_scaled\\_and\\_unsc.RData\\\\\n",
       "\t Dati-modelli\\textbackslash{}multimodel\\_2018\\_sessione\\_1\\_EYP6.RData                           \\\\\n",
       "\t Dati-modelli\\textbackslash{}multimodel\\_2018\\_sessione\\_2\\_YPHO.RData                           \\\\\n",
       "\\end{tabular}\n"
      ],
      "text/markdown": [
       "\n",
       "A data.frame: 4 × 1\n",
       "\n",
       "| lista_multimodel &lt;fct&gt; |\n",
       "|---|\n",
       "| Dati-modelli\\multimodel_2018_sessione_1_Dom-Factor_Rain_scaled.RData          |\n",
       "| Dati-modelli\\multimodel_2018_sessione_1_Dom-Factor_Rain_scaled_and_unsc.RData |\n",
       "| Dati-modelli\\multimodel_2018_sessione_1_EYP6.RData                            |\n",
       "| Dati-modelli\\multimodel_2018_sessione_2_YPHO.RData                            |\n",
       "\n"
      ],
      "text/plain": [
       "  lista_multimodel                                                              \n",
       "1 Dati-modelli\\\\multimodel_2018_sessione_1_Dom-Factor_Rain_scaled.RData         \n",
       "2 Dati-modelli\\\\multimodel_2018_sessione_1_Dom-Factor_Rain_scaled_and_unsc.RData\n",
       "3 Dati-modelli\\\\multimodel_2018_sessione_1_EYP6.RData                           \n",
       "4 Dati-modelli\\\\multimodel_2018_sessione_2_YPHO.RData                           "
      ]
     },
     "metadata": {},
     "output_type": "display_data"
    }
   ],
   "source": [
    "lista_multimodel <- list.files(\"Dati-modelli\\\\\", pattern=\"*.RData\", recursive=FALSE, full.names=TRUE)\n",
    "data.frame(lista_multimodel)"
   ]
  },
  {
   "cell_type": "code",
   "execution_count": 37,
   "metadata": {},
   "outputs": [
    {
     "data": {
      "text/html": [
       "'Dati-modelli\\\\multimodel_2018_sessione_1_EYP6.RData'"
      ],
      "text/latex": [
       "'Dati-modelli\\textbackslash{}\\textbackslash{}multimodel\\_2018\\_sessione\\_1\\_EYP6.RData'"
      ],
      "text/markdown": [
       "'Dati-modelli\\\\multimodel_2018_sessione_1_EYP6.RData'"
      ],
      "text/plain": [
       "[1] \"Dati-modelli\\\\multimodel_2018_sessione_1_EYP6.RData\""
      ]
     },
     "metadata": {},
     "output_type": "display_data"
    }
   ],
   "source": [
    "multimodel_scelto <- lista_multimodel[3]\n",
    "load(multimodel_scelto)\n",
    "multimodel_scelto"
   ]
  },
  {
   "cell_type": "code",
   "execution_count": 38,
   "metadata": {},
   "outputs": [
    {
     "data": {
      "text/html": [
       "<table>\n",
       "<caption>A model.selection: 6 × 17</caption>\n",
       "<thead>\n",
       "\t<tr><th></th><th scope=col>p(Int)</th><th scope=col>psi(Int)</th><th scope=col>p(MDR)</th><th scope=col>p(orario)</th><th scope=col>p(precip)</th><th scope=col>p(temper)</th><th scope=col>p(vento)</th><th scope=col>psi(alt_m)</th><th scope=col>psi(I(alt_m^2))</th><th scope=col>psi(dominant)</th><th scope=col>psi(MDR)</th><th scope=col>psi(I(MDR^2))</th><th scope=col>df</th><th scope=col>logLik</th><th scope=col>AICc</th><th scope=col>delta</th><th scope=col>weight</th></tr>\n",
       "\t<tr><th></th><th scope=col>&lt;dbl&gt;</th><th scope=col>&lt;dbl&gt;</th><th scope=col>&lt;dbl&gt;</th><th scope=col>&lt;fct&gt;</th><th scope=col>&lt;dbl&gt;</th><th scope=col>&lt;dbl&gt;</th><th scope=col>&lt;dbl&gt;</th><th scope=col>&lt;dbl&gt;</th><th scope=col>&lt;dbl&gt;</th><th scope=col>&lt;fct&gt;</th><th scope=col>&lt;dbl&gt;</th><th scope=col>&lt;dbl&gt;</th><th scope=col>&lt;int&gt;</th><th scope=col>&lt;dbl&gt;</th><th scope=col>&lt;dbl&gt;</th><th scope=col>&lt;dbl&gt;</th><th scope=col>&lt;mdl.wght&gt;</th></tr>\n",
       "</thead>\n",
       "<tbody>\n",
       "\t<tr><th scope=row>959</th><td> 0.18542454</td><td>14.3542076</td><td>-0.5635380</td><td>+</td><td>-0.3560077</td><td>-0.2191790</td><td>-0.3091165</td><td> -40.084688</td><td>        NA</td><td>+</td><td>-19.960145</td><td> -98.810281</td><td>12</td><td>-112.2259</td><td>253.9255</td><td> 0.000000</td><td>0.7093139242</td></tr>\n",
       "\t<tr><th scope=row>447</th><td>-0.09189001</td><td> 7.4968549</td><td>-1.1705121</td><td>+</td><td>-0.3387876</td><td>-0.2178293</td><td>-0.3024459</td><td> -49.503977</td><td>        NA</td><td>+</td><td> 60.033363</td><td>         NA</td><td>11</td><td>-115.1416</td><td>256.8349</td><td> 2.909382</td><td>0.1656053217</td></tr>\n",
       "\t<tr><th scope=row>1023</th><td> 0.10723722</td><td>20.1012038</td><td>-0.7396181</td><td>+</td><td>-0.3507826</td><td>-0.2185723</td><td>-0.3057324</td><td>-100.288802</td><td>-18.577409</td><td>+</td><td>-47.195063</td><td>-168.431946</td><td>13</td><td>-112.6210</td><td>257.7420</td><td> 3.816534</td><td>0.1052176848</td></tr>\n",
       "\t<tr><th scope=row>511</th><td> 0.05858006</td><td> 1.8694860</td><td>-1.3492944</td><td>+</td><td>-0.3573325</td><td>-0.2208810</td><td>-0.3101103</td><td>  -6.629792</td><td> -3.340476</td><td>+</td><td>  8.108269</td><td>         NA</td><td>12</td><td>-115.9650</td><td>261.4037</td><td> 7.478202</td><td>0.0168642722</td></tr>\n",
       "\t<tr><th scope=row>255</th><td> 0.11425765</td><td>-1.8226475</td><td>-0.4736255</td><td>+</td><td>-0.3488924</td><td>-0.2179121</td><td>-0.3044855</td><td> -11.078737</td><td> -8.727805</td><td>+</td><td>        NA</td><td>         NA</td><td>11</td><td>-119.4967</td><td>265.5452</td><td>11.619664</td><td>0.0021264764</td></tr>\n",
       "\t<tr><th scope=row>927</th><td> 0.66336256</td><td>-0.1278933</td><td>-0.3289493</td><td>+</td><td>-0.3709497</td><td>-0.2247058</td><td>-0.3188133</td><td>         NA</td><td>        NA</td><td>+</td><td> -1.113613</td><td>  -3.740764</td><td>11</td><td>-120.3878</td><td>267.3273</td><td>13.401793</td><td>0.0008723207</td></tr>\n",
       "</tbody>\n",
       "</table>\n"
      ],
      "text/latex": [
       "A model.selection: 6 × 17\n",
       "\\begin{tabular}{r|lllllllllllllllll}\n",
       "  & p(Int) & psi(Int) & p(MDR) & p(orario) & p(precip) & p(temper) & p(vento) & psi(alt\\_m) & psi(I(alt\\_m\\textasciicircum{}2)) & psi(dominant) & psi(MDR) & psi(I(MDR\\textasciicircum{}2)) & df & logLik & AICc & delta & weight\\\\\n",
       "  & <dbl> & <dbl> & <dbl> & <fct> & <dbl> & <dbl> & <dbl> & <dbl> & <dbl> & <fct> & <dbl> & <dbl> & <int> & <dbl> & <dbl> & <dbl> & <mdl.wght>\\\\\n",
       "\\hline\n",
       "\t959 &  0.18542454 & 14.3542076 & -0.5635380 & + & -0.3560077 & -0.2191790 & -0.3091165 &  -40.084688 &         NA & + & -19.960145 &  -98.810281 & 12 & -112.2259 & 253.9255 &  0.000000 & 0.7093139242\\\\\n",
       "\t447 & -0.09189001 &  7.4968549 & -1.1705121 & + & -0.3387876 & -0.2178293 & -0.3024459 &  -49.503977 &         NA & + &  60.033363 &          NA & 11 & -115.1416 & 256.8349 &  2.909382 & 0.1656053217\\\\\n",
       "\t1023 &  0.10723722 & 20.1012038 & -0.7396181 & + & -0.3507826 & -0.2185723 & -0.3057324 & -100.288802 & -18.577409 & + & -47.195063 & -168.431946 & 13 & -112.6210 & 257.7420 &  3.816534 & 0.1052176848\\\\\n",
       "\t511 &  0.05858006 &  1.8694860 & -1.3492944 & + & -0.3573325 & -0.2208810 & -0.3101103 &   -6.629792 &  -3.340476 & + &   8.108269 &          NA & 12 & -115.9650 & 261.4037 &  7.478202 & 0.0168642722\\\\\n",
       "\t255 &  0.11425765 & -1.8226475 & -0.4736255 & + & -0.3488924 & -0.2179121 & -0.3044855 &  -11.078737 &  -8.727805 & + &         NA &          NA & 11 & -119.4967 & 265.5452 & 11.619664 & 0.0021264764\\\\\n",
       "\t927 &  0.66336256 & -0.1278933 & -0.3289493 & + & -0.3709497 & -0.2247058 & -0.3188133 &          NA &         NA & + &  -1.113613 &   -3.740764 & 11 & -120.3878 & 267.3273 & 13.401793 & 0.0008723207\\\\\n",
       "\\end{tabular}\n"
      ],
      "text/markdown": [
       "\n",
       "A model.selection: 6 × 17\n",
       "\n",
       "| <!--/--> | p(Int) &lt;dbl&gt; | psi(Int) &lt;dbl&gt; | p(MDR) &lt;dbl&gt; | p(orario) &lt;fct&gt; | p(precip) &lt;dbl&gt; | p(temper) &lt;dbl&gt; | p(vento) &lt;dbl&gt; | psi(alt_m) &lt;dbl&gt; | psi(I(alt_m^2)) &lt;dbl&gt; | psi(dominant) &lt;fct&gt; | psi(MDR) &lt;dbl&gt; | psi(I(MDR^2)) &lt;dbl&gt; | df &lt;int&gt; | logLik &lt;dbl&gt; | AICc &lt;dbl&gt; | delta &lt;dbl&gt; | weight &lt;mdl.wght&gt; |\n",
       "|---|---|---|---|---|---|---|---|---|---|---|---|---|---|---|---|---|---|\n",
       "| 959 |  0.18542454 | 14.3542076 | -0.5635380 | + | -0.3560077 | -0.2191790 | -0.3091165 |  -40.084688 |         NA | + | -19.960145 |  -98.810281 | 12 | -112.2259 | 253.9255 |  0.000000 | 0.7093139242 |\n",
       "| 447 | -0.09189001 |  7.4968549 | -1.1705121 | + | -0.3387876 | -0.2178293 | -0.3024459 |  -49.503977 |         NA | + |  60.033363 |          NA | 11 | -115.1416 | 256.8349 |  2.909382 | 0.1656053217 |\n",
       "| 1023 |  0.10723722 | 20.1012038 | -0.7396181 | + | -0.3507826 | -0.2185723 | -0.3057324 | -100.288802 | -18.577409 | + | -47.195063 | -168.431946 | 13 | -112.6210 | 257.7420 |  3.816534 | 0.1052176848 |\n",
       "| 511 |  0.05858006 |  1.8694860 | -1.3492944 | + | -0.3573325 | -0.2208810 | -0.3101103 |   -6.629792 |  -3.340476 | + |   8.108269 |          NA | 12 | -115.9650 | 261.4037 |  7.478202 | 0.0168642722 |\n",
       "| 255 |  0.11425765 | -1.8226475 | -0.4736255 | + | -0.3488924 | -0.2179121 | -0.3044855 |  -11.078737 |  -8.727805 | + |         NA |          NA | 11 | -119.4967 | 265.5452 | 11.619664 | 0.0021264764 |\n",
       "| 927 |  0.66336256 | -0.1278933 | -0.3289493 | + | -0.3709497 | -0.2247058 | -0.3188133 |          NA |         NA | + |  -1.113613 |   -3.740764 | 11 | -120.3878 | 267.3273 | 13.401793 | 0.0008723207 |\n",
       "\n"
      ],
      "text/plain": [
       "     p(Int)      psi(Int)   p(MDR)     p(orario) p(precip)  p(temper) \n",
       "959   0.18542454 14.3542076 -0.5635380 +         -0.3560077 -0.2191790\n",
       "447  -0.09189001  7.4968549 -1.1705121 +         -0.3387876 -0.2178293\n",
       "1023  0.10723722 20.1012038 -0.7396181 +         -0.3507826 -0.2185723\n",
       "511   0.05858006  1.8694860 -1.3492944 +         -0.3573325 -0.2208810\n",
       "255   0.11425765 -1.8226475 -0.4736255 +         -0.3488924 -0.2179121\n",
       "927   0.66336256 -0.1278933 -0.3289493 +         -0.3709497 -0.2247058\n",
       "     p(vento)   psi(alt_m)  psi(I(alt_m^2)) psi(dominant) psi(MDR)  \n",
       "959  -0.3091165  -40.084688         NA      +             -19.960145\n",
       "447  -0.3024459  -49.503977         NA      +              60.033363\n",
       "1023 -0.3057324 -100.288802 -18.577409      +             -47.195063\n",
       "511  -0.3101103   -6.629792  -3.340476      +               8.108269\n",
       "255  -0.3044855  -11.078737  -8.727805      +                     NA\n",
       "927  -0.3188133          NA         NA      +              -1.113613\n",
       "     psi(I(MDR^2)) df logLik    AICc     delta     weight      \n",
       "959   -98.810281   12 -112.2259 253.9255  0.000000 0.7093139242\n",
       "447           NA   11 -115.1416 256.8349  2.909382 0.1656053217\n",
       "1023 -168.431946   13 -112.6210 257.7420  3.816534 0.1052176848\n",
       "511           NA   12 -115.9650 261.4037  7.478202 0.0168642722\n",
       "255           NA   11 -119.4967 265.5452 11.619664 0.0021264764\n",
       "927    -3.740764   11 -120.3878 267.3273 13.401793 0.0008723207"
      ]
     },
     "metadata": {},
     "output_type": "display_data"
    }
   ],
   "source": [
    "head(multimodel)"
   ]
  },
  {
   "cell_type": "code",
   "execution_count": 39,
   "metadata": {},
   "outputs": [],
   "source": [
    "#subset(multimodel, logLik == min(logLik))"
   ]
  },
  {
   "cell_type": "markdown",
   "metadata": {},
   "source": [
    "#### Attraverso la seguente funzione possiamo verificare i modelli migliori. "
   ]
  },
  {
   "cell_type": "code",
   "execution_count": 48,
   "metadata": {},
   "outputs": [
    {
     "name": "stdout",
     "output_type": "stream",
     "text": [
      "initial  value 272.406741 \n",
      "iter  10 value 128.215019\n",
      "iter  20 value 125.330854\n",
      "iter  30 value 125.323124\n",
      "final  value 125.323122 \n",
      "converged\n"
     ]
    },
    {
     "data": {
      "text/plain": [
       "$`415`\n",
       "\n",
       "Call:\n",
       "occu(formula = ~MDR + orario + precip + temper + vento + 1 ~ \n",
       "    dominant + MDR + 1, data = arvicole, control = list(trace = 1, \n",
       "    maxit = 1e+07))\n",
       "\n",
       "Occupancy:\n",
       "                 Estimate    SE      z P(>|z|)\n",
       "(Intercept)        -1.172 0.550 -2.129  0.0332\n",
       "dominantMuschio     1.073 0.859  1.250  0.2114\n",
       "dominantOther_Sp    0.895 0.915  0.978  0.3282\n",
       "MDR                -0.857 1.301 -0.658  0.5103\n",
       "\n",
       "Detection:\n",
       "            Estimate     SE      z P(>|z|)\n",
       "(Intercept)   0.7948 1.3158  0.604 0.54580\n",
       "MDR           0.4135 1.1273  0.367 0.71377\n",
       "orarioTr      0.0562 0.5055  0.111 0.91151\n",
       "precip       -0.3700 0.8983 -0.412 0.68042\n",
       "temper       -0.2244 0.0866 -2.591 0.00957\n",
       "vento        -0.3181 0.4068 -0.782 0.43424\n",
       "\n",
       "AIC: 270.6462 \n",
       "\n",
       "attr(,\"rank\")\n",
       "function (x) \n",
       "do.call(\"rank\", list(x))\n",
       "<environment: 0x00000000266e2668>\n",
       "attr(,\"call\")\n",
       "AICc(x)\n",
       "attr(,\"class\")\n",
       "[1] \"function\"     \"rankFunction\"\n",
       "attr(,\"beta\")\n",
       "[1] \"none\""
      ]
     },
     "metadata": {},
     "output_type": "display_data"
    }
   ],
   "source": [
    "get.models(multimodel, 9)"
   ]
  },
  {
   "cell_type": "code",
   "execution_count": 50,
   "metadata": {},
   "outputs": [],
   "source": [
    "### PASSAGGIO DI MODEL AVERAGING: CONSIDERIAMO CONTEMPORANEAMENTE I MODELLI MIGLIORI CHE DIFFERISCONO TRA LORO\n",
    "## DI POCO IN TERMINI DI AIC (deltaAIC < 2)\n",
    "#summary(model.avg(multimodel, subset = delta < 2))"
   ]
  },
  {
   "cell_type": "code",
   "execution_count": 54,
   "metadata": {},
   "outputs": [
    {
     "name": "stdout",
     "output_type": "stream",
     "text": [
      "\n",
      "Call:\n",
      "occu(formula = ~MDR + orario + precip + temper + vento + 1 ~ \n",
      "    alt_m + dominant + MDR + I(MDR^2) + 1, data = arvicole, control = list(trace = 0, \n",
      "    maxit = 1e+07))\n",
      "\n",
      "Occupancy (logit-scale):\n",
      "                 Estimate   SE      z P(>|z|)\n",
      "(Intercept)          14.4 14.6  0.986   0.324\n",
      "alt_m               -40.1 37.9 -1.057   0.290\n",
      "dominantMuschio      44.6 41.9  1.062   0.288\n",
      "dominantOther_Sp     34.3 29.7  1.157   0.247\n",
      "MDR                 -20.0 19.4 -1.029   0.303\n",
      "I(MDR^2)            -98.8 98.5 -1.003   0.316\n",
      "\n",
      "Detection (logit-scale):\n",
      "            Estimate     SE      z P(>|z|)\n",
      "(Intercept)   0.1854 1.2621  0.147  0.8832\n",
      "MDR          -0.5635 0.4758 -1.184  0.2363\n",
      "orarioTr      0.0538 0.5013  0.107  0.9145\n",
      "precip       -0.3560 0.8868 -0.401  0.6881\n",
      "temper       -0.2192 0.0852 -2.573  0.0101\n",
      "vento        -0.3091 0.4016 -0.770  0.4414\n",
      "\n",
      "AIC: 248.4518 \n",
      "Number of sites: 70\n",
      "optim convergence code: 0\n",
      "optim iterations: 206 \n",
      "Bootstrap iterations: 0 \n",
      "\n"
     ]
    }
   ],
   "source": [
    "best_model_2018_s2 <- occu(formula = ~MDR + orario + precip + temper + vento + 1 ~ \n",
    "    alt_m + dominant + MDR + I(MDR^2) + 1, data = arvicole, control = list(trace=0, maxit=1e7))\n",
    "\n",
    "summary(best_model_2018_s2)"
   ]
  },
  {
   "cell_type": "code",
   "execution_count": null,
   "metadata": {},
   "outputs": [],
   "source": []
  },
  {
   "cell_type": "code",
   "execution_count": null,
   "metadata": {},
   "outputs": [],
   "source": []
  }
 ],
 "metadata": {
  "kernelspec": {
   "display_name": "R",
   "language": "R",
   "name": "ir"
  },
  "language_info": {
   "codemirror_mode": "r",
   "file_extension": ".r",
   "mimetype": "text/x-r-source",
   "name": "R",
   "pygments_lexer": "r",
   "version": "3.6.3"
  }
 },
 "nbformat": 4,
 "nbformat_minor": 4
}
