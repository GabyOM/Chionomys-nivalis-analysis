{
 "cells": [
  {
   "cell_type": "markdown",
   "metadata": {},
   "source": [
    "# Analisi Modello Occupancy\n",
    "### Claudia Gabriela Ochoa Martinez (2020)"
   ]
  },
  {
   "cell_type": "code",
   "execution_count": 1,
   "metadata": {},
   "outputs": [
    {
     "name": "stderr",
     "output_type": "stream",
     "text": [
      "Loading required package: lattice\n",
      "\n"
     ]
    }
   ],
   "source": [
    "library(MuMIn)\n",
    "library(unmarked)"
   ]
  },
  {
   "cell_type": "markdown",
   "metadata": {},
   "source": [
    "#### Selezionamo il file generato nello script precedente (6.1. Modelli di Occupancy - Sessione 1 oppure 6.2. Modelli di Occupancy - Sessione 2 )"
   ]
  },
  {
   "cell_type": "code",
   "execution_count": 2,
   "metadata": {},
   "outputs": [
    {
     "data": {
      "text/html": [
       "<table>\n",
       "<caption>A data.frame: 4 × 1</caption>\n",
       "<thead>\n",
       "\t<tr><th scope=col>lista_multimodel</th></tr>\n",
       "\t<tr><th scope=col>&lt;fct&gt;</th></tr>\n",
       "</thead>\n",
       "<tbody>\n",
       "\t<tr><td>Dati-modelli\\multimodel_2018_sessione_1_Dom-Factor_Rain_scaled.RData         </td></tr>\n",
       "\t<tr><td>Dati-modelli\\multimodel_2018_sessione_1_Dom-Factor_Rain_scaled_and_unsc.RData</td></tr>\n",
       "\t<tr><td>Dati-modelli\\multimodel_2018_sessione_1_EYP6.RData                           </td></tr>\n",
       "\t<tr><td>Dati-modelli\\multimodel_2018_sessione_2_YPHO.RData                           </td></tr>\n",
       "</tbody>\n",
       "</table>\n"
      ],
      "text/latex": [
       "A data.frame: 4 × 1\n",
       "\\begin{tabular}{l}\n",
       " lista\\_multimodel\\\\\n",
       " <fct>\\\\\n",
       "\\hline\n",
       "\t Dati-modelli\\textbackslash{}multimodel\\_2018\\_sessione\\_1\\_Dom-Factor\\_Rain\\_scaled.RData         \\\\\n",
       "\t Dati-modelli\\textbackslash{}multimodel\\_2018\\_sessione\\_1\\_Dom-Factor\\_Rain\\_scaled\\_and\\_unsc.RData\\\\\n",
       "\t Dati-modelli\\textbackslash{}multimodel\\_2018\\_sessione\\_1\\_EYP6.RData                           \\\\\n",
       "\t Dati-modelli\\textbackslash{}multimodel\\_2018\\_sessione\\_2\\_YPHO.RData                           \\\\\n",
       "\\end{tabular}\n"
      ],
      "text/markdown": [
       "\n",
       "A data.frame: 4 × 1\n",
       "\n",
       "| lista_multimodel &lt;fct&gt; |\n",
       "|---|\n",
       "| Dati-modelli\\multimodel_2018_sessione_1_Dom-Factor_Rain_scaled.RData          |\n",
       "| Dati-modelli\\multimodel_2018_sessione_1_Dom-Factor_Rain_scaled_and_unsc.RData |\n",
       "| Dati-modelli\\multimodel_2018_sessione_1_EYP6.RData                            |\n",
       "| Dati-modelli\\multimodel_2018_sessione_2_YPHO.RData                            |\n",
       "\n"
      ],
      "text/plain": [
       "  lista_multimodel                                                              \n",
       "1 Dati-modelli\\\\multimodel_2018_sessione_1_Dom-Factor_Rain_scaled.RData         \n",
       "2 Dati-modelli\\\\multimodel_2018_sessione_1_Dom-Factor_Rain_scaled_and_unsc.RData\n",
       "3 Dati-modelli\\\\multimodel_2018_sessione_1_EYP6.RData                           \n",
       "4 Dati-modelli\\\\multimodel_2018_sessione_2_YPHO.RData                           "
      ]
     },
     "metadata": {},
     "output_type": "display_data"
    }
   ],
   "source": [
    "lista_multimodel <- list.files(\"Dati-modelli\\\\\", pattern=\"*.RData\", recursive=FALSE, full.names=TRUE)\n",
    "data.frame(lista_multimodel)"
   ]
  },
  {
   "cell_type": "code",
   "execution_count": 3,
   "metadata": {},
   "outputs": [
    {
     "data": {
      "text/html": [
       "'Dati-modelli\\\\multimodel_2018_sessione_2_YPHO.RData'"
      ],
      "text/latex": [
       "'Dati-modelli\\textbackslash{}\\textbackslash{}multimodel\\_2018\\_sessione\\_2\\_YPHO.RData'"
      ],
      "text/markdown": [
       "'Dati-modelli\\\\multimodel_2018_sessione_2_YPHO.RData'"
      ],
      "text/plain": [
       "[1] \"Dati-modelli\\\\multimodel_2018_sessione_2_YPHO.RData\""
      ]
     },
     "metadata": {},
     "output_type": "display_data"
    }
   ],
   "source": [
    "multimodel_scelto <- lista_multimodel[4]\n",
    "load(multimodel_scelto)\n",
    "multimodel_scelto"
   ]
  },
  {
   "cell_type": "code",
   "execution_count": 4,
   "metadata": {},
   "outputs": [
    {
     "data": {
      "text/html": [
       "<table>\n",
       "<caption>A model.selection: 6 × 17</caption>\n",
       "<thead>\n",
       "\t<tr><th></th><th scope=col>p(Int)</th><th scope=col>psi(Int)</th><th scope=col>p(MDR)</th><th scope=col>p(orario)</th><th scope=col>p(precip)</th><th scope=col>p(temper)</th><th scope=col>p(vento)</th><th scope=col>psi(alt_m)</th><th scope=col>psi(I(alt_m^2))</th><th scope=col>psi(dominant)</th><th scope=col>psi(MDR)</th><th scope=col>psi(I(MDR^2))</th><th scope=col>df</th><th scope=col>logLik</th><th scope=col>AICc</th><th scope=col>delta</th><th scope=col>weight</th></tr>\n",
       "\t<tr><th></th><th scope=col>&lt;dbl&gt;</th><th scope=col>&lt;dbl&gt;</th><th scope=col>&lt;dbl&gt;</th><th scope=col>&lt;fct&gt;</th><th scope=col>&lt;dbl&gt;</th><th scope=col>&lt;dbl&gt;</th><th scope=col>&lt;dbl&gt;</th><th scope=col>&lt;dbl&gt;</th><th scope=col>&lt;dbl&gt;</th><th scope=col>&lt;fct&gt;</th><th scope=col>&lt;dbl&gt;</th><th scope=col>&lt;dbl&gt;</th><th scope=col>&lt;int&gt;</th><th scope=col>&lt;dbl&gt;</th><th scope=col>&lt;dbl&gt;</th><th scope=col>&lt;dbl&gt;</th><th scope=col>&lt;mdl.wght&gt;</th></tr>\n",
       "</thead>\n",
       "<tbody>\n",
       "\t<tr><th scope=row>191</th><td>-6.280324</td><td>-1.3492985</td><td>0.19017344</td><td>+</td><td>0.4019498</td><td>0.2233877</td><td>0.3533600</td><td>-1.479564</td><td>       NA</td><td>+</td><td>       NA</td><td>        NA</td><td>10</td><td>-119.2105</td><td>262.1499</td><td>0.000000</td><td>0.47542407</td></tr>\n",
       "\t<tr><th scope=row>447</th><td>-6.147204</td><td>-1.1488463</td><td>0.02439908</td><td>+</td><td>0.4021243</td><td>0.2241532</td><td>0.3544275</td><td>-1.189658</td><td>       NA</td><td>+</td><td>0.7713411</td><td>        NA</td><td>11</td><td>-118.5594</td><td>263.6706</td><td>1.520729</td><td>0.22225882</td></tr>\n",
       "\t<tr><th scope=row>255</th><td>-6.233454</td><td>-1.8644591</td><td>0.14524348</td><td>+</td><td>0.4020072</td><td>0.2237091</td><td>0.3538010</td><td>-1.525943</td><td>0.4580218</td><td>+</td><td>       NA</td><td>        NA</td><td>11</td><td>-119.0206</td><td>264.5929</td><td>2.443062</td><td>0.14014478</td></tr>\n",
       "\t<tr><th scope=row>511</th><td>-6.124357</td><td>-1.6825963</td><td>0.01251265</td><td>+</td><td>0.4022617</td><td>0.2244965</td><td>0.3549281</td><td>-1.303115</td><td>0.4560645</td><td>+</td><td>0.7718370</td><td>        NA</td><td>12</td><td>-118.2607</td><td>265.9950</td><td>3.845193</td><td>0.06951974</td></tr>\n",
       "\t<tr><th scope=row>959</th><td>-6.145117</td><td>-1.1612222</td><td>0.02382507</td><td>+</td><td>0.4021734</td><td>0.2241739</td><td>0.3544932</td><td>-1.186495</td><td>       NA</td><td>+</td><td>0.7467103</td><td>0.02426844</td><td>12</td><td>-118.5566</td><td>266.5869</td><td>4.437021</td><td>0.05171234</td></tr>\n",
       "\t<tr><th scope=row>415</th><td>-6.140016</td><td>-0.5773858</td><td>0.01261287</td><td>+</td><td>0.4021312</td><td>0.2241964</td><td>0.3545060</td><td>       NA</td><td>       NA</td><td>+</td><td>0.9448363</td><td>        NA</td><td>10</td><td>-121.6626</td><td>267.0540</td><td>4.904187</td><td>0.04094024</td></tr>\n",
       "</tbody>\n",
       "</table>\n"
      ],
      "text/latex": [
       "A model.selection: 6 × 17\n",
       "\\begin{tabular}{r|lllllllllllllllll}\n",
       "  & p(Int) & psi(Int) & p(MDR) & p(orario) & p(precip) & p(temper) & p(vento) & psi(alt\\_m) & psi(I(alt\\_m\\textasciicircum{}2)) & psi(dominant) & psi(MDR) & psi(I(MDR\\textasciicircum{}2)) & df & logLik & AICc & delta & weight\\\\\n",
       "  & <dbl> & <dbl> & <dbl> & <fct> & <dbl> & <dbl> & <dbl> & <dbl> & <dbl> & <fct> & <dbl> & <dbl> & <int> & <dbl> & <dbl> & <dbl> & <mdl.wght>\\\\\n",
       "\\hline\n",
       "\t191 & -6.280324 & -1.3492985 & 0.19017344 & + & 0.4019498 & 0.2233877 & 0.3533600 & -1.479564 &        NA & + &        NA &         NA & 10 & -119.2105 & 262.1499 & 0.000000 & 0.47542407\\\\\n",
       "\t447 & -6.147204 & -1.1488463 & 0.02439908 & + & 0.4021243 & 0.2241532 & 0.3544275 & -1.189658 &        NA & + & 0.7713411 &         NA & 11 & -118.5594 & 263.6706 & 1.520729 & 0.22225882\\\\\n",
       "\t255 & -6.233454 & -1.8644591 & 0.14524348 & + & 0.4020072 & 0.2237091 & 0.3538010 & -1.525943 & 0.4580218 & + &        NA &         NA & 11 & -119.0206 & 264.5929 & 2.443062 & 0.14014478\\\\\n",
       "\t511 & -6.124357 & -1.6825963 & 0.01251265 & + & 0.4022617 & 0.2244965 & 0.3549281 & -1.303115 & 0.4560645 & + & 0.7718370 &         NA & 12 & -118.2607 & 265.9950 & 3.845193 & 0.06951974\\\\\n",
       "\t959 & -6.145117 & -1.1612222 & 0.02382507 & + & 0.4021734 & 0.2241739 & 0.3544932 & -1.186495 &        NA & + & 0.7467103 & 0.02426844 & 12 & -118.5566 & 266.5869 & 4.437021 & 0.05171234\\\\\n",
       "\t415 & -6.140016 & -0.5773858 & 0.01261287 & + & 0.4021312 & 0.2241964 & 0.3545060 &        NA &        NA & + & 0.9448363 &         NA & 10 & -121.6626 & 267.0540 & 4.904187 & 0.04094024\\\\\n",
       "\\end{tabular}\n"
      ],
      "text/markdown": [
       "\n",
       "A model.selection: 6 × 17\n",
       "\n",
       "| <!--/--> | p(Int) &lt;dbl&gt; | psi(Int) &lt;dbl&gt; | p(MDR) &lt;dbl&gt; | p(orario) &lt;fct&gt; | p(precip) &lt;dbl&gt; | p(temper) &lt;dbl&gt; | p(vento) &lt;dbl&gt; | psi(alt_m) &lt;dbl&gt; | psi(I(alt_m^2)) &lt;dbl&gt; | psi(dominant) &lt;fct&gt; | psi(MDR) &lt;dbl&gt; | psi(I(MDR^2)) &lt;dbl&gt; | df &lt;int&gt; | logLik &lt;dbl&gt; | AICc &lt;dbl&gt; | delta &lt;dbl&gt; | weight &lt;mdl.wght&gt; |\n",
       "|---|---|---|---|---|---|---|---|---|---|---|---|---|---|---|---|---|---|\n",
       "| 191 | -6.280324 | -1.3492985 | 0.19017344 | + | 0.4019498 | 0.2233877 | 0.3533600 | -1.479564 |        NA | + |        NA |         NA | 10 | -119.2105 | 262.1499 | 0.000000 | 0.47542407 |\n",
       "| 447 | -6.147204 | -1.1488463 | 0.02439908 | + | 0.4021243 | 0.2241532 | 0.3544275 | -1.189658 |        NA | + | 0.7713411 |         NA | 11 | -118.5594 | 263.6706 | 1.520729 | 0.22225882 |\n",
       "| 255 | -6.233454 | -1.8644591 | 0.14524348 | + | 0.4020072 | 0.2237091 | 0.3538010 | -1.525943 | 0.4580218 | + |        NA |         NA | 11 | -119.0206 | 264.5929 | 2.443062 | 0.14014478 |\n",
       "| 511 | -6.124357 | -1.6825963 | 0.01251265 | + | 0.4022617 | 0.2244965 | 0.3549281 | -1.303115 | 0.4560645 | + | 0.7718370 |         NA | 12 | -118.2607 | 265.9950 | 3.845193 | 0.06951974 |\n",
       "| 959 | -6.145117 | -1.1612222 | 0.02382507 | + | 0.4021734 | 0.2241739 | 0.3544932 | -1.186495 |        NA | + | 0.7467103 | 0.02426844 | 12 | -118.5566 | 266.5869 | 4.437021 | 0.05171234 |\n",
       "| 415 | -6.140016 | -0.5773858 | 0.01261287 | + | 0.4021312 | 0.2241964 | 0.3545060 |        NA |        NA | + | 0.9448363 |         NA | 10 | -121.6626 | 267.0540 | 4.904187 | 0.04094024 |\n",
       "\n"
      ],
      "text/plain": [
       "    p(Int)    psi(Int)   p(MDR)     p(orario) p(precip) p(temper) p(vento) \n",
       "191 -6.280324 -1.3492985 0.19017344 +         0.4019498 0.2233877 0.3533600\n",
       "447 -6.147204 -1.1488463 0.02439908 +         0.4021243 0.2241532 0.3544275\n",
       "255 -6.233454 -1.8644591 0.14524348 +         0.4020072 0.2237091 0.3538010\n",
       "511 -6.124357 -1.6825963 0.01251265 +         0.4022617 0.2244965 0.3549281\n",
       "959 -6.145117 -1.1612222 0.02382507 +         0.4021734 0.2241739 0.3544932\n",
       "415 -6.140016 -0.5773858 0.01261287 +         0.4021312 0.2241964 0.3545060\n",
       "    psi(alt_m) psi(I(alt_m^2)) psi(dominant) psi(MDR)  psi(I(MDR^2)) df\n",
       "191 -1.479564         NA       +                    NA         NA    10\n",
       "447 -1.189658         NA       +             0.7713411         NA    11\n",
       "255 -1.525943  0.4580218       +                    NA         NA    11\n",
       "511 -1.303115  0.4560645       +             0.7718370         NA    12\n",
       "959 -1.186495         NA       +             0.7467103 0.02426844    12\n",
       "415        NA         NA       +             0.9448363         NA    10\n",
       "    logLik    AICc     delta    weight    \n",
       "191 -119.2105 262.1499 0.000000 0.47542407\n",
       "447 -118.5594 263.6706 1.520729 0.22225882\n",
       "255 -119.0206 264.5929 2.443062 0.14014478\n",
       "511 -118.2607 265.9950 3.845193 0.06951974\n",
       "959 -118.5566 266.5869 4.437021 0.05171234\n",
       "415 -121.6626 267.0540 4.904187 0.04094024"
      ]
     },
     "metadata": {},
     "output_type": "display_data"
    }
   ],
   "source": [
    "head(multimodel)"
   ]
  },
  {
   "cell_type": "code",
   "execution_count": 39,
   "metadata": {},
   "outputs": [],
   "source": [
    "#subset(multimodel, logLik == min(logLik))"
   ]
  },
  {
   "cell_type": "markdown",
   "metadata": {},
   "source": [
    "#### Attraverso la seguente funzione possiamo verificare i modelli migliori. "
   ]
  },
  {
   "cell_type": "code",
   "execution_count": 6,
   "metadata": {},
   "outputs": [
    {
     "name": "stdout",
     "output_type": "stream",
     "text": [
      "initial  value 259.236267 \n",
      "iter  10 value 118.873263\n",
      "iter  20 value 118.559429\n",
      "iter  20 value 118.559429\n",
      "iter  20 value 118.559429\n",
      "final  value 118.559429 \n",
      "converged\n"
     ]
    },
    {
     "data": {
      "text/plain": [
       "$`447`\n",
       "\n",
       "Call:\n",
       "occu(formula = ~MDR + orario + precip + temper + vento + 1 ~ \n",
       "    alt_m + dominant + MDR + 1, data = arvicole, control = list(trace = 1, \n",
       "    maxit = 1e+07))\n",
       "\n",
       "Occupancy:\n",
       "                 Estimate    SE       z P(>|z|)\n",
       "(Intercept)        -1.149 0.663 -1.7326  0.0832\n",
       "alt_m              -1.190 0.631 -1.8853  0.0594\n",
       "dominantMuschio    -0.112 1.198 -0.0936  0.9255\n",
       "dominantOther_Sp    2.863 1.799  1.5916  0.1115\n",
       "MDR                 0.771 0.614  1.2556  0.2093\n",
       "\n",
       "Detection:\n",
       "            Estimate     SE      z  P(>|z|)\n",
       "(Intercept)  -6.1472 1.0980 -5.599 2.16e-08\n",
       "MDR           0.0244 0.1773  0.138 8.91e-01\n",
       "orarioTr      0.9751 0.5505  1.771 7.65e-02\n",
       "precip        0.4021 0.8097  0.497 6.19e-01\n",
       "temper        0.2242 0.0815  2.752 5.92e-03\n",
       "vento         0.3544 0.2803  1.265 2.06e-01\n",
       "\n",
       "AIC: 259.1189 \n",
       "\n",
       "attr(,\"rank\")\n",
       "function (x) \n",
       "do.call(\"rank\", list(x))\n",
       "<environment: 0x000000002eefe0b0>\n",
       "attr(,\"call\")\n",
       "AICc(x)\n",
       "attr(,\"class\")\n",
       "[1] \"function\"     \"rankFunction\"\n",
       "attr(,\"beta\")\n",
       "[1] \"none\""
      ]
     },
     "metadata": {},
     "output_type": "display_data"
    }
   ],
   "source": [
    "get.models(multimodel, 2)"
   ]
  },
  {
   "cell_type": "code",
   "execution_count": 7,
   "metadata": {},
   "outputs": [],
   "source": [
    "### PASSAGGIO DI MODEL AVERAGING: CONSIDERIAMO CONTEMPORANEAMENTE I MODELLI MIGLIORI CHE DIFFERISCONO TRA LORO\n",
    "## DI POCO IN TERMINI DI AIC (deltaAIC < 2)\n",
    "#summary(model.avg(multimodel, subset = delta < 2))"
   ]
  },
  {
   "cell_type": "code",
   "execution_count": 8,
   "metadata": {},
   "outputs": [
    {
     "name": "stdout",
     "output_type": "stream",
     "text": [
      "initial  value 259.236267 \n",
      "iter  10 value 118.873263\n",
      "iter  20 value 118.559429\n",
      "iter  20 value 118.559429\n",
      "iter  20 value 118.559429\n",
      "final  value 118.559429 \n",
      "converged\n",
      "\n",
      "Call:\n",
      "occu(formula = ~MDR + orario + precip + temper + vento + 1 ~ \n",
      "    alt_m + dominant + MDR + 1, data = arvicole, control = list(trace = 1, \n",
      "    maxit = 1e+07))\n",
      "\n",
      "Occupancy (logit-scale):\n",
      "                 Estimate    SE       z P(>|z|)\n",
      "(Intercept)        -1.149 0.663 -1.7326  0.0832\n",
      "alt_m              -1.190 0.631 -1.8853  0.0594\n",
      "dominantMuschio    -0.112 1.198 -0.0936  0.9255\n",
      "dominantOther_Sp    2.863 1.799  1.5916  0.1115\n",
      "MDR                 0.771 0.614  1.2556  0.2093\n",
      "\n",
      "Detection (logit-scale):\n",
      "            Estimate     SE      z  P(>|z|)\n",
      "(Intercept)  -6.1472 1.0980 -5.599 2.16e-08\n",
      "MDR           0.0244 0.1773  0.138 8.91e-01\n",
      "orarioTr      0.9751 0.5505  1.771 7.65e-02\n",
      "precip        0.4021 0.8097  0.497 6.19e-01\n",
      "temper        0.2242 0.0815  2.752 5.92e-03\n",
      "vento         0.3544 0.2803  1.265 2.06e-01\n",
      "\n",
      "AIC: 259.1189 \n",
      "Number of sites: 70\n",
      "optim convergence code: 0\n",
      "optim iterations: 41 \n",
      "Bootstrap iterations: 0 \n",
      "\n"
     ]
    }
   ],
   "source": [
    "best_model_2018_s2 <- occu(formula = ~MDR + orario + precip + temper + vento + 1 ~ \n",
    "    alt_m + dominant + MDR + 1, data = arvicole, control = list(trace = 1, \n",
    "    maxit = 1e+07))\n",
    "\n",
    "summary(best_model_2018_s2)"
   ]
  },
  {
   "cell_type": "code",
   "execution_count": null,
   "metadata": {},
   "outputs": [],
   "source": []
  },
  {
   "cell_type": "code",
   "execution_count": null,
   "metadata": {},
   "outputs": [],
   "source": []
  }
 ],
 "metadata": {
  "kernelspec": {
   "display_name": "R",
   "language": "R",
   "name": "ir"
  },
  "language_info": {
   "codemirror_mode": "r",
   "file_extension": ".r",
   "mimetype": "text/x-r-source",
   "name": "R",
   "pygments_lexer": "r",
   "version": "3.6.3"
  }
 },
 "nbformat": 4,
 "nbformat_minor": 4
}
