{
 "cells": [
  {
   "cell_type": "markdown",
   "metadata": {},
   "source": [
    "# Analisi Best Model Anno 2018 \n",
    "### Claudia Gabriela Ochoa Martinez (2020)\n",
    "\n",
    "#### Analizzando il best model fornito dalla funzione pdredge possiamo allora applicare la funzione predict (pacchetto unmarked) per effettuare ulteriori valutazione sulla bontà del modello. del intero anno 2018"
   ]
  },
  {
   "cell_type": "code",
   "execution_count": 1,
   "metadata": {},
   "outputs": [
    {
     "name": "stderr",
     "output_type": "stream",
     "text": [
      "Loading required package: lattice\n",
      "\n"
     ]
    }
   ],
   "source": [
    "library(unmarked)"
   ]
  },
  {
   "cell_type": "code",
   "execution_count": 2,
   "metadata": {},
   "outputs": [],
   "source": [
    "myunscale <- function (vals, norm.data, col.ids)  {\n",
    "    cols <- if (missing(col.ids)) 1:NCOL(vals) else col.ids\n",
    "    #if (length(cols) > NCOL(vals)) \n",
    "    #    stop(\"Incorrect dimension of data to unscale.\")\n",
    "    centers <- attr(norm.data, \"scaled:center\")[cols]\n",
    "    scales <- attr(norm.data, \"scaled:scale\")[cols]\n",
    "    unvals <- scale(vals[,cols], center = (-centers/scales), scale = 1/scales)\n",
    "    unvals <- cbind(unvals,vals[,-which(names(vals) %in% cols)])\n",
    "    attr(unvals, \"scaled:center\") <- attr(unvals, \"scaled:scale\") <- NULL\n",
    "    unvals\n",
    "}"
   ]
  },
  {
   "cell_type": "code",
   "execution_count": 3,
   "metadata": {},
   "outputs": [],
   "source": [
    "load('Dati-modelli\\\\multimodel_2018_78WH.RData')"
   ]
  },
  {
   "cell_type": "code",
   "execution_count": 4,
   "metadata": {},
   "outputs": [
    {
     "name": "stderr",
     "output_type": "stream",
     "text": [
      "Warning message:\n",
      "\"Some observations have been discarded because corresponding covariates were missing.\"\n",
      "Warning message:\n",
      "\"20 sites have been discarded because of missing data.\"\n"
     ]
    },
    {
     "name": "stdout",
     "output_type": "stream",
     "text": [
      "\n",
      "Call:\n",
      "occu(formula = ~MDR + orario + precip + temper + vento + 1 ~ \n",
      "    cop_veg_ottavi + I(cop_veg_ottavi^2) + dominant + IQR + 1, \n",
      "    data = arvicole, control = list(trace = 0, maxit = 1e+07))\n",
      "\n",
      "Occupancy (logit-scale):\n",
      "                    Estimate   SE     z P(>|z|)\n",
      "(Intercept)             38.6 34.5  1.12   0.263\n",
      "cop_veg_ottavi         -56.0 53.5 -1.05   0.296\n",
      "I(cop_veg_ottavi^2)    -73.7 66.7 -1.10   0.269\n",
      "dominantMuschio         66.2 55.5  1.19   0.233\n",
      "dominantOther_Sp        71.1 64.5  1.10   0.270\n",
      "IQR                     29.1 27.8  1.05   0.295\n",
      "\n",
      "Detection (logit-scale):\n",
      "            Estimate     SE      z  P(>|z|)\n",
      "(Intercept) -3.84126 0.6617 -5.805 6.45e-09\n",
      "MDR         -0.11984 0.1265 -0.947 3.43e-01\n",
      "orarioTr     0.71565 0.3511  2.039 4.15e-02\n",
      "precip       0.56926 0.5744  0.991 3.22e-01\n",
      "temper       0.00435 0.0463  0.094 9.25e-01\n",
      "vento        0.30298 0.2304  1.315 1.88e-01\n",
      "\n",
      "AIC: 485.9686 \n",
      "Number of sites: 50\n",
      "ID of sites removed due to NA: 51 52 53 54 55 56 57 58 59 60 61 62 63 64 65 66 67 68 69 70\n",
      "optim convergence code: 0\n",
      "optim iterations: 192 \n",
      "Bootstrap iterations: 0 \n",
      "\n"
     ]
    }
   ],
   "source": [
    "best_mod <- occu(formula = ~MDR + orario + precip + temper + vento + 1 ~ \n",
    "    cop_veg_ottavi + I(cop_veg_ottavi^2) + dominant + IQR + 1, \n",
    "    data = arvicole, control = list(trace = 0, maxit = 1e+07))\n",
    "summary(best_mod)\n"
   ]
  },
  {
   "cell_type": "code",
   "execution_count": 5,
   "metadata": {},
   "outputs": [
    {
     "data": {
      "text/html": [
       "<style>\n",
       ".list-inline {list-style: none; margin:0; padding: 0}\n",
       ".list-inline>li {display: inline-block}\n",
       ".list-inline>li:not(:last-child)::after {content: \"\\00b7\"; padding: 0 .5ex}\n",
       "</style>\n",
       "<ol class=list-inline><li>'Graminacee'</li><li>'Graminacee'</li><li>'Graminacee'</li><li>'Graminacee'</li><li>'Graminacee'</li><li>'Graminacee'</li></ol>\n"
      ],
      "text/latex": [
       "\\begin{enumerate*}\n",
       "\\item 'Graminacee'\n",
       "\\item 'Graminacee'\n",
       "\\item 'Graminacee'\n",
       "\\item 'Graminacee'\n",
       "\\item 'Graminacee'\n",
       "\\item 'Graminacee'\n",
       "\\end{enumerate*}\n"
      ],
      "text/markdown": [
       "1. 'Graminacee'\n",
       "2. 'Graminacee'\n",
       "3. 'Graminacee'\n",
       "4. 'Graminacee'\n",
       "5. 'Graminacee'\n",
       "6. 'Graminacee'\n",
       "\n",
       "\n"
      ],
      "text/plain": [
       "[1] \"Graminacee\" \"Graminacee\" \"Graminacee\" \"Graminacee\" \"Graminacee\"\n",
       "[6] \"Graminacee\""
      ]
     },
     "metadata": {},
     "output_type": "display_data"
    },
    {
     "data": {
      "text/html": [
       "<table>\n",
       "<caption>A data.frame: 6 × 12</caption>\n",
       "<thead>\n",
       "\t<tr><th></th><th scope=col>Diametro.roccia.1..cm.</th><th scope=col>Diametro.roccia.2..cm.</th><th scope=col>Diametro.roccia.3..cm.</th><th scope=col>alt_m</th><th scope=col>aspect_deg</th><th scope=col>slope_degr</th><th scope=col>n_species</th><th scope=col>MDR</th><th scope=col>IQR</th><th scope=col>Esp.tr</th><th scope=col>cop_veg_ottavi</th><th scope=col>dominant</th></tr>\n",
       "\t<tr><th></th><th scope=col>&lt;dbl&gt;</th><th scope=col>&lt;dbl&gt;</th><th scope=col>&lt;dbl&gt;</th><th scope=col>&lt;dbl&gt;</th><th scope=col>&lt;dbl&gt;</th><th scope=col>&lt;dbl&gt;</th><th scope=col>&lt;dbl&gt;</th><th scope=col>&lt;dbl&gt;</th><th scope=col>&lt;dbl&gt;</th><th scope=col>&lt;dbl&gt;</th><th scope=col>&lt;dbl&gt;</th><th scope=col>&lt;fct&gt;</th></tr>\n",
       "</thead>\n",
       "<tbody>\n",
       "\t<tr><th scope=row>1</th><td>-0.7999612</td><td> 0.4449731</td><td> 0.6121266</td><td>-0.9638930</td><td>-0.03990354</td><td>-0.004945912</td><td> 0.97220994</td><td> 0.65969346</td><td>-0.7248291</td><td>-2.7977585</td><td> 1.3660940</td><td>Graminacee</td></tr>\n",
       "\t<tr><th scope=row>2</th><td> 0.7678020</td><td>-0.7023655</td><td> 0.1200460</td><td>-1.1064717</td><td> 0.39997796</td><td> 0.341267903</td><td> 0.05432387</td><td> 0.05605239</td><td> 0.4943843</td><td>-1.1704790</td><td>-0.3135298</td><td>Graminacee</td></tr>\n",
       "\t<tr><th scope=row>3</th><td>-0.9071587</td><td> 0.2749970</td><td>-0.1449204</td><td>-1.1156660</td><td> 0.51727969</td><td>-1.505205774</td><td>-0.33905587</td><td>-0.36649637</td><td>-0.8052168</td><td>-0.7365377</td><td>-0.3135298</td><td>Graminacee</td></tr>\n",
       "\t<tr><th scope=row>4</th><td>-0.2639738</td><td>-0.9573296</td><td>-0.6370010</td><td>-1.1130010</td><td> 0.39264660</td><td>-0.581968936</td><td> 0.97220994</td><td>-1.15122977</td><td>-0.3764824</td><td>-1.1976003</td><td> 1.3660940</td><td>Graminacee</td></tr>\n",
       "\t<tr><th scope=row>5</th><td> 0.6070058</td><td>-0.7236125</td><td>-0.4288130</td><td>-1.0064001</td><td> 0.39997796</td><td>-0.235755121</td><td> 0.70995678</td><td>-0.81922717</td><td> 0.3470069</td><td>-1.1704790</td><td>-0.3135298</td><td>Graminacee</td></tr>\n",
       "\t<tr><th scope=row>6</th><td> 0.1514164</td><td>-0.9360826</td><td>-0.6370010</td><td>-0.9597622</td><td> 0.51727969</td><td>-0.697373540</td><td> 0.57883019</td><td>-1.15122977</td><td> 0.0254561</td><td>-0.7365377</td><td> 0.8062194</td><td>Graminacee</td></tr>\n",
       "</tbody>\n",
       "</table>\n"
      ],
      "text/latex": [
       "A data.frame: 6 × 12\n",
       "\\begin{tabular}{r|llllllllllll}\n",
       "  & Diametro.roccia.1..cm. & Diametro.roccia.2..cm. & Diametro.roccia.3..cm. & alt\\_m & aspect\\_deg & slope\\_degr & n\\_species & MDR & IQR & Esp.tr & cop\\_veg\\_ottavi & dominant\\\\\n",
       "  & <dbl> & <dbl> & <dbl> & <dbl> & <dbl> & <dbl> & <dbl> & <dbl> & <dbl> & <dbl> & <dbl> & <fct>\\\\\n",
       "\\hline\n",
       "\t1 & -0.7999612 &  0.4449731 &  0.6121266 & -0.9638930 & -0.03990354 & -0.004945912 &  0.97220994 &  0.65969346 & -0.7248291 & -2.7977585 &  1.3660940 & Graminacee\\\\\n",
       "\t2 &  0.7678020 & -0.7023655 &  0.1200460 & -1.1064717 &  0.39997796 &  0.341267903 &  0.05432387 &  0.05605239 &  0.4943843 & -1.1704790 & -0.3135298 & Graminacee\\\\\n",
       "\t3 & -0.9071587 &  0.2749970 & -0.1449204 & -1.1156660 &  0.51727969 & -1.505205774 & -0.33905587 & -0.36649637 & -0.8052168 & -0.7365377 & -0.3135298 & Graminacee\\\\\n",
       "\t4 & -0.2639738 & -0.9573296 & -0.6370010 & -1.1130010 &  0.39264660 & -0.581968936 &  0.97220994 & -1.15122977 & -0.3764824 & -1.1976003 &  1.3660940 & Graminacee\\\\\n",
       "\t5 &  0.6070058 & -0.7236125 & -0.4288130 & -1.0064001 &  0.39997796 & -0.235755121 &  0.70995678 & -0.81922717 &  0.3470069 & -1.1704790 & -0.3135298 & Graminacee\\\\\n",
       "\t6 &  0.1514164 & -0.9360826 & -0.6370010 & -0.9597622 &  0.51727969 & -0.697373540 &  0.57883019 & -1.15122977 &  0.0254561 & -0.7365377 &  0.8062194 & Graminacee\\\\\n",
       "\\end{tabular}\n"
      ],
      "text/markdown": [
       "\n",
       "A data.frame: 6 × 12\n",
       "\n",
       "| <!--/--> | Diametro.roccia.1..cm. &lt;dbl&gt; | Diametro.roccia.2..cm. &lt;dbl&gt; | Diametro.roccia.3..cm. &lt;dbl&gt; | alt_m &lt;dbl&gt; | aspect_deg &lt;dbl&gt; | slope_degr &lt;dbl&gt; | n_species &lt;dbl&gt; | MDR &lt;dbl&gt; | IQR &lt;dbl&gt; | Esp.tr &lt;dbl&gt; | cop_veg_ottavi &lt;dbl&gt; | dominant &lt;fct&gt; |\n",
       "|---|---|---|---|---|---|---|---|---|---|---|---|---|\n",
       "| 1 | -0.7999612 |  0.4449731 |  0.6121266 | -0.9638930 | -0.03990354 | -0.004945912 |  0.97220994 |  0.65969346 | -0.7248291 | -2.7977585 |  1.3660940 | Graminacee |\n",
       "| 2 |  0.7678020 | -0.7023655 |  0.1200460 | -1.1064717 |  0.39997796 |  0.341267903 |  0.05432387 |  0.05605239 |  0.4943843 | -1.1704790 | -0.3135298 | Graminacee |\n",
       "| 3 | -0.9071587 |  0.2749970 | -0.1449204 | -1.1156660 |  0.51727969 | -1.505205774 | -0.33905587 | -0.36649637 | -0.8052168 | -0.7365377 | -0.3135298 | Graminacee |\n",
       "| 4 | -0.2639738 | -0.9573296 | -0.6370010 | -1.1130010 |  0.39264660 | -0.581968936 |  0.97220994 | -1.15122977 | -0.3764824 | -1.1976003 |  1.3660940 | Graminacee |\n",
       "| 5 |  0.6070058 | -0.7236125 | -0.4288130 | -1.0064001 |  0.39997796 | -0.235755121 |  0.70995678 | -0.81922717 |  0.3470069 | -1.1704790 | -0.3135298 | Graminacee |\n",
       "| 6 |  0.1514164 | -0.9360826 | -0.6370010 | -0.9597622 |  0.51727969 | -0.697373540 |  0.57883019 | -1.15122977 |  0.0254561 | -0.7365377 |  0.8062194 | Graminacee |\n",
       "\n"
      ],
      "text/plain": [
       "  Diametro.roccia.1..cm. Diametro.roccia.2..cm. Diametro.roccia.3..cm.\n",
       "1 -0.7999612              0.4449731              0.6121266            \n",
       "2  0.7678020             -0.7023655              0.1200460            \n",
       "3 -0.9071587              0.2749970             -0.1449204            \n",
       "4 -0.2639738             -0.9573296             -0.6370010            \n",
       "5  0.6070058             -0.7236125             -0.4288130            \n",
       "6  0.1514164             -0.9360826             -0.6370010            \n",
       "  alt_m      aspect_deg  slope_degr   n_species   MDR         IQR       \n",
       "1 -0.9638930 -0.03990354 -0.004945912  0.97220994  0.65969346 -0.7248291\n",
       "2 -1.1064717  0.39997796  0.341267903  0.05432387  0.05605239  0.4943843\n",
       "3 -1.1156660  0.51727969 -1.505205774 -0.33905587 -0.36649637 -0.8052168\n",
       "4 -1.1130010  0.39264660 -0.581968936  0.97220994 -1.15122977 -0.3764824\n",
       "5 -1.0064001  0.39997796 -0.235755121  0.70995678 -0.81922717  0.3470069\n",
       "6 -0.9597622  0.51727969 -0.697373540  0.57883019 -1.15122977  0.0254561\n",
       "  Esp.tr     cop_veg_ottavi dominant  \n",
       "1 -2.7977585  1.3660940     Graminacee\n",
       "2 -1.1704790 -0.3135298     Graminacee\n",
       "3 -0.7365377 -0.3135298     Graminacee\n",
       "4 -1.1976003  1.3660940     Graminacee\n",
       "5 -1.1704790 -0.3135298     Graminacee\n",
       "6 -0.7365377  0.8062194     Graminacee"
      ]
     },
     "metadata": {},
     "output_type": "display_data"
    }
   ],
   "source": [
    "head(siteCovs_orig$dominant)\n",
    "head(siteCovs(arvicole))"
   ]
  },
  {
   "cell_type": "code",
   "execution_count": 6,
   "metadata": {},
   "outputs": [
    {
     "name": "stderr",
     "output_type": "stream",
     "text": [
      "Warning message:\n",
      "\"Some observations have been discarded because corresponding covariates were missing.\"\n",
      "Warning message:\n",
      "\"20 sites have been discarded because of missing data.\"\n",
      "Warning message:\n",
      "\"Some observations have been discarded because corresponding covariates were missing.\"\n",
      "Warning message:\n",
      "\"20 sites have been discarded because of missing data.\"\n"
     ]
    },
    {
     "data": {
      "text/html": [
       "<table>\n",
       "<caption>A matrix: 1 × 3 of type dbl</caption>\n",
       "<thead>\n",
       "\t<tr><th></th><th scope=col>Estimate</th><th scope=col>5%</th><th scope=col>95%</th></tr>\n",
       "</thead>\n",
       "<tbody>\n",
       "\t<tr><th scope=row>PAO</th><td>0.6615348</td><td>0.66</td><td>0.68</td></tr>\n",
       "</tbody>\n",
       "</table>\n"
      ],
      "text/latex": [
       "A matrix: 1 × 3 of type dbl\n",
       "\\begin{tabular}{r|lll}\n",
       "  & Estimate & 5\\% & 95\\%\\\\\n",
       "\\hline\n",
       "\tPAO & 0.6615348 & 0.66 & 0.68\\\\\n",
       "\\end{tabular}\n"
      ],
      "text/markdown": [
       "\n",
       "A matrix: 1 × 3 of type dbl\n",
       "\n",
       "| <!--/--> | Estimate | 5% | 95% |\n",
       "|---|---|---|---|\n",
       "| PAO | 0.6615348 | 0.66 | 0.68 |\n",
       "\n"
      ],
      "text/plain": [
       "    Estimate  5%   95% \n",
       "PAO 0.6615348 0.66 0.68"
      ]
     },
     "metadata": {},
     "output_type": "display_data"
    }
   ],
   "source": [
    "siti_considerati <- 70-length(best_mod@sitesRemoved) # In totale, al massimo nelle analisi consideriamo 70 siti, alcuni anni meno\n",
    "re <- ranef(best_mod)\n",
    "EBUP <- bup(re, stat=\"mean\")\n",
    "CI <- confint(re, level=0.90)\n",
    "rbind(PAO = c(Estimate = sum(EBUP), colSums(CI))/siti_considerati)"
   ]
  },
  {
   "cell_type": "code",
   "execution_count": 7,
   "metadata": {},
   "outputs": [
    {
     "data": {
      "text/html": [
       "<table>\n",
       "<caption>A data.frame: 6 × 7</caption>\n",
       "<thead>\n",
       "\t<tr><th></th><th scope=col>cop_veg_ottavi</th><th scope=col>IQR</th><th scope=col>Predicted</th><th scope=col>SE</th><th scope=col>lower</th><th scope=col>upper</th><th scope=col>dominant</th></tr>\n",
       "\t<tr><th></th><th scope=col>&lt;dbl&gt;</th><th scope=col>&lt;dbl&gt;</th><th scope=col>&lt;dbl&gt;</th><th scope=col>&lt;dbl&gt;</th><th scope=col>&lt;dbl&gt;</th><th scope=col>&lt;dbl&gt;</th><th scope=col>&lt;fct&gt;</th></tr>\n",
       "</thead>\n",
       "<tbody>\n",
       "\t<tr><th scope=row>295</th><td>6.646465</td><td>48.55</td><td>3.602763e-176</td><td>0</td><td>0</td><td>1</td><td>Other_Sp</td></tr>\n",
       "\t<tr><th scope=row>296</th><td>6.717172</td><td>48.55</td><td>5.594119e-183</td><td>0</td><td>0</td><td>1</td><td>Other_Sp</td></tr>\n",
       "\t<tr><th scope=row>297</th><td>6.787879</td><td>48.55</td><td>6.894983e-190</td><td>0</td><td>0</td><td>1</td><td>Other_Sp</td></tr>\n",
       "\t<tr><th scope=row>298</th><td>6.858586</td><td>48.55</td><td>6.745904e-197</td><td>0</td><td>0</td><td>1</td><td>Other_Sp</td></tr>\n",
       "\t<tr><th scope=row>299</th><td>6.929293</td><td>48.55</td><td>5.239049e-204</td><td>0</td><td>0</td><td>1</td><td>Other_Sp</td></tr>\n",
       "\t<tr><th scope=row>300</th><td>7.000000</td><td>48.55</td><td>3.229760e-211</td><td>0</td><td>0</td><td>1</td><td>Other_Sp</td></tr>\n",
       "</tbody>\n",
       "</table>\n"
      ],
      "text/latex": [
       "A data.frame: 6 × 7\n",
       "\\begin{tabular}{r|lllllll}\n",
       "  & cop\\_veg\\_ottavi & IQR & Predicted & SE & lower & upper & dominant\\\\\n",
       "  & <dbl> & <dbl> & <dbl> & <dbl> & <dbl> & <dbl> & <fct>\\\\\n",
       "\\hline\n",
       "\t295 & 6.646465 & 48.55 & 3.602763e-176 & 0 & 0 & 1 & Other\\_Sp\\\\\n",
       "\t296 & 6.717172 & 48.55 & 5.594119e-183 & 0 & 0 & 1 & Other\\_Sp\\\\\n",
       "\t297 & 6.787879 & 48.55 & 6.894983e-190 & 0 & 0 & 1 & Other\\_Sp\\\\\n",
       "\t298 & 6.858586 & 48.55 & 6.745904e-197 & 0 & 0 & 1 & Other\\_Sp\\\\\n",
       "\t299 & 6.929293 & 48.55 & 5.239049e-204 & 0 & 0 & 1 & Other\\_Sp\\\\\n",
       "\t300 & 7.000000 & 48.55 & 3.229760e-211 & 0 & 0 & 1 & Other\\_Sp\\\\\n",
       "\\end{tabular}\n"
      ],
      "text/markdown": [
       "\n",
       "A data.frame: 6 × 7\n",
       "\n",
       "| <!--/--> | cop_veg_ottavi &lt;dbl&gt; | IQR &lt;dbl&gt; | Predicted &lt;dbl&gt; | SE &lt;dbl&gt; | lower &lt;dbl&gt; | upper &lt;dbl&gt; | dominant &lt;fct&gt; |\n",
       "|---|---|---|---|---|---|---|---|\n",
       "| 295 | 6.646465 | 48.55 | 3.602763e-176 | 0 | 0 | 1 | Other_Sp |\n",
       "| 296 | 6.717172 | 48.55 | 5.594119e-183 | 0 | 0 | 1 | Other_Sp |\n",
       "| 297 | 6.787879 | 48.55 | 6.894983e-190 | 0 | 0 | 1 | Other_Sp |\n",
       "| 298 | 6.858586 | 48.55 | 6.745904e-197 | 0 | 0 | 1 | Other_Sp |\n",
       "| 299 | 6.929293 | 48.55 | 5.239049e-204 | 0 | 0 | 1 | Other_Sp |\n",
       "| 300 | 7.000000 | 48.55 | 3.229760e-211 | 0 | 0 | 1 | Other_Sp |\n",
       "\n"
      ],
      "text/plain": [
       "    cop_veg_ottavi IQR   Predicted     SE lower upper dominant\n",
       "295 6.646465       48.55 3.602763e-176 0  0     1     Other_Sp\n",
       "296 6.717172       48.55 5.594119e-183 0  0     1     Other_Sp\n",
       "297 6.787879       48.55 6.894983e-190 0  0     1     Other_Sp\n",
       "298 6.858586       48.55 6.745904e-197 0  0     1     Other_Sp\n",
       "299 6.929293       48.55 5.239049e-204 0  0     1     Other_Sp\n",
       "300 7.000000       48.55 3.229760e-211 0  0     1     Other_Sp"
      ]
     },
     "metadata": {},
     "output_type": "display_data"
    },
    {
     "data": {
      "image/png": "[encoded data removed]",
      "text/plain": [
       "plot without title"
      ]
     },
     "metadata": {
      "image/png": {
       "height": 420,
       "width": 420
      }
     },
     "output_type": "display_data"
    },
    {
     "data": {
      "image/png": "[encoded data removed]",
      "text/plain": [
       "plot without title"
      ]
     },
     "metadata": {
      "image/png": {
       "height": 420,
       "width": 420
      }
     },
     "output_type": "display_data"
    },
    {
     "data": {
      "image/png": "[encoded data removed]",
      "text/plain": [
       "plot without title"
      ]
     },
     "metadata": {
      "image/png": {
       "height": 420,
       "width": 420
      }
     },
     "output_type": "display_data"
    }
   ],
   "source": [
    "# VARIAMO cop_veg_ottavi\n",
    "\n",
    "df_indicato <- siteCovs(arvicole)\n",
    "\n",
    "cop_veg_ottavi.seq <- seq(min(df_indicato$cop_veg_ottavi, na.rm=TRUE), max(df_indicato$cop_veg_ottavi, na.rm=TRUE), length=100)\n",
    "IQR.seq <- seq(min(df_indicato$IQR), max(df_indicato$IQR), length=100)\n",
    "\n",
    "newdat_graminacee <- data.frame(\n",
    "    cop_veg_ottavi = cop_veg_ottavi.seq,\n",
    "    IQR = mean(df_indicato$IQR),\n",
    "    dominant = \"Graminacee\"\n",
    ")   \n",
    "newdat_muschio <- data.frame(\n",
    "    cop_veg_ottavi = cop_veg_ottavi.seq,\n",
    "    IQR = mean(df_indicato$IQR),\n",
    "    dominant = \"Muschio\"\n",
    ")\n",
    "newdat_other <- data.frame(\n",
    "    cop_veg_ottavi = cop_veg_ottavi.seq,\n",
    "    IQR = mean(df_indicato$IQR),\n",
    "    dominant = \"Other_Sp\"\n",
    ")\n",
    "newdata <- rbind(newdat_graminacee,newdat_muschio,newdat_other)\n",
    "\n",
    "## PREDICTION \n",
    "Elambda <- predict(best_mod, \n",
    "        type='state', \n",
    "        newdata = newdata,\n",
    "        appendData = TRUE)\n",
    "\n",
    "Elambda_unscaled <- myunscale(Elambda, siteCovs_scaled, c(\"cop_veg_ottavi\",\"IQR\"))\n",
    "tail(Elambda_unscaled)\n",
    "\n",
    "### grafici \n",
    "with(subset(Elambda_unscaled,dominant==\"Graminacee\"), {\n",
    "  plot(cop_veg_ottavi, Predicted, xlab=\"cop_veg_ottavi\", type=\"l\", # names = habitat,\n",
    "       ylab=\"Probabilità di effettiva presenza con sp. Graminacee\", #ylim=c(-20, 40), # cex.names=0.7,\n",
    "       cex.lab=0.7, cex.axis=0.7, lwd=2, col=\"red\")\n",
    "   lines(cop_veg_ottavi, Predicted+SE, lty=3, col=\"dark grey\")\n",
    "   lines(cop_veg_ottavi, Predicted-SE, lty=3, col=\"dark grey\")\n",
    "})\n",
    "with(subset(Elambda_unscaled,dominant==\"Muschio\"), {\n",
    "  plot(cop_veg_ottavi, Predicted, xlab=\"cop_veg_ottavi\", type=\"l\", # names = habitat,\n",
    "       ylab=\"Probabilità di effettiva presenza con sp. Muschio\", #ylim=c(-20, 40), # cex.names=0.7,\n",
    "       cex.lab=0.7, cex.axis=0.7, lwd=2, col=\"red\")\n",
    "   lines(cop_veg_ottavi, Predicted+SE, lty=3, col=\"dark grey\")\n",
    "   lines(cop_veg_ottavi, Predicted-SE, lty=3, col=\"dark grey\")\n",
    "})\n",
    "\n",
    "with(subset(Elambda_unscaled,dominant==\"Other_Sp\"), {\n",
    "  plot(cop_veg_ottavi, Predicted, xlab=\"cop_veg_ottavi\", type=\"l\", # names = habitat,\n",
    "       ylab=\"Probabilità di effettiva presenza con sp. Other_Sp\", #ylim=c(-20, 40), # cex.names=0.7,\n",
    "       cex.lab=0.7, cex.axis=0.7, lwd=2, col=\"red\")\n",
    "   lines(cop_veg_ottavi, Predicted+SE, lty=3, col=\"dark grey\")\n",
    "   lines(cop_veg_ottavi, Predicted-SE, lty=3, col=\"dark grey\")\n",
    "})"
   ]
  },
  {
   "cell_type": "code",
   "execution_count": 8,
   "metadata": {},
   "outputs": [
    {
     "data": {
      "text/html": [
       "<table>\n",
       "<caption>A data.frame: 6 × 7</caption>\n",
       "<thead>\n",
       "\t<tr><th></th><th scope=col>cop_veg_ottavi</th><th scope=col>IQR</th><th scope=col>Predicted</th><th scope=col>SE</th><th scope=col>lower</th><th scope=col>upper</th><th scope=col>dominant</th></tr>\n",
       "\t<tr><th></th><th scope=col>&lt;dbl&gt;</th><th scope=col>&lt;dbl&gt;</th><th scope=col>&lt;dbl&gt;</th><th scope=col>&lt;dbl&gt;</th><th scope=col>&lt;dbl&gt;</th><th scope=col>&lt;dbl&gt;</th><th scope=col>&lt;fct&gt;</th></tr>\n",
       "</thead>\n",
       "<tbody>\n",
       "\t<tr><th scope=row>295</th><td>2.56</td><td>188.2778</td><td>1</td><td>2.018577e-93</td><td>1.328290e-77</td><td>1</td><td>Other_Sp</td></tr>\n",
       "\t<tr><th scope=row>296</th><td>2.56</td><td>190.2222</td><td>1</td><td>4.462126e-94</td><td>3.568456e-78</td><td>1</td><td>Other_Sp</td></tr>\n",
       "\t<tr><th scope=row>297</th><td>2.56</td><td>192.1667</td><td>1</td><td>9.863170e-95</td><td>9.585958e-79</td><td>1</td><td>Other_Sp</td></tr>\n",
       "\t<tr><th scope=row>298</th><td>2.56</td><td>194.1111</td><td>1</td><td>2.180066e-95</td><td>2.574893e-79</td><td>1</td><td>Other_Sp</td></tr>\n",
       "\t<tr><th scope=row>299</th><td>2.56</td><td>196.0556</td><td>1</td><td>4.818386e-96</td><td>6.915950e-80</td><td>1</td><td>Other_Sp</td></tr>\n",
       "\t<tr><th scope=row>300</th><td>2.56</td><td>198.0000</td><td>1</td><td>1.064909e-96</td><td>1.857437e-80</td><td>1</td><td>Other_Sp</td></tr>\n",
       "</tbody>\n",
       "</table>\n"
      ],
      "text/latex": [
       "A data.frame: 6 × 7\n",
       "\\begin{tabular}{r|lllllll}\n",
       "  & cop\\_veg\\_ottavi & IQR & Predicted & SE & lower & upper & dominant\\\\\n",
       "  & <dbl> & <dbl> & <dbl> & <dbl> & <dbl> & <dbl> & <fct>\\\\\n",
       "\\hline\n",
       "\t295 & 2.56 & 188.2778 & 1 & 2.018577e-93 & 1.328290e-77 & 1 & Other\\_Sp\\\\\n",
       "\t296 & 2.56 & 190.2222 & 1 & 4.462126e-94 & 3.568456e-78 & 1 & Other\\_Sp\\\\\n",
       "\t297 & 2.56 & 192.1667 & 1 & 9.863170e-95 & 9.585958e-79 & 1 & Other\\_Sp\\\\\n",
       "\t298 & 2.56 & 194.1111 & 1 & 2.180066e-95 & 2.574893e-79 & 1 & Other\\_Sp\\\\\n",
       "\t299 & 2.56 & 196.0556 & 1 & 4.818386e-96 & 6.915950e-80 & 1 & Other\\_Sp\\\\\n",
       "\t300 & 2.56 & 198.0000 & 1 & 1.064909e-96 & 1.857437e-80 & 1 & Other\\_Sp\\\\\n",
       "\\end{tabular}\n"
      ],
      "text/markdown": [
       "\n",
       "A data.frame: 6 × 7\n",
       "\n",
       "| <!--/--> | cop_veg_ottavi &lt;dbl&gt; | IQR &lt;dbl&gt; | Predicted &lt;dbl&gt; | SE &lt;dbl&gt; | lower &lt;dbl&gt; | upper &lt;dbl&gt; | dominant &lt;fct&gt; |\n",
       "|---|---|---|---|---|---|---|---|\n",
       "| 295 | 2.56 | 188.2778 | 1 | 2.018577e-93 | 1.328290e-77 | 1 | Other_Sp |\n",
       "| 296 | 2.56 | 190.2222 | 1 | 4.462126e-94 | 3.568456e-78 | 1 | Other_Sp |\n",
       "| 297 | 2.56 | 192.1667 | 1 | 9.863170e-95 | 9.585958e-79 | 1 | Other_Sp |\n",
       "| 298 | 2.56 | 194.1111 | 1 | 2.180066e-95 | 2.574893e-79 | 1 | Other_Sp |\n",
       "| 299 | 2.56 | 196.0556 | 1 | 4.818386e-96 | 6.915950e-80 | 1 | Other_Sp |\n",
       "| 300 | 2.56 | 198.0000 | 1 | 1.064909e-96 | 1.857437e-80 | 1 | Other_Sp |\n",
       "\n"
      ],
      "text/plain": [
       "    cop_veg_ottavi IQR      Predicted SE           lower        upper dominant\n",
       "295 2.56           188.2778 1         2.018577e-93 1.328290e-77 1     Other_Sp\n",
       "296 2.56           190.2222 1         4.462126e-94 3.568456e-78 1     Other_Sp\n",
       "297 2.56           192.1667 1         9.863170e-95 9.585958e-79 1     Other_Sp\n",
       "298 2.56           194.1111 1         2.180066e-95 2.574893e-79 1     Other_Sp\n",
       "299 2.56           196.0556 1         4.818386e-96 6.915950e-80 1     Other_Sp\n",
       "300 2.56           198.0000 1         1.064909e-96 1.857437e-80 1     Other_Sp"
      ]
     },
     "metadata": {},
     "output_type": "display_data"
    },
    {
     "data": {
      "image/png": "[encoded data removed]",
      "text/plain": [
       "plot without title"
      ]
     },
     "metadata": {
      "image/png": {
       "height": 420,
       "width": 420
      }
     },
     "output_type": "display_data"
    },
    {
     "data": {
      "image/png": "[encoded data removed]",
      "text/plain": [
       "plot without title"
      ]
     },
     "metadata": {
      "image/png": {
       "height": 420,
       "width": 420
      }
     },
     "output_type": "display_data"
    },
    {
     "data": {
      "image/png": "[encoded data removed]",
      "text/plain": [
       "plot without title"
      ]
     },
     "metadata": {
      "image/png": {
       "height": 420,
       "width": 420
      }
     },
     "output_type": "display_data"
    }
   ],
   "source": [
    "# VARIAMO IQR \n",
    "df_indicato <- siteCovs(arvicole)\n",
    "\n",
    "cop_veg_ottavi.seq <- seq(min(df_indicato$cop_veg_ottavi, na.rm=TRUE), max(df_indicato$cop_veg_ottavi, na.rm=TRUE), length=100)\n",
    "IQR.seq <- seq(min(df_indicato$IQR), max(df_indicato$IQR), length=100)\n",
    "\n",
    "newdat_graminacee <- data.frame(\n",
    "    cop_veg_ottavi = mean(df_indicato$cop_veg_ottavi, na.rm=TRUE),\n",
    "    IQR = IQR.seq,\n",
    "    dominant = \"Graminacee\"\n",
    ")   \n",
    "newdat_muschio <- data.frame(\n",
    "    cop_veg_ottavi = mean(df_indicato$cop_veg_ottavi, na.rm=TRUE),\n",
    "    IQR = IQR.seq,\n",
    "    dominant = \"Muschio\"\n",
    ")\n",
    "newdat_other <- data.frame(\n",
    "    cop_veg_ottavi = mean(df_indicato$cop_veg_ottavi, na.rm=TRUE),\n",
    "    IQR = IQR.seq,\n",
    "    dominant = \"Other_Sp\"\n",
    ")\n",
    "newdata <- rbind(newdat_graminacee,newdat_muschio,newdat_other)\n",
    "\n",
    "## PREDICTION \n",
    "Elambda <- predict(best_mod, \n",
    "        type='state', \n",
    "        newdata = newdata,\n",
    "        appendData = TRUE)\n",
    "\n",
    "Elambda_unscaled <- myunscale(Elambda, siteCovs_scaled, c(\"cop_veg_ottavi\",\"IQR\"))\n",
    "tail(Elambda_unscaled)\n",
    "\n",
    "### grafici \n",
    "with(subset(Elambda_unscaled,dominant==\"Graminacee\"), {\n",
    "  plot(IQR, Predicted, xlab=\"IQR\", type=\"l\", # names = habitat,\n",
    "       ylab=\"Probabilità di effettiva presenza con sp. Graminacee\", #ylim=c(-20, 40), # cex.names=0.7,\n",
    "       cex.lab=0.7, cex.axis=0.7, lwd=2, col=\"red\")\n",
    "   lines(IQR, Predicted+SE, lty=3, col=\"dark grey\")\n",
    "   lines(IQR, Predicted-SE, lty=3, col=\"dark grey\")\n",
    "})\n",
    "with(subset(Elambda_unscaled,dominant==\"Muschio\"), {\n",
    "  plot(IQR, Predicted, xlab=\"IQR\", type=\"l\", # names = habitat,\n",
    "       ylab=\"Probabilità di effettiva presenza con sp. Muschio\", #ylim=c(-20, 40), # cex.names=0.7,\n",
    "       cex.lab=0.7, cex.axis=0.7, lwd=2, col=\"red\")\n",
    "   lines(IQR, Predicted+SE, lty=3, col=\"dark grey\")\n",
    "   lines(IQR, Predicted-SE, lty=3, col=\"dark grey\")\n",
    "})\n",
    "\n",
    "with(subset(Elambda_unscaled,dominant==\"Other_Sp\"), {\n",
    "  plot(IQR, Predicted, xlab=\"IQR\", type=\"l\", # names = habitat,\n",
    "       ylab=\"Probabilità di effettiva presenza con sp. Other_Sp\", #ylim=c(-20, 40), # cex.names=0.7,\n",
    "       cex.lab=0.7, cex.axis=0.7, lwd=2, col=\"red\")\n",
    "   lines(IQR, Predicted+SE, lty=3, col=\"dark grey\")\n",
    "   lines(IQR, Predicted-SE, lty=3, col=\"dark grey\")\n",
    "})\n",
    "\n",
    "## RISULTATO: IQR NON SEMBRA AVERE EFFETTO SULLA PREDIZIONE"
   ]
  },
  {
   "cell_type": "markdown",
   "metadata": {},
   "source": [
    "### Proseguiamo con ulteriori valutazioni sulla temperatura, precipitazioni, vento ed orario di cattura"
   ]
  },
  {
   "cell_type": "code",
   "execution_count": 9,
   "metadata": {},
   "outputs": [
    {
     "data": {
      "text/html": [
       "<table>\n",
       "<caption>A data.frame: 6 × 9</caption>\n",
       "<thead>\n",
       "\t<tr><th></th><th scope=col>unvals</th><th scope=col>Predicted</th><th scope=col>SE</th><th scope=col>lower</th><th scope=col>upper</th><th scope=col>temper</th><th scope=col>orario</th><th scope=col>vento</th><th scope=col>precip</th></tr>\n",
       "\t<tr><th></th><th scope=col>&lt;dbl&gt;</th><th scope=col>&lt;dbl&gt;</th><th scope=col>&lt;dbl&gt;</th><th scope=col>&lt;dbl&gt;</th><th scope=col>&lt;dbl&gt;</th><th scope=col>&lt;dbl&gt;</th><th scope=col>&lt;fct&gt;</th><th scope=col>&lt;dbl&gt;</th><th scope=col>&lt;dbl&gt;</th></tr>\n",
       "</thead>\n",
       "<tbody>\n",
       "\t<tr><th scope=row>95</th><td>74.14286</td><td>0.07200481</td><td>0.01958216</td><td>0.04185947</td><td>0.1211153</td><td>16.73333</td><td>Tr</td><td>1.531429</td><td>0.05714286</td></tr>\n",
       "\t<tr><th scope=row>96</th><td>74.14286</td><td>0.07204358</td><td>0.01989884</td><td>0.04152310</td><td>0.1221387</td><td>16.86667</td><td>Tr</td><td>1.531429</td><td>0.05714286</td></tr>\n",
       "\t<tr><th scope=row>97</th><td>74.14286</td><td>0.07208237</td><td>0.02021960</td><td>0.04118496</td><td>0.1231814</td><td>17.00000</td><td>Tr</td><td>1.531429</td><td>0.05714286</td></tr>\n",
       "\t<tr><th scope=row>98</th><td>74.14286</td><td>0.07212117</td><td>0.02054425</td><td>0.04084534</td><td>0.1242432</td><td>17.13333</td><td>Tr</td><td>1.531429</td><td>0.05714286</td></tr>\n",
       "\t<tr><th scope=row>99</th><td>74.14286</td><td>0.07216000</td><td>0.02087266</td><td>0.04050450</td><td>0.1253239</td><td>17.26667</td><td>Tr</td><td>1.531429</td><td>0.05714286</td></tr>\n",
       "\t<tr><th scope=row>100</th><td>74.14286</td><td>0.07219885</td><td>0.02120467</td><td>0.04016268</td><td>0.1264232</td><td>17.40000</td><td>Tr</td><td>1.531429</td><td>0.05714286</td></tr>\n",
       "</tbody>\n",
       "</table>\n"
      ],
      "text/latex": [
       "A data.frame: 6 × 9\n",
       "\\begin{tabular}{r|lllllllll}\n",
       "  & unvals & Predicted & SE & lower & upper & temper & orario & vento & precip\\\\\n",
       "  & <dbl> & <dbl> & <dbl> & <dbl> & <dbl> & <dbl> & <fct> & <dbl> & <dbl>\\\\\n",
       "\\hline\n",
       "\t95 & 74.14286 & 0.07200481 & 0.01958216 & 0.04185947 & 0.1211153 & 16.73333 & Tr & 1.531429 & 0.05714286\\\\\n",
       "\t96 & 74.14286 & 0.07204358 & 0.01989884 & 0.04152310 & 0.1221387 & 16.86667 & Tr & 1.531429 & 0.05714286\\\\\n",
       "\t97 & 74.14286 & 0.07208237 & 0.02021960 & 0.04118496 & 0.1231814 & 17.00000 & Tr & 1.531429 & 0.05714286\\\\\n",
       "\t98 & 74.14286 & 0.07212117 & 0.02054425 & 0.04084534 & 0.1242432 & 17.13333 & Tr & 1.531429 & 0.05714286\\\\\n",
       "\t99 & 74.14286 & 0.07216000 & 0.02087266 & 0.04050450 & 0.1253239 & 17.26667 & Tr & 1.531429 & 0.05714286\\\\\n",
       "\t100 & 74.14286 & 0.07219885 & 0.02120467 & 0.04016268 & 0.1264232 & 17.40000 & Tr & 1.531429 & 0.05714286\\\\\n",
       "\\end{tabular}\n"
      ],
      "text/markdown": [
       "\n",
       "A data.frame: 6 × 9\n",
       "\n",
       "| <!--/--> | unvals &lt;dbl&gt; | Predicted &lt;dbl&gt; | SE &lt;dbl&gt; | lower &lt;dbl&gt; | upper &lt;dbl&gt; | temper &lt;dbl&gt; | orario &lt;fct&gt; | vento &lt;dbl&gt; | precip &lt;dbl&gt; |\n",
       "|---|---|---|---|---|---|---|---|---|---|\n",
       "| 95 | 74.14286 | 0.07200481 | 0.01958216 | 0.04185947 | 0.1211153 | 16.73333 | Tr | 1.531429 | 0.05714286 |\n",
       "| 96 | 74.14286 | 0.07204358 | 0.01989884 | 0.04152310 | 0.1221387 | 16.86667 | Tr | 1.531429 | 0.05714286 |\n",
       "| 97 | 74.14286 | 0.07208237 | 0.02021960 | 0.04118496 | 0.1231814 | 17.00000 | Tr | 1.531429 | 0.05714286 |\n",
       "| 98 | 74.14286 | 0.07212117 | 0.02054425 | 0.04084534 | 0.1242432 | 17.13333 | Tr | 1.531429 | 0.05714286 |\n",
       "| 99 | 74.14286 | 0.07216000 | 0.02087266 | 0.04050450 | 0.1253239 | 17.26667 | Tr | 1.531429 | 0.05714286 |\n",
       "| 100 | 74.14286 | 0.07219885 | 0.02120467 | 0.04016268 | 0.1264232 | 17.40000 | Tr | 1.531429 | 0.05714286 |\n",
       "\n"
      ],
      "text/plain": [
       "    unvals   Predicted  SE         lower      upper     temper   orario\n",
       "95  74.14286 0.07200481 0.01958216 0.04185947 0.1211153 16.73333 Tr    \n",
       "96  74.14286 0.07204358 0.01989884 0.04152310 0.1221387 16.86667 Tr    \n",
       "97  74.14286 0.07208237 0.02021960 0.04118496 0.1231814 17.00000 Tr    \n",
       "98  74.14286 0.07212117 0.02054425 0.04084534 0.1242432 17.13333 Tr    \n",
       "99  74.14286 0.07216000 0.02087266 0.04050450 0.1253239 17.26667 Tr    \n",
       "100 74.14286 0.07219885 0.02120467 0.04016268 0.1264232 17.40000 Tr    \n",
       "    vento    precip    \n",
       "95  1.531429 0.05714286\n",
       "96  1.531429 0.05714286\n",
       "97  1.531429 0.05714286\n",
       "98  1.531429 0.05714286\n",
       "99  1.531429 0.05714286\n",
       "100 1.531429 0.05714286"
      ]
     },
     "metadata": {},
     "output_type": "display_data"
    },
    {
     "data": {
      "image/png": "[encoded data removed]",
      "text/plain": [
       "plot without title"
      ]
     },
     "metadata": {
      "image/png": {
       "height": 420,
       "width": 420
      }
     },
     "output_type": "display_data"
    }
   ],
   "source": [
    "#### FACCIAMO VARIARE LA TEMPERATURA\n",
    "df_indicato <- siteCovs(arvicole)\n",
    "df_indicato2 <- obsCovs(arvicole)\n",
    "\n",
    "MDR.seq <- seq(min(df_indicato$MDR), max(df_indicato$MDR), length=100)\n",
    "temper.seq <- seq(min(df_indicato2$temper), max(df_indicato2$temper), length=100)\n",
    "vento.seq <- seq(min(df_indicato2$vento), max(df_indicato2$vento), length=100)\n",
    "precip.seq <- seq(min(df_indicato2$precip), max(df_indicato2$precip), length=100)\n",
    "\n",
    "newdat_tempTr <- data.frame(\n",
    "    MDR = mean(df_indicato$MDR),\n",
    "    temper = temper.seq,\n",
    "    orario = \"Tr\",\n",
    "    vento = mean(df_indicato2$vento),\n",
    "    precip = mean(df_indicato2$precip)\n",
    ")\n",
    "\n",
    "# PREDICT\n",
    "Elambda <- predict(best_mod, \n",
    "        type='det', \n",
    "        newdata = newdat_tempTr,\n",
    "        appendData = TRUE)\n",
    "\n",
    "Elambda_unscaled <- myunscale(Elambda, siteCovs_scaled, c(\"MDR\"))\n",
    "tail(Elambda_unscaled)\n",
    "\n",
    "#GRAFICI\n",
    "\n",
    "with(Elambda_unscaled, {\n",
    "    plot(temper, Predicted, xlab=\"Temperatura\", type =\"b\",\n",
    "        ylab=\"Probabilità di cattura\",\n",
    "        cex.lab=0.7, lwd=2, col=\"red\")\n",
    "    lines(temper , Predicted+SE, lty=3, col=\"dark grey\")\n",
    "    lines(temper , Predicted-SE, lty=3, col=\"dark grey\")\n",
    "})  "
   ]
  },
  {
   "cell_type": "code",
   "execution_count": 19,
   "metadata": {},
   "outputs": [
    {
     "data": {
      "text/html": [
       "<table>\n",
       "<caption>A data.frame: 6 × 9</caption>\n",
       "<thead>\n",
       "\t<tr><th></th><th scope=col>unvals</th><th scope=col>Predicted</th><th scope=col>SE</th><th scope=col>lower</th><th scope=col>upper</th><th scope=col>temper</th><th scope=col>orario</th><th scope=col>vento</th><th scope=col>precip</th></tr>\n",
       "\t<tr><th></th><th scope=col>&lt;dbl&gt;</th><th scope=col>&lt;dbl&gt;</th><th scope=col>&lt;dbl&gt;</th><th scope=col>&lt;dbl&gt;</th><th scope=col>&lt;dbl&gt;</th><th scope=col>&lt;dbl&gt;</th><th scope=col>&lt;fct&gt;</th><th scope=col>&lt;dbl&gt;</th><th scope=col>&lt;dbl&gt;</th></tr>\n",
       "</thead>\n",
       "<tbody>\n",
       "\t<tr><th scope=row>95</th><td>74.14286</td><td>0.1120780</td><td>0.05857289</td><td>0.03829924</td><td>0.2857524</td><td>11.82</td><td>Tr</td><td>1.531429</td><td>0.9494949</td></tr>\n",
       "\t<tr><th scope=row>96</th><td>74.14286</td><td>0.1126515</td><td>0.05938285</td><td>0.03811551</td><td>0.2891319</td><td>11.82</td><td>Tr</td><td>1.531429</td><td>0.9595960</td></tr>\n",
       "\t<tr><th scope=row>97</th><td>74.14286</td><td>0.1132276</td><td>0.06019908</td><td>0.03793219</td><td>0.2925374</td><td>11.82</td><td>Tr</td><td>1.531429</td><td>0.9696970</td></tr>\n",
       "\t<tr><th scope=row>98</th><td>74.14286</td><td>0.1138062</td><td>0.06102159</td><td>0.03774931</td><td>0.2959688</td><td>11.82</td><td>Tr</td><td>1.531429</td><td>0.9797980</td></tr>\n",
       "\t<tr><th scope=row>99</th><td>74.14286</td><td>0.1143875</td><td>0.06185040</td><td>0.03756688</td><td>0.2994256</td><td>11.82</td><td>Tr</td><td>1.531429</td><td>0.9898990</td></tr>\n",
       "\t<tr><th scope=row>100</th><td>74.14286</td><td>0.1149712</td><td>0.06268550</td><td>0.03738491</td><td>0.3029077</td><td>11.82</td><td>Tr</td><td>1.531429</td><td>1.0000000</td></tr>\n",
       "</tbody>\n",
       "</table>\n"
      ],
      "text/latex": [
       "A data.frame: 6 × 9\n",
       "\\begin{tabular}{r|lllllllll}\n",
       "  & unvals & Predicted & SE & lower & upper & temper & orario & vento & precip\\\\\n",
       "  & <dbl> & <dbl> & <dbl> & <dbl> & <dbl> & <dbl> & <fct> & <dbl> & <dbl>\\\\\n",
       "\\hline\n",
       "\t95 & 74.14286 & 0.1120780 & 0.05857289 & 0.03829924 & 0.2857524 & 11.82 & Tr & 1.531429 & 0.9494949\\\\\n",
       "\t96 & 74.14286 & 0.1126515 & 0.05938285 & 0.03811551 & 0.2891319 & 11.82 & Tr & 1.531429 & 0.9595960\\\\\n",
       "\t97 & 74.14286 & 0.1132276 & 0.06019908 & 0.03793219 & 0.2925374 & 11.82 & Tr & 1.531429 & 0.9696970\\\\\n",
       "\t98 & 74.14286 & 0.1138062 & 0.06102159 & 0.03774931 & 0.2959688 & 11.82 & Tr & 1.531429 & 0.9797980\\\\\n",
       "\t99 & 74.14286 & 0.1143875 & 0.06185040 & 0.03756688 & 0.2994256 & 11.82 & Tr & 1.531429 & 0.9898990\\\\\n",
       "\t100 & 74.14286 & 0.1149712 & 0.06268550 & 0.03738491 & 0.3029077 & 11.82 & Tr & 1.531429 & 1.0000000\\\\\n",
       "\\end{tabular}\n"
      ],
      "text/markdown": [
       "\n",
       "A data.frame: 6 × 9\n",
       "\n",
       "| <!--/--> | unvals &lt;dbl&gt; | Predicted &lt;dbl&gt; | SE &lt;dbl&gt; | lower &lt;dbl&gt; | upper &lt;dbl&gt; | temper &lt;dbl&gt; | orario &lt;fct&gt; | vento &lt;dbl&gt; | precip &lt;dbl&gt; |\n",
       "|---|---|---|---|---|---|---|---|---|---|\n",
       "| 95 | 74.14286 | 0.1120780 | 0.05857289 | 0.03829924 | 0.2857524 | 11.82 | Tr | 1.531429 | 0.9494949 |\n",
       "| 96 | 74.14286 | 0.1126515 | 0.05938285 | 0.03811551 | 0.2891319 | 11.82 | Tr | 1.531429 | 0.9595960 |\n",
       "| 97 | 74.14286 | 0.1132276 | 0.06019908 | 0.03793219 | 0.2925374 | 11.82 | Tr | 1.531429 | 0.9696970 |\n",
       "| 98 | 74.14286 | 0.1138062 | 0.06102159 | 0.03774931 | 0.2959688 | 11.82 | Tr | 1.531429 | 0.9797980 |\n",
       "| 99 | 74.14286 | 0.1143875 | 0.06185040 | 0.03756688 | 0.2994256 | 11.82 | Tr | 1.531429 | 0.9898990 |\n",
       "| 100 | 74.14286 | 0.1149712 | 0.06268550 | 0.03738491 | 0.3029077 | 11.82 | Tr | 1.531429 | 1.0000000 |\n",
       "\n"
      ],
      "text/plain": [
       "    unvals   Predicted SE         lower      upper     temper orario vento   \n",
       "95  74.14286 0.1120780 0.05857289 0.03829924 0.2857524 11.82  Tr     1.531429\n",
       "96  74.14286 0.1126515 0.05938285 0.03811551 0.2891319 11.82  Tr     1.531429\n",
       "97  74.14286 0.1132276 0.06019908 0.03793219 0.2925374 11.82  Tr     1.531429\n",
       "98  74.14286 0.1138062 0.06102159 0.03774931 0.2959688 11.82  Tr     1.531429\n",
       "99  74.14286 0.1143875 0.06185040 0.03756688 0.2994256 11.82  Tr     1.531429\n",
       "100 74.14286 0.1149712 0.06268550 0.03738491 0.3029077 11.82  Tr     1.531429\n",
       "    precip   \n",
       "95  0.9494949\n",
       "96  0.9595960\n",
       "97  0.9696970\n",
       "98  0.9797980\n",
       "99  0.9898990\n",
       "100 1.0000000"
      ]
     },
     "metadata": {},
     "output_type": "display_data"
    },
    {
     "data": {
      "image/png": "[encoded data removed]",
      "text/plain": [
       "plot without title"
      ]
     },
     "metadata": {
      "image/png": {
       "height": 420,
       "width": 420
      }
     },
     "output_type": "display_data"
    }
   ],
   "source": [
    "#### FACCIAMO VARIARE LA TEMPERATURA\n",
    "df_indicato <- siteCovs(arvicole)\n",
    "df_indicato2 <- obsCovs(arvicole)\n",
    "\n",
    "MDR.seq <- seq(min(df_indicato$MDR), max(df_indicato$MDR), length=100)\n",
    "temper.seq <- seq(min(df_indicato2$temper), max(df_indicato2$temper), length=100)\n",
    "vento.seq <- seq(min(df_indicato2$vento), max(df_indicato2$vento), length=100)\n",
    "precip.seq <- seq(min(df_indicato2$precip), max(df_indicato2$precip), length=100)\n",
    "\n",
    "newdat_tempTr <- data.frame(\n",
    "    MDR = mean(df_indicato$MDR),\n",
    "    temper = mean(df_indicato2$temper),\n",
    "    orario = \"Tr\",\n",
    "    vento = mean(df_indicato2$vento),\n",
    "    precip = precip.seq\n",
    ")\n",
    "\n",
    "# PREDICT\n",
    "Elambda <- predict(best_mod, \n",
    "        type='det', \n",
    "        newdata = newdat_tempTr,\n",
    "        appendData = TRUE)\n",
    "\n",
    "Elambda_unscaled <- myunscale(Elambda, siteCovs_scaled, c(\"MDR\"))\n",
    "tail(Elambda_unscaled)\n",
    "\n",
    "#GRAFICI\n",
    "\n",
    "with(Elambda_unscaled, {\n",
    "    plot(precip, Predicted, xlab=\"Precipitazioni\",\n",
    "        ylab=\"Probabilità di cattura\",\n",
    "        cex.lab=0.7, lwd=2, col=\"red\")\n",
    "    lines(precip , Predicted+SE, lty=3, col=\"dark grey\")\n",
    "   lines(precip , Predicted-SE, lty=3, col=\"dark grey\")\n",
    "})  \n",
    "\n",
    "# SI TRATTA PROBABILMENTE DI UN VALORE LEGATO ALL'ARROTONDAMENTO DELLA VARIABILE PRECIP IN INPUT AL MODELLO"
   ]
  },
  {
   "cell_type": "code",
   "execution_count": 20,
   "metadata": {},
   "outputs": [
    {
     "data": {
      "text/html": [
       "<table>\n",
       "<caption>A data.frame: 6 × 9</caption>\n",
       "<thead>\n",
       "\t<tr><th></th><th scope=col>unvals</th><th scope=col>Predicted</th><th scope=col>SE</th><th scope=col>lower</th><th scope=col>upper</th><th scope=col>temper</th><th scope=col>orario</th><th scope=col>vento</th><th scope=col>precip</th></tr>\n",
       "\t<tr><th></th><th scope=col>&lt;dbl&gt;</th><th scope=col>&lt;dbl&gt;</th><th scope=col>&lt;dbl&gt;</th><th scope=col>&lt;dbl&gt;</th><th scope=col>&lt;dbl&gt;</th><th scope=col>&lt;dbl&gt;</th><th scope=col>&lt;fct&gt;</th><th scope=col>&lt;dbl&gt;</th><th scope=col>&lt;dbl&gt;</th></tr>\n",
       "</thead>\n",
       "<tbody>\n",
       "\t<tr><th scope=row>95</th><td>74.14286</td><td>0.1247190</td><td>0.06389736</td><td>0.04328443</td><td>0.3097580</td><td>11.82</td><td>Tr</td><td>3.608081</td><td>0.05714286</td></tr>\n",
       "\t<tr><th scope=row>96</th><td>74.14286</td><td>0.1259941</td><td>0.06538307</td><td>0.04308360</td><td>0.3158021</td><td>11.82</td><td>Tr</td><td>3.646465</td><td>0.05714286</td></tr>\n",
       "\t<tr><th scope=row>97</th><td>74.14286</td><td>0.1272803</td><td>0.06688926</td><td>0.04288268</td><td>0.3219145</td><td>11.82</td><td>Tr</td><td>3.684848</td><td>0.05714286</td></tr>\n",
       "\t<tr><th scope=row>98</th><td>74.14286</td><td>0.1285777</td><td>0.06841603</td><td>0.04268170</td><td>0.3280935</td><td>11.82</td><td>Tr</td><td>3.723232</td><td>0.05714286</td></tr>\n",
       "\t<tr><th scope=row>99</th><td>74.14286</td><td>0.1298864</td><td>0.06996344</td><td>0.04248072</td><td>0.3343375</td><td>11.82</td><td>Tr</td><td>3.761616</td><td>0.05714286</td></tr>\n",
       "\t<tr><th scope=row>100</th><td>74.14286</td><td>0.1312064</td><td>0.07153157</td><td>0.04227978</td><td>0.3406450</td><td>11.82</td><td>Tr</td><td>3.800000</td><td>0.05714286</td></tr>\n",
       "</tbody>\n",
       "</table>\n"
      ],
      "text/latex": [
       "A data.frame: 6 × 9\n",
       "\\begin{tabular}{r|lllllllll}\n",
       "  & unvals & Predicted & SE & lower & upper & temper & orario & vento & precip\\\\\n",
       "  & <dbl> & <dbl> & <dbl> & <dbl> & <dbl> & <dbl> & <fct> & <dbl> & <dbl>\\\\\n",
       "\\hline\n",
       "\t95 & 74.14286 & 0.1247190 & 0.06389736 & 0.04328443 & 0.3097580 & 11.82 & Tr & 3.608081 & 0.05714286\\\\\n",
       "\t96 & 74.14286 & 0.1259941 & 0.06538307 & 0.04308360 & 0.3158021 & 11.82 & Tr & 3.646465 & 0.05714286\\\\\n",
       "\t97 & 74.14286 & 0.1272803 & 0.06688926 & 0.04288268 & 0.3219145 & 11.82 & Tr & 3.684848 & 0.05714286\\\\\n",
       "\t98 & 74.14286 & 0.1285777 & 0.06841603 & 0.04268170 & 0.3280935 & 11.82 & Tr & 3.723232 & 0.05714286\\\\\n",
       "\t99 & 74.14286 & 0.1298864 & 0.06996344 & 0.04248072 & 0.3343375 & 11.82 & Tr & 3.761616 & 0.05714286\\\\\n",
       "\t100 & 74.14286 & 0.1312064 & 0.07153157 & 0.04227978 & 0.3406450 & 11.82 & Tr & 3.800000 & 0.05714286\\\\\n",
       "\\end{tabular}\n"
      ],
      "text/markdown": [
       "\n",
       "A data.frame: 6 × 9\n",
       "\n",
       "| <!--/--> | unvals &lt;dbl&gt; | Predicted &lt;dbl&gt; | SE &lt;dbl&gt; | lower &lt;dbl&gt; | upper &lt;dbl&gt; | temper &lt;dbl&gt; | orario &lt;fct&gt; | vento &lt;dbl&gt; | precip &lt;dbl&gt; |\n",
       "|---|---|---|---|---|---|---|---|---|---|\n",
       "| 95 | 74.14286 | 0.1247190 | 0.06389736 | 0.04328443 | 0.3097580 | 11.82 | Tr | 3.608081 | 0.05714286 |\n",
       "| 96 | 74.14286 | 0.1259941 | 0.06538307 | 0.04308360 | 0.3158021 | 11.82 | Tr | 3.646465 | 0.05714286 |\n",
       "| 97 | 74.14286 | 0.1272803 | 0.06688926 | 0.04288268 | 0.3219145 | 11.82 | Tr | 3.684848 | 0.05714286 |\n",
       "| 98 | 74.14286 | 0.1285777 | 0.06841603 | 0.04268170 | 0.3280935 | 11.82 | Tr | 3.723232 | 0.05714286 |\n",
       "| 99 | 74.14286 | 0.1298864 | 0.06996344 | 0.04248072 | 0.3343375 | 11.82 | Tr | 3.761616 | 0.05714286 |\n",
       "| 100 | 74.14286 | 0.1312064 | 0.07153157 | 0.04227978 | 0.3406450 | 11.82 | Tr | 3.800000 | 0.05714286 |\n",
       "\n"
      ],
      "text/plain": [
       "    unvals   Predicted SE         lower      upper     temper orario vento   \n",
       "95  74.14286 0.1247190 0.06389736 0.04328443 0.3097580 11.82  Tr     3.608081\n",
       "96  74.14286 0.1259941 0.06538307 0.04308360 0.3158021 11.82  Tr     3.646465\n",
       "97  74.14286 0.1272803 0.06688926 0.04288268 0.3219145 11.82  Tr     3.684848\n",
       "98  74.14286 0.1285777 0.06841603 0.04268170 0.3280935 11.82  Tr     3.723232\n",
       "99  74.14286 0.1298864 0.06996344 0.04248072 0.3343375 11.82  Tr     3.761616\n",
       "100 74.14286 0.1312064 0.07153157 0.04227978 0.3406450 11.82  Tr     3.800000\n",
       "    precip    \n",
       "95  0.05714286\n",
       "96  0.05714286\n",
       "97  0.05714286\n",
       "98  0.05714286\n",
       "99  0.05714286\n",
       "100 0.05714286"
      ]
     },
     "metadata": {},
     "output_type": "display_data"
    },
    {
     "data": {
      "image/png": "[encoded data removed]",
      "text/plain": [
       "plot without title"
      ]
     },
     "metadata": {
      "image/png": {
       "height": 420,
       "width": 420
      }
     },
     "output_type": "display_data"
    }
   ],
   "source": [
    "#### FACCIAMO VARIARE LA TEMPERATURA\n",
    "df_indicato <- siteCovs(arvicole)\n",
    "df_indicato2 <- obsCovs(arvicole)\n",
    "\n",
    "MDR.seq <- seq(min(df_indicato$MDR), max(df_indicato$MDR), length=100)\n",
    "temper.seq <- seq(min(df_indicato2$temper), max(df_indicato2$temper), length=100)\n",
    "vento.seq <- seq(min(df_indicato2$vento), max(df_indicato2$vento), length=100)\n",
    "precip.seq <- seq(min(df_indicato2$precip), max(df_indicato2$precip), length=100)\n",
    "\n",
    "newdat_tempTr <- data.frame(\n",
    "    MDR = mean(df_indicato$MDR),\n",
    "    temper = mean(df_indicato2$temper),\n",
    "    orario = \"Tr\",\n",
    "    vento = vento.seq,\n",
    "    precip = mean(df_indicato2$precip)\n",
    ")\n",
    "\n",
    "# PREDICT\n",
    "Elambda <- predict(best_mod, \n",
    "        type='det', \n",
    "        newdata = newdat_tempTr,\n",
    "        appendData = TRUE)\n",
    "\n",
    "Elambda_unscaled <- myunscale(Elambda, siteCovs_scaled, c(\"MDR\"))\n",
    "tail(Elambda_unscaled)\n",
    "\n",
    "#GRAFICI\n",
    "with(Elambda_unscaled, {\n",
    "    plot(vento, Predicted, xlab=\"Velocità vento\",\n",
    "        ylab=\"Probabilità di cattura\",\n",
    "        cex.lab=0.7, lwd=2, col=\"red\")\n",
    "    lines(vento , Predicted+SE, lty=3, col=\"dark grey\")\n",
    "   lines(vento , Predicted-SE, lty=3, col=\"dark grey\")\n",
    "})  \n",
    "\n",
    "# ANCHE IN QUESTO CASO IL MODELLO NON RAPPRESENTA OTTIMAMENTE I DATI RACCOLTI E NON RISPECCHIA LE ANALISI ESPLORATIVI"
   ]
  },
  {
   "cell_type": "code",
   "execution_count": null,
   "metadata": {},
   "outputs": [],
   "source": []
  }
 ],
 "metadata": {
  "kernelspec": {
   "display_name": "R",
   "language": "R",
   "name": "ir"
  },
  "language_info": {
   "codemirror_mode": "r",
   "file_extension": ".r",
   "mimetype": "text/x-r-source",
   "name": "R",
   "pygments_lexer": "r",
   "version": "3.6.3"
  }
 },
 "nbformat": 4,
 "nbformat_minor": 4
}
