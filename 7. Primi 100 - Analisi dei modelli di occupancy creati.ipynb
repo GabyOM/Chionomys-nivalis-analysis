{
 "cells": [
  {
   "cell_type": "code",
   "execution_count": 7,
   "metadata": {},
   "outputs": [],
   "source": [
    "library(MuMIn)\n",
    "library(unmarked)"
   ]
  },
  {
   "cell_type": "code",
   "execution_count": 2,
   "metadata": {},
   "outputs": [
    {
     "data": {
      "text/html": [
       "<table>\n",
       "<caption>A data.frame: 6 × 1</caption>\n",
       "<thead>\n",
       "\t<tr><th scope=col>lista_multimodel</th></tr>\n",
       "\t<tr><th scope=col>&lt;fct&gt;</th></tr>\n",
       "</thead>\n",
       "<tbody>\n",
       "\t<tr><td>Dati-modelli\\10. multimodel_ Occ prime 100.RData                             </td></tr>\n",
       "\t<tr><td>Dati-modelli\\multimodel_2018_78WH.RData                                      </td></tr>\n",
       "\t<tr><td>Dati-modelli\\multimodel_2018_sessione_1_Dom-Factor_Rain_scaled.RData         </td></tr>\n",
       "\t<tr><td>Dati-modelli\\multimodel_2018_sessione_1_Dom-Factor_Rain_scaled_and_unsc.RData</td></tr>\n",
       "\t<tr><td>Dati-modelli\\multimodel_2018_sessione_1_EYP6.RData                           </td></tr>\n",
       "\t<tr><td>Dati-modelli\\multimodel_2018_sessione_2_YPHO.RData                           </td></tr>\n",
       "</tbody>\n",
       "</table>\n"
      ],
      "text/latex": [
       "A data.frame: 6 × 1\n",
       "\\begin{tabular}{l}\n",
       " lista\\_multimodel\\\\\n",
       " <fct>\\\\\n",
       "\\hline\n",
       "\t Dati-modelli\\textbackslash{}10. multimodel\\_ Occ prime 100.RData                             \\\\\n",
       "\t Dati-modelli\\textbackslash{}multimodel\\_2018\\_78WH.RData                                      \\\\\n",
       "\t Dati-modelli\\textbackslash{}multimodel\\_2018\\_sessione\\_1\\_Dom-Factor\\_Rain\\_scaled.RData         \\\\\n",
       "\t Dati-modelli\\textbackslash{}multimodel\\_2018\\_sessione\\_1\\_Dom-Factor\\_Rain\\_scaled\\_and\\_unsc.RData\\\\\n",
       "\t Dati-modelli\\textbackslash{}multimodel\\_2018\\_sessione\\_1\\_EYP6.RData                           \\\\\n",
       "\t Dati-modelli\\textbackslash{}multimodel\\_2018\\_sessione\\_2\\_YPHO.RData                           \\\\\n",
       "\\end{tabular}\n"
      ],
      "text/markdown": [
       "\n",
       "A data.frame: 6 × 1\n",
       "\n",
       "| lista_multimodel &lt;fct&gt; |\n",
       "|---|\n",
       "| Dati-modelli\\10. multimodel_ Occ prime 100.RData                              |\n",
       "| Dati-modelli\\multimodel_2018_78WH.RData                                       |\n",
       "| Dati-modelli\\multimodel_2018_sessione_1_Dom-Factor_Rain_scaled.RData          |\n",
       "| Dati-modelli\\multimodel_2018_sessione_1_Dom-Factor_Rain_scaled_and_unsc.RData |\n",
       "| Dati-modelli\\multimodel_2018_sessione_1_EYP6.RData                            |\n",
       "| Dati-modelli\\multimodel_2018_sessione_2_YPHO.RData                            |\n",
       "\n"
      ],
      "text/plain": [
       "  lista_multimodel                                                              \n",
       "1 Dati-modelli\\\\10. multimodel_ Occ prime 100.RData                             \n",
       "2 Dati-modelli\\\\multimodel_2018_78WH.RData                                      \n",
       "3 Dati-modelli\\\\multimodel_2018_sessione_1_Dom-Factor_Rain_scaled.RData         \n",
       "4 Dati-modelli\\\\multimodel_2018_sessione_1_Dom-Factor_Rain_scaled_and_unsc.RData\n",
       "5 Dati-modelli\\\\multimodel_2018_sessione_1_EYP6.RData                           \n",
       "6 Dati-modelli\\\\multimodel_2018_sessione_2_YPHO.RData                           "
      ]
     },
     "metadata": {},
     "output_type": "display_data"
    }
   ],
   "source": [
    "lista_multimodel <- list.files(\"Dati-modelli\\\\\", pattern=\"*.RData\", recursive=FALSE, full.names=TRUE)\n",
    "data.frame(lista_multimodel)"
   ]
  },
  {
   "cell_type": "code",
   "execution_count": 3,
   "metadata": {},
   "outputs": [
    {
     "data": {
      "text/html": [
       "'Dati-modelli\\\\10. multimodel_ Occ prime 100.RData'"
      ],
      "text/latex": [
       "'Dati-modelli\\textbackslash{}\\textbackslash{}10. multimodel\\_ Occ prime 100.RData'"
      ],
      "text/markdown": [
       "'Dati-modelli\\\\10. multimodel_ Occ prime 100.RData'"
      ],
      "text/plain": [
       "[1] \"Dati-modelli\\\\10. multimodel_ Occ prime 100.RData\""
      ]
     },
     "metadata": {},
     "output_type": "display_data"
    }
   ],
   "source": [
    "multimodel_scelto <- lista_multimodel[1]\n",
    "load(multimodel_scelto)\n",
    "multimodel_scelto"
   ]
  },
  {
   "cell_type": "code",
   "execution_count": 4,
   "metadata": {},
   "outputs": [
    {
     "name": "stderr",
     "output_type": "stream",
     "text": [
      "Warning message in `[.model.selection`(a, , part_c$end, drop = FALSE):\n",
      "\"cannot recalculate \"weights\" on an incomplete object\"\n",
      "Warning message in `[.model.selection`(a, , part_c$end, drop = FALSE):\n",
      "\"cannot recalculate \"weights\" on an incomplete object\"\n",
      "Warning message in `[.model.selection`(a, , part_c$end, drop = FALSE):\n",
      "\"cannot recalculate \"weights\" on an incomplete object\"\n",
      "Warning message in `[.model.selection`(a, , part_c$end, drop = FALSE):\n",
      "\"cannot recalculate \"weights\" on an incomplete object\"\n"
     ]
    },
    {
     "data": {
      "text/html": [
       "<table>\n",
       "<caption>A model.selection: 6 × 25</caption>\n",
       "<thead>\n",
       "\t<tr><th></th><th scope=col>p(Int)</th><th scope=col>psi(Int)</th><th scope=col>p(MDR)</th><th scope=col>p(orario)</th><th scope=col>p(precip)</th><th scope=col>p(temper)</th><th scope=col>p(vento)</th><th scope=col>psi(alt_m)</th><th scope=col>psi(I(alt_m^2))</th><th scope=col>psi(cop_veg_ottavi)</th><th scope=col>...</th><th scope=col>psi(I(IQR^2))</th><th scope=col>psi(MDR)</th><th scope=col>psi(I(MDR^2))</th><th scope=col>psi(slope_degr)</th><th scope=col>psi(I(slope_degr^2))</th><th scope=col>df</th><th scope=col>logLik</th><th scope=col>AICc</th><th scope=col>delta</th><th scope=col>weight</th></tr>\n",
       "\t<tr><th></th><th scope=col>&lt;dbl&gt;</th><th scope=col>&lt;dbl&gt;</th><th scope=col>&lt;dbl&gt;</th><th scope=col>&lt;fct&gt;</th><th scope=col>&lt;dbl&gt;</th><th scope=col>&lt;dbl&gt;</th><th scope=col>&lt;dbl&gt;</th><th scope=col>&lt;dbl&gt;</th><th scope=col>&lt;dbl&gt;</th><th scope=col>&lt;dbl&gt;</th><th scope=col>...</th><th scope=col>&lt;dbl&gt;</th><th scope=col>&lt;dbl&gt;</th><th scope=col>&lt;dbl&gt;</th><th scope=col>&lt;dbl&gt;</th><th scope=col>&lt;dbl&gt;</th><th scope=col>&lt;int&gt;</th><th scope=col>&lt;dbl&gt;</th><th scope=col>&lt;dbl&gt;</th><th scope=col>&lt;dbl&gt;</th><th scope=col>&lt;mdl.wght&gt;</th></tr>\n",
       "</thead>\n",
       "<tbody>\n",
       "\t<tr><th scope=row>1695</th><td>-4.958868</td><td>2.018737</td><td>0.1418506</td><td>+</td><td>-16.57272</td><td>0.09661913</td><td>0.2010372</td><td>NA</td><td>NA</td><td>-0.7811357</td><td>...</td><td>NA</td><td>        NA</td><td>NA</td><td>NA</td><td>NA</td><td>11</td><td>-971.0075</td><td>1968.567</td><td>0.000000</td><td>0.36071690</td></tr>\n",
       "\t<tr><th scope=row>671</th><td>-4.958885</td><td>1.682562</td><td>0.1410951</td><td>+</td><td>-16.61713</td><td>0.09662358</td><td>0.2010428</td><td>NA</td><td>NA</td><td>-0.8886277</td><td>...</td><td>NA</td><td>        NA</td><td>NA</td><td>NA</td><td>NA</td><td>10</td><td>-973.1102</td><td>1969.949</td><td>1.382456</td><td>0.18070489</td></tr>\n",
       "\t<tr><th scope=row>18079</th><td>-4.959822</td><td>2.093653</td><td>0.1438419</td><td>+</td><td>-16.56161</td><td>0.09661979</td><td>0.2010231</td><td>NA</td><td>NA</td><td>-0.8443238</td><td>...</td><td>NA</td><td>-0.3514477</td><td>NA</td><td>NA</td><td>NA</td><td>12</td><td>-970.4804</td><td>1970.434</td><td>1.867644</td><td>0.14177930</td></tr>\n",
       "\t<tr><th scope=row>1567</th><td>-4.961018</td><td>1.623984</td><td>0.1459567</td><td>+</td><td>-16.58223</td><td>0.09661985</td><td>0.2010271</td><td>NA</td><td>NA</td><td>        NA</td><td>...</td><td>NA</td><td>        NA</td><td>NA</td><td>NA</td><td>NA</td><td>10</td><td>-973.3533</td><td>1970.435</td><td>1.868593</td><td>0.14171204</td></tr>\n",
       "\t<tr><th scope=row>3743</th><td>-4.959165</td><td>2.051557</td><td>0.1416605</td><td>+</td><td>-16.62552</td><td>0.09661930</td><td>0.2010385</td><td>NA</td><td>NA</td><td>-0.7828465</td><td>...</td><td>NA</td><td>        NA</td><td>NA</td><td>NA</td><td>NA</td><td>12</td><td>-970.9532</td><td>1971.380</td><td>2.813191</td><td>0.08836696</td></tr>\n",
       "\t<tr><th scope=row>1951</th><td>-4.959174</td><td>2.057193</td><td>0.1419236</td><td>+</td><td>-16.65516</td><td>0.09661553</td><td>0.2010411</td><td>NA</td><td>NA</td><td>-0.6780511</td><td>...</td><td>NA</td><td>        NA</td><td>NA</td><td>NA</td><td>NA</td><td>12</td><td>-970.9720</td><td>1971.418</td><td>2.850820</td><td>0.08671991</td></tr>\n",
       "</tbody>\n",
       "</table>\n"
      ],
      "text/latex": [
       "A model.selection: 6 × 25\n",
       "\\begin{tabular}{r|lllllllllllllllllllll}\n",
       "  & p(Int) & psi(Int) & p(MDR) & p(orario) & p(precip) & p(temper) & p(vento) & psi(alt\\_m) & psi(I(alt\\_m\\textasciicircum{}2)) & psi(cop\\_veg\\_ottavi) & ... & psi(I(IQR\\textasciicircum{}2)) & psi(MDR) & psi(I(MDR\\textasciicircum{}2)) & psi(slope\\_degr) & psi(I(slope\\_degr\\textasciicircum{}2)) & df & logLik & AICc & delta & weight\\\\\n",
       "  & <dbl> & <dbl> & <dbl> & <fct> & <dbl> & <dbl> & <dbl> & <dbl> & <dbl> & <dbl> & ... & <dbl> & <dbl> & <dbl> & <dbl> & <dbl> & <int> & <dbl> & <dbl> & <dbl> & <mdl.wght>\\\\\n",
       "\\hline\n",
       "\t1695 & -4.958868 & 2.018737 & 0.1418506 & + & -16.57272 & 0.09661913 & 0.2010372 & NA & NA & -0.7811357 & ... & NA &         NA & NA & NA & NA & 11 & -971.0075 & 1968.567 & 0.000000 & 0.36071690\\\\\n",
       "\t671 & -4.958885 & 1.682562 & 0.1410951 & + & -16.61713 & 0.09662358 & 0.2010428 & NA & NA & -0.8886277 & ... & NA &         NA & NA & NA & NA & 10 & -973.1102 & 1969.949 & 1.382456 & 0.18070489\\\\\n",
       "\t18079 & -4.959822 & 2.093653 & 0.1438419 & + & -16.56161 & 0.09661979 & 0.2010231 & NA & NA & -0.8443238 & ... & NA & -0.3514477 & NA & NA & NA & 12 & -970.4804 & 1970.434 & 1.867644 & 0.14177930\\\\\n",
       "\t1567 & -4.961018 & 1.623984 & 0.1459567 & + & -16.58223 & 0.09661985 & 0.2010271 & NA & NA &         NA & ... & NA &         NA & NA & NA & NA & 10 & -973.3533 & 1970.435 & 1.868593 & 0.14171204\\\\\n",
       "\t3743 & -4.959165 & 2.051557 & 0.1416605 & + & -16.62552 & 0.09661930 & 0.2010385 & NA & NA & -0.7828465 & ... & NA &         NA & NA & NA & NA & 12 & -970.9532 & 1971.380 & 2.813191 & 0.08836696\\\\\n",
       "\t1951 & -4.959174 & 2.057193 & 0.1419236 & + & -16.65516 & 0.09661553 & 0.2010411 & NA & NA & -0.6780511 & ... & NA &         NA & NA & NA & NA & 12 & -970.9720 & 1971.418 & 2.850820 & 0.08671991\\\\\n",
       "\\end{tabular}\n"
      ],
      "text/markdown": [
       "\n",
       "A model.selection: 6 × 25\n",
       "\n",
       "| <!--/--> | p(Int) &lt;dbl&gt; | psi(Int) &lt;dbl&gt; | p(MDR) &lt;dbl&gt; | p(orario) &lt;fct&gt; | p(precip) &lt;dbl&gt; | p(temper) &lt;dbl&gt; | p(vento) &lt;dbl&gt; | psi(alt_m) &lt;dbl&gt; | psi(I(alt_m^2)) &lt;dbl&gt; | psi(cop_veg_ottavi) &lt;dbl&gt; | ... ... | psi(I(IQR^2)) &lt;dbl&gt; | psi(MDR) &lt;dbl&gt; | psi(I(MDR^2)) &lt;dbl&gt; | psi(slope_degr) &lt;dbl&gt; | psi(I(slope_degr^2)) &lt;dbl&gt; | df &lt;int&gt; | logLik &lt;dbl&gt; | AICc &lt;dbl&gt; | delta &lt;dbl&gt; | weight &lt;mdl.wght&gt; |\n",
       "|---|---|---|---|---|---|---|---|---|---|---|---|---|---|---|---|---|---|---|---|---|---|\n",
       "| 1695 | -4.958868 | 2.018737 | 0.1418506 | + | -16.57272 | 0.09661913 | 0.2010372 | NA | NA | -0.7811357 | ... | NA |         NA | NA | NA | NA | 11 | -971.0075 | 1968.567 | 0.000000 | 0.36071690 |\n",
       "| 671 | -4.958885 | 1.682562 | 0.1410951 | + | -16.61713 | 0.09662358 | 0.2010428 | NA | NA | -0.8886277 | ... | NA |         NA | NA | NA | NA | 10 | -973.1102 | 1969.949 | 1.382456 | 0.18070489 |\n",
       "| 18079 | -4.959822 | 2.093653 | 0.1438419 | + | -16.56161 | 0.09661979 | 0.2010231 | NA | NA | -0.8443238 | ... | NA | -0.3514477 | NA | NA | NA | 12 | -970.4804 | 1970.434 | 1.867644 | 0.14177930 |\n",
       "| 1567 | -4.961018 | 1.623984 | 0.1459567 | + | -16.58223 | 0.09661985 | 0.2010271 | NA | NA |         NA | ... | NA |         NA | NA | NA | NA | 10 | -973.3533 | 1970.435 | 1.868593 | 0.14171204 |\n",
       "| 3743 | -4.959165 | 2.051557 | 0.1416605 | + | -16.62552 | 0.09661930 | 0.2010385 | NA | NA | -0.7828465 | ... | NA |         NA | NA | NA | NA | 12 | -970.9532 | 1971.380 | 2.813191 | 0.08836696 |\n",
       "| 1951 | -4.959174 | 2.057193 | 0.1419236 | + | -16.65516 | 0.09661553 | 0.2010411 | NA | NA | -0.6780511 | ... | NA |         NA | NA | NA | NA | 12 | -970.9720 | 1971.418 | 2.850820 | 0.08671991 |\n",
       "\n"
      ],
      "text/plain": [
       "      p(Int)    psi(Int) p(MDR)    p(orario) p(precip) p(temper)  p(vento) \n",
       "1695  -4.958868 2.018737 0.1418506 +         -16.57272 0.09661913 0.2010372\n",
       "671   -4.958885 1.682562 0.1410951 +         -16.61713 0.09662358 0.2010428\n",
       "18079 -4.959822 2.093653 0.1438419 +         -16.56161 0.09661979 0.2010231\n",
       "1567  -4.961018 1.623984 0.1459567 +         -16.58223 0.09661985 0.2010271\n",
       "3743  -4.959165 2.051557 0.1416605 +         -16.62552 0.09661930 0.2010385\n",
       "1951  -4.959174 2.057193 0.1419236 +         -16.65516 0.09661553 0.2010411\n",
       "      psi(alt_m) psi(I(alt_m^2)) psi(cop_veg_ottavi) ... psi(I(IQR^2))\n",
       "1695  NA         NA              -0.7811357          ... NA           \n",
       "671   NA         NA              -0.8886277          ... NA           \n",
       "18079 NA         NA              -0.8443238          ... NA           \n",
       "1567  NA         NA                      NA          ... NA           \n",
       "3743  NA         NA              -0.7828465          ... NA           \n",
       "1951  NA         NA              -0.6780511          ... NA           \n",
       "      psi(MDR)   psi(I(MDR^2)) psi(slope_degr) psi(I(slope_degr^2)) df\n",
       "1695          NA NA            NA              NA                   11\n",
       "671           NA NA            NA              NA                   10\n",
       "18079 -0.3514477 NA            NA              NA                   12\n",
       "1567          NA NA            NA              NA                   10\n",
       "3743          NA NA            NA              NA                   12\n",
       "1951          NA NA            NA              NA                   12\n",
       "      logLik    AICc     delta    weight    \n",
       "1695  -971.0075 1968.567 0.000000 0.36071690\n",
       "671   -973.1102 1969.949 1.382456 0.18070489\n",
       "18079 -970.4804 1970.434 1.867644 0.14177930\n",
       "1567  -973.3533 1970.435 1.868593 0.14171204\n",
       "3743  -970.9532 1971.380 2.813191 0.08836696\n",
       "1951  -970.9720 1971.418 2.850820 0.08671991"
      ]
     },
     "metadata": {},
     "output_type": "display_data"
    }
   ],
   "source": [
    "head(multimodel)"
   ]
  },
  {
   "cell_type": "code",
   "execution_count": 5,
   "metadata": {},
   "outputs": [
    {
     "data": {
      "text/plain": [
       "$`1695`\n",
       "\n",
       "Call:\n",
       "occu(formula = ~MDR + orario + precip + temper + vento + 1 ~ \n",
       "    cop_veg_ottavi + dominant + Esp.tr + 1, data = arvicole, \n",
       "    control = list(trace = 0, maxit = 1e+07))\n",
       "\n",
       "Occupancy:\n",
       "                 Estimate    SE     z  P(>|z|)\n",
       "(Intercept)         2.019 0.567  3.56 0.000373\n",
       "cop_veg_ottavi     -0.781 0.380 -2.06 0.039576\n",
       "dominantMuschio     0.248 1.378  0.18 0.857473\n",
       "dominantOther_Sp   -1.247 0.892 -1.40 0.162057\n",
       "Esp.tr              0.794 0.427  1.86 0.063134\n",
       "\n",
       "Detection:\n",
       "            Estimate       SE        z  P(>|z|)\n",
       "(Intercept)  -4.9589 3.44e-01 -14.4214 3.79e-47\n",
       "MDR           0.1419 6.88e-02   2.0611 3.93e-02\n",
       "orarioTr      0.6195 1.51e-01   4.0963 4.20e-05\n",
       "precip      -16.5727 1.59e+03  -0.0105 9.92e-01\n",
       "temper        0.0966 2.16e-02   4.4830 7.36e-06\n",
       "vento         0.2010 6.88e-02   2.9234 3.46e-03\n",
       "\n",
       "AIC: 1964.015 \n",
       "\n",
       "attr(,\"rank\")\n",
       "function (x) \n",
       "do.call(\"rank\", list(x))\n",
       "<environment: 0x0000000027e47308>\n",
       "attr(,\"call\")\n",
       "AICc(x)\n",
       "attr(,\"class\")\n",
       "[1] \"function\"     \"rankFunction\"\n",
       "attr(,\"beta\")\n",
       "[1] \"none\""
      ]
     },
     "metadata": {},
     "output_type": "display_data"
    }
   ],
   "source": [
    "get.models(multimodel, 1)"
   ]
  },
  {
   "cell_type": "code",
   "execution_count": 6,
   "metadata": {},
   "outputs": [
    {
     "data": {
      "text/plain": [
       "\n",
       "Call:\n",
       "model.avg(object = multimodel, subset = delta < 2)\n",
       "\n",
       "Component model call: \n",
       "occu(formula = ~<4 unique rhs>, data = arvicole, control = list(trace = \n",
       "     0, maxit = 1e+07))\n",
       "\n",
       "Component models: \n",
       "          df  logLik    AICc delta weight\n",
       "12345678  11 -971.01 1968.57  0.00   0.44\n",
       "1234567   10 -973.11 1969.95  1.38   0.22\n",
       "123456789 12 -970.48 1970.43  1.87   0.17\n",
       "1234578   10 -973.35 1970.44  1.87   0.17\n",
       "\n",
       "Term codes: \n",
       "             p(MDR)           p(orario)           p(precip)           p(temper) \n",
       "                  1                   2                   3                   4 \n",
       "           p(vento) psi(cop_veg_ottavi)       psi(dominant)         psi(Esp.tr) \n",
       "                  5                   6                   7                   8 \n",
       "           psi(MDR) \n",
       "                  9 \n",
       "\n",
       "Model-averaged coefficients:  \n",
       "(full average) \n",
       "                        Estimate Std. Error z value Pr(>|z|)    \n",
       "psi(Int)                 1.89016    0.57061   3.313 0.000925 ***\n",
       "psi(cop_veg_ottavi)     -0.68135    0.46718   1.458 0.144718    \n",
       "psi(dominantMuschio)     0.43927    1.41277   0.311 0.755852    \n",
       "psi(dominantOther_Sp)   -1.09153    0.90629   1.204 0.228434    \n",
       "psi(Esp.tr)              0.64279    0.50716   1.267 0.205006    \n",
       "p(Int)                  -4.95940    0.34387  14.422  < 2e-16 ***\n",
       "p(MDR)                   0.14273    0.06891   2.071 0.038336 *  \n",
       "p(orarioTr)              0.61951    0.15124   4.096  4.2e-05 ***\n",
       "p(precip)              -16.58218 1968.74964   0.008 0.993280    \n",
       "p(temper)                0.09662    0.02155   4.483  7.4e-06 ***\n",
       "p(vento)                 0.20103    0.06877   2.923 0.003462 ** \n",
       "psi(MDR)                -0.06040    0.19711   0.306 0.759265    \n",
       " \n",
       "(conditional average) \n",
       "                        Estimate Std. Error z value Pr(>|z|)    \n",
       "psi(Int)                 1.89016    0.57061   3.313 0.000925 ***\n",
       "psi(cop_veg_ottavi)     -0.82268    0.38374   2.144 0.032045 *  \n",
       "psi(dominantMuschio)     0.43927    1.41277   0.311 0.755852    \n",
       "psi(dominantOther_Sp)   -1.09153    0.90629   1.204 0.228434    \n",
       "psi(Esp.tr)              0.82310    0.42539   1.935 0.053000 .  \n",
       "p(Int)                  -4.95940    0.34387  14.422  < 2e-16 ***\n",
       "p(MDR)                   0.14273    0.06891   2.071 0.038336 *  \n",
       "p(orarioTr)              0.61951    0.15124   4.096  4.2e-05 ***\n",
       "p(precip)              -16.58218 1968.74964   0.008 0.993280    \n",
       "p(temper)                0.09662    0.02155   4.483  7.4e-06 ***\n",
       "p(vento)                 0.20103    0.06877   2.923 0.003462 ** \n",
       "psi(MDR)                -0.35145    0.35181   0.999 0.317810    \n",
       "---\n",
       "Signif. codes:  0 '***' 0.001 '**' 0.01 '*' 0.05 '.' 0.1 ' ' 1\n"
      ]
     },
     "metadata": {},
     "output_type": "display_data"
    }
   ],
   "source": [
    "### PASSAGGIO DI MODEL AVERAGING: CONSIDERIAMO CONTEMPORANEAMENTE I MODELLI MIGLIORI CHE DIFFERISCONO TRA LORO\n",
    "## DI POCO IN TERMINI DI AIC (deltaAIC < 3)\n",
    "summary(model.avg(multimodel, subset = delta < 2))"
   ]
  }
 ],
 "metadata": {
  "kernelspec": {
   "display_name": "R",
   "language": "R",
   "name": "ir"
  },
  "language_info": {
   "codemirror_mode": "r",
   "file_extension": ".r",
   "mimetype": "text/x-r-source",
   "name": "R",
   "pygments_lexer": "r",
   "version": "3.6.3"
  }
 },
 "nbformat": 4,
 "nbformat_minor": 4
}
