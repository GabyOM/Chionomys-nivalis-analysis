{
 "cells": [
  {
   "cell_type": "markdown",
   "metadata": {},
   "source": [
    "## Applicazione analisi Detection Histories e Modelli Occupancy"
   ]
  },
  {
   "cell_type": "markdown",
   "metadata": {},
   "source": [
    "### Claudia Gabriela Ochoa Martinez (2020)"
   ]
  },
  {
   "cell_type": "code",
   "execution_count": 1,
   "metadata": {},
   "outputs": [],
   "source": [
    "#### Inserire l'anno su cui si vuole effettuare l'analisi es. ==\"2014\", \"2015\", ecc\n",
    "anno_analisi <- \"2018\"\n",
    "sessione_analisi <- \"1\""
   ]
  },
  {
   "cell_type": "code",
   "execution_count": 2,
   "metadata": {},
   "outputs": [
    {
     "name": "stderr",
     "output_type": "stream",
     "text": [
      "\n",
      "Attaching package: 'dplyr'\n",
      "\n",
      "\n",
      "The following objects are masked from 'package:stats':\n",
      "\n",
      "    filter, lag\n",
      "\n",
      "\n",
      "The following objects are masked from 'package:base':\n",
      "\n",
      "    intersect, setdiff, setequal, union\n",
      "\n",
      "\n",
      "Loading required package: lattice\n",
      "\n",
      "Loading required package: stats4\n",
      "\n",
      "\n",
      "Attaching package: 'stats4'\n",
      "\n",
      "\n",
      "The following object is masked from 'package:unmarked':\n",
      "\n",
      "    mle\n",
      "\n",
      "\n",
      "Loading required package: parallel\n",
      "\n"
     ]
    }
   ],
   "source": [
    "library(dplyr)\n",
    "library(readr)\n",
    "library(unmarked)\n",
    "require(stats4)\n",
    "require(parallel)"
   ]
  },
  {
   "cell_type": "code",
   "execution_count": 3,
   "metadata": {},
   "outputs": [],
   "source": [
    "# Matrice di detection history (catture effettive) -- y\n",
    "catture_effettive <- read.csv(\"Dati-preparazione-modello\\\\catture_effettive_totale.csv\", dec=\",\", sep=\";\", header = TRUE)\n",
    "\n",
    "# Leggiamo le matrici dell'Orario (Alba Tramonto), Precipitazioni e Temperatura -- ObsCovs\n",
    "orario_occasione <- read.csv(\"Dati-preparazione-modello\\\\orario_occasione_totale.csv\", dec=\",\", sep=\";\", header = TRUE, stringsAsFactors = FALSE)\n",
    "precipitazioni_occasione <- read.csv(\"Dati-preparazione-modello\\\\precipitazioni_occasione_totale.csv\", dec=\",\", sep=\";\", header = TRUE, stringsAsFactors = FALSE)\n",
    "temperatura_occasione <- read.csv(\"Dati-preparazione-modello\\\\temperatura_occasione_totale.csv\", dec=\",\", sep=\";\", header = TRUE, stringsAsFactors = FALSE)\n",
    "velvento_occasione <- read.csv(\"Dati-preparazione-modello\\\\velvento_occasione_totale.csv\", dec=\",\", sep=\";\", header = TRUE, stringsAsFactors = FALSE)\n",
    "\n",
    "# Prendiamo Datioccas per legare l'anno alle varie osservazioni\n",
    "Datioccas <- read.csv(\"Dati-elaborati/Dati-occasioni.csv\", dec=\",\", sep=\";\", header = TRUE)\n",
    "\n",
    "# Leggiamo il file relativo alle invarianti ambientali (covariate) -- siteCovs\n",
    "siteCovs <- read.csv(\"Dati-preparazione-modello/Dati-cov-mdr-iqr.csv\", dec=\",\", sep=\";\", header = TRUE, stringsAsFactors = FALSE)"
   ]
  },
  {
   "cell_type": "code",
   "execution_count": 4,
   "metadata": {},
   "outputs": [],
   "source": [
    "# Non avendo sufficienti dati sulle ultime 5 trappole, le escludiamo\n",
    "catture_effettive <- catture_effettive[1:70,]\n",
    "\n",
    "orario_occasione <- orario_occasione[1:70,]\n",
    "precipitazioni_occasione <- precipitazioni_occasione[1:70,]\n",
    "temperatura_occasione <- temperatura_occasione[1:70,]\n",
    "velvento_occasione <- velvento_occasione[1:70,]\n",
    "siteCovs <- siteCovs[1:70,]"
   ]
  },
  {
   "cell_type": "code",
   "execution_count": 5,
   "metadata": {},
   "outputs": [
    {
     "data": {
      "text/html": [
       "<table>\n",
       "<caption>A data.frame: 6 × 12</caption>\n",
       "<thead>\n",
       "\t<tr><th></th><th scope=col>Diametro.roccia.1..cm.</th><th scope=col>Diametro.roccia.2..cm.</th><th scope=col>Diametro.roccia.3..cm.</th><th scope=col>alt_m</th><th scope=col>aspect_deg</th><th scope=col>slope_degr</th><th scope=col>n_species</th><th scope=col>dominant</th><th scope=col>MDR</th><th scope=col>IQR</th><th scope=col>Esp.tr</th><th scope=col>cop_veg_ottavi</th></tr>\n",
       "\t<tr><th></th><th scope=col>&lt;int&gt;</th><th scope=col>&lt;int&gt;</th><th scope=col>&lt;int&gt;</th><th scope=col>&lt;dbl&gt;</th><th scope=col>&lt;int&gt;</th><th scope=col>&lt;int&gt;</th><th scope=col>&lt;int&gt;</th><th scope=col>&lt;dbl&gt;</th><th scope=col>&lt;int&gt;</th><th scope=col>&lt;dbl&gt;</th><th scope=col>&lt;int&gt;</th><th scope=col>&lt;int&gt;</th></tr>\n",
       "</thead>\n",
       "<tbody>\n",
       "\t<tr><th scope=row>65</th><td>292</td><td> 99</td><td>67</td><td>2787.358</td><td> 13</td><td> 7</td><td> 2</td><td>10</td><td>99</td><td>112.5</td><td>13</td><td>NA</td></tr>\n",
       "\t<tr><th scope=row>66</th><td>139</td><td> 75</td><td>21</td><td>2788.498</td><td> 11</td><td>29</td><td>14</td><td>30</td><td>75</td><td> 59.0</td><td>11</td><td>NA</td></tr>\n",
       "\t<tr><th scope=row>67</th><td> 77</td><td> 83</td><td>40</td><td>2792.428</td><td> 19</td><td>38</td><td>13</td><td>20</td><td>77</td><td> 21.5</td><td>19</td><td>NA</td></tr>\n",
       "\t<tr><th scope=row>68</th><td> 71</td><td>127</td><td>58</td><td>2794.777</td><td> 13</td><td>17</td><td>10</td><td>30</td><td>71</td><td> 34.5</td><td>13</td><td>NA</td></tr>\n",
       "\t<tr><th scope=row>69</th><td> 97</td><td> 75</td><td>66</td><td>2792.266</td><td> 12</td><td>11</td><td> 8</td><td>20</td><td>75</td><td> 15.5</td><td>12</td><td>NA</td></tr>\n",
       "\t<tr><th scope=row>70</th><td>207</td><td> 73</td><td>96</td><td>2792.857</td><td>358</td><td> 2</td><td> 2</td><td>30</td><td>96</td><td> 67.0</td><td>-2</td><td>NA</td></tr>\n",
       "</tbody>\n",
       "</table>\n"
      ],
      "text/latex": [
       "A data.frame: 6 × 12\n",
       "\\begin{tabular}{r|llllllllllll}\n",
       "  & Diametro.roccia.1..cm. & Diametro.roccia.2..cm. & Diametro.roccia.3..cm. & alt\\_m & aspect\\_deg & slope\\_degr & n\\_species & dominant & MDR & IQR & Esp.tr & cop\\_veg\\_ottavi\\\\\n",
       "  & <int> & <int> & <int> & <dbl> & <int> & <int> & <int> & <dbl> & <int> & <dbl> & <int> & <int>\\\\\n",
       "\\hline\n",
       "\t65 & 292 &  99 & 67 & 2787.358 &  13 &  7 &  2 & 10 & 99 & 112.5 & 13 & NA\\\\\n",
       "\t66 & 139 &  75 & 21 & 2788.498 &  11 & 29 & 14 & 30 & 75 &  59.0 & 11 & NA\\\\\n",
       "\t67 &  77 &  83 & 40 & 2792.428 &  19 & 38 & 13 & 20 & 77 &  21.5 & 19 & NA\\\\\n",
       "\t68 &  71 & 127 & 58 & 2794.777 &  13 & 17 & 10 & 30 & 71 &  34.5 & 13 & NA\\\\\n",
       "\t69 &  97 &  75 & 66 & 2792.266 &  12 & 11 &  8 & 20 & 75 &  15.5 & 12 & NA\\\\\n",
       "\t70 & 207 &  73 & 96 & 2792.857 & 358 &  2 &  2 & 30 & 96 &  67.0 & -2 & NA\\\\\n",
       "\\end{tabular}\n"
      ],
      "text/markdown": [
       "\n",
       "A data.frame: 6 × 12\n",
       "\n",
       "| <!--/--> | Diametro.roccia.1..cm. &lt;int&gt; | Diametro.roccia.2..cm. &lt;int&gt; | Diametro.roccia.3..cm. &lt;int&gt; | alt_m &lt;dbl&gt; | aspect_deg &lt;int&gt; | slope_degr &lt;int&gt; | n_species &lt;int&gt; | dominant &lt;dbl&gt; | MDR &lt;int&gt; | IQR &lt;dbl&gt; | Esp.tr &lt;int&gt; | cop_veg_ottavi &lt;int&gt; |\n",
       "|---|---|---|---|---|---|---|---|---|---|---|---|---|\n",
       "| 65 | 292 |  99 | 67 | 2787.358 |  13 |  7 |  2 | 10 | 99 | 112.5 | 13 | NA |\n",
       "| 66 | 139 |  75 | 21 | 2788.498 |  11 | 29 | 14 | 30 | 75 |  59.0 | 11 | NA |\n",
       "| 67 |  77 |  83 | 40 | 2792.428 |  19 | 38 | 13 | 20 | 77 |  21.5 | 19 | NA |\n",
       "| 68 |  71 | 127 | 58 | 2794.777 |  13 | 17 | 10 | 30 | 71 |  34.5 | 13 | NA |\n",
       "| 69 |  97 |  75 | 66 | 2792.266 |  12 | 11 |  8 | 20 | 75 |  15.5 | 12 | NA |\n",
       "| 70 | 207 |  73 | 96 | 2792.857 | 358 |  2 |  2 | 30 | 96 |  67.0 | -2 | NA |\n",
       "\n"
      ],
      "text/plain": [
       "   Diametro.roccia.1..cm. Diametro.roccia.2..cm. Diametro.roccia.3..cm.\n",
       "65 292                     99                    67                    \n",
       "66 139                     75                    21                    \n",
       "67  77                     83                    40                    \n",
       "68  71                    127                    58                    \n",
       "69  97                     75                    66                    \n",
       "70 207                     73                    96                    \n",
       "   alt_m    aspect_deg slope_degr n_species dominant MDR IQR   Esp.tr\n",
       "65 2787.358  13         7          2        10       99  112.5 13    \n",
       "66 2788.498  11        29         14        30       75   59.0 11    \n",
       "67 2792.428  19        38         13        20       77   21.5 19    \n",
       "68 2794.777  13        17         10        30       71   34.5 13    \n",
       "69 2792.266  12        11          8        20       75   15.5 12    \n",
       "70 2792.857 358         2          2        30       96   67.0 -2    \n",
       "   cop_veg_ottavi\n",
       "65 NA            \n",
       "66 NA            \n",
       "67 NA            \n",
       "68 NA            \n",
       "69 NA            \n",
       "70 NA            "
      ]
     },
     "metadata": {},
     "output_type": "display_data"
    }
   ],
   "source": [
    "# TRASFORMIAMO le specie vegetali presenti in siteCovs in numeric per evitare singolarità nei modelli\n",
    "siteCovs$dominant[siteCovs$dominant != \"Graminacee\" & siteCovs$dominant != \"Muschio\"]  <- 30\n",
    "siteCovs$dominant[siteCovs$dominant == \"Graminacee\"]  <- 20\n",
    "siteCovs$dominant[siteCovs$dominant == \"Muschio\"]  <- 10\n",
    "siteCovs$dominant <- as.numeric(siteCovs$dominant)\n",
    "\n",
    "# Seleziono la coperatura vegetale di interesse\n",
    "if (anno_analisi %in% c(\"2014\",\"2015\",\"2016\",\"2017\")) {\n",
    "    siteCovs$cop_veg_ottavi <- siteCovs$Cop_Veg_2015_ottavi\n",
    "    siteCovs <- subset(siteCovs, select=-c(Cop_Veg_2015_ottavi,Cop_Veg_2018_ottavi))\n",
    "} else {\n",
    "    siteCovs$cop_veg_ottavi <- siteCovs$Cop_Veg_2018_ottavi\n",
    "    siteCovs <- subset(siteCovs, select=-c(Cop_Veg_2015_ottavi,Cop_Veg_2018_ottavi))\n",
    "\n",
    "}\n",
    "    \n",
    "tail(siteCovs)"
   ]
  },
  {
   "cell_type": "code",
   "execution_count": 6,
   "metadata": {},
   "outputs": [],
   "source": [
    "# Ricaviamo le colonne oggetto di analisi\n",
    "if (exists(\"sessione_analisi\")) {\n",
    "    colonne_oggetto_analisi <- rownames(subset(Datioccas,Anno == anno_analisi & sessione == sessione_analisi))\n",
    "} else {\n",
    "    colonne_oggetto_analisi <- rownames(subset(Datioccas,Anno == anno_analisi))\n",
    "}\n",
    "colonne_oggetto_analisi <- as.numeric(colonne_oggetto_analisi)"
   ]
  },
  {
   "cell_type": "code",
   "execution_count": 7,
   "metadata": {},
   "outputs": [],
   "source": [
    "catture_effettive_selezionate <- catture_effettive[,colonne_oggetto_analisi]"
   ]
  },
  {
   "cell_type": "code",
   "execution_count": 8,
   "metadata": {},
   "outputs": [
    {
     "data": {
      "text/plain": [
       " Diametro.roccia.1..cm. Diametro.roccia.2..cm. Diametro.roccia.3..cm.\n",
       " Min.   : 30.00         Min.   : 28.00         Min.   :  8.00        \n",
       " 1st Qu.: 67.25         1st Qu.: 44.00         1st Qu.: 40.00        \n",
       " Median : 97.00         Median : 62.00         Median : 56.50        \n",
       " Mean   :118.70         Mean   : 75.06         Mean   : 69.66        \n",
       " 3rd Qu.:139.75         3rd Qu.: 92.50         3rd Qu.: 75.50        \n",
       " Max.   :440.00         Max.   :308.00         Max.   :292.00        \n",
       "                                                                     \n",
       "     alt_m        aspect_deg      slope_degr      n_species        dominant    \n",
       " Min.   :2778   Min.   :  0.0   Min.   : 0.00   Min.   : 0.00   Min.   :10.00  \n",
       " 1st Qu.:2783   1st Qu.: 59.0   1st Qu.: 7.25   1st Qu.:10.25   1st Qu.:20.00  \n",
       " Median :2789   Median :314.5   Median :11.50   Median :15.00   Median :20.00  \n",
       " Mean   :2789   Mean   :239.4   Mean   :13.04   Mean   :15.59   Mean   :20.14  \n",
       " 3rd Qu.:2795   3rd Qu.:332.0   3rd Qu.:19.75   3rd Qu.:21.00   3rd Qu.:20.00  \n",
       " Max.   :2804   Max.   :358.0   Max.   :38.00   Max.   :32.00   Max.   :30.00  \n",
       "                                                                               \n",
       "      MDR              IQR             Esp.tr        cop_veg_ottavi\n",
       " Min.   : 28.00   Min.   :  5.50   Min.   :-126.00   Min.   :0.00  \n",
       " 1st Qu.: 53.25   1st Qu.: 21.00   1st Qu.: -43.75   1st Qu.:1.25  \n",
       " Median : 67.50   Median : 35.75   Median : -24.00   Median :2.00  \n",
       " Mean   : 74.14   Mean   : 48.55   Mean   : -22.84   Mean   :2.56  \n",
       " 3rd Qu.: 88.75   3rd Qu.: 66.38   3rd Qu.:   1.50   3rd Qu.:4.00  \n",
       " Max.   :212.00   Max.   :198.00   Max.   :  62.00   Max.   :7.00  \n",
       "                                                     NA's   :20    "
      ]
     },
     "metadata": {},
     "output_type": "display_data"
    }
   ],
   "source": [
    "summary(siteCovs)"
   ]
  },
  {
   "cell_type": "markdown",
   "metadata": {},
   "source": [
    "#### Concludiamo che tutte le variabili presenti in siteCovs sono adatte ad essere utilizzate nell'analisi\n",
    "#### Provvediamo a scalarle e centrarle"
   ]
  },
  {
   "cell_type": "code",
   "execution_count": 9,
   "metadata": {},
   "outputs": [
    {
     "data": {
      "text/html": [
       "<table>\n",
       "<caption>A data.frame: 6 × 12</caption>\n",
       "<thead>\n",
       "\t<tr><th></th><th scope=col>Diametro.roccia.1..cm.</th><th scope=col>Diametro.roccia.2..cm.</th><th scope=col>Diametro.roccia.3..cm.</th><th scope=col>alt_m</th><th scope=col>aspect_deg</th><th scope=col>slope_degr</th><th scope=col>n_species</th><th scope=col>dominant</th><th scope=col>MDR</th><th scope=col>IQR</th><th scope=col>Esp.tr</th><th scope=col>cop_veg_ottavi</th></tr>\n",
       "\t<tr><th></th><th scope=col>&lt;dbl&gt;</th><th scope=col>&lt;dbl&gt;</th><th scope=col>&lt;dbl&gt;</th><th scope=col>&lt;dbl&gt;</th><th scope=col>&lt;dbl&gt;</th><th scope=col>&lt;dbl&gt;</th><th scope=col>&lt;dbl&gt;</th><th scope=col>&lt;dbl&gt;</th><th scope=col>&lt;dbl&gt;</th><th scope=col>&lt;dbl&gt;</th><th scope=col>&lt;dbl&gt;</th><th scope=col>&lt;dbl&gt;</th></tr>\n",
       "</thead>\n",
       "<tbody>\n",
       "\t<tr><th scope=row>65</th><td> 2.3221655</td><td> 0.508714136</td><td>-0.05028955</td><td>-0.2773832</td><td>-1.6601337</td><td>-0.6973735</td><td>-1.7814483</td><td>-1.51357553</td><td> 0.75023962</td><td> 1.7135977</td><td>0.9721058</td><td>NA</td></tr>\n",
       "\t<tr><th scope=row>66</th><td> 0.2720136</td><td>-0.001214115</td><td>-0.92089358</td><td>-0.1254769</td><td>-1.6747964</td><td> 1.8415278</td><td>-0.2079293</td><td> 1.47093960</td><td> 0.02587033</td><td> 0.2800171</td><td>0.9178632</td><td>NA</td></tr>\n",
       "\t<tr><th scope=row>67</th><td>-0.5587669</td><td> 0.168761969</td><td>-0.56129626</td><td> 0.3982001</td><td>-1.6161456</td><td> 2.8801692</td><td>-0.3390559</td><td>-0.02131797</td><td> 0.08623444</td><td>-0.7248291</td><td>1.1348338</td><td>NA</td></tr>\n",
       "\t<tr><th scope=row>68</th><td>-0.6391650</td><td> 1.103630428</td><td>-0.22062512</td><td> 0.7112070</td><td>-1.6601337</td><td> 0.4566725</td><td>-0.7324356</td><td> 1.47093960</td><td>-0.09485788</td><td>-0.3764824</td><td>0.9721058</td><td>NA</td></tr>\n",
       "\t<tr><th scope=row>69</th><td>-0.2907732</td><td>-0.001214115</td><td>-0.06921572</td><td> 0.3766134</td><td>-1.6674651</td><td>-0.2357551</td><td>-0.9946888</td><td>-0.02131797</td><td> 0.02587033</td><td>-0.8856045</td><td>0.9449845</td><td>NA</td></tr>\n",
       "\t<tr><th scope=row>70</th><td> 1.1831922</td><td>-0.043708136</td><td> 0.49856951</td><td> 0.4553648</td><td> 0.8691849</td><td>-1.2743966</td><td>-1.7814483</td><td> 1.47093960</td><td> 0.65969346</td><td> 0.4943843</td><td>0.5652859</td><td>NA</td></tr>\n",
       "</tbody>\n",
       "</table>\n"
      ],
      "text/latex": [
       "A data.frame: 6 × 12\n",
       "\\begin{tabular}{r|llllllllllll}\n",
       "  & Diametro.roccia.1..cm. & Diametro.roccia.2..cm. & Diametro.roccia.3..cm. & alt\\_m & aspect\\_deg & slope\\_degr & n\\_species & dominant & MDR & IQR & Esp.tr & cop\\_veg\\_ottavi\\\\\n",
       "  & <dbl> & <dbl> & <dbl> & <dbl> & <dbl> & <dbl> & <dbl> & <dbl> & <dbl> & <dbl> & <dbl> & <dbl>\\\\\n",
       "\\hline\n",
       "\t65 &  2.3221655 &  0.508714136 & -0.05028955 & -0.2773832 & -1.6601337 & -0.6973735 & -1.7814483 & -1.51357553 &  0.75023962 &  1.7135977 & 0.9721058 & NA\\\\\n",
       "\t66 &  0.2720136 & -0.001214115 & -0.92089358 & -0.1254769 & -1.6747964 &  1.8415278 & -0.2079293 &  1.47093960 &  0.02587033 &  0.2800171 & 0.9178632 & NA\\\\\n",
       "\t67 & -0.5587669 &  0.168761969 & -0.56129626 &  0.3982001 & -1.6161456 &  2.8801692 & -0.3390559 & -0.02131797 &  0.08623444 & -0.7248291 & 1.1348338 & NA\\\\\n",
       "\t68 & -0.6391650 &  1.103630428 & -0.22062512 &  0.7112070 & -1.6601337 &  0.4566725 & -0.7324356 &  1.47093960 & -0.09485788 & -0.3764824 & 0.9721058 & NA\\\\\n",
       "\t69 & -0.2907732 & -0.001214115 & -0.06921572 &  0.3766134 & -1.6674651 & -0.2357551 & -0.9946888 & -0.02131797 &  0.02587033 & -0.8856045 & 0.9449845 & NA\\\\\n",
       "\t70 &  1.1831922 & -0.043708136 &  0.49856951 &  0.4553648 &  0.8691849 & -1.2743966 & -1.7814483 &  1.47093960 &  0.65969346 &  0.4943843 & 0.5652859 & NA\\\\\n",
       "\\end{tabular}\n"
      ],
      "text/markdown": [
       "\n",
       "A data.frame: 6 × 12\n",
       "\n",
       "| <!--/--> | Diametro.roccia.1..cm. &lt;dbl&gt; | Diametro.roccia.2..cm. &lt;dbl&gt; | Diametro.roccia.3..cm. &lt;dbl&gt; | alt_m &lt;dbl&gt; | aspect_deg &lt;dbl&gt; | slope_degr &lt;dbl&gt; | n_species &lt;dbl&gt; | dominant &lt;dbl&gt; | MDR &lt;dbl&gt; | IQR &lt;dbl&gt; | Esp.tr &lt;dbl&gt; | cop_veg_ottavi &lt;dbl&gt; |\n",
       "|---|---|---|---|---|---|---|---|---|---|---|---|---|\n",
       "| 65 |  2.3221655 |  0.508714136 | -0.05028955 | -0.2773832 | -1.6601337 | -0.6973735 | -1.7814483 | -1.51357553 |  0.75023962 |  1.7135977 | 0.9721058 | NA |\n",
       "| 66 |  0.2720136 | -0.001214115 | -0.92089358 | -0.1254769 | -1.6747964 |  1.8415278 | -0.2079293 |  1.47093960 |  0.02587033 |  0.2800171 | 0.9178632 | NA |\n",
       "| 67 | -0.5587669 |  0.168761969 | -0.56129626 |  0.3982001 | -1.6161456 |  2.8801692 | -0.3390559 | -0.02131797 |  0.08623444 | -0.7248291 | 1.1348338 | NA |\n",
       "| 68 | -0.6391650 |  1.103630428 | -0.22062512 |  0.7112070 | -1.6601337 |  0.4566725 | -0.7324356 |  1.47093960 | -0.09485788 | -0.3764824 | 0.9721058 | NA |\n",
       "| 69 | -0.2907732 | -0.001214115 | -0.06921572 |  0.3766134 | -1.6674651 | -0.2357551 | -0.9946888 | -0.02131797 |  0.02587033 | -0.8856045 | 0.9449845 | NA |\n",
       "| 70 |  1.1831922 | -0.043708136 |  0.49856951 |  0.4553648 |  0.8691849 | -1.2743966 | -1.7814483 |  1.47093960 |  0.65969346 |  0.4943843 | 0.5652859 | NA |\n",
       "\n"
      ],
      "text/plain": [
       "   Diametro.roccia.1..cm. Diametro.roccia.2..cm. Diametro.roccia.3..cm.\n",
       "65  2.3221655              0.508714136           -0.05028955           \n",
       "66  0.2720136             -0.001214115           -0.92089358           \n",
       "67 -0.5587669              0.168761969           -0.56129626           \n",
       "68 -0.6391650              1.103630428           -0.22062512           \n",
       "69 -0.2907732             -0.001214115           -0.06921572           \n",
       "70  1.1831922             -0.043708136            0.49856951           \n",
       "   alt_m      aspect_deg slope_degr n_species  dominant    MDR        \n",
       "65 -0.2773832 -1.6601337 -0.6973735 -1.7814483 -1.51357553  0.75023962\n",
       "66 -0.1254769 -1.6747964  1.8415278 -0.2079293  1.47093960  0.02587033\n",
       "67  0.3982001 -1.6161456  2.8801692 -0.3390559 -0.02131797  0.08623444\n",
       "68  0.7112070 -1.6601337  0.4566725 -0.7324356  1.47093960 -0.09485788\n",
       "69  0.3766134 -1.6674651 -0.2357551 -0.9946888 -0.02131797  0.02587033\n",
       "70  0.4553648  0.8691849 -1.2743966 -1.7814483  1.47093960  0.65969346\n",
       "   IQR        Esp.tr    cop_veg_ottavi\n",
       "65  1.7135977 0.9721058 NA            \n",
       "66  0.2800171 0.9178632 NA            \n",
       "67 -0.7248291 1.1348338 NA            \n",
       "68 -0.3764824 0.9721058 NA            \n",
       "69 -0.8856045 0.9449845 NA            \n",
       "70  0.4943843 0.5652859 NA            "
      ]
     },
     "metadata": {},
     "output_type": "display_data"
    }
   ],
   "source": [
    "siteCovs <- data.frame(scale(siteCovs))\n",
    "tail(siteCovs)"
   ]
  },
  {
   "cell_type": "code",
   "execution_count": 10,
   "metadata": {},
   "outputs": [
    {
     "data": {
      "text/plain": [
       "  1     \n",
       " Al:10  \n",
       " Tr: 9  "
      ]
     },
     "metadata": {},
     "output_type": "display_data"
    },
    {
     "data": {
      "text/plain": [
       "       1          \n",
       " Min.   :0.00000  \n",
       " 1st Qu.:0.00000  \n",
       " Median :0.00000  \n",
       " Mean   :0.05263  \n",
       " 3rd Qu.:0.00000  \n",
       " Max.   :1.00000  "
      ]
     },
     "metadata": {},
     "output_type": "display_data"
    },
    {
     "data": {
      "text/plain": [
       "       1        \n",
       " Min.   : 8.50  \n",
       " 1st Qu.:12.35  \n",
       " Median :13.60  \n",
       " Mean   :13.59  \n",
       " 3rd Qu.:15.15  \n",
       " Max.   :17.40  "
      ]
     },
     "metadata": {},
     "output_type": "display_data"
    },
    {
     "data": {
      "text/plain": [
       "       1        \n",
       " Min.   :0.600  \n",
       " 1st Qu.:1.150  \n",
       " Median :1.600  \n",
       " Mean   :1.626  \n",
       " 3rd Qu.:1.950  \n",
       " Max.   :2.900  "
      ]
     },
     "metadata": {},
     "output_type": "display_data"
    }
   ],
   "source": [
    "summary(t(orario_occasione[1,colonne_oggetto_analisi]))\n",
    "summary(t(precipitazioni_occasione[1,colonne_oggetto_analisi]))\n",
    "summary(t(temperatura_occasione[1,colonne_oggetto_analisi]))\n",
    "summary(t(velvento_occasione[1,colonne_oggetto_analisi]))\n"
   ]
  },
  {
   "cell_type": "markdown",
   "metadata": {},
   "source": [
    "#### La variabile relativa alle precipitazioni, nel 2015, è inadatta alle analisi, verrà automaticamente scartata dal modello\n",
    "#### Le variabili categoriche non possono essere scalate (orario_ooccasione)\n",
    "#### La variabile temperatura_occasione è inadatta ad essere scalata"
   ]
  },
  {
   "cell_type": "code",
   "execution_count": 11,
   "metadata": {},
   "outputs": [],
   "source": [
    "obsCovs <- list(\n",
    "    orario = orario_occasione[,colonne_oggetto_analisi],\n",
    "    precip = precipitazioni_occasione[,colonne_oggetto_analisi],\n",
    "    temper = temperatura_occasione[,colonne_oggetto_analisi],\n",
    "    vento = velvento_occasione[,colonne_oggetto_analisi]\n",
    "\n",
    ")\n"
   ]
  },
  {
   "cell_type": "code",
   "execution_count": 12,
   "metadata": {},
   "outputs": [
    {
     "name": "stdout",
     "output_type": "stream",
     "text": [
      "unmarkedFrame Object\n",
      "\n",
      "70 sites\n",
      "Maximum number of observations per site: 19 \n",
      "Mean number of observations per site: 19 \n",
      "Sites with at least one detection: 17 \n",
      "\n",
      "Tabulation of y observations:\n",
      "   0    1 \n",
      "1301   29 \n",
      "\n",
      "Site-level covariates:\n",
      " Diametro.roccia.1..cm. Diametro.roccia.2..cm. Diametro.roccia.3..cm.\n",
      " Min.   :-1.1886        Min.   :-0.9998        Min.   :-1.1669       \n",
      " 1st Qu.:-0.6894        1st Qu.:-0.6599        1st Qu.:-0.5613       \n",
      " Median :-0.2908        Median :-0.2774        Median :-0.2490       \n",
      " Mean   : 0.0000        Mean   : 0.0000        Mean   : 0.0000       \n",
      " 3rd Qu.: 0.2821        3rd Qu.: 0.3706        3rd Qu.: 0.1106       \n",
      " Max.   : 4.3053        Max.   : 4.9493        Max.   : 4.2081       \n",
      "                                                                     \n",
      "     alt_m            aspect_deg        slope_degr        n_species      \n",
      " Min.   :-1.53434   Min.   :-1.7554   Min.   :-1.5052   Min.   :-2.0437  \n",
      " 1st Qu.:-0.91819   1st Qu.:-1.3229   1st Qu.:-0.6685   1st Qu.:-0.6997  \n",
      " Median :-0.08237   Median : 0.5503   Median :-0.1781   Median :-0.0768  \n",
      " Mean   : 0.00000   Mean   : 0.0000   Mean   : 0.0000   Mean   : 0.0000  \n",
      " 3rd Qu.: 0.69152   3rd Qu.: 0.6786   3rd Qu.: 0.7740   3rd Qu.: 0.7100  \n",
      " Max.   : 1.93832   Max.   : 0.8692   Max.   : 2.8802   Max.   : 2.1523  \n",
      "                                                                         \n",
      "    dominant             MDR               IQR              Esp.tr        \n",
      " Min.   :-1.51358   Min.   :-1.3927   Min.   :-1.1536   Min.   :-2.79776  \n",
      " 1st Qu.:-0.02132   1st Qu.:-0.6306   1st Qu.:-0.7382   1st Qu.:-0.56703  \n",
      " Median :-0.02132   Median :-0.2005   Median :-0.3430   Median :-0.03138  \n",
      " Mean   : 0.00000   Mean   : 0.0000   Mean   : 0.0000   Mean   : 0.00000  \n",
      " 3rd Qu.:-0.02132   3rd Qu.: 0.4409   3rd Qu.: 0.4776   3rd Qu.: 0.66021  \n",
      " Max.   : 1.47094   Max.   : 4.1608   Max.   : 4.0046   Max.   : 2.30105  \n",
      "                                                                          \n",
      " cop_veg_ottavi   \n",
      " Min.   :-1.4333  \n",
      " 1st Qu.:-0.7334  \n",
      " Median :-0.3135  \n",
      " Mean   : 0.0000  \n",
      " 3rd Qu.: 0.8062  \n",
      " Max.   : 2.4858  \n",
      " NA's   :20       \n",
      "\n",
      "Observation-level covariates:\n",
      " orario       precip            temper          vento      \n",
      " Al:700   Min.   :0.00000   Min.   : 8.50   Min.   :0.600  \n",
      " Tr:630   1st Qu.:0.00000   1st Qu.:12.00   1st Qu.:1.100  \n",
      "          Median :0.00000   Median :13.60   Median :1.600  \n",
      "          Mean   :0.05263   Mean   :13.59   Mean   :1.626  \n",
      "          3rd Qu.:0.00000   3rd Qu.:15.20   3rd Qu.:2.000  \n",
      "          Max.   :1.00000   Max.   :17.40   Max.   :2.900  \n"
     ]
    }
   ],
   "source": [
    "arvicole <- unmarkedFrameOccu(y = catture_effettive_selezionate, siteCovs = siteCovs, obsCovs = obsCovs)\n",
    "summary(arvicole)"
   ]
  },
  {
   "cell_type": "code",
   "execution_count": 16,
   "metadata": {},
   "outputs": [
    {
     "name": "stderr",
     "output_type": "stream",
     "text": [
      "Warning message:\n",
      "\"Some observations have been discarded because corresponding covariates were missing.\"\n",
      "Warning message:\n",
      "\"20 sites have been discarded because of missing data.\"\n"
     ]
    }
   ],
   "source": [
    "# n_species potremmo ignorarlo poiché fortemente correlato con la copertura veg. del 2015\n",
    "# slope_degr potremmo ignorarlo ignorato poiché trasformato in Esp.tr\n",
    "#    occu(~P            # PROBABILITA' DI AVVISTAMENTO\n",
    "#         ~PSI,         # EFFETTIVA PRESENZA\n",
    "#          dataset)\n",
    "fm.base <- occu(~orario + temper + vento + MDR\n",
    "            ~MDR + I(MDR^2) +\n",
    "            IQR + I(IQR^2) +\n",
    "            Esp.tr + I(Esp.tr^2)+\n",
    "            cop_veg_ottavi + I(cop_veg_ottavi^2) +\n",
    "            alt_m + I(alt_m^2) +\n",
    "            dominant + I(dominant^2) +\n",
    "            #n_species + I(n_species^2) +\n",
    "            slope_degr + I(slope_degr^2),\n",
    "            arvicole)"
   ]
  },
  {
   "cell_type": "code",
   "execution_count": 17,
   "metadata": {},
   "outputs": [
    {
     "data": {
      "text/html": [
       "'SOCK'"
      ],
      "text/latex": [
       "'SOCK'"
      ],
      "text/markdown": [
       "'SOCK'"
      ],
      "text/plain": [
       "[1] \"SOCK\""
      ]
     },
     "metadata": {},
     "output_type": "display_data"
    },
    {
     "data": {
      "text/html": [
       "<ol>\n",
       "\t<li><style>\n",
       ".list-inline {list-style: none; margin:0; padding: 0}\n",
       ".list-inline>li {display: inline-block}\n",
       ".list-inline>li:not(:last-child)::after {content: \"\\00b7\"; padding: 0 .5ex}\n",
       "</style>\n",
       "<ol class=list-inline><li>'unmarked'</li><li>'lattice'</li><li>'snow'</li><li>'stats'</li><li>'graphics'</li><li>'grDevices'</li><li>'utils'</li><li>'datasets'</li><li>'methods'</li><li>'base'</li></ol>\n",
       "</li>\n",
       "\t<li><style>\n",
       ".list-inline {list-style: none; margin:0; padding: 0}\n",
       ".list-inline>li {display: inline-block}\n",
       ".list-inline>li:not(:last-child)::after {content: \"\\00b7\"; padding: 0 .5ex}\n",
       "</style>\n",
       "<ol class=list-inline><li>'unmarked'</li><li>'lattice'</li><li>'snow'</li><li>'stats'</li><li>'graphics'</li><li>'grDevices'</li><li>'utils'</li><li>'datasets'</li><li>'methods'</li><li>'base'</li></ol>\n",
       "</li>\n",
       "</ol>\n"
      ],
      "text/latex": [
       "\\begin{enumerate}\n",
       "\\item \\begin{enumerate*}\n",
       "\\item 'unmarked'\n",
       "\\item 'lattice'\n",
       "\\item 'snow'\n",
       "\\item 'stats'\n",
       "\\item 'graphics'\n",
       "\\item 'grDevices'\n",
       "\\item 'utils'\n",
       "\\item 'datasets'\n",
       "\\item 'methods'\n",
       "\\item 'base'\n",
       "\\end{enumerate*}\n",
       "\n",
       "\\item \\begin{enumerate*}\n",
       "\\item 'unmarked'\n",
       "\\item 'lattice'\n",
       "\\item 'snow'\n",
       "\\item 'stats'\n",
       "\\item 'graphics'\n",
       "\\item 'grDevices'\n",
       "\\item 'utils'\n",
       "\\item 'datasets'\n",
       "\\item 'methods'\n",
       "\\item 'base'\n",
       "\\end{enumerate*}\n",
       "\n",
       "\\end{enumerate}\n"
      ],
      "text/markdown": [
       "1. 1. 'unmarked'\n",
       "2. 'lattice'\n",
       "3. 'snow'\n",
       "4. 'stats'\n",
       "5. 'graphics'\n",
       "6. 'grDevices'\n",
       "7. 'utils'\n",
       "8. 'datasets'\n",
       "9. 'methods'\n",
       "10. 'base'\n",
       "\n",
       "\n",
       "\n",
       "2. 1. 'unmarked'\n",
       "2. 'lattice'\n",
       "3. 'snow'\n",
       "4. 'stats'\n",
       "5. 'graphics'\n",
       "6. 'grDevices'\n",
       "7. 'utils'\n",
       "8. 'datasets'\n",
       "9. 'methods'\n",
       "10. 'base'\n",
       "\n",
       "\n",
       "\n",
       "\n",
       "\n"
      ],
      "text/plain": [
       "[[1]]\n",
       " [1] \"unmarked\"  \"lattice\"   \"snow\"      \"stats\"     \"graphics\"  \"grDevices\"\n",
       " [7] \"utils\"     \"datasets\"  \"methods\"   \"base\"     \n",
       "\n",
       "[[2]]\n",
       " [1] \"unmarked\"  \"lattice\"   \"snow\"      \"stats\"     \"graphics\"  \"grDevices\"\n",
       " [7] \"utils\"     \"datasets\"  \"methods\"   \"base\"     \n"
      ]
     },
     "metadata": {},
     "output_type": "display_data"
    },
    {
     "data": {
      "text/html": [
       "<ol>\n",
       "\t<li><style>\n",
       ".list-inline {list-style: none; margin:0; padding: 0}\n",
       ".list-inline>li {display: inline-block}\n",
       ".list-inline>li:not(:last-child)::after {content: \"\\00b7\"; padding: 0 .5ex}\n",
       "</style>\n",
       "<ol class=list-inline><li>'MuMIn'</li><li>'unmarked'</li><li>'lattice'</li><li>'snow'</li><li>'stats'</li><li>'graphics'</li><li>'grDevices'</li><li>'utils'</li><li>'datasets'</li><li>'methods'</li><li>'base'</li></ol>\n",
       "</li>\n",
       "\t<li><style>\n",
       ".list-inline {list-style: none; margin:0; padding: 0}\n",
       ".list-inline>li {display: inline-block}\n",
       ".list-inline>li:not(:last-child)::after {content: \"\\00b7\"; padding: 0 .5ex}\n",
       "</style>\n",
       "<ol class=list-inline><li>'MuMIn'</li><li>'unmarked'</li><li>'lattice'</li><li>'snow'</li><li>'stats'</li><li>'graphics'</li><li>'grDevices'</li><li>'utils'</li><li>'datasets'</li><li>'methods'</li><li>'base'</li></ol>\n",
       "</li>\n",
       "</ol>\n"
      ],
      "text/latex": [
       "\\begin{enumerate}\n",
       "\\item \\begin{enumerate*}\n",
       "\\item 'MuMIn'\n",
       "\\item 'unmarked'\n",
       "\\item 'lattice'\n",
       "\\item 'snow'\n",
       "\\item 'stats'\n",
       "\\item 'graphics'\n",
       "\\item 'grDevices'\n",
       "\\item 'utils'\n",
       "\\item 'datasets'\n",
       "\\item 'methods'\n",
       "\\item 'base'\n",
       "\\end{enumerate*}\n",
       "\n",
       "\\item \\begin{enumerate*}\n",
       "\\item 'MuMIn'\n",
       "\\item 'unmarked'\n",
       "\\item 'lattice'\n",
       "\\item 'snow'\n",
       "\\item 'stats'\n",
       "\\item 'graphics'\n",
       "\\item 'grDevices'\n",
       "\\item 'utils'\n",
       "\\item 'datasets'\n",
       "\\item 'methods'\n",
       "\\item 'base'\n",
       "\\end{enumerate*}\n",
       "\n",
       "\\end{enumerate}\n"
      ],
      "text/markdown": [
       "1. 1. 'MuMIn'\n",
       "2. 'unmarked'\n",
       "3. 'lattice'\n",
       "4. 'snow'\n",
       "5. 'stats'\n",
       "6. 'graphics'\n",
       "7. 'grDevices'\n",
       "8. 'utils'\n",
       "9. 'datasets'\n",
       "10. 'methods'\n",
       "11. 'base'\n",
       "\n",
       "\n",
       "\n",
       "2. 1. 'MuMIn'\n",
       "2. 'unmarked'\n",
       "3. 'lattice'\n",
       "4. 'snow'\n",
       "5. 'stats'\n",
       "6. 'graphics'\n",
       "7. 'grDevices'\n",
       "8. 'utils'\n",
       "9. 'datasets'\n",
       "10. 'methods'\n",
       "11. 'base'\n",
       "\n",
       "\n",
       "\n",
       "\n",
       "\n"
      ],
      "text/plain": [
       "[[1]]\n",
       " [1] \"MuMIn\"     \"unmarked\"  \"lattice\"   \"snow\"      \"stats\"     \"graphics\" \n",
       " [7] \"grDevices\" \"utils\"     \"datasets\"  \"methods\"   \"base\"     \n",
       "\n",
       "[[2]]\n",
       " [1] \"MuMIn\"     \"unmarked\"  \"lattice\"   \"snow\"      \"stats\"     \"graphics\" \n",
       " [7] \"grDevices\" \"utils\"     \"datasets\"  \"methods\"   \"base\"     \n"
      ]
     },
     "metadata": {},
     "output_type": "display_data"
    },
    {
     "data": {
      "text/html": [
       "<style>\n",
       ".list-inline {list-style: none; margin:0; padding: 0}\n",
       ".list-inline>li {display: inline-block}\n",
       ".list-inline>li:not(:last-child)::after {content: \"\\00b7\"; padding: 0 .5ex}\n",
       "</style>\n",
       "<ol class=list-inline><li>'p(MDR)'</li><li>'p(orario)'</li><li>'p(temper)'</li><li>'p(vento)'</li><li>'psi(alt_m)'</li><li>'psi(I(alt_m^2))'</li><li>'psi(cop_veg_ottavi)'</li><li>'psi(I(cop_veg_ottavi^2))'</li><li>'psi(dominant)'</li><li>'psi(I(dominant^2))'</li><li>'psi(Esp.tr)'</li><li>'psi(I(Esp.tr^2))'</li><li>'psi(IQR)'</li><li>'psi(I(IQR^2))'</li><li>'psi(MDR)'</li><li>'psi(I(MDR^2))'</li><li>'psi(slope_degr)'</li><li>'psi(I(slope_degr^2))'</li></ol>\n"
      ],
      "text/latex": [
       "\\begin{enumerate*}\n",
       "\\item 'p(MDR)'\n",
       "\\item 'p(orario)'\n",
       "\\item 'p(temper)'\n",
       "\\item 'p(vento)'\n",
       "\\item 'psi(alt\\_m)'\n",
       "\\item 'psi(I(alt\\_m\\textasciicircum{}2))'\n",
       "\\item 'psi(cop\\_veg\\_ottavi)'\n",
       "\\item 'psi(I(cop\\_veg\\_ottavi\\textasciicircum{}2))'\n",
       "\\item 'psi(dominant)'\n",
       "\\item 'psi(I(dominant\\textasciicircum{}2))'\n",
       "\\item 'psi(Esp.tr)'\n",
       "\\item 'psi(I(Esp.tr\\textasciicircum{}2))'\n",
       "\\item 'psi(IQR)'\n",
       "\\item 'psi(I(IQR\\textasciicircum{}2))'\n",
       "\\item 'psi(MDR)'\n",
       "\\item 'psi(I(MDR\\textasciicircum{}2))'\n",
       "\\item 'psi(slope\\_degr)'\n",
       "\\item 'psi(I(slope\\_degr\\textasciicircum{}2))'\n",
       "\\end{enumerate*}\n"
      ],
      "text/markdown": [
       "1. 'p(MDR)'\n",
       "2. 'p(orario)'\n",
       "3. 'p(temper)'\n",
       "4. 'p(vento)'\n",
       "5. 'psi(alt_m)'\n",
       "6. 'psi(I(alt_m^2))'\n",
       "7. 'psi(cop_veg_ottavi)'\n",
       "8. 'psi(I(cop_veg_ottavi^2))'\n",
       "9. 'psi(dominant)'\n",
       "10. 'psi(I(dominant^2))'\n",
       "11. 'psi(Esp.tr)'\n",
       "12. 'psi(I(Esp.tr^2))'\n",
       "13. 'psi(IQR)'\n",
       "14. 'psi(I(IQR^2))'\n",
       "15. 'psi(MDR)'\n",
       "16. 'psi(I(MDR^2))'\n",
       "17. 'psi(slope_degr)'\n",
       "18. 'psi(I(slope_degr^2))'\n",
       "\n",
       "\n"
      ],
      "text/plain": [
       " [1] \"p(MDR)\"                   \"p(orario)\"               \n",
       " [3] \"p(temper)\"                \"p(vento)\"                \n",
       " [5] \"psi(alt_m)\"               \"psi(I(alt_m^2))\"         \n",
       " [7] \"psi(cop_veg_ottavi)\"      \"psi(I(cop_veg_ottavi^2))\"\n",
       " [9] \"psi(dominant)\"            \"psi(I(dominant^2))\"      \n",
       "[11] \"psi(Esp.tr)\"              \"psi(I(Esp.tr^2))\"        \n",
       "[13] \"psi(IQR)\"                 \"psi(I(IQR^2))\"           \n",
       "[15] \"psi(MDR)\"                 \"psi(I(MDR^2))\"           \n",
       "[17] \"psi(slope_degr)\"          \"psi(I(slope_degr^2))\"    \n",
       "attr(,\"intercept\")\n",
       "  p psi \n",
       "  1   1 \n",
       "attr(,\"interceptLabel\")\n",
       "[1] \"p(Int)\"   \"psi(Int)\"\n",
       "attr(,\"deps\")\n",
       "                         p(MDR) p(orario) p(temper) p(vento) psi(alt_m)\n",
       "p(MDR)                       NA     FALSE     FALSE    FALSE      FALSE\n",
       "p(orario)                 FALSE        NA     FALSE    FALSE      FALSE\n",
       "p(temper)                 FALSE     FALSE        NA    FALSE      FALSE\n",
       "p(vento)                  FALSE     FALSE     FALSE       NA      FALSE\n",
       "psi(alt_m)                FALSE     FALSE     FALSE    FALSE         NA\n",
       "psi(I(alt_m^2))           FALSE     FALSE     FALSE    FALSE      FALSE\n",
       "psi(cop_veg_ottavi)       FALSE     FALSE     FALSE    FALSE      FALSE\n",
       "psi(I(cop_veg_ottavi^2))  FALSE     FALSE     FALSE    FALSE      FALSE\n",
       "psi(dominant)             FALSE     FALSE     FALSE    FALSE      FALSE\n",
       "psi(I(dominant^2))        FALSE     FALSE     FALSE    FALSE      FALSE\n",
       "psi(Esp.tr)               FALSE     FALSE     FALSE    FALSE      FALSE\n",
       "psi(I(Esp.tr^2))          FALSE     FALSE     FALSE    FALSE      FALSE\n",
       "psi(IQR)                  FALSE     FALSE     FALSE    FALSE      FALSE\n",
       "psi(I(IQR^2))             FALSE     FALSE     FALSE    FALSE      FALSE\n",
       "psi(MDR)                  FALSE     FALSE     FALSE    FALSE      FALSE\n",
       "psi(I(MDR^2))             FALSE     FALSE     FALSE    FALSE      FALSE\n",
       "psi(slope_degr)           FALSE     FALSE     FALSE    FALSE      FALSE\n",
       "psi(I(slope_degr^2))      FALSE     FALSE     FALSE    FALSE      FALSE\n",
       "                         psi(I(alt_m^2)) psi(cop_veg_ottavi)\n",
       "p(MDR)                             FALSE               FALSE\n",
       "p(orario)                          FALSE               FALSE\n",
       "p(temper)                          FALSE               FALSE\n",
       "p(vento)                           FALSE               FALSE\n",
       "psi(alt_m)                         FALSE               FALSE\n",
       "psi(I(alt_m^2))                       NA               FALSE\n",
       "psi(cop_veg_ottavi)                FALSE                  NA\n",
       "psi(I(cop_veg_ottavi^2))           FALSE               FALSE\n",
       "psi(dominant)                      FALSE               FALSE\n",
       "psi(I(dominant^2))                 FALSE               FALSE\n",
       "psi(Esp.tr)                        FALSE               FALSE\n",
       "psi(I(Esp.tr^2))                   FALSE               FALSE\n",
       "psi(IQR)                           FALSE               FALSE\n",
       "psi(I(IQR^2))                      FALSE               FALSE\n",
       "psi(MDR)                           FALSE               FALSE\n",
       "psi(I(MDR^2))                      FALSE               FALSE\n",
       "psi(slope_degr)                    FALSE               FALSE\n",
       "psi(I(slope_degr^2))               FALSE               FALSE\n",
       "                         psi(I(cop_veg_ottavi^2)) psi(dominant)\n",
       "p(MDR)                                      FALSE         FALSE\n",
       "p(orario)                                   FALSE         FALSE\n",
       "p(temper)                                   FALSE         FALSE\n",
       "p(vento)                                    FALSE         FALSE\n",
       "psi(alt_m)                                  FALSE         FALSE\n",
       "psi(I(alt_m^2))                             FALSE         FALSE\n",
       "psi(cop_veg_ottavi)                         FALSE         FALSE\n",
       "psi(I(cop_veg_ottavi^2))                       NA         FALSE\n",
       "psi(dominant)                               FALSE            NA\n",
       "psi(I(dominant^2))                          FALSE         FALSE\n",
       "psi(Esp.tr)                                 FALSE         FALSE\n",
       "psi(I(Esp.tr^2))                            FALSE         FALSE\n",
       "psi(IQR)                                    FALSE         FALSE\n",
       "psi(I(IQR^2))                               FALSE         FALSE\n",
       "psi(MDR)                                    FALSE         FALSE\n",
       "psi(I(MDR^2))                               FALSE         FALSE\n",
       "psi(slope_degr)                             FALSE         FALSE\n",
       "psi(I(slope_degr^2))                        FALSE         FALSE\n",
       "                         psi(I(dominant^2)) psi(Esp.tr) psi(I(Esp.tr^2))\n",
       "p(MDR)                                FALSE       FALSE            FALSE\n",
       "p(orario)                             FALSE       FALSE            FALSE\n",
       "p(temper)                             FALSE       FALSE            FALSE\n",
       "p(vento)                              FALSE       FALSE            FALSE\n",
       "psi(alt_m)                            FALSE       FALSE            FALSE\n",
       "psi(I(alt_m^2))                       FALSE       FALSE            FALSE\n",
       "psi(cop_veg_ottavi)                   FALSE       FALSE            FALSE\n",
       "psi(I(cop_veg_ottavi^2))              FALSE       FALSE            FALSE\n",
       "psi(dominant)                         FALSE       FALSE            FALSE\n",
       "psi(I(dominant^2))                       NA       FALSE            FALSE\n",
       "psi(Esp.tr)                           FALSE          NA            FALSE\n",
       "psi(I(Esp.tr^2))                      FALSE       FALSE               NA\n",
       "psi(IQR)                              FALSE       FALSE            FALSE\n",
       "psi(I(IQR^2))                         FALSE       FALSE            FALSE\n",
       "psi(MDR)                              FALSE       FALSE            FALSE\n",
       "psi(I(MDR^2))                         FALSE       FALSE            FALSE\n",
       "psi(slope_degr)                       FALSE       FALSE            FALSE\n",
       "psi(I(slope_degr^2))                  FALSE       FALSE            FALSE\n",
       "                         psi(IQR) psi(I(IQR^2)) psi(MDR) psi(I(MDR^2))\n",
       "p(MDR)                      FALSE         FALSE    FALSE         FALSE\n",
       "p(orario)                   FALSE         FALSE    FALSE         FALSE\n",
       "p(temper)                   FALSE         FALSE    FALSE         FALSE\n",
       "p(vento)                    FALSE         FALSE    FALSE         FALSE\n",
       "psi(alt_m)                  FALSE         FALSE    FALSE         FALSE\n",
       "psi(I(alt_m^2))             FALSE         FALSE    FALSE         FALSE\n",
       "psi(cop_veg_ottavi)         FALSE         FALSE    FALSE         FALSE\n",
       "psi(I(cop_veg_ottavi^2))    FALSE         FALSE    FALSE         FALSE\n",
       "psi(dominant)               FALSE         FALSE    FALSE         FALSE\n",
       "psi(I(dominant^2))          FALSE         FALSE    FALSE         FALSE\n",
       "psi(Esp.tr)                 FALSE         FALSE    FALSE         FALSE\n",
       "psi(I(Esp.tr^2))            FALSE         FALSE    FALSE         FALSE\n",
       "psi(IQR)                       NA         FALSE    FALSE         FALSE\n",
       "psi(I(IQR^2))               FALSE            NA    FALSE         FALSE\n",
       "psi(MDR)                    FALSE         FALSE       NA         FALSE\n",
       "psi(I(MDR^2))               FALSE         FALSE    FALSE            NA\n",
       "psi(slope_degr)             FALSE         FALSE    FALSE         FALSE\n",
       "psi(I(slope_degr^2))        FALSE         FALSE    FALSE         FALSE\n",
       "                         psi(slope_degr) psi(I(slope_degr^2))\n",
       "p(MDR)                             FALSE                FALSE\n",
       "p(orario)                          FALSE                FALSE\n",
       "p(temper)                          FALSE                FALSE\n",
       "p(vento)                           FALSE                FALSE\n",
       "psi(alt_m)                         FALSE                FALSE\n",
       "psi(I(alt_m^2))                    FALSE                FALSE\n",
       "psi(cop_veg_ottavi)                FALSE                FALSE\n",
       "psi(I(cop_veg_ottavi^2))           FALSE                FALSE\n",
       "psi(dominant)                      FALSE                FALSE\n",
       "psi(I(dominant^2))                 FALSE                FALSE\n",
       "psi(Esp.tr)                        FALSE                FALSE\n",
       "psi(I(Esp.tr^2))                   FALSE                FALSE\n",
       "psi(IQR)                           FALSE                FALSE\n",
       "psi(I(IQR^2))                      FALSE                FALSE\n",
       "psi(MDR)                           FALSE                FALSE\n",
       "psi(I(MDR^2))                      FALSE                FALSE\n",
       "psi(slope_degr)                       NA                FALSE\n",
       "psi(I(slope_degr^2))               FALSE                   NA"
      ]
     },
     "metadata": {},
     "output_type": "display_data"
    }
   ],
   "source": [
    "######### INFORMATICA\n",
    "clusterType <- if(length(find.package(\"snow\", quiet = TRUE))) \"SOCK\" else \"PSOCK\"\n",
    "clusterType\n",
    "clust <- try(makeCluster(getOption(\"cl.cores\", 2), type = clusterType))\n",
    "clusterEvalQ(clust, library(unmarked))\n",
    "clusterEvalQ(clust,library(MuMIn))\n",
    "clusterExport(clust, \"arvicole\")\n",
    "invisible(clusterCall(clust, \"library\", \"stats4\", character.only = TRUE))\n",
    "library(MuMIn)\n",
    "getAllTerms(fm.base)"
   ]
  },
  {
   "cell_type": "code",
   "execution_count": 18,
   "metadata": {},
   "outputs": [
    {
     "name": "stderr",
     "output_type": "stream",
     "text": [
      "Fixed terms are \"p(Int)\" and \"psi(Int)\"\n",
      "\n"
     ]
    },
    {
     "name": "stdout",
     "output_type": "stream",
     "text": [
      "  |======================================================================| 100%\n"
     ]
    }
   ],
   "source": [
    "pdd2 <- pdredge(fm.base, clust,\n",
    "                subset = \n",
    "                (`psi(alt_m)` | ! `psi(I(alt_m^2))`) &&\n",
    "                (`psi(cop_veg_ottavi)` | ! `psi(I(cop_veg_ottavi^2))`) &&\n",
    "                (`psi(dominant)` | ! `psi(I(dominant^2))`) &&\n",
    "                (`psi(Esp.tr)` | ! `psi(I(Esp.tr^2))`) &&\n",
    "                (`psi(IQR)` | ! `psi(I(IQR^2))`) &&\n",
    "                (`psi(MDR)` | ! `psi(I(MDR^2))`) &&\n",
    "                #(`psi(n_species)` | ! `psi(I(n_species^2))`) &&\n",
    "                (`psi(slope_degr)` | !`psi(I(slope_degr^2))`) &&\n",
    "                `p(MDR)` &&\n",
    "                `p(orario)` &&\n",
    "                `p(temper)` &&\n",
    "                `p(vento)`,    \n",
    "                trace = 2, m.lim = c(1,NA))"
   ]
  },
  {
   "cell_type": "code",
   "execution_count": 20,
   "metadata": {},
   "outputs": [
    {
     "name": "stderr",
     "output_type": "stream",
     "text": [
      "Warning message in `[.model.selection`(a, , part_c$end, drop = FALSE):\n",
      "\"cannot recalculate \"weights\" on an incomplete object\"\n",
      "Warning message in `[.model.selection`(a, , part_c$end, drop = FALSE):\n",
      "\"cannot recalculate \"weights\" on an incomplete object\"\n",
      "Warning message in `[.model.selection`(a, , part_c$end, drop = FALSE):\n",
      "\"cannot recalculate \"weights\" on an incomplete object\"\n",
      "Warning message in `[.model.selection`(a, , part_c$end, drop = FALSE):\n",
      "\"cannot recalculate \"weights\" on an incomplete object\"\n"
     ]
    },
    {
     "data": {
      "text/html": [
       "<table>\n",
       "<caption>A model.selection: 6 × 25</caption>\n",
       "<thead>\n",
       "\t<tr><th></th><th scope=col>p(Int)</th><th scope=col>psi(Int)</th><th scope=col>p(MDR)</th><th scope=col>p(orario)</th><th scope=col>p(temper)</th><th scope=col>p(vento)</th><th scope=col>psi(alt_m)</th><th scope=col>psi(I(alt_m^2))</th><th scope=col>psi(cop_veg_ottavi)</th><th scope=col>psi(I(cop_veg_ottavi^2))</th><th scope=col>...</th><th scope=col>psi(I(IQR^2))</th><th scope=col>psi(MDR)</th><th scope=col>psi(I(MDR^2))</th><th scope=col>psi(slope_degr)</th><th scope=col>psi(I(slope_degr^2))</th><th scope=col>df</th><th scope=col>logLik</th><th scope=col>AICc</th><th scope=col>delta</th><th scope=col>weight</th></tr>\n",
       "\t<tr><th></th><th scope=col>&lt;dbl&gt;</th><th scope=col>&lt;dbl&gt;</th><th scope=col>&lt;dbl&gt;</th><th scope=col>&lt;fct&gt;</th><th scope=col>&lt;dbl&gt;</th><th scope=col>&lt;dbl&gt;</th><th scope=col>&lt;dbl&gt;</th><th scope=col>&lt;dbl&gt;</th><th scope=col>&lt;dbl&gt;</th><th scope=col>&lt;dbl&gt;</th><th scope=col>...</th><th scope=col>&lt;dbl&gt;</th><th scope=col>&lt;dbl&gt;</th><th scope=col>&lt;dbl&gt;</th><th scope=col>&lt;dbl&gt;</th><th scope=col>&lt;dbl&gt;</th><th scope=col>&lt;int&gt;</th><th scope=col>&lt;dbl&gt;</th><th scope=col>&lt;dbl&gt;</th><th scope=col>&lt;dbl&gt;</th><th scope=col>&lt;mdl.wght&gt;</th></tr>\n",
       "</thead>\n",
       "<tbody>\n",
       "\t<tr><th scope=row>17487</th><td>0.1449747</td><td>197.14386</td><td>-1.4212589</td><td>+</td><td>-0.2209463</td><td>-0.2604266</td><td>       NA</td><td>       NA</td><td>-133.68073</td><td>NA</td><td>...</td><td>NA</td><td>470.85883</td><td>       NA</td><td>       NA</td><td>NA</td><td> 9</td><td>-104.6673</td><td>231.8346</td><td>0.0000000</td><td>0.29667927</td></tr>\n",
       "\t<tr><th scope=row>1407</th><td>0.3288501</td><td>257.53558</td><td>-0.8984463</td><td>+</td><td>-0.2205068</td><td>-0.2546954</td><td>-70.82926</td><td>-260.4415</td><td>-576.24239</td><td>NA</td><td>...</td><td>NA</td><td>       NA</td><td>       NA</td><td>       NA</td><td>NA</td><td>11</td><td>-101.8186</td><td>232.5846</td><td>0.7499739</td><td>0.20390714</td></tr>\n",
       "\t<tr><th scope=row>49231</th><td>0.2264305</td><td> 32.29032</td><td>-0.5624323</td><td>+</td><td>-0.2164031</td><td>-0.2481803</td><td>       NA</td><td>       NA</td><td> -37.21219</td><td>NA</td><td>...</td><td>NA</td><td>-20.18812</td><td>-84.55679</td><td>       NA</td><td>NA</td><td> 9</td><td>-105.1984</td><td>232.8967</td><td>1.0621439</td><td>0.17443980</td></tr>\n",
       "\t<tr><th scope=row>19583</th><td>0.3579867</td><td>151.17215</td><td>-1.1171667</td><td>+</td><td>-0.2224198</td><td>-0.2573544</td><td> 39.26078</td><td>-130.1932</td><td>-123.66281</td><td>NA</td><td>...</td><td>NA</td><td>133.07567</td><td>       NA</td><td>       NA</td><td>NA</td><td>12</td><td>-100.4327</td><td>233.2979</td><td>1.4632989</td><td>0.14273678</td></tr>\n",
       "\t<tr><th scope=row>83071</th><td>0.3409767</td><td>153.38248</td><td>-1.0979371</td><td>+</td><td>-0.2219306</td><td>-0.2568116</td><td> 14.16013</td><td>-122.4030</td><td>-136.60135</td><td>NA</td><td>...</td><td>NA</td><td>144.43486</td><td>       NA</td><td>26.971815</td><td>NA</td><td>12</td><td>-100.8249</td><td>234.0823</td><td>2.2477244</td><td>0.09642731</td></tr>\n",
       "\t<tr><th scope=row>66943</th><td>0.3802129</td><td>263.95025</td><td>-0.8228389</td><td>+</td><td>-0.2209419</td><td>-0.2554115</td><td>-89.54028</td><td>-269.2714</td><td>-612.33039</td><td>NA</td><td>...</td><td>NA</td><td>       NA</td><td>       NA</td><td> 6.248027</td><td>NA</td><td>12</td><td>-100.9416</td><td>234.3156</td><td>2.4810391</td><td>0.08580971</td></tr>\n",
       "</tbody>\n",
       "</table>\n"
      ],
      "text/latex": [
       "A model.selection: 6 × 25\n",
       "\\begin{tabular}{r|lllllllllllllllllllll}\n",
       "  & p(Int) & psi(Int) & p(MDR) & p(orario) & p(temper) & p(vento) & psi(alt\\_m) & psi(I(alt\\_m\\textasciicircum{}2)) & psi(cop\\_veg\\_ottavi) & psi(I(cop\\_veg\\_ottavi\\textasciicircum{}2)) & ... & psi(I(IQR\\textasciicircum{}2)) & psi(MDR) & psi(I(MDR\\textasciicircum{}2)) & psi(slope\\_degr) & psi(I(slope\\_degr\\textasciicircum{}2)) & df & logLik & AICc & delta & weight\\\\\n",
       "  & <dbl> & <dbl> & <dbl> & <fct> & <dbl> & <dbl> & <dbl> & <dbl> & <dbl> & <dbl> & ... & <dbl> & <dbl> & <dbl> & <dbl> & <dbl> & <int> & <dbl> & <dbl> & <dbl> & <mdl.wght>\\\\\n",
       "\\hline\n",
       "\t17487 & 0.1449747 & 197.14386 & -1.4212589 & + & -0.2209463 & -0.2604266 &        NA &        NA & -133.68073 & NA & ... & NA & 470.85883 &        NA &        NA & NA &  9 & -104.6673 & 231.8346 & 0.0000000 & 0.29667927\\\\\n",
       "\t1407 & 0.3288501 & 257.53558 & -0.8984463 & + & -0.2205068 & -0.2546954 & -70.82926 & -260.4415 & -576.24239 & NA & ... & NA &        NA &        NA &        NA & NA & 11 & -101.8186 & 232.5846 & 0.7499739 & 0.20390714\\\\\n",
       "\t49231 & 0.2264305 &  32.29032 & -0.5624323 & + & -0.2164031 & -0.2481803 &        NA &        NA &  -37.21219 & NA & ... & NA & -20.18812 & -84.55679 &        NA & NA &  9 & -105.1984 & 232.8967 & 1.0621439 & 0.17443980\\\\\n",
       "\t19583 & 0.3579867 & 151.17215 & -1.1171667 & + & -0.2224198 & -0.2573544 &  39.26078 & -130.1932 & -123.66281 & NA & ... & NA & 133.07567 &        NA &        NA & NA & 12 & -100.4327 & 233.2979 & 1.4632989 & 0.14273678\\\\\n",
       "\t83071 & 0.3409767 & 153.38248 & -1.0979371 & + & -0.2219306 & -0.2568116 &  14.16013 & -122.4030 & -136.60135 & NA & ... & NA & 144.43486 &        NA & 26.971815 & NA & 12 & -100.8249 & 234.0823 & 2.2477244 & 0.09642731\\\\\n",
       "\t66943 & 0.3802129 & 263.95025 & -0.8228389 & + & -0.2209419 & -0.2554115 & -89.54028 & -269.2714 & -612.33039 & NA & ... & NA &        NA &        NA &  6.248027 & NA & 12 & -100.9416 & 234.3156 & 2.4810391 & 0.08580971\\\\\n",
       "\\end{tabular}\n"
      ],
      "text/markdown": [
       "\n",
       "A model.selection: 6 × 25\n",
       "\n",
       "| <!--/--> | p(Int) &lt;dbl&gt; | psi(Int) &lt;dbl&gt; | p(MDR) &lt;dbl&gt; | p(orario) &lt;fct&gt; | p(temper) &lt;dbl&gt; | p(vento) &lt;dbl&gt; | psi(alt_m) &lt;dbl&gt; | psi(I(alt_m^2)) &lt;dbl&gt; | psi(cop_veg_ottavi) &lt;dbl&gt; | psi(I(cop_veg_ottavi^2)) &lt;dbl&gt; | ... ... | psi(I(IQR^2)) &lt;dbl&gt; | psi(MDR) &lt;dbl&gt; | psi(I(MDR^2)) &lt;dbl&gt; | psi(slope_degr) &lt;dbl&gt; | psi(I(slope_degr^2)) &lt;dbl&gt; | df &lt;int&gt; | logLik &lt;dbl&gt; | AICc &lt;dbl&gt; | delta &lt;dbl&gt; | weight &lt;mdl.wght&gt; |\n",
       "|---|---|---|---|---|---|---|---|---|---|---|---|---|---|---|---|---|---|---|---|---|---|\n",
       "| 17487 | 0.1449747 | 197.14386 | -1.4212589 | + | -0.2209463 | -0.2604266 |        NA |        NA | -133.68073 | NA | ... | NA | 470.85883 |        NA |        NA | NA |  9 | -104.6673 | 231.8346 | 0.0000000 | 0.29667927 |\n",
       "| 1407 | 0.3288501 | 257.53558 | -0.8984463 | + | -0.2205068 | -0.2546954 | -70.82926 | -260.4415 | -576.24239 | NA | ... | NA |        NA |        NA |        NA | NA | 11 | -101.8186 | 232.5846 | 0.7499739 | 0.20390714 |\n",
       "| 49231 | 0.2264305 |  32.29032 | -0.5624323 | + | -0.2164031 | -0.2481803 |        NA |        NA |  -37.21219 | NA | ... | NA | -20.18812 | -84.55679 |        NA | NA |  9 | -105.1984 | 232.8967 | 1.0621439 | 0.17443980 |\n",
       "| 19583 | 0.3579867 | 151.17215 | -1.1171667 | + | -0.2224198 | -0.2573544 |  39.26078 | -130.1932 | -123.66281 | NA | ... | NA | 133.07567 |        NA |        NA | NA | 12 | -100.4327 | 233.2979 | 1.4632989 | 0.14273678 |\n",
       "| 83071 | 0.3409767 | 153.38248 | -1.0979371 | + | -0.2219306 | -0.2568116 |  14.16013 | -122.4030 | -136.60135 | NA | ... | NA | 144.43486 |        NA | 26.971815 | NA | 12 | -100.8249 | 234.0823 | 2.2477244 | 0.09642731 |\n",
       "| 66943 | 0.3802129 | 263.95025 | -0.8228389 | + | -0.2209419 | -0.2554115 | -89.54028 | -269.2714 | -612.33039 | NA | ... | NA |        NA |        NA |  6.248027 | NA | 12 | -100.9416 | 234.3156 | 2.4810391 | 0.08580971 |\n",
       "\n"
      ],
      "text/plain": [
       "      p(Int)    psi(Int)  p(MDR)     p(orario) p(temper)  p(vento)   psi(alt_m)\n",
       "17487 0.1449747 197.14386 -1.4212589 +         -0.2209463 -0.2604266        NA \n",
       "1407  0.3288501 257.53558 -0.8984463 +         -0.2205068 -0.2546954 -70.82926 \n",
       "49231 0.2264305  32.29032 -0.5624323 +         -0.2164031 -0.2481803        NA \n",
       "19583 0.3579867 151.17215 -1.1171667 +         -0.2224198 -0.2573544  39.26078 \n",
       "83071 0.3409767 153.38248 -1.0979371 +         -0.2219306 -0.2568116  14.16013 \n",
       "66943 0.3802129 263.95025 -0.8228389 +         -0.2209419 -0.2554115 -89.54028 \n",
       "      psi(I(alt_m^2)) psi(cop_veg_ottavi) psi(I(cop_veg_ottavi^2)) ...\n",
       "17487        NA       -133.68073          NA                       ...\n",
       "1407  -260.4415       -576.24239          NA                       ...\n",
       "49231        NA        -37.21219          NA                       ...\n",
       "19583 -130.1932       -123.66281          NA                       ...\n",
       "83071 -122.4030       -136.60135          NA                       ...\n",
       "66943 -269.2714       -612.33039          NA                       ...\n",
       "      psi(I(IQR^2)) psi(MDR)  psi(I(MDR^2)) psi(slope_degr)\n",
       "17487 NA            470.85883        NA            NA      \n",
       "1407  NA                   NA        NA            NA      \n",
       "49231 NA            -20.18812 -84.55679            NA      \n",
       "19583 NA            133.07567        NA            NA      \n",
       "83071 NA            144.43486        NA     26.971815      \n",
       "66943 NA                   NA        NA      6.248027      \n",
       "      psi(I(slope_degr^2)) df logLik    AICc     delta     weight    \n",
       "17487 NA                    9 -104.6673 231.8346 0.0000000 0.29667927\n",
       "1407  NA                   11 -101.8186 232.5846 0.7499739 0.20390714\n",
       "49231 NA                    9 -105.1984 232.8967 1.0621439 0.17443980\n",
       "19583 NA                   12 -100.4327 233.2979 1.4632989 0.14273678\n",
       "83071 NA                   12 -100.8249 234.0823 2.2477244 0.09642731\n",
       "66943 NA                   12 -100.9416 234.3156 2.4810391 0.08580971"
      ]
     },
     "metadata": {},
     "output_type": "display_data"
    },
    {
     "name": "stderr",
     "output_type": "stream",
     "text": [
      "Warning message:\n",
      "\"Some observations have been discarded because corresponding covariates were missing.\"\n",
      "Warning message:\n",
      "\"20 sites have been discarded because of missing data.\"\n"
     ]
    },
    {
     "data": {
      "text/plain": [
       "$`1407`\n",
       "\n",
       "Call:\n",
       "occu(formula = ~MDR + orario + temper + vento + 1 ~ alt_m + I(alt_m^2) + \n",
       "    cop_veg_ottavi + dominant + Esp.tr + 1, data = arvicole)\n",
       "\n",
       "Occupancy:\n",
       "               Estimate    SE     z P(>|z|)\n",
       "(Intercept)       257.5 220.7  1.17   0.243\n",
       "alt_m             -70.8  65.2 -1.09   0.277\n",
       "I(alt_m^2)       -260.4 223.4 -1.17   0.244\n",
       "cop_veg_ottavi   -576.2 495.6 -1.16   0.245\n",
       "dominant          267.2 231.9  1.15   0.249\n",
       "Esp.tr           -251.6 216.6 -1.16   0.245\n",
       "\n",
       "Detection:\n",
       "            Estimate     SE      z P(>|z|)\n",
       "(Intercept)    0.329 1.1424  0.288  0.7734\n",
       "MDR           -0.898 0.4049 -2.219  0.0265\n",
       "orarioTr       0.166 0.4396  0.377  0.7064\n",
       "temper        -0.221 0.0865 -2.551  0.0108\n",
       "vento         -0.255 0.3796 -0.671  0.5022\n",
       "\n",
       "AIC: 225.6372 \n",
       "\n",
       "attr(,\"rank\")\n",
       "function (x) \n",
       "do.call(\"rank\", list(x))\n",
       "<environment: 0x0000000008999c38>\n",
       "attr(,\"call\")\n",
       "AICc(x)\n",
       "attr(,\"class\")\n",
       "[1] \"function\"     \"rankFunction\"\n",
       "attr(,\"beta\")\n",
       "[1] \"none\""
      ]
     },
     "metadata": {},
     "output_type": "display_data"
    },
    {
     "data": {
      "image/png": "[encoded data removed]",
      "text/plain": [
       "plot without title"
      ]
     },
     "metadata": {
      "image/png": {
       "height": 420,
       "width": 420
      }
     },
     "output_type": "display_data"
    }
   ],
   "source": [
    "head(pdd2)\n",
    "par(mfrow = c(1,1))\n",
    "op <- par(mar = c(3,5,6,4), mfrow=c(1,1))\n",
    "plot(pdd2, labAsExpr = TRUE)\n",
    "par(op)\n",
    "\n",
    "get.models(pdd2,2)"
   ]
  },
  {
   "cell_type": "code",
   "execution_count": null,
   "metadata": {},
   "outputs": [],
   "source": [
    "#save(pdd2, file=\"Dati-elaborati/pdd2.RData\", compress=FALSE)\n",
    "#load(\"Dati-elaborati/pdd2.RData\")"
   ]
  },
  {
   "cell_type": "code",
   "execution_count": 21,
   "metadata": {},
   "outputs": [
    {
     "data": {
      "text/plain": [
       "\n",
       "Call:\n",
       "model.avg(object = pdd2, subset = delta < 2)\n",
       "\n",
       "Component model call: \n",
       "occu(formula = ~<4 unique rhs>, data = arvicole)\n",
       "\n",
       "Component models: \n",
       "                      df  logLik   AICc delta weight\n",
       "1/2/3/4/7/9/11         9 -104.67 231.83  0.00   0.36\n",
       "1/2/3/4/5/6/7/8/9     11 -101.82 232.58  0.75   0.25\n",
       "1/2/3/4/7/11/12        9 -105.20 232.90  1.06   0.21\n",
       "1/2/3/4/5/6/7/9/10/11 12 -100.43 233.30  1.46   0.17\n",
       "\n",
       "Term codes: \n",
       "             p(MDR)           p(orario)           p(temper)            p(vento) \n",
       "                  1                   2                   3                   4 \n",
       "         psi(alt_m)     psi(I(alt_m^2)) psi(cop_veg_ottavi)       psi(dominant) \n",
       "                  5                   6                   7                   8 \n",
       "        psi(Esp.tr)    psi(I(Esp.tr^2))            psi(MDR)       psi(I(MDR^2)) \n",
       "                  9                  10                  11                  12 \n",
       "\n",
       "Model-averaged coefficients:  \n",
       "(full average) \n",
       "                      Estimate Std. Error z value Pr(>|z|)  \n",
       "psi(Int)             169.01276 2079.32005   0.081   0.9352  \n",
       "psi(cop_veg_ottavi) -221.70575 6521.84127   0.034   0.9729  \n",
       "psi(Esp.tr)         -131.01546  391.35481   0.335   0.7378  \n",
       "psi(MDR)             189.74598  541.45547   0.350   0.7260  \n",
       "p(Int)                 0.24538    1.14405   0.214   0.8302  \n",
       "p(MDR)                -1.05462    0.53266   1.980   0.0477 *\n",
       "p(orarioTr)            0.16515    0.43936   0.376   0.7070  \n",
       "p(temper)             -0.22012    0.08641   2.548   0.0108 *\n",
       "p(vento)              -0.25585    0.37943   0.674   0.5001  \n",
       "psi(alt_m)           -10.80831  128.29786   0.084   0.9329  \n",
       "psi(I(alt_m^2))      -87.66506  384.70052   0.228   0.8197  \n",
       "psi(dominant)         66.62549  163.60911   0.407   0.6838  \n",
       "psi(I(MDR^2))        -18.03710   45.25840   0.399   0.6902  \n",
       "psi(I(Esp.tr^2))       2.60340   85.62141   0.030   0.9757  \n",
       " \n",
       "(conditional average) \n",
       "                      Estimate Std. Error z value Pr(>|z|)  \n",
       "psi(Int)             169.01276 2079.32005   0.081   0.9352  \n",
       "psi(cop_veg_ottavi) -221.70575 6521.84127   0.034   0.9729  \n",
       "psi(Esp.tr)         -166.54085  434.47872   0.383   0.7015  \n",
       "psi(MDR)             252.77471  612.06767   0.413   0.6796  \n",
       "p(Int)                 0.24538    1.14405   0.214   0.8302  \n",
       "p(MDR)                -1.05462    0.53266   1.980   0.0477 *\n",
       "p(orarioTr)            0.16515    0.43936   0.376   0.7070  \n",
       "p(temper)             -0.22012    0.08641   2.548   0.0108 *\n",
       "p(vento)              -0.25585    0.37943   0.674   0.5001  \n",
       "psi(alt_m)           -25.49773  196.10411   0.130   0.8965  \n",
       "psi(I(alt_m^2))     -206.80946  569.64165   0.363   0.7166  \n",
       "psi(dominant)        267.19936  231.85934   1.152   0.2491  \n",
       "psi(I(MDR^2))        -84.55679   63.06916   1.341   0.1800  \n",
       "psi(I(Esp.tr^2))      14.91531  204.49215   0.073   0.9419  \n",
       "---\n",
       "Signif. codes:  0 '***' 0.001 '**' 0.01 '*' 0.05 '.' 0.1 ' ' 1\n"
      ]
     },
     "metadata": {},
     "output_type": "display_data"
    }
   ],
   "source": [
    "## PASSAGGIO DI MODEL AVERAGING: CONSIDERIAMO CONTEMPORANEAMENTE I MODELLI MIGLIORI CHE DIFFERISCONO TRA LORO\n",
    "## DI POCO IN TERMINI DI AIC (deltaAIC < 2)\n",
    "summary(model.avg(pdd2, subset = delta < 2))"
   ]
  },
  {
   "cell_type": "code",
   "execution_count": 31,
   "metadata": {},
   "outputs": [
    {
     "name": "stderr",
     "output_type": "stream",
     "text": [
      "Warning message:\n",
      "\"Some observations have been discarded because corresponding covariates were missing.\"\n",
      "Warning message:\n",
      "\"20 sites have been discarded because of missing data.\"\n"
     ]
    },
    {
     "data": {
      "text/plain": [
       "\n",
       "Call:\n",
       "occu(formula = ~MDR + orario + temper + vento + 1 ~ alt_m + I(alt_m^2) + \n",
       "    cop_veg_ottavi + dominant + Esp.tr + 1, data = arvicole)\n",
       "\n",
       "Occupancy:\n",
       "               Estimate    SE     z P(>|z|)\n",
       "(Intercept)       257.5 220.7  1.17   0.243\n",
       "alt_m             -70.8  65.2 -1.09   0.277\n",
       "I(alt_m^2)       -260.4 223.4 -1.17   0.244\n",
       "cop_veg_ottavi   -576.2 495.6 -1.16   0.245\n",
       "dominant          267.2 231.9  1.15   0.249\n",
       "Esp.tr           -251.6 216.6 -1.16   0.245\n",
       "\n",
       "Detection:\n",
       "            Estimate     SE      z P(>|z|)\n",
       "(Intercept)    0.329 1.1424  0.288  0.7734\n",
       "MDR           -0.898 0.4049 -2.219  0.0265\n",
       "orarioTr       0.166 0.4396  0.377  0.7064\n",
       "temper        -0.221 0.0865 -2.551  0.0108\n",
       "vento         -0.255 0.3796 -0.671  0.5022\n",
       "\n",
       "AIC: 225.6372 "
      ]
     },
     "metadata": {},
     "output_type": "display_data"
    }
   ],
   "source": [
    "best.mod1 <- (get.models(pdd2, 2)[[1]])\n",
    "best.mod1"
   ]
  }
 ],
 "metadata": {
  "kernelspec": {
   "display_name": "R",
   "language": "R",
   "name": "ir"
  },
  "language_info": {
   "codemirror_mode": "r",
   "file_extension": ".r",
   "mimetype": "text/x-r-source",
   "name": "R",
   "pygments_lexer": "r",
   "version": "3.6.3"
  }
 },
 "nbformat": 4,
 "nbformat_minor": 4
}
