{
 "cells": [
  {
   "cell_type": "markdown",
   "metadata": {},
   "source": [
    "## Applicazione analisi Detection Histories e Modelli Occupancy"
   ]
  },
  {
   "cell_type": "markdown",
   "metadata": {},
   "source": [
    "### Claudia Gabriela Ochoa Martinez (2020)"
   ]
  },
  {
   "cell_type": "code",
   "execution_count": 1,
   "metadata": {},
   "outputs": [],
   "source": [
    "#### Inserire l'anno su cui si vuole effettuare l'analisi es. ==\"2014\", \"2015\", ecc\n",
    "anno_analisi <- \"2015\"\n",
    "sessione_analisi <- \"1\""
   ]
  },
  {
   "cell_type": "code",
   "execution_count": 2,
   "metadata": {},
   "outputs": [
    {
     "name": "stderr",
     "output_type": "stream",
     "text": [
      "\n",
      "Attaching package: 'dplyr'\n",
      "\n",
      "\n",
      "The following objects are masked from 'package:stats':\n",
      "\n",
      "    filter, lag\n",
      "\n",
      "\n",
      "The following objects are masked from 'package:base':\n",
      "\n",
      "    intersect, setdiff, setequal, union\n",
      "\n",
      "\n",
      "Loading required package: lattice\n",
      "\n",
      "Loading required package: stats4\n",
      "\n",
      "\n",
      "Attaching package: 'stats4'\n",
      "\n",
      "\n",
      "The following object is masked from 'package:unmarked':\n",
      "\n",
      "    mle\n",
      "\n",
      "\n",
      "Loading required package: parallel\n",
      "\n"
     ]
    }
   ],
   "source": [
    "library(dplyr)\n",
    "library(readr)\n",
    "library(unmarked)\n",
    "require(stats4)\n",
    "require(parallel)"
   ]
  },
  {
   "cell_type": "code",
   "execution_count": 3,
   "metadata": {},
   "outputs": [],
   "source": [
    "# Matrice di detection history (catture effettive) -- y\n",
    "catture_effettive <- read.csv(\"Dati-preparazione-modello\\\\catture_effettive_totale.csv\", dec=\",\", sep=\";\", header = TRUE)\n",
    "\n",
    "# Leggiamo le matrici dell'Orario (Alba Tramonto), Precipitazioni e Temperatura -- ObsCovs\n",
    "orario_occasione <- read.csv(\"Dati-preparazione-modello\\\\orario_occasione_totale.csv\", dec=\",\", sep=\";\", header = TRUE, stringsAsFactors = FALSE)\n",
    "precipitazioni_occasione <- read.csv(\"Dati-preparazione-modello\\\\precipitazioni_occasione_totale.csv\", dec=\",\", sep=\";\", header = TRUE, stringsAsFactors = FALSE)\n",
    "temperatura_occasione <- read.csv(\"Dati-preparazione-modello\\\\temperatura_occasione_totale.csv\", dec=\",\", sep=\";\", header = TRUE, stringsAsFactors = FALSE)\n",
    "velvento_occasione <- read.csv(\"Dati-preparazione-modello\\\\velvento_occasione_totale.csv\", dec=\",\", sep=\";\", header = TRUE, stringsAsFactors = FALSE)\n",
    "\n",
    "# Prendiamo Datioccas per legare l'anno alle varie osservazioni\n",
    "Datioccas <- read.csv(\"Dati-elaborati/Dati-occasioni.csv\", dec=\",\", sep=\";\", header = TRUE)\n",
    "\n",
    "# Leggiamo il file relativo alle invarianti ambientali (covariate) -- siteCovs\n",
    "siteCovs <- read.csv(\"Dati-preparazione-modello/Dati-cov-mdr-iqr.csv\", dec=\",\", sep=\";\", header = TRUE, stringsAsFactors = FALSE)"
   ]
  },
  {
   "cell_type": "code",
   "execution_count": 4,
   "metadata": {},
   "outputs": [],
   "source": [
    "# Non avendo sufficienti dati sulle ultime 5 trappole, le escludiamo\n",
    "catture_effettive <- catture_effettive[1:70,]\n",
    "\n",
    "orario_occasione <- orario_occasione[1:70,]\n",
    "precipitazioni_occasione <- precipitazioni_occasione[1:70,]\n",
    "temperatura_occasione <- temperatura_occasione[1:70,]\n",
    "velvento_occasione <- velvento_occasione[1:70,]\n",
    "siteCovs <- siteCovs[1:70,]"
   ]
  },
  {
   "cell_type": "code",
   "execution_count": 5,
   "metadata": {},
   "outputs": [
    {
     "data": {
      "text/html": [
       "<table>\n",
       "<caption>A data.frame: 6 × 12</caption>\n",
       "<thead>\n",
       "\t<tr><th></th><th scope=col>Diametro.roccia.1..cm.</th><th scope=col>Diametro.roccia.2..cm.</th><th scope=col>Diametro.roccia.3..cm.</th><th scope=col>alt_m</th><th scope=col>aspect_deg</th><th scope=col>slope_degr</th><th scope=col>n_species</th><th scope=col>dominant</th><th scope=col>MDR</th><th scope=col>IQR</th><th scope=col>Esp.tr</th><th scope=col>cop_veg_ottavi</th></tr>\n",
       "\t<tr><th></th><th scope=col>&lt;int&gt;</th><th scope=col>&lt;int&gt;</th><th scope=col>&lt;int&gt;</th><th scope=col>&lt;dbl&gt;</th><th scope=col>&lt;int&gt;</th><th scope=col>&lt;int&gt;</th><th scope=col>&lt;int&gt;</th><th scope=col>&lt;dbl&gt;</th><th scope=col>&lt;int&gt;</th><th scope=col>&lt;dbl&gt;</th><th scope=col>&lt;int&gt;</th><th scope=col>&lt;dbl&gt;</th></tr>\n",
       "</thead>\n",
       "<tbody>\n",
       "\t<tr><th scope=row>65</th><td>292</td><td> 99</td><td>67</td><td>2787.358</td><td> 13</td><td> 7</td><td> 2</td><td>10</td><td>99</td><td>112.5</td><td>13</td><td>0.4</td></tr>\n",
       "\t<tr><th scope=row>66</th><td>139</td><td> 75</td><td>21</td><td>2788.498</td><td> 11</td><td>29</td><td>14</td><td>30</td><td>75</td><td> 59.0</td><td>11</td><td>1.2</td></tr>\n",
       "\t<tr><th scope=row>67</th><td> 77</td><td> 83</td><td>40</td><td>2792.428</td><td> 19</td><td>38</td><td>13</td><td>20</td><td>77</td><td> 21.5</td><td>19</td><td>0.8</td></tr>\n",
       "\t<tr><th scope=row>68</th><td> 71</td><td>127</td><td>58</td><td>2794.777</td><td> 13</td><td>17</td><td>10</td><td>30</td><td>71</td><td> 34.5</td><td>13</td><td>1.2</td></tr>\n",
       "\t<tr><th scope=row>69</th><td> 97</td><td> 75</td><td>66</td><td>2792.266</td><td> 12</td><td>11</td><td> 8</td><td>20</td><td>75</td><td> 15.5</td><td>12</td><td>0.4</td></tr>\n",
       "\t<tr><th scope=row>70</th><td>207</td><td> 73</td><td>96</td><td>2792.857</td><td>358</td><td> 2</td><td> 2</td><td>30</td><td>96</td><td> 67.0</td><td>-2</td><td>0.0</td></tr>\n",
       "</tbody>\n",
       "</table>\n"
      ],
      "text/latex": [
       "A data.frame: 6 × 12\n",
       "\\begin{tabular}{r|llllllllllll}\n",
       "  & Diametro.roccia.1..cm. & Diametro.roccia.2..cm. & Diametro.roccia.3..cm. & alt\\_m & aspect\\_deg & slope\\_degr & n\\_species & dominant & MDR & IQR & Esp.tr & cop\\_veg\\_ottavi\\\\\n",
       "  & <int> & <int> & <int> & <dbl> & <int> & <int> & <int> & <dbl> & <int> & <dbl> & <int> & <dbl>\\\\\n",
       "\\hline\n",
       "\t65 & 292 &  99 & 67 & 2787.358 &  13 &  7 &  2 & 10 & 99 & 112.5 & 13 & 0.4\\\\\n",
       "\t66 & 139 &  75 & 21 & 2788.498 &  11 & 29 & 14 & 30 & 75 &  59.0 & 11 & 1.2\\\\\n",
       "\t67 &  77 &  83 & 40 & 2792.428 &  19 & 38 & 13 & 20 & 77 &  21.5 & 19 & 0.8\\\\\n",
       "\t68 &  71 & 127 & 58 & 2794.777 &  13 & 17 & 10 & 30 & 71 &  34.5 & 13 & 1.2\\\\\n",
       "\t69 &  97 &  75 & 66 & 2792.266 &  12 & 11 &  8 & 20 & 75 &  15.5 & 12 & 0.4\\\\\n",
       "\t70 & 207 &  73 & 96 & 2792.857 & 358 &  2 &  2 & 30 & 96 &  67.0 & -2 & 0.0\\\\\n",
       "\\end{tabular}\n"
      ],
      "text/markdown": [
       "\n",
       "A data.frame: 6 × 12\n",
       "\n",
       "| <!--/--> | Diametro.roccia.1..cm. &lt;int&gt; | Diametro.roccia.2..cm. &lt;int&gt; | Diametro.roccia.3..cm. &lt;int&gt; | alt_m &lt;dbl&gt; | aspect_deg &lt;int&gt; | slope_degr &lt;int&gt; | n_species &lt;int&gt; | dominant &lt;dbl&gt; | MDR &lt;int&gt; | IQR &lt;dbl&gt; | Esp.tr &lt;int&gt; | cop_veg_ottavi &lt;dbl&gt; |\n",
       "|---|---|---|---|---|---|---|---|---|---|---|---|---|\n",
       "| 65 | 292 |  99 | 67 | 2787.358 |  13 |  7 |  2 | 10 | 99 | 112.5 | 13 | 0.4 |\n",
       "| 66 | 139 |  75 | 21 | 2788.498 |  11 | 29 | 14 | 30 | 75 |  59.0 | 11 | 1.2 |\n",
       "| 67 |  77 |  83 | 40 | 2792.428 |  19 | 38 | 13 | 20 | 77 |  21.5 | 19 | 0.8 |\n",
       "| 68 |  71 | 127 | 58 | 2794.777 |  13 | 17 | 10 | 30 | 71 |  34.5 | 13 | 1.2 |\n",
       "| 69 |  97 |  75 | 66 | 2792.266 |  12 | 11 |  8 | 20 | 75 |  15.5 | 12 | 0.4 |\n",
       "| 70 | 207 |  73 | 96 | 2792.857 | 358 |  2 |  2 | 30 | 96 |  67.0 | -2 | 0.0 |\n",
       "\n"
      ],
      "text/plain": [
       "   Diametro.roccia.1..cm. Diametro.roccia.2..cm. Diametro.roccia.3..cm.\n",
       "65 292                     99                    67                    \n",
       "66 139                     75                    21                    \n",
       "67  77                     83                    40                    \n",
       "68  71                    127                    58                    \n",
       "69  97                     75                    66                    \n",
       "70 207                     73                    96                    \n",
       "   alt_m    aspect_deg slope_degr n_species dominant MDR IQR   Esp.tr\n",
       "65 2787.358  13         7          2        10       99  112.5 13    \n",
       "66 2788.498  11        29         14        30       75   59.0 11    \n",
       "67 2792.428  19        38         13        20       77   21.5 19    \n",
       "68 2794.777  13        17         10        30       71   34.5 13    \n",
       "69 2792.266  12        11          8        20       75   15.5 12    \n",
       "70 2792.857 358         2          2        30       96   67.0 -2    \n",
       "   cop_veg_ottavi\n",
       "65 0.4           \n",
       "66 1.2           \n",
       "67 0.8           \n",
       "68 1.2           \n",
       "69 0.4           \n",
       "70 0.0           "
      ]
     },
     "metadata": {},
     "output_type": "display_data"
    }
   ],
   "source": [
    "# TRASFORMIAMO le specie vegetali presenti in siteCovs in numeric per evitare singolarità nei modelli\n",
    "siteCovs$dominant[siteCovs$dominant != \"Graminacee\" & siteCovs$dominant != \"Muschio\"]  <- 30\n",
    "siteCovs$dominant[siteCovs$dominant == \"Graminacee\"]  <- 20\n",
    "siteCovs$dominant[siteCovs$dominant == \"Muschio\"]  <- 10\n",
    "siteCovs$dominant <- as.numeric(siteCovs$dominant)\n",
    "\n",
    "# Seleziono la coperatura vegetale di interesse\n",
    "if (anno_analisi %in% c(\"2014\",\"2015\",\"2016\",\"2017\")) {\n",
    "    siteCovs$cop_veg_ottavi <- siteCovs$Cop_Veg_2015_ottavi\n",
    "    siteCovs <- subset(siteCovs, select=-c(Cop_Veg_2015_ottavi,Cop_Veg_2018_ottavi))\n",
    "} else {\n",
    "    siteCovs$cop_veg_ottavi <- siteCovs$Cop_Veg_2018_ottavi\n",
    "    siteCovs <- subset(siteCovs, select=-c(Cop_Veg_2015_ottavi,Cop_Veg_2018_ottavi))\n",
    "\n",
    "}\n",
    "    \n",
    "tail(siteCovs)"
   ]
  },
  {
   "cell_type": "code",
   "execution_count": 6,
   "metadata": {},
   "outputs": [],
   "source": [
    "# Ricaviamo le colonne oggetto di analisi\n",
    "if (exists(\"sessione_analisi\")) {\n",
    "    colonne_oggetto_analisi <- rownames(subset(Datioccas,Anno == anno_analisi & sessione == sessione_analisi))\n",
    "} else {\n",
    "    colonne_oggetto_analisi <- rownames(subset(Datioccas,Anno == anno_analisi))\n",
    "}\n",
    "colonne_oggetto_analisi <- as.numeric(colonne_oggetto_analisi)"
   ]
  },
  {
   "cell_type": "code",
   "execution_count": 7,
   "metadata": {},
   "outputs": [],
   "source": [
    "catture_effettive_selezionate <- catture_effettive[,colonne_oggetto_analisi]"
   ]
  },
  {
   "cell_type": "code",
   "execution_count": 8,
   "metadata": {},
   "outputs": [
    {
     "data": {
      "text/plain": [
       " Diametro.roccia.1..cm. Diametro.roccia.2..cm. Diametro.roccia.3..cm.\n",
       " Min.   : 30.00         Min.   : 28.00         Min.   :  8.00        \n",
       " 1st Qu.: 67.25         1st Qu.: 44.00         1st Qu.: 40.00        \n",
       " Median : 97.00         Median : 62.00         Median : 56.50        \n",
       " Mean   :118.70         Mean   : 75.06         Mean   : 69.66        \n",
       " 3rd Qu.:139.75         3rd Qu.: 92.50         3rd Qu.: 75.50        \n",
       " Max.   :440.00         Max.   :308.00         Max.   :292.00        \n",
       "     alt_m        aspect_deg      slope_degr      n_species        dominant    \n",
       " Min.   :2778   Min.   :  0.0   Min.   : 0.00   Min.   : 0.00   Min.   :10.00  \n",
       " 1st Qu.:2783   1st Qu.: 59.0   1st Qu.: 7.25   1st Qu.:10.25   1st Qu.:20.00  \n",
       " Median :2789   Median :314.5   Median :11.50   Median :15.00   Median :20.00  \n",
       " Mean   :2789   Mean   :239.4   Mean   :13.04   Mean   :15.59   Mean   :20.14  \n",
       " 3rd Qu.:2795   3rd Qu.:332.0   3rd Qu.:19.75   3rd Qu.:21.00   3rd Qu.:20.00  \n",
       " Max.   :2804   Max.   :358.0   Max.   :38.00   Max.   :32.00   Max.   :30.00  \n",
       "      MDR              IQR             Esp.tr        cop_veg_ottavi \n",
       " Min.   : 28.00   Min.   :  5.50   Min.   :-126.00   Min.   :0.000  \n",
       " 1st Qu.: 53.25   1st Qu.: 21.00   1st Qu.: -43.75   1st Qu.:0.800  \n",
       " Median : 67.50   Median : 35.75   Median : -24.00   Median :2.000  \n",
       " Mean   : 74.14   Mean   : 48.55   Mean   : -22.84   Mean   :2.107  \n",
       " 3rd Qu.: 88.75   3rd Qu.: 66.38   3rd Qu.:   1.50   3rd Qu.:3.600  \n",
       " Max.   :212.00   Max.   :198.00   Max.   :  62.00   Max.   :6.400  "
      ]
     },
     "metadata": {},
     "output_type": "display_data"
    }
   ],
   "source": [
    "summary(siteCovs)"
   ]
  },
  {
   "cell_type": "markdown",
   "metadata": {},
   "source": [
    "#### Concludiamo che tutte le variabili presenti in siteCovs sono adatte ad essere utilizzate nell'analisi\n",
    "#### Provvediamo a scalarle e centrarle"
   ]
  },
  {
   "cell_type": "code",
   "execution_count": 9,
   "metadata": {},
   "outputs": [
    {
     "data": {
      "text/html": [
       "<table>\n",
       "<caption>A data.frame: 6 × 12</caption>\n",
       "<thead>\n",
       "\t<tr><th></th><th scope=col>Diametro.roccia.1..cm.</th><th scope=col>Diametro.roccia.2..cm.</th><th scope=col>Diametro.roccia.3..cm.</th><th scope=col>alt_m</th><th scope=col>aspect_deg</th><th scope=col>slope_degr</th><th scope=col>n_species</th><th scope=col>dominant</th><th scope=col>MDR</th><th scope=col>IQR</th><th scope=col>Esp.tr</th><th scope=col>cop_veg_ottavi</th></tr>\n",
       "\t<tr><th></th><th scope=col>&lt;dbl&gt;</th><th scope=col>&lt;dbl&gt;</th><th scope=col>&lt;dbl&gt;</th><th scope=col>&lt;dbl&gt;</th><th scope=col>&lt;dbl&gt;</th><th scope=col>&lt;dbl&gt;</th><th scope=col>&lt;dbl&gt;</th><th scope=col>&lt;dbl&gt;</th><th scope=col>&lt;dbl&gt;</th><th scope=col>&lt;dbl&gt;</th><th scope=col>&lt;dbl&gt;</th><th scope=col>&lt;dbl&gt;</th></tr>\n",
       "</thead>\n",
       "<tbody>\n",
       "\t<tr><th scope=row>65</th><td> 2.3221655</td><td> 0.508714136</td><td>-0.05028955</td><td>-0.2773832</td><td>-1.6601337</td><td>-0.6973735</td><td>-1.7814483</td><td>-1.51357553</td><td> 0.75023962</td><td> 1.7135977</td><td>0.9721058</td><td>-1.0195015</td></tr>\n",
       "\t<tr><th scope=row>66</th><td> 0.2720136</td><td>-0.001214115</td><td>-0.92089358</td><td>-0.1254769</td><td>-1.6747964</td><td> 1.8415278</td><td>-0.2079293</td><td> 1.47093960</td><td> 0.02587033</td><td> 0.2800171</td><td>0.9178632</td><td>-0.5418234</td></tr>\n",
       "\t<tr><th scope=row>67</th><td>-0.5587669</td><td> 0.168761969</td><td>-0.56129626</td><td> 0.3982001</td><td>-1.6161456</td><td> 2.8801692</td><td>-0.3390559</td><td>-0.02131797</td><td> 0.08623444</td><td>-0.7248291</td><td>1.1348338</td><td>-0.7806624</td></tr>\n",
       "\t<tr><th scope=row>68</th><td>-0.6391650</td><td> 1.103630428</td><td>-0.22062512</td><td> 0.7112070</td><td>-1.6601337</td><td> 0.4566725</td><td>-0.7324356</td><td> 1.47093960</td><td>-0.09485788</td><td>-0.3764824</td><td>0.9721058</td><td>-0.5418234</td></tr>\n",
       "\t<tr><th scope=row>69</th><td>-0.2907732</td><td>-0.001214115</td><td>-0.06921572</td><td> 0.3766134</td><td>-1.6674651</td><td>-0.2357551</td><td>-0.9946888</td><td>-0.02131797</td><td> 0.02587033</td><td>-0.8856045</td><td>0.9449845</td><td>-1.0195015</td></tr>\n",
       "\t<tr><th scope=row>70</th><td> 1.1831922</td><td>-0.043708136</td><td> 0.49856951</td><td> 0.4553648</td><td> 0.8691849</td><td>-1.2743966</td><td>-1.7814483</td><td> 1.47093960</td><td> 0.65969346</td><td> 0.4943843</td><td>0.5652859</td><td>-1.2583405</td></tr>\n",
       "</tbody>\n",
       "</table>\n"
      ],
      "text/latex": [
       "A data.frame: 6 × 12\n",
       "\\begin{tabular}{r|llllllllllll}\n",
       "  & Diametro.roccia.1..cm. & Diametro.roccia.2..cm. & Diametro.roccia.3..cm. & alt\\_m & aspect\\_deg & slope\\_degr & n\\_species & dominant & MDR & IQR & Esp.tr & cop\\_veg\\_ottavi\\\\\n",
       "  & <dbl> & <dbl> & <dbl> & <dbl> & <dbl> & <dbl> & <dbl> & <dbl> & <dbl> & <dbl> & <dbl> & <dbl>\\\\\n",
       "\\hline\n",
       "\t65 &  2.3221655 &  0.508714136 & -0.05028955 & -0.2773832 & -1.6601337 & -0.6973735 & -1.7814483 & -1.51357553 &  0.75023962 &  1.7135977 & 0.9721058 & -1.0195015\\\\\n",
       "\t66 &  0.2720136 & -0.001214115 & -0.92089358 & -0.1254769 & -1.6747964 &  1.8415278 & -0.2079293 &  1.47093960 &  0.02587033 &  0.2800171 & 0.9178632 & -0.5418234\\\\\n",
       "\t67 & -0.5587669 &  0.168761969 & -0.56129626 &  0.3982001 & -1.6161456 &  2.8801692 & -0.3390559 & -0.02131797 &  0.08623444 & -0.7248291 & 1.1348338 & -0.7806624\\\\\n",
       "\t68 & -0.6391650 &  1.103630428 & -0.22062512 &  0.7112070 & -1.6601337 &  0.4566725 & -0.7324356 &  1.47093960 & -0.09485788 & -0.3764824 & 0.9721058 & -0.5418234\\\\\n",
       "\t69 & -0.2907732 & -0.001214115 & -0.06921572 &  0.3766134 & -1.6674651 & -0.2357551 & -0.9946888 & -0.02131797 &  0.02587033 & -0.8856045 & 0.9449845 & -1.0195015\\\\\n",
       "\t70 &  1.1831922 & -0.043708136 &  0.49856951 &  0.4553648 &  0.8691849 & -1.2743966 & -1.7814483 &  1.47093960 &  0.65969346 &  0.4943843 & 0.5652859 & -1.2583405\\\\\n",
       "\\end{tabular}\n"
      ],
      "text/markdown": [
       "\n",
       "A data.frame: 6 × 12\n",
       "\n",
       "| <!--/--> | Diametro.roccia.1..cm. &lt;dbl&gt; | Diametro.roccia.2..cm. &lt;dbl&gt; | Diametro.roccia.3..cm. &lt;dbl&gt; | alt_m &lt;dbl&gt; | aspect_deg &lt;dbl&gt; | slope_degr &lt;dbl&gt; | n_species &lt;dbl&gt; | dominant &lt;dbl&gt; | MDR &lt;dbl&gt; | IQR &lt;dbl&gt; | Esp.tr &lt;dbl&gt; | cop_veg_ottavi &lt;dbl&gt; |\n",
       "|---|---|---|---|---|---|---|---|---|---|---|---|---|\n",
       "| 65 |  2.3221655 |  0.508714136 | -0.05028955 | -0.2773832 | -1.6601337 | -0.6973735 | -1.7814483 | -1.51357553 |  0.75023962 |  1.7135977 | 0.9721058 | -1.0195015 |\n",
       "| 66 |  0.2720136 | -0.001214115 | -0.92089358 | -0.1254769 | -1.6747964 |  1.8415278 | -0.2079293 |  1.47093960 |  0.02587033 |  0.2800171 | 0.9178632 | -0.5418234 |\n",
       "| 67 | -0.5587669 |  0.168761969 | -0.56129626 |  0.3982001 | -1.6161456 |  2.8801692 | -0.3390559 | -0.02131797 |  0.08623444 | -0.7248291 | 1.1348338 | -0.7806624 |\n",
       "| 68 | -0.6391650 |  1.103630428 | -0.22062512 |  0.7112070 | -1.6601337 |  0.4566725 | -0.7324356 |  1.47093960 | -0.09485788 | -0.3764824 | 0.9721058 | -0.5418234 |\n",
       "| 69 | -0.2907732 | -0.001214115 | -0.06921572 |  0.3766134 | -1.6674651 | -0.2357551 | -0.9946888 | -0.02131797 |  0.02587033 | -0.8856045 | 0.9449845 | -1.0195015 |\n",
       "| 70 |  1.1831922 | -0.043708136 |  0.49856951 |  0.4553648 |  0.8691849 | -1.2743966 | -1.7814483 |  1.47093960 |  0.65969346 |  0.4943843 | 0.5652859 | -1.2583405 |\n",
       "\n"
      ],
      "text/plain": [
       "   Diametro.roccia.1..cm. Diametro.roccia.2..cm. Diametro.roccia.3..cm.\n",
       "65  2.3221655              0.508714136           -0.05028955           \n",
       "66  0.2720136             -0.001214115           -0.92089358           \n",
       "67 -0.5587669              0.168761969           -0.56129626           \n",
       "68 -0.6391650              1.103630428           -0.22062512           \n",
       "69 -0.2907732             -0.001214115           -0.06921572           \n",
       "70  1.1831922             -0.043708136            0.49856951           \n",
       "   alt_m      aspect_deg slope_degr n_species  dominant    MDR        \n",
       "65 -0.2773832 -1.6601337 -0.6973735 -1.7814483 -1.51357553  0.75023962\n",
       "66 -0.1254769 -1.6747964  1.8415278 -0.2079293  1.47093960  0.02587033\n",
       "67  0.3982001 -1.6161456  2.8801692 -0.3390559 -0.02131797  0.08623444\n",
       "68  0.7112070 -1.6601337  0.4566725 -0.7324356  1.47093960 -0.09485788\n",
       "69  0.3766134 -1.6674651 -0.2357551 -0.9946888 -0.02131797  0.02587033\n",
       "70  0.4553648  0.8691849 -1.2743966 -1.7814483  1.47093960  0.65969346\n",
       "   IQR        Esp.tr    cop_veg_ottavi\n",
       "65  1.7135977 0.9721058 -1.0195015    \n",
       "66  0.2800171 0.9178632 -0.5418234    \n",
       "67 -0.7248291 1.1348338 -0.7806624    \n",
       "68 -0.3764824 0.9721058 -0.5418234    \n",
       "69 -0.8856045 0.9449845 -1.0195015    \n",
       "70  0.4943843 0.5652859 -1.2583405    "
      ]
     },
     "metadata": {},
     "output_type": "display_data"
    }
   ],
   "source": [
    "siteCovs <- data.frame(scale(siteCovs))\n",
    "tail(siteCovs)"
   ]
  },
  {
   "cell_type": "code",
   "execution_count": 10,
   "metadata": {},
   "outputs": [
    {
     "data": {
      "text/plain": [
       "  1     \n",
       " Al:11  \n",
       " Tr:11  "
      ]
     },
     "metadata": {},
     "output_type": "display_data"
    },
    {
     "data": {
      "text/plain": [
       "       1         \n",
       " Min.   :0.0000  \n",
       " 1st Qu.:0.0000  \n",
       " Median :0.0000  \n",
       " Mean   :0.1727  \n",
       " 3rd Qu.:0.0000  \n",
       " Max.   :3.0000  "
      ]
     },
     "metadata": {},
     "output_type": "display_data"
    },
    {
     "data": {
      "text/plain": [
       "       1        \n",
       " Min.   :11.00  \n",
       " 1st Qu.:14.28  \n",
       " Median :15.60  \n",
       " Mean   :15.55  \n",
       " 3rd Qu.:17.23  \n",
       " Max.   :18.90  "
      ]
     },
     "metadata": {},
     "output_type": "display_data"
    },
    {
     "data": {
      "text/plain": [
       "       1        \n",
       " Min.   :0.400  \n",
       " 1st Qu.:0.900  \n",
       " Median :1.250  \n",
       " Mean   :1.514  \n",
       " 3rd Qu.:2.050  \n",
       " Max.   :4.200  "
      ]
     },
     "metadata": {},
     "output_type": "display_data"
    }
   ],
   "source": [
    "summary(t(orario_occasione[1,colonne_oggetto_analisi]))\n",
    "summary(t(precipitazioni_occasione[1,colonne_oggetto_analisi]))\n",
    "summary(t(temperatura_occasione[1,colonne_oggetto_analisi]))\n",
    "summary(t(velvento_occasione[1,colonne_oggetto_analisi]))\n"
   ]
  },
  {
   "cell_type": "markdown",
   "metadata": {},
   "source": [
    "#### La variabile relativa alle precipitazioni, nel 2015, è inadatta alle analisi, verrà automaticamente scartata dal modello\n",
    "#### Le variabili categoriche non possono essere scalate (orario_ooccasione)\n",
    "#### La variabile temperatura_occasione è inadatta ad essere scalata"
   ]
  },
  {
   "cell_type": "code",
   "execution_count": 11,
   "metadata": {},
   "outputs": [],
   "source": [
    "obsCovs <- list(\n",
    "    orario = orario_occasione[,colonne_oggetto_analisi],\n",
    "    precip = precipitazioni_occasione[,colonne_oggetto_analisi],\n",
    "    temper = temperatura_occasione[,colonne_oggetto_analisi],\n",
    "    vento = velvento_occasione[,colonne_oggetto_analisi]\n",
    "\n",
    ")\n"
   ]
  },
  {
   "cell_type": "code",
   "execution_count": 12,
   "metadata": {},
   "outputs": [
    {
     "name": "stdout",
     "output_type": "stream",
     "text": [
      "unmarkedFrame Object\n",
      "\n",
      "70 sites\n",
      "Maximum number of observations per site: 22 \n",
      "Mean number of observations per site: 22 \n",
      "Sites with at least one detection: 30 \n",
      "\n",
      "Tabulation of y observations:\n",
      "   0    1 \n",
      "1494   46 \n",
      "\n",
      "Site-level covariates:\n",
      " Diametro.roccia.1..cm. Diametro.roccia.2..cm. Diametro.roccia.3..cm.\n",
      " Min.   :-1.1886        Min.   :-0.9998        Min.   :-1.1669       \n",
      " 1st Qu.:-0.6894        1st Qu.:-0.6599        1st Qu.:-0.5613       \n",
      " Median :-0.2908        Median :-0.2774        Median :-0.2490       \n",
      " Mean   : 0.0000        Mean   : 0.0000        Mean   : 0.0000       \n",
      " 3rd Qu.: 0.2821        3rd Qu.: 0.3706        3rd Qu.: 0.1106       \n",
      " Max.   : 4.3053        Max.   : 4.9493        Max.   : 4.2081       \n",
      "     alt_m            aspect_deg        slope_degr        n_species      \n",
      " Min.   :-1.53434   Min.   :-1.7554   Min.   :-1.5052   Min.   :-2.0437  \n",
      " 1st Qu.:-0.91819   1st Qu.:-1.3229   1st Qu.:-0.6685   1st Qu.:-0.6997  \n",
      " Median :-0.08237   Median : 0.5503   Median :-0.1781   Median :-0.0768  \n",
      " Mean   : 0.00000   Mean   : 0.0000   Mean   : 0.0000   Mean   : 0.0000  \n",
      " 3rd Qu.: 0.69152   3rd Qu.: 0.6786   3rd Qu.: 0.7740   3rd Qu.: 0.7100  \n",
      " Max.   : 1.93832   Max.   : 0.8692   Max.   : 2.8802   Max.   : 2.1523  \n",
      "    dominant             MDR               IQR              Esp.tr        \n",
      " Min.   :-1.51358   Min.   :-1.3927   Min.   :-1.1536   Min.   :-2.79776  \n",
      " 1st Qu.:-0.02132   1st Qu.:-0.6306   1st Qu.:-0.7382   1st Qu.:-0.56703  \n",
      " Median :-0.02132   Median :-0.2005   Median :-0.3430   Median :-0.03138  \n",
      " Mean   : 0.00000   Mean   : 0.0000   Mean   : 0.0000   Mean   : 0.00000  \n",
      " 3rd Qu.:-0.02132   3rd Qu.: 0.4409   3rd Qu.: 0.4776   3rd Qu.: 0.66021  \n",
      " Max.   : 1.47094   Max.   : 4.1608   Max.   : 4.0046   Max.   : 2.30105  \n",
      " cop_veg_ottavi    \n",
      " Min.   :-1.25834  \n",
      " 1st Qu.:-0.78066  \n",
      " Median :-0.06415  \n",
      " Mean   : 0.00000  \n",
      " 3rd Qu.: 0.89121  \n",
      " Max.   : 2.56308  \n",
      "\n",
      "Observation-level covariates:\n",
      " orario       precip           temper          vento      \n",
      " Al:770   Min.   :0.0000   Min.   :11.00   Min.   :0.400  \n",
      " Tr:770   1st Qu.:0.0000   1st Qu.:14.10   1st Qu.:0.900  \n",
      "          Median :0.0000   Median :15.60   Median :1.250  \n",
      "          Mean   :0.1727   Mean   :15.55   Mean   :1.514  \n",
      "          3rd Qu.:0.0000   3rd Qu.:17.30   3rd Qu.:2.200  \n",
      "          Max.   :3.0000   Max.   :18.90   Max.   :4.200  \n"
     ]
    }
   ],
   "source": [
    "arvicole <- unmarkedFrameOccu(y = catture_effettive_selezionate, siteCovs = siteCovs, obsCovs = obsCovs)\n",
    "summary(arvicole)"
   ]
  },
  {
   "cell_type": "code",
   "execution_count": 14,
   "metadata": {},
   "outputs": [
    {
     "name": "stderr",
     "output_type": "stream",
     "text": [
      "Warning message in sqrt(diag(vcov(obj))):\n",
      "\"Si è prodotto un NaN\"\n"
     ]
    },
    {
     "data": {
      "text/plain": [
       "\n",
       "Call:\n",
       "occu(formula = ~orario + temper + MDR + vento ~ slope_degr + \n",
       "    I(slope_degr^2) + MDR + I(MDR^2) + IQR + I(IQR^2) + Esp.tr + \n",
       "    I(Esp.tr^2) + cop_veg_ottavi + alt_m + I(alt_m^2) + n_species + \n",
       "    I(n_species^2) + dominant, data = arvicole)\n",
       "\n",
       "Occupancy:\n",
       "                Estimate   SE        z P(>|z|)\n",
       "(Intercept)        -33.4 2803 -0.01194   0.990\n",
       "slope_degr          98.1 4921  0.01994   0.984\n",
       "I(slope_degr^2)    128.1 2634  0.04862   0.961\n",
       "MDR                -46.0 6914 -0.00665   0.995\n",
       "I(MDR^2)           -13.0  NaN      NaN     NaN\n",
       "IQR                -45.7 4650 -0.00983   0.992\n",
       "I(IQR^2)           106.1 5138  0.02065   0.984\n",
       "Esp.tr             -23.3 5229 -0.00445   0.996\n",
       "I(Esp.tr^2)        -17.2 2636 -0.00651   0.995\n",
       "cop_veg_ottavi      35.8 4231  0.00846   0.993\n",
       "alt_m               22.1 5082  0.00435   0.997\n",
       "I(alt_m^2)          10.5 3124  0.00335   0.997\n",
       "n_species          -81.9  NaN      NaN     NaN\n",
       "I(n_species^2)     -65.8 2651 -0.02484   0.980\n",
       "dominant           -88.6 3685 -0.02405   0.981\n",
       "\n",
       "Detection:\n",
       "            Estimate     SE      z  P(>|z|)\n",
       "(Intercept)   -6.042 1.6943 -3.566 3.62e-04\n",
       "orarioTr       1.616 0.4144  3.899 9.64e-05\n",
       "temper         0.103 0.0972  1.064 2.87e-01\n",
       "MDR           -0.124 0.1828 -0.679 4.97e-01\n",
       "vento          0.242 0.1976  1.225 2.21e-01\n",
       "\n",
       "AIC: 392.6503 "
      ]
     },
     "metadata": {},
     "output_type": "display_data"
    }
   ],
   "source": [
    "#    occu(~P            # PROBABILITA' DI AVVISTAMENTO\n",
    "#         ~PSI,         # EFFETTIVA PRESENZA\n",
    "#          dataset)\n",
    "fm.base <- occu(~orario + temper + MDR + vento\n",
    "            ~slope_degr + I(slope_degr^2) +\n",
    "            MDR + I(MDR^2) +\n",
    "            IQR + I(IQR^2) +\n",
    "            Esp.tr + I(Esp.tr^2)+\n",
    "            cop_veg_ottavi +\n",
    "            alt_m + I(alt_m^2) +\n",
    "            n_species + I(n_species^2) +\n",
    "            dominant,\n",
    "            arvicole)\n",
    "fm.base\n"
   ]
  },
  {
   "cell_type": "code",
   "execution_count": 14,
   "metadata": {},
   "outputs": [],
   "source": [
    "#fm.base <- occu(~orario+temper \n",
    "#            ~Diametro.roccia.1..cm.+\n",
    " #           Diametro.roccia.2..cm.+\n",
    "  #          Diametro.roccia.3..cm.+\n",
    "   #         cop_veg_ottavi +\n",
    "    #        slope_degr + I(slope_degr^2) +\n",
    "     #       n_species + I(n_species^2) +\n",
    "      #      dominant,\n",
    "       #     arvicole)\n",
    "#fm.base"
   ]
  },
  {
   "cell_type": "code",
   "execution_count": 15,
   "metadata": {},
   "outputs": [
    {
     "data": {
      "text/html": [
       "'SOCK'"
      ],
      "text/latex": [
       "'SOCK'"
      ],
      "text/markdown": [
       "'SOCK'"
      ],
      "text/plain": [
       "[1] \"SOCK\""
      ]
     },
     "metadata": {},
     "output_type": "display_data"
    },
    {
     "data": {
      "text/html": [
       "<ol>\n",
       "\t<li><style>\n",
       ".list-inline {list-style: none; margin:0; padding: 0}\n",
       ".list-inline>li {display: inline-block}\n",
       ".list-inline>li:not(:last-child)::after {content: \"\\00b7\"; padding: 0 .5ex}\n",
       "</style>\n",
       "<ol class=list-inline><li>'unmarked'</li><li>'lattice'</li><li>'snow'</li><li>'stats'</li><li>'graphics'</li><li>'grDevices'</li><li>'utils'</li><li>'datasets'</li><li>'methods'</li><li>'base'</li></ol>\n",
       "</li>\n",
       "\t<li><style>\n",
       ".list-inline {list-style: none; margin:0; padding: 0}\n",
       ".list-inline>li {display: inline-block}\n",
       ".list-inline>li:not(:last-child)::after {content: \"\\00b7\"; padding: 0 .5ex}\n",
       "</style>\n",
       "<ol class=list-inline><li>'unmarked'</li><li>'lattice'</li><li>'snow'</li><li>'stats'</li><li>'graphics'</li><li>'grDevices'</li><li>'utils'</li><li>'datasets'</li><li>'methods'</li><li>'base'</li></ol>\n",
       "</li>\n",
       "\t<li><style>\n",
       ".list-inline {list-style: none; margin:0; padding: 0}\n",
       ".list-inline>li {display: inline-block}\n",
       ".list-inline>li:not(:last-child)::after {content: \"\\00b7\"; padding: 0 .5ex}\n",
       "</style>\n",
       "<ol class=list-inline><li>'unmarked'</li><li>'lattice'</li><li>'snow'</li><li>'stats'</li><li>'graphics'</li><li>'grDevices'</li><li>'utils'</li><li>'datasets'</li><li>'methods'</li><li>'base'</li></ol>\n",
       "</li>\n",
       "\t<li><style>\n",
       ".list-inline {list-style: none; margin:0; padding: 0}\n",
       ".list-inline>li {display: inline-block}\n",
       ".list-inline>li:not(:last-child)::after {content: \"\\00b7\"; padding: 0 .5ex}\n",
       "</style>\n",
       "<ol class=list-inline><li>'unmarked'</li><li>'lattice'</li><li>'snow'</li><li>'stats'</li><li>'graphics'</li><li>'grDevices'</li><li>'utils'</li><li>'datasets'</li><li>'methods'</li><li>'base'</li></ol>\n",
       "</li>\n",
       "</ol>\n"
      ],
      "text/latex": [
       "\\begin{enumerate}\n",
       "\\item \\begin{enumerate*}\n",
       "\\item 'unmarked'\n",
       "\\item 'lattice'\n",
       "\\item 'snow'\n",
       "\\item 'stats'\n",
       "\\item 'graphics'\n",
       "\\item 'grDevices'\n",
       "\\item 'utils'\n",
       "\\item 'datasets'\n",
       "\\item 'methods'\n",
       "\\item 'base'\n",
       "\\end{enumerate*}\n",
       "\n",
       "\\item \\begin{enumerate*}\n",
       "\\item 'unmarked'\n",
       "\\item 'lattice'\n",
       "\\item 'snow'\n",
       "\\item 'stats'\n",
       "\\item 'graphics'\n",
       "\\item 'grDevices'\n",
       "\\item 'utils'\n",
       "\\item 'datasets'\n",
       "\\item 'methods'\n",
       "\\item 'base'\n",
       "\\end{enumerate*}\n",
       "\n",
       "\\item \\begin{enumerate*}\n",
       "\\item 'unmarked'\n",
       "\\item 'lattice'\n",
       "\\item 'snow'\n",
       "\\item 'stats'\n",
       "\\item 'graphics'\n",
       "\\item 'grDevices'\n",
       "\\item 'utils'\n",
       "\\item 'datasets'\n",
       "\\item 'methods'\n",
       "\\item 'base'\n",
       "\\end{enumerate*}\n",
       "\n",
       "\\item \\begin{enumerate*}\n",
       "\\item 'unmarked'\n",
       "\\item 'lattice'\n",
       "\\item 'snow'\n",
       "\\item 'stats'\n",
       "\\item 'graphics'\n",
       "\\item 'grDevices'\n",
       "\\item 'utils'\n",
       "\\item 'datasets'\n",
       "\\item 'methods'\n",
       "\\item 'base'\n",
       "\\end{enumerate*}\n",
       "\n",
       "\\end{enumerate}\n"
      ],
      "text/markdown": [
       "1. 1. 'unmarked'\n",
       "2. 'lattice'\n",
       "3. 'snow'\n",
       "4. 'stats'\n",
       "5. 'graphics'\n",
       "6. 'grDevices'\n",
       "7. 'utils'\n",
       "8. 'datasets'\n",
       "9. 'methods'\n",
       "10. 'base'\n",
       "\n",
       "\n",
       "\n",
       "2. 1. 'unmarked'\n",
       "2. 'lattice'\n",
       "3. 'snow'\n",
       "4. 'stats'\n",
       "5. 'graphics'\n",
       "6. 'grDevices'\n",
       "7. 'utils'\n",
       "8. 'datasets'\n",
       "9. 'methods'\n",
       "10. 'base'\n",
       "\n",
       "\n",
       "\n",
       "3. 1. 'unmarked'\n",
       "2. 'lattice'\n",
       "3. 'snow'\n",
       "4. 'stats'\n",
       "5. 'graphics'\n",
       "6. 'grDevices'\n",
       "7. 'utils'\n",
       "8. 'datasets'\n",
       "9. 'methods'\n",
       "10. 'base'\n",
       "\n",
       "\n",
       "\n",
       "4. 1. 'unmarked'\n",
       "2. 'lattice'\n",
       "3. 'snow'\n",
       "4. 'stats'\n",
       "5. 'graphics'\n",
       "6. 'grDevices'\n",
       "7. 'utils'\n",
       "8. 'datasets'\n",
       "9. 'methods'\n",
       "10. 'base'\n",
       "\n",
       "\n",
       "\n",
       "\n",
       "\n"
      ],
      "text/plain": [
       "[[1]]\n",
       " [1] \"unmarked\"  \"lattice\"   \"snow\"      \"stats\"     \"graphics\"  \"grDevices\"\n",
       " [7] \"utils\"     \"datasets\"  \"methods\"   \"base\"     \n",
       "\n",
       "[[2]]\n",
       " [1] \"unmarked\"  \"lattice\"   \"snow\"      \"stats\"     \"graphics\"  \"grDevices\"\n",
       " [7] \"utils\"     \"datasets\"  \"methods\"   \"base\"     \n",
       "\n",
       "[[3]]\n",
       " [1] \"unmarked\"  \"lattice\"   \"snow\"      \"stats\"     \"graphics\"  \"grDevices\"\n",
       " [7] \"utils\"     \"datasets\"  \"methods\"   \"base\"     \n",
       "\n",
       "[[4]]\n",
       " [1] \"unmarked\"  \"lattice\"   \"snow\"      \"stats\"     \"graphics\"  \"grDevices\"\n",
       " [7] \"utils\"     \"datasets\"  \"methods\"   \"base\"     \n"
      ]
     },
     "metadata": {},
     "output_type": "display_data"
    },
    {
     "data": {
      "text/html": [
       "<ol>\n",
       "\t<li><style>\n",
       ".list-inline {list-style: none; margin:0; padding: 0}\n",
       ".list-inline>li {display: inline-block}\n",
       ".list-inline>li:not(:last-child)::after {content: \"\\00b7\"; padding: 0 .5ex}\n",
       "</style>\n",
       "<ol class=list-inline><li>'MuMIn'</li><li>'unmarked'</li><li>'lattice'</li><li>'snow'</li><li>'stats'</li><li>'graphics'</li><li>'grDevices'</li><li>'utils'</li><li>'datasets'</li><li>'methods'</li><li>'base'</li></ol>\n",
       "</li>\n",
       "\t<li><style>\n",
       ".list-inline {list-style: none; margin:0; padding: 0}\n",
       ".list-inline>li {display: inline-block}\n",
       ".list-inline>li:not(:last-child)::after {content: \"\\00b7\"; padding: 0 .5ex}\n",
       "</style>\n",
       "<ol class=list-inline><li>'MuMIn'</li><li>'unmarked'</li><li>'lattice'</li><li>'snow'</li><li>'stats'</li><li>'graphics'</li><li>'grDevices'</li><li>'utils'</li><li>'datasets'</li><li>'methods'</li><li>'base'</li></ol>\n",
       "</li>\n",
       "\t<li><style>\n",
       ".list-inline {list-style: none; margin:0; padding: 0}\n",
       ".list-inline>li {display: inline-block}\n",
       ".list-inline>li:not(:last-child)::after {content: \"\\00b7\"; padding: 0 .5ex}\n",
       "</style>\n",
       "<ol class=list-inline><li>'MuMIn'</li><li>'unmarked'</li><li>'lattice'</li><li>'snow'</li><li>'stats'</li><li>'graphics'</li><li>'grDevices'</li><li>'utils'</li><li>'datasets'</li><li>'methods'</li><li>'base'</li></ol>\n",
       "</li>\n",
       "\t<li><style>\n",
       ".list-inline {list-style: none; margin:0; padding: 0}\n",
       ".list-inline>li {display: inline-block}\n",
       ".list-inline>li:not(:last-child)::after {content: \"\\00b7\"; padding: 0 .5ex}\n",
       "</style>\n",
       "<ol class=list-inline><li>'MuMIn'</li><li>'unmarked'</li><li>'lattice'</li><li>'snow'</li><li>'stats'</li><li>'graphics'</li><li>'grDevices'</li><li>'utils'</li><li>'datasets'</li><li>'methods'</li><li>'base'</li></ol>\n",
       "</li>\n",
       "</ol>\n"
      ],
      "text/latex": [
       "\\begin{enumerate}\n",
       "\\item \\begin{enumerate*}\n",
       "\\item 'MuMIn'\n",
       "\\item 'unmarked'\n",
       "\\item 'lattice'\n",
       "\\item 'snow'\n",
       "\\item 'stats'\n",
       "\\item 'graphics'\n",
       "\\item 'grDevices'\n",
       "\\item 'utils'\n",
       "\\item 'datasets'\n",
       "\\item 'methods'\n",
       "\\item 'base'\n",
       "\\end{enumerate*}\n",
       "\n",
       "\\item \\begin{enumerate*}\n",
       "\\item 'MuMIn'\n",
       "\\item 'unmarked'\n",
       "\\item 'lattice'\n",
       "\\item 'snow'\n",
       "\\item 'stats'\n",
       "\\item 'graphics'\n",
       "\\item 'grDevices'\n",
       "\\item 'utils'\n",
       "\\item 'datasets'\n",
       "\\item 'methods'\n",
       "\\item 'base'\n",
       "\\end{enumerate*}\n",
       "\n",
       "\\item \\begin{enumerate*}\n",
       "\\item 'MuMIn'\n",
       "\\item 'unmarked'\n",
       "\\item 'lattice'\n",
       "\\item 'snow'\n",
       "\\item 'stats'\n",
       "\\item 'graphics'\n",
       "\\item 'grDevices'\n",
       "\\item 'utils'\n",
       "\\item 'datasets'\n",
       "\\item 'methods'\n",
       "\\item 'base'\n",
       "\\end{enumerate*}\n",
       "\n",
       "\\item \\begin{enumerate*}\n",
       "\\item 'MuMIn'\n",
       "\\item 'unmarked'\n",
       "\\item 'lattice'\n",
       "\\item 'snow'\n",
       "\\item 'stats'\n",
       "\\item 'graphics'\n",
       "\\item 'grDevices'\n",
       "\\item 'utils'\n",
       "\\item 'datasets'\n",
       "\\item 'methods'\n",
       "\\item 'base'\n",
       "\\end{enumerate*}\n",
       "\n",
       "\\end{enumerate}\n"
      ],
      "text/markdown": [
       "1. 1. 'MuMIn'\n",
       "2. 'unmarked'\n",
       "3. 'lattice'\n",
       "4. 'snow'\n",
       "5. 'stats'\n",
       "6. 'graphics'\n",
       "7. 'grDevices'\n",
       "8. 'utils'\n",
       "9. 'datasets'\n",
       "10. 'methods'\n",
       "11. 'base'\n",
       "\n",
       "\n",
       "\n",
       "2. 1. 'MuMIn'\n",
       "2. 'unmarked'\n",
       "3. 'lattice'\n",
       "4. 'snow'\n",
       "5. 'stats'\n",
       "6. 'graphics'\n",
       "7. 'grDevices'\n",
       "8. 'utils'\n",
       "9. 'datasets'\n",
       "10. 'methods'\n",
       "11. 'base'\n",
       "\n",
       "\n",
       "\n",
       "3. 1. 'MuMIn'\n",
       "2. 'unmarked'\n",
       "3. 'lattice'\n",
       "4. 'snow'\n",
       "5. 'stats'\n",
       "6. 'graphics'\n",
       "7. 'grDevices'\n",
       "8. 'utils'\n",
       "9. 'datasets'\n",
       "10. 'methods'\n",
       "11. 'base'\n",
       "\n",
       "\n",
       "\n",
       "4. 1. 'MuMIn'\n",
       "2. 'unmarked'\n",
       "3. 'lattice'\n",
       "4. 'snow'\n",
       "5. 'stats'\n",
       "6. 'graphics'\n",
       "7. 'grDevices'\n",
       "8. 'utils'\n",
       "9. 'datasets'\n",
       "10. 'methods'\n",
       "11. 'base'\n",
       "\n",
       "\n",
       "\n",
       "\n",
       "\n"
      ],
      "text/plain": [
       "[[1]]\n",
       " [1] \"MuMIn\"     \"unmarked\"  \"lattice\"   \"snow\"      \"stats\"     \"graphics\" \n",
       " [7] \"grDevices\" \"utils\"     \"datasets\"  \"methods\"   \"base\"     \n",
       "\n",
       "[[2]]\n",
       " [1] \"MuMIn\"     \"unmarked\"  \"lattice\"   \"snow\"      \"stats\"     \"graphics\" \n",
       " [7] \"grDevices\" \"utils\"     \"datasets\"  \"methods\"   \"base\"     \n",
       "\n",
       "[[3]]\n",
       " [1] \"MuMIn\"     \"unmarked\"  \"lattice\"   \"snow\"      \"stats\"     \"graphics\" \n",
       " [7] \"grDevices\" \"utils\"     \"datasets\"  \"methods\"   \"base\"     \n",
       "\n",
       "[[4]]\n",
       " [1] \"MuMIn\"     \"unmarked\"  \"lattice\"   \"snow\"      \"stats\"     \"graphics\" \n",
       " [7] \"grDevices\" \"utils\"     \"datasets\"  \"methods\"   \"base\"     \n"
      ]
     },
     "metadata": {},
     "output_type": "display_data"
    },
    {
     "data": {
      "text/html": [
       "<style>\n",
       ".list-inline {list-style: none; margin:0; padding: 0}\n",
       ".list-inline>li {display: inline-block}\n",
       ".list-inline>li:not(:last-child)::after {content: \"\\00b7\"; padding: 0 .5ex}\n",
       "</style>\n",
       "<ol class=list-inline><li>'p(MDR)'</li><li>'p(orario)'</li><li>'p(temper)'</li><li>'p(vento)'</li><li>'psi(alt_m)'</li><li>'psi(I(alt_m^2))'</li><li>'psi(cop_veg_ottavi)'</li><li>'psi(dominant)'</li><li>'psi(Esp.tr)'</li><li>'psi(I(Esp.tr^2))'</li><li>'psi(IQR)'</li><li>'psi(I(IQR^2))'</li><li>'psi(MDR)'</li><li>'psi(I(MDR^2))'</li><li>'psi(n_species)'</li><li>'psi(I(n_species^2))'</li><li>'psi(slope_degr)'</li><li>'psi(I(slope_degr^2))'</li></ol>\n"
      ],
      "text/latex": [
       "\\begin{enumerate*}\n",
       "\\item 'p(MDR)'\n",
       "\\item 'p(orario)'\n",
       "\\item 'p(temper)'\n",
       "\\item 'p(vento)'\n",
       "\\item 'psi(alt\\_m)'\n",
       "\\item 'psi(I(alt\\_m\\textasciicircum{}2))'\n",
       "\\item 'psi(cop\\_veg\\_ottavi)'\n",
       "\\item 'psi(dominant)'\n",
       "\\item 'psi(Esp.tr)'\n",
       "\\item 'psi(I(Esp.tr\\textasciicircum{}2))'\n",
       "\\item 'psi(IQR)'\n",
       "\\item 'psi(I(IQR\\textasciicircum{}2))'\n",
       "\\item 'psi(MDR)'\n",
       "\\item 'psi(I(MDR\\textasciicircum{}2))'\n",
       "\\item 'psi(n\\_species)'\n",
       "\\item 'psi(I(n\\_species\\textasciicircum{}2))'\n",
       "\\item 'psi(slope\\_degr)'\n",
       "\\item 'psi(I(slope\\_degr\\textasciicircum{}2))'\n",
       "\\end{enumerate*}\n"
      ],
      "text/markdown": [
       "1. 'p(MDR)'\n",
       "2. 'p(orario)'\n",
       "3. 'p(temper)'\n",
       "4. 'p(vento)'\n",
       "5. 'psi(alt_m)'\n",
       "6. 'psi(I(alt_m^2))'\n",
       "7. 'psi(cop_veg_ottavi)'\n",
       "8. 'psi(dominant)'\n",
       "9. 'psi(Esp.tr)'\n",
       "10. 'psi(I(Esp.tr^2))'\n",
       "11. 'psi(IQR)'\n",
       "12. 'psi(I(IQR^2))'\n",
       "13. 'psi(MDR)'\n",
       "14. 'psi(I(MDR^2))'\n",
       "15. 'psi(n_species)'\n",
       "16. 'psi(I(n_species^2))'\n",
       "17. 'psi(slope_degr)'\n",
       "18. 'psi(I(slope_degr^2))'\n",
       "\n",
       "\n"
      ],
      "text/plain": [
       " [1] \"p(MDR)\"               \"p(orario)\"            \"p(temper)\"           \n",
       " [4] \"p(vento)\"             \"psi(alt_m)\"           \"psi(I(alt_m^2))\"     \n",
       " [7] \"psi(cop_veg_ottavi)\"  \"psi(dominant)\"        \"psi(Esp.tr)\"         \n",
       "[10] \"psi(I(Esp.tr^2))\"     \"psi(IQR)\"             \"psi(I(IQR^2))\"       \n",
       "[13] \"psi(MDR)\"             \"psi(I(MDR^2))\"        \"psi(n_species)\"      \n",
       "[16] \"psi(I(n_species^2))\"  \"psi(slope_degr)\"      \"psi(I(slope_degr^2))\"\n",
       "attr(,\"intercept\")\n",
       "  p psi \n",
       "  1   1 \n",
       "attr(,\"interceptLabel\")\n",
       "[1] \"p(Int)\"   \"psi(Int)\"\n",
       "attr(,\"deps\")\n",
       "                     p(MDR) p(orario) p(temper) p(vento) psi(alt_m)\n",
       "p(MDR)                   NA     FALSE     FALSE    FALSE      FALSE\n",
       "p(orario)             FALSE        NA     FALSE    FALSE      FALSE\n",
       "p(temper)             FALSE     FALSE        NA    FALSE      FALSE\n",
       "p(vento)              FALSE     FALSE     FALSE       NA      FALSE\n",
       "psi(alt_m)            FALSE     FALSE     FALSE    FALSE         NA\n",
       "psi(I(alt_m^2))       FALSE     FALSE     FALSE    FALSE      FALSE\n",
       "psi(cop_veg_ottavi)   FALSE     FALSE     FALSE    FALSE      FALSE\n",
       "psi(dominant)         FALSE     FALSE     FALSE    FALSE      FALSE\n",
       "psi(Esp.tr)           FALSE     FALSE     FALSE    FALSE      FALSE\n",
       "psi(I(Esp.tr^2))      FALSE     FALSE     FALSE    FALSE      FALSE\n",
       "psi(IQR)              FALSE     FALSE     FALSE    FALSE      FALSE\n",
       "psi(I(IQR^2))         FALSE     FALSE     FALSE    FALSE      FALSE\n",
       "psi(MDR)              FALSE     FALSE     FALSE    FALSE      FALSE\n",
       "psi(I(MDR^2))         FALSE     FALSE     FALSE    FALSE      FALSE\n",
       "psi(n_species)        FALSE     FALSE     FALSE    FALSE      FALSE\n",
       "psi(I(n_species^2))   FALSE     FALSE     FALSE    FALSE      FALSE\n",
       "psi(slope_degr)       FALSE     FALSE     FALSE    FALSE      FALSE\n",
       "psi(I(slope_degr^2))  FALSE     FALSE     FALSE    FALSE      FALSE\n",
       "                     psi(I(alt_m^2)) psi(cop_veg_ottavi) psi(dominant)\n",
       "p(MDR)                         FALSE               FALSE         FALSE\n",
       "p(orario)                      FALSE               FALSE         FALSE\n",
       "p(temper)                      FALSE               FALSE         FALSE\n",
       "p(vento)                       FALSE               FALSE         FALSE\n",
       "psi(alt_m)                     FALSE               FALSE         FALSE\n",
       "psi(I(alt_m^2))                   NA               FALSE         FALSE\n",
       "psi(cop_veg_ottavi)            FALSE                  NA         FALSE\n",
       "psi(dominant)                  FALSE               FALSE            NA\n",
       "psi(Esp.tr)                    FALSE               FALSE         FALSE\n",
       "psi(I(Esp.tr^2))               FALSE               FALSE         FALSE\n",
       "psi(IQR)                       FALSE               FALSE         FALSE\n",
       "psi(I(IQR^2))                  FALSE               FALSE         FALSE\n",
       "psi(MDR)                       FALSE               FALSE         FALSE\n",
       "psi(I(MDR^2))                  FALSE               FALSE         FALSE\n",
       "psi(n_species)                 FALSE               FALSE         FALSE\n",
       "psi(I(n_species^2))            FALSE               FALSE         FALSE\n",
       "psi(slope_degr)                FALSE               FALSE         FALSE\n",
       "psi(I(slope_degr^2))           FALSE               FALSE         FALSE\n",
       "                     psi(Esp.tr) psi(I(Esp.tr^2)) psi(IQR) psi(I(IQR^2))\n",
       "p(MDR)                     FALSE            FALSE    FALSE         FALSE\n",
       "p(orario)                  FALSE            FALSE    FALSE         FALSE\n",
       "p(temper)                  FALSE            FALSE    FALSE         FALSE\n",
       "p(vento)                   FALSE            FALSE    FALSE         FALSE\n",
       "psi(alt_m)                 FALSE            FALSE    FALSE         FALSE\n",
       "psi(I(alt_m^2))            FALSE            FALSE    FALSE         FALSE\n",
       "psi(cop_veg_ottavi)        FALSE            FALSE    FALSE         FALSE\n",
       "psi(dominant)              FALSE            FALSE    FALSE         FALSE\n",
       "psi(Esp.tr)                   NA            FALSE    FALSE         FALSE\n",
       "psi(I(Esp.tr^2))           FALSE               NA    FALSE         FALSE\n",
       "psi(IQR)                   FALSE            FALSE       NA         FALSE\n",
       "psi(I(IQR^2))              FALSE            FALSE    FALSE            NA\n",
       "psi(MDR)                   FALSE            FALSE    FALSE         FALSE\n",
       "psi(I(MDR^2))              FALSE            FALSE    FALSE         FALSE\n",
       "psi(n_species)             FALSE            FALSE    FALSE         FALSE\n",
       "psi(I(n_species^2))        FALSE            FALSE    FALSE         FALSE\n",
       "psi(slope_degr)            FALSE            FALSE    FALSE         FALSE\n",
       "psi(I(slope_degr^2))       FALSE            FALSE    FALSE         FALSE\n",
       "                     psi(MDR) psi(I(MDR^2)) psi(n_species) psi(I(n_species^2))\n",
       "p(MDR)                  FALSE         FALSE          FALSE               FALSE\n",
       "p(orario)               FALSE         FALSE          FALSE               FALSE\n",
       "p(temper)               FALSE         FALSE          FALSE               FALSE\n",
       "p(vento)                FALSE         FALSE          FALSE               FALSE\n",
       "psi(alt_m)              FALSE         FALSE          FALSE               FALSE\n",
       "psi(I(alt_m^2))         FALSE         FALSE          FALSE               FALSE\n",
       "psi(cop_veg_ottavi)     FALSE         FALSE          FALSE               FALSE\n",
       "psi(dominant)           FALSE         FALSE          FALSE               FALSE\n",
       "psi(Esp.tr)             FALSE         FALSE          FALSE               FALSE\n",
       "psi(I(Esp.tr^2))        FALSE         FALSE          FALSE               FALSE\n",
       "psi(IQR)                FALSE         FALSE          FALSE               FALSE\n",
       "psi(I(IQR^2))           FALSE         FALSE          FALSE               FALSE\n",
       "psi(MDR)                   NA         FALSE          FALSE               FALSE\n",
       "psi(I(MDR^2))           FALSE            NA          FALSE               FALSE\n",
       "psi(n_species)          FALSE         FALSE             NA               FALSE\n",
       "psi(I(n_species^2))     FALSE         FALSE          FALSE                  NA\n",
       "psi(slope_degr)         FALSE         FALSE          FALSE               FALSE\n",
       "psi(I(slope_degr^2))    FALSE         FALSE          FALSE               FALSE\n",
       "                     psi(slope_degr) psi(I(slope_degr^2))\n",
       "p(MDR)                         FALSE                FALSE\n",
       "p(orario)                      FALSE                FALSE\n",
       "p(temper)                      FALSE                FALSE\n",
       "p(vento)                       FALSE                FALSE\n",
       "psi(alt_m)                     FALSE                FALSE\n",
       "psi(I(alt_m^2))                FALSE                FALSE\n",
       "psi(cop_veg_ottavi)            FALSE                FALSE\n",
       "psi(dominant)                  FALSE                FALSE\n",
       "psi(Esp.tr)                    FALSE                FALSE\n",
       "psi(I(Esp.tr^2))               FALSE                FALSE\n",
       "psi(IQR)                       FALSE                FALSE\n",
       "psi(I(IQR^2))                  FALSE                FALSE\n",
       "psi(MDR)                       FALSE                FALSE\n",
       "psi(I(MDR^2))                  FALSE                FALSE\n",
       "psi(n_species)                 FALSE                FALSE\n",
       "psi(I(n_species^2))            FALSE                FALSE\n",
       "psi(slope_degr)                   NA                FALSE\n",
       "psi(I(slope_degr^2))           FALSE                   NA"
      ]
     },
     "metadata": {},
     "output_type": "display_data"
    }
   ],
   "source": [
    "######### INFORMATICA\n",
    "clusterType <- if(length(find.package(\"snow\", quiet = TRUE))) \"SOCK\" else \"PSOCK\"\n",
    "clusterType\n",
    "clust <- try(makeCluster(getOption(\"cl.cores\", 4), type = clusterType))\n",
    "clusterEvalQ(clust, library(unmarked))\n",
    "clusterEvalQ(clust,library(MuMIn))\n",
    "clusterExport(clust, \"arvicole\")\n",
    "invisible(clusterCall(clust, \"library\", \"stats4\", character.only = TRUE))\n",
    "library(MuMIn)\n",
    "getAllTerms(fm.base)"
   ]
  },
  {
   "cell_type": "code",
   "execution_count": 21,
   "metadata": {},
   "outputs": [
    {
     "name": "stderr",
     "output_type": "stream",
     "text": [
      "Fixed terms are \"p(Int)\" and \"psi(Int)\"\n",
      "\n"
     ]
    },
    {
     "name": "stdout",
     "output_type": "stream",
     "text": [
      "  |======================                                                |  32%"
     ]
    },
    {
     "ename": "ERROR",
     "evalue": "Error in checkForRemoteErrors(val): one node produced an error: il sistema è numericamente singolare: valore di condizione di reciprocità = 2.1067e-16\n",
     "output_type": "error",
     "traceback": [
      "Error in checkForRemoteErrors(val): one node produced an error: il sistema è numericamente singolare: valore di condizione di reciprocità = 2.1067e-16\nTraceback:\n",
      "1. pdredge(fm.base, clust, subset = (`psi(alt_m)` | !`psi(I(alt_m^2))`) && \n .     (`psi(alt_m)` | !`psi(I(alt_m^2))`) && `psi(cop_veg_ottavi)` && \n .     `psi(dominant)` && (`psi(Esp.tr)` | !`psi(I(Esp.tr^2))`) && \n .     (`psi(IQR)` | !`psi(I(IQR^2))`) && (`psi(MDR)` | !`psi(I(MDR^2))`) && \n .     (`psi(n_species)` | !`psi(I(n_species^2))`) && (`psi(slope_degr)` | \n .     !`psi(I(slope_degr^2))`) && `p(MDR)` && `p(orario)` && `p(temper)` && \n .     `p(vento)`, trace = 2, m.lim = c(1, NA))",
      "2. .getRow(queued[qseq])",
      "3. clusterApply(cluster, X, fun = \".pdredge_process_model\")",
      "4. staticClusterApply(cl, fun, length(x), argfun)",
      "5. checkForRemoteErrors(val)",
      "6. stop(\"one node produced an error: \", firstmsg, domain = NA)"
     ]
    },
    {
     "name": "stdout",
     "output_type": "stream",
     "text": [
      "\n"
     ]
    }
   ],
   "source": [
    "pdd2 <- pdredge(fm.base, clust,\n",
    "                subset = (`psi(alt_m)` | !`psi(I(alt_m^2))`) &&\n",
    "                (`psi(alt_m)` | !`psi(I(alt_m^2))`) &&\n",
    "                `psi(cop_veg_ottavi)` &&\n",
    "                `psi(dominant)` &&\n",
    "                (`psi(Esp.tr)` | ! `psi(I(Esp.tr^2))`) &&\n",
    "                (`psi(IQR)` | ! `psi(I(IQR^2))`) &&\n",
    "                (`psi(MDR)` | ! `psi(I(MDR^2))`) &&\n",
    "                (`psi(n_species)` | ! `psi(I(n_species^2))`) &&\n",
    "                (`psi(slope_degr)` | !`psi(I(slope_degr^2))`) &&\n",
    "                `p(MDR)` &&\n",
    "                `p(orario)` &&\n",
    "                `p(temper)` &&\n",
    "                `p(vento)`,    \n",
    "                trace = 2, m.lim = c(1,NA))"
   ]
  },
  {
   "cell_type": "code",
   "execution_count": 17,
   "metadata": {},
   "outputs": [],
   "source": [
    "#save(pdd2, file=\"Dati-elaborati/pdd2.RData\", compress=FALSE)\n",
    "#load(\"Dati-elaborati/pdd2.RData\")"
   ]
  },
  {
   "cell_type": "code",
   "execution_count": 22,
   "metadata": {},
   "outputs": [
    {
     "name": "stderr",
     "output_type": "stream",
     "text": [
      "Fixed terms are \"p(Int)\" and \"psi(Int)\"\n",
      "\n"
     ]
    },
    {
     "name": "stdout",
     "output_type": "stream",
     "text": [
      "  |======================                                                |  32%"
     ]
    },
    {
     "ename": "ERROR",
     "evalue": "Error in checkForRemoteErrors(val): one node produced an error: il sistema è numericamente singolare: valore di condizione di reciprocità = 2.1067e-16\n",
     "output_type": "error",
     "traceback": [
      "Error in checkForRemoteErrors(val): one node produced an error: il sistema è numericamente singolare: valore di condizione di reciprocità = 2.1067e-16\nTraceback:\n",
      "1. pdredge(fm.base, clust, subset = (`psi(slope_degr)` | !`psi(I(slope_degr^2))`) && \n .     (`psi(n_species)` | !`psi(I(n_species^2))`) && (`psi(MDR)` | \n .     !`psi(I(MDR^2))`) && (`psi(IQR)` | !`psi(I(IQR^2))`) && (`psi(Esp.tr)` | \n .     !`psi(I(Esp.tr^2))`) && `psi(cop_veg_ottavi)` && `p(temper)` && \n .     `p(orario)` && `psi(dominant)`, trace = 2, m.lim = c(1, NA), \n .     rank = \"AIC\")",
      "2. .getRow(queued[qseq])",
      "3. clusterApply(cluster, X, fun = \".pdredge_process_model\")",
      "4. staticClusterApply(cl, fun, length(x), argfun)",
      "5. checkForRemoteErrors(val)",
      "6. stop(\"one node produced an error: \", firstmsg, domain = NA)"
     ]
    },
    {
     "name": "stdout",
     "output_type": "stream",
     "text": [
      "\n"
     ]
    }
   ],
   "source": [
    "pdd3 <- pdredge(fm.base, clust,\n",
    "                subset = (`psi(slope_degr)` | !`psi(I(slope_degr^2))`) &&\n",
    "                (`psi(n_species)` | ! `psi(I(n_species^2))`) &&\n",
    "                (`psi(MDR)` | ! `psi(I(MDR^2))`)&&\n",
    "                (`psi(IQR)` | ! `psi(I(IQR^2))`)&&\n",
    "                (`psi(Esp.tr)` | ! `psi(I(Esp.tr^2))`)&&\n",
    "                 `psi(cop_veg_ottavi)` &&\n",
    "                # `p(MDR)` &&\n",
    "                 `p(temper)` &&\n",
    "                 `p(orario)` &&\n",
    "                 `psi(dominant)`,\n",
    "                trace = 2, m.lim = c(1,NA), rank = \"AIC\")\n",
    "save(pdd3, file=\"Dati-elaborati/pdd3.RData\", compress=FALSE)\n",
    "load(\"Dati-elaborati/pdd3.RData\")"
   ]
  },
  {
   "cell_type": "code",
   "execution_count": 19,
   "metadata": {},
   "outputs": [
    {
     "data": {
      "image/png": "[encoded data removed]",
      "text/plain": [
       "plot without title"
      ]
     },
     "metadata": {
      "image/png": {
       "height": 420,
       "width": 420
      }
     },
     "output_type": "display_data"
    }
   ],
   "source": [
    "par(mfrow = c(1,1))\n",
    "op <- par(mar = c(3,5,6,4), mfrow=c(1,1))\n",
    "plot(pdd3, labAsExpr = TRUE)\n",
    "par(op)\n"
   ]
  },
  {
   "cell_type": "code",
   "execution_count": 35,
   "metadata": {},
   "outputs": [
    {
     "data": {
      "text/plain": [
       "$`31646`\n",
       "\n",
       "Call:\n",
       "occu(formula = ~orario + temper + 1 ~ cop_veg_ottavi + dominant + \n",
       "    IQR + I(IQR^2) + MDR + n_species + I(n_species^2) + slope_degr + \n",
       "    I(slope_degr^2) + 1, data = arvicole)\n",
       "\n",
       "Occupancy:\n",
       "                Estimate   SE      z P(>|z|)\n",
       "(Intercept)        -4.42 19.7 -0.224   0.823\n",
       "cop_veg_ottavi     27.80 21.7  1.279   0.201\n",
       "dominant          -43.95 31.7 -1.386   0.166\n",
       "IQR               -10.81 10.9 -0.993   0.321\n",
       "I(IQR^2)           34.08 21.8  1.564   0.118\n",
       "MDR               -36.93 23.2 -1.595   0.111\n",
       "n_species         -25.13 17.7 -1.416   0.157\n",
       "I(n_species^2)    -39.22 28.4 -1.380   0.168\n",
       "slope_degr         88.82 62.7  1.416   0.157\n",
       "I(slope_degr^2)    89.65 58.3  1.539   0.124\n",
       "\n",
       "Detection:\n",
       "            Estimate     SE     z  P(>|z|)\n",
       "(Intercept)   -5.610 1.6725 -3.35 0.000796\n",
       "orarioTr       1.466 0.3878  3.78 0.000157\n",
       "temper         0.112 0.0988  1.13 0.258854\n",
       "\n",
       "AIC: 373.0054 \n",
       "\n",
       "attr(,\"rank\")\n",
       "function (x) \n",
       "do.call(\"rank\", list(x))\n",
       "<environment: 0x000000002989b248>\n",
       "attr(,\"call\")\n",
       "AIC(x)\n",
       "attr(,\"class\")\n",
       "[1] \"function\"     \"rankFunction\"\n",
       "attr(,\"beta\")\n",
       "[1] \"none\""
      ]
     },
     "metadata": {},
     "output_type": "display_data"
    }
   ],
   "source": [
    "# riportare la tabella dei coefficienti\n",
    "get.models(pdd3, 1)"
   ]
  },
  {
   "cell_type": "code",
   "execution_count": 21,
   "metadata": {},
   "outputs": [
    {
     "data": {
      "text/plain": [
       "\n",
       "Call:\n",
       "model.avg(object = pdd3, subset = delta < 2)\n",
       "\n",
       "Component model call: \n",
       "occu(formula = ~<5 unique rhs>, data = arvicole)\n",
       "\n",
       "Component models: \n",
       "                               df  logLik    AIC delta weight\n",
       "2/3/4/5/8/9/10/12/13/14/15     13 -173.50 373.01  0.00   0.30\n",
       "2/3/4/5/6/7/8/9/10/12/13/14/15 15 -171.75 373.49  0.49   0.23\n",
       "2/3/4/5/6/8/9/10/12/13/14/15   14 -172.86 373.72  0.71   0.21\n",
       "2/3/4/5/8/9/10/11/12/13/14/15  14 -173.17 374.34  1.34   0.15\n",
       "1/2/3/4/5/8/9/10/12/13/14/15   14 -173.48 374.96  1.96   0.11\n",
       "\n",
       "Term codes: \n",
       "              p(MDR)            p(orario)            p(temper) \n",
       "                   1                    2                    3 \n",
       " psi(cop_veg_ottavi)        psi(dominant)          psi(Esp.tr) \n",
       "                   4                    5                    6 \n",
       "    psi(I(Esp.tr^2))             psi(IQR)        psi(I(IQR^2)) \n",
       "                   7                    8                    9 \n",
       "            psi(MDR)        psi(I(MDR^2))       psi(n_species) \n",
       "                  10                   11                   12 \n",
       " psi(I(n_species^2))      psi(slope_degr) psi(I(slope_degr^2)) \n",
       "                  13                   14                   15 \n",
       "\n",
       "Model-averaged coefficients:  \n",
       "(full average) \n",
       "                       Estimate Std. Error z value Pr(>|z|)    \n",
       "psi(Int)             -5.768e+00  5.938e+03   0.001 0.999225    \n",
       "psi(cop_veg_ottavi)   5.906e+01  1.965e+03   0.030 0.976018    \n",
       "psi(dominant)        -8.844e+01  6.398e+01   1.382 0.166892    \n",
       "psi(IQR)             -2.140e+01  4.482e+03   0.005 0.996190    \n",
       "psi(I(IQR^2))         6.275e+01  6.843e+03   0.009 0.992684    \n",
       "psi(MDR)             -7.628e+01  2.934e+03   0.026 0.979260    \n",
       "psi(n_species)       -5.552e+01  3.132e+03   0.018 0.985855    \n",
       "psi(I(n_species^2))  -8.033e+01  2.330e+03   0.034 0.972495    \n",
       "psi(slope_degr)       1.780e+02  2.031e+03   0.088 0.930190    \n",
       "psi(I(slope_degr^2))  1.842e+02  4.781e+03   0.039 0.969272    \n",
       "p(Int)               -5.573e+00  1.670e+00   3.338 0.000845 ***\n",
       "p(orarioTr)           1.465e+00  3.876e-01   3.779 0.000158 ***\n",
       "p(temper)             1.098e-01  9.869e-02   1.113 0.265865    \n",
       "psi(Esp.tr)           5.874e+00  2.446e+01   0.240 0.810193    \n",
       "psi(I(Esp.tr^2))      6.179e-02  1.052e+01   0.006 0.995311    \n",
       "psi(I(MDR^2))        -1.231e+00  4.173e+00   0.295 0.768000    \n",
       "p(MDR)                3.405e-04  5.900e-02   0.006 0.995396    \n",
       " \n",
       "(conditional average) \n",
       "                       Estimate Std. Error z value Pr(>|z|)    \n",
       "psi(Int)             -5.768e+00  5.938e+03   0.001 0.999225    \n",
       "psi(cop_veg_ottavi)   5.906e+01  1.965e+03   0.030 0.976018    \n",
       "psi(dominant)        -8.844e+01  6.398e+01   1.382 0.166892    \n",
       "psi(IQR)             -2.140e+01  4.482e+03   0.005 0.996190    \n",
       "psi(I(IQR^2))         6.275e+01  6.843e+03   0.009 0.992684    \n",
       "psi(MDR)             -7.628e+01  2.934e+03   0.026 0.979260    \n",
       "psi(n_species)       -5.552e+01  3.132e+03   0.018 0.985855    \n",
       "psi(I(n_species^2))  -8.033e+01  2.330e+03   0.034 0.972495    \n",
       "psi(slope_degr)       1.780e+02  2.031e+03   0.088 0.930190    \n",
       "psi(I(slope_degr^2))  1.842e+02  4.781e+03   0.039 0.969272    \n",
       "p(Int)               -5.573e+00  1.670e+00   3.338 0.000845 ***\n",
       "p(orarioTr)           1.465e+00  3.876e-01   3.779 0.000158 ***\n",
       "p(temper)             1.098e-01  9.869e-02   1.113 0.265865    \n",
       "psi(Esp.tr)           1.335e+01  4.494e+01   0.297 0.766409    \n",
       "psi(I(Esp.tr^2))      2.661e-01  2.182e+01   0.012 0.990270    \n",
       "psi(I(MDR^2))        -8.100e+00  7.677e+00   1.055 0.291394    \n",
       "p(MDR)                3.053e-03  1.767e-01   0.017 0.986211    \n",
       "---\n",
       "Signif. codes:  0 '***' 0.001 '**' 0.01 '*' 0.05 '.' 0.1 ' ' 1\n"
      ]
     },
     "metadata": {},
     "output_type": "display_data"
    }
   ],
   "source": [
    "## PASSAGGIO DI MODEL AVERAGING: CONSIDERIAMO CONTEMPORANEAMENTE I MODELLI MIGLIORI CHE DIFFERISCONO TRA LORO\n",
    "## DI POCO IN TERMINI DI AIC (deltaAIC < 2)\n",
    "summary(model.avg(pdd3, subset = delta < 2))"
   ]
  },
  {
   "cell_type": "code",
   "execution_count": 22,
   "metadata": {},
   "outputs": [
    {
     "data": {
      "text/plain": [
       "\n",
       "Call:\n",
       "occu(formula = ~orario + temper + 1 ~ cop_veg_ottavi + dominant + \n",
       "    IQR + I(IQR^2) + MDR + n_species + I(n_species^2) + slope_degr + \n",
       "    I(slope_degr^2) + 1, data = arvicole)\n",
       "\n",
       "Occupancy:\n",
       "                Estimate   SE      z P(>|z|)\n",
       "(Intercept)        -4.42 19.7 -0.224   0.823\n",
       "cop_veg_ottavi     27.80 21.7  1.279   0.201\n",
       "dominant          -43.95 31.7 -1.386   0.166\n",
       "IQR               -10.81 10.9 -0.993   0.321\n",
       "I(IQR^2)           34.08 21.8  1.564   0.118\n",
       "MDR               -36.93 23.2 -1.595   0.111\n",
       "n_species         -25.13 17.7 -1.416   0.157\n",
       "I(n_species^2)    -39.22 28.4 -1.380   0.168\n",
       "slope_degr         88.82 62.7  1.416   0.157\n",
       "I(slope_degr^2)    89.65 58.3  1.539   0.124\n",
       "\n",
       "Detection:\n",
       "            Estimate     SE     z  P(>|z|)\n",
       "(Intercept)   -5.610 1.6725 -3.35 0.000796\n",
       "orarioTr       1.466 0.3878  3.78 0.000157\n",
       "temper         0.112 0.0988  1.13 0.258854\n",
       "\n",
       "AIC: 373.0054 "
      ]
     },
     "metadata": {},
     "output_type": "display_data"
    }
   ],
   "source": [
    "best.mod1 <- (get.models(pdd3, 1)[[1]])\n",
    "best.mod1"
   ]
  },
  {
   "cell_type": "code",
   "execution_count": 23,
   "metadata": {},
   "outputs": [
    {
     "data": {
      "text/plain": [
       "\n",
       "Call:\n",
       "occu(formula = ~MDR + temper ~ MDR + Esp.tr + dominant, data = arvicole)\n",
       "\n",
       "Occupancy:\n",
       "            Estimate    SE      z P(>|z|)\n",
       "(Intercept)    116.1 163.9  0.708   0.479\n",
       "MDR            -60.7  87.2 -0.695   0.487\n",
       "Esp.tr          36.8  52.9  0.695   0.487\n",
       "dominant       -73.3 103.8 -0.706   0.480\n",
       "\n",
       "Detection:\n",
       "            Estimate     SE       z P(>|z|)\n",
       "(Intercept) -3.42017 1.1449 -2.9872 0.00282\n",
       "MDR          0.06916 0.1780  0.3886 0.69760\n",
       "temper       0.00357 0.0729  0.0489 0.96099\n",
       "\n",
       "AIC: 417.6735 "
      ]
     },
     "metadata": {},
     "output_type": "display_data"
    }
   ],
   "source": [
    "best.mod <- occu(~ MDR + temper\n",
    "                 ~ MDR +\n",
    "                   Esp.tr +\n",
    "                   dominant,\n",
    "                 arvicole)\n",
    "best.mod"
   ]
  },
  {
   "cell_type": "code",
   "execution_count": 24,
   "metadata": {},
   "outputs": [
    {
     "data": {
      "text/html": [
       "<table>\n",
       "<caption>A data.frame: 6 × 7</caption>\n",
       "<thead>\n",
       "\t<tr><th></th><th scope=col>Predicted</th><th scope=col>SE</th><th scope=col>lower</th><th scope=col>upper</th><th scope=col>MDR</th><th scope=col>Esp.tr</th><th scope=col>dominant</th></tr>\n",
       "\t<tr><th></th><th scope=col>&lt;dbl&gt;</th><th scope=col>&lt;dbl&gt;</th><th scope=col>&lt;dbl&gt;</th><th scope=col>&lt;dbl&gt;</th><th scope=col>&lt;dbl&gt;</th><th scope=col>&lt;dbl&gt;</th><th scope=col>&lt;dbl&gt;</th></tr>\n",
       "</thead>\n",
       "<tbody>\n",
       "\t<tr><th scope=row>1</th><td>8.211648e-27</td><td>7.369498e-25</td><td>3.340572e-103</td><td>1</td><td>1.256296e-16</td><td>-2.797759</td><td>1</td></tr>\n",
       "\t<tr><th scope=row>2</th><td>5.456417e-26</td><td>4.749773e-24</td><td>4.369250e-100</td><td>1</td><td>1.256296e-16</td><td>-2.746255</td><td>1</td></tr>\n",
       "\t<tr><th scope=row>3</th><td>3.625641e-25</td><td>3.058445e-23</td><td> 5.694194e-97</td><td>1</td><td>1.256296e-16</td><td>-2.694752</td><td>1</td></tr>\n",
       "\t<tr><th scope=row>4</th><td>2.409140e-24</td><td>1.967417e-22</td><td> 7.391671e-94</td><td>1</td><td>1.256296e-16</td><td>-2.643249</td><td>1</td></tr>\n",
       "\t<tr><th scope=row>5</th><td>1.600808e-23</td><td>1.264248e-21</td><td> 9.553505e-91</td><td>1</td><td>1.256296e-16</td><td>-2.591746</td><td>1</td></tr>\n",
       "\t<tr><th scope=row>6</th><td>1.063693e-22</td><td>8.114810e-21</td><td> 1.228832e-87</td><td>1</td><td>1.256296e-16</td><td>-2.540243</td><td>1</td></tr>\n",
       "</tbody>\n",
       "</table>\n"
      ],
      "text/latex": [
       "A data.frame: 6 × 7\n",
       "\\begin{tabular}{r|lllllll}\n",
       "  & Predicted & SE & lower & upper & MDR & Esp.tr & dominant\\\\\n",
       "  & <dbl> & <dbl> & <dbl> & <dbl> & <dbl> & <dbl> & <dbl>\\\\\n",
       "\\hline\n",
       "\t1 & 8.211648e-27 & 7.369498e-25 & 3.340572e-103 & 1 & 1.256296e-16 & -2.797759 & 1\\\\\n",
       "\t2 & 5.456417e-26 & 4.749773e-24 & 4.369250e-100 & 1 & 1.256296e-16 & -2.746255 & 1\\\\\n",
       "\t3 & 3.625641e-25 & 3.058445e-23 &  5.694194e-97 & 1 & 1.256296e-16 & -2.694752 & 1\\\\\n",
       "\t4 & 2.409140e-24 & 1.967417e-22 &  7.391671e-94 & 1 & 1.256296e-16 & -2.643249 & 1\\\\\n",
       "\t5 & 1.600808e-23 & 1.264248e-21 &  9.553505e-91 & 1 & 1.256296e-16 & -2.591746 & 1\\\\\n",
       "\t6 & 1.063693e-22 & 8.114810e-21 &  1.228832e-87 & 1 & 1.256296e-16 & -2.540243 & 1\\\\\n",
       "\\end{tabular}\n"
      ],
      "text/markdown": [
       "\n",
       "A data.frame: 6 × 7\n",
       "\n",
       "| <!--/--> | Predicted &lt;dbl&gt; | SE &lt;dbl&gt; | lower &lt;dbl&gt; | upper &lt;dbl&gt; | MDR &lt;dbl&gt; | Esp.tr &lt;dbl&gt; | dominant &lt;dbl&gt; |\n",
       "|---|---|---|---|---|---|---|---|\n",
       "| 1 | 8.211648e-27 | 7.369498e-25 | 3.340572e-103 | 1 | 1.256296e-16 | -2.797759 | 1 |\n",
       "| 2 | 5.456417e-26 | 4.749773e-24 | 4.369250e-100 | 1 | 1.256296e-16 | -2.746255 | 1 |\n",
       "| 3 | 3.625641e-25 | 3.058445e-23 |  5.694194e-97 | 1 | 1.256296e-16 | -2.694752 | 1 |\n",
       "| 4 | 2.409140e-24 | 1.967417e-22 |  7.391671e-94 | 1 | 1.256296e-16 | -2.643249 | 1 |\n",
       "| 5 | 1.600808e-23 | 1.264248e-21 |  9.553505e-91 | 1 | 1.256296e-16 | -2.591746 | 1 |\n",
       "| 6 | 1.063693e-22 | 8.114810e-21 |  1.228832e-87 | 1 | 1.256296e-16 | -2.540243 | 1 |\n",
       "\n"
      ],
      "text/plain": [
       "  Predicted    SE           lower         upper MDR          Esp.tr    dominant\n",
       "1 8.211648e-27 7.369498e-25 3.340572e-103 1     1.256296e-16 -2.797759 1       \n",
       "2 5.456417e-26 4.749773e-24 4.369250e-100 1     1.256296e-16 -2.746255 1       \n",
       "3 3.625641e-25 3.058445e-23  5.694194e-97 1     1.256296e-16 -2.694752 1       \n",
       "4 2.409140e-24 1.967417e-22  7.391671e-94 1     1.256296e-16 -2.643249 1       \n",
       "5 1.600808e-23 1.264248e-21  9.553505e-91 1     1.256296e-16 -2.591746 1       \n",
       "6 1.063693e-22 8.114810e-21  1.228832e-87 1     1.256296e-16 -2.540243 1       "
      ]
     },
     "metadata": {},
     "output_type": "display_data"
    },
    {
     "data": {
      "image/png": "[encoded data removed]",
      "text/plain": [
       "plot without title"
      ]
     },
     "metadata": {
      "image/png": {
       "height": 420,
       "width": 420
      }
     },
     "output_type": "display_data"
    }
   ],
   "source": [
    "newdat1 <- data.frame(MDR = mean(siteCovs$MDR),\n",
    "                     Esp.tr = seq(min(siteCovs$Esp.tr), max(siteCovs$Esp.tr), length=100),\n",
    "                     dominant = \"Graminacee\")\n",
    "newdat2 <- data.frame(MDR = mean(siteCovs$MDR),\n",
    "                      Esp.tr = seq(min(siteCovs$Esp.tr), max(siteCovs$Esp.tr), length=100),\n",
    "                      dominant = \"Muschio\")\n",
    "newdat3 <- data.frame(MDR = mean(siteCovs$MDR),\n",
    "                      Esp.tr = seq(min(siteCovs$Esp.tr), max(siteCovs$Esp.tr), length=100),\n",
    "                      dominant = \"Other_sp\")\n",
    "newdat <- rbind(newdat1,newdat2,newdat3)\n",
    "newdat$dominant <- as.numeric(newdat$dominant)\n",
    "Elambda <- predict(best.mod, type='state', newdata=newdat,\n",
    "                   appendData=TRUE)\n",
    "head(Elambda)\n",
    "Elambda.logit <- Elambda\n",
    "\n",
    "par(mfrow=c(1, 2))\n",
    "with(subset(Elambda.logit,dominant==\"1\"), {\n",
    "  plot(Esp.tr, Predicted, xlab=\"Esposizione\", type=\"l\", # names = habitat,\n",
    "       ylab=\"Probabilità di presenza\", #ylim=c(-20, 40), # cex.names=0.7,\n",
    "       cex.lab=0.7, cex.axis=0.7, lwd=2, col=\"red\")\n",
    "   lines(Esp.tr, upper, lty=2, col=\"grey\")\n",
    "  lines(Esp.tr, lower, lty=2, col=\"grey\")\n",
    "})"
   ]
  },
  {
   "cell_type": "code",
   "execution_count": 25,
   "metadata": {},
   "outputs": [
    {
     "data": {
      "text/html": [
       "<table>\n",
       "<caption>A data.frame: 6 × 7</caption>\n",
       "<thead>\n",
       "\t<tr><th></th><th scope=col>Predicted</th><th scope=col>SE</th><th scope=col>lower</th><th scope=col>upper</th><th scope=col>MDR</th><th scope=col>Esp.tr</th><th scope=col>dominant</th></tr>\n",
       "\t<tr><th></th><th scope=col>&lt;dbl&gt;</th><th scope=col>&lt;dbl&gt;</th><th scope=col>&lt;dbl&gt;</th><th scope=col>&lt;dbl&gt;</th><th scope=col>&lt;dbl&gt;</th><th scope=col>&lt;dbl&gt;</th><th scope=col>&lt;dbl&gt;</th></tr>\n",
       "</thead>\n",
       "<tbody>\n",
       "\t<tr><th scope=row>1</th><td>1</td><td>9.527856e-54</td><td>9.571364e-100</td><td>1</td><td>-1.392686</td><td>-4.031219e-17</td><td>1</td></tr>\n",
       "\t<tr><th scope=row>2</th><td>1</td><td>2.784942e-52</td><td> 4.573528e-97</td><td>1</td><td>-1.336590</td><td>-4.031219e-17</td><td>1</td></tr>\n",
       "\t<tr><th scope=row>3</th><td>1</td><td>8.134023e-51</td><td> 2.183053e-94</td><td>1</td><td>-1.280494</td><td>-4.031219e-17</td><td>1</td></tr>\n",
       "\t<tr><th scope=row>4</th><td>1</td><td>2.373799e-49</td><td> 1.040811e-91</td><td>1</td><td>-1.224398</td><td>-4.031219e-17</td><td>1</td></tr>\n",
       "\t<tr><th scope=row>5</th><td>1</td><td>6.921677e-48</td><td> 4.955962e-89</td><td>1</td><td>-1.168302</td><td>-4.031219e-17</td><td>1</td></tr>\n",
       "\t<tr><th scope=row>6</th><td>1</td><td>2.016437e-46</td><td> 2.356577e-86</td><td>1</td><td>-1.112207</td><td>-4.031219e-17</td><td>1</td></tr>\n",
       "</tbody>\n",
       "</table>\n"
      ],
      "text/latex": [
       "A data.frame: 6 × 7\n",
       "\\begin{tabular}{r|lllllll}\n",
       "  & Predicted & SE & lower & upper & MDR & Esp.tr & dominant\\\\\n",
       "  & <dbl> & <dbl> & <dbl> & <dbl> & <dbl> & <dbl> & <dbl>\\\\\n",
       "\\hline\n",
       "\t1 & 1 & 9.527856e-54 & 9.571364e-100 & 1 & -1.392686 & -4.031219e-17 & 1\\\\\n",
       "\t2 & 1 & 2.784942e-52 &  4.573528e-97 & 1 & -1.336590 & -4.031219e-17 & 1\\\\\n",
       "\t3 & 1 & 8.134023e-51 &  2.183053e-94 & 1 & -1.280494 & -4.031219e-17 & 1\\\\\n",
       "\t4 & 1 & 2.373799e-49 &  1.040811e-91 & 1 & -1.224398 & -4.031219e-17 & 1\\\\\n",
       "\t5 & 1 & 6.921677e-48 &  4.955962e-89 & 1 & -1.168302 & -4.031219e-17 & 1\\\\\n",
       "\t6 & 1 & 2.016437e-46 &  2.356577e-86 & 1 & -1.112207 & -4.031219e-17 & 1\\\\\n",
       "\\end{tabular}\n"
      ],
      "text/markdown": [
       "\n",
       "A data.frame: 6 × 7\n",
       "\n",
       "| <!--/--> | Predicted &lt;dbl&gt; | SE &lt;dbl&gt; | lower &lt;dbl&gt; | upper &lt;dbl&gt; | MDR &lt;dbl&gt; | Esp.tr &lt;dbl&gt; | dominant &lt;dbl&gt; |\n",
       "|---|---|---|---|---|---|---|---|\n",
       "| 1 | 1 | 9.527856e-54 | 9.571364e-100 | 1 | -1.392686 | -4.031219e-17 | 1 |\n",
       "| 2 | 1 | 2.784942e-52 |  4.573528e-97 | 1 | -1.336590 | -4.031219e-17 | 1 |\n",
       "| 3 | 1 | 8.134023e-51 |  2.183053e-94 | 1 | -1.280494 | -4.031219e-17 | 1 |\n",
       "| 4 | 1 | 2.373799e-49 |  1.040811e-91 | 1 | -1.224398 | -4.031219e-17 | 1 |\n",
       "| 5 | 1 | 6.921677e-48 |  4.955962e-89 | 1 | -1.168302 | -4.031219e-17 | 1 |\n",
       "| 6 | 1 | 2.016437e-46 |  2.356577e-86 | 1 | -1.112207 | -4.031219e-17 | 1 |\n",
       "\n"
      ],
      "text/plain": [
       "  Predicted SE           lower         upper MDR       Esp.tr        dominant\n",
       "1 1         9.527856e-54 9.571364e-100 1     -1.392686 -4.031219e-17 1       \n",
       "2 1         2.784942e-52  4.573528e-97 1     -1.336590 -4.031219e-17 1       \n",
       "3 1         8.134023e-51  2.183053e-94 1     -1.280494 -4.031219e-17 1       \n",
       "4 1         2.373799e-49  1.040811e-91 1     -1.224398 -4.031219e-17 1       \n",
       "5 1         6.921677e-48  4.955962e-89 1     -1.168302 -4.031219e-17 1       \n",
       "6 1         2.016437e-46  2.356577e-86 1     -1.112207 -4.031219e-17 1       "
      ]
     },
     "metadata": {},
     "output_type": "display_data"
    },
    {
     "data": {
      "image/png": "[encoded data removed]",
      "text/plain": [
       "plot without title"
      ]
     },
     "metadata": {
      "image/png": {
       "height": 420,
       "width": 420
      }
     },
     "output_type": "display_data"
    }
   ],
   "source": [
    "# Predict abundance at specified covariate values.\n",
    "newdat_1 <- data.frame(MDR = seq(min(siteCovs$MDR), max(siteCovs$MDR), length=100),\n",
    "                      Esp.tr = mean(siteCovs$Esp.tr),\n",
    "                      dominant = \"Graminacee\")\n",
    "newdat_2 <- data.frame(MDR = seq(min(siteCovs$MDR), max(siteCovs$MDR), length=100),\n",
    "                      Esp.tr = mean(siteCovs$Esp.tr),\n",
    "                      dominant = \"Muschio\")\n",
    "newdat_3 <- data.frame(MDR = seq(min(siteCovs$MDR), max(siteCovs$MDR), length=100),\n",
    "                      Esp.tr = mean(siteCovs$Esp.tr),\n",
    "                      dominant = \"Other_sp\")\n",
    "newdata_ <- rbind(newdat_1,newdat_2,newdat_3)\n",
    "newdata_$dominant <- as.numeric(newdata_$dominant)\n",
    "Elambda_ <- predict(best.mod, type='state', newdata=newdata_,\n",
    "                   appendData=TRUE)\n",
    "head(Elambda_)\n",
    "Elambda.logit <- Elambda_\n",
    "with(subset(Elambda.logit,dominant==\"1\"), {\n",
    "  plot(MDR, Predicted, xlab=\"MDR\", type=\"l\", # names = habitat,\n",
    "       ylab=\"Probabilità di presenza\", #ylim=c(-20, 40), # cex.names=0.7,\n",
    "       cex.lab=0.7, cex.axis=0.7, lwd=2, col=\"red\")\n",
    "  # lines(MDR, Predicted+SE, lty=3, col=\"dark grey\")\n",
    "  # lines(MDR, Predicted-SE, lty=3, col=\"dark grey\")\n",
    "  lines(MDR, upper, lty=2, col=\"grey\")\n",
    "  lines(MDR, lower, lty=2, col=\"grey\")\n",
    "})"
   ]
  },
  {
   "cell_type": "code",
   "execution_count": 26,
   "metadata": {},
   "outputs": [
    {
     "data": {
      "text/html": [
       "18.9"
      ],
      "text/latex": [
       "18.9"
      ],
      "text/markdown": [
       "18.9"
      ],
      "text/plain": [
       "[1] 18.9"
      ]
     },
     "metadata": {},
     "output_type": "display_data"
    }
   ],
   "source": [
    "#calcolo media temp\n",
    "maxt <- max(temperatura_occasione[,colonne_oggetto_analisi])\n",
    "mint <- min(temperatura_occasione[,colonne_oggetto_analisi])\n",
    "mean(maxt,mint)"
   ]
  },
  {
   "cell_type": "code",
   "execution_count": 27,
   "metadata": {},
   "outputs": [
    {
     "data": {
      "text/html": [
       "<table>\n",
       "<caption>A data.frame: 6 × 6</caption>\n",
       "<thead>\n",
       "\t<tr><th></th><th scope=col>Predicted</th><th scope=col>SE</th><th scope=col>lower</th><th scope=col>upper</th><th scope=col>MDR</th><th scope=col>temper</th></tr>\n",
       "\t<tr><th></th><th scope=col>&lt;dbl&gt;</th><th scope=col>&lt;dbl&gt;</th><th scope=col>&lt;dbl&gt;</th><th scope=col>&lt;dbl&gt;</th><th scope=col>&lt;dbl&gt;</th><th scope=col>&lt;dbl&gt;</th></tr>\n",
       "</thead>\n",
       "<tbody>\n",
       "\t<tr><th scope=row>1</th><td>0.03079619</td><td>0.01100703</td><td>0.01518921</td><td>0.06143897</td><td>-1.392686</td><td>18.9</td></tr>\n",
       "\t<tr><th scope=row>2</th><td>0.03091220</td><td>0.01086058</td><td>0.01543175</td><td>0.06096044</td><td>-1.336590</td><td>18.9</td></tr>\n",
       "\t<tr><th scope=row>3</th><td>0.03102862</td><td>0.01071804</td><td>0.01567293</td><td>0.06050444</td><td>-1.280494</td><td>18.9</td></tr>\n",
       "\t<tr><th scope=row>4</th><td>0.03114547</td><td>0.01057972</td><td>0.01591230</td><td>0.06007151</td><td>-1.224398</td><td>18.9</td></tr>\n",
       "\t<tr><th scope=row>5</th><td>0.03126275</td><td>0.01044597</td><td>0.01614938</td><td>0.05966224</td><td>-1.168302</td><td>18.9</td></tr>\n",
       "\t<tr><th scope=row>6</th><td>0.03138046</td><td>0.01031712</td><td>0.01638367</td><td>0.05927726</td><td>-1.112207</td><td>18.9</td></tr>\n",
       "</tbody>\n",
       "</table>\n"
      ],
      "text/latex": [
       "A data.frame: 6 × 6\n",
       "\\begin{tabular}{r|llllll}\n",
       "  & Predicted & SE & lower & upper & MDR & temper\\\\\n",
       "  & <dbl> & <dbl> & <dbl> & <dbl> & <dbl> & <dbl>\\\\\n",
       "\\hline\n",
       "\t1 & 0.03079619 & 0.01100703 & 0.01518921 & 0.06143897 & -1.392686 & 18.9\\\\\n",
       "\t2 & 0.03091220 & 0.01086058 & 0.01543175 & 0.06096044 & -1.336590 & 18.9\\\\\n",
       "\t3 & 0.03102862 & 0.01071804 & 0.01567293 & 0.06050444 & -1.280494 & 18.9\\\\\n",
       "\t4 & 0.03114547 & 0.01057972 & 0.01591230 & 0.06007151 & -1.224398 & 18.9\\\\\n",
       "\t5 & 0.03126275 & 0.01044597 & 0.01614938 & 0.05966224 & -1.168302 & 18.9\\\\\n",
       "\t6 & 0.03138046 & 0.01031712 & 0.01638367 & 0.05927726 & -1.112207 & 18.9\\\\\n",
       "\\end{tabular}\n"
      ],
      "text/markdown": [
       "\n",
       "A data.frame: 6 × 6\n",
       "\n",
       "| <!--/--> | Predicted &lt;dbl&gt; | SE &lt;dbl&gt; | lower &lt;dbl&gt; | upper &lt;dbl&gt; | MDR &lt;dbl&gt; | temper &lt;dbl&gt; |\n",
       "|---|---|---|---|---|---|---|\n",
       "| 1 | 0.03079619 | 0.01100703 | 0.01518921 | 0.06143897 | -1.392686 | 18.9 |\n",
       "| 2 | 0.03091220 | 0.01086058 | 0.01543175 | 0.06096044 | -1.336590 | 18.9 |\n",
       "| 3 | 0.03102862 | 0.01071804 | 0.01567293 | 0.06050444 | -1.280494 | 18.9 |\n",
       "| 4 | 0.03114547 | 0.01057972 | 0.01591230 | 0.06007151 | -1.224398 | 18.9 |\n",
       "| 5 | 0.03126275 | 0.01044597 | 0.01614938 | 0.05966224 | -1.168302 | 18.9 |\n",
       "| 6 | 0.03138046 | 0.01031712 | 0.01638367 | 0.05927726 | -1.112207 | 18.9 |\n",
       "\n"
      ],
      "text/plain": [
       "  Predicted  SE         lower      upper      MDR       temper\n",
       "1 0.03079619 0.01100703 0.01518921 0.06143897 -1.392686 18.9  \n",
       "2 0.03091220 0.01086058 0.01543175 0.06096044 -1.336590 18.9  \n",
       "3 0.03102862 0.01071804 0.01567293 0.06050444 -1.280494 18.9  \n",
       "4 0.03114547 0.01057972 0.01591230 0.06007151 -1.224398 18.9  \n",
       "5 0.03126275 0.01044597 0.01614938 0.05966224 -1.168302 18.9  \n",
       "6 0.03138046 0.01031712 0.01638367 0.05927726 -1.112207 18.9  "
      ]
     },
     "metadata": {},
     "output_type": "display_data"
    },
    {
     "data": {
      "image/png": "[encoded data removed]",
      "text/plain": [
       "plot without title"
      ]
     },
     "metadata": {
      "image/png": {
       "height": 420,
       "width": 420
      }
     },
     "output_type": "display_data"
    }
   ],
   "source": [
    "newdata1 <- data.frame(MDR = seq(min(siteCovs$MDR), max(siteCovs$MDR), length=100),\n",
    "                      temper = mean(maxt,mint))\n",
    "Elambda.det <- predict(best.mod, type='det', newdata=newdata1,\n",
    "                   appendData=TRUE)\n",
    "head(Elambda.det)\n",
    "with(Elambda.det, {\n",
    "  plot(MDR, Predicted, xlab=\"MDR\", type=\"l\", # names = habitat,\n",
    "       ylab=\"Probabilità di cattura\", #ylim=c(-20, 40), # cex.names=0.7,\n",
    "       cex.lab=0.7, cex.axis=0.7, lwd=2, col=\"red\")\n",
    "  # lines(MDR, Predicted+SE, lty=3, col=\"dark grey\")\n",
    "  # lines(MDR, Predicted-SE, lty=3, col=\"dark grey\")\n",
    "  lines(MDR, upper, lty=2, col=\"grey\")\n",
    "  lines(MDR, lower, lty=2, col=\"grey\")\n",
    "})"
   ]
  },
  {
   "cell_type": "markdown",
   "metadata": {},
   "source": [
    "#### Applichiamo i modelli migliori"
   ]
  },
  {
   "cell_type": "code",
   "execution_count": 28,
   "metadata": {},
   "outputs": [
    {
     "data": {
      "text/plain": [
       "\n",
       "Call:\n",
       "occu(formula = ~orario + temper + 1 ~ cop_veg_ottavi + dominant + \n",
       "    IQR + I(IQR^2) + MDR + n_species + I(n_species^2) + slope_degr + \n",
       "    I(slope_degr^2) + 1, data = arvicole)\n",
       "\n",
       "Occupancy:\n",
       "                Estimate   SE      z P(>|z|)\n",
       "(Intercept)        -4.42 19.7 -0.224   0.823\n",
       "cop_veg_ottavi     27.80 21.7  1.279   0.201\n",
       "dominant          -43.95 31.7 -1.386   0.166\n",
       "IQR               -10.81 10.9 -0.993   0.321\n",
       "I(IQR^2)           34.08 21.8  1.564   0.118\n",
       "MDR               -36.93 23.2 -1.595   0.111\n",
       "n_species         -25.13 17.7 -1.416   0.157\n",
       "I(n_species^2)    -39.22 28.4 -1.380   0.168\n",
       "slope_degr         88.82 62.7  1.416   0.157\n",
       "I(slope_degr^2)    89.65 58.3  1.539   0.124\n",
       "\n",
       "Detection:\n",
       "            Estimate     SE     z  P(>|z|)\n",
       "(Intercept)   -5.610 1.6725 -3.35 0.000796\n",
       "orarioTr       1.466 0.3878  3.78 0.000157\n",
       "temper         0.112 0.0988  1.13 0.258854\n",
       "\n",
       "AIC: 373.0054 "
      ]
     },
     "metadata": {},
     "output_type": "display_data"
    }
   ],
   "source": [
    "best.mod2 <- (get.models(pdd3, 1)[[1]])\n",
    "best.mod2 "
   ]
  },
  {
   "cell_type": "code",
   "execution_count": 29,
   "metadata": {},
   "outputs": [
    {
     "data": {
      "text/html": [
       "'numeric'"
      ],
      "text/latex": [
       "'numeric'"
      ],
      "text/markdown": [
       "'numeric'"
      ],
      "text/plain": [
       "[1] \"numeric\""
      ]
     },
     "metadata": {},
     "output_type": "display_data"
    },
    {
     "data": {
      "text/html": [
       "'numeric'"
      ],
      "text/latex": [
       "'numeric'"
      ],
      "text/markdown": [
       "'numeric'"
      ],
      "text/plain": [
       "[1] \"numeric\""
      ]
     },
     "metadata": {},
     "output_type": "display_data"
    },
    {
     "data": {
      "text/html": [
       "'numeric'"
      ],
      "text/latex": [
       "'numeric'"
      ],
      "text/markdown": [
       "'numeric'"
      ],
      "text/plain": [
       "[1] \"numeric\""
      ]
     },
     "metadata": {},
     "output_type": "display_data"
    },
    {
     "data": {
      "text/html": [
       "'numeric'"
      ],
      "text/latex": [
       "'numeric'"
      ],
      "text/markdown": [
       "'numeric'"
      ],
      "text/plain": [
       "[1] \"numeric\""
      ]
     },
     "metadata": {},
     "output_type": "display_data"
    },
    {
     "data": {
      "text/html": [
       "'numeric'"
      ],
      "text/latex": [
       "'numeric'"
      ],
      "text/markdown": [
       "'numeric'"
      ],
      "text/plain": [
       "[1] \"numeric\""
      ]
     },
     "metadata": {},
     "output_type": "display_data"
    }
   ],
   "source": [
    "class(siteCovs$cop_veg_ottavi)\n",
    "class(siteCovs$n_species)\n",
    "class(siteCovs$slope_degr)\n",
    "class(siteCovs$IQR)\n",
    "class(siteCovs$dominant)"
   ]
  },
  {
   "cell_type": "code",
   "execution_count": 30,
   "metadata": {},
   "outputs": [
    {
     "ename": "ERROR",
     "evalue": "Error in .local(object, ...): oggetto \"nw_data\" non trovato\n",
     "output_type": "error",
     "traceback": [
      "Error in .local(object, ...): oggetto \"nw_data\" non trovato\nTraceback:\n",
      "1. predict(best.mod2, type = \"state\", newdata = nw_data, appendData = TRUE)",
      "2. predict(best.mod2, type = \"state\", newdata = nw_data, appendData = TRUE)",
      "3. .local(object, ...)"
     ]
    }
   ],
   "source": [
    "nw_data1 <- data.frame(n_species = mean(siteCovs$n_species),\n",
    "                     cop_veg_ottavi = seq(min(siteCovs$cop_veg_ottavi, na.rm=TRUE), max(siteCovs$cop_veg_ottavi, na.rm=TRUE), length=100),\n",
    "                     slope_degr = mean(siteCovs$slope_degr),\n",
    "                     IQR = seq(min(siteCovs$IQR), max(siteCovs$IQR), length=100),\n",
    "                     dominant = \"Graminacee\")\n",
    "nw_data2 <- data.frame(n_species = mean(siteCovs$n_species),\n",
    "                      cop_veg_ottavi = seq(min(siteCovs$cop_veg_ottavi, na.rm=TRUE), max(siteCovs$cop_veg_ottavi, na.rm=TRUE), length=100),\n",
    "                      slope_degr = mean(siteCovs$slope_degr),\n",
    "                      IQR = seq(min(siteCovs$IQR), max(siteCovs$IQR), length=100),\n",
    "                      dominant = \"Muschio\")\n",
    "nw_data3 <- data.frame(n_species = mean(siteCovs$n_species),\n",
    "                      cop_veg_ottavi = seq(min(siteCovs$cop_veg_ottavi, na.rm=TRUE), max(siteCovs$cop_veg_ottavi, na.rm=TRUE), length=100),\n",
    "                      slope_degr = mean(siteCovs$slope_degr),\n",
    "                      IQR = seq(min(siteCovs$IQR), max(siteCovs$IQR), length=100),\n",
    "                      dominant = \"Other_sp\")\n",
    "w_data <- rbind(nw_data1,nw_data2,nw_data3)\n",
    "Elmbd <- predict(best.mod2, type='state', newdata=nw_data,\n",
    "                   appendData=TRUE)"
   ]
  },
  {
   "cell_type": "code",
   "execution_count": null,
   "metadata": {},
   "outputs": [],
   "source": [
    "\n",
    "par(mfrow=c(1, 3))\n",
    "with(subset(Elambda.logit,dominante==\"Graminacee\"), {\n",
    "  plot(ott, Predicted, xlab=\"Copertura vegetazionale\", type=\"l\", # names = habitat,\n",
    "       ylab=\"Probabilità di presenza\", #ylim=c(-20, 40), # cex.names=0.7,\n",
    "       cex.lab=0.7, cex.axis=0.7, lwd=2, col=\"red\")\n",
    "  lines(ott, upper, lty=2, col=\"grey\")\n",
    "  lines(ott, lower, lty=2, col=\"grey\")\n",
    "})\n"
   ]
  },
  {
   "cell_type": "code",
   "execution_count": null,
   "metadata": {},
   "outputs": [],
   "source": [
    "# Predict abundance at specified covariate values.\n",
    "new_dat1 <- data.frame(n_species = seq(0, 32, length=100),\n",
    "                      cop_veg_ottavi = 0,\n",
    "                      slope_degr = mean(siteCovs$slope_degr),\n",
    "                      dominant = \"Graminacee\")\n",
    "new_dat2 <- data.frame(n_species = seq(0, 32, length=100),\n",
    "                      cop_veg_ottavi = 0,\n",
    "                      slope_degr = mean(siteCovs$slope_degr),\n",
    "                      dominant = \"Muschio\")\n",
    "new_dat3 <- data.frame(n_species = seq(0, 32, length=100),\n",
    "                      cop_veg_ottavi = 0,\n",
    "                      slope_degr = mean(siteCovs$slope_degr),\n",
    "                      dominant = \"Other_sp\")\n",
    "new_dat <- rbind(new_dat1,new_dat2,new_dat3)\n",
    "elambda <- predict(best.mod, type='state', newdata=new_dat,\n",
    "                   appendData=TRUE)\n",
    "head(elambda)\n",
    "Elambda.logit <- elambda\n",
    "with(subset(Elambda.logit,dominant==\"Graminacee\"), {\n",
    "  plot(n_species, Predicted, xlab=\"Numero di specie vegetali\", type=\"l\", # names = habitat,\n",
    "       ylab=\"Probabilità di presenza\", #ylim=c(-20, 40), # cex.names=0.7,\n",
    "       cex.lab=0.7, cex.axis=0.7, lwd=2, col=\"red\")\n",
    "  lines(n_species, upper, lty=2, col=\"grey\")\n",
    "  lines(n_species, lower, lty=2, col=\"grey\")\n",
    "})"
   ]
  },
  {
   "cell_type": "code",
   "execution_count": null,
   "metadata": {},
   "outputs": [],
   "source": [
    "# Predict abundance at specified covariate values.\n",
    "newdati1 <- data.frame(n_species = mean(siteCovs$n_species),\n",
    "                      cop_veg_ottavi = 0,\n",
    "                      slope_degr = seq(min(siteCovs$slope_degr),max(siteCovs$slope_degr), lenght=100),\n",
    "                      dominant = \"Graminacee\")\n",
    "newdati2 <- data.frame(n_species = mean(siteCovs$n_species),\n",
    "                      cop_veg_ottavi = 0,\n",
    "                      slope_degr = seq(min(siteCovs$slope_degr),max(siteCovs$slope_degr), lenght=100),\n",
    "                      dominant = \"Muschio\")\n",
    "newdati3 <- data.frame(n_species = mean(siteCovs$n_species),\n",
    "                      cop_veg_ottavi = 0,\n",
    "                      slope_degr = seq(min(siteCovs$slope_degr),max(siteCovs$slope_degr), lenght=100),\n",
    "                      dominant = \"Other_sp\")\n",
    "newdati_ <- rbind(newdati1,newdati2,newdati3)\n",
    "elambda_ <- predict(best.mod, type='state', newdata=newdati_,\n",
    "                   appendData=TRUE)\n",
    "head(elambda_)\n",
    "Elambda.logit <- elambda_\n",
    "with(subset(Elambda.logit,dominant==\"Graminacee\"), {\n",
    "  plot(slope_degr, Predicted, xlab=\"Inclinazione\", type=\"l\", # names = habitat,\n",
    "       ylab=\"Probabilità di presenza\", #ylim=c(-20, 40), # cex.names=0.7,\n",
    "  lines(slope_degr, upper, lty=2, col=\"grey\")\n",
    "  lines(slope_degr, lower, lty=2, col=\"grey\")\n",
    "})\n",
    "\n"
   ]
  }
 ],
 "metadata": {
  "kernelspec": {
   "display_name": "R",
   "language": "R",
   "name": "ir"
  },
  "language_info": {
   "codemirror_mode": "r",
   "file_extension": ".r",
   "mimetype": "text/x-r-source",
   "name": "R",
   "pygments_lexer": "r",
   "version": "3.6.3"
  }
 },
 "nbformat": 4,
 "nbformat_minor": 4
}
