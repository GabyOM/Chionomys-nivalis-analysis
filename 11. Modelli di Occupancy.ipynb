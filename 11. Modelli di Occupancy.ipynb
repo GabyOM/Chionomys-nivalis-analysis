{
 "cells": [
  {
   "cell_type": "markdown",
   "metadata": {},
   "source": [
    "## Applicazione analisi Detection Histories"
   ]
  },
  {
   "cell_type": "code",
   "execution_count": null,
   "metadata": {},
   "outputs": [],
   "source": []
  },
  {
   "cell_type": "code",
   "execution_count": 1,
   "metadata": {},
   "outputs": [],
   "source": [
    "#### Inserire l'anno su cui si vuole effettuare l'analisi es. ==\"2014\", \"2015\", ecc\n",
    "anno_analisi <- \"2018\"\n",
    "sessione_analisi <- \"1\""
   ]
  },
  {
   "cell_type": "code",
   "execution_count": 2,
   "metadata": {},
   "outputs": [
    {
     "name": "stderr",
     "output_type": "stream",
     "text": [
      "\n",
      "Attaching package: 'dplyr'\n",
      "\n",
      "\n",
      "The following objects are masked from 'package:stats':\n",
      "\n",
      "    filter, lag\n",
      "\n",
      "\n",
      "The following objects are masked from 'package:base':\n",
      "\n",
      "    intersect, setdiff, setequal, union\n",
      "\n",
      "\n",
      "Loading required package: lattice\n",
      "\n",
      "Loading required package: stats4\n",
      "\n",
      "\n",
      "Attaching package: 'stats4'\n",
      "\n",
      "\n",
      "The following object is masked from 'package:unmarked':\n",
      "\n",
      "    mle\n",
      "\n",
      "\n",
      "Loading required package: parallel\n",
      "\n"
     ]
    }
   ],
   "source": [
    "library(dplyr)\n",
    "library(readr)\n",
    "library(unmarked)\n",
    "require(stats4)\n",
    "require(parallel)"
   ]
  },
  {
   "cell_type": "code",
   "execution_count": 3,
   "metadata": {},
   "outputs": [],
   "source": [
    "# Matrice di detection history (catture effettive) -- y\n",
    "catture_effettive <- read.csv(\"Dati-preparazione-modello\\\\catture_effettive_totale.csv\", dec=\",\", sep=\";\", header = TRUE)\n",
    "\n",
    "# Leggiamo le matrici dell'Orario (Alba Tramonto), Precipitazioni e Temperatura -- ObsCovs\n",
    "orario_occasione <- read.csv(\"Dati-preparazione-modello\\\\orario_occasione_totale.csv\", dec=\",\", sep=\";\", header = TRUE, stringsAsFactors = FALSE)\n",
    "precipitazioni_occasione <- read.csv(\"Dati-preparazione-modello\\\\precipitazioni_occasione_totale.csv\", dec=\",\", sep=\";\", header = TRUE, stringsAsFactors = FALSE)\n",
    "temperatura_occasione <- read.csv(\"Dati-preparazione-modello\\\\temperatura_occasione_totale.csv\", dec=\",\", sep=\";\", header = TRUE, stringsAsFactors = FALSE)\n",
    "\n",
    "# Prendiamo Datioccas per legare l'anno alle varie osservazioni\n",
    "Datioccas <- read.csv(\"Dati-elaborati/Dati-occasioni.csv\", dec=\",\", sep=\";\", header = TRUE)\n",
    "\n",
    "# Leggiamo il file relativo alle invarianti ambientali (covariate) -- siteCovs\n",
    "siteCovs <- read.csv(\"Dati-preparazione-modello/Dati-cov-mdr-iqr.csv\", dec=\",\", sep=\";\", header = TRUE, stringsAsFactors = FALSE)"
   ]
  },
  {
   "cell_type": "code",
   "execution_count": 4,
   "metadata": {},
   "outputs": [
    {
     "data": {
      "text/html": [
       "<table>\n",
       "<caption>A data.frame: 6 × 12</caption>\n",
       "<thead>\n",
       "\t<tr><th></th><th scope=col>Diametro.roccia.1..cm.</th><th scope=col>Diametro.roccia.2..cm.</th><th scope=col>Diametro.roccia.3..cm.</th><th scope=col>alt_m</th><th scope=col>aspect_deg</th><th scope=col>slope_degr</th><th scope=col>n_species</th><th scope=col>dominant</th><th scope=col>MDR</th><th scope=col>IQR</th><th scope=col>Esp.tr</th><th scope=col>cop_veg_ottavi</th></tr>\n",
       "\t<tr><th></th><th scope=col>&lt;int&gt;</th><th scope=col>&lt;int&gt;</th><th scope=col>&lt;int&gt;</th><th scope=col>&lt;dbl&gt;</th><th scope=col>&lt;int&gt;</th><th scope=col>&lt;int&gt;</th><th scope=col>&lt;int&gt;</th><th scope=col>&lt;dbl&gt;</th><th scope=col>&lt;int&gt;</th><th scope=col>&lt;dbl&gt;</th><th scope=col>&lt;int&gt;</th><th scope=col>&lt;int&gt;</th></tr>\n",
       "</thead>\n",
       "<tbody>\n",
       "\t<tr><th scope=row>1</th><td> 59</td><td>96</td><td>102</td><td>2782.206</td><td>234</td><td>13</td><td>23</td><td>20</td><td>96</td><td>21.5</td><td>-126</td><td>5</td></tr>\n",
       "\t<tr><th scope=row>2</th><td>176</td><td>42</td><td> 76</td><td>2781.136</td><td>294</td><td>16</td><td>16</td><td>20</td><td>76</td><td>67.0</td><td> -66</td><td>2</td></tr>\n",
       "\t<tr><th scope=row>3</th><td> 51</td><td>88</td><td> 62</td><td>2781.067</td><td>310</td><td> 0</td><td>13</td><td>20</td><td>62</td><td>18.5</td><td> -50</td><td>2</td></tr>\n",
       "\t<tr><th scope=row>4</th><td> 99</td><td>30</td><td> 36</td><td>2781.087</td><td>293</td><td> 8</td><td>23</td><td>20</td><td>36</td><td>34.5</td><td> -67</td><td>5</td></tr>\n",
       "\t<tr><th scope=row>5</th><td>164</td><td>41</td><td> 47</td><td>2781.887</td><td>294</td><td>11</td><td>21</td><td>20</td><td>47</td><td>61.5</td><td> -66</td><td>2</td></tr>\n",
       "\t<tr><th scope=row>6</th><td>130</td><td>31</td><td> 36</td><td>2782.237</td><td>310</td><td> 7</td><td>20</td><td>20</td><td>36</td><td>49.5</td><td> -50</td><td>4</td></tr>\n",
       "</tbody>\n",
       "</table>\n"
      ],
      "text/latex": [
       "A data.frame: 6 × 12\n",
       "\\begin{tabular}{r|llllllllllll}\n",
       "  & Diametro.roccia.1..cm. & Diametro.roccia.2..cm. & Diametro.roccia.3..cm. & alt\\_m & aspect\\_deg & slope\\_degr & n\\_species & dominant & MDR & IQR & Esp.tr & cop\\_veg\\_ottavi\\\\\n",
       "  & <int> & <int> & <int> & <dbl> & <int> & <int> & <int> & <dbl> & <int> & <dbl> & <int> & <int>\\\\\n",
       "\\hline\n",
       "\t1 &  59 & 96 & 102 & 2782.206 & 234 & 13 & 23 & 20 & 96 & 21.5 & -126 & 5\\\\\n",
       "\t2 & 176 & 42 &  76 & 2781.136 & 294 & 16 & 16 & 20 & 76 & 67.0 &  -66 & 2\\\\\n",
       "\t3 &  51 & 88 &  62 & 2781.067 & 310 &  0 & 13 & 20 & 62 & 18.5 &  -50 & 2\\\\\n",
       "\t4 &  99 & 30 &  36 & 2781.087 & 293 &  8 & 23 & 20 & 36 & 34.5 &  -67 & 5\\\\\n",
       "\t5 & 164 & 41 &  47 & 2781.887 & 294 & 11 & 21 & 20 & 47 & 61.5 &  -66 & 2\\\\\n",
       "\t6 & 130 & 31 &  36 & 2782.237 & 310 &  7 & 20 & 20 & 36 & 49.5 &  -50 & 4\\\\\n",
       "\\end{tabular}\n"
      ],
      "text/markdown": [
       "\n",
       "A data.frame: 6 × 12\n",
       "\n",
       "| <!--/--> | Diametro.roccia.1..cm. &lt;int&gt; | Diametro.roccia.2..cm. &lt;int&gt; | Diametro.roccia.3..cm. &lt;int&gt; | alt_m &lt;dbl&gt; | aspect_deg &lt;int&gt; | slope_degr &lt;int&gt; | n_species &lt;int&gt; | dominant &lt;dbl&gt; | MDR &lt;int&gt; | IQR &lt;dbl&gt; | Esp.tr &lt;int&gt; | cop_veg_ottavi &lt;int&gt; |\n",
       "|---|---|---|---|---|---|---|---|---|---|---|---|---|\n",
       "| 1 |  59 | 96 | 102 | 2782.206 | 234 | 13 | 23 | 20 | 96 | 21.5 | -126 | 5 |\n",
       "| 2 | 176 | 42 |  76 | 2781.136 | 294 | 16 | 16 | 20 | 76 | 67.0 |  -66 | 2 |\n",
       "| 3 |  51 | 88 |  62 | 2781.067 | 310 |  0 | 13 | 20 | 62 | 18.5 |  -50 | 2 |\n",
       "| 4 |  99 | 30 |  36 | 2781.087 | 293 |  8 | 23 | 20 | 36 | 34.5 |  -67 | 5 |\n",
       "| 5 | 164 | 41 |  47 | 2781.887 | 294 | 11 | 21 | 20 | 47 | 61.5 |  -66 | 2 |\n",
       "| 6 | 130 | 31 |  36 | 2782.237 | 310 |  7 | 20 | 20 | 36 | 49.5 |  -50 | 4 |\n",
       "\n"
      ],
      "text/plain": [
       "  Diametro.roccia.1..cm. Diametro.roccia.2..cm. Diametro.roccia.3..cm. alt_m   \n",
       "1  59                    96                     102                    2782.206\n",
       "2 176                    42                      76                    2781.136\n",
       "3  51                    88                      62                    2781.067\n",
       "4  99                    30                      36                    2781.087\n",
       "5 164                    41                      47                    2781.887\n",
       "6 130                    31                      36                    2782.237\n",
       "  aspect_deg slope_degr n_species dominant MDR IQR  Esp.tr cop_veg_ottavi\n",
       "1 234        13         23        20       96  21.5 -126   5             \n",
       "2 294        16         16        20       76  67.0  -66   2             \n",
       "3 310         0         13        20       62  18.5  -50   2             \n",
       "4 293         8         23        20       36  34.5  -67   5             \n",
       "5 294        11         21        20       47  61.5  -66   2             \n",
       "6 310         7         20        20       36  49.5  -50   4             "
      ]
     },
     "metadata": {},
     "output_type": "display_data"
    }
   ],
   "source": [
    "# TRASFORMIAMO le specie vegetali presenti in siteCovs in numeric\n",
    "siteCovs$dominant[siteCovs$dominant != \"Graminacee\" & siteCovs$dominant != \"Muschio\"]  <- 30\n",
    "siteCovs$dominant[siteCovs$dominant == \"Graminacee\"]  <- 20\n",
    "siteCovs$dominant[siteCovs$dominant == \"Muschio\"]  <- 10\n",
    "siteCovs$dominant <- as.numeric(siteCovs$dominant)\n",
    "\n",
    "# Seleziono la coperatura vegetale di interesse\n",
    "if (anno_analisi %in% c(\"2014\",\"2015\",\"2016\",\"2017\")) {\n",
    "    siteCovs$cop_veg_ottavi <- siteCovs$Cop_Veg_2015_ottavi\n",
    "    siteCovs <- subset(siteCovs, select=-c(Cop_Veg_2015_ottavi,Cop_Veg_2018_ottavi))\n",
    "} else {\n",
    "    siteCovs$cop_veg_ottavi <- siteCovs$Cop_Veg_2018_ottavi\n",
    "    siteCovs <- subset(siteCovs, select=-c(Cop_Veg_2015_ottavi,Cop_Veg_2018_ottavi))\n",
    "\n",
    "}\n",
    "    \n",
    "head(siteCovs)"
   ]
  },
  {
   "cell_type": "code",
   "execution_count": 5,
   "metadata": {},
   "outputs": [],
   "source": [
    "# Ricaviamo le colonne oggetto di analisi\n",
    "if (exists(\"sessione_analisi\")) {\n",
    "    colonne_oggetto_analisi <- rownames(subset(Datioccas,Anno == anno_analisi & sessione == sessione_analisi))\n",
    "} else {\n",
    "    colonne_oggetto_analisi <- rownames(subset(Datioccas,Anno == anno_analisi))\n",
    "}\n",
    "colonne_oggetto_analisi <- as.numeric(colonne_oggetto_analisi)"
   ]
  },
  {
   "cell_type": "code",
   "execution_count": 6,
   "metadata": {},
   "outputs": [],
   "source": [
    "catture_effettive_selezionate <- catture_effettive[,colonne_oggetto_analisi]"
   ]
  },
  {
   "cell_type": "code",
   "execution_count": 7,
   "metadata": {},
   "outputs": [
    {
     "data": {
      "text/plain": [
       " Diametro.roccia.1..cm. Diametro.roccia.2..cm. Diametro.roccia.3..cm.\n",
       " Min.   : 30.0          Min.   : 28.00         Min.   :  8.00        \n",
       " 1st Qu.: 65.0          1st Qu.: 44.00         1st Qu.: 40.00        \n",
       " Median : 97.0          Median : 61.00         Median : 57.00        \n",
       " Mean   :113.8          Mean   : 74.61         Mean   : 78.11        \n",
       " 3rd Qu.:135.0          3rd Qu.: 92.00         3rd Qu.: 82.50        \n",
       " Max.   :440.0          Max.   :308.00         Max.   :292.00        \n",
       "                                                                     \n",
       "     alt_m        aspect_deg      slope_degr      n_species        dominant    \n",
       " Min.   :2778   Min.   :  0.0   Min.   : 0.00   Min.   : 0.00   Min.   :10.00  \n",
       " 1st Qu.:2783   1st Qu.: 36.0   1st Qu.: 8.00   1st Qu.:10.00   1st Qu.:20.00  \n",
       " Median :2789   Median :310.0   Median :12.00   Median :14.00   Median :20.00  \n",
       " Mean   :2789   Mean   :225.3   Mean   :13.27   Mean   :15.15   Mean   :20.53  \n",
       " 3rd Qu.:2795   3rd Qu.:330.5   3rd Qu.:20.00   3rd Qu.:21.00   3rd Qu.:30.00  \n",
       " Max.   :2804   Max.   :358.0   Max.   :38.00   Max.   :32.00   Max.   :30.00  \n",
       " NA's   :5                                                                     \n",
       "      MDR              IQR             Esp.tr        cop_veg_ottavi\n",
       " Min.   : 28.00   Min.   :  5.50   Min.   :-126.00   Min.   :0.00  \n",
       " 1st Qu.: 53.00   1st Qu.: 21.25   1st Qu.: -42.50   1st Qu.:1.25  \n",
       " Median : 67.00   Median : 39.00   Median : -17.00   Median :2.00  \n",
       " Mean   : 73.27   Mean   : 51.09   Mean   : -19.49   Mean   :2.56  \n",
       " 3rd Qu.: 88.00   3rd Qu.: 67.75   3rd Qu.:  11.50   3rd Qu.:4.00  \n",
       " Max.   :212.00   Max.   :198.00   Max.   :  62.00   Max.   :7.00  \n",
       "                                                     NA's   :25    "
      ]
     },
     "metadata": {},
     "output_type": "display_data"
    }
   ],
   "source": [
    "summary(siteCovs)"
   ]
  },
  {
   "cell_type": "markdown",
   "metadata": {},
   "source": [
    "#### Concludiamo che tutte le variabili presenti in siteCovs sono adatte ad essere utilizzate nell'analisi\n",
    "#### Provvediamo a scalarle e centrarle"
   ]
  },
  {
   "cell_type": "code",
   "execution_count": 8,
   "metadata": {},
   "outputs": [],
   "source": [
    "siteCovs <- data.frame(scale(siteCovs))"
   ]
  },
  {
   "cell_type": "code",
   "execution_count": 9,
   "metadata": {},
   "outputs": [
    {
     "data": {
      "text/plain": [
       "  1     \n",
       " Al:10  \n",
       " Tr: 9  "
      ]
     },
     "metadata": {},
     "output_type": "display_data"
    },
    {
     "data": {
      "text/plain": [
       "       1          \n",
       " Min.   :0.00000  \n",
       " 1st Qu.:0.00000  \n",
       " Median :0.00000  \n",
       " Mean   :0.05263  \n",
       " 3rd Qu.:0.00000  \n",
       " Max.   :1.00000  "
      ]
     },
     "metadata": {},
     "output_type": "display_data"
    },
    {
     "data": {
      "text/plain": [
       "       1        \n",
       " Min.   : 8.50  \n",
       " 1st Qu.:12.35  \n",
       " Median :13.60  \n",
       " Mean   :13.59  \n",
       " 3rd Qu.:15.15  \n",
       " Max.   :17.40  "
      ]
     },
     "metadata": {},
     "output_type": "display_data"
    }
   ],
   "source": [
    "summary(t(orario_occasione[1,colonne_oggetto_analisi]))\n",
    "summary(t(precipitazioni_occasione[1,colonne_oggetto_analisi]))\n",
    "summary(t(temperatura_occasione[1,colonne_oggetto_analisi]))\n"
   ]
  },
  {
   "cell_type": "markdown",
   "metadata": {},
   "source": [
    "#### La variabile relativa alle precipitazioni, nel 2015, è inadatta alle analisi, verrà automaticamente scartata dal modello\n",
    "#### Le variabili categoriche non possono essere scalate (orario_ooccasione)\n",
    "#### La variabile temperatura_occasione è inadatta ad essere scalata"
   ]
  },
  {
   "cell_type": "code",
   "execution_count": 10,
   "metadata": {},
   "outputs": [],
   "source": [
    "obsCovs <- list(\n",
    "    orario = orario_occasione[,colonne_oggetto_analisi],\n",
    "    precip = precipitazioni_occasione[,colonne_oggetto_analisi],\n",
    "    temper = temperatura_occasione[,colonne_oggetto_analisi]\n",
    ")\n"
   ]
  },
  {
   "cell_type": "code",
   "execution_count": 11,
   "metadata": {},
   "outputs": [
    {
     "name": "stdout",
     "output_type": "stream",
     "text": [
      "unmarkedFrame Object\n",
      "\n",
      "75 sites\n",
      "Maximum number of observations per site: 19 \n",
      "Mean number of observations per site: 19 \n",
      "Sites with at least one detection: 17 \n",
      "\n",
      "Tabulation of y observations:\n",
      "   0    1 \n",
      "1396   29 \n",
      "\n",
      "Site-level covariates:\n",
      " Diametro.roccia.1..cm. Diametro.roccia.2..cm. Diametro.roccia.3..cm.\n",
      " Min.   :-1.1249        Min.   :-1.0122        Min.   :-1.09284      \n",
      " 1st Qu.:-0.6550        1st Qu.:-0.6648        1st Qu.:-0.59401      \n",
      " Median :-0.2254        Median :-0.2956        Median :-0.32902      \n",
      " Mean   : 0.0000        Mean   : 0.0000        Mean   : 0.00000      \n",
      " 3rd Qu.: 0.2848        3rd Qu.: 0.3775        3rd Qu.: 0.06848      \n",
      " Max.   : 4.3795        Max.   : 5.0679        Max.   : 3.33421      \n",
      "                                                                     \n",
      "     alt_m            aspect_deg        slope_degr        n_species      \n",
      " Min.   :-1.53434   Min.   :-1.5857   Min.   :-1.5628   Min.   :-1.9922  \n",
      " 1st Qu.:-0.91819   1st Qu.:-1.3323   1st Qu.:-0.6204   1st Qu.:-0.6769  \n",
      " Median :-0.08237   Median : 0.5961   Median :-0.1492   Median :-0.1508  \n",
      " Mean   : 0.00000   Mean   : 0.0000   Mean   : 0.0000   Mean   : 0.0000  \n",
      " 3rd Qu.: 0.69152   3rd Qu.: 0.7403   3rd Qu.: 0.7932   3rd Qu.: 0.7699  \n",
      " Max.   : 1.93832   Max.   : 0.9339   Max.   : 2.9136   Max.   : 2.2167  \n",
      " NA's   :5                                                               \n",
      "    dominant             MDR               IQR              Esp.tr        \n",
      " Min.   :-1.51468   Min.   :-1.3962   Min.   :-1.1949   Min.   :-2.81438  \n",
      " 1st Qu.:-0.07669   1st Qu.:-0.6251   1st Qu.:-0.7820   1st Qu.:-0.60794  \n",
      " Median :-0.07669   Median :-0.1933   Median :-0.3168   Median : 0.06588  \n",
      " Mean   : 0.00000   Mean   : 0.0000   Mean   : 0.0000   Mean   : 0.00000  \n",
      " 3rd Qu.: 1.36130   3rd Qu.: 0.4544   3rd Qu.: 0.4368   3rd Qu.: 0.81898  \n",
      " Max.   : 1.36130   Max.   : 4.2791   Max.   : 3.8507   Max.   : 2.15342  \n",
      "                                                                          \n",
      " cop_veg_ottavi   \n",
      " Min.   :-1.4333  \n",
      " 1st Qu.:-0.7334  \n",
      " Median :-0.3135  \n",
      " Mean   : 0.0000  \n",
      " 3rd Qu.: 0.8062  \n",
      " Max.   : 2.4858  \n",
      " NA's   :25       \n",
      "\n",
      "Observation-level covariates:\n",
      " orario       precip            temper     \n",
      " Al:750   Min.   :0.00000   Min.   : 8.50  \n",
      " Tr:675   1st Qu.:0.00000   1st Qu.:12.00  \n",
      "          Median :0.00000   Median :13.60  \n",
      "          Mean   :0.05263   Mean   :13.59  \n",
      "          3rd Qu.:0.00000   3rd Qu.:15.20  \n",
      "          Max.   :1.00000   Max.   :17.40  \n"
     ]
    }
   ],
   "source": [
    "arvicole <- unmarkedFrameOccu(y = catture_effettive_selezionate, siteCovs = siteCovs, obsCovs = obsCovs)\n",
    "summary(arvicole)"
   ]
  },
  {
   "cell_type": "code",
   "execution_count": 12,
   "metadata": {},
   "outputs": [
    {
     "name": "stderr",
     "output_type": "stream",
     "text": [
      "Warning message:\n",
      "\"Some observations have been discarded because corresponding covariates were missing.\"\n",
      "Warning message:\n",
      "\"25 sites have been discarded because of missing data.\"\n"
     ]
    },
    {
     "data": {
      "text/plain": [
       "\n",
       "Call:\n",
       "occu(formula = ~orario + temper + MDR ~ slope_degr + I(slope_degr^2) + \n",
       "    MDR + I(MDR^2) + IQR + I(IQR^2) + Esp.tr + I(Esp.tr^2) + \n",
       "    cop_veg_ottavi + n_species + I(n_species^2) + dominant, data = arvicole)\n",
       "\n",
       "Occupancy:\n",
       "                Estimate    SE        z P(>|z|)\n",
       "(Intercept)       -1.997 167.1 -0.01195   0.990\n",
       "slope_degr       -11.234 107.3 -0.10468   0.917\n",
       "I(slope_degr^2)    1.618  84.6  0.01913   0.985\n",
       "MDR               -3.972  51.5 -0.07718   0.938\n",
       "I(MDR^2)         -21.473  65.7 -0.32670   0.744\n",
       "IQR               -5.154  28.4 -0.18152   0.856\n",
       "I(IQR^2)          -5.685 117.3 -0.04846   0.961\n",
       "Esp.tr             2.654  54.8  0.04846   0.961\n",
       "I(Esp.tr^2)       15.944 118.3  0.13483   0.893\n",
       "cop_veg_ottavi   -15.163  57.9 -0.26188   0.793\n",
       "n_species        -11.413  73.6 -0.15501   0.877\n",
       "I(n_species^2)     1.935  33.7  0.05747   0.954\n",
       "dominant           0.221  77.9  0.00283   0.998\n",
       "\n",
       "Detection:\n",
       "            Estimate     SE      z P(>|z|)\n",
       "(Intercept)    0.164 1.0990  0.150  0.8811\n",
       "orarioTr       0.296 0.3989  0.741  0.4586\n",
       "temper        -0.238 0.0823 -2.887  0.0039\n",
       "MDR           -0.648 0.4145 -1.565  0.1177\n",
       "\n",
       "AIC: 237.4982 "
      ]
     },
     "metadata": {},
     "output_type": "display_data"
    }
   ],
   "source": [
    "fm.base <- occu(~orario+temper + MDR\n",
    "            ~slope_degr + I(slope_degr^2) +\n",
    "            MDR + I(MDR^2) +\n",
    "            IQR + I(IQR^2) +\n",
    "            Esp.tr + I(Esp.tr^2)+\n",
    "            cop_veg_ottavi +\n",
    "            n_species + I(n_species^2) +\n",
    "            dominant,\n",
    "            arvicole)\n",
    "fm.base\n"
   ]
  },
  {
   "cell_type": "code",
   "execution_count": 13,
   "metadata": {},
   "outputs": [],
   "source": [
    "#fm.base <- occu(~orario+temper \n",
    "#            ~Diametro.roccia.1..cm.+\n",
    " #           Diametro.roccia.2..cm.+\n",
    "  #          Diametro.roccia.3..cm.+\n",
    "   #         cop_veg_ottavi +\n",
    "    #        slope_degr + I(slope_degr^2) +\n",
    "     #       n_species + I(n_species^2) +\n",
    "      #      dominant,\n",
    "       #     arvicole)\n",
    "#fm.base"
   ]
  },
  {
   "cell_type": "code",
   "execution_count": 14,
   "metadata": {},
   "outputs": [
    {
     "data": {
      "text/html": [
       "'SOCK'"
      ],
      "text/latex": [
       "'SOCK'"
      ],
      "text/markdown": [
       "'SOCK'"
      ],
      "text/plain": [
       "[1] \"SOCK\""
      ]
     },
     "metadata": {},
     "output_type": "display_data"
    },
    {
     "data": {
      "text/html": [
       "<ol>\n",
       "\t<li><style>\n",
       ".list-inline {list-style: none; margin:0; padding: 0}\n",
       ".list-inline>li {display: inline-block}\n",
       ".list-inline>li:not(:last-child)::after {content: \"\\00b7\"; padding: 0 .5ex}\n",
       "</style>\n",
       "<ol class=list-inline><li>'unmarked'</li><li>'lattice'</li><li>'snow'</li><li>'stats'</li><li>'graphics'</li><li>'grDevices'</li><li>'utils'</li><li>'datasets'</li><li>'methods'</li><li>'base'</li></ol>\n",
       "</li>\n",
       "\t<li><style>\n",
       ".list-inline {list-style: none; margin:0; padding: 0}\n",
       ".list-inline>li {display: inline-block}\n",
       ".list-inline>li:not(:last-child)::after {content: \"\\00b7\"; padding: 0 .5ex}\n",
       "</style>\n",
       "<ol class=list-inline><li>'unmarked'</li><li>'lattice'</li><li>'snow'</li><li>'stats'</li><li>'graphics'</li><li>'grDevices'</li><li>'utils'</li><li>'datasets'</li><li>'methods'</li><li>'base'</li></ol>\n",
       "</li>\n",
       "</ol>\n"
      ],
      "text/latex": [
       "\\begin{enumerate}\n",
       "\\item \\begin{enumerate*}\n",
       "\\item 'unmarked'\n",
       "\\item 'lattice'\n",
       "\\item 'snow'\n",
       "\\item 'stats'\n",
       "\\item 'graphics'\n",
       "\\item 'grDevices'\n",
       "\\item 'utils'\n",
       "\\item 'datasets'\n",
       "\\item 'methods'\n",
       "\\item 'base'\n",
       "\\end{enumerate*}\n",
       "\n",
       "\\item \\begin{enumerate*}\n",
       "\\item 'unmarked'\n",
       "\\item 'lattice'\n",
       "\\item 'snow'\n",
       "\\item 'stats'\n",
       "\\item 'graphics'\n",
       "\\item 'grDevices'\n",
       "\\item 'utils'\n",
       "\\item 'datasets'\n",
       "\\item 'methods'\n",
       "\\item 'base'\n",
       "\\end{enumerate*}\n",
       "\n",
       "\\end{enumerate}\n"
      ],
      "text/markdown": [
       "1. 1. 'unmarked'\n",
       "2. 'lattice'\n",
       "3. 'snow'\n",
       "4. 'stats'\n",
       "5. 'graphics'\n",
       "6. 'grDevices'\n",
       "7. 'utils'\n",
       "8. 'datasets'\n",
       "9. 'methods'\n",
       "10. 'base'\n",
       "\n",
       "\n",
       "\n",
       "2. 1. 'unmarked'\n",
       "2. 'lattice'\n",
       "3. 'snow'\n",
       "4. 'stats'\n",
       "5. 'graphics'\n",
       "6. 'grDevices'\n",
       "7. 'utils'\n",
       "8. 'datasets'\n",
       "9. 'methods'\n",
       "10. 'base'\n",
       "\n",
       "\n",
       "\n",
       "\n",
       "\n"
      ],
      "text/plain": [
       "[[1]]\n",
       " [1] \"unmarked\"  \"lattice\"   \"snow\"      \"stats\"     \"graphics\"  \"grDevices\"\n",
       " [7] \"utils\"     \"datasets\"  \"methods\"   \"base\"     \n",
       "\n",
       "[[2]]\n",
       " [1] \"unmarked\"  \"lattice\"   \"snow\"      \"stats\"     \"graphics\"  \"grDevices\"\n",
       " [7] \"utils\"     \"datasets\"  \"methods\"   \"base\"     \n"
      ]
     },
     "metadata": {},
     "output_type": "display_data"
    },
    {
     "data": {
      "text/html": [
       "<ol>\n",
       "\t<li><style>\n",
       ".list-inline {list-style: none; margin:0; padding: 0}\n",
       ".list-inline>li {display: inline-block}\n",
       ".list-inline>li:not(:last-child)::after {content: \"\\00b7\"; padding: 0 .5ex}\n",
       "</style>\n",
       "<ol class=list-inline><li>'MuMIn'</li><li>'unmarked'</li><li>'lattice'</li><li>'snow'</li><li>'stats'</li><li>'graphics'</li><li>'grDevices'</li><li>'utils'</li><li>'datasets'</li><li>'methods'</li><li>'base'</li></ol>\n",
       "</li>\n",
       "\t<li><style>\n",
       ".list-inline {list-style: none; margin:0; padding: 0}\n",
       ".list-inline>li {display: inline-block}\n",
       ".list-inline>li:not(:last-child)::after {content: \"\\00b7\"; padding: 0 .5ex}\n",
       "</style>\n",
       "<ol class=list-inline><li>'MuMIn'</li><li>'unmarked'</li><li>'lattice'</li><li>'snow'</li><li>'stats'</li><li>'graphics'</li><li>'grDevices'</li><li>'utils'</li><li>'datasets'</li><li>'methods'</li><li>'base'</li></ol>\n",
       "</li>\n",
       "</ol>\n"
      ],
      "text/latex": [
       "\\begin{enumerate}\n",
       "\\item \\begin{enumerate*}\n",
       "\\item 'MuMIn'\n",
       "\\item 'unmarked'\n",
       "\\item 'lattice'\n",
       "\\item 'snow'\n",
       "\\item 'stats'\n",
       "\\item 'graphics'\n",
       "\\item 'grDevices'\n",
       "\\item 'utils'\n",
       "\\item 'datasets'\n",
       "\\item 'methods'\n",
       "\\item 'base'\n",
       "\\end{enumerate*}\n",
       "\n",
       "\\item \\begin{enumerate*}\n",
       "\\item 'MuMIn'\n",
       "\\item 'unmarked'\n",
       "\\item 'lattice'\n",
       "\\item 'snow'\n",
       "\\item 'stats'\n",
       "\\item 'graphics'\n",
       "\\item 'grDevices'\n",
       "\\item 'utils'\n",
       "\\item 'datasets'\n",
       "\\item 'methods'\n",
       "\\item 'base'\n",
       "\\end{enumerate*}\n",
       "\n",
       "\\end{enumerate}\n"
      ],
      "text/markdown": [
       "1. 1. 'MuMIn'\n",
       "2. 'unmarked'\n",
       "3. 'lattice'\n",
       "4. 'snow'\n",
       "5. 'stats'\n",
       "6. 'graphics'\n",
       "7. 'grDevices'\n",
       "8. 'utils'\n",
       "9. 'datasets'\n",
       "10. 'methods'\n",
       "11. 'base'\n",
       "\n",
       "\n",
       "\n",
       "2. 1. 'MuMIn'\n",
       "2. 'unmarked'\n",
       "3. 'lattice'\n",
       "4. 'snow'\n",
       "5. 'stats'\n",
       "6. 'graphics'\n",
       "7. 'grDevices'\n",
       "8. 'utils'\n",
       "9. 'datasets'\n",
       "10. 'methods'\n",
       "11. 'base'\n",
       "\n",
       "\n",
       "\n",
       "\n",
       "\n"
      ],
      "text/plain": [
       "[[1]]\n",
       " [1] \"MuMIn\"     \"unmarked\"  \"lattice\"   \"snow\"      \"stats\"     \"graphics\" \n",
       " [7] \"grDevices\" \"utils\"     \"datasets\"  \"methods\"   \"base\"     \n",
       "\n",
       "[[2]]\n",
       " [1] \"MuMIn\"     \"unmarked\"  \"lattice\"   \"snow\"      \"stats\"     \"graphics\" \n",
       " [7] \"grDevices\" \"utils\"     \"datasets\"  \"methods\"   \"base\"     \n"
      ]
     },
     "metadata": {},
     "output_type": "display_data"
    },
    {
     "data": {
      "text/html": [
       "<style>\n",
       ".list-inline {list-style: none; margin:0; padding: 0}\n",
       ".list-inline>li {display: inline-block}\n",
       ".list-inline>li:not(:last-child)::after {content: \"\\00b7\"; padding: 0 .5ex}\n",
       "</style>\n",
       "<ol class=list-inline><li>'p(MDR)'</li><li>'p(orario)'</li><li>'p(temper)'</li><li>'psi(cop_veg_ottavi)'</li><li>'psi(dominant)'</li><li>'psi(Esp.tr)'</li><li>'psi(I(Esp.tr^2))'</li><li>'psi(IQR)'</li><li>'psi(I(IQR^2))'</li><li>'psi(MDR)'</li><li>'psi(I(MDR^2))'</li><li>'psi(n_species)'</li><li>'psi(I(n_species^2))'</li><li>'psi(slope_degr)'</li><li>'psi(I(slope_degr^2))'</li></ol>\n"
      ],
      "text/latex": [
       "\\begin{enumerate*}\n",
       "\\item 'p(MDR)'\n",
       "\\item 'p(orario)'\n",
       "\\item 'p(temper)'\n",
       "\\item 'psi(cop\\_veg\\_ottavi)'\n",
       "\\item 'psi(dominant)'\n",
       "\\item 'psi(Esp.tr)'\n",
       "\\item 'psi(I(Esp.tr\\textasciicircum{}2))'\n",
       "\\item 'psi(IQR)'\n",
       "\\item 'psi(I(IQR\\textasciicircum{}2))'\n",
       "\\item 'psi(MDR)'\n",
       "\\item 'psi(I(MDR\\textasciicircum{}2))'\n",
       "\\item 'psi(n\\_species)'\n",
       "\\item 'psi(I(n\\_species\\textasciicircum{}2))'\n",
       "\\item 'psi(slope\\_degr)'\n",
       "\\item 'psi(I(slope\\_degr\\textasciicircum{}2))'\n",
       "\\end{enumerate*}\n"
      ],
      "text/markdown": [
       "1. 'p(MDR)'\n",
       "2. 'p(orario)'\n",
       "3. 'p(temper)'\n",
       "4. 'psi(cop_veg_ottavi)'\n",
       "5. 'psi(dominant)'\n",
       "6. 'psi(Esp.tr)'\n",
       "7. 'psi(I(Esp.tr^2))'\n",
       "8. 'psi(IQR)'\n",
       "9. 'psi(I(IQR^2))'\n",
       "10. 'psi(MDR)'\n",
       "11. 'psi(I(MDR^2))'\n",
       "12. 'psi(n_species)'\n",
       "13. 'psi(I(n_species^2))'\n",
       "14. 'psi(slope_degr)'\n",
       "15. 'psi(I(slope_degr^2))'\n",
       "\n",
       "\n"
      ],
      "text/plain": [
       " [1] \"p(MDR)\"               \"p(orario)\"            \"p(temper)\"           \n",
       " [4] \"psi(cop_veg_ottavi)\"  \"psi(dominant)\"        \"psi(Esp.tr)\"         \n",
       " [7] \"psi(I(Esp.tr^2))\"     \"psi(IQR)\"             \"psi(I(IQR^2))\"       \n",
       "[10] \"psi(MDR)\"             \"psi(I(MDR^2))\"        \"psi(n_species)\"      \n",
       "[13] \"psi(I(n_species^2))\"  \"psi(slope_degr)\"      \"psi(I(slope_degr^2))\"\n",
       "attr(,\"intercept\")\n",
       "  p psi \n",
       "  1   1 \n",
       "attr(,\"interceptLabel\")\n",
       "[1] \"p(Int)\"   \"psi(Int)\"\n",
       "attr(,\"deps\")\n",
       "                     p(MDR) p(orario) p(temper) psi(cop_veg_ottavi)\n",
       "p(MDR)                   NA     FALSE     FALSE               FALSE\n",
       "p(orario)             FALSE        NA     FALSE               FALSE\n",
       "p(temper)             FALSE     FALSE        NA               FALSE\n",
       "psi(cop_veg_ottavi)   FALSE     FALSE     FALSE                  NA\n",
       "psi(dominant)         FALSE     FALSE     FALSE               FALSE\n",
       "psi(Esp.tr)           FALSE     FALSE     FALSE               FALSE\n",
       "psi(I(Esp.tr^2))      FALSE     FALSE     FALSE               FALSE\n",
       "psi(IQR)              FALSE     FALSE     FALSE               FALSE\n",
       "psi(I(IQR^2))         FALSE     FALSE     FALSE               FALSE\n",
       "psi(MDR)              FALSE     FALSE     FALSE               FALSE\n",
       "psi(I(MDR^2))         FALSE     FALSE     FALSE               FALSE\n",
       "psi(n_species)        FALSE     FALSE     FALSE               FALSE\n",
       "psi(I(n_species^2))   FALSE     FALSE     FALSE               FALSE\n",
       "psi(slope_degr)       FALSE     FALSE     FALSE               FALSE\n",
       "psi(I(slope_degr^2))  FALSE     FALSE     FALSE               FALSE\n",
       "                     psi(dominant) psi(Esp.tr) psi(I(Esp.tr^2)) psi(IQR)\n",
       "p(MDR)                       FALSE       FALSE            FALSE    FALSE\n",
       "p(orario)                    FALSE       FALSE            FALSE    FALSE\n",
       "p(temper)                    FALSE       FALSE            FALSE    FALSE\n",
       "psi(cop_veg_ottavi)          FALSE       FALSE            FALSE    FALSE\n",
       "psi(dominant)                   NA       FALSE            FALSE    FALSE\n",
       "psi(Esp.tr)                  FALSE          NA            FALSE    FALSE\n",
       "psi(I(Esp.tr^2))             FALSE       FALSE               NA    FALSE\n",
       "psi(IQR)                     FALSE       FALSE            FALSE       NA\n",
       "psi(I(IQR^2))                FALSE       FALSE            FALSE    FALSE\n",
       "psi(MDR)                     FALSE       FALSE            FALSE    FALSE\n",
       "psi(I(MDR^2))                FALSE       FALSE            FALSE    FALSE\n",
       "psi(n_species)               FALSE       FALSE            FALSE    FALSE\n",
       "psi(I(n_species^2))          FALSE       FALSE            FALSE    FALSE\n",
       "psi(slope_degr)              FALSE       FALSE            FALSE    FALSE\n",
       "psi(I(slope_degr^2))         FALSE       FALSE            FALSE    FALSE\n",
       "                     psi(I(IQR^2)) psi(MDR) psi(I(MDR^2)) psi(n_species)\n",
       "p(MDR)                       FALSE    FALSE         FALSE          FALSE\n",
       "p(orario)                    FALSE    FALSE         FALSE          FALSE\n",
       "p(temper)                    FALSE    FALSE         FALSE          FALSE\n",
       "psi(cop_veg_ottavi)          FALSE    FALSE         FALSE          FALSE\n",
       "psi(dominant)                FALSE    FALSE         FALSE          FALSE\n",
       "psi(Esp.tr)                  FALSE    FALSE         FALSE          FALSE\n",
       "psi(I(Esp.tr^2))             FALSE    FALSE         FALSE          FALSE\n",
       "psi(IQR)                     FALSE    FALSE         FALSE          FALSE\n",
       "psi(I(IQR^2))                   NA    FALSE         FALSE          FALSE\n",
       "psi(MDR)                     FALSE       NA         FALSE          FALSE\n",
       "psi(I(MDR^2))                FALSE    FALSE            NA          FALSE\n",
       "psi(n_species)               FALSE    FALSE         FALSE             NA\n",
       "psi(I(n_species^2))          FALSE    FALSE         FALSE          FALSE\n",
       "psi(slope_degr)              FALSE    FALSE         FALSE          FALSE\n",
       "psi(I(slope_degr^2))         FALSE    FALSE         FALSE          FALSE\n",
       "                     psi(I(n_species^2)) psi(slope_degr) psi(I(slope_degr^2))\n",
       "p(MDR)                             FALSE           FALSE                FALSE\n",
       "p(orario)                          FALSE           FALSE                FALSE\n",
       "p(temper)                          FALSE           FALSE                FALSE\n",
       "psi(cop_veg_ottavi)                FALSE           FALSE                FALSE\n",
       "psi(dominant)                      FALSE           FALSE                FALSE\n",
       "psi(Esp.tr)                        FALSE           FALSE                FALSE\n",
       "psi(I(Esp.tr^2))                   FALSE           FALSE                FALSE\n",
       "psi(IQR)                           FALSE           FALSE                FALSE\n",
       "psi(I(IQR^2))                      FALSE           FALSE                FALSE\n",
       "psi(MDR)                           FALSE           FALSE                FALSE\n",
       "psi(I(MDR^2))                      FALSE           FALSE                FALSE\n",
       "psi(n_species)                     FALSE           FALSE                FALSE\n",
       "psi(I(n_species^2))                   NA           FALSE                FALSE\n",
       "psi(slope_degr)                    FALSE              NA                FALSE\n",
       "psi(I(slope_degr^2))               FALSE           FALSE                   NA"
      ]
     },
     "metadata": {},
     "output_type": "display_data"
    }
   ],
   "source": [
    "######### INFORMATICA\n",
    "clusterType <- if(length(find.package(\"snow\", quiet = TRUE))) \"SOCK\" else \"PSOCK\"\n",
    "clusterType\n",
    "clust <- try(makeCluster(getOption(\"cl.cores\", 2), type = clusterType))\n",
    "clusterEvalQ(clust, library(unmarked))\n",
    "clusterEvalQ(clust,library(MuMIn))\n",
    "clusterExport(clust, \"arvicole\")\n",
    "invisible(clusterCall(clust, \"library\", \"stats4\", character.only = TRUE))\n",
    "library(MuMIn)\n",
    "getAllTerms(fm.base)"
   ]
  },
  {
   "cell_type": "code",
   "execution_count": 15,
   "metadata": {},
   "outputs": [],
   "source": [
    "#pdd2 <- pdredge(fm.base, clust,\n",
    "#                subset = (`psi(slope_degr)` | !`psi(I(slope_degr^2))`) &&\n",
    "#                 (`psi(n_species)` | !`psi(I(n_species^2))`) &&\n",
    "#                 `psi(dominant)`,               \n",
    "#                trace = 2, m.lim = c(1,NA))"
   ]
  },
  {
   "cell_type": "code",
   "execution_count": 16,
   "metadata": {},
   "outputs": [],
   "source": [
    "#save(pdd2, file=\"Dati-elaborati/pdd2.RData\", compress=FALSE)\n",
    "#load(\"Dati-elaborati/pdd2.RData\")"
   ]
  },
  {
   "cell_type": "code",
   "execution_count": 17,
   "metadata": {},
   "outputs": [
    {
     "name": "stderr",
     "output_type": "stream",
     "text": [
      "Fixed terms are \"p(Int)\" and \"psi(Int)\"\n",
      "\n"
     ]
    },
    {
     "name": "stdout",
     "output_type": "stream",
     "text": [
      "  |======================================================================| 100%\n"
     ]
    }
   ],
   "source": [
    "pdd3 <- pdredge(fm.base, clust,\n",
    "                subset = (`psi(slope_degr)` | !`psi(I(slope_degr^2))`) &&\n",
    "                (`psi(n_species)` | ! `psi(I(n_species^2))`) &&\n",
    "                (`psi(MDR)` | ! `psi(I(MDR^2))`)&&\n",
    "                (`psi(IQR)` | ! `psi(I(IQR^2))`)&&\n",
    "                (`psi(Esp.tr)` | ! `psi(I(Esp.tr^2))`)&&\n",
    "                 `psi(cop_veg_ottavi)` &&\n",
    "                # `p(MDR)` &&\n",
    "                 `p(temper)` &&\n",
    "                 `p(orario)` &&\n",
    "                 `psi(dominant)`,\n",
    "                trace = 2, m.lim = c(1,NA))\n",
    "save(pdd3, file=\"Dati-elaborati/pdd3.RData\", compress=FALSE)\n",
    "load(\"Dati-elaborati/pdd3.RData\")"
   ]
  },
  {
   "cell_type": "code",
   "execution_count": 18,
   "metadata": {},
   "outputs": [
    {
     "data": {
      "image/png": "[encoded data removed]",
      "text/plain": [
       "plot without title"
      ]
     },
     "metadata": {
      "image/png": {
       "height": 420,
       "width": 420
      }
     },
     "output_type": "display_data"
    }
   ],
   "source": [
    "par(mfrow = c(1,1))\n",
    "op <- par(mar = c(3,5,6,4), mfrow=c(1,1))\n",
    "plot(pdd3, labAsExpr = TRUE)\n",
    "par(op)\n"
   ]
  },
  {
   "cell_type": "code",
   "execution_count": 19,
   "metadata": {},
   "outputs": [
    {
     "name": "stderr",
     "output_type": "stream",
     "text": [
      "Warning message:\n",
      "\"Some observations have been discarded because corresponding covariates were missing.\"\n",
      "Warning message:\n",
      "\"25 sites have been discarded because of missing data.\"\n"
     ]
    },
    {
     "name": "stdout",
     "output_type": "stream",
     "text": [
      "\n",
      "Call:\n",
      "occu(formula = ~orario + temper + 1 ~ cop_veg_ottavi + dominant + \n",
      "    IQR + MDR + I(MDR^2) + 1, data = arvicole)\n",
      "\n",
      "Occupancy (logit-scale):\n",
      "               Estimate  SE      z P(>|z|)\n",
      "(Intercept)        41.5 155  0.267   0.790\n",
      "cop_veg_ottavi   -116.9 432 -0.271   0.787\n",
      "dominant           23.2 217  0.107   0.915\n",
      "IQR               -40.9 112 -0.365   0.715\n",
      "MDR               -75.4 250 -0.301   0.763\n",
      "I(MDR^2)         -135.2 426 -0.317   0.751\n",
      "\n",
      "Detection (logit-scale):\n",
      "            Estimate     SE      z P(>|z|)\n",
      "(Intercept)    0.166 1.0900  0.152 0.87888\n",
      "orarioTr       0.292 0.3970  0.736 0.46185\n",
      "temper        -0.235 0.0817 -2.875 0.00404\n",
      "\n",
      "AIC: 226.5897 \n",
      "Number of sites: 50\n",
      "ID of sites removed due to NA: 51 52 53 54 55 56 57 58 59 60 61 62 63 64 65 66 67 68 69 70 71 72 73 74 75\n",
      "optim convergence code: 0\n",
      "optim iterations: 81 \n",
      "Bootstrap iterations: 0 \n",
      "\n"
     ]
    }
   ],
   "source": [
    "# riportare la tabella dei coefficienti\n",
    "summary(get.models(pdd3, 1)[[1]])"
   ]
  },
  {
   "cell_type": "code",
   "execution_count": 20,
   "metadata": {},
   "outputs": [
    {
     "data": {
      "text/plain": [
       "\n",
       "Call:\n",
       "model.avg(object = pdd3, subset = delta < 2)\n",
       "\n",
       "Component model call: \n",
       "occu(formula = ~<3 unique rhs>, data = arvicole)\n",
       "\n",
       "Component models: \n",
       "                 df  logLik   AICc delta weight\n",
       "1/2/3/4/5/7/8     9 -104.29 231.09  0.00   0.47\n",
       "1/2/3/4/5/6/9/10 10 -103.07 231.78  0.69   0.33\n",
       "1/2/3/4/5/7       8 -106.62 232.75  1.66   0.20\n",
       "\n",
       "Term codes: \n",
       "          p(orario)           p(temper) psi(cop_veg_ottavi)       psi(dominant) \n",
       "                  1                   2                   3                   4 \n",
       "           psi(IQR)       psi(I(IQR^2))            psi(MDR)       psi(I(MDR^2)) \n",
       "                  5                   6                   7                   8 \n",
       "     psi(n_species)     psi(slope_degr) \n",
       "                  9                  10 \n",
       "\n",
       "Model-averaged coefficients:  \n",
       "(full average) \n",
       "                      Estimate Std. Error z value Pr(>|z|)   \n",
       "psi(Int)             3.454e+01  7.932e+02   0.044  0.96527   \n",
       "psi(cop_veg_ottavi) -1.488e+02  1.010e+04   0.015  0.98824   \n",
       "psi(dominant)        4.110e+01  3.714e+03   0.011  0.99117   \n",
       "psi(IQR)            -3.371e+01  3.036e+03   0.011  0.99114   \n",
       "psi(MDR)            -6.482e+01  4.456e+03   0.015  0.98839   \n",
       "psi(I(MDR^2))       -6.307e+01  2.988e+02   0.211  0.83282   \n",
       "p(Int)               1.632e-01  1.091e+00   0.150  0.88116   \n",
       "p(orarioTr)          2.922e-01  3.970e-01   0.736  0.46177   \n",
       "p(temper)           -2.348e-01  8.169e-02   2.874  0.00405 **\n",
       "psi(I(IQR^2))       -2.266e+01  7.350e+01   0.308  0.75786   \n",
       "psi(n_species)      -2.229e+01  1.226e+02   0.182  0.85572   \n",
       "psi(slope_degr)     -2.423e+01  1.156e+02   0.210  0.83394   \n",
       " \n",
       "(conditional average) \n",
       "                      Estimate Std. Error z value Pr(>|z|)   \n",
       "psi(Int)             3.454e+01  7.932e+02   0.044  0.96527   \n",
       "psi(cop_veg_ottavi) -1.488e+02  1.010e+04   0.015  0.98824   \n",
       "psi(dominant)        4.110e+01  3.714e+03   0.011  0.99117   \n",
       "psi(IQR)            -3.371e+01  3.036e+03   0.011  0.99114   \n",
       "psi(MDR)            -9.669e+01  5.442e+03   0.018  0.98582   \n",
       "psi(I(MDR^2))       -1.352e+02  4.262e+02   0.317  0.75107   \n",
       "p(Int)               1.632e-01  1.091e+00   0.150  0.88116   \n",
       "p(orarioTr)          2.922e-01  3.970e-01   0.736  0.46177   \n",
       "p(temper)           -2.348e-01  8.169e-02   2.874  0.00405 **\n",
       "psi(I(IQR^2))       -6.875e+01  1.150e+02   0.598  0.54994   \n",
       "psi(n_species)      -6.761e+01  2.062e+02   0.328  0.74297   \n",
       "psi(slope_degr)     -7.352e+01  1.921e+02   0.383  0.70198   \n",
       "---\n",
       "Signif. codes:  0 '***' 0.001 '**' 0.01 '*' 0.05 '.' 0.1 ' ' 1\n"
      ]
     },
     "metadata": {},
     "output_type": "display_data"
    }
   ],
   "source": [
    "## PASSAGGIO DI MODEL AVERAGING: CONSIDERIAMO CONTEMPORANEAMENTE I MODELLI MIGLIORI CHE DIFFERISCONO TRA LORO\n",
    "## DI POCO IN TERMINI DI AIC (deltaAIC < 2)\n",
    "summary(model.avg(pdd3, subset = delta < 2))"
   ]
  },
  {
   "cell_type": "code",
   "execution_count": 21,
   "metadata": {},
   "outputs": [
    {
     "name": "stderr",
     "output_type": "stream",
     "text": [
      "Warning message:\n",
      "\"Some observations have been discarded because corresponding covariates were missing.\"\n",
      "Warning message:\n",
      "\"25 sites have been discarded because of missing data.\"\n"
     ]
    },
    {
     "data": {
      "text/plain": [
       "\n",
       "Call:\n",
       "occu(formula = ~orario + temper + 1 ~ cop_veg_ottavi + dominant + \n",
       "    IQR + MDR + I(MDR^2) + 1, data = arvicole)\n",
       "\n",
       "Occupancy:\n",
       "               Estimate  SE      z P(>|z|)\n",
       "(Intercept)        41.5 155  0.267   0.790\n",
       "cop_veg_ottavi   -116.9 432 -0.271   0.787\n",
       "dominant           23.2 217  0.107   0.915\n",
       "IQR               -40.9 112 -0.365   0.715\n",
       "MDR               -75.4 250 -0.301   0.763\n",
       "I(MDR^2)         -135.2 426 -0.317   0.751\n",
       "\n",
       "Detection:\n",
       "            Estimate     SE      z P(>|z|)\n",
       "(Intercept)    0.166 1.0900  0.152 0.87888\n",
       "orarioTr       0.292 0.3970  0.736 0.46185\n",
       "temper        -0.235 0.0817 -2.875 0.00404\n",
       "\n",
       "AIC: 226.5897 "
      ]
     },
     "metadata": {},
     "output_type": "display_data"
    }
   ],
   "source": [
    "best.mod1 <- (get.models(pdd3, 1)[[1]])\n",
    "best.mod1"
   ]
  },
  {
   "cell_type": "code",
   "execution_count": 22,
   "metadata": {},
   "outputs": [
    {
     "name": "stderr",
     "output_type": "stream",
     "text": [
      "Warning message in (new(\"standardGeneric\", .Data = function (object) :\n",
      "\"Model did not converge. Try providing starting values or increasing maxit control argment.\"\n"
     ]
    },
    {
     "data": {
      "text/plain": [
       "\n",
       "Call:\n",
       "occu(formula = ~MDR + temper ~ MDR + Esp.tr + dominant, data = arvicole)\n",
       "\n",
       "Occupancy:\n",
       "            Estimate     SE      z P(>|z|)\n",
       "(Intercept)    61.64  77.37  0.797   0.426\n",
       "MDR           131.05 171.01  0.766   0.443\n",
       "Esp.tr        -37.78  51.25 -0.737   0.461\n",
       "dominant        1.54   2.68  0.574   0.566\n",
       "\n",
       "Detection:\n",
       "            Estimate    SE      z  P(>|z|)\n",
       "(Intercept)   -0.289 1.010 -0.286 0.774529\n",
       "MDR           -1.691 0.441 -3.838 0.000124\n",
       "temper        -0.241 0.080 -3.019 0.002532\n",
       "\n",
       "AIC: 245.5285 "
      ]
     },
     "metadata": {},
     "output_type": "display_data"
    }
   ],
   "source": [
    "best.mod <- occu(~ MDR + temper\n",
    "                 ~ MDR +\n",
    "                   Esp.tr +\n",
    "                   dominant,\n",
    "                 arvicole)\n",
    "best.mod"
   ]
  }
 ],
 "metadata": {
  "kernelspec": {
   "display_name": "R",
   "language": "R",
   "name": "ir"
  },
  "language_info": {
   "codemirror_mode": "r",
   "file_extension": ".r",
   "mimetype": "text/x-r-source",
   "name": "R",
   "pygments_lexer": "r",
   "version": "3.6.3"
  }
 },
 "nbformat": 4,
 "nbformat_minor": 4
}
