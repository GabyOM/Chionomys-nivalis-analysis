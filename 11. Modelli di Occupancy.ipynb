{
 "cells": [
  {
   "cell_type": "markdown",
   "metadata": {},
   "source": [
    "## Applicazione analisi Detection Histories"
   ]
  },
  {
   "cell_type": "code",
   "execution_count": null,
   "metadata": {},
   "outputs": [],
   "source": []
  },
  {
   "cell_type": "code",
   "execution_count": 1,
   "metadata": {},
   "outputs": [],
   "source": [
    "#### Inserire l'anno su cui si vuole effettuare l'analisi es. ==\"2014\", \"2015\", ecc\n",
    "anno_analisi <- \"2018\"\n",
    "#sessione_analisi <- \"1\""
   ]
  },
  {
   "cell_type": "code",
   "execution_count": 2,
   "metadata": {},
   "outputs": [
    {
     "name": "stderr",
     "output_type": "stream",
     "text": [
      "\n",
      "Attaching package: 'dplyr'\n",
      "\n",
      "\n",
      "The following objects are masked from 'package:stats':\n",
      "\n",
      "    filter, lag\n",
      "\n",
      "\n",
      "The following objects are masked from 'package:base':\n",
      "\n",
      "    intersect, setdiff, setequal, union\n",
      "\n",
      "\n",
      "Loading required package: lattice\n",
      "\n",
      "Loading required package: stats4\n",
      "\n",
      "\n",
      "Attaching package: 'stats4'\n",
      "\n",
      "\n",
      "The following object is masked from 'package:unmarked':\n",
      "\n",
      "    mle\n",
      "\n",
      "\n",
      "Loading required package: parallel\n",
      "\n"
     ]
    }
   ],
   "source": [
    "library(dplyr)\n",
    "library(readr)\n",
    "library(unmarked)\n",
    "require(stats4)\n",
    "require(parallel)"
   ]
  },
  {
   "cell_type": "code",
   "execution_count": 3,
   "metadata": {},
   "outputs": [],
   "source": [
    "# Matrice di detection history (catture effettive) -- y\n",
    "catture_effettive <- read.csv(\"Dati-preparazione-modello\\\\catture_effettive_totale.csv\", dec=\",\", sep=\";\", header = TRUE)\n",
    "\n",
    "# Leggiamo le matrici dell'Orario (Alba Tramonto), Precipitazioni e Temperatura -- ObsCovs\n",
    "orario_occasione <- read.csv(\"Dati-preparazione-modello\\\\orario_occasione_totale.csv\", dec=\",\", sep=\";\", header = TRUE, stringsAsFactors = FALSE)\n",
    "precipitazioni_occasione <- read.csv(\"Dati-preparazione-modello\\\\precipitazioni_occasione_totale.csv\", dec=\",\", sep=\";\", header = TRUE, stringsAsFactors = FALSE)\n",
    "temperatura_occasione <- read.csv(\"Dati-preparazione-modello\\\\temperatura_occasione_totale.csv\", dec=\",\", sep=\";\", header = TRUE, stringsAsFactors = FALSE)\n",
    "\n",
    "# Prendiamo Datioccas per legare l'anno alle varie osservazioni\n",
    "Datioccas <- read.csv(\"Dati-elaborati/Dati-occasioni.csv\", dec=\",\", sep=\";\", header = TRUE)\n",
    "\n",
    "# Leggiamo il file relativo alle invarianti ambientali (covariate) -- siteCovs\n",
    "siteCovs <- read.csv(\"Dati-preparazione-modello/Dati-cov-mdr-iqr.csv\", dec=\",\", sep=\";\", header = TRUE, stringsAsFactors = FALSE)"
   ]
  },
  {
   "cell_type": "code",
   "execution_count": 4,
   "metadata": {},
   "outputs": [
    {
     "data": {
      "text/html": [
       "<table>\n",
       "<caption>A data.frame: 6 × 12</caption>\n",
       "<thead>\n",
       "\t<tr><th></th><th scope=col>Diametro.roccia.1..cm.</th><th scope=col>Diametro.roccia.2..cm.</th><th scope=col>Diametro.roccia.3..cm.</th><th scope=col>alt_m</th><th scope=col>aspect_deg</th><th scope=col>slope_degr</th><th scope=col>n_species</th><th scope=col>dominant</th><th scope=col>MDR</th><th scope=col>IQR</th><th scope=col>Esp.tr</th><th scope=col>cop_veg_ottavi</th></tr>\n",
       "\t<tr><th></th><th scope=col>&lt;int&gt;</th><th scope=col>&lt;int&gt;</th><th scope=col>&lt;int&gt;</th><th scope=col>&lt;dbl&gt;</th><th scope=col>&lt;int&gt;</th><th scope=col>&lt;int&gt;</th><th scope=col>&lt;int&gt;</th><th scope=col>&lt;dbl&gt;</th><th scope=col>&lt;int&gt;</th><th scope=col>&lt;dbl&gt;</th><th scope=col>&lt;int&gt;</th><th scope=col>&lt;int&gt;</th></tr>\n",
       "</thead>\n",
       "<tbody>\n",
       "\t<tr><th scope=row>1</th><td> 59</td><td>96</td><td>102</td><td>2782.206</td><td>234</td><td>13</td><td>23</td><td>20</td><td>96</td><td>21.5</td><td>-126</td><td>5</td></tr>\n",
       "\t<tr><th scope=row>2</th><td>176</td><td>42</td><td> 76</td><td>2781.136</td><td>294</td><td>16</td><td>16</td><td>20</td><td>76</td><td>67.0</td><td> -66</td><td>2</td></tr>\n",
       "\t<tr><th scope=row>3</th><td> 51</td><td>88</td><td> 62</td><td>2781.067</td><td>310</td><td> 0</td><td>13</td><td>20</td><td>62</td><td>18.5</td><td> -50</td><td>2</td></tr>\n",
       "\t<tr><th scope=row>4</th><td> 99</td><td>30</td><td> 36</td><td>2781.087</td><td>293</td><td> 8</td><td>23</td><td>20</td><td>36</td><td>34.5</td><td> -67</td><td>5</td></tr>\n",
       "\t<tr><th scope=row>5</th><td>164</td><td>41</td><td> 47</td><td>2781.887</td><td>294</td><td>11</td><td>21</td><td>20</td><td>47</td><td>61.5</td><td> -66</td><td>2</td></tr>\n",
       "\t<tr><th scope=row>6</th><td>130</td><td>31</td><td> 36</td><td>2782.237</td><td>310</td><td> 7</td><td>20</td><td>20</td><td>36</td><td>49.5</td><td> -50</td><td>4</td></tr>\n",
       "</tbody>\n",
       "</table>\n"
      ],
      "text/latex": [
       "A data.frame: 6 × 12\n",
       "\\begin{tabular}{r|llllllllllll}\n",
       "  & Diametro.roccia.1..cm. & Diametro.roccia.2..cm. & Diametro.roccia.3..cm. & alt\\_m & aspect\\_deg & slope\\_degr & n\\_species & dominant & MDR & IQR & Esp.tr & cop\\_veg\\_ottavi\\\\\n",
       "  & <int> & <int> & <int> & <dbl> & <int> & <int> & <int> & <dbl> & <int> & <dbl> & <int> & <int>\\\\\n",
       "\\hline\n",
       "\t1 &  59 & 96 & 102 & 2782.206 & 234 & 13 & 23 & 20 & 96 & 21.5 & -126 & 5\\\\\n",
       "\t2 & 176 & 42 &  76 & 2781.136 & 294 & 16 & 16 & 20 & 76 & 67.0 &  -66 & 2\\\\\n",
       "\t3 &  51 & 88 &  62 & 2781.067 & 310 &  0 & 13 & 20 & 62 & 18.5 &  -50 & 2\\\\\n",
       "\t4 &  99 & 30 &  36 & 2781.087 & 293 &  8 & 23 & 20 & 36 & 34.5 &  -67 & 5\\\\\n",
       "\t5 & 164 & 41 &  47 & 2781.887 & 294 & 11 & 21 & 20 & 47 & 61.5 &  -66 & 2\\\\\n",
       "\t6 & 130 & 31 &  36 & 2782.237 & 310 &  7 & 20 & 20 & 36 & 49.5 &  -50 & 4\\\\\n",
       "\\end{tabular}\n"
      ],
      "text/markdown": [
       "\n",
       "A data.frame: 6 × 12\n",
       "\n",
       "| <!--/--> | Diametro.roccia.1..cm. &lt;int&gt; | Diametro.roccia.2..cm. &lt;int&gt; | Diametro.roccia.3..cm. &lt;int&gt; | alt_m &lt;dbl&gt; | aspect_deg &lt;int&gt; | slope_degr &lt;int&gt; | n_species &lt;int&gt; | dominant &lt;dbl&gt; | MDR &lt;int&gt; | IQR &lt;dbl&gt; | Esp.tr &lt;int&gt; | cop_veg_ottavi &lt;int&gt; |\n",
       "|---|---|---|---|---|---|---|---|---|---|---|---|---|\n",
       "| 1 |  59 | 96 | 102 | 2782.206 | 234 | 13 | 23 | 20 | 96 | 21.5 | -126 | 5 |\n",
       "| 2 | 176 | 42 |  76 | 2781.136 | 294 | 16 | 16 | 20 | 76 | 67.0 |  -66 | 2 |\n",
       "| 3 |  51 | 88 |  62 | 2781.067 | 310 |  0 | 13 | 20 | 62 | 18.5 |  -50 | 2 |\n",
       "| 4 |  99 | 30 |  36 | 2781.087 | 293 |  8 | 23 | 20 | 36 | 34.5 |  -67 | 5 |\n",
       "| 5 | 164 | 41 |  47 | 2781.887 | 294 | 11 | 21 | 20 | 47 | 61.5 |  -66 | 2 |\n",
       "| 6 | 130 | 31 |  36 | 2782.237 | 310 |  7 | 20 | 20 | 36 | 49.5 |  -50 | 4 |\n",
       "\n"
      ],
      "text/plain": [
       "  Diametro.roccia.1..cm. Diametro.roccia.2..cm. Diametro.roccia.3..cm. alt_m   \n",
       "1  59                    96                     102                    2782.206\n",
       "2 176                    42                      76                    2781.136\n",
       "3  51                    88                      62                    2781.067\n",
       "4  99                    30                      36                    2781.087\n",
       "5 164                    41                      47                    2781.887\n",
       "6 130                    31                      36                    2782.237\n",
       "  aspect_deg slope_degr n_species dominant MDR IQR  Esp.tr cop_veg_ottavi\n",
       "1 234        13         23        20       96  21.5 -126   5             \n",
       "2 294        16         16        20       76  67.0  -66   2             \n",
       "3 310         0         13        20       62  18.5  -50   2             \n",
       "4 293         8         23        20       36  34.5  -67   5             \n",
       "5 294        11         21        20       47  61.5  -66   2             \n",
       "6 310         7         20        20       36  49.5  -50   4             "
      ]
     },
     "metadata": {},
     "output_type": "display_data"
    }
   ],
   "source": [
    "# TRASFORMIAMO le specie vegetali presenti in siteCovs in numeric\n",
    "siteCovs$dominant[siteCovs$dominant != \"Graminacee\" & siteCovs$dominant != \"Muschio\"]  <- 30\n",
    "siteCovs$dominant[siteCovs$dominant == \"Graminacee\"]  <- 20\n",
    "siteCovs$dominant[siteCovs$dominant == \"Muschio\"]  <- 10\n",
    "siteCovs$dominant <- as.numeric(siteCovs$dominant)\n",
    "\n",
    "# Seleziono la coperatura vegetale di interesse\n",
    "if (anno_analisi %in% c(\"2014\",\"2015\",\"2016\",\"2017\")) {\n",
    "    siteCovs$cop_veg_ottavi <- siteCovs$Cop_Veg_2015_ottavi\n",
    "    siteCovs <- subset(siteCovs, select=-c(Cop_Veg_2015_ottavi,Cop_Veg_2018_ottavi))\n",
    "} else {\n",
    "    siteCovs$cop_veg_ottavi <- siteCovs$Cop_Veg_2018_ottavi\n",
    "    siteCovs <- subset(siteCovs, select=-c(Cop_Veg_2015_ottavi,Cop_Veg_2018_ottavi))\n",
    "\n",
    "}\n",
    "    \n",
    "head(siteCovs)"
   ]
  },
  {
   "cell_type": "code",
   "execution_count": 5,
   "metadata": {},
   "outputs": [],
   "source": [
    "# Ricaviamo le colonne oggetto di analisi\n",
    "if (exists(\"sessione_analisi\")) {\n",
    "    colonne_oggetto_analisi <- rownames(subset(Datioccas,Anno == anno_analisi & sessione == sessione_analisi))\n",
    "} else {\n",
    "    colonne_oggetto_analisi <- rownames(subset(Datioccas,Anno == anno_analisi))\n",
    "}\n",
    "colonne_oggetto_analisi <- as.numeric(colonne_oggetto_analisi)"
   ]
  },
  {
   "cell_type": "code",
   "execution_count": 6,
   "metadata": {},
   "outputs": [],
   "source": [
    "catture_effettive_selezionate <- catture_effettive[,colonne_oggetto_analisi]"
   ]
  },
  {
   "cell_type": "code",
   "execution_count": 7,
   "metadata": {},
   "outputs": [
    {
     "data": {
      "text/plain": [
       " Diametro.roccia.1..cm. Diametro.roccia.2..cm. Diametro.roccia.3..cm.\n",
       " Min.   : 30.0          Min.   : 28.00         Min.   :  8.00        \n",
       " 1st Qu.: 65.0          1st Qu.: 44.00         1st Qu.: 40.00        \n",
       " Median : 97.0          Median : 61.00         Median : 57.00        \n",
       " Mean   :113.8          Mean   : 74.61         Mean   : 78.11        \n",
       " 3rd Qu.:135.0          3rd Qu.: 92.00         3rd Qu.: 82.50        \n",
       " Max.   :440.0          Max.   :308.00         Max.   :292.00        \n",
       "                                                                     \n",
       "     alt_m        aspect_deg      slope_degr      n_species        dominant    \n",
       " Min.   :2778   Min.   :  0.0   Min.   : 0.00   Min.   : 0.00   Min.   :10.00  \n",
       " 1st Qu.:2783   1st Qu.: 36.0   1st Qu.: 8.00   1st Qu.:10.00   1st Qu.:20.00  \n",
       " Median :2789   Median :310.0   Median :12.00   Median :14.00   Median :20.00  \n",
       " Mean   :2789   Mean   :225.3   Mean   :13.27   Mean   :15.15   Mean   :20.53  \n",
       " 3rd Qu.:2795   3rd Qu.:330.5   3rd Qu.:20.00   3rd Qu.:21.00   3rd Qu.:30.00  \n",
       " Max.   :2804   Max.   :358.0   Max.   :38.00   Max.   :32.00   Max.   :30.00  \n",
       " NA's   :5                                                                     \n",
       "      MDR              IQR             Esp.tr        cop_veg_ottavi\n",
       " Min.   : 28.00   Min.   :  5.50   Min.   :-126.00   Min.   :0.00  \n",
       " 1st Qu.: 53.00   1st Qu.: 21.25   1st Qu.: -42.50   1st Qu.:1.25  \n",
       " Median : 67.00   Median : 39.00   Median : -17.00   Median :2.00  \n",
       " Mean   : 73.27   Mean   : 51.09   Mean   : -19.49   Mean   :2.56  \n",
       " 3rd Qu.: 88.00   3rd Qu.: 67.75   3rd Qu.:  11.50   3rd Qu.:4.00  \n",
       " Max.   :212.00   Max.   :198.00   Max.   :  62.00   Max.   :7.00  \n",
       "                                                     NA's   :25    "
      ]
     },
     "metadata": {},
     "output_type": "display_data"
    }
   ],
   "source": [
    "summary(siteCovs)"
   ]
  },
  {
   "cell_type": "markdown",
   "metadata": {},
   "source": [
    "#### Concludiamo che tutte le variabili presenti in siteCovs sono adatte ad essere utilizzate nell'analisi\n",
    "#### Provvediamo a scalarle e centrarle"
   ]
  },
  {
   "cell_type": "code",
   "execution_count": 8,
   "metadata": {},
   "outputs": [],
   "source": [
    "siteCovs <- data.frame(scale(siteCovs))"
   ]
  },
  {
   "cell_type": "code",
   "execution_count": 9,
   "metadata": {},
   "outputs": [
    {
     "data": {
      "text/plain": [
       "  1     \n",
       " Al:18  \n",
       " Tr:17  "
      ]
     },
     "metadata": {},
     "output_type": "display_data"
    },
    {
     "data": {
      "text/plain": [
       "       1          \n",
       " Min.   :0.00000  \n",
       " 1st Qu.:0.00000  \n",
       " Median :0.00000  \n",
       " Mean   :0.03429  \n",
       " 3rd Qu.:0.00000  \n",
       " Max.   :1.00000  "
      ]
     },
     "metadata": {},
     "output_type": "display_data"
    },
    {
     "data": {
      "text/plain": [
       "       1        \n",
       " Min.   : 4.20  \n",
       " 1st Qu.: 9.65  \n",
       " Median :12.60  \n",
       " Mean   :11.82  \n",
       " 3rd Qu.:14.20  \n",
       " Max.   :17.40  "
      ]
     },
     "metadata": {},
     "output_type": "display_data"
    }
   ],
   "source": [
    "summary(t(orario_occasione[1,colonne_oggetto_analisi]))\n",
    "summary(t(precipitazioni_occasione[1,colonne_oggetto_analisi]))\n",
    "summary(t(temperatura_occasione[1,colonne_oggetto_analisi]))\n"
   ]
  },
  {
   "cell_type": "markdown",
   "metadata": {},
   "source": [
    "#### La variabile relativa alle precipitazioni, nel 2015, è inadatta alle analisi, verrà automaticamente scartata dal modello\n",
    "#### Le variabili categoriche non possono essere scalate (orario_ooccasione)\n",
    "#### La variabile temperatura_occasione è inadatta ad essere scalata"
   ]
  },
  {
   "cell_type": "code",
   "execution_count": 10,
   "metadata": {},
   "outputs": [],
   "source": [
    "obsCovs <- list(\n",
    "    orario = orario_occasione[,colonne_oggetto_analisi],\n",
    "    precip = precipitazioni_occasione[,colonne_oggetto_analisi],\n",
    "    temper = temperatura_occasione[,colonne_oggetto_analisi]\n",
    ")\n"
   ]
  },
  {
   "cell_type": "code",
   "execution_count": 11,
   "metadata": {},
   "outputs": [
    {
     "name": "stdout",
     "output_type": "stream",
     "text": [
      "unmarkedFrame Object\n",
      "\n",
      "75 sites\n",
      "Maximum number of observations per site: 35 \n",
      "Mean number of observations per site: 35 \n",
      "Sites with at least one detection: 27 \n",
      "\n",
      "Tabulation of y observations:\n",
      "   0    1 \n",
      "2566   59 \n",
      "\n",
      "Site-level covariates:\n",
      " Diametro.roccia.1..cm. Diametro.roccia.2..cm. Diametro.roccia.3..cm.\n",
      " Min.   :-1.1249        Min.   :-1.0122        Min.   :-1.09284      \n",
      " 1st Qu.:-0.6550        1st Qu.:-0.6648        1st Qu.:-0.59401      \n",
      " Median :-0.2254        Median :-0.2956        Median :-0.32902      \n",
      " Mean   : 0.0000        Mean   : 0.0000        Mean   : 0.00000      \n",
      " 3rd Qu.: 0.2848        3rd Qu.: 0.3775        3rd Qu.: 0.06848      \n",
      " Max.   : 4.3795        Max.   : 5.0679        Max.   : 3.33421      \n",
      "                                                                     \n",
      "     alt_m            aspect_deg        slope_degr        n_species      \n",
      " Min.   :-1.53434   Min.   :-1.5857   Min.   :-1.5628   Min.   :-1.9922  \n",
      " 1st Qu.:-0.91819   1st Qu.:-1.3323   1st Qu.:-0.6204   1st Qu.:-0.6769  \n",
      " Median :-0.08237   Median : 0.5961   Median :-0.1492   Median :-0.1508  \n",
      " Mean   : 0.00000   Mean   : 0.0000   Mean   : 0.0000   Mean   : 0.0000  \n",
      " 3rd Qu.: 0.69152   3rd Qu.: 0.7403   3rd Qu.: 0.7932   3rd Qu.: 0.7699  \n",
      " Max.   : 1.93832   Max.   : 0.9339   Max.   : 2.9136   Max.   : 2.2167  \n",
      " NA's   :5                                                               \n",
      "    dominant             MDR               IQR              Esp.tr        \n",
      " Min.   :-1.51468   Min.   :-1.3962   Min.   :-1.1949   Min.   :-2.81438  \n",
      " 1st Qu.:-0.07669   1st Qu.:-0.6251   1st Qu.:-0.7820   1st Qu.:-0.60794  \n",
      " Median :-0.07669   Median :-0.1933   Median :-0.3168   Median : 0.06588  \n",
      " Mean   : 0.00000   Mean   : 0.0000   Mean   : 0.0000   Mean   : 0.00000  \n",
      " 3rd Qu.: 1.36130   3rd Qu.: 0.4544   3rd Qu.: 0.4368   3rd Qu.: 0.81898  \n",
      " Max.   : 1.36130   Max.   : 4.2791   Max.   : 3.8507   Max.   : 2.15342  \n",
      "                                                                          \n",
      " cop_veg_ottavi   \n",
      " Min.   :-1.4333  \n",
      " 1st Qu.:-0.7334  \n",
      " Median :-0.3135  \n",
      " Mean   : 0.0000  \n",
      " 3rd Qu.: 0.8062  \n",
      " Max.   : 2.4858  \n",
      " NA's   :25       \n",
      "\n",
      "Observation-level covariates:\n",
      " orario        precip            temper     \n",
      " Al:1350   Min.   :0.00000   Min.   : 4.20  \n",
      " Tr:1275   1st Qu.:0.00000   1st Qu.: 9.40  \n",
      "           Median :0.00000   Median :12.60  \n",
      "           Mean   :0.03429   Mean   :11.82  \n",
      "           3rd Qu.:0.00000   3rd Qu.:14.40  \n",
      "           Max.   :1.00000   Max.   :17.40  \n"
     ]
    }
   ],
   "source": [
    "arvicole <- unmarkedFrameOccu(y = catture_effettive_selezionate, siteCovs = siteCovs, obsCovs = obsCovs)\n",
    "summary(arvicole)"
   ]
  },
  {
   "cell_type": "code",
   "execution_count": 39,
   "metadata": {},
   "outputs": [
    {
     "name": "stderr",
     "output_type": "stream",
     "text": [
      "Warning message:\n",
      "\"Some observations have been discarded because corresponding covariates were missing.\"\n",
      "Warning message:\n",
      "\"25 sites have been discarded because of missing data.\"\n"
     ]
    },
    {
     "data": {
      "text/plain": [
       "\n",
       "Call:\n",
       "occu(formula = ~orario + temper + MDR ~ slope_degr + I(slope_degr^2) + \n",
       "    MDR + I(MDR^2) + IQR + I(IQR^2) + Esp.tr + I(Esp.tr^2) + \n",
       "    cop_veg_ottavi + n_species + I(n_species^2) + dominant, data = arvicole)\n",
       "\n",
       "Occupancy:\n",
       "                Estimate   SE        z P(>|z|)\n",
       "(Intercept)        3.736 1139  0.00328   0.997\n",
       "slope_degr        -2.971  634 -0.00469   0.996\n",
       "I(slope_degr^2)    3.084  547  0.00563   0.996\n",
       "MDR                4.427  379  0.01170   0.991\n",
       "I(MDR^2)          -0.713  218 -0.00326   0.997\n",
       "IQR               15.818  624  0.02536   0.980\n",
       "I(IQR^2)          -6.293  310 -0.02031   0.984\n",
       "Esp.tr            -1.378  707 -0.00195   0.998\n",
       "I(Esp.tr^2)        3.750  205  0.01825   0.985\n",
       "cop_veg_ottavi   -30.913  672 -0.04601   0.963\n",
       "n_species          2.489  379  0.00656   0.995\n",
       "I(n_species^2)     9.069  316  0.02868   0.977\n",
       "dominant           5.644  495  0.01141   0.991\n",
       "\n",
       "Detection:\n",
       "            Estimate     SE      z  P(>|z|)\n",
       "(Intercept)  -3.4239 0.5591 -6.123 9.16e-10\n",
       "orarioTr      0.4062 0.2738  1.483 1.38e-01\n",
       "temper        0.0209 0.0415  0.505 6.14e-01\n",
       "MDR          -0.1234 0.1277 -0.966 3.34e-01\n",
       "\n",
       "AIC: 503.7033 "
      ]
     },
     "metadata": {},
     "output_type": "display_data"
    }
   ],
   "source": [
    "fm.base <- occu(~orario+temper + MDR\n",
    "            ~slope_degr + I(slope_degr^2) +\n",
    "            MDR + I(MDR^2) +\n",
    "            IQR + I(IQR^2) +\n",
    "            Esp.tr + I(Esp.tr^2)+\n",
    "            cop_veg_ottavi +\n",
    "            n_species + I(n_species^2) +\n",
    "            dominant,\n",
    "            arvicole)\n",
    "fm.base\n"
   ]
  },
  {
   "cell_type": "code",
   "execution_count": 13,
   "metadata": {},
   "outputs": [],
   "source": [
    "#fm.base <- occu(~orario+temper \n",
    "#            ~Diametro.roccia.1..cm.+\n",
    " #           Diametro.roccia.2..cm.+\n",
    "  #          Diametro.roccia.3..cm.+\n",
    "   #         cop_veg_ottavi +\n",
    "    #        slope_degr + I(slope_degr^2) +\n",
    "     #       n_species + I(n_species^2) +\n",
    "      #      dominant,\n",
    "       #     arvicole)\n",
    "#fm.base"
   ]
  },
  {
   "cell_type": "code",
   "execution_count": 40,
   "metadata": {},
   "outputs": [
    {
     "data": {
      "text/html": [
       "'SOCK'"
      ],
      "text/latex": [
       "'SOCK'"
      ],
      "text/markdown": [
       "'SOCK'"
      ],
      "text/plain": [
       "[1] \"SOCK\""
      ]
     },
     "metadata": {},
     "output_type": "display_data"
    },
    {
     "data": {
      "text/html": [
       "<ol>\n",
       "\t<li><style>\n",
       ".list-inline {list-style: none; margin:0; padding: 0}\n",
       ".list-inline>li {display: inline-block}\n",
       ".list-inline>li:not(:last-child)::after {content: \"\\00b7\"; padding: 0 .5ex}\n",
       "</style>\n",
       "<ol class=list-inline><li>'unmarked'</li><li>'lattice'</li><li>'snow'</li><li>'stats'</li><li>'graphics'</li><li>'grDevices'</li><li>'utils'</li><li>'datasets'</li><li>'methods'</li><li>'base'</li></ol>\n",
       "</li>\n",
       "\t<li><style>\n",
       ".list-inline {list-style: none; margin:0; padding: 0}\n",
       ".list-inline>li {display: inline-block}\n",
       ".list-inline>li:not(:last-child)::after {content: \"\\00b7\"; padding: 0 .5ex}\n",
       "</style>\n",
       "<ol class=list-inline><li>'unmarked'</li><li>'lattice'</li><li>'snow'</li><li>'stats'</li><li>'graphics'</li><li>'grDevices'</li><li>'utils'</li><li>'datasets'</li><li>'methods'</li><li>'base'</li></ol>\n",
       "</li>\n",
       "</ol>\n"
      ],
      "text/latex": [
       "\\begin{enumerate}\n",
       "\\item \\begin{enumerate*}\n",
       "\\item 'unmarked'\n",
       "\\item 'lattice'\n",
       "\\item 'snow'\n",
       "\\item 'stats'\n",
       "\\item 'graphics'\n",
       "\\item 'grDevices'\n",
       "\\item 'utils'\n",
       "\\item 'datasets'\n",
       "\\item 'methods'\n",
       "\\item 'base'\n",
       "\\end{enumerate*}\n",
       "\n",
       "\\item \\begin{enumerate*}\n",
       "\\item 'unmarked'\n",
       "\\item 'lattice'\n",
       "\\item 'snow'\n",
       "\\item 'stats'\n",
       "\\item 'graphics'\n",
       "\\item 'grDevices'\n",
       "\\item 'utils'\n",
       "\\item 'datasets'\n",
       "\\item 'methods'\n",
       "\\item 'base'\n",
       "\\end{enumerate*}\n",
       "\n",
       "\\end{enumerate}\n"
      ],
      "text/markdown": [
       "1. 1. 'unmarked'\n",
       "2. 'lattice'\n",
       "3. 'snow'\n",
       "4. 'stats'\n",
       "5. 'graphics'\n",
       "6. 'grDevices'\n",
       "7. 'utils'\n",
       "8. 'datasets'\n",
       "9. 'methods'\n",
       "10. 'base'\n",
       "\n",
       "\n",
       "\n",
       "2. 1. 'unmarked'\n",
       "2. 'lattice'\n",
       "3. 'snow'\n",
       "4. 'stats'\n",
       "5. 'graphics'\n",
       "6. 'grDevices'\n",
       "7. 'utils'\n",
       "8. 'datasets'\n",
       "9. 'methods'\n",
       "10. 'base'\n",
       "\n",
       "\n",
       "\n",
       "\n",
       "\n"
      ],
      "text/plain": [
       "[[1]]\n",
       " [1] \"unmarked\"  \"lattice\"   \"snow\"      \"stats\"     \"graphics\"  \"grDevices\"\n",
       " [7] \"utils\"     \"datasets\"  \"methods\"   \"base\"     \n",
       "\n",
       "[[2]]\n",
       " [1] \"unmarked\"  \"lattice\"   \"snow\"      \"stats\"     \"graphics\"  \"grDevices\"\n",
       " [7] \"utils\"     \"datasets\"  \"methods\"   \"base\"     \n"
      ]
     },
     "metadata": {},
     "output_type": "display_data"
    },
    {
     "data": {
      "text/html": [
       "<ol>\n",
       "\t<li><style>\n",
       ".list-inline {list-style: none; margin:0; padding: 0}\n",
       ".list-inline>li {display: inline-block}\n",
       ".list-inline>li:not(:last-child)::after {content: \"\\00b7\"; padding: 0 .5ex}\n",
       "</style>\n",
       "<ol class=list-inline><li>'MuMIn'</li><li>'unmarked'</li><li>'lattice'</li><li>'snow'</li><li>'stats'</li><li>'graphics'</li><li>'grDevices'</li><li>'utils'</li><li>'datasets'</li><li>'methods'</li><li>'base'</li></ol>\n",
       "</li>\n",
       "\t<li><style>\n",
       ".list-inline {list-style: none; margin:0; padding: 0}\n",
       ".list-inline>li {display: inline-block}\n",
       ".list-inline>li:not(:last-child)::after {content: \"\\00b7\"; padding: 0 .5ex}\n",
       "</style>\n",
       "<ol class=list-inline><li>'MuMIn'</li><li>'unmarked'</li><li>'lattice'</li><li>'snow'</li><li>'stats'</li><li>'graphics'</li><li>'grDevices'</li><li>'utils'</li><li>'datasets'</li><li>'methods'</li><li>'base'</li></ol>\n",
       "</li>\n",
       "</ol>\n"
      ],
      "text/latex": [
       "\\begin{enumerate}\n",
       "\\item \\begin{enumerate*}\n",
       "\\item 'MuMIn'\n",
       "\\item 'unmarked'\n",
       "\\item 'lattice'\n",
       "\\item 'snow'\n",
       "\\item 'stats'\n",
       "\\item 'graphics'\n",
       "\\item 'grDevices'\n",
       "\\item 'utils'\n",
       "\\item 'datasets'\n",
       "\\item 'methods'\n",
       "\\item 'base'\n",
       "\\end{enumerate*}\n",
       "\n",
       "\\item \\begin{enumerate*}\n",
       "\\item 'MuMIn'\n",
       "\\item 'unmarked'\n",
       "\\item 'lattice'\n",
       "\\item 'snow'\n",
       "\\item 'stats'\n",
       "\\item 'graphics'\n",
       "\\item 'grDevices'\n",
       "\\item 'utils'\n",
       "\\item 'datasets'\n",
       "\\item 'methods'\n",
       "\\item 'base'\n",
       "\\end{enumerate*}\n",
       "\n",
       "\\end{enumerate}\n"
      ],
      "text/markdown": [
       "1. 1. 'MuMIn'\n",
       "2. 'unmarked'\n",
       "3. 'lattice'\n",
       "4. 'snow'\n",
       "5. 'stats'\n",
       "6. 'graphics'\n",
       "7. 'grDevices'\n",
       "8. 'utils'\n",
       "9. 'datasets'\n",
       "10. 'methods'\n",
       "11. 'base'\n",
       "\n",
       "\n",
       "\n",
       "2. 1. 'MuMIn'\n",
       "2. 'unmarked'\n",
       "3. 'lattice'\n",
       "4. 'snow'\n",
       "5. 'stats'\n",
       "6. 'graphics'\n",
       "7. 'grDevices'\n",
       "8. 'utils'\n",
       "9. 'datasets'\n",
       "10. 'methods'\n",
       "11. 'base'\n",
       "\n",
       "\n",
       "\n",
       "\n",
       "\n"
      ],
      "text/plain": [
       "[[1]]\n",
       " [1] \"MuMIn\"     \"unmarked\"  \"lattice\"   \"snow\"      \"stats\"     \"graphics\" \n",
       " [7] \"grDevices\" \"utils\"     \"datasets\"  \"methods\"   \"base\"     \n",
       "\n",
       "[[2]]\n",
       " [1] \"MuMIn\"     \"unmarked\"  \"lattice\"   \"snow\"      \"stats\"     \"graphics\" \n",
       " [7] \"grDevices\" \"utils\"     \"datasets\"  \"methods\"   \"base\"     \n"
      ]
     },
     "metadata": {},
     "output_type": "display_data"
    },
    {
     "data": {
      "text/html": [
       "<style>\n",
       ".list-inline {list-style: none; margin:0; padding: 0}\n",
       ".list-inline>li {display: inline-block}\n",
       ".list-inline>li:not(:last-child)::after {content: \"\\00b7\"; padding: 0 .5ex}\n",
       "</style>\n",
       "<ol class=list-inline><li>'p(MDR)'</li><li>'p(orario)'</li><li>'p(temper)'</li><li>'psi(cop_veg_ottavi)'</li><li>'psi(dominant)'</li><li>'psi(Esp.tr)'</li><li>'psi(I(Esp.tr^2))'</li><li>'psi(IQR)'</li><li>'psi(I(IQR^2))'</li><li>'psi(MDR)'</li><li>'psi(I(MDR^2))'</li><li>'psi(n_species)'</li><li>'psi(I(n_species^2))'</li><li>'psi(slope_degr)'</li><li>'psi(I(slope_degr^2))'</li></ol>\n"
      ],
      "text/latex": [
       "\\begin{enumerate*}\n",
       "\\item 'p(MDR)'\n",
       "\\item 'p(orario)'\n",
       "\\item 'p(temper)'\n",
       "\\item 'psi(cop\\_veg\\_ottavi)'\n",
       "\\item 'psi(dominant)'\n",
       "\\item 'psi(Esp.tr)'\n",
       "\\item 'psi(I(Esp.tr\\textasciicircum{}2))'\n",
       "\\item 'psi(IQR)'\n",
       "\\item 'psi(I(IQR\\textasciicircum{}2))'\n",
       "\\item 'psi(MDR)'\n",
       "\\item 'psi(I(MDR\\textasciicircum{}2))'\n",
       "\\item 'psi(n\\_species)'\n",
       "\\item 'psi(I(n\\_species\\textasciicircum{}2))'\n",
       "\\item 'psi(slope\\_degr)'\n",
       "\\item 'psi(I(slope\\_degr\\textasciicircum{}2))'\n",
       "\\end{enumerate*}\n"
      ],
      "text/markdown": [
       "1. 'p(MDR)'\n",
       "2. 'p(orario)'\n",
       "3. 'p(temper)'\n",
       "4. 'psi(cop_veg_ottavi)'\n",
       "5. 'psi(dominant)'\n",
       "6. 'psi(Esp.tr)'\n",
       "7. 'psi(I(Esp.tr^2))'\n",
       "8. 'psi(IQR)'\n",
       "9. 'psi(I(IQR^2))'\n",
       "10. 'psi(MDR)'\n",
       "11. 'psi(I(MDR^2))'\n",
       "12. 'psi(n_species)'\n",
       "13. 'psi(I(n_species^2))'\n",
       "14. 'psi(slope_degr)'\n",
       "15. 'psi(I(slope_degr^2))'\n",
       "\n",
       "\n"
      ],
      "text/plain": [
       " [1] \"p(MDR)\"               \"p(orario)\"            \"p(temper)\"           \n",
       " [4] \"psi(cop_veg_ottavi)\"  \"psi(dominant)\"        \"psi(Esp.tr)\"         \n",
       " [7] \"psi(I(Esp.tr^2))\"     \"psi(IQR)\"             \"psi(I(IQR^2))\"       \n",
       "[10] \"psi(MDR)\"             \"psi(I(MDR^2))\"        \"psi(n_species)\"      \n",
       "[13] \"psi(I(n_species^2))\"  \"psi(slope_degr)\"      \"psi(I(slope_degr^2))\"\n",
       "attr(,\"intercept\")\n",
       "  p psi \n",
       "  1   1 \n",
       "attr(,\"interceptLabel\")\n",
       "[1] \"p(Int)\"   \"psi(Int)\"\n",
       "attr(,\"deps\")\n",
       "                     p(MDR) p(orario) p(temper) psi(cop_veg_ottavi)\n",
       "p(MDR)                   NA     FALSE     FALSE               FALSE\n",
       "p(orario)             FALSE        NA     FALSE               FALSE\n",
       "p(temper)             FALSE     FALSE        NA               FALSE\n",
       "psi(cop_veg_ottavi)   FALSE     FALSE     FALSE                  NA\n",
       "psi(dominant)         FALSE     FALSE     FALSE               FALSE\n",
       "psi(Esp.tr)           FALSE     FALSE     FALSE               FALSE\n",
       "psi(I(Esp.tr^2))      FALSE     FALSE     FALSE               FALSE\n",
       "psi(IQR)              FALSE     FALSE     FALSE               FALSE\n",
       "psi(I(IQR^2))         FALSE     FALSE     FALSE               FALSE\n",
       "psi(MDR)              FALSE     FALSE     FALSE               FALSE\n",
       "psi(I(MDR^2))         FALSE     FALSE     FALSE               FALSE\n",
       "psi(n_species)        FALSE     FALSE     FALSE               FALSE\n",
       "psi(I(n_species^2))   FALSE     FALSE     FALSE               FALSE\n",
       "psi(slope_degr)       FALSE     FALSE     FALSE               FALSE\n",
       "psi(I(slope_degr^2))  FALSE     FALSE     FALSE               FALSE\n",
       "                     psi(dominant) psi(Esp.tr) psi(I(Esp.tr^2)) psi(IQR)\n",
       "p(MDR)                       FALSE       FALSE            FALSE    FALSE\n",
       "p(orario)                    FALSE       FALSE            FALSE    FALSE\n",
       "p(temper)                    FALSE       FALSE            FALSE    FALSE\n",
       "psi(cop_veg_ottavi)          FALSE       FALSE            FALSE    FALSE\n",
       "psi(dominant)                   NA       FALSE            FALSE    FALSE\n",
       "psi(Esp.tr)                  FALSE          NA            FALSE    FALSE\n",
       "psi(I(Esp.tr^2))             FALSE       FALSE               NA    FALSE\n",
       "psi(IQR)                     FALSE       FALSE            FALSE       NA\n",
       "psi(I(IQR^2))                FALSE       FALSE            FALSE    FALSE\n",
       "psi(MDR)                     FALSE       FALSE            FALSE    FALSE\n",
       "psi(I(MDR^2))                FALSE       FALSE            FALSE    FALSE\n",
       "psi(n_species)               FALSE       FALSE            FALSE    FALSE\n",
       "psi(I(n_species^2))          FALSE       FALSE            FALSE    FALSE\n",
       "psi(slope_degr)              FALSE       FALSE            FALSE    FALSE\n",
       "psi(I(slope_degr^2))         FALSE       FALSE            FALSE    FALSE\n",
       "                     psi(I(IQR^2)) psi(MDR) psi(I(MDR^2)) psi(n_species)\n",
       "p(MDR)                       FALSE    FALSE         FALSE          FALSE\n",
       "p(orario)                    FALSE    FALSE         FALSE          FALSE\n",
       "p(temper)                    FALSE    FALSE         FALSE          FALSE\n",
       "psi(cop_veg_ottavi)          FALSE    FALSE         FALSE          FALSE\n",
       "psi(dominant)                FALSE    FALSE         FALSE          FALSE\n",
       "psi(Esp.tr)                  FALSE    FALSE         FALSE          FALSE\n",
       "psi(I(Esp.tr^2))             FALSE    FALSE         FALSE          FALSE\n",
       "psi(IQR)                     FALSE    FALSE         FALSE          FALSE\n",
       "psi(I(IQR^2))                   NA    FALSE         FALSE          FALSE\n",
       "psi(MDR)                     FALSE       NA         FALSE          FALSE\n",
       "psi(I(MDR^2))                FALSE    FALSE            NA          FALSE\n",
       "psi(n_species)               FALSE    FALSE         FALSE             NA\n",
       "psi(I(n_species^2))          FALSE    FALSE         FALSE          FALSE\n",
       "psi(slope_degr)              FALSE    FALSE         FALSE          FALSE\n",
       "psi(I(slope_degr^2))         FALSE    FALSE         FALSE          FALSE\n",
       "                     psi(I(n_species^2)) psi(slope_degr) psi(I(slope_degr^2))\n",
       "p(MDR)                             FALSE           FALSE                FALSE\n",
       "p(orario)                          FALSE           FALSE                FALSE\n",
       "p(temper)                          FALSE           FALSE                FALSE\n",
       "psi(cop_veg_ottavi)                FALSE           FALSE                FALSE\n",
       "psi(dominant)                      FALSE           FALSE                FALSE\n",
       "psi(Esp.tr)                        FALSE           FALSE                FALSE\n",
       "psi(I(Esp.tr^2))                   FALSE           FALSE                FALSE\n",
       "psi(IQR)                           FALSE           FALSE                FALSE\n",
       "psi(I(IQR^2))                      FALSE           FALSE                FALSE\n",
       "psi(MDR)                           FALSE           FALSE                FALSE\n",
       "psi(I(MDR^2))                      FALSE           FALSE                FALSE\n",
       "psi(n_species)                     FALSE           FALSE                FALSE\n",
       "psi(I(n_species^2))                   NA           FALSE                FALSE\n",
       "psi(slope_degr)                    FALSE              NA                FALSE\n",
       "psi(I(slope_degr^2))               FALSE           FALSE                   NA"
      ]
     },
     "metadata": {},
     "output_type": "display_data"
    }
   ],
   "source": [
    "######### INFORMATICA\n",
    "clusterType <- if(length(find.package(\"snow\", quiet = TRUE))) \"SOCK\" else \"PSOCK\"\n",
    "clusterType\n",
    "clust <- try(makeCluster(getOption(\"cl.cores\", 2), type = clusterType))\n",
    "clusterEvalQ(clust, library(unmarked))\n",
    "clusterEvalQ(clust,library(MuMIn))\n",
    "clusterExport(clust, \"arvicole\")\n",
    "invisible(clusterCall(clust, \"library\", \"stats4\", character.only = TRUE))\n",
    "library(MuMIn)\n",
    "getAllTerms(fm.base)"
   ]
  },
  {
   "cell_type": "code",
   "execution_count": 15,
   "metadata": {},
   "outputs": [],
   "source": [
    "#pdd2 <- pdredge(fm.base, clust,\n",
    "#                subset = (`psi(slope_degr)` | !`psi(I(slope_degr^2))`) &&\n",
    "#                 (`psi(n_species)` | !`psi(I(n_species^2))`) &&\n",
    "#                 `psi(dominant)`,               \n",
    "#                trace = 2, m.lim = c(1,NA))"
   ]
  },
  {
   "cell_type": "code",
   "execution_count": 16,
   "metadata": {},
   "outputs": [],
   "source": [
    "#save(pdd2, file=\"Dati-elaborati/pdd2.RData\", compress=FALSE)\n",
    "#load(\"Dati-elaborati/pdd2.RData\")"
   ]
  },
  {
   "cell_type": "code",
   "execution_count": 41,
   "metadata": {},
   "outputs": [
    {
     "name": "stderr",
     "output_type": "stream",
     "text": [
      "Fixed terms are \"p(Int)\" and \"psi(Int)\"\n",
      "\n"
     ]
    },
    {
     "name": "stdout",
     "output_type": "stream",
     "text": [
      "  |======================================================================| 100%\n"
     ]
    }
   ],
   "source": [
    "pdd3 <- pdredge(fm.base, clust,\n",
    "                subset = (`psi(slope_degr)` | !`psi(I(slope_degr^2))`) &&\n",
    "                (`psi(n_species)` | ! `psi(I(n_species^2))`) &&\n",
    "                (`psi(MDR)` | ! `psi(I(MDR^2))`)&&\n",
    "                (`psi(IQR)` | ! `psi(I(IQR^2))`)&&\n",
    "                (`psi(Esp.tr)` | ! `psi(I(Esp.tr^2))`)&&\n",
    "                 `psi(cop_veg_ottavi)` &&\n",
    "                # `p(MDR)` &&\n",
    "                 `p(temper)` &&\n",
    "                 `p(orario)` &&\n",
    "                 `psi(dominant)`,\n",
    "                trace = 2, m.lim = c(1,NA))\n",
    "save(pdd3, file=\"Dati-elaborati/pdd3.RData\", compress=FALSE)\n",
    "load(\"Dati-elaborati/pdd3.RData\")"
   ]
  },
  {
   "cell_type": "code",
   "execution_count": 42,
   "metadata": {},
   "outputs": [
    {
     "data": {
      "image/png": "[encoded data removed]",
      "text/plain": [
       "plot without title"
      ]
     },
     "metadata": {
      "image/png": {
       "height": 420,
       "width": 420
      }
     },
     "output_type": "display_data"
    }
   ],
   "source": [
    "par(mfrow = c(1,1))\n",
    "op <- par(mar = c(3,5,6,4), mfrow=c(1,1))\n",
    "plot(pdd3, labAsExpr = TRUE)\n",
    "par(op)\n"
   ]
  },
  {
   "cell_type": "code",
   "execution_count": 55,
   "metadata": {},
   "outputs": [
    {
     "name": "stderr",
     "output_type": "stream",
     "text": [
      "Warning message:\n",
      "\"Some observations have been discarded because corresponding covariates were missing.\"\n",
      "Warning message:\n",
      "\"25 sites have been discarded because of missing data.\"\n"
     ]
    },
    {
     "name": "stdout",
     "output_type": "stream",
     "text": [
      "\n",
      "Call:\n",
      "occu(formula = ~orario + temper + 1 ~ cop_veg_ottavi + dominant + \n",
      "    IQR + 1, data = arvicole)\n",
      "\n",
      "Occupancy (logit-scale):\n",
      "               Estimate   SE      z P(>|z|)\n",
      "(Intercept)        27.3 28.5  0.956   0.339\n",
      "cop_veg_ottavi    -37.2 36.5 -1.019   0.308\n",
      "dominant           15.2 32.2  0.471   0.638\n",
      "IQR                21.6 24.7  0.874   0.382\n",
      "\n",
      "Detection (logit-scale):\n",
      "            Estimate     SE      z  P(>|z|)\n",
      "(Intercept)  -3.4770 0.5585 -6.226 4.80e-10\n",
      "orarioTr      0.4059 0.2736  1.484 1.38e-01\n",
      "temper        0.0209 0.0414  0.506 6.13e-01\n",
      "\n",
      "AIC: 488.2789 \n",
      "Number of sites: 50\n",
      "ID of sites removed due to NA: 51 52 53 54 55 56 57 58 59 60 61 62 63 64 65 66 67 68 69 70 71 72 73 74 75\n",
      "optim convergence code: 0\n",
      "optim iterations: 101 \n",
      "Bootstrap iterations: 0 \n",
      "\n"
     ]
    }
   ],
   "source": [
    "# riportare la tabella dei coefficienti\n",
    "summary(get.models(pdd3, 1)[[1]])"
   ]
  },
  {
   "cell_type": "code",
   "execution_count": 56,
   "metadata": {},
   "outputs": [
    {
     "data": {
      "text/plain": [
       "\n",
       "Call:\n",
       "model.avg(object = pdd3, subset = delta < 2)\n",
       "\n",
       "Component model call: \n",
       "occu(formula = ~<7 unique rhs>, data = arvicole)\n",
       "\n",
       "Component models: \n",
       "                     df  logLik   AICc delta weight\n",
       "2/3/4/5/7             7 -237.14 490.95  0.00   0.23\n",
       "2/3/4/5/6/7/8         9 -234.25 491.01  0.06   0.22\n",
       "1/2/3/4/5/6/7/8      10 -233.11 491.86  0.92   0.15\n",
       "1/2/3/4/5/7/9         9 -234.97 492.45  1.50   0.11\n",
       "2/3/4/5/7/9/10/12/13 11 -231.82 492.58  1.63   0.10\n",
       "2/3/4/5/6/7/8/9/10   11 -231.84 492.62  1.68   0.10\n",
       "2/3/4/5/7/9/11/12    10 -233.61 492.86  1.91   0.09\n",
       "\n",
       "Term codes: \n",
       "              p(MDR)            p(orario)            p(temper) \n",
       "                   1                    2                    3 \n",
       " psi(cop_veg_ottavi)        psi(dominant)          psi(Esp.tr) \n",
       "                   4                    5                    6 \n",
       "            psi(IQR)        psi(I(IQR^2))             psi(MDR) \n",
       "                   7                    8                    9 \n",
       "       psi(I(MDR^2))       psi(n_species)      psi(slope_degr) \n",
       "                  10                   11                   12 \n",
       "psi(I(slope_degr^2)) \n",
       "                  13 \n",
       "\n",
       "Model-averaged coefficients:  \n",
       "(full average) \n",
       "                       Estimate Std. Error z value Pr(>|z|)    \n",
       "psi(Int)               78.94956  603.26268   0.131    0.896    \n",
       "psi(cop_veg_ottavi)   -94.12734  894.93174   0.105    0.916    \n",
       "psi(dominant)          38.81454  246.27433   0.158    0.875    \n",
       "psi(IQR)               48.92583 2280.48954   0.021    0.983    \n",
       "p(Int)                 -3.42370    0.56020   6.112   <2e-16 ***\n",
       "p(orarioTr)             0.40658    0.27391   1.484    0.138    \n",
       "p(temper)               0.02104    0.04147   0.507    0.612    \n",
       "psi(Esp.tr)            29.02896 2815.92888   0.010    0.992    \n",
       "psi(I(IQR^2))         -17.24992   19.60282   0.880    0.379    \n",
       "p(MDR)                 -0.03166    0.08385   0.378    0.706    \n",
       "psi(MDR)               14.41702  958.81547   0.015    0.988    \n",
       "psi(I(MDR^2))          -3.01692  169.87939   0.018    0.986    \n",
       "psi(slope_degr)         2.58489  655.84640   0.004    0.997    \n",
       "psi(I(slope_degr^2))    5.48984  543.42514   0.010    0.992    \n",
       "psi(n_species)         -2.89515   61.95211   0.047    0.963    \n",
       " \n",
       "(conditional average) \n",
       "                       Estimate Std. Error z value Pr(>|z|)    \n",
       "psi(Int)               78.94956  603.26268   0.131    0.896    \n",
       "psi(cop_veg_ottavi)   -94.12734  894.93174   0.105    0.916    \n",
       "psi(dominant)          38.81454  246.27433   0.158    0.875    \n",
       "psi(IQR)               48.92583 2280.48954   0.021    0.983    \n",
       "p(Int)                 -3.42370    0.56020   6.112   <2e-16 ***\n",
       "p(orarioTr)             0.40658    0.27391   1.484    0.138    \n",
       "p(temper)               0.02104    0.04147   0.507    0.612    \n",
       "psi(Esp.tr)            61.83074 4109.43484   0.015    0.988    \n",
       "psi(I(IQR^2))         -36.74177   28.12799   1.306    0.191    \n",
       "p(MDR)                 -0.12424    0.12683   0.980    0.327    \n",
       "psi(MDR)               36.09078 1516.77659   0.024    0.981    \n",
       "psi(I(MDR^2))         -14.94726  377.89271   0.040    0.968    \n",
       "psi(slope_degr)        13.55090 1501.58838   0.009    0.993    \n",
       "psi(I(slope_degr^2))   53.80871 1700.55570   0.032    0.975    \n",
       "psi(n_species)        -32.62913  205.63532   0.159    0.874    \n",
       "---\n",
       "Signif. codes:  0 '***' 0.001 '**' 0.01 '*' 0.05 '.' 0.1 ' ' 1\n"
      ]
     },
     "metadata": {},
     "output_type": "display_data"
    }
   ],
   "source": [
    "## PASSAGGIO DI MODEL AVERAGING: CONSIDERIAMO CONTEMPORANEAMENTE I MODELLI MIGLIORI CHE DIFFERISCONO TRA LORO\n",
    "## DI POCO IN TERMINI DI AIC (deltaAIC < 2)\n",
    "summary(model.avg(pdd3, subset = delta < 2))"
   ]
  },
  {
   "cell_type": "code",
   "execution_count": 63,
   "metadata": {},
   "outputs": [
    {
     "name": "stderr",
     "output_type": "stream",
     "text": [
      "Warning message:\n",
      "\"Some observations have been discarded because corresponding covariates were missing.\"\n",
      "Warning message:\n",
      "\"25 sites have been discarded because of missing data.\"\n"
     ]
    },
    {
     "data": {
      "text/plain": [
       "\n",
       "Call:\n",
       "occu(formula = ~orario + temper + 1 ~ cop_veg_ottavi + dominant + \n",
       "    IQR + 1, data = arvicole)\n",
       "\n",
       "Occupancy:\n",
       "               Estimate   SE      z P(>|z|)\n",
       "(Intercept)        27.3 28.5  0.956   0.339\n",
       "cop_veg_ottavi    -37.2 36.5 -1.019   0.308\n",
       "dominant           15.2 32.2  0.471   0.638\n",
       "IQR                21.6 24.7  0.874   0.382\n",
       "\n",
       "Detection:\n",
       "            Estimate     SE      z  P(>|z|)\n",
       "(Intercept)  -3.4770 0.5585 -6.226 4.80e-10\n",
       "orarioTr      0.4059 0.2736  1.484 1.38e-01\n",
       "temper        0.0209 0.0414  0.506 6.13e-01\n",
       "\n",
       "AIC: 488.2789 "
      ]
     },
     "metadata": {},
     "output_type": "display_data"
    }
   ],
   "source": [
    "best.mod1 <- (get.models(pdd3, 1)[[1]])\n",
    "best.mod1"
   ]
  },
  {
   "cell_type": "code",
   "execution_count": 64,
   "metadata": {},
   "outputs": [
    {
     "data": {
      "text/plain": [
       "\n",
       "Call:\n",
       "occu(formula = ~MDR + temper ~ MDR + Esp.tr + dominant, data = arvicole)\n",
       "\n",
       "Occupancy:\n",
       "            Estimate    SE      z P(>|z|)\n",
       "(Intercept)   -0.256 0.313 -0.816   0.415\n",
       "MDR            0.713 0.472  1.512   0.130\n",
       "Esp.tr        -0.353 0.335 -1.055   0.291\n",
       "dominant       0.113 0.291  0.387   0.699\n",
       "\n",
       "Detection:\n",
       "            Estimate     SE      z  P(>|z|)\n",
       "(Intercept)  -3.0017 0.5129 -5.853 4.83e-09\n",
       "MDR          -0.1625 0.1505 -1.079 2.80e-01\n",
       "temper        0.0107 0.0407  0.263 7.92e-01\n",
       "\n",
       "AIC: 542.6953 "
      ]
     },
     "metadata": {},
     "output_type": "display_data"
    }
   ],
   "source": [
    "best.mod <- occu(~ MDR + temper\n",
    "                 ~ MDR +\n",
    "                   Esp.tr +\n",
    "                   dominant,\n",
    "                 arvicole)\n",
    "best.mod"
   ]
  },
  {
   "cell_type": "code",
   "execution_count": 65,
   "metadata": {},
   "outputs": [],
   "source": [
    "newdat1 <- data.frame(MDR = mean(siteCovs$MDR),\n",
    "                     Esp.tr = seq(min(siteCovs$Esp.tr), max(siteCovs$Esp.tr), length=100),\n",
    "                     dominant = \"Graminacee\")\n",
    "newdat2 <- data.frame(MDR = mean(siteCovs$MDR),\n",
    "                      Esp.tr = seq(min(siteCovs$Esp.tr), max(siteCovs$Esp.tr),length=100),\n",
    "                      dominant = \"Muschio\")\n",
    "newdat3 <- data.frame(MDR = mean(siteCovs$MDR),\n",
    "                      Esp.tr = seq(min(siteCovs$Esp.tr), max(siteCovs$Esp.tr),length=100),\n",
    "                      dominant = \"Other_sp\")\n",
    "newdat <- rbind(newdat1,newdat2,newdat3)"
   ]
  },
  {
   "cell_type": "code",
   "execution_count": 68,
   "metadata": {},
   "outputs": [
    {
     "ename": "ERROR",
     "evalue": "Error in .local(obj, coefficients, ...): ncol(coefficients) == length(obj@estimates) is not TRUE\n",
     "output_type": "error",
     "traceback": [
      "Error in .local(obj, coefficients, ...): ncol(coefficients) == length(obj@estimates) is not TRUE\nTraceback:\n",
      "1. predict(best.mod, type = \"state\", newdata = newdat, appendData = TRUE)",
      "2. predict(best.mod, type = \"state\", newdata = newdat, appendData = TRUE)",
      "3. .local(object, ...)",
      "4. linearComb(object, X[i, ], type, offset = offset[i])",
      "5. linearComb(object, X[i, ], type, offset = offset[i])",
      "6. .local(obj, coefficients, ...)",
      "7. linearComb(estimate, coefficients, offset)",
      "8. linearComb(estimate, coefficients, offset)",
      "9. .local(obj, coefficients, ...)",
      "10. stopifnot(ncol(coefficients) == length(obj@estimates))"
     ]
    }
   ],
   "source": [
    "Elambda <- predict(best.mod, type='state', newdata=newdat,\n",
    "                   appendData=TRUE)\n",
    "head(Elambda)\n",
    "Elambda.logit <- Elambda\n"
   ]
  },
  {
   "cell_type": "code",
   "execution_count": 49,
   "metadata": {},
   "outputs": [
    {
     "ename": "ERROR",
     "evalue": "Error in .local(obj, coefficients, ...): ncol(coefficients) == length(obj@estimates) is not TRUE\n",
     "output_type": "error",
     "traceback": [
      "Error in .local(obj, coefficients, ...): ncol(coefficients) == length(obj@estimates) is not TRUE\nTraceback:\n",
      "1. predict(best.mod, type = \"state\", newdata = newdat, appendData = TRUE)",
      "2. predict(best.mod, type = \"state\", newdata = newdat, appendData = TRUE)",
      "3. .local(object, ...)",
      "4. linearComb(object, X[i, ], type, offset = offset[i])",
      "5. linearComb(object, X[i, ], type, offset = offset[i])",
      "6. .local(obj, coefficients, ...)",
      "7. linearComb(estimate, coefficients, offset)",
      "8. linearComb(estimate, coefficients, offset)",
      "9. .local(obj, coefficients, ...)",
      "10. stopifnot(ncol(coefficients) == length(obj@estimates))"
     ]
    }
   ],
   "source": [
    "\n",
    "par(mfrow=c(1, 2))\n",
    "\n",
    "with(subset(Elambda.logit,dominant==\"Graminacee\"), {\n",
    "  plot(Esp.tr, Predicted, xlab=\"Esposizione\", type=\"l\", # names = habitat,\n",
    "       ylab=\"Probabilità di presenza\", #ylim=c(-20, 40), # cex.names=0.7,\n",
    "       cex.lab=0.7, cex.axis=0.7, lwd=2, col=\"red\")\n",
    "   lines(Esp.tr, upper, lty=2, col=\"grey\")\n",
    "  lines(Esp.tr, lower, lty=2, col=\"grey\")\n",
    "})"
   ]
  },
  {
   "cell_type": "code",
   "execution_count": 44,
   "metadata": {},
   "outputs": [
    {
     "ename": "ERROR",
     "evalue": "Error in nrow(y): oggetto \"y\" non trovato\n",
     "output_type": "error",
     "traceback": [
      "Error in nrow(y): oggetto \"y\" non trovato\nTraceback:\n",
      "1. nrow(y)"
     ]
    }
   ],
   "source": [
    "best.mod <- (get.models(pdd2, 1)[[1]])\n",
    "best.mod <- occu(~ MDR + temp\n",
    "                 ~ MDR +\n",
    "                   Esp.tr +\n",
    "                   dominante,\n",
    "                 blgr)\n",
    "# ?unmarkedFitOccu-class\n",
    "\n",
    "# Predict abundance at specified covariate values.\n",
    "newdat1 <- data.frame(MDR = mean(sc.def$MDR),\n",
    "                     Esp.tr = seq(min(sc.def$Esp.tr), max(sc.def$Esp.tr), length=100),\n",
    "                     dominante = \"Graminacee\")\n",
    "newdat2 <- data.frame(MDR = mean(sc.def$MDR),\n",
    "                      Esp.tr = seq(min(sc.def$Esp.tr), max(sc.def$Esp.tr), length=100),\n",
    "                      dominante = \"Muschio\")\n",
    "newdat3 <- data.frame(MDR = mean(sc.def$MDR),\n",
    "                      Esp.tr = seq(min(sc.def$Esp.tr), max(sc.def$Esp.tr), length=100),\n",
    "                      dominante = \"Other_sp\")\n",
    "newdat <- rbind(newdat1,newdat2,newdat3)\n",
    "Elambda <- predict(best.mod, type='state', newdata=newdat,\n",
    "                   appendData=TRUE)\n",
    "head(Elambda)\n",
    "Elambda.logit <- Elambda\n",
    "# Elambda.logit$Predicted <- log(Elambda.logit$Predicted/(1-Elambda.logit$Predicted))\n",
    "# Elambda.logit$SE <- log(Elambda.logit$SE/(1-Elambda.logit$SE))\n",
    "# Elambda.logit$lower <- log(Elambda.logit$lower/(1-Elambda.logit$lower))\n",
    "# Elambda.logit$upper <- log(Elambda.logit$upper/(1-Elambda.logit$upper))\n",
    "# with(Elambda, log(Predicted)-log(1-Predicted))\n",
    "par(mfrow=c(1, 2))\n",
    "# with(Elambda, {\n",
    "#   plot(Esp.tr, log(Predicted)-log(1-Predicted), xlab=\"Esposizione\", type=\"l\", # names = habitat,\n",
    "#                ylab=\"Occupancy\", #ylim=c(-20, 40), # cex.names=0.7,\n",
    "#                cex.lab=0.7, cex.axis=0.7, lwd=2, col=\"red\")\n",
    "#   lines(Esp.tr, log(Predicted)-log(1-Predicted)+log(SE/1-SE), lty=3, col=\"grey\")\n",
    "#   lines(Esp.tr, log(Predicted)-log(1-Predicted)-log(SE/1-SE), lty=2, col=\"grey\")\n",
    "# })\n",
    "with(subset(Elambda.logit,dominante==\"Graminacee\"), {\n",
    "  plot(Esp.tr, Predicted, xlab=\"Esposizione\", type=\"l\", # names = habitat,\n",
    "       ylab=\"Probabilità di presenza\", #ylim=c(-20, 40), # cex.names=0.7,\n",
    "       cex.lab=0.7, cex.axis=0.7, lwd=2, col=\"red\")\n",
    "  # lines(Esp.tr, Predicted+SE, lty=3, col=\"dark grey\")\n",
    "  # lines(Esp.tr, Predicted-SE, lty=3, col=\"dark grey\")\n",
    "  lines(Esp.tr, upper, lty=2, col=\"grey\")\n",
    "  lines(Esp.tr, lower, lty=2, col=\"grey\")\n",
    "})\n",
    "# with(subset(Elambda.logit,dominante==\"Graminacee\"), {\n",
    "#   plot(Esp.tr, Predicted, xlab=\"Esposizione\", type=\"l\", # names = habitat,\n",
    "#        ylab=\"Probabilità di presenza\", #ylim=c(-20, 40), # cex.names=0.7,\n",
    "#        cex.lab=0.7, cex.axis=0.7, lwd=2, col=\"red\")\n",
    "#   lines(Esp.tr, Predicted+SE, lty=3, col=\"dark grey\")\n",
    "#   lines(Esp.tr, Predicted-SE, lty=3, col=\"dark grey\")\n",
    "#   # lines(Esp.tr, upper, lty=2, col=\"grey\")\n",
    "#   # lines(Esp.tr, lower, lty=2, col=\"grey\")\n",
    "# })\n",
    "# Predict abundance at specified covariate values.\n",
    "newdat1 <- data.frame(MDR = seq(min(sc.def$MDR), max(sc.def$MDR), length=100),\n",
    "                      Esp.tr = mean(sc.def$Esp.tr),\n",
    "                      dominante = \"Graminacee\")\n",
    "newdat2 <- data.frame(MDR = seq(min(sc.def$MDR), max(sc.def$MDR), length=100),\n",
    "                      Esp.tr = mean(sc.def$Esp.tr),\n",
    "                      dominante = \"Muschio\")\n",
    "newdat3 <- data.frame(MDR = seq(min(sc.def$MDR), max(sc.def$MDR), length=100),\n",
    "                      Esp.tr = mean(sc.def$Esp.tr),\n",
    "                      dominante = \"Other_sp\")\n",
    "newdat <- rbind(newdat1,newdat2,newdat3)\n",
    "Elambda <- predict(best.mod, type='state', newdata=newdat,\n",
    "                   appendData=TRUE)\n",
    "head(Elambda)\n",
    "Elambda.logit <- Elambda\n",
    "with(subset(Elambda.logit,dominante==\"Graminacee\"), {\n",
    "  plot(MDR, Predicted, xlab=\"MDR\", type=\"l\", # names = habitat,\n",
    "       ylab=\"Probabilità di presenza\", #ylim=c(-20, 40), # cex.names=0.7,\n",
    "       cex.lab=0.7, cex.axis=0.7, lwd=2, col=\"red\")\n",
    "  # lines(MDR, Predicted+SE, lty=3, col=\"dark grey\")\n",
    "  # lines(MDR, Predicted-SE, lty=3, col=\"dark grey\")\n",
    "  lines(MDR, upper, lty=2, col=\"grey\")\n",
    "  lines(MDR, lower, lty=2, col=\"grey\")\n",
    "})\n",
    "\n",
    "\n",
    "newdat1 <- data.frame(MDR = seq(min(sc.def$MDR), max(sc.def$MDR), length=100),\n",
    "                      temp = 13.14)\n",
    "Elambda.det <- predict(best.mod, type='det', newdata=newdat1,\n",
    "                   appendData=TRUE)\n",
    "with(Elambda.det, {\n",
    "  plot(MDR, Predicted, xlab=\"MDR\", type=\"l\", # names = habitat,\n",
    "       ylab=\"Probabilità di cattura\", #ylim=c(-20, 40), # cex.names=0.7,\n",
    "       cex.lab=0.7, cex.axis=0.7, lwd=2, col=\"red\")\n",
    "  # lines(MDR, Predicted+SE, lty=3, col=\"dark grey\")\n",
    "  # lines(MDR, Predicted-SE, lty=3, col=\"dark grey\")\n",
    "  lines(MDR, upper, lty=2, col=\"grey\")\n",
    "  lines(MDR, lower, lty=2, col=\"grey\")\n",
    "})\n",
    "newdat1 <- data.frame(MDR = mean(sc.def$MDR),\n",
    "                      temp = seq(7.99, 17.95, length=100))\n",
    "Elambda.det <- predict(best.mod, type='det', newdata=newdat1,\n",
    "                       appendData=TRUE)\n",
    "with(Elambda.det, {\n",
    "  plot(temp, Predicted, xlab=\"temperatura\", type=\"l\", # names = habitat,\n",
    "       ylab=\"Probabilità di cattura\", #ylim=c(-20, 40), # cex.names=0.7,\n",
    "       cex.lab=0.7, cex.axis=0.7, lwd=2, col=\"red\")\n",
    "  # lines(temp, Predicted+SE, lty=3, col=\"dark grey\")\n",
    "  # lines(temp, Predicted-SE, lty=3, col=\"dark grey\")\n",
    "  lines(temp, upper, lty=2, col=\"grey\")\n",
    "  lines(temp, lower, lty=2, col=\"grey\")\n",
    "})\n"
   ]
  }
 ],
 "metadata": {
  "kernelspec": {
   "display_name": "R",
   "language": "R",
   "name": "ir"
  },
  "language_info": {
   "codemirror_mode": "r",
   "file_extension": ".r",
   "mimetype": "text/x-r-source",
   "name": "R",
   "pygments_lexer": "r",
   "version": "3.6.3"
  }
 },
 "nbformat": 4,
 "nbformat_minor": 4
}
